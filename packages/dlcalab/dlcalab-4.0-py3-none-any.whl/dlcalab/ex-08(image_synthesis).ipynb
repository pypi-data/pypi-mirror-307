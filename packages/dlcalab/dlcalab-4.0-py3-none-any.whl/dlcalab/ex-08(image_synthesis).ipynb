{
 "cells": [
  {
   "cell_type": "code",
   "execution_count": null,
   "metadata": {},
   "outputs": [],
   "source": [
    "import os\n",
    "import numpy as np\n",
    "import tensorflow as tf\n",
    "from tensorflow.keras import layers, Model\n",
    "from tensorflow.keras.models import Sequential\n",
    "import cv2\n",
    "import matplotlib.pyplot as pt"
   ]
  },
  {
   "cell_type": "code",
   "execution_count": null,
   "metadata": {},
   "outputs": [],
   "source": [
    "!pip install kagglehub"
   ]
  },
  {
   "cell_type": "code",
   "execution_count": null,
   "metadata": {},
   "outputs": [],
   "source": [
    "!pip install numpy matplotlib seaborn tensorflow scikit-learn"
   ]
  },
  {
   "cell_type": "code",
   "execution_count": null,
   "metadata": {},
   "outputs": [],
   "source": [
    "import kagglehub\n",
    "path = kagglehub.dataset_download(\"adityajn105/flickr8k\")\n",
    "print(f\"Path to dataset files: {path}\")"
   ]
  },
  {
   "cell_type": "code",
   "execution_count": null,
   "metadata": {},
   "outputs": [],
   "source": [
    "caption_file = os.path.join(path, 'captions.txt')\n",
    "image_folder = os.path.join(path, 'Images')"
   ]
  },
  {
   "cell_type": "code",
   "execution_count": null,
   "metadata": {},
   "outputs": [],
   "source": [
    "def load_data(image_folder, caption_file):\n",
    "    image_paths, captions = [], []\n",
    "    imgs = []\n",
    "    with open(caption_file, 'r') as f:\n",
    "        for line in f:\n",
    "            line = line.strip().split(',')  # Assuming tab-separated file, adjust if comma\n",
    "            image_name, caption = line[0], line[1]\n",
    "            image_paths.append(os.path.join(image_folder, image_name))\n",
    "            captions.append(caption)\n",
    "            img = cv2.imread(os.path.join(image_folder, image_name))\n",
    "            imgs.append(img)\n",
    "    return imgs, image_paths, captions"
   ]
  },
  {
   "cell_type": "code",
   "execution_count": null,
   "metadata": {},
   "outputs": [],
   "source": [
    "imgs, image_paths, captions = load_data(image_folder, caption_file)"
   ]
  },
  {
   "cell_type": "code",
   "execution_count": null,
   "metadata": {},
   "outputs": [],
   "source": [
    "def build_generator():\n",
    "    noise_input = layers.Input(shape=(100,))\n",
    "    text_input = layers.Input(shape=(100,))\n",
    "    combined = layers.Concatenate()([noise_input, text_input])\n",
    "\n",
    "    model = Sequential()\n",
    "    model.add(layers.Dense(8 * 8 * 128, activation=\"relu\"))\n",
    "    model.add(layers.Conv2DTranspose(3, 4, strides=4, activation=\"tanh\"))\n",
    "\n",
    "    return model"
   ]
  },
  {
   "cell_type": "code",
   "execution_count": null,
   "metadata": {},
   "outputs": [],
   "source": [
    "def build_discriminator():\n",
    "    image_input = layers.Input(shape=(100,))\n",
    "    text_input = layers.Input(shape=(100,))\n",
    "    combined = layers.Concatenate()([image_input, text_input])\n",
    "\n",
    "    model = Sequential()\n",
    "    model.add(layers.Dense(128, activation=\"relu\"))\n",
    "    model.add(layers.Dense(1, activation=\"sigmoid\"))\n",
    "    return model"
   ]
  },
  {
   "cell_type": "code",
   "execution_count": null,
   "metadata": {},
   "outputs": [],
   "source": [
    "generator = build_generator()\n",
    "discriminator = build_discriminator()"
   ]
  },
  {
   "cell_type": "code",
   "execution_count": null,
   "metadata": {},
   "outputs": [],
   "source": [
    "generator.summary()"
   ]
  },
  {
   "cell_type": "code",
   "execution_count": null,
   "metadata": {},
   "outputs": [],
   "source": [
    "discriminator.summary()"
   ]
  },
  {
   "cell_type": "code",
   "execution_count": null,
   "metadata": {},
   "outputs": [],
   "source": [
    "fig = pt.figure(figsize=(10,10))\n",
    "\n",
    "for i in range(25):\n",
    "    pt.subplot(5,5,i+1)\n",
    "    pt.imshow(imgs[i])"
   ]
  }
 ],
 "metadata": {
  "kernelspec": {
   "display_name": "Python 3",
   "language": "python",
   "name": "python3"
  },
  "language_info": {
   "codemirror_mode": {
    "name": "ipython",
    "version": 3
   },
   "file_extension": ".py",
   "mimetype": "text/x-python",
   "name": "python",
   "nbconvert_exporter": "python",
   "pygments_lexer": "ipython3",
   "version": "3.11.9"
  }
 },
 "nbformat": 4,
 "nbformat_minor": 2
}
