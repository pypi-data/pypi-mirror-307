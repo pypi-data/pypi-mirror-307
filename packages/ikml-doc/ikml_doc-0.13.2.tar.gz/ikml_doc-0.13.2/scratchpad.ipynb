{
 "cells": [
  {
   "cell_type": "code",
   "execution_count": 1,
   "id": "23d76615-711c-4fad-933f-0311b9ceaa93",
   "metadata": {},
   "outputs": [],
   "source": [
    "from ikml_doc import IKML_Document\n",
    "from pprint import pprint"
   ]
  },
  {
   "cell_type": "code",
   "execution_count": 2,
   "id": "e84ebb1b-1328-4b1f-8e5d-4d4f2e91f5ed",
   "metadata": {},
   "outputs": [],
   "source": [
    "url = \"https://api.siddhantakosha.org/ikmldata?expand_inline=1&attrs_as_nodes=1&gpath=smap-granthas%2FTarkadeepika%2Fall-ikml.txt&ele_id=&email=chaitanya.lakkundi%40gmail.com&token=69bf097886dff242bc4df2a1d07d615f&fmt=ikml\"\n",
    "doc = IKML_Document(url=url)\n",
    "\n",
    "schema_url = \"https://api.siddhantakosha.org/ikmldata?expand_inline=1&expand_include=1&attrs_as_nodes=1&gpath=smap-granthas%2FVaisheshika-Sutram%2F..%2Fschema-ikml.txt&ele_id=&email=chaitanya.lakkundi%40gmail.com&token=69bf097886dff242bc4df2a1d07d615f&fmt=ikml\"\n",
    "schema_doc = IKML_Document()\n",
    "schema_doc.load(url=url)"
   ]
  },
  {
   "cell_type": "code",
   "execution_count": 3,
   "id": "23908b17-3c48-4a93-b185-aa97f8d793a1",
   "metadata": {},
   "outputs": [
    {
     "name": "stdout",
     "output_type": "stream",
     "text": [
      "{('va', 'pa'), ('id', 'pa'), ('smb', '.tatparya'), ('root', 'sambandhas'), ('root', 'root'), ('smb', '.targetid'), ('sambandhas', 'smb'), ('va', '.tatparya'), ('root', 'include'), ('root', 'va'), ('smb', '.vyakhyana'), ('smb', '.treatise_tag'), ('smb', '.srcid'), ('va', '.vyakhyana'), ('root', '.rel_id'), ('root', 'id'), ('va', '.vtyukti'), ('id', '.vtyukti'), ('smb', '.src_phrase'), ('smb', '.target_phrase'), ('smb', '.nyaya_sambandha')}\n"
     ]
    },
    {
     "data": {
      "text/plain": [
       "True"
      ]
     },
     "execution_count": 3,
     "metadata": {},
     "output_type": "execute_result"
    }
   ],
   "source": [
    "doc.validate_schema(schema_doc)"
   ]
  },
  {
   "cell_type": "code",
   "execution_count": 3,
   "id": "9dec22e8-6dee-43fa-9da4-a1d683986c80",
   "metadata": {},
   "outputs": [],
   "source": [
    "tgt = None\n",
    "for node in doc.iter():\n",
    "    if node.get(\"id\") == \"smaps.TarkaDpk.v.1.1\":\n",
    "        tgt = node\n",
    "        break"
   ]
  },
  {
   "cell_type": "code",
   "execution_count": 4,
   "id": "ffd16388-24c5-4bb5-ba5c-ca0ff974bb4e",
   "metadata": {},
   "outputs": [
    {
     "data": {
      "text/plain": [
       "['id', 'rel_id']"
      ]
     },
     "execution_count": 4,
     "metadata": {},
     "output_type": "execute_result"
    }
   ],
   "source": [
    "tgt.keys()"
   ]
  },
  {
   "cell_type": "code",
   "execution_count": 8,
   "id": "5769abb4-346b-4c80-b774-17fc9a5ed74d",
   "metadata": {},
   "outputs": [
    {
     "data": {
      "text/plain": [
       "(Node('/[root]/[va id=smaps.TarkaDpk.v.1 rel_id=1] दीपिका विश्वेश्वरं साम्बमूर्तिं प्रणिपत्य गिरां गुरुम् ।/[pa id=smaps.TarkaDpk.v.1.1 rel_id=1] दीपिका/[.vtykti] abc', content='abc', props={}, raw_data='[.vtykti] abc', tag_name='.vtykti'),)"
      ]
     },
     "execution_count": 8,
     "metadata": {},
     "output_type": "execute_result"
    }
   ],
   "source": [
    "tgt[\".vtykti\"] = \"abc\"\n",
    "tgt.children"
   ]
  },
  {
   "cell_type": "code",
   "execution_count": 14,
   "id": "f91d7a6d-3827-499a-b17f-8c3bf7f4928f",
   "metadata": {},
   "outputs": [],
   "source": [
    "from ikml_doc import IKML_Document\n",
    "from timeit import timeit"
   ]
  },
  {
   "cell_type": "code",
   "execution_count": 21,
   "id": "533466ee-36f7-4420-aed3-10bd48e3e27b",
   "metadata": {},
   "outputs": [
    {
     "data": {
      "text/plain": [
       "5.390798075999555"
      ]
     },
     "execution_count": 21,
     "metadata": {},
     "output_type": "execute_result"
    }
   ],
   "source": [
    "timeit(lambda: IKML_Document(url=url), number=2)"
   ]
  },
  {
   "cell_type": "code",
   "execution_count": 11,
   "id": "16e1d4e9-326a-47a9-9a04-7a62887daf3c",
   "metadata": {},
   "outputs": [
    {
     "data": {
      "text/plain": [
       "Node('/[root]/[va id=smaps.Mahb.v.1 rel_id=1] अथ शब्दानुशासनम्/[pa id=smaps.Mahb.v.1.1 rel_id=1] अथ', content='अथ', props={'id': 'smaps.Mahb.v.1.1', 'rel_id': '1'}, raw_data='[pa id=smaps.Mahb.v.1.1 rel_id=1] अथ', tag_name='pa')"
      ]
     },
     "execution_count": 11,
     "metadata": {},
     "output_type": "execute_result"
    }
   ],
   "source": [
    "url = \"https://api.siddhantakosha.org/ikmldata?expand_inline=1&attrs_as_nodes=1&gpath=smap-granthas%2FVyakarana-Mahabhashyam%2Fall-ikml.txt&ele_id=&email=public%40example.com&token=474b227672a6c486098d372472c287e0&fmt=ikml\"\n",
    "doc = IKML_Document(url=url)\n",
    "\n",
    "tgt = None\n",
    "for node in doc.iter():\n",
    "    if node.get(\"id\") == \"smaps.Mahb.v.1.1\":\n",
    "        tgt = node\n",
    "tgt"
   ]
  },
  {
   "cell_type": "code",
   "execution_count": 35,
   "id": "d49f6e70-4ff5-472a-897d-ba504e6d151b",
   "metadata": {},
   "outputs": [
    {
     "data": {
      "text/plain": [
       "(Node('/[root]/[va id=smaps.Mahb.v.1 rel_id=1] अथ शब्दानुशासनम्/[pa id=smaps.Mahb.v.1.1 rel_id=1] अथ/[.split] atha', content='atha', props={}, raw_data='[.split] atha', tag_name='.split'),)"
      ]
     },
     "execution_count": 35,
     "metadata": {},
     "output_type": "execute_result"
    }
   ],
   "source": [
    "tgt[\".split\"] = \"atha\"\n",
    "tgt.children"
   ]
  }
 ],
 "metadata": {
  "kernelspec": {
   "display_name": "Python 3 (ipykernel)",
   "language": "python",
   "name": "python3"
  },
  "language_info": {
   "codemirror_mode": {
    "name": "ipython",
    "version": 3
   },
   "file_extension": ".py",
   "mimetype": "text/x-python",
   "name": "python",
   "nbconvert_exporter": "python",
   "pygments_lexer": "ipython3",
   "version": "3.10.12"
  }
 },
 "nbformat": 4,
 "nbformat_minor": 5
}
