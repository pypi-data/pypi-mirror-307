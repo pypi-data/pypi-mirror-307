{
 "cells": [
  {
   "cell_type": "markdown",
   "metadata": {},
   "source": [
    "This notebook shows an example of importing and scheduling another notebook in ModelOps. The notebook that's being scheduled is available [in artifacts directory](./artifacts/BYO_Notebook.ipynb)."
   ]
  },
  {
   "cell_type": "markdown",
   "metadata": {},
   "source": [
    "# Initialize a client"
   ]
  },
  {
   "cell_type": "markdown",
   "metadata": {},
   "source": [
    "First, we need to initialize a client. It will pickup ModelOps instance configuration automatically from `~/.aoa/` directory. Alternatively, you could provide connection parameters to `AoaClient` constructor."
   ]
  },
  {
   "cell_type": "code",
   "execution_count": 16,
   "metadata": {},
   "outputs": [
    {
     "name": "stderr",
     "output_type": "stream",
     "text": [
      "WARNING:aoa.api_client:Certificate validation disabled. Adding certificate verification is strongly advised\n",
      "WARNING:aoa.api_client:Certificate validation disabled. Adding certificate verification is strongly advised\n"
     ]
    }
   ],
   "source": [
    "from aoa import AoaClient\n",
    "\n",
    "client = AoaClient(ssl_verify=False)"
   ]
  },
  {
   "cell_type": "markdown",
   "metadata": {},
   "source": [
    "Let's add a couple of helper functions that will help us to format some API outputs, and let's see if we have a project configured."
   ]
  },
  {
   "cell_type": "code",
   "execution_count": 17,
   "metadata": {},
   "outputs": [
    {
     "data": {
      "text/html": [
       "<div>\n",
       "<style scoped>\n",
       "    .dataframe tbody tr th:only-of-type {\n",
       "        vertical-align: middle;\n",
       "    }\n",
       "\n",
       "    .dataframe tbody tr th {\n",
       "        vertical-align: top;\n",
       "    }\n",
       "\n",
       "    .dataframe thead th {\n",
       "        text-align: right;\n",
       "    }\n",
       "</style>\n",
       "<table border=\"1\" class=\"dataframe\">\n",
       "  <thead>\n",
       "    <tr style=\"text-align: right;\">\n",
       "      <th></th>\n",
       "      <th>id</th>\n",
       "      <th>name</th>\n",
       "      <th>description</th>\n",
       "      <th>groupId</th>\n",
       "      <th>gitRepositoryUrl</th>\n",
       "      <th>createdAt</th>\n",
       "    </tr>\n",
       "  </thead>\n",
       "  <tbody>\n",
       "    <tr>\n",
       "      <th>0</th>\n",
       "      <td>70d4659b-92a2-4723-841a-9ba5629b5f27</td>\n",
       "      <td>Demo</td>\n",
       "      <td>Example ML Use Cases</td>\n",
       "      <td>DEMO</td>\n",
       "      <td>/app/built-in/demo-models</td>\n",
       "      <td>2019-01-13T21:04:06.112+00:00</td>\n",
       "    </tr>\n",
       "    <tr>\n",
       "      <th>1</th>\n",
       "      <td>23e1df4b-b630-47a1-ab80-7ad5385fcd8d</td>\n",
       "      <td>Test</td>\n",
       "      <td>Test Use Cases</td>\n",
       "      <td>DEMO</td>\n",
       "      <td>https://github.com/teradata/modelops-demo-models.git</td>\n",
       "      <td>2019-01-13T21:04:06.112+00:00</td>\n",
       "    </tr>\n",
       "  </tbody>\n",
       "</table>\n",
       "</div>"
      ],
      "text/plain": [
       "                                     id  name           description groupId  \\\n",
       "0  70d4659b-92a2-4723-841a-9ba5629b5f27  Demo  Example ML Use Cases    DEMO   \n",
       "1  23e1df4b-b630-47a1-ab80-7ad5385fcd8d  Test        Test Use Cases    DEMO   \n",
       "\n",
       "                                       gitRepositoryUrl  \\\n",
       "0                             /app/built-in/demo-models   \n",
       "1  https://github.com/teradata/modelops-demo-models.git   \n",
       "\n",
       "                       createdAt  \n",
       "0  2019-01-13T21:04:06.112+00:00  \n",
       "1  2019-01-13T21:04:06.112+00:00  "
      ]
     },
     "execution_count": 17,
     "metadata": {},
     "output_type": "execute_result"
    }
   ],
   "source": [
    "import pandas as pd\n",
    "\n",
    "pd.set_option(\"max_colwidth\", 140)\n",
    "\n",
    "\n",
    "def dict_to_frame(d, columns=None):\n",
    "    if columns:\n",
    "        return pd.DataFrame(\n",
    "            [[k, v] for (k, v) in list(d.items()) if k in columns],\n",
    "            columns=[\"attribute\", \"value\"],\n",
    "        )\n",
    "    else:\n",
    "        return pd.DataFrame(list(d.items()), columns=[\"attribute\", \"value\"])\n",
    "\n",
    "\n",
    "def list_to_frame(d, columns):\n",
    "    return pd.DataFrame(\n",
    "        [[l.get(column) for column in columns] for l in d], columns=columns\n",
    "    )\n",
    "\n",
    "\n",
    "list_to_frame(\n",
    "    list(client.projects()),\n",
    "    [\"id\", \"name\", \"description\", \"groupId\", \"gitRepositoryUrl\", \"createdAt\"],\n",
    ")"
   ]
  },
  {
   "cell_type": "markdown",
   "metadata": {},
   "source": [
    "Next, we'll configure a current project for our client instance. It will allow us to skip project ID for all other calls we make."
   ]
  },
  {
   "cell_type": "code",
   "execution_count": 18,
   "metadata": {},
   "outputs": [],
   "source": [
    "client.set_project_id(\"70d4659b-92a2-4723-841a-9ba5629b5f27\")"
   ]
  },
  {
   "cell_type": "markdown",
   "metadata": {},
   "source": [
    "Now we can ask ModelOps to describe this project."
   ]
  },
  {
   "cell_type": "code",
   "execution_count": 19,
   "metadata": {},
   "outputs": [
    {
     "data": {
      "text/html": [
       "<div>\n",
       "<style scoped>\n",
       "    .dataframe tbody tr th:only-of-type {\n",
       "        vertical-align: middle;\n",
       "    }\n",
       "\n",
       "    .dataframe tbody tr th {\n",
       "        vertical-align: top;\n",
       "    }\n",
       "\n",
       "    .dataframe thead th {\n",
       "        text-align: right;\n",
       "    }\n",
       "</style>\n",
       "<table border=\"1\" class=\"dataframe\">\n",
       "  <thead>\n",
       "    <tr style=\"text-align: right;\">\n",
       "      <th></th>\n",
       "      <th>attribute</th>\n",
       "      <th>value</th>\n",
       "    </tr>\n",
       "  </thead>\n",
       "  <tbody>\n",
       "    <tr>\n",
       "      <th>0</th>\n",
       "      <td>name</td>\n",
       "      <td>Demo</td>\n",
       "    </tr>\n",
       "    <tr>\n",
       "      <th>1</th>\n",
       "      <td>id</td>\n",
       "      <td>70d4659b-92a2-4723-841a-9ba5629b5f27</td>\n",
       "    </tr>\n",
       "    <tr>\n",
       "      <th>2</th>\n",
       "      <td>description</td>\n",
       "      <td>Example ML Use Cases</td>\n",
       "    </tr>\n",
       "    <tr>\n",
       "      <th>3</th>\n",
       "      <td>groupId</td>\n",
       "      <td>DEMO</td>\n",
       "    </tr>\n",
       "    <tr>\n",
       "      <th>4</th>\n",
       "      <td>gitRepositoryUrl</td>\n",
       "      <td>/app/built-in/demo-models</td>\n",
       "    </tr>\n",
       "    <tr>\n",
       "      <th>5</th>\n",
       "      <td>branch</td>\n",
       "      <td>tmo</td>\n",
       "    </tr>\n",
       "    <tr>\n",
       "      <th>6</th>\n",
       "      <td>gitCredentials</td>\n",
       "      <td>{'source': 'environment'}</td>\n",
       "    </tr>\n",
       "    <tr>\n",
       "      <th>7</th>\n",
       "      <td>createdAt</td>\n",
       "      <td>2019-01-13T21:04:06.112+00:00</td>\n",
       "    </tr>\n",
       "    <tr>\n",
       "      <th>8</th>\n",
       "      <td>archived</td>\n",
       "      <td>False</td>\n",
       "    </tr>\n",
       "    <tr>\n",
       "      <th>9</th>\n",
       "      <td>gitStatus</td>\n",
       "      <td>{'healthy': True, 'cloneHealthy': True, 'pullHealthy': True, 'lastPullSuccessDate': '2024-11-08T08:35:27.768+00:00', 'monitored': True}</td>\n",
       "    </tr>\n",
       "  </tbody>\n",
       "</table>\n",
       "</div>"
      ],
      "text/plain": [
       "          attribute  \\\n",
       "0              name   \n",
       "1                id   \n",
       "2       description   \n",
       "3           groupId   \n",
       "4  gitRepositoryUrl   \n",
       "5            branch   \n",
       "6    gitCredentials   \n",
       "7         createdAt   \n",
       "8          archived   \n",
       "9         gitStatus   \n",
       "\n",
       "                                                                                                                                     value  \n",
       "0                                                                                                                                     Demo  \n",
       "1                                                                                                     70d4659b-92a2-4723-841a-9ba5629b5f27  \n",
       "2                                                                                                                     Example ML Use Cases  \n",
       "3                                                                                                                                     DEMO  \n",
       "4                                                                                                                /app/built-in/demo-models  \n",
       "5                                                                                                                                      tmo  \n",
       "6                                                                                                                {'source': 'environment'}  \n",
       "7                                                                                                            2019-01-13T21:04:06.112+00:00  \n",
       "8                                                                                                                                    False  \n",
       "9  {'healthy': True, 'cloneHealthy': True, 'pullHealthy': True, 'lastPullSuccessDate': '2024-11-08T08:35:27.768+00:00', 'monitored': True}  "
      ]
     },
     "execution_count": 19,
     "metadata": {},
     "output_type": "execute_result"
    }
   ],
   "source": [
    "client.describe_current_project()"
   ]
  },
  {
   "cell_type": "markdown",
   "metadata": {},
   "source": [
    "# Define BYOM model and import model version (the notebook itself)"
   ]
  },
  {
   "cell_type": "markdown",
   "metadata": {},
   "source": [
    "First, we should define what we want to import:\n",
    "1. The notebook itself\n",
    "2. Optionally, `requirements.txt` file for any additional Python requirements\n",
    "3. Any additional artifacts"
   ]
  },
  {
   "cell_type": "code",
   "execution_count": 20,
   "metadata": {},
   "outputs": [],
   "source": [
    "files = [\"./artifacts/BYO_Notebook.ipynb\", \"./artifacts/requirements.txt\"]\n",
    "language = \"Jupyter\""
   ]
  },
  {
   "cell_type": "markdown",
   "metadata": {},
   "source": [
    "Next, let's define a model in ModelOps, under which we'll register this notebook as a new model version. Alternatively, you could use an existing model, make sure its ID is in `model` variable."
   ]
  },
  {
   "cell_type": "code",
   "execution_count": 21,
   "metadata": {},
   "outputs": [],
   "source": [
    "import uuid\n",
    "\n",
    "import_id = str(uuid.uuid4())\n",
    "\n",
    "model_dict = {\n",
    "    \"name\": f\"{language}_Demo_{uuid.uuid4().clock_seq}\",\n",
    "    \"description\": f\"{language} model defined from Python SDK\",\n",
    "    \"language\": language,\n",
    "}\n",
    "model_response = client.models().save(model_dict)\n",
    "model = model_response[\"id\"]"
   ]
  },
  {
   "cell_type": "markdown",
   "metadata": {},
   "source": [
    "Next, we upload desired artifacts. Notice that we should preserve `import_id` for additional imports and to instruct ModelOps to registed imported artifacts as BYOM model version."
   ]
  },
  {
   "cell_type": "code",
   "execution_count": 22,
   "metadata": {},
   "outputs": [],
   "source": [
    "client.trained_model_artefacts().upload_artefacts(import_id, artefacts=files)"
   ]
  },
  {
   "cell_type": "markdown",
   "metadata": {},
   "source": [
    "Now, we can register this imported artifact as a BYOM model version. `import_request` here is very simple:\n",
    "- `artefactImportId` is that `import_id` we've used before to upload artifacts\n",
    "- `externalId` is any non-empty string that you could use to track this particular artifact (e.g. Notebook identifier in a different system)"
   ]
  },
  {
   "cell_type": "code",
   "execution_count": 23,
   "metadata": {},
   "outputs": [
    {
     "name": "stdout",
     "output_type": "stream",
     "text": [
      "Model imported\n"
     ]
    }
   ],
   "source": [
    "import_request = {\"artefactImportId\": import_id, \"externalId\": str(uuid.uuid4())}\n",
    "import_job = client.models().import_byom(model, import_request)\n",
    "imported_model_id = import_job[\"metadata\"][\"trainedModel\"][\"id\"]\n",
    "client.jobs().wait(import_job[\"id\"])\n",
    "print(\"Model imported\")"
   ]
  },
  {
   "cell_type": "markdown",
   "metadata": {},
   "source": [
    "# Approve imported model version (notebook) for production deployment"
   ]
  },
  {
   "cell_type": "markdown",
   "metadata": {},
   "source": [
    "The next step is simple, but important. We have to approve the model version in order to allow us (and others) to deploy it. We need just a model version ID, and we are free to provide any comment for the approval."
   ]
  },
  {
   "cell_type": "code",
   "execution_count": 24,
   "metadata": {},
   "outputs": [
    {
     "data": {
      "text/html": [
       "<div>\n",
       "<style scoped>\n",
       "    .dataframe tbody tr th:only-of-type {\n",
       "        vertical-align: middle;\n",
       "    }\n",
       "\n",
       "    .dataframe tbody tr th {\n",
       "        vertical-align: top;\n",
       "    }\n",
       "\n",
       "    .dataframe thead th {\n",
       "        text-align: right;\n",
       "    }\n",
       "</style>\n",
       "<table border=\"1\" class=\"dataframe\">\n",
       "  <thead>\n",
       "    <tr style=\"text-align: right;\">\n",
       "      <th></th>\n",
       "      <th>attribute</th>\n",
       "      <th>value</th>\n",
       "    </tr>\n",
       "  </thead>\n",
       "  <tbody>\n",
       "    <tr>\n",
       "      <th>0</th>\n",
       "      <td>id</td>\n",
       "      <td>474f25da-7f98-4964-85c3-d1522996ed13</td>\n",
       "    </tr>\n",
       "    <tr>\n",
       "      <th>1</th>\n",
       "      <td>projectId</td>\n",
       "      <td>70d4659b-92a2-4723-841a-9ba5629b5f27</td>\n",
       "    </tr>\n",
       "    <tr>\n",
       "      <th>2</th>\n",
       "      <td>ownerId</td>\n",
       "      <td>admin</td>\n",
       "    </tr>\n",
       "    <tr>\n",
       "      <th>3</th>\n",
       "      <td>createdAt</td>\n",
       "      <td>2024-11-08T08:35:44.953+00:00</td>\n",
       "    </tr>\n",
       "    <tr>\n",
       "      <th>4</th>\n",
       "      <td>trainedModelId</td>\n",
       "      <td>2aaad0c4-4f56-4833-be02-a6de04560ba4</td>\n",
       "    </tr>\n",
       "    <tr>\n",
       "      <th>5</th>\n",
       "      <td>status</td>\n",
       "      <td>APPROVED</td>\n",
       "    </tr>\n",
       "    <tr>\n",
       "      <th>6</th>\n",
       "      <td>metadata</td>\n",
       "      <td>{'comments': 'LGTM'}</td>\n",
       "    </tr>\n",
       "  </tbody>\n",
       "</table>\n",
       "</div>"
      ],
      "text/plain": [
       "        attribute                                 value\n",
       "0              id  474f25da-7f98-4964-85c3-d1522996ed13\n",
       "1       projectId  70d4659b-92a2-4723-841a-9ba5629b5f27\n",
       "2         ownerId                                 admin\n",
       "3       createdAt         2024-11-08T08:35:44.953+00:00\n",
       "4  trainedModelId  2aaad0c4-4f56-4833-be02-a6de04560ba4\n",
       "5          status                              APPROVED\n",
       "6        metadata                  {'comments': 'LGTM'}"
      ]
     },
     "execution_count": 24,
     "metadata": {},
     "output_type": "execute_result"
    }
   ],
   "source": [
    "dict_to_frame(client.trained_models().approve(imported_model_id, comments=\"LGTM\"))"
   ]
  },
  {
   "cell_type": "markdown",
   "metadata": {},
   "source": [
    "# Schedule a notebook for single execution"
   ]
  },
  {
   "cell_type": "markdown",
   "metadata": {},
   "source": [
    "Once the model version is approved, we can schedule it for regular (or singular) execution. First, we need a `dataset_template` identifier, that will be provided as metadata to our notebook."
   ]
  },
  {
   "cell_type": "code",
   "execution_count": 25,
   "metadata": {},
   "outputs": [
    {
     "data": {
      "text/html": [
       "<div>\n",
       "<style scoped>\n",
       "    .dataframe tbody tr th:only-of-type {\n",
       "        vertical-align: middle;\n",
       "    }\n",
       "\n",
       "    .dataframe tbody tr th {\n",
       "        vertical-align: top;\n",
       "    }\n",
       "\n",
       "    .dataframe thead th {\n",
       "        text-align: right;\n",
       "    }\n",
       "</style>\n",
       "<table border=\"1\" class=\"dataframe\">\n",
       "  <thead>\n",
       "    <tr style=\"text-align: right;\">\n",
       "      <th></th>\n",
       "      <th>attribute</th>\n",
       "      <th>value</th>\n",
       "    </tr>\n",
       "  </thead>\n",
       "  <tbody>\n",
       "    <tr>\n",
       "      <th>0</th>\n",
       "      <td>id</td>\n",
       "      <td>4053c309-2811-4f03-9fb4-e99c728ecdfb</td>\n",
       "    </tr>\n",
       "    <tr>\n",
       "      <th>1</th>\n",
       "      <td>name</td>\n",
       "      <td>PIMA Diabetes</td>\n",
       "    </tr>\n",
       "    <tr>\n",
       "      <th>2</th>\n",
       "      <td>description</td>\n",
       "      <td>Vantage PIMA diabetes Dataset Template</td>\n",
       "    </tr>\n",
       "  </tbody>\n",
       "</table>\n",
       "</div>"
      ],
      "text/plain": [
       "     attribute                                   value\n",
       "0           id    4053c309-2811-4f03-9fb4-e99c728ecdfb\n",
       "1         name                           PIMA Diabetes\n",
       "2  description  Vantage PIMA diabetes Dataset Template"
      ]
     },
     "execution_count": 25,
     "metadata": {},
     "output_type": "execute_result"
    }
   ],
   "source": [
    "dataset_template = client.dataset_templates().find_by_name_like(\"PIMA\")[\"_embedded\"][\n",
    "    \"datasetTemplates\"\n",
    "][0]\n",
    "dict_to_frame(dataset_template, columns=[\"id\", \"name\", \"description\"])"
   ]
  },
  {
   "cell_type": "markdown",
   "metadata": {},
   "source": [
    "Next, we define a deployment request and use it to deploy the model version."
   ]
  },
  {
   "cell_type": "code",
   "execution_count": 26,
   "metadata": {},
   "outputs": [
    {
     "name": "stdout",
     "output_type": "stream",
     "text": [
      "Model deployed\n"
     ]
    }
   ],
   "source": [
    "deploy_request = {\n",
    "    \"engineType\": \"DOCKER_BATCH\",\n",
    "    \"engineTypeConfig\": {\n",
    "        \"dockerImage\": \"artifacts.td.teradata.com/tdproduct-docker-snapshot/avmo/vmo-python-base:3.11.4\",\n",
    "        \"engine\": \"jupyter\",\n",
    "        \"resources\": {\n",
    "            \"memory\": \"2g\",\n",
    "            \"cpu\": \"1\",\n",
    "        },\n",
    "    },\n",
    "    \"language\": \"jupyter\",\n",
    "    \"datasetConnectionId\": client.get_default_connection_id(),\n",
    "    \"byomModelLocation\": {\"database\": \"trng_modelops\", \"table\": \"aoa_byom_models\"},\n",
    "    \"datasetTemplateId\": dataset_template[\"id\"],\n",
    "    \"cron\": \"@once\",\n",
    "    \"publishOnly\": \"false\",\n",
    "    \"customProperties\": {},\n",
    "}\n",
    "\n",
    "deploy_job = client.trained_models().deploy(imported_model_id, deploy_request)\n",
    "\n",
    "client.jobs().wait(deploy_job[\"id\"])\n",
    "print(\"Model deployed\")"
   ]
  },
  {
   "cell_type": "markdown",
   "metadata": {},
   "source": [
    "# Monitor the prediction job"
   ]
  },
  {
   "cell_type": "markdown",
   "metadata": {},
   "source": [
    "Once the model version is deployed, we should start looking for prediction jobs initiated by this deployment:"
   ]
  },
  {
   "cell_type": "code",
   "execution_count": 27,
   "metadata": {},
   "outputs": [
    {
     "data": {
      "text/html": [
       "<div>\n",
       "<style scoped>\n",
       "    .dataframe tbody tr th:only-of-type {\n",
       "        vertical-align: middle;\n",
       "    }\n",
       "\n",
       "    .dataframe tbody tr th {\n",
       "        vertical-align: top;\n",
       "    }\n",
       "\n",
       "    .dataframe thead th {\n",
       "        text-align: right;\n",
       "    }\n",
       "</style>\n",
       "<table border=\"1\" class=\"dataframe\">\n",
       "  <thead>\n",
       "    <tr style=\"text-align: right;\">\n",
       "      <th></th>\n",
       "      <th>id</th>\n",
       "      <th>type</th>\n",
       "      <th>status</th>\n",
       "      <th>createdAt</th>\n",
       "      <th>updatedAt</th>\n",
       "    </tr>\n",
       "  </thead>\n",
       "  <tbody>\n",
       "    <tr>\n",
       "      <th>0</th>\n",
       "      <td>83b8a2bf-a8b5-459b-8d97-d22ecbfc5329</td>\n",
       "      <td>BATCH_PREDICTION</td>\n",
       "      <td>ASSIGNED</td>\n",
       "      <td>2024-11-08T08:35:45.131+00:00</td>\n",
       "      <td>2024-11-08T08:35:45.680+00:00</td>\n",
       "    </tr>\n",
       "  </tbody>\n",
       "</table>\n",
       "</div>"
      ],
      "text/plain": [
       "                                     id              type    status  \\\n",
       "0  83b8a2bf-a8b5-459b-8d97-d22ecbfc5329  BATCH_PREDICTION  ASSIGNED   \n",
       "\n",
       "                       createdAt                      updatedAt  \n",
       "0  2024-11-08T08:35:45.131+00:00  2024-11-08T08:35:45.680+00:00  "
      ]
     },
     "execution_count": 27,
     "metadata": {},
     "output_type": "execute_result"
    }
   ],
   "source": [
    "deployment = client.deployments().find_by_deployment_job_id(deploy_job[\"id\"])\n",
    "jobs = client.jobs().find_by_deployment_id(deployment[\"id\"], \"expandJob\")[\"_embedded\"][\n",
    "    \"jobs\"\n",
    "]\n",
    "list_to_frame(jobs, [\"id\", \"type\", \"status\", \"createdAt\", \"updatedAt\"])"
   ]
  },
  {
   "cell_type": "markdown",
   "metadata": {},
   "source": [
    "Looks like there's at least a single job, let's monitor it:"
   ]
  },
  {
   "cell_type": "code",
   "execution_count": 28,
   "metadata": {},
   "outputs": [
    {
     "name": "stdout",
     "output_type": "stream",
     "text": [
      "Job completed\n"
     ]
    }
   ],
   "source": [
    "if len(jobs) == 1:\n",
    "    client.jobs().wait(jobs[0][\"id\"])\n",
    "    print(\"Job completed\")\n",
    "elif len(jobs) == 0:\n",
    "    print(\"No jobs found\")\n",
    "else:\n",
    "    print(\"Multiple jobs found\")"
   ]
  },
  {
   "cell_type": "code",
   "execution_count": null,
   "metadata": {},
   "outputs": [],
   "source": []
  }
 ],
 "metadata": {
  "kernelspec": {
   "display_name": "venv",
   "language": "python",
   "name": "python3"
  },
  "language_info": {
   "codemirror_mode": {
    "name": "ipython",
    "version": 3
   },
   "file_extension": ".py",
   "mimetype": "text/x-python",
   "name": "python",
   "nbconvert_exporter": "python",
   "pygments_lexer": "ipython3",
   "version": "3.9.6"
  }
 },
 "nbformat": 4,
 "nbformat_minor": 2
}
