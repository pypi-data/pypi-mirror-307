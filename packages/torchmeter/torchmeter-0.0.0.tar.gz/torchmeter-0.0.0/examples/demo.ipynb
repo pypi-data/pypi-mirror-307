{
 "cells": [
  {
   "cell_type": "markdown",
   "metadata": {},
   "source": [
    "# Demonstrate your project here\n",
    "\n",
    "- With `Jupyter Notebook`, you can showcase your project, including code, results and visualizations.\n",
    "\n",
    "- `Jupyter Notebook` can save the running results of code blocks, including output text, images, tables, etc.\n",
    "\n",
    "- Therefore, if your project has rich outputs, you can show the correct operation method and its effect of your project here."
   ]
  },
  {
   "cell_type": "code",
   "execution_count": null,
   "metadata": {},
   "outputs": [],
   "source": [
    "# --------------------- Below is an example ---------------------"
   ]
  },
  {
   "cell_type": "code",
   "execution_count": null,
   "metadata": {},
   "outputs": [
    {
     "name": "stdout",
     "output_type": "stream",
     "text": [
      "Looking in indexes: https://test.pypi.org/simple\n",
      "Collecting patest\n",
      "  Using cached https://test-files.pythonhosted.org/packages/c5/1f/83a14b343305c5c0a453f49d1ce7d160bd542734109e1796918caf8c91d1/patest-1.0.0-py3-none-any.whl.metadata (6.9 kB)\n",
      "Requirement already satisfied: isort in /home/hzy/.conda/envs/hzy_env/lib/python3.12/site-packages (from patest) (4.3.21)\n",
      "Using cached https://test-files.pythonhosted.org/packages/c5/1f/83a14b343305c5c0a453f49d1ce7d160bd542734109e1796918caf8c91d1/patest-1.0.0-py3-none-any.whl (6.4 kB)\n",
      "Installing collected packages: patest\n",
      "Successfully installed patest-1.0.0\n",
      "Note: you may need to restart the kernel to use updated packages.\n"
     ]
    }
   ],
   "source": [
    "# Note: the `patest` here is a simple package created by myself\n",
    "#       that only use for this demo.\n",
    "%pip install patest -i https://test.pypi.org/simple"
   ]
  },
  {
   "cell_type": "code",
   "execution_count": 1,
   "metadata": {},
   "outputs": [
    {
     "name": "stdout",
     "output_type": "stream",
     "text": [
      "Greetings, dear Sir Ahzyuan!\n",
      "Greetings, dear Sir Ahzyuan!\n",
      "Greetings, dear Sir Ahzyuan!\n",
      "None\n"
     ]
    }
   ],
   "source": [
    "# This is an example of calling the `patest` api in code.\n",
    "\n",
    "from patest import greet\n",
    "\n",
    "print(greet(name='Ahzyuan',\n",
    "            gender='masculine',\n",
    "            knight=True,\n",
    "            count=3))"
   ]
  },
  {
   "cell_type": "code",
   "execution_count": null,
   "metadata": {},
   "outputs": [
    {
     "name": "stdout",
     "output_type": "stream",
     "text": [
      "Greetings, dear Ms. Ahzyuan!\n",
      "Greetings, dear Ms. Ahzyuan!\n",
      "Greetings, dear Ms. Ahzyuan!\n"
     ]
    }
   ],
   "source": [
    "# This is an example of calling the `patest` command-line tool.\n",
    "\n",
    "!patest Ahzyuan --gender feminine --count 3"
   ]
  }
 ],
 "metadata": {
  "kernelspec": {
   "display_name": "hzy_env",
   "language": "python",
   "name": "python3"
  },
  "language_info": {
   "codemirror_mode": {
    "name": "ipython",
    "version": 3
   },
   "file_extension": ".py",
   "mimetype": "text/x-python",
   "name": "python",
   "nbconvert_exporter": "python",
   "pygments_lexer": "ipython3",
   "version": "3.12.4"
  }
 },
 "nbformat": 4,
 "nbformat_minor": 2
}
