{
 "cells": [
  {
   "cell_type": "code",
   "execution_count": 1,
   "id": "58539af8-fd39-431c-903f-d88df267d77d",
   "metadata": {},
   "outputs": [],
   "source": [
    "from pyjaspar import jaspardb"
   ]
  },
  {
   "cell_type": "code",
   "execution_count": 2,
   "id": "5e04e83c-0165-40ee-94c0-31fcbb48bb72",
   "metadata": {},
   "outputs": [],
   "source": [
    "jdb_obj = jaspardb(release='JASPAR2024')"
   ]
  },
  {
   "cell_type": "code",
   "execution_count": 5,
   "id": "cef68016-b06a-4bc2-9921-c6320462af28",
   "metadata": {},
   "outputs": [],
   "source": [
    "motifs = jdb_obj.fetch_motifs(\n",
    "collection = 'CORE',\n",
    "tax_group = 'vertebrates',\n",
    "species='9606'\n",
    ")"
   ]
  },
  {
   "cell_type": "code",
   "execution_count": 7,
   "id": "f7195456-b2f9-48f4-b85f-155dc675b443",
   "metadata": {},
   "outputs": [
    {
     "data": {
      "text/plain": [
       "720"
      ]
     },
     "execution_count": 7,
     "metadata": {},
     "output_type": "execute_result"
    }
   ],
   "source": [
    "len(motifs)"
   ]
  },
  {
   "cell_type": "code",
   "execution_count": 23,
   "id": "0f2134b1-7a3e-4896-a5bc-20b24a031cae",
   "metadata": {},
   "outputs": [],
   "source": [
    "motif_dict = {\n",
    "    f'{m.matrix_id}_{m.name}': np.array(list(motifs[0].pwm.values())) \n",
    "    for m in motifs\n",
    "}"
   ]
  },
  {
   "cell_type": "code",
   "execution_count": 26,
   "id": "d338d058-46e7-47f6-b232-c9571e9ff79f",
   "metadata": {},
   "outputs": [],
   "source": [
    "from grelu.io.motifs import read_meme_file"
   ]
  },
  {
   "cell_type": "code",
   "execution_count": 27,
   "id": "f81f9cda-1499-47e5-8fd2-81dd951f861e",
   "metadata": {},
   "outputs": [
    {
     "name": "stderr",
     "output_type": "stream",
     "text": [
      "/opt/conda/lib/python3.11/site-packages/tqdm/auto.py:21: TqdmWarning: IProgress not found. Please update jupyter and ipywidgets. See https://ipywidgets.readthedocs.io/en/stable/user_install.html\n",
      "  from .autonotebook import tqdm as notebook_tqdm\n"
     ]
    },
    {
     "ename": "Exception",
     "evalue": "https://hocomoco12.autosome.org/final_bundle/hocomoco12/H12CORE/formatted_motifs/H12CORE_meme_format.meme is not a valid file.",
     "output_type": "error",
     "traceback": [
      "\u001b[0;31m---------------------------------------------------------------------------\u001b[0m",
      "\u001b[0;31mException\u001b[0m                                 Traceback (most recent call last)",
      "Cell \u001b[0;32mIn[27], line 1\u001b[0m\n\u001b[0;32m----> 1\u001b[0m \u001b[43mread_meme_file\u001b[49m\u001b[43m(\u001b[49m\u001b[38;5;124;43m'\u001b[39;49m\u001b[38;5;124;43mhttps://hocomoco12.autosome.org/final_bundle/hocomoco12/H12CORE/formatted_motifs/H12CORE_meme_format.meme\u001b[39;49m\u001b[38;5;124;43m'\u001b[39;49m\u001b[43m)\u001b[49m\n",
      "File \u001b[0;32m/opt/conda/lib/python3.11/site-packages/grelu/io/motifs.py:32\u001b[0m, in \u001b[0;36mread_meme_file\u001b[0;34m(file, names, n_motifs)\u001b[0m\n\u001b[1;32m     29\u001b[0m \u001b[38;5;28;01mfrom\u001b[39;00m \u001b[38;5;21;01mgrelu\u001b[39;00m\u001b[38;5;21;01m.\u001b[39;00m\u001b[38;5;21;01mresources\u001b[39;00m \u001b[38;5;28;01mimport\u001b[39;00m get_meme_file_path\n\u001b[1;32m     31\u001b[0m \u001b[38;5;66;03m# Get file path\u001b[39;00m\n\u001b[0;32m---> 32\u001b[0m file \u001b[38;5;241m=\u001b[39m \u001b[43mget_meme_file_path\u001b[49m\u001b[43m(\u001b[49m\u001b[43mfile\u001b[49m\u001b[43m)\u001b[49m\n\u001b[1;32m     34\u001b[0m \u001b[38;5;66;03m# Read all motifs\u001b[39;00m\n\u001b[1;32m     35\u001b[0m motifs \u001b[38;5;241m=\u001b[39m read_meme(file, n_motifs\u001b[38;5;241m=\u001b[39mn_motifs)\n",
      "File \u001b[0;32m/opt/conda/lib/python3.11/site-packages/grelu/resources/__init__.py:42\u001b[0m, in \u001b[0;36mget_meme_file_path\u001b[0;34m(meme_motif_db)\u001b[0m\n\u001b[1;32m     40\u001b[0m     \u001b[38;5;28;01mreturn\u001b[39;00m \u001b[38;5;28mstr\u001b[39m(meme_motif_db)\n\u001b[1;32m     41\u001b[0m \u001b[38;5;28;01melse\u001b[39;00m:\n\u001b[0;32m---> 42\u001b[0m     \u001b[38;5;28;01mraise\u001b[39;00m \u001b[38;5;167;01mException\u001b[39;00m(\u001b[38;5;124mf\u001b[39m\u001b[38;5;124m\"\u001b[39m\u001b[38;5;132;01m{\u001b[39;00mmeme_motif_db\u001b[38;5;132;01m}\u001b[39;00m\u001b[38;5;124m is not a valid file.\u001b[39m\u001b[38;5;124m\"\u001b[39m)\n",
      "\u001b[0;31mException\u001b[0m: https://hocomoco12.autosome.org/final_bundle/hocomoco12/H12CORE/formatted_motifs/H12CORE_meme_format.meme is not a valid file."
     ]
    }
   ],
   "source": [
    "read_meme_file('')"
   ]
  },
  {
   "cell_type": "code",
   "execution_count": 22,
   "id": "57b1d8f8-c207-4016-8563-e7fedf20d4da",
   "metadata": {},
   "outputs": [
    {
     "data": {
      "text/plain": [
       "(4, 14)"
      ]
     },
     "execution_count": 22,
     "metadata": {},
     "output_type": "execute_result"
    }
   ],
   "source": [
    "import numpy as np\n"
   ]
  },
  {
   "cell_type": "code",
   "execution_count": 16,
   "id": "d8fc12c4-a22a-4705-aca2-1fde61c1facd",
   "metadata": {},
   "outputs": [
    {
     "data": {
      "text/plain": [
       "['_Motif__mask',\n",
       " '__class__',\n",
       " '__delattr__',\n",
       " '__dict__',\n",
       " '__dir__',\n",
       " '__doc__',\n",
       " '__eq__',\n",
       " '__format__',\n",
       " '__ge__',\n",
       " '__getattribute__',\n",
       " '__getitem__',\n",
       " '__getstate__',\n",
       " '__gt__',\n",
       " '__hash__',\n",
       " '__init__',\n",
       " '__init_subclass__',\n",
       " '__le__',\n",
       " '__len__',\n",
       " '__lt__',\n",
       " '__module__',\n",
       " '__ne__',\n",
       " '__new__',\n",
       " '__reduce__',\n",
       " '__reduce_ex__',\n",
       " '__repr__',\n",
       " '__setattr__',\n",
       " '__sizeof__',\n",
       " '__str__',\n",
       " '__subclasshook__',\n",
       " '__weakref__',\n",
       " '_background',\n",
       " '_pseudocounts',\n",
       " 'acc',\n",
       " 'alignment',\n",
       " 'alphabet',\n",
       " 'anticonsensus',\n",
       " 'background',\n",
       " 'base_id',\n",
       " 'collection',\n",
       " 'comment',\n",
       " 'consensus',\n",
       " 'counts',\n",
       " 'data_type',\n",
       " 'degenerate_consensus',\n",
       " 'format',\n",
       " 'instances',\n",
       " 'length',\n",
       " 'mask',\n",
       " 'matrix_id',\n",
       " 'medline',\n",
       " 'name',\n",
       " 'pazar_id',\n",
       " 'pseudocounts',\n",
       " 'pssm',\n",
       " 'pwm',\n",
       " 'relative_entropy',\n",
       " 'reverse_complement',\n",
       " 'species',\n",
       " 'tax_group',\n",
       " 'tf_class',\n",
       " 'tf_family',\n",
       " 'version',\n",
       " 'weblogo']"
      ]
     },
     "execution_count": 16,
     "metadata": {},
     "output_type": "execute_result"
    }
   ],
   "source": [
    "dir(motifs[0])"
   ]
  },
  {
   "cell_type": "code",
   "execution_count": null,
   "id": "c7b38a75-2176-436b-b0cb-fce156fd9db6",
   "metadata": {},
   "outputs": [],
   "source": []
  }
 ],
 "metadata": {
  "kernelspec": {
   "display_name": "Python 3 (ipykernel)",
   "language": "python",
   "name": "python3"
  },
  "language_info": {
   "codemirror_mode": {
    "name": "ipython",
    "version": 3
   },
   "file_extension": ".py",
   "mimetype": "text/x-python",
   "name": "python",
   "nbconvert_exporter": "python",
   "pygments_lexer": "ipython3",
   "version": "3.11.9"
  }
 },
 "nbformat": 4,
 "nbformat_minor": 5
}
