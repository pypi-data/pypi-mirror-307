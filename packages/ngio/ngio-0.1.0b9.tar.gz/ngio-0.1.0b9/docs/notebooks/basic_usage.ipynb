{
 "cells": [
  {
   "cell_type": "markdown",
   "metadata": {},
   "source": [
    "# Basic Usage\n",
    "\n",
    "In this notebook we will show how to use the 'ngffImage' class to manage a OME-NGFF image.\n",
    "\n",
    "For this example we will use a small example image that can be downloaded from the following link: [example ome-zarr](https://zenodo.org/records/13305156)\n",
    "\n",
    "You can download the example image (on Linux and Mac os) by running the following command:\n",
    "\n",
    "```bash\n",
    "bash setup_data.sh\n",
    "```\n",
    "from the root of the repository.\n",
    "\n",
    "## NgffImage\n",
    "\n",
    "The `NgffImage` provides a high-level interface to read, write and manipulate NGFF images.\n",
    "A `NgffImage` can be created from a storelike object (e.g. a path to a directory or a zarr store) or from a `zarr.Group` object. "
   ]
  },
  {
   "cell_type": "code",
   "execution_count": null,
   "metadata": {},
   "outputs": [],
   "source": [
    "from ngio.core import NgffImage\n",
    "ngff_image = NgffImage(\"../../data/20200812-CardiomyocyteDifferentiation14-Cycle1_mip.zarr/B/03/0\")"
   ]
  },
  {
   "cell_type": "markdown",
   "metadata": {},
   "source": [
    "The `ngff_image` contains several attributes and methods to interact with the `OME-NGFF` (`OME-Zarr`) file on the storage."
   ]
  },
  {
   "cell_type": "code",
   "execution_count": null,
   "metadata": {},
   "outputs": [],
   "source": [
    "# Explore object metadata\n",
    "print(\"Levels: \", ngff_image.levels_paths)\n",
    "print(\"Num Levels: \", ngff_image.num_levels)"
   ]
  },
  {
   "cell_type": "markdown",
   "metadata": {},
   "source": [
    "Get a single `level` of the image pyramid as `Image` (to know more about the `Image` class, please refer to the [Image notebook](./image.ipynb)\n",
    "The `Image` object is the main object to interact with the image. \n",
    "It contains methods to interact with the image data and metadata."
   ]
  },
  {
   "cell_type": "code",
   "execution_count": null,
   "metadata": {},
   "outputs": [],
   "source": [
    "from ngio.ngff_meta import PixelSize\n",
    "\n",
    "# 1. Get image from highest resolution (default)\n",
    "image = ngff_image.get_image()\n",
    "print(f\"{image.shape=}\")\n",
    "print(f\"{image.pixel_size=}\")\n",
    "\n",
    "# 2. Get image from a specific level using the path keyword\n",
    "print(f\"{image.shape=}\")\n",
    "print(f\"{image.pixel_size=}\")\n",
    "\n",
    "# 3. Get image from a specific pixel size using the pixel_size keyword\n",
    "image = ngff_image.get_image(pixel_size=PixelSize(x=0.65, y=0.65, z=1))\n",
    "print(f\"{image.shape=}\")\n",
    "print(f\"{image.pixel_size=}\")"
   ]
  },
  {
   "cell_type": "markdown",
   "metadata": {},
   "source": [
    "## Labels\n",
    "\n",
    "The `NgffImage` can also be used to load labels from a `OME-NGFF` file."
   ]
  },
  {
   "cell_type": "code",
   "execution_count": null,
   "metadata": {},
   "outputs": [],
   "source": [
    "print(\"List of Labels: \", ngff_image.label.list())\n",
    "\n",
    "label_nuclei = ngff_image.label.get_label(\"nuclei\", path=\"0\")\n",
    "print(f\"{label_nuclei.shape=}\")\n",
    "print(f\"{label_nuclei.pixel_size=}\")"
   ]
  },
  {
   "cell_type": "markdown",
   "metadata": {},
   "source": [
    "## Tables\n",
    "\n",
    "The `NgffImage` can also be used to load tables from a `OME-NGFF` file.\n",
    "\n",
    "`ngio` supports three types of tables:\n",
    " - `features table` A simple table to store features associated with a label.\n",
    " - `roi table` A table to store regions of interest.\n",
    " - `masking roi tables` A table to store single objects bounding boxes associated with a label."
   ]
  },
  {
   "cell_type": "code",
   "execution_count": null,
   "metadata": {},
   "outputs": [],
   "source": [
    "print(\"List of Tables: \", ngff_image.table.list())\n",
    "print(\" - Feature tables: \", ngff_image.table.list(table_type='feature_table'))\n",
    "print(\" - Roi tables: \", ngff_image.table.list(table_type='roi_table'))\n",
    "print(\" - Masking Roi tables: \", ngff_image.table.list(table_type='masking_roi_table'))"
   ]
  },
  {
   "cell_type": "code",
   "execution_count": null,
   "metadata": {},
   "outputs": [],
   "source": [
    "# Loading a table\n",
    "feature_table = ngff_image.table.get_table(\"regionprops_DAPI\")\n",
    "feature_table.table"
   ]
  },
  {
   "cell_type": "code",
   "execution_count": null,
   "metadata": {},
   "outputs": [],
   "source": [
    "# Loading a roi table\n",
    "roi_table = ngff_image.table.get_table(\"FOV_ROI_table\")\n",
    "\n",
    "print(f\"{roi_table.field_indexes=}\")\n",
    "print(f\"{roi_table.get_roi('FOV_1')=}\")\n",
    "\n",
    "roi_table.table"
   ]
  },
  {
   "cell_type": "markdown",
   "metadata": {},
   "source": [
    "## Derive a new NgffImage\n",
    "\n",
    "When processing an image, it is often useful to derive a new image from the original image.\n",
    "The `NgffImage` class provides a method to derive a new image from the original image.\n",
    "When deriving a new image, a new `NgffImage` object is created with the same metadata as the original image. Optionally the \n",
    "user can specify different metadata for the new image(.e.g. different channels names)."
   ]
  },
  {
   "cell_type": "code",
   "execution_count": null,
   "metadata": {},
   "outputs": [],
   "source": [
    "new_ngff_image = ngff_image.derive_new_image(\"../../data/new_ome.zarr\", name=\"new_image\")\n",
    "\n",
    "print(f\"{new_ngff_image.store=}\")\n",
    "print(f\"{new_ngff_image.levels_paths=}\")\n",
    "print(f\"{new_ngff_image.num_levels=}\")"
   ]
  }
 ],
 "metadata": {
  "kernelspec": {
   "display_name": "dev2",
   "language": "python",
   "name": "python3"
  },
  "language_info": {
   "codemirror_mode": {
    "name": "ipython",
    "version": 3
   },
   "file_extension": ".py",
   "mimetype": "text/x-python",
   "name": "python",
   "nbconvert_exporter": "python",
   "pygments_lexer": "ipython3",
   "version": "3.12.7"
  }
 },
 "nbformat": 4,
 "nbformat_minor": 2
}
