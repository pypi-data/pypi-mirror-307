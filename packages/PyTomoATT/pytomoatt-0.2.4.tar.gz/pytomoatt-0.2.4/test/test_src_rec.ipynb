{
 "cells": [
  {
   "cell_type": "code",
   "execution_count": 1,
   "metadata": {},
   "outputs": [],
   "source": [
    "from pytomoatt.src_rec import SrcRec\n",
    "import pandas as pd"
   ]
  },
  {
   "cell_type": "code",
   "execution_count": 2,
   "metadata": {},
   "outputs": [],
   "source": [
    "fname = 'src_rec_config.dat'\n",
    "# fname = 'test_srcrec_a.dat'\n",
    "sr = SrcRec.read(fname)\n",
    "# df = pd.read_csv(fname, sep='\\s+', header=None, comment='#')"
   ]
  },
  {
   "cell_type": "code",
   "execution_count": 6,
   "metadata": {},
   "outputs": [
    {
     "data": {
      "text/plain": [
       "Timestamp('1998-01-01 00:00:00')"
      ]
     },
     "execution_count": 6,
     "metadata": {},
     "output_type": "execute_result"
    }
   ],
   "source": [
    "sr.src_points.loc[0]['origin_time']"
   ]
  },
  {
   "cell_type": "code",
   "execution_count": 7,
   "metadata": {},
   "outputs": [
    {
     "name": "stderr",
     "output_type": "stream",
     "text": [
      "2024-04-01 00:49:38,682 [SrcRec] INFO: rec_points before selecting: (10413, 9)\n",
      "2024-04-01 00:49:38,689 [SrcRec] INFO: Calculating epicentral distance...\n",
      "2024-04-01 00:49:39,240 [SrcRec] INFO: rec_points after selecting: (6579, 10)\n"
     ]
    }
   ],
   "source": [
    "sr.select_distance([0, 1])"
   ]
  },
  {
   "cell_type": "code",
   "execution_count": 4,
   "metadata": {},
   "outputs": [
    {
     "name": "stderr",
     "output_type": "stream",
     "text": [
      "100%|██████████| 600/600 [00:03<00:00, 156.89it/s]\n"
     ]
    }
   ],
   "source": [
    "sr.write('test_src_rec_config.dat')"
   ]
  }
 ],
 "metadata": {
  "kernelspec": {
   "display_name": "base",
   "language": "python",
   "name": "python3"
  },
  "language_info": {
   "codemirror_mode": {
    "name": "ipython",
    "version": 3
   },
   "file_extension": ".py",
   "mimetype": "text/x-python",
   "name": "python",
   "nbconvert_exporter": "python",
   "pygments_lexer": "ipython3",
   "version": "3.9.15"
  }
 },
 "nbformat": 4,
 "nbformat_minor": 2
}
