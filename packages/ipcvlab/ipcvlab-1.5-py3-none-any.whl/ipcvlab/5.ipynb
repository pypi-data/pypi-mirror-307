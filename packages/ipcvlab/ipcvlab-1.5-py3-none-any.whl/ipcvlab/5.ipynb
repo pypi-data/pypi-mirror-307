{
 "cells": [
  {
   "cell_type": "markdown",
   "metadata": {},
   "source": [
    "1. Load the MS-COCO Dataset\n",
    "To work with the MS-COCO dataset, the pycocotools library is useful for accessing image annotations. To simplify things here, we’ll assume the dataset is already downloaded and organized into folders for training and testing. Using tensorflow_datasets also provides an easy way to load a subset of MS-COCO directly."
   ]
  },
  {
   "cell_type": "code",
   "execution_count": null,
   "metadata": {},
   "outputs": [],
   "source": [
    "!pip install tensorflow-datasets\n"
   ]
  },
  {
   "cell_type": "code",
   "execution_count": null,
   "metadata": {},
   "outputs": [],
   "source": [
    "import tensorflow_datasets as tfds\n",
    "\n",
    "# Load COCO dataset using TensorFlow Datasets\n",
    "train_ds, test_ds = tfds.load('coco/2017', split=['train', 'validation'], shuffle_files=True)\n"
   ]
  },
  {
   "cell_type": "markdown",
   "metadata": {},
   "source": [
    "2. Show the Number of Training and Testing Images"
   ]
  },
  {
   "cell_type": "code",
   "execution_count": null,
   "metadata": {},
   "outputs": [],
   "source": [
    "# Count the number of images\n",
    "train_count = tf.data.experimental.cardinality(train_ds).numpy()\n",
    "test_count = tf.data.experimental.cardinality(test_ds).numpy()\n",
    "print(f\"Number of training images: {train_count}\")\n",
    "print(f\"Number of testing images: {test_count}\")\n"
   ]
  },
  {
   "cell_type": "markdown",
   "metadata": {},
   "source": [
    "3. Plot Some Images"
   ]
  },
  {
   "cell_type": "code",
   "execution_count": null,
   "metadata": {},
   "outputs": [],
   "source": [
    "import matplotlib.pyplot as plt\n",
    "\n",
    "def plot_images(dataset, num_images=5):\n",
    "    plt.figure(figsize=(10, 10))\n",
    "    for i, sample in enumerate(dataset.take(num_images)):\n",
    "        image = sample['image']\n",
    "        plt.subplot(1, num_images, i + 1)\n",
    "        plt.imshow(image)\n",
    "        plt.axis(\"off\")\n",
    "    plt.show()\n",
    "\n",
    "# Plot some training images\n",
    "plot_images(train_ds)\n"
   ]
  },
  {
   "cell_type": "markdown",
   "metadata": {},
   "source": [
    "4. Image Augmentation (Contrast, Flipping, and Rotation)"
   ]
  },
  {
   "cell_type": "code",
   "execution_count": null,
   "metadata": {},
   "outputs": [],
   "source": [
    "from tensorflow.keras.layers import RandomFlip, RandomRotation, RandomContrast\n",
    "from tensorflow.keras import Sequential\n",
    "\n",
    "# Define the augmentation layers\n",
    "augmentation = Sequential([\n",
    "    RandomFlip(\"horizontal\"),\n",
    "    RandomRotation(0.2),\n",
    "    RandomContrast(0.2)\n",
    "])\n",
    "\n",
    "# Apply augmentation to the training dataset\n",
    "train_ds = train_ds.map(lambda x: {'image': augmentation(x['image']), 'label': x['label']})\n"
   ]
  },
  {
   "cell_type": "markdown",
   "metadata": {},
   "source": [
    "5. Show the Number of Training and Testing Images After Augmentation\n",
    "Since augmentation is applied dynamically here, the number of images remains the same\n",
    "6. Normalize the Training Data"
   ]
  },
  {
   "cell_type": "code",
   "execution_count": null,
   "metadata": {},
   "outputs": [],
   "source": [
    "# Normalize pixel values between 0 and 1\n",
    "def normalize_data(sample):\n",
    "    sample['image'] = tf.image.convert_image_dtype(sample['image'], tf.float32)\n",
    "    return sample\n",
    "\n",
    "train_ds = train_ds.map(normalize_data)\n",
    "test_ds = test_ds.map(normalize_data)\n"
   ]
  },
  {
   "cell_type": "markdown",
   "metadata": {},
   "source": [
    "7. Build a Custom CNN for Image Classification\n"
   ]
  },
  {
   "cell_type": "code",
   "execution_count": null,
   "metadata": {},
   "outputs": [],
   "source": [
    "from tensorflow.keras.models import Sequential\n",
    "from tensorflow.keras.layers import Conv2D, MaxPooling2D, Flatten, Dense\n",
    "\n",
    "# Define the CNN model\n",
    "cnn_model = Sequential([\n",
    "    Conv2D(32, (3, 3), activation='relu', input_shape=(None, None, 3)),\n",
    "    MaxPooling2D(),\n",
    "    Conv2D(64, (3, 3), activation='relu'),\n",
    "    MaxPooling2D(),\n",
    "    Flatten(),\n",
    "    Dense(128, activation='relu'),\n",
    "    Dense(80, activation='softmax')  # 80 classes in MS-COCO\n",
    "])\n",
    "\n",
    "cnn_model.compile(optimizer='adam', loss='sparse_categorical_crossentropy', metrics=['accuracy'])\n",
    "\n",
    "# Train the CNN model\n",
    "history_cnn = cnn_model.fit(train_ds.batch(32), validation_data=test_ds.batch(32), epochs=10)\n"
   ]
  },
  {
   "cell_type": "markdown",
   "metadata": {},
   "source": [
    "8. Show Training and Testing Accuracy for CNN\n"
   ]
  },
  {
   "cell_type": "code",
   "execution_count": null,
   "metadata": {},
   "outputs": [],
   "source": [
    "import matplotlib.pyplot as plt\n",
    "\n",
    "# Plot accuracy for CNN model\n",
    "plt.plot(history_cnn.history['accuracy'], label='Training Accuracy')\n",
    "plt.plot(history_cnn.history['val_accuracy'], label='Validation Accuracy')\n",
    "plt.title(\"CNN Training and Validation Accuracy\")\n",
    "plt.xlabel(\"Epochs\")\n",
    "plt.ylabel(\"Accuracy\")\n",
    "plt.legend()\n",
    "plt.show()\n"
   ]
  },
  {
   "cell_type": "markdown",
   "metadata": {},
   "source": [
    "9. Build a Faster R-CNN Model for Object Detection\n"
   ]
  },
  {
   "cell_type": "code",
   "execution_count": null,
   "metadata": {},
   "outputs": [],
   "source": [
    "import tensorflow_hub as hub\n",
    "\n",
    "# Load pre-trained Faster R-CNN model\n",
    "faster_rcnn = hub.load(\"https://tfhub.dev/tensorflow/faster_rcnn/openimages_v4/inception_resnet_v2/1\")\n",
    "\n",
    "# Run inference on test images\n",
    "for sample in test_ds.take(5):\n",
    "    image = tf.image.convert_image_dtype(sample['image'], tf.float32)\n",
    "    result = faster_rcnn(image[tf.newaxis, ...])\n",
    "    # Process results, e.g., display bounding boxes and labels\n",
    "    print(result)\n"
   ]
  },
  {
   "cell_type": "markdown",
   "metadata": {},
   "source": [
    "10. Show Training and Testing Accuracy for Faster R-CNN\n",
    "In object detection tasks, metrics such as mean Average Precision (mAP) are more commonly used than accuracy.\n",
    "\n",
    "Comparison Before and After Augmentation\n",
    "With Augmentation: Augmented images improve generalization, often resulting in higher validation accuracy.\n",
    "Without Augmentation: Models may overfit, achieving high training accuracy but lower validation accuracy."
   ]
  }
 ],
 "metadata": {
  "kernelspec": {
   "display_name": "Python 3",
   "language": "python",
   "name": "python3"
  },
  "language_info": {
   "codemirror_mode": {
    "name": "ipython",
    "version": 3
   },
   "file_extension": ".py",
   "mimetype": "text/x-python",
   "name": "python",
   "nbconvert_exporter": "python",
   "pygments_lexer": "ipython3",
   "version": "3.10.0"
  }
 },
 "nbformat": 4,
 "nbformat_minor": 2
}
