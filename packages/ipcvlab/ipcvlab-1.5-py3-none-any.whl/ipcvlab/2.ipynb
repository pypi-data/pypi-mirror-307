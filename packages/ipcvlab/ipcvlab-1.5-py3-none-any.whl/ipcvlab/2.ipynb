{
 "cells": [
  {
   "cell_type": "markdown",
   "metadata": {},
   "source": [
    "Demonstrate the use of Python for image processing: contrast stretching and linear filtering and plot its histogram.\n",
    "Exercise 1: Contrast Stretching, Linear Filtering, and Histogram Plotting\n",
    "In this task:\n",
    "\n",
    "Perform contrast stretching on an image.\n",
    "Apply a linear filter (such as a Gaussian filter).\n",
    "Plot the histogram of the original and processed images."
   ]
  },
  {
   "cell_type": "code",
   "execution_count": null,
   "metadata": {},
   "outputs": [],
   "source": [
    "!pip install opencv-python\n",
    "!pip install numpy\n",
    "!pip install matplotlib"
   ]
  },
  {
   "cell_type": "code",
   "execution_count": null,
   "metadata": {},
   "outputs": [],
   "source": [
    "import cv2\n",
    "import numpy as np\n",
    "import matplotlib.pyplot as plt\n",
    "\n",
    "# Load an image in grayscale\n",
    "image = cv2.imread('new.jpg', cv2.IMREAD_GRAYSCALE)\n",
    "\n",
    "# 1. Enhanced Contrast Stretching\n",
    "min_bound, max_bound = 50, 200  # Set custom lower and upper bounds\n",
    "contrast_stretched = np.clip(((image - min_bound) / (max_bound - min_bound)) * 255, 0, 255).astype(np.uint8)\n",
    "\n",
    "# 2. Stronger Gaussian Blur\n",
    "gaussian_blur = cv2.GaussianBlur(contrast_stretched, (31, 31), 0)  # Increased kernel size to (15, 15)\n",
    "\n",
    "# 3. Plotting the Histograms\n",
    "plt.figure(figsize=(12, 8))\n",
    "\n",
    "# Original Image and its Histogram\n",
    "plt.subplot(2, 3, 1)\n",
    "plt.imshow(image, cmap='gray')\n",
    "plt.title(\"Original Image\")\n",
    "plt.axis('off')\n",
    "\n",
    "plt.subplot(2, 3, 4)\n",
    "plt.hist(image.ravel(), bins=256, range=(0, 256))\n",
    "plt.title(\"Histogram - Original\")\n",
    "\n",
    "# Contrast Stretched Image and Histogram\n",
    "plt.subplot(2, 3, 2)\n",
    "plt.imshow(contrast_stretched, cmap='gray')\n",
    "plt.title(\"Contrast Stretched Image\")\n",
    "plt.axis('off')\n",
    "\n",
    "plt.subplot(2, 3, 5)\n",
    "plt.hist(contrast_stretched.ravel(), bins=256, range=(0, 256))\n",
    "plt.title(\"Histogram - Contrast Stretched\")\n",
    "\n",
    "# Gaussian Blurred Image and Histogram\n",
    "plt.subplot(2, 3, 3)\n",
    "plt.imshow(gaussian_blur, cmap='gray')\n",
    "plt.title(\"Gaussian Blurred Image\")\n",
    "plt.axis('off')\n",
    "\n",
    "plt.subplot(2, 3, 6)\n",
    "plt.hist(gaussian_blur.ravel(), bins=256, range=(0, 256))\n",
    "plt.title(\"Histogram - Gaussian Blurred\")\n",
    "\n",
    "plt.tight_layout()\n",
    "plt.show()\n"
   ]
  },
  {
   "cell_type": "code",
   "execution_count": null,
   "metadata": {},
   "outputs": [],
   "source": [
    "!pip install tensorflow matplotlib numpy"
   ]
  },
  {
   "cell_type": "markdown",
   "metadata": {},
   "source": [
    "Classify the images using Horse and Human dataset, and do the following using binary classification:\n",
    "a.\tLoad the dataset\n",
    "b.\tView the no. of testing and training images\n",
    "c.\tplot some images\n",
    "d.\tNormalizing the training data\n",
    "e.\tBuild a convolutional neural network (ResNet) to train and testing the images\n",
    "f.\tShow the training and testing accuracy"
   ]
  },
  {
   "cell_type": "code",
   "execution_count": 3,
   "metadata": {},
   "outputs": [],
   "source": [
    "import os\n",
    "import tensorflow as tf\n",
    "from tensorflow.keras.preprocessing.image import ImageDataGenerator\n",
    "import matplotlib.pyplot as plt\n",
    "import numpy as np\n"
   ]
  },
  {
   "cell_type": "code",
   "execution_count": null,
   "metadata": {},
   "outputs": [],
   "source": [
    "train_dir = 'dataset'  \n",
    "datagen = ImageDataGenerator(rescale=1.0/255.0, validation_split=0.2)  # 20% of data as validation\n",
    "\n",
    "train_data = datagen.flow_from_directory(\n",
    "    train_dir,\n",
    "    target_size=(128, 128), \n",
    "    batch_size=32,\n",
    "    class_mode='binary',\n",
    "    subset='training'\n",
    ")\n",
    "\n",
    "val_data = datagen.flow_from_directory(\n",
    "    train_dir,\n",
    "    target_size=(128, 128),\n",
    "    batch_size=32,\n",
    "    class_mode='binary',\n",
    "    subset='validation'\n",
    ")\n"
   ]
  },
  {
   "cell_type": "code",
   "execution_count": null,
   "metadata": {},
   "outputs": [],
   "source": [
    "print(f\"Number of training images: {train_data.samples}\")\n",
    "print(f\"Number of validation images: {val_data.samples}\")\n"
   ]
  },
  {
   "cell_type": "code",
   "execution_count": null,
   "metadata": {},
   "outputs": [],
   "source": [
    "def plot_images(images, labels):\n",
    "    plt.figure(figsize=(10, 10))\n",
    "    for i in range(9):\n",
    "        plt.subplot(3, 3, i + 1)\n",
    "        plt.imshow(images[i])\n",
    "        plt.title(\"Horse\" if labels[i] == 0 else \"Human\")\n",
    "        plt.axis('off')\n",
    "    plt.show()\n",
    "\n",
    "images, labels = next(train_data)\n",
    "plot_images(images, labels)\n"
   ]
  },
  {
   "cell_type": "code",
   "execution_count": null,
   "metadata": {},
   "outputs": [],
   "source": [
    "from tensorflow.keras.applications import ResNet50\n",
    "from tensorflow.keras.layers import Dense, GlobalAveragePooling2D\n",
    "from tensorflow.keras.models import Model\n",
    "\n",
    "base_model = ResNet50(weights='imagenet', include_top=False, input_shape=(128, 128, 3))\n",
    "\n",
    "base_model.trainable = False\n",
    "\n",
    "x = base_model.output\n",
    "x = GlobalAveragePooling2D()(x)\n",
    "x = Dense(128, activation='relu')(x)\n",
    "x = Dense(1, activation='sigmoid')(x)  \n",
    "\n",
    "model = Model(inputs=base_model.input, outputs=x)\n",
    "\n",
    "model.compile(optimizer='adam', loss='binary_crossentropy', metrics=['accuracy'])\n"
   ]
  },
  {
   "cell_type": "code",
   "execution_count": null,
   "metadata": {},
   "outputs": [],
   "source": [
    "history = model.fit(\n",
    "    train_data,\n",
    "    validation_data=val_data,\n",
    "    epochs=10  \n",
    ")\n"
   ]
  },
  {
   "cell_type": "code",
   "execution_count": null,
   "metadata": {},
   "outputs": [],
   "source": [
    "acc = history.history['accuracy']\n",
    "val_acc = history.history['val_accuracy']\n",
    "loss = history.history['loss']\n",
    "val_loss = history.history['val_loss']\n",
    "epochs_range = range(len(acc))\n",
    "\n",
    "plt.figure(figsize=(12, 6))\n",
    "\n",
    "plt.subplot(1, 2, 1)\n",
    "plt.plot(epochs_range, acc, label='Training Accuracy')\n",
    "plt.plot(epochs_range, val_acc, label='Validation Accuracy')\n",
    "plt.legend(loc='lower right')\n",
    "plt.title('Training and Validation Accuracy')\n",
    "\n",
    "plt.subplot(1, 2, 2)\n",
    "plt.plot(epochs_range, loss, label='Training Loss')\n",
    "plt.plot(epochs_range, val_loss, label='Validation Loss')\n",
    "plt.legend(loc='upper right')\n",
    "plt.title('Training and Validation Loss')\n",
    "\n",
    "plt.show()\n"
   ]
  }
 ],
 "metadata": {
  "kernelspec": {
   "display_name": "Python 3",
   "language": "python",
   "name": "python3"
  },
  "language_info": {
   "codemirror_mode": {
    "name": "ipython",
    "version": 3
   },
   "file_extension": ".py",
   "mimetype": "text/x-python",
   "name": "python",
   "nbconvert_exporter": "python",
   "pygments_lexer": "ipython3",
   "version": "3.12.7"
  }
 },
 "nbformat": 4,
 "nbformat_minor": 2
}
