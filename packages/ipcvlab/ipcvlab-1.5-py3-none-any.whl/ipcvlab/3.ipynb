{
 "cells": [
  {
   "cell_type": "markdown",
   "metadata": {},
   "source": [
    "Exercise 1: Geometrical Transformations (Scaling, Rotation, and Shearing)\n",
    "In this exercise, we'll apply three different transformations to an image:\n",
    "\n",
    "Scaling: Resizing the image.\n",
    "Rotation: Rotating the image by a certain angle.\n",
    "Shearing: Transforming the image with a shear factor."
   ]
  },
  {
   "cell_type": "code",
   "execution_count": null,
   "metadata": {},
   "outputs": [],
   "source": [
    "!pip install opencv-python\n",
    "!pip install numpy\n",
    "!pip install matplotlib"
   ]
  },
  {
   "cell_type": "code",
   "execution_count": null,
   "metadata": {},
   "outputs": [],
   "source": [
    "import cv2\n",
    "import numpy as np\n",
    "import matplotlib.pyplot as plt\n",
    "\n",
    "# Load the image\n",
    "image = cv2.imread('neu.jpg')\n",
    "image_rgb = cv2.cvtColor(image, cv2.COLOR_BGR2RGB)  # Convert to RGB for displaying with matplotlib\n",
    "\n",
    "# 1. Scaling (Resize)\n",
    "scaled_image = cv2.resize(image_rgb, None, fx=1.5, fy=1.5)\n",
    "\n",
    "# 2. Rotation\n",
    "(h, w) = image_rgb.shape[:2]\n",
    "center = (w // 2, h // 2)\n",
    "rotation_matrix = cv2.getRotationMatrix2D(center, angle=45, scale=5.0)  # Rotate 45 degrees\n",
    "rotated_image = cv2.warpAffine(image_rgb, rotation_matrix, (w, h))\n",
    "\n",
    "# 3. Shearing\n",
    "M = np.float32([[1, 0.5, 0.5], [0.5, 1, 0]])  # Shear matrix\n",
    "sheared_image = cv2.warpAffine(image_rgb, M, (int(w * 1.5), int(h * 1.5)))\n",
    "\n",
    "# Display the images\n",
    "plt.figure(figsize=(12, 8))\n",
    "plt.subplot(1, 4, 1)\n",
    "plt.imshow(image_rgb)\n",
    "plt.title(\"Original Image\")\n",
    "plt.axis(\"off\")\n",
    "\n",
    "plt.subplot(1, 4, 2)\n",
    "plt.imshow(scaled_image)\n",
    "plt.title(\"Scaled Image\")\n",
    "plt.axis(\"off\")\n",
    "\n",
    "plt.subplot(1, 4, 3)\n",
    "plt.imshow(rotated_image)\n",
    "plt.title(\"Rotated Image\")\n",
    "plt.axis(\"off\")\n",
    "\n",
    "plt.subplot(1, 4, 4)\n",
    "plt.imshow(sheared_image)\n",
    "plt.title(\"Sheared Image\")\n",
    "plt.axis(\"off\")\n",
    "\n",
    "plt.tight_layout()\n",
    "plt.show()\n"
   ]
  },
  {
   "cell_type": "markdown",
   "metadata": {},
   "source": [
    "Exercise 2: Feature Extraction with SIFT (Scale Invariant Feature Transform)\n",
    "In this task, we’ll implement the main steps of the SIFT algorithm using OpenCV:\n",
    "\n",
    "Constructing a Scale Space: Automatically handled by OpenCV's SIFT.\n",
    "Key Point Localization: Detecting key points in the image.\n",
    "Orientation Assignment: Assigning orientation to key points.\n",
    "Key Point Descriptor: Computing descriptors for each key point."
   ]
  },
  {
   "cell_type": "code",
   "execution_count": null,
   "metadata": {},
   "outputs": [],
   "source": [
    "import cv2\n",
    "import matplotlib.pyplot as plt\n",
    "\n",
    "\n",
    "image = cv2.imread('neu.jpg')\n",
    "image = cv2.cvtColor(image,cv2.COLOR_BGR2RGB)\n",
    "# Initialize SIFT detector\n",
    "sift = cv2.SIFT_create()\n",
    "\n",
    "# 1 & 2. Detect key points and compute descriptors (Scale Space and Key Point Localization)\n",
    "keypoints, descriptors = sift.detectAndCompute(image, None)\n",
    "\n",
    "# 3 & 4. Visualize Key Points and Descriptors\n",
    "# Draw key points on the image\n",
    "keypoint_image = cv2.drawKeypoints(\n",
    "    image, keypoints, None, flags=cv2.DRAW_MATCHES_FLAGS_DRAW_RICH_KEYPOINTS\n",
    ")\n",
    "\n",
    "# Display the image with keypoints\n",
    "plt.figure(figsize=(10, 6))\n",
    "plt.imshow(keypoint_image, cmap='gray')\n",
    "plt.title(\"SIFT Key Points\")\n",
    "plt.axis(\"off\")\n",
    "plt.show()\n"
   ]
  }
 ],
 "metadata": {
  "kernelspec": {
   "display_name": "Python 3",
   "language": "python",
   "name": "python3"
  },
  "language_info": {
   "codemirror_mode": {
    "name": "ipython",
    "version": 3
   },
   "file_extension": ".py",
   "mimetype": "text/x-python",
   "name": "python",
   "nbconvert_exporter": "python",
   "pygments_lexer": "ipython3",
   "version": "3.12.7"
  }
 },
 "nbformat": 4,
 "nbformat_minor": 2
}
