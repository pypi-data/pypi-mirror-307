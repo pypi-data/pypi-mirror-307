{
 "cells": [
  {
   "cell_type": "code",
   "execution_count": 6,
   "metadata": {},
   "outputs": [],
   "source": [
    "import tensorflow as tf\n",
    "import tensorflow_datasets as tfds\n",
    "import matplotlib.pyplot as plt\n",
    "import numpy as np\n"
   ]
  },
  {
   "cell_type": "code",
   "execution_count": 7,
   "metadata": {},
   "outputs": [
    {
     "name": "stdout",
     "output_type": "stream",
     "text": [
      "{'image': <tf.Tensor: shape=(480, 640, 3), dtype=uint8, numpy=\n",
      "array([[[183, 184, 179],\n",
      "        [184, 185, 179],\n",
      "        [185, 186, 180],\n",
      "        ...,\n",
      "        [176, 143, 136],\n",
      "        [176, 143, 138],\n",
      "        [176, 143, 138]],\n",
      "\n",
      "       [[183, 184, 179],\n",
      "        [184, 185, 179],\n",
      "        [185, 186, 178],\n",
      "        ...,\n",
      "        [177, 144, 137],\n",
      "        [177, 144, 139],\n",
      "        [177, 144, 139]],\n",
      "\n",
      "       [[182, 184, 179],\n",
      "        [183, 186, 179],\n",
      "        [184, 187, 178],\n",
      "        ...,\n",
      "        [177, 144, 137],\n",
      "        [177, 144, 139],\n",
      "        [177, 144, 139]],\n",
      "\n",
      "       ...,\n",
      "\n",
      "       [[195, 199, 184],\n",
      "        [195, 199, 184],\n",
      "        [195, 199, 185],\n",
      "        ...,\n",
      "        [198, 203, 196],\n",
      "        [198, 204, 194],\n",
      "        [197, 203, 193]],\n",
      "\n",
      "       [[195, 199, 184],\n",
      "        [195, 199, 184],\n",
      "        [195, 199, 185],\n",
      "        ...,\n",
      "        [199, 205, 195],\n",
      "        [198, 204, 194],\n",
      "        [198, 204, 192]],\n",
      "\n",
      "       [[195, 199, 184],\n",
      "        [195, 199, 184],\n",
      "        [195, 199, 185],\n",
      "        ...,\n",
      "        [199, 205, 195],\n",
      "        [198, 204, 192],\n",
      "        [198, 204, 192]]], dtype=uint8)>, 'image/filename': <tf.Tensor: shape=(), dtype=string, numpy=b'BloodImage_00124\\n'>, 'objects': {'bbox': <tf.Tensor: shape=(12, 4), dtype=float32, numpy=\n",
      "array([[0.27291667, 0.4640625 , 0.4625    , 0.584375  ],\n",
      "       [0.45208332, 0.7390625 , 0.65208334, 0.9359375 ],\n",
      "       [0.2625    , 0.5625    , 0.49375   , 0.7234375 ],\n",
      "       [0.38333333, 0.225     , 0.67083335, 0.4296875 ],\n",
      "       [0.58125   , 0.0578125 , 0.78541666, 0.1625    ],\n",
      "       [0.09583333, 0.74375   , 0.3       , 0.8484375 ],\n",
      "       [0.6645833 , 0.8265625 , 0.8645833 , 0.940625  ],\n",
      "       [0.84583336, 0.0140625 , 1.        , 0.178125  ],\n",
      "       [0.59166664, 0.3234375 , 0.77916664, 0.4875    ],\n",
      "       [0.60833335, 0.4609375 , 0.93125   , 0.765625  ],\n",
      "       [0.8854167 , 0.2390625 , 0.95416665, 0.2875    ],\n",
      "       [0.09583333, 0.5890625 , 0.29583332, 0.7390625 ]], dtype=float32)>, 'label': <tf.Tensor: shape=(12,), dtype=int64, numpy=array([0, 0, 0, 0, 0, 0, 0, 0, 0, 1, 2, 0], dtype=int64)>}}\n"
     ]
    }
   ],
   "source": [
    "# Load the BCCD dataset without `as_supervised=True`\n",
    "dataset, info = tfds.load('bccd', with_info=True)\n",
    "\n",
    "# Access the training and testing splits\n",
    "train_dataset = dataset['train']\n",
    "test_dataset = dataset['test']\n",
    "\n",
    "# Inspect the structure of a single example from the dataset\n",
    "example = next(iter(train_dataset))\n",
    "print(example)\n"
   ]
  },
  {
   "cell_type": "code",
   "execution_count": 8,
   "metadata": {},
   "outputs": [
    {
     "name": "stdout",
     "output_type": "stream",
     "text": [
      "Training images: 205\n",
      "Testing images: 72\n"
     ]
    }
   ],
   "source": [
    "# a. Show the number of training and testing images\n",
    "train_size = info.splits['train'].num_examples\n",
    "test_size = info.splits['test'].num_examples\n",
    "print(f'Training images: {train_size}')\n",
    "print(f'Testing images: {test_size}')\n"
   ]
  },
  {
   "cell_type": "code",
   "execution_count": 10,
   "metadata": {},
   "outputs": [
    {
     "name": "stdout",
     "output_type": "stream",
     "text": [
      "{'image': <tf.Tensor: shape=(480, 640, 3), dtype=uint8, numpy=\n",
      "array([[[183, 184, 179],\n",
      "        [184, 185, 179],\n",
      "        [185, 186, 180],\n",
      "        ...,\n",
      "        [176, 143, 136],\n",
      "        [176, 143, 138],\n",
      "        [176, 143, 138]],\n",
      "\n",
      "       [[183, 184, 179],\n",
      "        [184, 185, 179],\n",
      "        [185, 186, 178],\n",
      "        ...,\n",
      "        [177, 144, 137],\n",
      "        [177, 144, 139],\n",
      "        [177, 144, 139]],\n",
      "\n",
      "       [[182, 184, 179],\n",
      "        [183, 186, 179],\n",
      "        [184, 187, 178],\n",
      "        ...,\n",
      "        [177, 144, 137],\n",
      "        [177, 144, 139],\n",
      "        [177, 144, 139]],\n",
      "\n",
      "       ...,\n",
      "\n",
      "       [[195, 199, 184],\n",
      "        [195, 199, 184],\n",
      "        [195, 199, 185],\n",
      "        ...,\n",
      "        [198, 203, 196],\n",
      "        [198, 204, 194],\n",
      "        [197, 203, 193]],\n",
      "\n",
      "       [[195, 199, 184],\n",
      "        [195, 199, 184],\n",
      "        [195, 199, 185],\n",
      "        ...,\n",
      "        [199, 205, 195],\n",
      "        [198, 204, 194],\n",
      "        [198, 204, 192]],\n",
      "\n",
      "       [[195, 199, 184],\n",
      "        [195, 199, 184],\n",
      "        [195, 199, 185],\n",
      "        ...,\n",
      "        [199, 205, 195],\n",
      "        [198, 204, 192],\n",
      "        [198, 204, 192]]], dtype=uint8)>, 'image/filename': <tf.Tensor: shape=(), dtype=string, numpy=b'BloodImage_00124\\n'>, 'objects': {'bbox': <tf.Tensor: shape=(12, 4), dtype=float32, numpy=\n",
      "array([[0.27291667, 0.4640625 , 0.4625    , 0.584375  ],\n",
      "       [0.45208332, 0.7390625 , 0.65208334, 0.9359375 ],\n",
      "       [0.2625    , 0.5625    , 0.49375   , 0.7234375 ],\n",
      "       [0.38333333, 0.225     , 0.67083335, 0.4296875 ],\n",
      "       [0.58125   , 0.0578125 , 0.78541666, 0.1625    ],\n",
      "       [0.09583333, 0.74375   , 0.3       , 0.8484375 ],\n",
      "       [0.6645833 , 0.8265625 , 0.8645833 , 0.940625  ],\n",
      "       [0.84583336, 0.0140625 , 1.        , 0.178125  ],\n",
      "       [0.59166664, 0.3234375 , 0.77916664, 0.4875    ],\n",
      "       [0.60833335, 0.4609375 , 0.93125   , 0.765625  ],\n",
      "       [0.8854167 , 0.2390625 , 0.95416665, 0.2875    ],\n",
      "       [0.09583333, 0.5890625 , 0.29583332, 0.7390625 ]], dtype=float32)>, 'label': <tf.Tensor: shape=(12,), dtype=int64, numpy=array([0, 0, 0, 0, 0, 0, 0, 0, 0, 1, 2, 0], dtype=int64)>}}\n"
     ]
    }
   ],
   "source": [
    "# Inspecting a single example from the dataset to find the correct keys\n",
    "example = next(iter(train_dataset))\n",
    "print(example)\n"
   ]
  },
  {
   "cell_type": "code",
   "execution_count": 9,
   "metadata": {},
   "outputs": [
    {
     "ename": "KeyError",
     "evalue": "'label'",
     "output_type": "error",
     "traceback": [
      "\u001b[1;31m---------------------------------------------------------------------------\u001b[0m",
      "\u001b[1;31mKeyError\u001b[0m                                  Traceback (most recent call last)",
      "Cell \u001b[1;32mIn[9], line 13\u001b[0m\n\u001b[0;32m     10\u001b[0m         plt\u001b[38;5;241m.\u001b[39maxis(\u001b[38;5;124m'\u001b[39m\u001b[38;5;124moff\u001b[39m\u001b[38;5;124m'\u001b[39m)\n\u001b[0;32m     11\u001b[0m     plt\u001b[38;5;241m.\u001b[39mshow()\n\u001b[1;32m---> 13\u001b[0m \u001b[43mplot_images\u001b[49m\u001b[43m(\u001b[49m\u001b[43mtrain_dataset\u001b[49m\u001b[43m)\u001b[49m\n",
      "Cell \u001b[1;32mIn[9], line 6\u001b[0m, in \u001b[0;36mplot_images\u001b[1;34m(dataset, num_images)\u001b[0m\n\u001b[0;32m      4\u001b[0m \u001b[38;5;28;01mfor\u001b[39;00m i, example \u001b[38;5;129;01min\u001b[39;00m \u001b[38;5;28menumerate\u001b[39m(dataset\u001b[38;5;241m.\u001b[39mtake(num_images)):\n\u001b[0;32m      5\u001b[0m     image \u001b[38;5;241m=\u001b[39m example[\u001b[38;5;124m'\u001b[39m\u001b[38;5;124mimage\u001b[39m\u001b[38;5;124m'\u001b[39m]  \u001b[38;5;66;03m# Assuming 'image' is the key\u001b[39;00m\n\u001b[1;32m----> 6\u001b[0m     label \u001b[38;5;241m=\u001b[39m \u001b[43mexample\u001b[49m\u001b[43m[\u001b[49m\u001b[38;5;124;43m'\u001b[39;49m\u001b[38;5;124;43mlabel\u001b[39;49m\u001b[38;5;124;43m'\u001b[39;49m\u001b[43m]\u001b[49m  \u001b[38;5;66;03m# Assuming 'label' is the key\u001b[39;00m\n\u001b[0;32m      7\u001b[0m     ax \u001b[38;5;241m=\u001b[39m plt\u001b[38;5;241m.\u001b[39msubplot(\u001b[38;5;241m1\u001b[39m, num_images, i \u001b[38;5;241m+\u001b[39m \u001b[38;5;241m1\u001b[39m)\n\u001b[0;32m      8\u001b[0m     plt\u001b[38;5;241m.\u001b[39mimshow(image)\n",
      "\u001b[1;31mKeyError\u001b[0m: 'label'"
     ]
    },
    {
     "data": {
      "text/plain": [
       "<Figure size 1000x1000 with 0 Axes>"
      ]
     },
     "metadata": {},
     "output_type": "display_data"
    }
   ],
   "source": [
    "# Adjust the plotting function based on the actual keys in the dataset\n",
    "def plot_images(dataset, num_images=5):\n",
    "    plt.figure(figsize=(10, 10))\n",
    "    for i, example in enumerate(dataset.take(num_images)):\n",
    "        image = example['image']  # Assuming 'image' is the key\n",
    "        label = example['label']  # Assuming 'label' is the key\n",
    "        ax = plt.subplot(1, num_images, i + 1)\n",
    "        plt.imshow(image)\n",
    "        plt.title(f'Class: {label.numpy()}')  # Use label as an integer or category name\n",
    "        plt.axis('off')\n",
    "    plt.show()\n",
    "\n",
    "plot_images(train_dataset)\n"
   ]
  },
  {
   "cell_type": "code",
   "execution_count": 11,
   "metadata": {},
   "outputs": [
    {
     "ename": "KeyError",
     "evalue": "'label'",
     "output_type": "error",
     "traceback": [
      "\u001b[1;31m---------------------------------------------------------------------------\u001b[0m",
      "\u001b[1;31mKeyError\u001b[0m                                  Traceback (most recent call last)",
      "Cell \u001b[1;32mIn[11], line 13\u001b[0m\n\u001b[0;32m     10\u001b[0m         plt\u001b[38;5;241m.\u001b[39maxis(\u001b[38;5;124m'\u001b[39m\u001b[38;5;124moff\u001b[39m\u001b[38;5;124m'\u001b[39m)\n\u001b[0;32m     11\u001b[0m     plt\u001b[38;5;241m.\u001b[39mshow()\n\u001b[1;32m---> 13\u001b[0m \u001b[43mplot_images\u001b[49m\u001b[43m(\u001b[49m\u001b[43mtrain_dataset\u001b[49m\u001b[43m)\u001b[49m\n",
      "Cell \u001b[1;32mIn[11], line 6\u001b[0m, in \u001b[0;36mplot_images\u001b[1;34m(dataset, num_images)\u001b[0m\n\u001b[0;32m      4\u001b[0m \u001b[38;5;28;01mfor\u001b[39;00m i, example \u001b[38;5;129;01min\u001b[39;00m \u001b[38;5;28menumerate\u001b[39m(dataset\u001b[38;5;241m.\u001b[39mtake(num_images)):\n\u001b[0;32m      5\u001b[0m     image \u001b[38;5;241m=\u001b[39m example[\u001b[38;5;124m'\u001b[39m\u001b[38;5;124mimage\u001b[39m\u001b[38;5;124m'\u001b[39m]  \u001b[38;5;66;03m# The image key\u001b[39;00m\n\u001b[1;32m----> 6\u001b[0m     labels \u001b[38;5;241m=\u001b[39m \u001b[43mexample\u001b[49m\u001b[43m[\u001b[49m\u001b[38;5;124;43m'\u001b[39;49m\u001b[38;5;124;43mlabel\u001b[39;49m\u001b[38;5;124;43m'\u001b[39;49m\u001b[43m]\u001b[49m  \u001b[38;5;66;03m# The label key containing multiple labels for objects\u001b[39;00m\n\u001b[0;32m      7\u001b[0m     ax \u001b[38;5;241m=\u001b[39m plt\u001b[38;5;241m.\u001b[39msubplot(\u001b[38;5;241m1\u001b[39m, num_images, i \u001b[38;5;241m+\u001b[39m \u001b[38;5;241m1\u001b[39m)\n\u001b[0;32m      8\u001b[0m     plt\u001b[38;5;241m.\u001b[39mimshow(image)\n",
      "\u001b[1;31mKeyError\u001b[0m: 'label'"
     ]
    },
    {
     "data": {
      "text/plain": [
       "<Figure size 1000x1000 with 0 Axes>"
      ]
     },
     "metadata": {},
     "output_type": "display_data"
    }
   ],
   "source": [
    "# c. Plot some sample images after identifying the correct label key\n",
    "def plot_images(dataset, num_images=5):\n",
    "    plt.figure(figsize=(10, 10))\n",
    "    for i, example in enumerate(dataset.take(num_images)):\n",
    "        image = example['image']  # The image key\n",
    "        labels = example['label']  # The label key containing multiple labels for objects\n",
    "        ax = plt.subplot(1, num_images, i + 1)\n",
    "        plt.imshow(image)\n",
    "        plt.title(f'Class: {labels.numpy()}')  # Displaying the labels for objects in the image\n",
    "        plt.axis('off')\n",
    "    plt.show()\n",
    "\n",
    "plot_images(train_dataset)\n"
   ]
  },
  {
   "cell_type": "code",
   "execution_count": null,
   "metadata": {},
   "outputs": [],
   "source": [
    "# c. Image Augmentation (contrast, flipping, and rotation)\n",
    "def augment_image(image, label):\n",
    "    image = tf.image.random_flip_left_right(image)\n",
    "    image = tf.image.random_flip_up_down(image)\n",
    "    image = tf.image.random_contrast(image, lower=0.7, upper=1.3)\n",
    "    image = tf.image.random_rotation(image, 90)\n",
    "    return image, label\n",
    "\n",
    "train_dataset = train_dataset.map(lambda x: augment_image(x['image'], x['label']), num_parallel_calls=tf.data.experimental.AUTOTUNE)\n",
    "test_dataset = test_dataset.map(lambda x: augment_image(x['image'], x['label']), num_parallel_calls=tf.data.experimental.AUTOTUNE)\n"
   ]
  },
  {
   "cell_type": "code",
   "execution_count": null,
   "metadata": {},
   "outputs": [],
   "source": [
    "# d. Show the number of training and testing images after augmentation\n",
    "train_size_after_aug = sum(1 for _ in train_dataset)\n",
    "test_size_after_aug = sum(1 for _ in test_dataset)\n",
    "print(f'Training images after augmentation: {train_size_after_aug}')\n",
    "print(f'Testing images after augmentation: {test_size_after_aug}')\n"
   ]
  },
  {
   "cell_type": "code",
   "execution_count": null,
   "metadata": {},
   "outputs": [],
   "source": [
    "# e. Normalize the training data\n",
    "def normalize_image(image, label):\n",
    "    image = tf.cast(image, tf.float32)\n",
    "    image = image / 255.0  # Normalize to [0, 1] range\n",
    "    return image, label\n",
    "\n",
    "train_dataset = train_dataset.map(normalize_image, num_parallel_calls=tf.data.experimental.AUTOTUNE)\n",
    "test_dataset = test_dataset.map(normalize_image, num_parallel_calls=tf.data.experimental.AUTOTUNE)\n"
   ]
  },
  {
   "cell_type": "code",
   "execution_count": null,
   "metadata": {},
   "outputs": [],
   "source": [
    "# f. Build a convolutional neural network (CNN)\n",
    "def build_cnn_model():\n",
    "    model = tf.keras.Sequential([\n",
    "        tf.keras.layers.InputLayer(input_shape=(256, 256, 3)),\n",
    "        tf.keras.layers.Conv2D(32, (3, 3), activation='relu'),\n",
    "        tf.keras.layers.MaxPooling2D((2, 2)),\n",
    "        tf.keras.layers.Conv2D(64, (3, 3), activation='relu'),\n",
    "        tf.keras.layers.MaxPooling2D((2, 2)),\n",
    "        tf.keras.layers.Conv2D(128, (3, 3), activation='relu'),\n",
    "        tf.keras.layers.MaxPooling2D((2, 2)),\n",
    "        tf.keras.layers.Flatten(),\n",
    "        tf.keras.layers.Dense(128, activation='relu'),\n",
    "        tf.keras.layers.Dense(3, activation='softmax')  # 3 classes: WBC, RBC, Platelets\n",
    "    ])\n",
    "    model.compile(optimizer='adam', loss='sparse_categorical_crossentropy', metrics=['accuracy'])\n",
    "    return model\n"
   ]
  },
  {
   "cell_type": "code",
   "execution_count": null,
   "metadata": {},
   "outputs": [],
   "source": [
    "# g. Train the model without augmentation\n",
    "cnn_model = build_cnn_model()\n",
    "cnn_model.fit(train_dataset.batch(32), epochs=10, validation_data=test_dataset.batch(32))\n"
   ]
  },
  {
   "cell_type": "code",
   "execution_count": null,
   "metadata": {},
   "outputs": [],
   "source": [
    "# h. Show training and testing accuracy\n",
    "train_accuracy = cnn_model.history.history['accuracy']\n",
    "test_accuracy = cnn_model.history.history['val_accuracy']\n",
    "\n",
    "plt.plot(train_accuracy, label='Training Accuracy')\n",
    "plt.plot(test_accuracy, label='Testing Accuracy')\n",
    "plt.title('Training and Testing Accuracy')\n",
    "plt.xlabel('Epochs')\n",
    "plt.ylabel('Accuracy')\n",
    "plt.legend()\n",
    "plt.show()\n"
   ]
  },
  {
   "cell_type": "code",
   "execution_count": null,
   "metadata": {},
   "outputs": [],
   "source": [
    "# i. Train the model again (with augmentation and normalization included)\n",
    "cnn_model = build_cnn_model()\n",
    "cnn_model.fit(train_dataset.batch(32), epochs=10, validation_data=test_dataset.batch(32))\n"
   ]
  },
  {
   "cell_type": "code",
   "execution_count": null,
   "metadata": {},
   "outputs": [],
   "source": [
    "# j. Show the training and testing accuracy after retraining\n",
    "train_accuracy_aug = cnn_model.history.history['accuracy']\n",
    "test_accuracy_aug = cnn_model.history.history['val_accuracy']\n",
    "\n",
    "plt.plot(train_accuracy_aug, label='Training Accuracy (Augmented)')\n",
    "plt.plot(test_accuracy_aug, label='Testing Accuracy (Augmented)')\n",
    "plt.title('Training and Testing Accuracy (With Augmentation)')\n",
    "plt.xlabel('Epochs')\n",
    "plt.ylabel('Accuracy')\n",
    "plt.legend()\n",
    "plt.show()\n"
   ]
  },
  {
   "cell_type": "code",
   "execution_count": null,
   "metadata": {},
   "outputs": [],
   "source": [
    "# k. Compare the training and testing accuracy before and after augmentation\n",
    "plt.plot(train_accuracy, label='Training Accuracy (Before Augmentation)')\n",
    "plt.plot(test_accuracy, label='Testing Accuracy (Before Augmentation)')\n",
    "plt.plot(train_accuracy_aug, label='Training Accuracy (After Augmentation)')\n",
    "plt.plot(test_accuracy_aug, label='Testing Accuracy (After Augmentation)')\n",
    "plt.title('Training and Testing Accuracy Comparison')\n",
    "plt.xlabel('Epochs')\n",
    "plt.ylabel('Accuracy')\n",
    "plt.legend()\n",
    "plt.show()\n"
   ]
  }
 ],
 "metadata": {
  "kernelspec": {
   "display_name": "Python 3",
   "language": "python",
   "name": "python3"
  },
  "language_info": {
   "codemirror_mode": {
    "name": "ipython",
    "version": 3
   },
   "file_extension": ".py",
   "mimetype": "text/x-python",
   "name": "python",
   "nbconvert_exporter": "python",
   "pygments_lexer": "ipython3",
   "version": "3.12.7"
  }
 },
 "nbformat": 4,
 "nbformat_minor": 2
}
