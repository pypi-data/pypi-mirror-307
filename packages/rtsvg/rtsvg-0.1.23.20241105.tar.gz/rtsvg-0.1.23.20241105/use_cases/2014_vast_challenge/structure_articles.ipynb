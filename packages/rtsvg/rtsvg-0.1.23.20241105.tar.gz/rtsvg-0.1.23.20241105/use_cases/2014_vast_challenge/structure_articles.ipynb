{
 "cells": [
  {
   "cell_type": "code",
   "execution_count": null,
   "metadata": {},
   "outputs": [],
   "source": [
    "import pandas as pd\n",
    "import polars as pl\n",
    "import numpy as np\n",
    "import networkx as nx\n",
    "import json\n",
    "import time\n",
    "import sys\n",
    "sys.path.insert(1, '../../rtsvg')\n",
    "from rtsvg import *\n",
    "rt = RACETrack()"
   ]
  },
  {
   "cell_type": "code",
   "execution_count": null,
   "metadata": {},
   "outputs": [],
   "source": [
    "df = pd.read_csv('llama3_8b_2014_vast.csv')\n",
    "_broken_ = []\n",
    "for _response_ in df['llama3_8b_response']:\n",
    "    i = _response_.index('```')\n",
    "    j = _response_.index('```', i+1)\n",
    "    try:\n",
    "        json.loads(_response_[i+3:j])\n",
    "    except:\n",
    "        _broken_.append(_response_[i+3:j])\n",
    "    print('.',end='')\n",
    "len(_broken_), len(df), len(set(df['article'])), df['llama3_8b_time'].sum()"
   ]
  },
  {
   "cell_type": "code",
   "execution_count": null,
   "metadata": {},
   "outputs": [],
   "source": [
    "df = pd.read_csv('phi_small_2014_vast.csv')\n",
    "_broken_ = []\n",
    "for _response_ in df['phi_response']:\n",
    "    i = _response_.index('json')\n",
    "    if '```' in _response_[i+1:]: j = _response_.index('```', i+1)\n",
    "    else:                         j = len(_response_)\n",
    "    try:\n",
    "        json.loads(_response_[i+4:j])\n",
    "    except:\n",
    "        _broken_.append(_response_[i+4:j])\n",
    "    print('.',end='')\n",
    "len(_broken_), len(df), len(set(df['article'])), df['phi_time'].sum()"
   ]
  },
  {
   "cell_type": "code",
   "execution_count": null,
   "metadata": {},
   "outputs": [],
   "source": [
    "df = pd.read_csv('mistral_7b_2014_vast.csv')\n",
    "_broken_, _ok_ = [], []\n",
    "for _response_ in df['mistral_7b_response']:\n",
    "    _just_json_ = _response_[_response_.index('{'):_response_.rindex('}')+1]\n",
    "    try:\n",
    "        _json_ = json.loads(_just_json_)\n",
    "        _ok_.append(_json_)\n",
    "    except:\n",
    "        _broken_.append(_just_json_)\n",
    "    print('.',end='')\n",
    "len(_broken_), len(df), len(set(df['article'])), df['mistral_7b_time'].sum()"
   ]
  },
  {
   "cell_type": "code",
   "execution_count": null,
   "metadata": {},
   "outputs": [],
   "source": [
    "_json_repr_ = rt.jsonRepr(_ok_)\n",
    "df, relates, node_labels = _json_repr_.starPathGraphDataFrame()\n",
    "df  = pl.from_pandas(df)\n",
    "g   = rt.createNetworkXGraph(df, relates)\n",
    "pos = rt.hyperTreeLayout(g)\n",
    "# pos = nx.spring_layout(g)\n",
    "rt.interactiveGraphLayout(df, {'relationships':relates, 'pos':pos, 'node_labels':node_labels, 'draw_labels':True, 'node_size':'small'}, w=1200, h=800)"
   ]
  },
  {
   "cell_type": "code",
   "execution_count": null,
   "metadata": {},
   "outputs": [],
   "source": []
  }
 ],
 "metadata": {
  "kernelspec": {
   "display_name": ".venv",
   "language": "python",
   "name": "python3"
  },
  "language_info": {
   "codemirror_mode": {
    "name": "ipython",
    "version": 3
   },
   "file_extension": ".py",
   "mimetype": "text/x-python",
   "name": "python",
   "nbconvert_exporter": "python",
   "pygments_lexer": "ipython3",
   "version": "3.11.6"
  }
 },
 "nbformat": 4,
 "nbformat_minor": 2
}
