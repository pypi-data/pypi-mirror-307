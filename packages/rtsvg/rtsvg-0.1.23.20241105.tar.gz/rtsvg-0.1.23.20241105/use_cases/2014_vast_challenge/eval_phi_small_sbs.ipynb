{
 "cells": [
  {
   "cell_type": "code",
   "execution_count": null,
   "metadata": {},
   "outputs": [],
   "source": [
    "import pandas as pd\n",
    "import polars as pl\n",
    "import numpy as np\n",
    "import networkx as nx\n",
    "import json\n",
    "import time\n",
    "import sys\n",
    "sys.path.insert(1, '../../rtsvg')\n",
    "from rtsvg import *\n",
    "rt = RACETrack()\n",
    "df_llama = pd.read_csv('llama3_8b_2014_vast_sbs.csv')\n",
    "df       = pd.read_csv('phi_small_2014_vast_sbs.csv')\n",
    "len(df_llama), len(df), df['phi_small_time'].sum()/60.0/60.0 # appears to be about 8 hours..."
   ]
  },
  {
   "cell_type": "code",
   "execution_count": null,
   "metadata": {},
   "outputs": [],
   "source": [
    "_jsons_ = []\n",
    "_failed_parse_counts_, _failed_parses_, _successful_parse_counts_, _ignored_counts_ = 0, [], 0, 0\n",
    "for _json_str_ in df['phi_small_response']:\n",
    "    # Chop to either the first and last curly brace or bracket depending on which occurs first...\n",
    "    # ... this fixes about half of the parses\n",
    "    if '{' in _json_str_ and '}' in _json_str_ and '[' in _json_str_ and ']' in _json_str_:\n",
    "        i0,j0 = _json_str_.index('{'), _json_str_.index('[')\n",
    "        if i0 < j0: _json_str_ = _json_str_[i0:_json_str_.rindex('}')+1]\n",
    "        else:       _json_str_ = _json_str_[j0:_json_str_.rindex(']')+1]\n",
    "    # These next two fix almost all of the other half of the parses...\n",
    "    elif '{' in _json_str_ and '}' in _json_str_: _json_str_ = _json_str_[_json_str_.index('{'):_json_str_.rindex('}')+1]\n",
    "    elif '[' in _json_str_ and ']' in _json_str_: _json_str_ = _json_str_[_json_str_.index('['):_json_str_.rindex(']')+1]\n",
    "\n",
    "    _json_ = None\n",
    "    try: _json_ = json.loads(_json_str_)\n",
    "    except:\n",
    "        try: _json_ = json.loads(_json_str_ + '}')\n",
    "        except:\n",
    "            try: _json_ = json.loads(_json_str_ + ']')\n",
    "            except:\n",
    "                try: _json_ = json.loads(_json_str_ + '] }')\n",
    "                except:\n",
    "                    pass\n",
    "\n",
    "    if _json_ is None:\n",
    "        _failed_parse_counts_ += 1\n",
    "        _failed_parses_.append(_json_str_)\n",
    "    else:\n",
    "        _jsons_.append(_json_)\n",
    "        _successful_parse_counts_ += 1\n",
    "\n",
    "_successful_parse_counts_ ,_failed_parse_counts_, _ignored_counts_"
   ]
  },
  {
   "cell_type": "code",
   "execution_count": null,
   "metadata": {},
   "outputs": [],
   "source": [
    "#j = 0\n",
    "#_splits_ = _failed_parses_[j].split('\\n')\n",
    "#for i in range(len(_splits_)):\n",
    "#    print(f'{i:-3} {_splits_[i]}')\n",
    "#json.loads(_failed_parses_[j])"
   ]
  },
  {
   "cell_type": "code",
   "execution_count": null,
   "metadata": {},
   "outputs": [],
   "source": [
    "#_set_ = set()\n",
    "#for i in range(len(_failed_parses_)):\n",
    "#    _escapes_ = listEscapes(_failed_parses_[i])\n",
    "#    _set_ = _set_ | set(_escapes_)\n",
    "#_set_"
   ]
  },
  {
   "cell_type": "code",
   "execution_count": null,
   "metadata": {},
   "outputs": [],
   "source": [
    "_pos_ = {}\n",
    "from os.path import exists\n",
    "_json_repr_ = rt.jsonRepr(_jsons_)\n",
    "_df_, _relates_, _labels_ = _json_repr_.starPathGraphDataFrame()\n",
    "_df_ = pl.from_pandas(_df_)\n",
    "_rtg_ = rt.interactiveGraphLayout(_df_, {'relationships':_relates_, 'node_labels':_labels_, 'link_size':'vary', 'pos':_pos_, 'link_opacity':0.2}, w=1900, h=1000)\n",
    "if exists('phi_small_sbs_layout.csv'): _rtg_.loadLayout('phi_small_sbs_layout.csv')\n",
    "_rtg_"
   ]
  },
  {
   "cell_type": "code",
   "execution_count": null,
   "metadata": {},
   "outputs": [],
   "source": [
    "#_rtg_.saveLayout('phi_small_sbs_layout.csv')"
   ]
  },
  {
   "cell_type": "code",
   "execution_count": null,
   "metadata": {},
   "outputs": [],
   "source": [
    "_pos_ = _rtg_.pos"
   ]
  },
  {
   "cell_type": "code",
   "execution_count": null,
   "metadata": {},
   "outputs": [],
   "source": [
    "_rtg_.selectEntities('root')"
   ]
  },
  {
   "cell_type": "code",
   "execution_count": null,
   "metadata": {},
   "outputs": [],
   "source": []
  }
 ],
 "metadata": {
  "kernelspec": {
   "display_name": ".venv",
   "language": "python",
   "name": "python3"
  },
  "language_info": {
   "codemirror_mode": {
    "name": "ipython",
    "version": 3
   },
   "file_extension": ".py",
   "mimetype": "text/x-python",
   "name": "python",
   "nbconvert_exporter": "python",
   "pygments_lexer": "ipython3",
   "version": "3.11.6"
  }
 },
 "nbformat": 4,
 "nbformat_minor": 2
}
