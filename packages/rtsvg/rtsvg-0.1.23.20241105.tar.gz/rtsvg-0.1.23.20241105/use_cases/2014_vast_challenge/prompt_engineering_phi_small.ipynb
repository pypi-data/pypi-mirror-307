{
 "cells": [
  {
   "cell_type": "code",
   "execution_count": null,
   "metadata": {},
   "outputs": [],
   "source": [
    "import torch\n",
    "from transformers import AutoModelForCausalLM, AutoTokenizer, pipeline\n",
    "torch.random.manual_seed(0)\n",
    "model_id = \"microsoft/Phi-3-small-8k-instruct\"\n",
    "model = AutoModelForCausalLM.from_pretrained(model_id, torch_dtype=\"auto\", trust_remote_code=True, )\n",
    "assert torch.cuda.is_available(), \"This model needs a GPU to run ...\"\n",
    "device = torch.cuda.current_device()\n",
    "model = model.to(device)\n",
    "tokenizer = AutoTokenizer.from_pretrained(model_id, trust_remote_code=True)\n",
    "pipe = pipeline(\"text-generation\",model=model,tokenizer=tokenizer,device=device)\n",
    "def promptModel(prompt, max_tokens=500, temperature=0.0, do_sample=False):\n",
    "    messages = [{\"role\": \"user\", \"content\": prompt},]\n",
    "    generation_args = {\"max_new_tokens\": max_tokens, \"return_full_text\": False,\n",
    "                       \"temperature\": temperature,   \"do_sample\": do_sample,\n",
    "                       \"pad_token_id\": tokenizer.eos_token_id}\n",
    "    output = pipe(messages, **generation_args)\n",
    "    return output[0]['generated_text']"
   ]
  },
  {
   "cell_type": "code",
   "execution_count": null,
   "metadata": {},
   "outputs": [],
   "source": [
    "#\n",
    "# Prepare an article for processing by loading it, separating it into sentences, and doing basic cleaning\n",
    "#\n",
    "import os\n",
    "_base_dir_ = '../../../data/2014_vast/MC1/News Articles'\n",
    "os.listdir(_base_dir_ + '/Everyday News')\n",
    "_txt_raw_     = open(_base_dir_ + '/Everyday News/343.txt', 'rb').read()\n",
    "_txt_better_  = str(_txt_raw_, encoding='utf-8').replace('\\r', '').split('\\n')\n",
    "_txt_         = []\n",
    "for _line_ in _txt_better_:\n",
    "    if _line_ == '' or _line_ == '\\n' or _line_ == '\\r': continue\n",
    "    if '.' in _line_:\n",
    "        for _sent_ in _line_.split('.'):\n",
    "            _sent_ = _sent_.strip()\n",
    "            if _sent_ == '' or _sent_ == '\\n' or _sent_ == '\\r' or _sent_ == '.': continue\n",
    "            _txt_.append(_sent_ + '.')\n",
    "    else:\n",
    "        _txt_.append(_line_.strip())\n",
    "print('\\n'.join(_txt_))"
   ]
  },
  {
   "cell_type": "code",
   "execution_count": null,
   "metadata": {},
   "outputs": [],
   "source": [
    "#\n",
    "# Grammar is a problem with the articles -- let's have the model fix that up first\n",
    "#\n",
    "_grammar_ = []\n",
    "for _sent_ in _txt_:\n",
    "    if _sent_.lower().startswith('source:') or _sent_.lower().startswith('title:') or _sent_.lower().startswith('published:'): continue\n",
    "    _fixed_up_ = promptModel('Make the following sentence grammatically correct.  Just return the corrected sentence with no explanation: \"' + _sent_ + '\"')    \n",
    "    _grammar_.append(_fixed_up_)\n",
    "print('\\n'.join(_grammar_))"
   ]
  },
  {
   "cell_type": "code",
   "execution_count": null,
   "metadata": {},
   "outputs": [],
   "source": [
    "#\n",
    "# This part is unreliable with phi-3-small-128k...\n",
    "# ... entity extraction seems to be reasonable... but relationships are not...\n",
    "#\n",
    "i = 3\n",
    "\n",
    "_entity_prompt_ = '''Extract just the people, groups, organizations, countries, cities, places, and locations from the following sentence.\n",
    "Return as CSV with a header of \"entity, type\".  Just return the CSV.  Do not include an explanation or any caveats.'''\n",
    "\n",
    "_example_ = promptModel(_entity_prompt_ + '\\n\\n' + _grammar_[i])\n",
    "print(_grammar_[i])\n",
    "print(_example_)\n",
    "\n",
    "# This pulls out two entities from the last extraction and asks for a relationship... the llm doesn't just pull out the relationships between these two specific entities...\n",
    "_relationship_prompt_ = '''What is the relationship between \"government of Kronos\" and the \"protestors\" in the following sentence?\n",
    "Return as CSV with a header of \"subject, relationship, object\".  Just return the CSV.  Do not include an explanation or any caveats.'''\n",
    "\n",
    "_example_ = promptModel(_relationship_prompt_ + '\\n\\n' + _grammar_[i])\n",
    "print(_example_)"
   ]
  },
  {
   "cell_type": "code",
   "execution_count": 5,
   "metadata": {},
   "outputs": [],
   "source": [
    "# 12.6s for one article...\n",
    "_entity_prompt_ = '''Extract just the people, groups, organizations, countries, cities, places, and locations from the following sentence.\n",
    "Return as CSV with a header of \"entity, type\".  Just return the CSV.  Do not include an explanation or any caveats.'''\n",
    "_entity_extracts_ = {}\n",
    "for _sent_i_ in range(len(_grammar_)):\n",
    "    _entity_extracts_[_sent_i_] = promptModel(_entity_prompt_ + '\\n\\n' + _grammar_[_sent_i_])"
   ]
  },
  {
   "cell_type": "code",
   "execution_count": null,
   "metadata": {},
   "outputs": [],
   "source": []
  }
 ],
 "metadata": {
  "kernelspec": {
   "display_name": ".venv",
   "language": "python",
   "name": "python3"
  },
  "language_info": {
   "codemirror_mode": {
    "name": "ipython",
    "version": 3
   },
   "file_extension": ".py",
   "mimetype": "text/x-python",
   "name": "python",
   "nbconvert_exporter": "python",
   "pygments_lexer": "ipython3",
   "version": "3.12.3"
  }
 },
 "nbformat": 4,
 "nbformat_minor": 2
}
