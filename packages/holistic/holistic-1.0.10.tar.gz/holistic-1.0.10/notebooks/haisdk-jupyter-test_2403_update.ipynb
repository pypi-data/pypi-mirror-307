{
 "cells": [
  {
   "cell_type": "code",
   "execution_count": null,
   "id": "d8307d96",
   "metadata": {},
   "outputs": [],
   "source": [
    "# pip install haisdk-0.5.27-py3-none-any.whl"
   ]
  },
  {
   "cell_type": "code",
   "execution_count": null,
   "id": "81d0b322",
   "metadata": {},
   "outputs": [],
   "source": [
    "# pip install pandas"
   ]
  },
  {
   "cell_type": "code",
   "execution_count": null,
   "id": "886f81e7",
   "metadata": {},
   "outputs": [],
   "source": [
    "# pip install numpy"
   ]
  },
  {
   "cell_type": "code",
   "execution_count": null,
   "id": "753aebf6",
   "metadata": {},
   "outputs": [],
   "source": [
    "# pip install scikit-learn==1.2.2"
   ]
  },
  {
   "cell_type": "code",
   "execution_count": null,
   "id": "969db377",
   "metadata": {},
   "outputs": [],
   "source": [
    "import sys\n",
    "\n",
    "#sys.path.insert(0, '/home/cristian/hai-assessments-sdk/src')\n",
    "#sys.path.insert(0, '/home/cristian/holisticaisdk')"
   ]
  },
  {
   "cell_type": "code",
   "execution_count": null,
   "id": "074ccf1a",
   "metadata": {},
   "outputs": [],
   "source": [
    "from holistic import Assess, Config\n",
    "#from haisdk.assessment import Assess\n",
    "#from haisdk.config import Config\n",
    "#from hai_assessments_sdk.assessment import Assess\n",
    "#from hai_assessments_sdk.config import Config\n",
    "import pandas as pd\n",
    "import numpy as np\n",
    "from sklearn.linear_model import LogisticRegression"
   ]
  },
  {
   "cell_type": "code",
   "execution_count": null,
   "id": "0f79eec3",
   "metadata": {},
   "outputs": [],
   "source": [
    "config = {\n",
    "  \"projectId\": \"c938e116-8163-4103-b6b8-14807f41f5ae\",\n",
    "  \"solutionId\": \"6826b507-7dcc-4236-90b1-cb0bad8b92bf\",\n",
    "  \"moduleId\": \"EfficacyAssessment\",\n",
    "  \"clientId\": \"unilever\",\n",
    "  \"key\": \"PWhFuKJb2SQ5Wn9dDzrlBwaf4CiPQx09\",\n",
    "  \"api\": \"api-sdk-staging-unilever-v1.holisticai.io\"\n",
    "}\n",
    "\n",
    "session = Config(config=config)"
   ]
  },
  {
   "cell_type": "code",
   "execution_count": null,
   "id": "193daca0",
   "metadata": {},
   "outputs": [],
   "source": [
    "df_train = pd.read_csv('german_credit_train.csv')\n",
    "df_test = pd.read_csv('german_credit_test.csv')\n",
    "\n",
    "settings = {\n",
    "    'config': config,\n",
    "    'task': 'binary_classification',\n",
    "    'data_type': 'train-test',\n",
    "    'target_column': 'default',\n",
    "    'prediction_columns': [],\n",
    "    'model_class': 'sklearn',\n",
    "}\n",
    "\n",
    "model = LogisticRegression(max_iter=10)\n",
    "model.fit(df_train.drop(columns=settings[\"target_column\"]), df_train[\"default\"])"
   ]
  },
  {
   "cell_type": "code",
   "execution_count": null,
   "id": "f4542c4d",
   "metadata": {},
   "outputs": [],
   "source": [
    "assess = Assess(session=session, settings=settings)\n",
    "res = assess.run(X=df_train, y=df_test, y_pred=None, model=model)\n",
    "\n",
    "print(res.json())"
   ]
  },
  {
   "cell_type": "code",
   "execution_count": null,
   "id": "90ba9728",
   "metadata": {},
   "outputs": [],
   "source": []
  }
 ],
 "metadata": {
  "kernelspec": {
   "display_name": "testing",
   "language": "python",
   "name": "python3"
  },
  "language_info": {
   "codemirror_mode": {
    "name": "ipython",
    "version": 3
   },
   "file_extension": ".py",
   "mimetype": "text/x-python",
   "name": "python",
   "nbconvert_exporter": "python",
   "pygments_lexer": "ipython3",
   "version": "3.11.3"
  }
 },
 "nbformat": 4,
 "nbformat_minor": 5
}
