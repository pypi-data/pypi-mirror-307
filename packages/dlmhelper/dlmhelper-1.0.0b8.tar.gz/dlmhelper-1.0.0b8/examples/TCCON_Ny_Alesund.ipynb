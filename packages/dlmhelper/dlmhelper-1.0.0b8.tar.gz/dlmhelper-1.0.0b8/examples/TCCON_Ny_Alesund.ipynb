{
 "cells": [
  {
   "cell_type": "code",
   "execution_count": null,
   "id": "797cbf3b-adab-4bbc-b1f4-6af5f87c8033",
   "metadata": {},
   "outputs": [],
   "source": [
    "import numpy as np\n",
    "import xarray as xr\n",
    "import matplotlib.pyplot as plt\n",
    "\n",
    "import dlmhelper.tools\n",
    "import dlmhelper.data"
   ]
  },
  {
   "cell_type": "markdown",
   "id": "5f7aa73e-7115-4764-bd95-969b554cc5f7",
   "metadata": {},
   "source": [
    "The TCCON data is available from [https://data.caltech.edu/records/3t5by-f7e05](https://data.caltech.edu/records/3t5by-f7e05)"
   ]
  },
  {
   "cell_type": "code",
   "execution_count": null,
   "id": "89654fa7-9266-4dcb-baa6-5df59e0cb9d6",
   "metadata": {},
   "outputs": [],
   "source": [
    "path_in = \"/path/to/ny20050314_20210919.public.qc.nc\""
   ]
  },
  {
   "cell_type": "code",
   "execution_count": null,
   "id": "c661b280-8d40-4053-8cc7-b0654847f6b0",
   "metadata": {},
   "outputs": [],
   "source": [
    "ds = xr.open_dataset(path_in)\n",
    "ds"
   ]
  },
  {
   "cell_type": "code",
   "execution_count": null,
   "id": "373bb2de-7ceb-46a2-84da-ce871c977b0d",
   "metadata": {},
   "outputs": [],
   "source": [
    "time = ds.time.data\n",
    "data = ds.xch4.data*1000\n",
    "error = ds.xch4_error.data*1000\n",
    "product_type =\"TCCON.GGG2020\"\n",
    "\n",
    "ds.close()"
   ]
  },
  {
   "cell_type": "code",
   "execution_count": null,
   "id": "512332bb-1834-430e-80d4-9f9fd18d9c9b",
   "metadata": {},
   "outputs": [],
   "source": [
    "ts = dlmhelper.data.TimeSeries(data, time64 = time, time_unit='month', error=error, product_type=product_type)"
   ]
  },
  {
   "cell_type": "code",
   "execution_count": null,
   "id": "72c6a14f-ad5c-4c0b-a846-60f91060a1e1",
   "metadata": {},
   "outputs": [],
   "source": [
    "fig, axs = plt.subplots(2,1)\n",
    "\n",
    "axs[0].plot(ts.time64, ts.data)\n",
    "axs[1].plot(ts.time64, ts.error)"
   ]
  },
  {
   "cell_type": "code",
   "execution_count": null,
   "id": "986a6ba0-4210-4875-becf-6d2e7fa64ed2",
   "metadata": {},
   "outputs": [],
   "source": [
    "scores = dlmhelper.tools.cv_dlm_ensemble(ts, level = [True], variable_level=[False], trend = [True], variable_trend=[True]\n",
    "                                           ,seasonal=[True], seasonal_period=[[12]], seasonal_harmonics=[[[1,2,3,4]]],\n",
    "                                           variable_seasonal=[[[True, False]]], autoregressive=[None, 1], irregular=[True, False], verbose=0)"
   ]
  },
  {
   "cell_type": "code",
   "execution_count": null,
   "id": "efd20337-715b-430c-8fa6-b67fb3af1925",
   "metadata": {},
   "outputs": [],
   "source": [
    "results = dlmhelper.tools.dlm_ensemble(ts,\"TCCON_NYA\", level = [True], variable_level=[False], trend = [True], variable_trend=[True]\n",
    "                                           ,seasonal=[True], seasonal_period=[[12]], seasonal_harmonics=[[[1,2,3,4]]],\n",
    "                                           variable_seasonal=[[[True, False]]], autoregressive=[None, 1], irregular=[True, False], scores = scores, verbose=2)"
   ]
  },
  {
   "cell_type": "code",
   "execution_count": null,
   "id": "2a3337fc-084d-42ac-baf1-5ca2ec02790c",
   "metadata": {},
   "outputs": [],
   "source": [
    "results.summary(sort=\"agg\")"
   ]
  },
  {
   "cell_type": "code",
   "execution_count": null,
   "id": "d67176c7-efc8-4a3f-99de-8977b8092490",
   "metadata": {},
   "outputs": [],
   "source": [
    "results.plot_summary(sort=\"agg\", num=8, figsize=(12,8))"
   ]
  },
  {
   "cell_type": "code",
   "execution_count": null,
   "id": "aa54e15f-6ad4-48ba-9272-a22056211e93",
   "metadata": {},
   "outputs": [],
   "source": [
    "r=results.get_best_result(sort=\"agg\")"
   ]
  },
  {
   "cell_type": "code",
   "execution_count": null,
   "id": "4f9c67b5-75bf-4d5b-b846-d1cdf6424f38",
   "metadata": {
    "tags": []
   },
   "outputs": [],
   "source": [
    "fig = r.plot_summary(figsize=(12,8))"
   ]
  },
  {
   "cell_type": "code",
   "execution_count": null,
   "id": "2db8471b-2bfa-48ff-9ee3-43504c23b997",
   "metadata": {},
   "outputs": [],
   "source": []
  }
 ],
 "metadata": {
  "kernelspec": {
   "display_name": "Python 3",
   "language": "python",
   "name": "python3"
  },
  "language_info": {
   "codemirror_mode": {
    "name": "ipython",
    "version": 3
   },
   "file_extension": ".py",
   "mimetype": "text/x-python",
   "name": "python",
   "nbconvert_exporter": "python",
   "pygments_lexer": "ipython3",
   "version": "3.8.10"
  }
 },
 "nbformat": 4,
 "nbformat_minor": 5
}
