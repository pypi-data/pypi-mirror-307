{
 "cells": [
  {
   "cell_type": "code",
   "execution_count": null,
   "id": "7a02cc62-6a31-4412-b6c2-5523b7b44c1a",
   "metadata": {},
   "outputs": [],
   "source": [
    "import statsmodels.api as sm\n",
    "import numpy as np\n",
    "\n",
    "import dlmhelper.data\n",
    "import dlmhelper.tools"
   ]
  },
  {
   "cell_type": "code",
   "execution_count": null,
   "id": "6c362837-6665-406d-ac77-8f02ee561e45",
   "metadata": {},
   "outputs": [],
   "source": [
    "dataset = sm.datasets.nile.load()"
   ]
  },
  {
   "cell_type": "code",
   "execution_count": null,
   "id": "b63314e0-e222-4fc0-8326-9d5173a33c92",
   "metadata": {},
   "outputs": [],
   "source": [
    "print(sm.datasets.nile.TITLE)"
   ]
  },
  {
   "cell_type": "code",
   "execution_count": null,
   "id": "fb751886-fa6d-4b57-bbd7-a5f2c14ad5c3",
   "metadata": {},
   "outputs": [],
   "source": [
    "dataset.data"
   ]
  },
  {
   "cell_type": "markdown",
   "id": "1b069d03-d157-4be8-bd52-279280731c92",
   "metadata": {},
   "source": [
    "Now we create a time series object from this data using the following inputs:\n",
    "\n",
    "- **time & data** : provide the data with corresponding time values\n",
    "- **product_type** : allows to save some identifier with the data\n",
    "- **time_unit** : the time unit declares what a single time step corresponds to\n",
    "- **reference_time** : the reference time in this case is the year 0\n",
    "\n",
    "Alternatively we could pass an array of numpy.datetime64 values to the constructor and only declare the time_unit (since the reference time is already included in the numpy.datetime64 objects):\n",
    "- **dlmhelper.data.TimeSeries(data, time64 = time64,...)**"
   ]
  },
  {
   "cell_type": "code",
   "execution_count": null,
   "id": "c467431f-7715-4d5a-bac0-1d5192552041",
   "metadata": {},
   "outputs": [],
   "source": [
    "time = np.asarray(dataset.data.year)\n",
    "data = np.asarray(dataset.data.volume)\n",
    "\n",
    "product_type=\"Nile_Flows_Ashwan\"\n",
    "time_unit = \"year\"\n",
    "reference_time = np.datetime64('0000-01-01')"
   ]
  },
  {
   "cell_type": "code",
   "execution_count": null,
   "id": "434d0279-41b8-4a2f-ac0e-3cda05e6a5c6",
   "metadata": {},
   "outputs": [],
   "source": [
    "#Uncomment to see the docstring for TimeSeries\n",
    "#?dlmhelper.data.TimeSeries"
   ]
  },
  {
   "cell_type": "code",
   "execution_count": null,
   "id": "7ede2ec2-5a5f-40fd-abb1-c41e5d7c4857",
   "metadata": {},
   "outputs": [],
   "source": [
    "timeseries = dlmhelper.data.TimeSeries(data, time = time, time_unit=time_unit, reference_time= reference_time, product_type=product_type)"
   ]
  },
  {
   "cell_type": "markdown",
   "id": "fe992115-a7fc-4e80-b96b-1119553af847",
   "metadata": {},
   "source": [
    "The timeseries can be quickly plotted"
   ]
  },
  {
   "cell_type": "code",
   "execution_count": null,
   "id": "719ff329-6660-45e3-9d05-a2ec50d697b3",
   "metadata": {},
   "outputs": [],
   "source": [
    "_fig, _ax = timeseries.plot()"
   ]
  },
  {
   "cell_type": "markdown",
   "id": "df18053b-7eca-4cf5-b06e-c201f3966a5e",
   "metadata": {},
   "source": [
    "Next we perform a single dynamic linear fit on the time series"
   ]
  },
  {
   "cell_type": "code",
   "execution_count": null,
   "id": "4241900c-2c53-4a92-9344-cacc5daaa6af",
   "metadata": {},
   "outputs": [],
   "source": [
    "result = dlmhelper.tools.dlm_fit(timeseries, \"Nile_fit_test\",level=True, variable_level=False,trend=True, variable_trend=True,\n",
    "                    seasonal=False, autoregressive=None, irregular=True\n",
    "                       )"
   ]
  },
  {
   "cell_type": "code",
   "execution_count": null,
   "id": "ff2facce-f3c2-4bf5-8505-0110475caec8",
   "metadata": {},
   "outputs": [],
   "source": [
    "#Uncomment to see the docstring for dlm_fit\n",
    "#?dlmhelper.tools.dlm_fit"
   ]
  },
  {
   "cell_type": "markdown",
   "id": "af27a45e-de85-4b88-8f70-85287f5f253d",
   "metadata": {},
   "source": [
    "We can quicky visualize an overview of the results"
   ]
  },
  {
   "cell_type": "code",
   "execution_count": null,
   "id": "68c51b09-140a-4fb0-acb1-514562903234",
   "metadata": {},
   "outputs": [],
   "source": [
    "fig = result.plot_summary(figsize=(8,4))"
   ]
  },
  {
   "cell_type": "markdown",
   "id": "c686c61c-f070-49ff-b5ba-9e1a31ae8bfc",
   "metadata": {},
   "source": [
    "It is also possible to perform an ensemble fit on the data using a single command.\n",
    "\n",
    "We vary the variability of the trend and the inclusion of an irregular or autoregressive component"
   ]
  },
  {
   "cell_type": "code",
   "execution_count": null,
   "id": "af27e773-63da-4483-8319-8cf326806014",
   "metadata": {},
   "outputs": [],
   "source": [
    "seasonal = [False]\n",
    "variable_trend = [True, False]\n",
    "autoregressive = [None,1]\n",
    "irregular = [True, False]"
   ]
  },
  {
   "cell_type": "code",
   "execution_count": null,
   "id": "06453da7-ec50-4c81-aca5-c615e27344a5",
   "metadata": {},
   "outputs": [],
   "source": [
    "result_list = dlmhelper.tools.dlm_ensemble(timeseries, \"Nile_ensemble_test\",\n",
    "                                           seasonal=seasonal, variable_trend = variable_trend,\n",
    "                                           autoregressive=autoregressive, irregular=irregular)"
   ]
  },
  {
   "cell_type": "markdown",
   "id": "85db0a33-b773-488b-a2e5-dbf0ef40cd94",
   "metadata": {},
   "source": [
    "The results can be quickly listed using the **summary()** method"
   ]
  },
  {
   "cell_type": "code",
   "execution_count": null,
   "id": "32dec29c-3442-4f42-8729-edc20101ebbc",
   "metadata": {},
   "outputs": [],
   "source": [
    "result_list.summary()"
   ]
  },
  {
   "cell_type": "markdown",
   "id": "9f8e374d-98b7-4240-9eca-a3d2336f0c53",
   "metadata": {},
   "source": [
    "The results can be quickly plotted using the **plot_summary()** method"
   ]
  },
  {
   "cell_type": "code",
   "execution_count": null,
   "id": "e0c4852f-1d99-4ef2-8c47-c2f074c774af",
   "metadata": {},
   "outputs": [],
   "source": [
    "result_list.plot_summary(sort=\"aic\", num=4, figsize=(12,4))"
   ]
  },
  {
   "cell_type": "code",
   "execution_count": null,
   "id": "74e326ef-9ca4-4d82-8238-425e02a2a43a",
   "metadata": {},
   "outputs": [],
   "source": []
  }
 ],
 "metadata": {
  "kernelspec": {
   "display_name": "Python 3",
   "language": "python",
   "name": "python3"
  },
  "language_info": {
   "codemirror_mode": {
    "name": "ipython",
    "version": 3
   },
   "file_extension": ".py",
   "mimetype": "text/x-python",
   "name": "python",
   "nbconvert_exporter": "python",
   "pygments_lexer": "ipython3",
   "version": "3.8.10"
  }
 },
 "nbformat": 4,
 "nbformat_minor": 5
}
