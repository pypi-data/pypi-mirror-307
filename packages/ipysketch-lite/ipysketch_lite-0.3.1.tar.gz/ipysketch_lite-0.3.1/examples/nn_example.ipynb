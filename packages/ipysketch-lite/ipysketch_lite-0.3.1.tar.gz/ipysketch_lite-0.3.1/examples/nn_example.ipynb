{
 "cells": [
  {
   "cell_type": "code",
   "execution_count": 5,
   "metadata": {},
   "outputs": [
    {
     "name": "stdout",
     "output_type": "stream",
     "text": [
      "Downloading http://yann.lecun.com/exdb/mnist/train-images-idx3-ubyte.gz\n",
      "Failed to download (trying next):\n",
      "HTTP Error 403: Forbidden\n",
      "\n",
      "Downloading https://ossci-datasets.s3.amazonaws.com/mnist/train-images-idx3-ubyte.gz\n",
      "Downloading https://ossci-datasets.s3.amazonaws.com/mnist/train-images-idx3-ubyte.gz to ./data\\MNIST\\raw\\train-images-idx3-ubyte.gz\n"
     ]
    },
    {
     "name": "stderr",
     "output_type": "stream",
     "text": [
      "100%|██████████| 9912422/9912422 [00:00<00:00, 30107626.13it/s]\n"
     ]
    },
    {
     "name": "stdout",
     "output_type": "stream",
     "text": [
      "Extracting ./data\\MNIST\\raw\\train-images-idx3-ubyte.gz to ./data\\MNIST\\raw\n",
      "\n",
      "Downloading http://yann.lecun.com/exdb/mnist/train-labels-idx1-ubyte.gz\n",
      "Failed to download (trying next):\n",
      "HTTP Error 403: Forbidden\n",
      "\n",
      "Downloading https://ossci-datasets.s3.amazonaws.com/mnist/train-labels-idx1-ubyte.gz\n",
      "Downloading https://ossci-datasets.s3.amazonaws.com/mnist/train-labels-idx1-ubyte.gz to ./data\\MNIST\\raw\\train-labels-idx1-ubyte.gz\n"
     ]
    },
    {
     "name": "stderr",
     "output_type": "stream",
     "text": [
      "100%|██████████| 28881/28881 [00:00<00:00, 890304.30it/s]\n"
     ]
    },
    {
     "name": "stdout",
     "output_type": "stream",
     "text": [
      "Extracting ./data\\MNIST\\raw\\train-labels-idx1-ubyte.gz to ./data\\MNIST\\raw\n",
      "\n",
      "Downloading http://yann.lecun.com/exdb/mnist/t10k-images-idx3-ubyte.gz\n",
      "Failed to download (trying next):\n",
      "HTTP Error 403: Forbidden\n",
      "\n",
      "Downloading https://ossci-datasets.s3.amazonaws.com/mnist/t10k-images-idx3-ubyte.gz\n",
      "Downloading https://ossci-datasets.s3.amazonaws.com/mnist/t10k-images-idx3-ubyte.gz to ./data\\MNIST\\raw\\t10k-images-idx3-ubyte.gz\n"
     ]
    },
    {
     "name": "stderr",
     "output_type": "stream",
     "text": [
      "100%|██████████| 1648877/1648877 [00:00<00:00, 7993365.03it/s]\n"
     ]
    },
    {
     "name": "stdout",
     "output_type": "stream",
     "text": [
      "Extracting ./data\\MNIST\\raw\\t10k-images-idx3-ubyte.gz to ./data\\MNIST\\raw\n",
      "\n",
      "Downloading http://yann.lecun.com/exdb/mnist/t10k-labels-idx1-ubyte.gz\n",
      "Failed to download (trying next):\n",
      "HTTP Error 403: Forbidden\n",
      "\n",
      "Downloading https://ossci-datasets.s3.amazonaws.com/mnist/t10k-labels-idx1-ubyte.gz\n",
      "Downloading https://ossci-datasets.s3.amazonaws.com/mnist/t10k-labels-idx1-ubyte.gz to ./data\\MNIST\\raw\\t10k-labels-idx1-ubyte.gz\n"
     ]
    },
    {
     "name": "stderr",
     "output_type": "stream",
     "text": [
      "100%|██████████| 4542/4542 [00:00<00:00, 4542329.22it/s]"
     ]
    },
    {
     "name": "stdout",
     "output_type": "stream",
     "text": [
      "Extracting ./data\\MNIST\\raw\\t10k-labels-idx1-ubyte.gz to ./data\\MNIST\\raw\n",
      "\n"
     ]
    },
    {
     "name": "stderr",
     "output_type": "stream",
     "text": [
      "\n"
     ]
    },
    {
     "name": "stdout",
     "output_type": "stream",
     "text": [
      "Epoch [1/5], Step [100/938], Loss: 0.2451\n",
      "Epoch [1/5], Step [200/938], Loss: 0.1357\n",
      "Epoch [1/5], Step [300/938], Loss: 0.1011\n",
      "Epoch [1/5], Step [400/938], Loss: 0.1696\n",
      "Epoch [1/5], Step [500/938], Loss: 0.1067\n",
      "Epoch [1/5], Step [600/938], Loss: 0.2918\n",
      "Epoch [1/5], Step [700/938], Loss: 0.1436\n",
      "Epoch [1/5], Step [800/938], Loss: 0.2446\n",
      "Epoch [1/5], Step [900/938], Loss: 0.2010\n",
      "Epoch [2/5], Step [100/938], Loss: 0.1178\n",
      "Epoch [2/5], Step [200/938], Loss: 0.0604\n",
      "Epoch [2/5], Step [300/938], Loss: 0.0480\n",
      "Epoch [2/5], Step [400/938], Loss: 0.0547\n",
      "Epoch [2/5], Step [500/938], Loss: 0.0527\n",
      "Epoch [2/5], Step [600/938], Loss: 0.1069\n",
      "Epoch [2/5], Step [700/938], Loss: 0.0948\n",
      "Epoch [2/5], Step [800/938], Loss: 0.1357\n",
      "Epoch [2/5], Step [900/938], Loss: 0.0765\n",
      "Epoch [3/5], Step [100/938], Loss: 0.0324\n",
      "Epoch [3/5], Step [200/938], Loss: 0.1001\n",
      "Epoch [3/5], Step [300/938], Loss: 0.0089\n",
      "Epoch [3/5], Step [400/938], Loss: 0.0169\n",
      "Epoch [3/5], Step [500/938], Loss: 0.0208\n",
      "Epoch [3/5], Step [600/938], Loss: 0.0126\n",
      "Epoch [3/5], Step [700/938], Loss: 0.0173\n",
      "Epoch [3/5], Step [800/938], Loss: 0.0347\n",
      "Epoch [3/5], Step [900/938], Loss: 0.2357\n",
      "Epoch [4/5], Step [100/938], Loss: 0.0142\n",
      "Epoch [4/5], Step [200/938], Loss: 0.0107\n",
      "Epoch [4/5], Step [300/938], Loss: 0.0619\n",
      "Epoch [4/5], Step [400/938], Loss: 0.0186\n",
      "Epoch [4/5], Step [500/938], Loss: 0.2034\n",
      "Epoch [4/5], Step [600/938], Loss: 0.0842\n",
      "Epoch [4/5], Step [700/938], Loss: 0.0299\n",
      "Epoch [4/5], Step [800/938], Loss: 0.0803\n",
      "Epoch [4/5], Step [900/938], Loss: 0.0630\n",
      "Epoch [5/5], Step [100/938], Loss: 0.0995\n",
      "Epoch [5/5], Step [200/938], Loss: 0.0057\n",
      "Epoch [5/5], Step [300/938], Loss: 0.0071\n",
      "Epoch [5/5], Step [400/938], Loss: 0.0996\n",
      "Epoch [5/5], Step [500/938], Loss: 0.0657\n",
      "Epoch [5/5], Step [600/938], Loss: 0.0135\n",
      "Epoch [5/5], Step [700/938], Loss: 0.0069\n",
      "Epoch [5/5], Step [800/938], Loss: 0.0209\n",
      "Epoch [5/5], Step [900/938], Loss: 0.0243\n",
      "Accuracy of the model on the 10000 test images: 97.88%\n"
     ]
    },
    {
     "data": {
      "image/png": "[encoded data removed]",
      "text/plain": [
       "<Figure size 640x480 with 1 Axes>"
      ]
     },
     "metadata": {},
     "output_type": "display_data"
    }
   ],
   "source": [
    "import torch\n",
    "import torch.nn as nn\n",
    "import torch.optim as optim\n",
    "import torchvision\n",
    "import torchvision.transforms as transforms\n",
    "from torch.utils.data import DataLoader\n",
    "import matplotlib.pyplot as plt\n",
    "\n",
    "# Normalize the data\n",
    "transform = transforms.Compose(\n",
    "    [transforms.ToTensor(), transforms.Normalize((0.1307,), (0.3081,))]\n",
    ")\n",
    "\n",
    "train_dataset = torchvision.datasets.MNIST(\n",
    "    root=\"./data\", train=True, download=True, transform=transform\n",
    ")\n",
    "test_dataset = torchvision.datasets.MNIST(\n",
    "    root=\"./data\", train=False, download=True, transform=transform\n",
    ")\n",
    "\n",
    "train_loader = DataLoader(dataset=train_dataset, batch_size=64, shuffle=True)\n",
    "test_loader = DataLoader(dataset=test_dataset, batch_size=64, shuffle=False)\n",
    "\n",
    "\n",
    "class SimpleNN(nn.Module):\n",
    "    def __init__(self):\n",
    "        super(SimpleNN, self).__init__()\n",
    "        self.fc1 = nn.Linear(28 * 28, 500)\n",
    "        self.fc2 = nn.Linear(500, 10)\n",
    "\n",
    "    def forward(self, x):\n",
    "        x = x.view(-1, 28 * 28)\n",
    "        x = torch.relu(self.fc1(x))\n",
    "        x = self.fc2(x)\n",
    "        return x\n",
    "\n",
    "\n",
    "model = SimpleNN()\n",
    "\n",
    "# Loss and optimizer\n",
    "criterion = nn.CrossEntropyLoss()\n",
    "optimizer = optim.Adam(model.parameters(), lr=0.001)\n",
    "\n",
    "# Training the model\n",
    "num_epochs = 5\n",
    "for epoch in range(num_epochs):\n",
    "    for batch_idx, (data, targets) in enumerate(train_loader):\n",
    "        # Forward pass\n",
    "        outputs = model(data)\n",
    "        loss = criterion(outputs, targets)\n",
    "\n",
    "        # Backward pass and optimization\n",
    "        optimizer.zero_grad()\n",
    "        loss.backward()\n",
    "        optimizer.step()\n",
    "\n",
    "        if (batch_idx + 1) % 100 == 0:\n",
    "            print(\n",
    "                f\"Epoch [{epoch+1}/{num_epochs}], Step [{batch_idx+1}/{len(train_loader)}], Loss: {loss.item():.4f}\"\n",
    "            )\n",
    "\n",
    "# Testing the model\n",
    "model.eval()\n",
    "with torch.no_grad():\n",
    "    correct = 0\n",
    "    total = 0\n",
    "    for data, targets in test_loader:\n",
    "        outputs = model(data)\n",
    "        _, predicted = torch.max(outputs.data, 1)\n",
    "        total += targets.size(0)\n",
    "        correct += (predicted == targets).sum().item()\n",
    "\n",
    "    print(\n",
    "        f\"Accuracy of the model on the 10000 test images: {100 * correct / total:.2f}%\"\n",
    "    )\n",
    "\n",
    "plt.title(predicted[0].item())\n",
    "plt.imshow(data[0].view(28, 28).numpy(), cmap=\"gray\")\n",
    "plt.show()"
   ]
  },
  {
   "cell_type": "code",
   "execution_count": 10,
   "metadata": {},
   "outputs": [
    {
     "data": {
      "text/html": [
       "\n",
       "        <style>\n",
       "        #toggleFill {\n",
       "            background-color: #f0f0f0;\n",
       "            border: 1px solid #999999;\n",
       "        }\n",
       "\n",
       "        #toggleFill.active {\n",
       "            background-color: #ffffff;\n",
       "            border: 1px solid #000000;\n",
       "        }\n",
       "        </style>\n",
       "        <canvas id=\"canvas\" width=\"28\" height=\"28\" style=\"border: 2px solid black;\"></canvas>\n",
       "        <button id=\"toggleFill\" onclick=\"toggleFill()\">bucket</button>\n",
       "        <button onclick=\"clearCanvas()\">clear</button>\n",
       "        <input id=\"color\" type=\"color\" value=\"#000000\"/>\n",
       "        <script>\n",
       "        var canvas = document.getElementById(\"canvas\");\n",
       "        var colorInput = document.getElementById(\"color\");\n",
       "        var toggleFillButton = document.getElementById(\"toggleFill\");\n",
       "        var ctx = canvas.getContext(\"2d\");\n",
       "        ctx.lineWidth = 4;\n",
       "        ctx.lineJoin = \"round\";\n",
       "        var drawing = false;\n",
       "        var mouse = { x: 0, y: 0 };\n",
       "        var fillMode = false;\n",
       "        \n",
       "        fetch('http://localhost:5000', {\n",
       "            method: 'POST',\n",
       "            headers: {\n",
       "            'Content-Type': 'text/plain',\n",
       "            },\n",
       "            body: canvas.toDataURL()\n",
       "        })\n",
       "\n",
       "        function toggleFill() {\n",
       "            fillMode = !fillMode;\n",
       "            toggleFillButton.classList.toggle(\"active\", fillMode);\n",
       "        }\n",
       "\n",
       "        function hexToRgb(hex) {\n",
       "            return {\n",
       "            r: parseInt(hex.substring(1, 3), 16),\n",
       "            g: parseInt(hex.substring(3, 5), 16),\n",
       "            b: parseInt(hex.substring(5, 7), 16),\n",
       "            a: 255\n",
       "            };\n",
       "        }\n",
       "\n",
       "        canvas.addEventListener(\"mousedown\", function(e) {\n",
       "            if (fillMode) {\n",
       "            floodFill(hexToRgb(colorInput.value), e.offsetX, e.offsetY);\n",
       "            return;\n",
       "            }\n",
       "\n",
       "            mouse = { x: e.offsetX, y: e.offsetY };\n",
       "            drawing = true;\n",
       "        });\n",
       "\n",
       "        canvas.addEventListener(\"mousemove\", function(e) {\n",
       "            if (drawing) {\n",
       "            drawLine(ctx, mouse.x, mouse.y, e.offsetX, e.offsetY);\n",
       "            mouse = { x: e.offsetX, y: e.offsetY };\n",
       "            }\n",
       "        });\n",
       "\n",
       "        canvas.addEventListener(\"mouseup\", function(e) {\n",
       "            if (drawing) {\n",
       "            drawLine(ctx, mouse.x, mouse.y, e.offsetX, e.offsetY);\n",
       "            drawing = false;\n",
       "            }\n",
       "            \n",
       "            fetch('http://localhost:5000', {\n",
       "                method: 'POST',\n",
       "                headers: {\n",
       "                'Content-Type': 'text/plain',\n",
       "                },\n",
       "                body: canvas.toDataURL()\n",
       "            })\n",
       "        });\n",
       "\n",
       "        function drawLine(context, x1, y1, x2, y2) {\n",
       "            ctx.strokeStyle = colorInput.value;\n",
       "            ctx.beginPath();\n",
       "            ctx.moveTo(x1, y1);\n",
       "            ctx.lineTo(x2, y2);\n",
       "            ctx.closePath();\n",
       "            ctx.stroke();\n",
       "        }\n",
       "\n",
       "        function clearCanvas() {\n",
       "            ctx.clearRect(0, 0, ctx.canvas.width, ctx.canvas.height);\n",
       "        }\n",
       "        \n",
       "        function floodFill(color, x, y) {\n",
       "            var imgData = ctx.getImageData(0, 0, canvas.width, canvas.height);\n",
       "            const { width, height, data } = imgData;\n",
       "            if (pixelColMatch(x, y, color, data, width)) return;\n",
       "\n",
       "            const stack = [[x, y]];\n",
       "            let baseIdx = (width * y + x) * 4;\n",
       "            const oColor = {\n",
       "            r: data[baseIdx],\n",
       "            g: data[baseIdx + 1],\n",
       "            b: data[baseIdx + 2],\n",
       "            a: data[baseIdx + 3],\n",
       "            };\n",
       "\n",
       "            while (stack.length) {\n",
       "            var [cx, cy] = stack.pop();\n",
       "            const move = (dx, dy) => {\n",
       "                let nx = cx + dx;\n",
       "                let ny = cy + dy;\n",
       "                while (\n",
       "                ny >= 0 &&\n",
       "                ny < height &&\n",
       "                pixelColMatch(nx, ny, oColor, data, width)\n",
       "                ) {\n",
       "                setPixelCol(nx, ny, color, data, width);\n",
       "                stack.push([nx, ny]);\n",
       "                ny += dy;\n",
       "                }\n",
       "            };\n",
       "            move(0, 1);\n",
       "            move(0, -1);\n",
       "            move(-1, 0);\n",
       "            move(1, 0);\n",
       "            }\n",
       "            ctx.putImageData(imgData, 0, 0);\n",
       "        }\n",
       "\n",
       "        function pixelColMatch(x, y, color, data, width) {\n",
       "            var baseIdx = (width * y + x) * 4;\n",
       "            return (\n",
       "            data[baseIdx] === color.r &&\n",
       "            data[baseIdx + 1] === color.g &&\n",
       "            data[baseIdx + 2] === color.b &&\n",
       "            data[baseIdx + 3] === color.a\n",
       "            );\n",
       "        }\n",
       "\n",
       "        function setPixelCol(x, y, color, data, width) {\n",
       "            var baseIdx = (width * y + x) * 4;\n",
       "            data[baseIdx] = color.r & 0xff;\n",
       "            data[baseIdx + 1] = color.g & 0xff;\n",
       "            data[baseIdx + 2] = color.b & 0xff;\n",
       "            data[baseIdx + 3] = color.a & 0xff;\n",
       "        }\n",
       "        </script>\n",
       "        "
      ],
      "text/plain": [
       "<IPython.core.display.HTML object>"
      ]
     },
     "metadata": {},
     "output_type": "display_data"
    }
   ],
   "source": [
    "from ipysketch_lite import Sketch\n",
    "import numpy as np\n",
    "\n",
    "sketch = Sketch(width=28, height=28)"
   ]
  },
  {
   "cell_type": "code",
   "execution_count": 27,
   "metadata": {},
   "outputs": [
    {
     "data": {
      "image/png": "[encoded data removed]",
      "text/plain": [
       "<Figure size 640x480 with 1 Axes>"
      ]
     },
     "metadata": {},
     "output_type": "display_data"
    }
   ],
   "source": [
    "mysketch = sketch.get_output_array()\n",
    "out = np.sum(mysketch, axis=2) > 0\n",
    "\n",
    "# Make a prediction with the sketch\n",
    "with torch.no_grad():\n",
    "    tensor = torch.tensor(out, dtype=torch.float32).view(1, 28, 28)\n",
    "    outputs = model(tensor)\n",
    "    _, predicted = torch.max(outputs.data, 1)\n",
    "\n",
    "plt.title(f\"Predicted label: {predicted[0].item()}\")\n",
    "plt.imshow(out, cmap=\"gray\")\n",
    "plt.show()"
   ]
  }
 ],
 "metadata": {
  "kernelspec": {
   "display_name": "Python 3",
   "language": "python",
   "name": "python3"
  },
  "language_info": {
   "codemirror_mode": {
    "name": "ipython",
    "version": 3
   },
   "file_extension": ".py",
   "mimetype": "text/x-python",
   "name": "python",
   "nbconvert_exporter": "python",
   "pygments_lexer": "ipython3",
   "version": "3.9.6"
  }
 },
 "nbformat": 4,
 "nbformat_minor": 2
}
