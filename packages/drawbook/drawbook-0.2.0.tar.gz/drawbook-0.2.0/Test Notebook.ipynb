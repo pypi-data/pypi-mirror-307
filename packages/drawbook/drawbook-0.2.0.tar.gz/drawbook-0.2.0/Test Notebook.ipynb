{
 "cells": [
  {
   "cell_type": "code",
   "execution_count": 1,
   "id": "6eb14615-5dc3-47a8-9a9b-40b28c56e1b3",
   "metadata": {},
   "outputs": [],
   "source": [
    "from drawbook import Book\n",
    "\n",
    "book = Book(title=\"Mustafa's Trip to Mars\", pages=[\n",
    "    \"One day, Mustafa climbs into the attic and finds a white spacesuit.\",\n",
    "    \"He puts on the spacesuit and the spacesuit starts to glow!\",\n",
    "    \"Mustafa starts to float up into the air in his spacesuit. He waves bye-bye to his house as it gets tiny down below.\",\n",
    "    \"The stars look like tiny lights all around him. His spacesuit flies fast past the moon and the sun.\",\n",
    "    \"Mustafa lands on Mars. The landing makes a big crater in the Martian surface.\",\n",
    "    \"Mustafa explores Mars in his spacesuit. He meets a Martian and waves hello to him.\",\n",
    "    \"Mustafa and the Martian play with toys on Mars. They have a great time together!\",\n",
    "], author=\"Abubakar Abid\")"
   ]
  },
  {
   "cell_type": "code",
   "execution_count": 2,
   "id": "2c882b0f",
   "metadata": {},
   "outputs": [
    {
     "name": "stdout",
     "output_type": "stream",
     "text": [
      "Generating illustrations... This could take a few minutes.\n"
     ]
    },
    {
     "name": "stderr",
     "output_type": "stream",
     "text": [
      "Generating illustrations:   0%|          | 0/8 [00:00<?, ?it/s]"
     ]
    },
    {
     "name": "stdout",
     "output_type": "stream",
     "text": [
      "\n",
      "=== Processing title ===\n",
      "Original text: Mustafa's Trip to Mars\n",
      "Title illustration prompt: A boy traveling to Mars\n",
      "Final title image prompt: A AQUACOLTOK watercolor painting with a white background of: A boy traveling to Mars\n"
     ]
    }
   ],
   "source": [
    "book.illustrate()"
   ]
  },
  {
   "cell_type": "code",
   "execution_count": null,
   "id": "65584ca8",
   "metadata": {},
   "outputs": [],
   "source": [
    "book.preview()"
   ]
  },
  {
   "cell_type": "code",
   "execution_count": 3,
   "id": "5451dab6-9bee-484b-af77-4cdff546a2ed",
   "metadata": {},
   "outputs": [
    {
     "name": "stdout",
     "output_type": "stream",
     "text": [
      "Book exported to: /Users/abidlabs/dev/drawbook/test.pptx\n"
     ]
    },
    {
     "data": {
      "text/plain": [
       "True"
      ]
     },
     "execution_count": 3,
     "metadata": {},
     "output_type": "execute_result"
    }
   ],
   "source": [
    "book.export(\"test.pptx\")\n",
    "import webbrowser\n",
    "webbrowser.open('file:///Users/abidlabs/dev/drawbook/test.pptx')"
   ]
  }
 ],
 "metadata": {
  "kernelspec": {
   "display_name": "Python 3.12",
   "language": "python",
   "name": "python3"
  },
  "language_info": {
   "codemirror_mode": {
    "name": "ipython",
    "version": 3
   },
   "file_extension": ".py",
   "mimetype": "text/x-python",
   "name": "python",
   "nbconvert_exporter": "python",
   "pygments_lexer": "ipython3",
   "version": "3.12.2"
  }
 },
 "nbformat": 4,
 "nbformat_minor": 5
}
