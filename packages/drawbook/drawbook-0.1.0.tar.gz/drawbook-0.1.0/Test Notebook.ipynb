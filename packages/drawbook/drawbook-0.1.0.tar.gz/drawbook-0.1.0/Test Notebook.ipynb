{
 "cells": [
  {
   "cell_type": "code",
   "execution_count": 1,
   "id": "6eb14615-5dc3-47a8-9a9b-40b28c56e1b3",
   "metadata": {},
   "outputs": [],
   "source": [
    "from drawbook import Book\n",
    "\n",
    "book = Book(title=\"Mustafa's Trip to Mars\", pages=[\n",
    "    \"One day, Mustafa climbs into the attic and finds a white spacesuit.\",\n",
    "    \"He puts on the spacesuit and the spacesuit starts to glow!\",\n",
    "    \"Mustafa starts to float up into the air in his spacesuit. He waves bye-bye to his house as it gets tiny down below.\",\n",
    "    \"The stars look like tiny lights all around him. His spacesuit flies fast past the moon and the sun.\",\n",
    "    \"Mustafa lands on Mars. The landing makes a big crater in the Martian surface.\",\n",
    "    \"Mustafa explores Mars in his spacesuit. He meets a Martian and waves hello to him.\",\n",
    "    \"Mustafa and the Martian play with toys on Mars. They have a great time together!\",\n",
    "], author=\"Abubakar Abid\")"
   ]
  },
  {
   "cell_type": "code",
   "execution_count": 2,
   "id": "2c882b0f",
   "metadata": {},
   "outputs": [
    {
     "name": "stdout",
     "output_type": "stream",
     "text": [
      "Generating illustrations... This could take a few minutes.\n"
     ]
    },
    {
     "name": "stderr",
     "output_type": "stream",
     "text": [
      "Generating illustrations:   0%|          | 0/8 [00:00<?, ?it/s]"
     ]
    },
    {
     "name": "stdout",
     "output_type": "stream",
     "text": [
      "\n",
      "=== Processing title ===\n",
      "Original text: Mustafa's Trip to Mars\n",
      "Illustration prompt: A boy's journey to Mars\n",
      "Final image prompt: A AQUACOLTOK watercolor painting with a white background of: A boy's journey to Mars\n"
     ]
    },
    {
     "name": "stderr",
     "output_type": "stream",
     "text": [
      "Generating illustrations:  12%|█▎        | 1/8 [02:24<16:52, 144.64s/it]"
     ]
    },
    {
     "name": "stdout",
     "output_type": "stream",
     "text": [
      "Image saved to: /var/folders/kf/ll6fqkys7_s05x4tvb546mdc0000gn/T/tmp71oca4p_/title.png\n",
      "\n",
      "=== Processing page_1 ===\n",
      "Original text: Mustafa loves playing with his red toy truck. One day, his truck starts to glow and grow bigger and bigger!\n",
      "Illustration prompt: A red toy truck glowing and growing bigger\n",
      "Final image prompt: A AQUACOLTOK watercolor painting with a white background of: A red toy truck glowing and growing bigger\n"
     ]
    },
    {
     "name": "stderr",
     "output_type": "stream",
     "text": [
      "Generating illustrations:  25%|██▌       | 2/8 [03:39<10:20, 103.39s/it]"
     ]
    },
    {
     "name": "stdout",
     "output_type": "stream",
     "text": [
      "Image saved to: /var/folders/kf/ll6fqkys7_s05x4tvb546mdc0000gn/T/tmp71oca4p_/page_1.png\n",
      "\n",
      "=== Processing page_2 ===\n",
      "Original text: Mustafa sits in his red truck. The truck starts to fly up into the sky.\n",
      "Illustration prompt: A red truck flying up into the sky\n",
      "Final image prompt: A AQUACOLTOK watercolor painting with a white background of: A red truck flying up into the sky\n"
     ]
    },
    {
     "name": "stderr",
     "output_type": "stream",
     "text": [
      "Generating illustrations:  38%|███▊      | 3/8 [05:23<08:39, 103.92s/it]"
     ]
    },
    {
     "name": "stdout",
     "output_type": "stream",
     "text": [
      "Image saved to: /var/folders/kf/ll6fqkys7_s05x4tvb546mdc0000gn/T/tmp71oca4p_/page_2.png\n",
      "\n",
      "=== Processing page_3 ===\n",
      "Original text: Mustafa travels through the sky with his red truck. He waves bye-bye to his house as it gets tiny down below.\n",
      "Illustration prompt: A boy in a red truck waving bye-bye to a tiny house below\n",
      "Final image prompt: A AQUACOLTOK watercolor painting with a white background of: A boy in a red truck waving bye-bye to a tiny house below\n"
     ]
    },
    {
     "name": "stderr",
     "output_type": "stream",
     "text": [
      "Generating illustrations:  50%|█████     | 4/8 [06:55<06:36, 99.01s/it] "
     ]
    },
    {
     "name": "stdout",
     "output_type": "stream",
     "text": [
      "Image saved to: /var/folders/kf/ll6fqkys7_s05x4tvb546mdc0000gn/T/tmp71oca4p_/page_3.png\n",
      "\n",
      "=== Processing page_4 ===\n",
      "Original text: The stars look like tiny lights all around him. His red toy truck flies fast past the moon and the sun.\n",
      "Illustration prompt: A red toy truck flying past the moon and the sun\n",
      "Final image prompt: A AQUACOLTOK watercolor painting with a white background of: A red toy truck flying past the moon and the sun\n"
     ]
    },
    {
     "name": "stderr",
     "output_type": "stream",
     "text": [
      "Generating illustrations:  62%|██████▎   | 5/8 [07:48<04:07, 82.53s/it]"
     ]
    },
    {
     "name": "stdout",
     "output_type": "stream",
     "text": [
      "Image saved to: /var/folders/kf/ll6fqkys7_s05x4tvb546mdc0000gn/T/tmp71oca4p_/page_4.png\n",
      "\n",
      "=== Processing page_5 ===\n",
      "Original text: Mustafa lands on Mars. The red truck makes a big crater in the Martian surface.\n",
      "Illustration prompt: A red truck making a big crater on Mars\n",
      "Final image prompt: A AQUACOLTOK watercolor painting with a white background of: A red truck making a big crater on Mars\n"
     ]
    },
    {
     "name": "stderr",
     "output_type": "stream",
     "text": [
      "Generating illustrations:  75%|███████▌  | 6/8 [08:10<02:04, 62.04s/it]"
     ]
    },
    {
     "name": "stdout",
     "output_type": "stream",
     "text": [
      "Image saved to: /var/folders/kf/ll6fqkys7_s05x4tvb546mdc0000gn/T/tmp71oca4p_/page_5.png\n",
      "\n",
      "=== Processing page_6 ===\n",
      "Original text: Mustafa explores Mars with his red truck. He meets a Martian and waves hello to him.\n",
      "Illustration prompt: A boy in a red truck waving hello to a Martian on Mars\n",
      "Final image prompt: A AQUACOLTOK watercolor painting with a white background of: A boy in a red truck waving hello to a Martian on Mars\n"
     ]
    },
    {
     "name": "stderr",
     "output_type": "stream",
     "text": [
      "Generating illustrations:  88%|████████▊ | 7/8 [09:14<01:02, 62.65s/it]"
     ]
    },
    {
     "name": "stdout",
     "output_type": "stream",
     "text": [
      "Image saved to: /var/folders/kf/ll6fqkys7_s05x4tvb546mdc0000gn/T/tmp71oca4p_/page_6.png\n",
      "\n",
      "=== Processing page_7 ===\n",
      "Original text: Mustafa and the Martian play with the red truck on Mars. They have a great time together!\n",
      "Illustration prompt: A boy and a Martian playing with a red truck on Mars\n",
      "Final image prompt: A AQUACOLTOK watercolor painting with a white background of: A boy and a Martian playing with a red truck on Mars\n"
     ]
    },
    {
     "name": "stderr",
     "output_type": "stream",
     "text": [
      "Generating illustrations: 100%|██████████| 8/8 [11:40<00:00, 87.53s/it]"
     ]
    },
    {
     "name": "stdout",
     "output_type": "stream",
     "text": [
      "Image saved to: /var/folders/kf/ll6fqkys7_s05x4tvb546mdc0000gn/T/tmp71oca4p_/page_7.png\n",
      "\n",
      "All illustrations saved to: /var/folders/kf/ll6fqkys7_s05x4tvb546mdc0000gn/T/tmp71oca4p_\n"
     ]
    },
    {
     "name": "stderr",
     "output_type": "stream",
     "text": [
      "\n"
     ]
    }
   ],
   "source": [
    "book.illustrate()"
   ]
  },
  {
   "cell_type": "code",
   "execution_count": 3,
   "id": "5451dab6-9bee-484b-af77-4cdff546a2ed",
   "metadata": {},
   "outputs": [
    {
     "name": "stdout",
     "output_type": "stream",
     "text": [
      "Book exported to: /Users/abidlabs/dev/drawbook/test.pptx\n"
     ]
    },
    {
     "data": {
      "text/plain": [
       "True"
      ]
     },
     "execution_count": 3,
     "metadata": {},
     "output_type": "execute_result"
    }
   ],
   "source": [
    "book.export(\"test.pptx\")\n",
    "import webbrowser\n",
    "webbrowser.open('file:///Users/abidlabs/dev/drawbook/test.pptx')"
   ]
  }
 ],
 "metadata": {
  "kernelspec": {
   "display_name": "Python 3.12",
   "language": "python",
   "name": "python3"
  },
  "language_info": {
   "codemirror_mode": {
    "name": "ipython",
    "version": 3
   },
   "file_extension": ".py",
   "mimetype": "text/x-python",
   "name": "python",
   "nbconvert_exporter": "python",
   "pygments_lexer": "ipython3",
   "version": "3.12.2"
  }
 },
 "nbformat": 4,
 "nbformat_minor": 5
}
