{
 "cells": [
  {
   "metadata": {},
   "cell_type": "markdown",
   "source": [
    "# Basic Functionality\n",
    "In this guide, we will cover the basic functionality of the pEYES package. This includes:\n",
    "- importing the package and parsing your data to `pEYES`'s data format.\n",
    "- Using `pEYES`'s dataset loaders to load publicly available eye-tracking datasets.\n",
    "- Initializing and using eye-tracking detectors to detect labels from eye-tracking data.\n",
    "- Generating `Event` objects from detected labels, and extracting properties from these objects"
   ],
   "id": "fdf12ec182c672aa"
  },
  {
   "metadata": {},
   "cell_type": "markdown",
   "source": [
    "### Step 1: Import the necessary libraries\n",
    "Other than our package of interest, `peyes`. Most of `peyes`'s outputs are in the form of `numpy` arrays and `pandas` DataFrames. So, we will also import these packages, as well as the `os` library to handle file paths.  "
   ],
   "id": "89eca90200b4a20f"
  },
  {
   "metadata": {
    "ExecuteTime": {
     "end_time": "2024-09-08T08:32:06.156984Z",
     "start_time": "2024-09-08T08:32:02.048890Z"
    }
   },
   "cell_type": "code",
   "source": [
    "import numpy as np\n",
    "\n",
    "import peyes"
   ],
   "id": "initial_id",
   "outputs": [],
   "execution_count": 1
  },
  {
   "metadata": {},
   "cell_type": "markdown",
   "source": [
    "### pEYES Constants\n",
    "pEYES includes several constant values, mostly strings, that are used throughout the package.  \n",
    "Lets print out some of these constants."
   ],
   "id": "f37d12a20def3c17"
  },
  {
   "metadata": {
    "ExecuteTime": {
     "end_time": "2024-09-08T08:32:06.163515Z",
     "start_time": "2024-09-08T08:32:06.156984Z"
    }
   },
   "cell_type": "code",
   "source": [
    "print(f\"Milliseconds per second:\\t{peyes.constants.MILLISECONDS_PER_SECOND}\")\n",
    "print(f\"X:\\t{peyes.constants.X}\\t\\tY:\\t{peyes.constants.Y}\\t\\tT:\\t{peyes.constants.T}\")\n",
    "print(f\"Subject ID:\\t{peyes.constants.SUBJECT_ID_STR}\\t\\tTrial ID:\\t{peyes.constants.TRIAL_ID_STR}\")\n",
    "print(f\"Label:\\t{peyes.constants.LABEL_STR}\\t\\tLabels:\\t{peyes.constants.LABELS_STR}\")"
   ],
   "id": "e5dd7d702214b753",
   "outputs": [
    {
     "name": "stdout",
     "output_type": "stream",
     "text": [
      "Milliseconds per second:\t1000\n",
      "X:\tx\t\tY:\ty\t\tT:\tt\n",
      "Subject ID:\tsubject_id\t\tTrial ID:\ttrial_id\n",
      "Label:\tlabel\t\tLabels:\tlabels\n"
     ]
    }
   ],
   "execution_count": 2
  },
  {
   "metadata": {},
   "cell_type": "markdown",
   "source": [
    "### pEYES Parsers\n",
    "#### pEYES Enum-Labels\n",
    "As shown above, pEYES works with an Enum-based labeling system, to enforce consistent annotations across different implementations. For example, instead of using multiple variations of \"fixation\" (e.g. \"fix\", \"fixation\", \"Fixation\"), pEYES uses a single `EventLabelEnum.FIXATION: 1` label to represent fixations. The `parse_label` function converts between commonly used labels and the Enum-based system used by pEYES.\n",
    "\n",
    "#### pEYES Data Parser\n",
    "pEYES requires specific structures when analyzing eye-tracking data.  \n",
    "* The `peyes.parse_data` function parses raw eye-tracking data into the required structure, based on user-defined specifications of the input data.\n",
    "* The `peyes.parse_label` function converts between commonly used labels and the Enum-based labeling system used by pEYES."
   ],
   "id": "1e628d7d33c73e8c"
  },
  {
   "metadata": {
    "ExecuteTime": {
     "end_time": "2024-09-08T08:32:06.172294Z",
     "start_time": "2024-09-08T08:32:06.163515Z"
    }
   },
   "cell_type": "code",
   "source": [
    "print(peyes.parse_label(1))\n",
    "print(peyes.parse_label(2) == peyes.parse_label(\"saccade\") == peyes.parse_label(\"Saccade\") == peyes.parse_label(2.0))"
   ],
   "id": "4c6d09e0ad0bcd6e",
   "outputs": [
    {
     "name": "stdout",
     "output_type": "stream",
     "text": [
      "1\n",
      "True\n"
     ]
    }
   ],
   "execution_count": 3
  },
  {
   "metadata": {},
   "cell_type": "markdown",
   "source": [
    "### Datasets\n",
    "pEYES provides a simple api to download and load several publicly-available eye-tracking datasets. These datasets could be stored and loaded from a local directory, and if loading fails, the datasets are downloaded from the internet.  \n",
    "\n",
    "Let's load the Lund 2013 dataset and print out its contents.\n",
    "As you can see, the dataset contains the following columns:\n",
    "- `t`, `x` `y`, `pupil` that represent the time, x-coordinate, y-coordinate and pupil size of the eye-tracking data.\n",
    "- `subject_id` and `trial_id` that represent the subject and trial id of the data.\n",
    "- `stimulus_type` and `stimulus_id` that represent the type (e.g. \"image\") and id (name of image file) of the stimulus presented to the subject.\n",
    "- `viewer_distance` is the distance of the subject from the screed, in cm (this is used to calculate the visual angles, velocities and other values required for some detection algorithms).\n",
    "- `pixel_size` is the size of the pixels on the screen, in cm (this is used to calculate the visual angles, velocities and other values required for some detection algorithms).\n",
    "\n",
    "Each dataset also includes dataset-specific columns (e.g. \"MN\"), representing the human-annotated labels for each sample.  \n",
    "\n",
    "Let's load the Lund 2013 dataset and print its first 10 rows."
   ],
   "id": "35db953a63e0fd17"
  },
  {
   "metadata": {
    "ExecuteTime": {
     "end_time": "2024-09-08T08:32:23.444503Z",
     "start_time": "2024-09-08T08:32:06.984328Z"
    }
   },
   "cell_type": "code",
   "source": [
    "dataset = peyes.datasets.lund2013(directory=None, save=False, verbose=True)\n",
    "dataset.head(n=10)"
   ],
   "id": "9df1421cf28f38fd",
   "outputs": [
    {
     "name": "stdout",
     "output_type": "stream",
     "text": [
      "Dataset Lund2013 not found in directory None.\n",
      "Downloading...\n"
     ]
    },
    {
     "name": "stderr",
     "output_type": "stream",
     "text": [
      "Processing Files: 100%|██████████| 97/97 [00:01<00:00, 60.39it/s] \n"
     ]
    },
    {
     "data": {
      "text/plain": [
       "   trial_id subject_id stimulus_type stimulus_name     t         x        y  \\\n",
       "0         1       TH20    moving_dot                 0.0  123.2532  22.6264   \n",
       "1         1       TH20    moving_dot                 2.0  123.5395  22.9064   \n",
       "2         1       TH20    moving_dot                 4.0  123.2230  21.9909   \n",
       "3         1       TH20    moving_dot                 6.0  123.1883  21.7740   \n",
       "4         1       TH20    moving_dot                 8.0  125.0540  21.1805   \n",
       "5         1       TH20    moving_dot                10.0  125.9186  20.1961   \n",
       "6         1       TH20    moving_dot                12.0  125.4313  20.5499   \n",
       "7         1       TH20    moving_dot                14.0  124.5692  21.0196   \n",
       "8         1       TH20    moving_dot                16.0  124.6138  20.8048   \n",
       "9         1       TH20    moving_dot                18.0  123.4891  21.6321   \n",
       "\n",
       "   pupil  pixel_size  viewer_distance   MN  RA  \n",
       "0    NaN    0.037824             67.0  1.0   1  \n",
       "1    NaN    0.037824             67.0  1.0   1  \n",
       "2    NaN    0.037824             67.0  1.0   1  \n",
       "3    NaN    0.037824             67.0  1.0   1  \n",
       "4    NaN    0.037824             67.0  1.0   1  \n",
       "5    NaN    0.037824             67.0  1.0   1  \n",
       "6    NaN    0.037824             67.0  1.0   1  \n",
       "7    NaN    0.037824             67.0  1.0   1  \n",
       "8    NaN    0.037824             67.0  1.0   1  \n",
       "9    NaN    0.037824             67.0  1.0   1  "
      ],
      "text/html": [
       "<div>\n",
       "<style scoped>\n",
       "    .dataframe tbody tr th:only-of-type {\n",
       "        vertical-align: middle;\n",
       "    }\n",
       "\n",
       "    .dataframe tbody tr th {\n",
       "        vertical-align: top;\n",
       "    }\n",
       "\n",
       "    .dataframe thead th {\n",
       "        text-align: right;\n",
       "    }\n",
       "</style>\n",
       "<table border=\"1\" class=\"dataframe\">\n",
       "  <thead>\n",
       "    <tr style=\"text-align: right;\">\n",
       "      <th></th>\n",
       "      <th>trial_id</th>\n",
       "      <th>subject_id</th>\n",
       "      <th>stimulus_type</th>\n",
       "      <th>stimulus_name</th>\n",
       "      <th>t</th>\n",
       "      <th>x</th>\n",
       "      <th>y</th>\n",
       "      <th>pupil</th>\n",
       "      <th>pixel_size</th>\n",
       "      <th>viewer_distance</th>\n",
       "      <th>MN</th>\n",
       "      <th>RA</th>\n",
       "    </tr>\n",
       "  </thead>\n",
       "  <tbody>\n",
       "    <tr>\n",
       "      <th>0</th>\n",
       "      <td>1</td>\n",
       "      <td>TH20</td>\n",
       "      <td>moving_dot</td>\n",
       "      <td></td>\n",
       "      <td>0.0</td>\n",
       "      <td>123.2532</td>\n",
       "      <td>22.6264</td>\n",
       "      <td>NaN</td>\n",
       "      <td>0.037824</td>\n",
       "      <td>67.0</td>\n",
       "      <td>1.0</td>\n",
       "      <td>1</td>\n",
       "    </tr>\n",
       "    <tr>\n",
       "      <th>1</th>\n",
       "      <td>1</td>\n",
       "      <td>TH20</td>\n",
       "      <td>moving_dot</td>\n",
       "      <td></td>\n",
       "      <td>2.0</td>\n",
       "      <td>123.5395</td>\n",
       "      <td>22.9064</td>\n",
       "      <td>NaN</td>\n",
       "      <td>0.037824</td>\n",
       "      <td>67.0</td>\n",
       "      <td>1.0</td>\n",
       "      <td>1</td>\n",
       "    </tr>\n",
       "    <tr>\n",
       "      <th>2</th>\n",
       "      <td>1</td>\n",
       "      <td>TH20</td>\n",
       "      <td>moving_dot</td>\n",
       "      <td></td>\n",
       "      <td>4.0</td>\n",
       "      <td>123.2230</td>\n",
       "      <td>21.9909</td>\n",
       "      <td>NaN</td>\n",
       "      <td>0.037824</td>\n",
       "      <td>67.0</td>\n",
       "      <td>1.0</td>\n",
       "      <td>1</td>\n",
       "    </tr>\n",
       "    <tr>\n",
       "      <th>3</th>\n",
       "      <td>1</td>\n",
       "      <td>TH20</td>\n",
       "      <td>moving_dot</td>\n",
       "      <td></td>\n",
       "      <td>6.0</td>\n",
       "      <td>123.1883</td>\n",
       "      <td>21.7740</td>\n",
       "      <td>NaN</td>\n",
       "      <td>0.037824</td>\n",
       "      <td>67.0</td>\n",
       "      <td>1.0</td>\n",
       "      <td>1</td>\n",
       "    </tr>\n",
       "    <tr>\n",
       "      <th>4</th>\n",
       "      <td>1</td>\n",
       "      <td>TH20</td>\n",
       "      <td>moving_dot</td>\n",
       "      <td></td>\n",
       "      <td>8.0</td>\n",
       "      <td>125.0540</td>\n",
       "      <td>21.1805</td>\n",
       "      <td>NaN</td>\n",
       "      <td>0.037824</td>\n",
       "      <td>67.0</td>\n",
       "      <td>1.0</td>\n",
       "      <td>1</td>\n",
       "    </tr>\n",
       "    <tr>\n",
       "      <th>5</th>\n",
       "      <td>1</td>\n",
       "      <td>TH20</td>\n",
       "      <td>moving_dot</td>\n",
       "      <td></td>\n",
       "      <td>10.0</td>\n",
       "      <td>125.9186</td>\n",
       "      <td>20.1961</td>\n",
       "      <td>NaN</td>\n",
       "      <td>0.037824</td>\n",
       "      <td>67.0</td>\n",
       "      <td>1.0</td>\n",
       "      <td>1</td>\n",
       "    </tr>\n",
       "    <tr>\n",
       "      <th>6</th>\n",
       "      <td>1</td>\n",
       "      <td>TH20</td>\n",
       "      <td>moving_dot</td>\n",
       "      <td></td>\n",
       "      <td>12.0</td>\n",
       "      <td>125.4313</td>\n",
       "      <td>20.5499</td>\n",
       "      <td>NaN</td>\n",
       "      <td>0.037824</td>\n",
       "      <td>67.0</td>\n",
       "      <td>1.0</td>\n",
       "      <td>1</td>\n",
       "    </tr>\n",
       "    <tr>\n",
       "      <th>7</th>\n",
       "      <td>1</td>\n",
       "      <td>TH20</td>\n",
       "      <td>moving_dot</td>\n",
       "      <td></td>\n",
       "      <td>14.0</td>\n",
       "      <td>124.5692</td>\n",
       "      <td>21.0196</td>\n",
       "      <td>NaN</td>\n",
       "      <td>0.037824</td>\n",
       "      <td>67.0</td>\n",
       "      <td>1.0</td>\n",
       "      <td>1</td>\n",
       "    </tr>\n",
       "    <tr>\n",
       "      <th>8</th>\n",
       "      <td>1</td>\n",
       "      <td>TH20</td>\n",
       "      <td>moving_dot</td>\n",
       "      <td></td>\n",
       "      <td>16.0</td>\n",
       "      <td>124.6138</td>\n",
       "      <td>20.8048</td>\n",
       "      <td>NaN</td>\n",
       "      <td>0.037824</td>\n",
       "      <td>67.0</td>\n",
       "      <td>1.0</td>\n",
       "      <td>1</td>\n",
       "    </tr>\n",
       "    <tr>\n",
       "      <th>9</th>\n",
       "      <td>1</td>\n",
       "      <td>TH20</td>\n",
       "      <td>moving_dot</td>\n",
       "      <td></td>\n",
       "      <td>18.0</td>\n",
       "      <td>123.4891</td>\n",
       "      <td>21.6321</td>\n",
       "      <td>NaN</td>\n",
       "      <td>0.037824</td>\n",
       "      <td>67.0</td>\n",
       "      <td>1.0</td>\n",
       "      <td>1</td>\n",
       "    </tr>\n",
       "  </tbody>\n",
       "</table>\n",
       "</div>"
      ]
     },
     "execution_count": 4,
     "metadata": {},
     "output_type": "execute_result"
    }
   ],
   "execution_count": 4
  },
  {
   "metadata": {},
   "cell_type": "markdown",
   "source": [
    "#### Dataset Metadata\n",
    "pEYES' available datasets are based on previously published datasets. The `get_metadata` function returns a dictionary that provides information about the dataset, including the dataset's name, the original publication, and the dataset's citation. If `show=True`, the function prints the metadata to the console, as well as returning the dictionary."
   ],
   "id": "7100c353df643516"
  },
  {
   "metadata": {
    "ExecuteTime": {
     "end_time": "2024-09-08T08:37:16.087947Z",
     "start_time": "2024-09-08T08:37:16.080764Z"
    }
   },
   "cell_type": "code",
   "source": [
    "metadata = peyes.datasets.get_metadata(\"lund2013\", show=False)\n",
    "metadata"
   ],
   "id": "b6a90f1b0d4cb3d6",
   "outputs": [
    {
     "data": {
      "text/plain": [
       "{'name': 'Lund2013',\n",
       " 'url': 'https://github.com/richardandersson/EyeMovementDetectorEvaluation/archive/refs/heads/master.zip',\n",
       " 'articles': ['Andersson, R., Larsson, L., Holmqvist, K., Stridh, M., & Nyström, M. (2017): One algorithm to rule them all? An evaluation and discussion of ten eye movement event-detection algorithms. Behavior Research Methods, 49(2), 616-637.',\n",
       "  'Zemblys, R., Niehorster, D. C., Komogortsev, O., & Holmqvist, K. (2018). Using machine learning to detect events in eye-tracking data. Behavior Research Methods, 50(1), 160–181.'],\n",
       " 'license': 'GNU GPL-3.0'}"
      ]
     },
     "execution_count": 6,
     "metadata": {},
     "output_type": "execute_result"
    }
   ],
   "execution_count": 6
  },
  {
   "metadata": {},
   "cell_type": "markdown",
   "source": [
    "### The Detector Object\n",
    "pEYES provides implementation for several commonly-used eye-tracking detection algorithms, including Engbert's detector, the I-VT detector, and the I-DT detector, and others. \n",
    "These detectors share the same `detect` api, that takes raw eye-tracking data and returns 2 values:  \n",
    "- list of labels all input samples  \n",
    "- metadata dictionary containing information about the detection process.  \n",
    "\n",
    "Let's create an instance of the Engbert detector. Note there are a few mandatory parameters:  \n",
    "- `algorithm`: the name of the algorithm to use (e.g. \"engbert\", \"ivt\", \"idt\").\n",
    "- `missing_value`: the value used to represent missing data in the input data.\n",
    "- `min_event_duration`: the minimum duration of an event (of any type), in ms.\n",
    "- `pad_blinks_time`: the time to pad around blinks, in ms."
   ],
   "id": "dbc99508f18e191f"
  },
  {
   "metadata": {
    "ExecuteTime": {
     "end_time": "2024-11-10T10:52:12.237032Z",
     "start_time": "2024-11-10T10:52:12.123010Z"
    }
   },
   "cell_type": "code",
   "source": [
    "# create detector\n",
    "engbert = peyes.create_detector(\n",
    "    algorithm=\"engbert\", missing_value=np.nan, min_event_duration=4, pad_blinks_time=0,\n",
    ")"
   ],
   "id": "66112282db06af28",
   "outputs": [
    {
     "ename": "NameError",
     "evalue": "name 'peyes' is not defined",
     "output_type": "error",
     "traceback": [
      "\u001B[1;31m---------------------------------------------------------------------------\u001B[0m",
      "\u001B[1;31mNameError\u001B[0m                                 Traceback (most recent call last)",
      "Cell \u001B[1;32mIn[1], line 2\u001B[0m\n\u001B[0;32m      1\u001B[0m \u001B[38;5;66;03m# create detector\u001B[39;00m\n\u001B[1;32m----> 2\u001B[0m engbert \u001B[38;5;241m=\u001B[39m \u001B[43mpeyes\u001B[49m\u001B[38;5;241m.\u001B[39mcreate_detector(\n\u001B[0;32m      3\u001B[0m     algorithm\u001B[38;5;241m=\u001B[39m\u001B[38;5;124m\"\u001B[39m\u001B[38;5;124mengbert\u001B[39m\u001B[38;5;124m\"\u001B[39m, missing_value\u001B[38;5;241m=\u001B[39mnp\u001B[38;5;241m.\u001B[39mnan, min_event_duration\u001B[38;5;241m=\u001B[39m\u001B[38;5;241m4\u001B[39m, pad_blinks_time\u001B[38;5;241m=\u001B[39m\u001B[38;5;241m0\u001B[39m,\n\u001B[0;32m      4\u001B[0m )\n",
      "\u001B[1;31mNameError\u001B[0m: name 'peyes' is not defined"
     ]
    }
   ],
   "execution_count": 1
  },
  {
   "metadata": {},
   "cell_type": "markdown",
   "source": [
    "**Detector Name**\n",
    "An optional parameter, `name`, enables you to give a name to the detector object. The default name is the the phrase '<algorithm>Detector', for example 'EngbertDetector'. The name argument is used to identify different instances of the same detector, and it can be set manually when you initiate a detector instance, or edited later."
   ],
   "id": "70a7fddac598565c"
  },
  {
   "metadata": {},
   "cell_type": "code",
   "outputs": [],
   "execution_count": null,
   "source": [
    "print(f\"Original detector name: {engbert.name}\")\n",
    "engbert.name = \"MyEngbertDetector\"\n",
    "print(f\"New detector name: {engbert.name}\")\n",
    "\n",
    "engbert2 = peyes.create_detector(\n",
    "    algorithm=\"engbert\", missing_value=np.nan, min_event_duration=4, pad_blinks_time=0, name=\"Engbert2\"\n",
    ")\n",
    "print(f\"Second detector name: {engbert2.name}\")"
   ],
   "id": "6214290e444aff2e"
  },
  {
   "metadata": {},
   "cell_type": "markdown",
   "source": [
    "Other than those parameters, each detectors may require additional parameters that could be added as keyword arguments.\n",
    "You can use the class-method `documentation` to see the full documentation of this algorithm for more information, and use class-method `article()` to get a list of articles to cite when using this detector."
   ],
   "id": "7cd3862a96fe1261"
  },
  {
   "metadata": {
    "ExecuteTime": {
     "end_time": "2024-11-10T10:52:15.709272Z",
     "start_time": "2024-11-10T10:52:15.696208Z"
    }
   },
   "cell_type": "code",
   "source": "print(engbert.documentation())",
   "id": "5ed279e0d62b6edd",
   "outputs": [
    {
     "ename": "NameError",
     "evalue": "name 'engbert' is not defined",
     "output_type": "error",
     "traceback": [
      "\u001B[1;31m---------------------------------------------------------------------------\u001B[0m",
      "\u001B[1;31mNameError\u001B[0m                                 Traceback (most recent call last)",
      "Cell \u001B[1;32mIn[2], line 1\u001B[0m\n\u001B[1;32m----> 1\u001B[0m \u001B[38;5;28mprint\u001B[39m(\u001B[43mengbert\u001B[49m\u001B[38;5;241m.\u001B[39mdocumentation())\n",
      "\u001B[1;31mNameError\u001B[0m: name 'engbert' is not defined"
     ]
    }
   ],
   "execution_count": 2
  },
  {
   "metadata": {},
   "cell_type": "markdown",
   "source": [
    "### Detecting Labels\n",
    "After initializing a detector object, we can use it to detect (classify) samples from our dataset.  \n",
    "Detection should be done on a per-trial basis, as the parameters of the eye-tracking setup (like viewer distance) may change between trials.  \n",
    "Note that each trial may have different `pixel_size` and `viewer_distance` values, which are required for the calculation of visual angles and velocities during detection.  \n",
    "\n",
    "We extract the `t`, `x` and `y` columns from the dataset **as numpy arrays**, and pass them to the detector's `detect` method, along with the `pixel_size` and `viewer_distance` values for the specific trial.  \n",
    "\n",
    "The `detect` method returns two values:\n",
    "- `labels`: a list of Enum values, representing the detected labels for each sample.\n",
    "- `metadata`: a dictionary containing information about the detection process, including the `pixel_size`, `viewer_distance`, and other detector-specific values."
   ],
   "id": "2946b1be951500a8"
  },
  {
   "metadata": {
    "ExecuteTime": {
     "end_time": "2024-08-18T08:56:00.417832Z",
     "start_time": "2024-08-18T08:56:00.374064Z"
    }
   },
   "cell_type": "code",
   "source": [
    "# extract single trial data\n",
    "trial1_data = dataset[dataset[peyes.constants.TRIAL_ID_STR] == 1]\n",
    "trial1_pixel_size = trial1_data[\"pixel_size\"].values[0]\n",
    "trial1_viewer_distance = trial1_data[\"viewer_distance\"].values[0]\n",
    "\n",
    "# detect labels\n",
    "trial1_labels, trial1_metadata = engbert.detect(\n",
    "    t=trial1_data[peyes.constants.T].values, x=trial1_data[peyes.constants.X].values, y=trial1_data[peyes.constants.Y].values,\n",
    "    pixel_size_cm=trial1_pixel_size, viewer_distance_cm=trial1_viewer_distance\n",
    ")"
   ],
   "id": "8a7232c85d599d03",
   "outputs": [],
   "execution_count": 7
  },
  {
   "metadata": {
    "ExecuteTime": {
     "end_time": "2024-08-18T08:56:00.423805Z",
     "start_time": "2024-08-18T08:56:00.417832Z"
    }
   },
   "cell_type": "code",
   "source": [
    "# print the first 10 labels\n",
    "print(trial1_labels[:10])"
   ],
   "id": "97b6ea5e1e0c54ee",
   "outputs": [
    {
     "name": "stdout",
     "output_type": "stream",
     "text": [
      "[<EventLabelEnum.UNDEFINED: 0>, <EventLabelEnum.UNDEFINED: 0>, <EventLabelEnum.UNDEFINED: 0>, <EventLabelEnum.FIXATION: 1>, <EventLabelEnum.FIXATION: 1>, <EventLabelEnum.FIXATION: 1>, <EventLabelEnum.FIXATION: 1>, <EventLabelEnum.FIXATION: 1>, <EventLabelEnum.FIXATION: 1>, <EventLabelEnum.FIXATION: 1>]\n"
     ]
    }
   ],
   "execution_count": 8
  },
  {
   "metadata": {
    "ExecuteTime": {
     "end_time": "2024-08-18T08:56:00.429667Z",
     "start_time": "2024-08-18T08:56:00.423805Z"
    }
   },
   "cell_type": "code",
   "source": [
    "# print the metadata\n",
    "print(trial1_metadata)"
   ],
   "id": "e5bc39ac0060948a",
   "outputs": [
    {
     "name": "stdout",
     "output_type": "stream",
     "text": [
      "{'x_threshold_velocity_pxs': 1304.017810700855, 'y_threshold_velocity_px': 746.7841559815498, 'sampling_rate': 500.0, 'pixel_size': 0.03782412011534439, 'viewer_distance': 67.0, 'runtime': 0.03125572204589844}\n"
     ]
    }
   ],
   "execution_count": 9
  },
  {
   "metadata": {},
   "cell_type": "markdown",
   "source": [
    "As you can see, the `labels` output is a list of Enum values, representing the detected labels for each sample.\n",
    "The `metadata` output is a dictionary containing information about the detection process, including:\n",
    "- `pixel_size` and `viewer_distance`: the pixel size and viewer distance used during detection.\n",
    "- `sampling_rate`: the sampling rate of the input data, in Hz. This is computed from the input's `t` values.\n",
    "- other detector-specific values, such as `saccade_velocity_threshold`."
   ],
   "id": "e48bbab272aa4c26"
  },
  {
   "metadata": {},
   "cell_type": "markdown",
   "source": [
    "### Generate Event Objects\n",
    "The `pEYES` library also creates an object-oriented representation of eye-tracking events: Fixations, Saccades, Blinks, etc.  \n",
    "A series of consecutive samples with the same label are grouped together into an event object, which contains properties of the event, such as its start time, end time, duration, and other properties.  \n",
    "\n",
    "We can use the `peyes.create_events()` function to convert a series of labels into a list of `Event` objects. Note that we still need to provide the underlying gaze data (e.g. `t`, `x`, `y`, `pupil`) to calculate the event properties. However the `Event` object makes it very simple to extract these properties directly, without manipulating the gaze data.  \n",
    "A sequence of events can be \"summarized\" into a DataFrame, where each row represents an event, and each column represents a property of the event."
   ],
   "id": "dcbc014d8a117a0c"
  },
  {
   "metadata": {
    "ExecuteTime": {
     "end_time": "2024-08-18T08:56:00.439489Z",
     "start_time": "2024-08-18T08:56:00.429667Z"
    }
   },
   "cell_type": "code",
   "source": [
    "# generate events from labels\n",
    "trial1_events = peyes.create_events(\n",
    "    labels=trial1_labels,\n",
    "    t=trial1_data[peyes.constants.T].values,\n",
    "    x=trial1_data[peyes.constants.X].values,\n",
    "    y=trial1_data[peyes.constants.Y].values,\n",
    "    pupil=trial1_data[peyes.constants.PUPIL].values,\n",
    "    pixel_size=trial1_pixel_size,\n",
    "    viewer_distance=trial1_viewer_distance\n",
    ")\n",
    "\n",
    "# example event object\n",
    "event1 = trial1_events[0]\n",
    "print(event1.start_time, event1.end_time, event1.duration)"
   ],
   "id": "4da444ee0ee734ab",
   "outputs": [
    {
     "name": "stdout",
     "output_type": "stream",
     "text": [
      "6.0 234.0 228.0\n"
     ]
    }
   ],
   "execution_count": 10
  },
  {
   "metadata": {
    "ExecuteTime": {
     "end_time": "2024-08-18T08:56:00.631028Z",
     "start_time": "2024-08-18T08:56:00.439489Z"
    }
   },
   "cell_type": "code",
   "source": [
    "# summarize events into a DataFrame\n",
    "trial1_events_table = peyes.summarize_events(trial1_events)\n",
    "\n",
    "# show the first 10 events (rows)\n",
    "trial1_events_table.head(n=10)"
   ],
   "id": "4ee0cd7fe60f4d0c",
   "outputs": [
    {
     "data": {
      "text/plain": [
       "   label  start_time  end_time  duration   distance  amplitude     azimuth  \\\n",
       "0      1         6.0     234.0     228.0  10.731867   0.347129  283.123069   \n",
       "1      2       236.0     270.0      34.0  50.750534   1.641450  253.849780   \n",
       "2      1       272.0     404.0     132.0  11.769323   0.380686  292.015931   \n",
       "3      2       406.0     410.0       4.0   2.332259   0.075439  307.447715   \n",
       "4      1       412.0     430.0      18.0   1.621655   0.052454  240.213048   \n",
       "5      2       432.0     436.0       4.0   2.667594   0.086285  278.993396   \n",
       "6      1       438.0     474.0      36.0   6.311805   0.204160  241.149596   \n",
       "7      2       476.0     482.0       6.0   2.501285   0.080906  257.022724   \n",
       "8      1       484.0     498.0      14.0   0.883844   0.028589  311.973239   \n",
       "9      2       500.0     504.0       4.0   2.598616   0.084054  258.472566   \n",
       "\n",
       "   peak_velocity  median_velocity  cumulative_distance  cumulative_amplitude  \\\n",
       "0      38.396407        11.701471            93.250890              3.015570   \n",
       "1     118.134307        43.767117            83.267220              2.692841   \n",
       "2      34.285150        11.051958            47.448208              1.534654   \n",
       "3      34.029140        28.054261             3.550564              0.114845   \n",
       "4      21.129365         9.580594             6.029342              0.195023   \n",
       "5      25.359122        21.326048             2.671565              0.086414   \n",
       "6      24.783695        14.152514            15.015628              0.485688   \n",
       "7      21.687408        20.990353             3.116873              0.100817   \n",
       "8      21.068443        16.030618             6.509260              0.210546   \n",
       "9      25.387051        21.152187             2.649627              0.085704   \n",
       "\n",
       "                               center_pixel  \\\n",
       "0  (125.42861043478263, 25.193726086956516)   \n",
       "1   (110.33587222222224, 65.83935555555556)   \n",
       "2    (115.0098462686567, 84.90059850746269)   \n",
       "3   (119.18793333333333, 91.71676666666667)   \n",
       "4             (119.94252000000002, 94.0005)   \n",
       "5             (120.23966666666668, 96.1648)   \n",
       "6  (119.31703157894736, 100.76088421052633)   \n",
       "7                  (117.085275, 105.344725)   \n",
       "8         (116.7001125, 107.95206250000001)   \n",
       "9  (117.45339999999999, 109.94846666666666)   \n",
       "\n",
       "                                   pixel_std  ellipse_area  is_outlier  \\\n",
       "0   (1.8360434505313163, 2.8034552127869063)      0.068714       False   \n",
       "1    (11.751764742502179, 19.81935292371301)      1.473036       False   \n",
       "2   (1.4069625453360917, 2.4731330361457275)      0.046163       False   \n",
       "3   (0.6521475003572623, 0.9559049650578304)      0.002525        True   \n",
       "4   (0.566932609399036, 0.43445897850084536)      0.002175        True   \n",
       "5  (0.17082984386680167, 1.0829750351077656)      0.000903        True   \n",
       "6   (1.0155502532605212, 1.6309816024852746)      0.018652        True   \n",
       "7   (0.35710255792279194, 1.015302889228136)      0.002047        True   \n",
       "8   (0.6282825527529378, 0.3274744987686065)      0.001415        True   \n",
       "9   (0.2556709213031499, 1.0446565538757489)      0.001178        True   \n",
       "\n",
       "  outlier_reasons  \n",
       "0              []  \n",
       "1              []  \n",
       "2              []  \n",
       "3  [min_duration]  \n",
       "4  [min_duration]  \n",
       "5  [min_duration]  \n",
       "6  [min_duration]  \n",
       "7  [min_duration]  \n",
       "8  [min_duration]  \n",
       "9  [min_duration]  "
      ],
      "text/html": [
       "<div>\n",
       "<style scoped>\n",
       "    .dataframe tbody tr th:only-of-type {\n",
       "        vertical-align: middle;\n",
       "    }\n",
       "\n",
       "    .dataframe tbody tr th {\n",
       "        vertical-align: top;\n",
       "    }\n",
       "\n",
       "    .dataframe thead th {\n",
       "        text-align: right;\n",
       "    }\n",
       "</style>\n",
       "<table border=\"1\" class=\"dataframe\">\n",
       "  <thead>\n",
       "    <tr style=\"text-align: right;\">\n",
       "      <th></th>\n",
       "      <th>label</th>\n",
       "      <th>start_time</th>\n",
       "      <th>end_time</th>\n",
       "      <th>duration</th>\n",
       "      <th>distance</th>\n",
       "      <th>amplitude</th>\n",
       "      <th>azimuth</th>\n",
       "      <th>peak_velocity</th>\n",
       "      <th>median_velocity</th>\n",
       "      <th>cumulative_distance</th>\n",
       "      <th>cumulative_amplitude</th>\n",
       "      <th>center_pixel</th>\n",
       "      <th>pixel_std</th>\n",
       "      <th>ellipse_area</th>\n",
       "      <th>is_outlier</th>\n",
       "      <th>outlier_reasons</th>\n",
       "    </tr>\n",
       "  </thead>\n",
       "  <tbody>\n",
       "    <tr>\n",
       "      <th>0</th>\n",
       "      <td>1</td>\n",
       "      <td>6.0</td>\n",
       "      <td>234.0</td>\n",
       "      <td>228.0</td>\n",
       "      <td>10.731867</td>\n",
       "      <td>0.347129</td>\n",
       "      <td>283.123069</td>\n",
       "      <td>38.396407</td>\n",
       "      <td>11.701471</td>\n",
       "      <td>93.250890</td>\n",
       "      <td>3.015570</td>\n",
       "      <td>(125.42861043478263, 25.193726086956516)</td>\n",
       "      <td>(1.8360434505313163, 2.8034552127869063)</td>\n",
       "      <td>0.068714</td>\n",
       "      <td>False</td>\n",
       "      <td>[]</td>\n",
       "    </tr>\n",
       "    <tr>\n",
       "      <th>1</th>\n",
       "      <td>2</td>\n",
       "      <td>236.0</td>\n",
       "      <td>270.0</td>\n",
       "      <td>34.0</td>\n",
       "      <td>50.750534</td>\n",
       "      <td>1.641450</td>\n",
       "      <td>253.849780</td>\n",
       "      <td>118.134307</td>\n",
       "      <td>43.767117</td>\n",
       "      <td>83.267220</td>\n",
       "      <td>2.692841</td>\n",
       "      <td>(110.33587222222224, 65.83935555555556)</td>\n",
       "      <td>(11.751764742502179, 19.81935292371301)</td>\n",
       "      <td>1.473036</td>\n",
       "      <td>False</td>\n",
       "      <td>[]</td>\n",
       "    </tr>\n",
       "    <tr>\n",
       "      <th>2</th>\n",
       "      <td>1</td>\n",
       "      <td>272.0</td>\n",
       "      <td>404.0</td>\n",
       "      <td>132.0</td>\n",
       "      <td>11.769323</td>\n",
       "      <td>0.380686</td>\n",
       "      <td>292.015931</td>\n",
       "      <td>34.285150</td>\n",
       "      <td>11.051958</td>\n",
       "      <td>47.448208</td>\n",
       "      <td>1.534654</td>\n",
       "      <td>(115.0098462686567, 84.90059850746269)</td>\n",
       "      <td>(1.4069625453360917, 2.4731330361457275)</td>\n",
       "      <td>0.046163</td>\n",
       "      <td>False</td>\n",
       "      <td>[]</td>\n",
       "    </tr>\n",
       "    <tr>\n",
       "      <th>3</th>\n",
       "      <td>2</td>\n",
       "      <td>406.0</td>\n",
       "      <td>410.0</td>\n",
       "      <td>4.0</td>\n",
       "      <td>2.332259</td>\n",
       "      <td>0.075439</td>\n",
       "      <td>307.447715</td>\n",
       "      <td>34.029140</td>\n",
       "      <td>28.054261</td>\n",
       "      <td>3.550564</td>\n",
       "      <td>0.114845</td>\n",
       "      <td>(119.18793333333333, 91.71676666666667)</td>\n",
       "      <td>(0.6521475003572623, 0.9559049650578304)</td>\n",
       "      <td>0.002525</td>\n",
       "      <td>True</td>\n",
       "      <td>[min_duration]</td>\n",
       "    </tr>\n",
       "    <tr>\n",
       "      <th>4</th>\n",
       "      <td>1</td>\n",
       "      <td>412.0</td>\n",
       "      <td>430.0</td>\n",
       "      <td>18.0</td>\n",
       "      <td>1.621655</td>\n",
       "      <td>0.052454</td>\n",
       "      <td>240.213048</td>\n",
       "      <td>21.129365</td>\n",
       "      <td>9.580594</td>\n",
       "      <td>6.029342</td>\n",
       "      <td>0.195023</td>\n",
       "      <td>(119.94252000000002, 94.0005)</td>\n",
       "      <td>(0.566932609399036, 0.43445897850084536)</td>\n",
       "      <td>0.002175</td>\n",
       "      <td>True</td>\n",
       "      <td>[min_duration]</td>\n",
       "    </tr>\n",
       "    <tr>\n",
       "      <th>5</th>\n",
       "      <td>2</td>\n",
       "      <td>432.0</td>\n",
       "      <td>436.0</td>\n",
       "      <td>4.0</td>\n",
       "      <td>2.667594</td>\n",
       "      <td>0.086285</td>\n",
       "      <td>278.993396</td>\n",
       "      <td>25.359122</td>\n",
       "      <td>21.326048</td>\n",
       "      <td>2.671565</td>\n",
       "      <td>0.086414</td>\n",
       "      <td>(120.23966666666668, 96.1648)</td>\n",
       "      <td>(0.17082984386680167, 1.0829750351077656)</td>\n",
       "      <td>0.000903</td>\n",
       "      <td>True</td>\n",
       "      <td>[min_duration]</td>\n",
       "    </tr>\n",
       "    <tr>\n",
       "      <th>6</th>\n",
       "      <td>1</td>\n",
       "      <td>438.0</td>\n",
       "      <td>474.0</td>\n",
       "      <td>36.0</td>\n",
       "      <td>6.311805</td>\n",
       "      <td>0.204160</td>\n",
       "      <td>241.149596</td>\n",
       "      <td>24.783695</td>\n",
       "      <td>14.152514</td>\n",
       "      <td>15.015628</td>\n",
       "      <td>0.485688</td>\n",
       "      <td>(119.31703157894736, 100.76088421052633)</td>\n",
       "      <td>(1.0155502532605212, 1.6309816024852746)</td>\n",
       "      <td>0.018652</td>\n",
       "      <td>True</td>\n",
       "      <td>[min_duration]</td>\n",
       "    </tr>\n",
       "    <tr>\n",
       "      <th>7</th>\n",
       "      <td>2</td>\n",
       "      <td>476.0</td>\n",
       "      <td>482.0</td>\n",
       "      <td>6.0</td>\n",
       "      <td>2.501285</td>\n",
       "      <td>0.080906</td>\n",
       "      <td>257.022724</td>\n",
       "      <td>21.687408</td>\n",
       "      <td>20.990353</td>\n",
       "      <td>3.116873</td>\n",
       "      <td>0.100817</td>\n",
       "      <td>(117.085275, 105.344725)</td>\n",
       "      <td>(0.35710255792279194, 1.015302889228136)</td>\n",
       "      <td>0.002047</td>\n",
       "      <td>True</td>\n",
       "      <td>[min_duration]</td>\n",
       "    </tr>\n",
       "    <tr>\n",
       "      <th>8</th>\n",
       "      <td>1</td>\n",
       "      <td>484.0</td>\n",
       "      <td>498.0</td>\n",
       "      <td>14.0</td>\n",
       "      <td>0.883844</td>\n",
       "      <td>0.028589</td>\n",
       "      <td>311.973239</td>\n",
       "      <td>21.068443</td>\n",
       "      <td>16.030618</td>\n",
       "      <td>6.509260</td>\n",
       "      <td>0.210546</td>\n",
       "      <td>(116.7001125, 107.95206250000001)</td>\n",
       "      <td>(0.6282825527529378, 0.3274744987686065)</td>\n",
       "      <td>0.001415</td>\n",
       "      <td>True</td>\n",
       "      <td>[min_duration]</td>\n",
       "    </tr>\n",
       "    <tr>\n",
       "      <th>9</th>\n",
       "      <td>2</td>\n",
       "      <td>500.0</td>\n",
       "      <td>504.0</td>\n",
       "      <td>4.0</td>\n",
       "      <td>2.598616</td>\n",
       "      <td>0.084054</td>\n",
       "      <td>258.472566</td>\n",
       "      <td>25.387051</td>\n",
       "      <td>21.152187</td>\n",
       "      <td>2.649627</td>\n",
       "      <td>0.085704</td>\n",
       "      <td>(117.45339999999999, 109.94846666666666)</td>\n",
       "      <td>(0.2556709213031499, 1.0446565538757489)</td>\n",
       "      <td>0.001178</td>\n",
       "      <td>True</td>\n",
       "      <td>[min_duration]</td>\n",
       "    </tr>\n",
       "  </tbody>\n",
       "</table>\n",
       "</div>"
      ]
     },
     "execution_count": 11,
     "metadata": {},
     "output_type": "execute_result"
    }
   ],
   "execution_count": 11
  },
  {
   "metadata": {},
   "cell_type": "markdown",
   "source": [
    "### A Complete Pipeline\n",
    "Here is a complete example of the entire pipeline, from loading the dataset to summarizing the detected events."
   ],
   "id": "fbf0167c794d9f07"
  },
  {
   "metadata": {},
   "cell_type": "code",
   "outputs": [],
   "execution_count": null,
   "source": [
    "import peyes\n",
    "\n",
    "# load the lund2013 dataset\n",
    "dataset = peyes.datasets.lund2013()\n",
    "\n",
    "# extract single-trial data\n",
    "trial1 = dataset[dataset[peyes.constants.TRIAL_ID_STR] == 1]\n",
    "ps = trial1[\"pixel_size\"].values[0]\n",
    "vd = trial1[\"viewer_distance\"].values[0]\n",
    "\n",
    "# create a detector object\n",
    "det = peyes.create_detector(\"engbert\", missing_value=np.nan, min_event_duration=4, pad_blinks_time=0)\n",
    "\n",
    "# assign labels\n",
    "labels, metadata = det.detect(\n",
    "    t=trial1 [peyes.constants.T].values,\n",
    "    x=trial1 [peyes.constants.X].values,\n",
    "    y=trial1 [peyes.constants.Y].values,\n",
    "    pixel_size_cm=ps,\n",
    "    viewer_distance_cm=vd,\n",
    ")\n",
    "\n",
    "# generate Event objects\n",
    "events = peyes.create_events(\n",
    "    labels=trial1_labels,\n",
    "    t=trial1_data[peyes.constants.T].values,\n",
    "    x=trial1_data[peyes.constants.X].values,\n",
    "    y=trial1_data[peyes.constants.Y].values,\n",
    "    pupil=trial1_data[peyes.constants.PUPIL].values,\n",
    "    pixel_size=trial1_pixel_size,\n",
    "    viewer_distance=trial1_viewer_distance\n",
    ")\n",
    "\n",
    "# summarize events\n",
    "events_table = peyes.summarize_events(events)"
   ],
   "id": "4c5595bb8d7dacce"
  },
  {
   "metadata": {},
   "cell_type": "markdown",
   "source": [
    "### Summary\n",
    "In this guide, we covered the basic functionality of the pEYES package. This includes:\n",
    "- Importing the necessary libraries\n",
    "- using pEYES' internal constants\n",
    "- parsing labels and data to the required format\n",
    "- loading eye-tracking datasets\n",
    "- initializing and using eye-tracking detectors\n",
    "- detecting labels from eye-tracking data\n",
    "- generating event objects from detected labels\n",
    "- summarizing events into a summary table\n",
    "\n",
    "### Next Steps\n",
    "Other guides will show how to:\n",
    "- Evaluate a series of labels w.r.t. a ground-truth label-sequence.\n",
    "- Match between ground-truth and predicted event objects, and evaluate the predicted events w.r.t. the ground-truth events.\n",
    "- Visualize eye-tracking data and detected events."
   ],
   "id": "5b6e9661e891e790"
  }
 ],
 "metadata": {
  "kernelspec": {
   "display_name": "Python 3",
   "language": "python",
   "name": "python3"
  },
  "language_info": {
   "codemirror_mode": {
    "name": "ipython",
    "version": 2
   },
   "file_extension": ".py",
   "mimetype": "text/x-python",
   "name": "python",
   "nbconvert_exporter": "python",
   "pygments_lexer": "ipython2",
   "version": "2.7.6"
  }
 },
 "nbformat": 4,
 "nbformat_minor": 5
}
