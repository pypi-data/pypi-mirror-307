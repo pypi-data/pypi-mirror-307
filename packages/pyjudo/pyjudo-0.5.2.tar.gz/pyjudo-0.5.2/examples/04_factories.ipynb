{
 "cells": [
  {
   "cell_type": "code",
   "execution_count": 1,
   "metadata": {},
   "outputs": [],
   "source": [
    "from abc import ABC, abstractmethod\n",
    "\n",
    "from pyjudo import ServiceContainer, Factory"
   ]
  },
  {
   "cell_type": "code",
   "execution_count": 2,
   "metadata": {},
   "outputs": [],
   "source": [
    "class IFoo(ABC):\n",
    "    @abstractmethod\n",
    "    def foo(self): ...\n",
    "\n",
    "class IBar(ABC):\n",
    "    @abstractmethod\n",
    "    def create_foo(self): ...\n",
    "\n",
    "class Foo(IFoo):\n",
    "    def __init__(self, text: str):\n",
    "        self.text = text\n",
    "\n",
    "    def foo(self):\n",
    "        print(self.text)\n",
    "\n",
    "class Bar(IBar):\n",
    "    def __init__(self, foo_factory: Factory[IFoo]):\n",
    "        self.foo_factory = foo_factory\n",
    "\n",
    "    def create_foo(self, text: str):\n",
    "        return self.foo_factory(text=text)\n",
    "        \n",
    "        "
   ]
  },
  {
   "cell_type": "code",
   "execution_count": 3,
   "metadata": {},
   "outputs": [],
   "source": [
    "from pyjudo.disposable import IDisposable\n",
    "\n",
    "class IFoo(ABC):\n",
    "    @abstractmethod\n",
    "    def foo(self): ...\n",
    "\n",
    "class IBar(ABC):\n",
    "    @abstractmethod\n",
    "    def create_foo(self): ...\n",
    "\n",
    "class Foo(IDisposable, IFoo):\n",
    "    def __init__(self, text: str):\n",
    "        self.text = text\n",
    "\n",
    "    def foo(self):\n",
    "        print(self.text)\n",
    "\n",
    "    def do_dispose(self):\n",
    "        print(\"Disposing\")\n",
    "\n",
    "class Bar(IBar):\n",
    "    def __init__(self, foo_factory: Factory[IFoo]):\n",
    "        self.foo_factory = foo_factory\n",
    "\n",
    "    def create_foo(self, text: str):\n",
    "        return self.foo_factory(text=text)"
   ]
  },
  {
   "cell_type": "code",
   "execution_count": 4,
   "metadata": {},
   "outputs": [
    {
     "data": {
      "text/plain": [
       "<pyjudo.service_container.ServiceContainer at 0x244f8fd6360>"
      ]
     },
     "execution_count": 4,
     "metadata": {},
     "output_type": "execute_result"
    }
   ],
   "source": [
    "container = ServiceContainer()\n",
    "\n",
    "container.add_transient(IFoo, Foo)\n",
    "container.add_transient(IBar, Bar)"
   ]
  },
  {
   "cell_type": "code",
   "execution_count": 5,
   "metadata": {},
   "outputs": [],
   "source": [
    "bar = container.get(IBar)"
   ]
  },
  {
   "cell_type": "code",
   "execution_count": 6,
   "metadata": {},
   "outputs": [
    {
     "name": "stdout",
     "output_type": "stream",
     "text": [
      "Hello, World!\n"
     ]
    }
   ],
   "source": [
    "foo = bar.create_foo(\"Hello, World!\")\n",
    "foo.foo()"
   ]
  },
  {
   "cell_type": "code",
   "execution_count": null,
   "metadata": {},
   "outputs": [],
   "source": []
  }
 ],
 "metadata": {
  "kernelspec": {
   "display_name": ".venv",
   "language": "python",
   "name": "python3"
  },
  "language_info": {
   "codemirror_mode": {
    "name": "ipython",
    "version": 3
   },
   "file_extension": ".py",
   "mimetype": "text/x-python",
   "name": "python",
   "nbconvert_exporter": "python",
   "pygments_lexer": "ipython3",
   "version": "3.12.5"
  }
 },
 "nbformat": 4,
 "nbformat_minor": 2
}
