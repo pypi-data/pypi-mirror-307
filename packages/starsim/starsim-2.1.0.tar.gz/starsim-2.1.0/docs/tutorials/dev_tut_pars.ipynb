{
 "cells": [
  {
   "cell_type": "markdown",
   "metadata": {},
   "source": [
    "# Developer tutorial: Flexible parameters"
   ]
  },
  {
   "cell_type": "markdown",
   "metadata": {},
   "source": [
    "## Defining default parameters\n",
    "\n",
    "When you create a module using Starsim, you have the opportunity to define the default format for parameters. Let's look at an example from the SIR disease model:\n"
   ]
  },
  {
   "cell_type": "code",
   "execution_count": null,
   "metadata": {},
   "outputs": [],
   "source": [
    "import starsim as ss\n",
    "\n",
    "class SIR(ss.SIR):\n",
    "    def __init__(self, pars=None, **kwargs):\n",
    "        super().__init__()\n",
    "        self.label = 'SIRdemo'\n",
    "        self.default_pars(\n",
    "            beta = 0.1,\n",
    "            init_prev = ss.bernoulli(p=0.01),\n",
    "            dur_inf = ss.lognorm_ex(mean=6),\n",
    "            p_death = ss.bernoulli(p=0.01),\n",
    "        )\n",
    "        self.update_pars(pars, **kwargs)\n",
    "        \n",
    "        self.add_states(\n",
    "            ss.BoolArr('recovered', label='Recovered'),\n",
    "            ss.FloatArr('ti_recovered', label='Time of recovery'),\n",
    "            ss.FloatArr('ti_dead', label='Time of death'),\n",
    "        )\n",
    "        return"
   ]
  },
  {
   "cell_type": "markdown",
   "metadata": {},
   "source": [
    "The point of `self.default_pars()` is to set the ground truth for the format that the parameters should take. When users enter their own parameters for defining an instance of this module, the parameter values they enter will be processed within `self.update_pars()` and will be checked for consistency with the format provided in the `default_pars`. For example, the parameter `p_death` in the SIR example above is specified within the default_pars as a Bernoulli distribution. It would be perfectly legitimate to create an instance of the SIR model using any of the following formats:"
   ]
  },
  {
   "cell_type": "code",
   "execution_count": null,
   "metadata": {},
   "outputs": [],
   "source": [
    "sir1 = ss.SIR(p_death=0.02)\n",
    "sir2 = ss.SIR(p_death=ss.bernoulli(p=0.2))\n",
    "sir3 = ss.SIR(pars=dict(p_death=0.03))"
   ]
  },
  {
   "cell_type": "markdown",
   "metadata": {},
   "source": [
    "However, it would NOT be ok to create an SIR model with e.g. `ss.SIR(p_death=ss.lognorm_ex(4))`, because if a distribution is defined as a Bernoulli in the default_pars, it can't be changed. This is only the case for Bernoulli distributions; other distributions can be changed, e.g. `ss.SIR(dur_inf=ss.normal(4))` would be okay.\n",
    "\n",
    "## Using callable parameters\n",
    " \n",
    "One of the most flexible aspects of how Starsim's distributions are defined is that they can take callable functions as parameter values. For example, in reality the duration of infection of a disease might vary by age. We could model this as follows:"
   ]
  },
  {
   "cell_type": "code",
   "execution_count": null,
   "metadata": {},
   "outputs": [],
   "source": [
    "sir = ss.SIR(dur_inf=ss.normal(loc=10))  # Define an SIR model with a default duration of 10 days\n",
    "sir.pars.dur_inf.set(loc = lambda self, sim, uids: sim.people.age[uids] / 10)  # Change the mean duration so it scales with age\n",
    "sim = ss.Sim(n_agents=1e3, diseases=sir, networks='random')\n",
    "sim.run()"
   ]
  },
  {
   "cell_type": "markdown",
   "metadata": {},
   "source": [
    "Using similar logic, any other parameter could be set to depend on anything that the sim is aware of, including time or agent properties like age, sex, or health attributes.\n"
   ]
  }
 ],
 "metadata": {
  "kernelspec": {
   "display_name": "Python 3 (ipykernel)",
   "language": "python",
   "name": "python3"
  },
  "language_info": {
   "codemirror_mode": {
    "name": "ipython",
    "version": 3
   },
   "file_extension": ".py",
   "mimetype": "text/x-python",
   "name": "python",
   "nbconvert_exporter": "python",
   "pygments_lexer": "ipython3",
   "version": "3.10.11"
  },
  "pycharm": {
   "stem_cell": {
    "cell_type": "raw",
    "metadata": {
     "collapsed": false
    },
    "source": []
   }
  },
  "toc": {
   "base_numbering": 1,
   "nav_menu": {},
   "number_sections": true,
   "sideBar": true,
   "skip_h1_title": false,
   "title_cell": "Table of Contents",
   "title_sidebar": "Contents",
   "toc_cell": false,
   "toc_position": {},
   "toc_section_display": true,
   "toc_window_display": false
  }
 },
 "nbformat": 4,
 "nbformat_minor": 4
}
