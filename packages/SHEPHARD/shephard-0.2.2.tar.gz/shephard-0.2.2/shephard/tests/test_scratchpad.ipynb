{
 "cells": [
  {
   "cell_type": "code",
   "execution_count": 1,
   "id": "280c1cac",
   "metadata": {},
   "outputs": [],
   "source": [
    "import shephard\n",
    "from shephard.apis import uniprot\n",
    "from shephard import interfaces\n",
    "from shephard.tools import domain_tools\n",
    "from shephard.apis import metapredict"
   ]
  },
  {
   "cell_type": "code",
   "execution_count": 10,
   "id": "26b98f98",
   "metadata": {},
   "outputs": [],
   "source": [
    "test_data_dir = shephard.get_data('test_data')\n",
    "fasta_file = '%s/%s' % (test_data_dir, 'testset_1.fasta')\n",
    "domain_file = '%s/%s' % (test_data_dir, 'TS1_domains_idr.tsv')\n",
    "\n",
    "P = uniprot.uniprot_fasta_to_proteome(fasta_file)\n"
   ]
  },
  {
   "cell_type": "code",
   "execution_count": 11,
   "id": "3d794d2f",
   "metadata": {},
   "outputs": [],
   "source": [
    "metapredict.annotate_proteome_with_disordered_domains(P, annotate_folded_domains=True)"
   ]
  },
  {
   "cell_type": "code",
   "execution_count": 14,
   "id": "bbe35c05",
   "metadata": {},
   "outputs": [],
   "source": [
    "folded_domains = {}\n",
    "for d in P.domains:\n",
    "    if d.domain_type == 'IDR':\n",
    "        pass\n",
    "    else:\n",
    "        folded_domains[f\"{d.protein.unique_ID}-{d.start}-{d.end}\"] = d.sequence\n"
   ]
  },
  {
   "cell_type": "code",
   "execution_count": 15,
   "id": "f15e66cc",
   "metadata": {},
   "outputs": [
    {
     "data": {
      "text/plain": [
       "{'O00401-15-140': 'TNVGSLLLTPQENESLFTFLGKKCVTMSSAVVQLYAADRNCMWSKKCSGVACLVKDNPQRSYFLRIFDIKDGKLLWEQELYNNFVYNSPRGYFHTFAGDTCQVALNFANEEEAKKFRKAVTDLLGR',\n",
       " 'O00401-218-269': 'DPNTGFDLNNLDPELKNLFDMCGISEAQLKDRETSKVIYDFIEKTGGVEAVK',\n",
       " 'O00470-114-183': 'SESFNEDIAVFAKQIRAEKPLFSSNPELDNLMIQAIQVLRFHLLELEKVHELCDNFCHRYISCLKGKMPI',\n",
       " 'O00470-280-332': 'PKVATNIMRAWLFQHLTHPYPSEEQKKQLAQDTGLTILQVNNWFINARRRIVQ',\n",
       " 'O00472-1-138': 'MAAGGTGGLREEQRYGLSCGRLGQDNITVLHVKLTETAIRALETYQSHKNLIPFRPSIQFQGLHGLVKIPKNDPLNEVHNFNFYLSNVGKDNPQGSFDCIQQTFSSSGASQLNCLGFIQDKITVCATNDSYQMTRERM',\n",
       " 'O00472-205-284': 'PYRDRVIHLLALKAYKKPELLARLQKDGVNQKDKNSLGAILQQVANLNSKDLSYTLKDYVFKELQRDWPGYSEIDRRSLE',\n",
       " 'O00472-522-640': 'AIELPDYLIKYIAIVSYEQRQNYKDDFNAEYDEYRALHARMETVARRFIKLDAQRKRLSPGSKEYQNVHEEVLQEYQKIKQSSPNYHEEKYRCEYLHNKLAHIKRLIGEFDQQQAESWS',\n",
       " 'O00499-1-272': 'MAEMGSKGVTAGKIASNVQKKLTRAQEKVLQKLGKADETKDEQFEQCVQNFNKQLTEGTRLQKDLRTYLASVKAMHEASKKLNECLQEVYEPDWPGRDEANKIAENNDLLWMDYHQKLVDQALLTMDTYLGQFPDIKSRIAKRGRKLVDYDSARHHYESLQTAKKKDEAKIAKPVSLLEKAAPQWCQGKLQAHLVAQTNLLRNQAEEELIKAQKVFEEMNVDLQEELPSLWNSRVGFYVNTFQSIAGLEENFHKEMSKLNQNLNDVLVGLEK',\n",
       " 'O00499-526-593': 'QAQHDYTATDTDELQLKAGDVVLVIPFQNPEEQDEGWLMGVKESDWNQHKELEKCRGVFPENFTERVP',\n",
       " 'O00629-62-488': 'IDGDYRVQNTSLEAIVQNASSDNQGIQLSAVQAARKLLSSDRNPPIDDLIKSGILPILVHCLERDDNPSLQFEAAWALTNIASGTSEQTQAVVQSNAVPLFLRLLHSPHQNVCEQAVWALGNIIGDGPQCRDYVISLGVVKPLLSFISPSIPITFLRNVTWVMVNLCRHKDPPPPMETIQEILPALCVLIHHTDVNILVDTVWALSYLTDAGNEQIQMVIDSGIVPHLVPLLSHQEVKVQTAALRAVGNIVTGTDEQTQVVLNCDALSHFPALLTHPKEKINKEAVWFLSNITAGNQQQVQAVIDANLVPMIIHLLDKGDFGTQKEAAWAISNLTISGRKDQVAYLIQQNVIPPFCNLLTVKDAQVVQVVLDGLSNILKMAEDEAETIGNLIEECGGLEKIEQLQNHENEDIYKLAYEIIDQFFSSD',\n",
       " 'O00712-1-185': 'MMYSPICLTQDEFHPFIEALLPHVRAIAYTWFNLQARKRKYFKKHEKRMSKDEERAVKDELLSEKPEIKQKWASRLLAKLRKDIRQEYREDFVLTVTGKKHPCCVLSNPDQKGKIRRIDCLRQADKVWRLDLVMVILFKGIPLESTDGERLMKSPHCTNPALCVQPHHITVSVKELDLFLAYYVQ',\n",
       " 'O00716-179-350': 'YDTSLGLLTKKFIQLLSQSPDGVLDLNKAAEVLKVQKRRIYDITNVLEGIHLIKKKSKNNVQWMGCSLSEDGGMLAQCQGLSKEVTELSQEEKKLDELIQSCTLDLKLLTEDSENQRLAYVTYQDIRKISGLKDQTVIVVKAPPETRLEVPDSIESLQIHLASTQGPIEVYL',\n",
       " 'O14786-25-808': 'DKCGDTIKIESPGYLTSPGYPHSYHPSEKCEWLIQAPDPYQRIMINFNPHFDLEDRDCKYDYVEVFDGENENGHFRGKFCGKIAPPPVVSSGPFLFIKFVSDYETHGAGFSIRYEIFKRGPECSQNYTTPSGVIKSPGFPEKYPNSLECTYIVFVPKMSEIILEFESFDLEPDSNPPGGMFCRYDRLEIWDGFPDVGPHIGRYCGQKTPGRIRSSSGILSMVFYTDSAIAKEGFSANYSVLQSSVSEDFKCMEALGMESGEIHSDQITASSQYSTNWSAERSRLNYPENGWTPGEDSYREWIQVDLGLLRFVTAVGTQGAISKETKKKYYVKTYKIDVSSNGEDWITIKEGNKPVLFQGNTNPTDVVVAVFPKPLITRFVRIKPATWETGISMRFEVYGCKITDYPCSGMLGMVSGLISDSQITSSNQGDRNWMPENIRLVTSRSGWALPPAPHSYINEWLQIDLGEEKIVRGIIIQGGKHRENKVFMRKFKIGYSNNGSDWKMIMDDSKRKAKSFEGNNNYDTPELRTFPALSTRFIRIYPERATHGGLGLRMELLGCEVEAPTAGPTTPNGNLVDECDDDQANCHSGTGDDFQLTGGTTVLATEKPTVIDSTIQSEFPTYGFNCEFGWGSHKTFCHWEHDNHVQLKWSVLTSKTGPIQDHTGDGNFIYSQADENQKGKVARLVSPVVYSQNSAHCMTFWYHMSGSHVGTLRVKLRYQKPEEYDQLVWMAIGHQGDHWKEGRVLLHKSLKLYQVIFEGEIGKGNLGGIAVDDISINNHISQED',\n",
       " 'O14786-856-886': 'PILITIIAMSALGVLLGAVCGVVLYCACWHN',\n",
       " 'Q9UJX3-1-110': 'MDPGDAAILESSLRILYRLFESVLPPLPAALQSRMNVIDHVRDMAAAGLHSNVRLLSSLLLTMSNNNPELFSPPQKYQLLVYHADSLFHDKEYRNAVSKYTMALQQKKAL',\n",
       " 'Q9UJX3-133-539': 'PSEIEVKYKMAECYTMLKQDKDAIAILDGIPSRQRTPKINMMLANLYKKAGQERPSVTSYKEVLRQCPLALDAILGLLSLSVKGAEVASMTMNVIQTVPNLDWLSVWIKAYAFVHTGDNSRAISTICSLEKKSLLRDNVDLLGSLADLYFRAGDNKNSVLKFEQAQMLDPYLIKGMDVYGYLLAREGRLEDVENLGCRLFNISDQHAEPWVVSGCHSFYSKRYSRALYLGAKAIQLNSNSVQALLLKGAALRNMGRVQEAIIHFREAIRLAPCRLDCYEGLIECYLASNSIREAMVMANNVYKTLGANAQTLTLLATVCLEDPVTQEKAKTLLDKALTQRPDYIKAVVKKAELLSREQKYEDGIALLRNALANQSDCVLHRILGDFLVAVNEYQEAMDQYSIALSLD'}"
      ]
     },
     "execution_count": 15,
     "metadata": {},
     "output_type": "execute_result"
    }
   ],
   "source": [
    "folded_domains"
   ]
  },
  {
   "cell_type": "code",
   "execution_count": 8,
   "id": "0c38921c",
   "metadata": {},
   "outputs": [
    {
     "data": {
      "text/plain": [
       "'IDR'"
      ]
     },
     "execution_count": 8,
     "metadata": {},
     "output_type": "execute_result"
    }
   ],
   "source": [
    "d.domain_type"
   ]
  },
  {
   "cell_type": "code",
   "execution_count": 9,
   "id": "40de41f5",
   "metadata": {},
   "outputs": [],
   "source": [
    "mean_disorder = {}\n",
    "for protein in P:\n",
    "    mean_disorder[protein.unique_ID] = np.mean(protein.track('disorder').values)\n",
    "\n",
    "    "
   ]
  },
  {
   "cell_type": "code",
   "execution_count": 22,
   "id": "1223dadd",
   "metadata": {},
   "outputs": [],
   "source": [
    "apis.metapredict.annotate_proteome_with_disorder_tracks_and_disordered_domains(P, safe=False)a"
   ]
  },
  {
   "cell_type": "code",
   "execution_count": 27,
   "id": "72e42276",
   "metadata": {},
   "outputs": [
    {
     "data": {
      "text/plain": [
       "numpy.float32"
      ]
     },
     "execution_count": 27,
     "metadata": {},
     "output_type": "execute_result"
    }
   ],
   "source": [
    "np.float32"
   ]
  },
  {
   "cell_type": "code",
   "execution_count": 15,
   "id": "8da7f020",
   "metadata": {},
   "outputs": [],
   "source": [
    "apis.metapredict.annotate_proteome_with_disordered_domains(P)"
   ]
  },
  {
   "cell_type": "code",
   "execution_count": 19,
   "id": "8751e17d",
   "metadata": {},
   "outputs": [
    {
     "data": {
      "text/plain": [
       "'NELRRQAPPPPPPSRGGPPPPPPPPHNSGPPPPPARGRGAPPPPPSRAPTAAPPPPPPSRPSVAVPPPPPNRMYPPPPPALPSSAPSGPPPPPPSVLGVGPVAPPPPPPPPPPPGPPPPPGLPSDGDHQVPTTAGNKAALLDQIREGAQLKKVEQNSRPVSCSGRDALLDQIRQGIQLKSVADGQESTPPTPAPTSGIVGALMEVMQKRSKAIHSSDEDEDEDDEEDFEDDDEWED'"
      ]
     },
     "execution_count": 19,
     "metadata": {},
     "output_type": "execute_result"
    }
   ],
   "source": [
    "P.protein('O00401').domains[2].sequence"
   ]
  },
  {
   "cell_type": "code",
   "execution_count": 4,
   "id": "b480228d",
   "metadata": {},
   "outputs": [],
   "source": [
    "uid2seq = {}\n",
    "for p in P:\n",
    "    uid2seq[p.unique_ID] = p.sequence\n",
    "    "
   ]
  },
  {
   "cell_type": "code",
   "execution_count": 6,
   "id": "6f508f72",
   "metadata": {},
   "outputs": [],
   "source": [
    "D = meta.predict_disorder_batch(uid2seq)"
   ]
  },
  {
   "cell_type": "code",
   "execution_count": 11,
   "id": "139cce1f",
   "metadata": {},
   "outputs": [],
   "source": [
    "p = P.protein('O00401')\n",
    "p.add_track('disorder', values=D['O00401'][1],)"
   ]
  },
  {
   "cell_type": "code",
   "execution_count": 9,
   "id": "1955d6e5",
   "metadata": {},
   "outputs": [
    {
     "data": {
      "text/plain": [
       "array([9.455e-01, 9.558e-01, 9.509e-01, 9.446e-01, 9.423e-01, 9.387e-01,\n",
       "       9.179e-01, 8.845e-01, 8.411e-01, 8.120e-01, 7.728e-01, 7.075e-01,\n",
       "       6.015e-01, 5.159e-01, 4.328e-01, 3.903e-01, 3.402e-01, 2.954e-01,\n",
       "       2.397e-01, 1.927e-01, 1.465e-01, 1.207e-01, 1.181e-01, 1.457e-01,\n",
       "       1.708e-01, 1.692e-01, 1.596e-01, 1.296e-01, 1.068e-01, 6.850e-02,\n",
       "       2.870e-02, 2.120e-02, 1.030e-02, 1.330e-02, 1.640e-02, 2.200e-02,\n",
       "       1.450e-02, 1.430e-02, 3.100e-03, 4.700e-03, 5.700e-03, 6.100e-03,\n",
       "       2.500e-03, 0.000e+00, 0.000e+00, 0.000e+00, 0.000e+00, 0.000e+00,\n",
       "       2.000e-04, 5.000e-04, 9.200e-03, 3.500e-03, 4.400e-03, 3.400e-03,\n",
       "       3.700e-03, 5.600e-03, 3.800e-03, 3.700e-03, 1.600e-03, 4.000e-04,\n",
       "       5.500e-03, 8.200e-03, 4.800e-03, 3.000e-04, 0.000e+00, 0.000e+00,\n",
       "       2.400e-03, 3.300e-03, 3.040e-02, 5.680e-02, 6.180e-02, 5.510e-02,\n",
       "       4.740e-02, 3.150e-02, 2.700e-02, 1.590e-02, 1.100e-03, 0.000e+00,\n",
       "       0.000e+00, 0.000e+00, 0.000e+00, 0.000e+00, 0.000e+00, 3.100e-03,\n",
       "       4.300e-03, 0.000e+00, 0.000e+00, 0.000e+00, 0.000e+00, 0.000e+00,\n",
       "       0.000e+00, 0.000e+00, 0.000e+00, 0.000e+00, 0.000e+00, 1.920e-02,\n",
       "       2.090e-02, 2.000e-02, 2.510e-02, 5.190e-02, 8.290e-02, 7.840e-02,\n",
       "       5.970e-02, 4.200e-02, 4.300e-02, 1.980e-02, 1.150e-02, 2.050e-02,\n",
       "       1.760e-02, 1.540e-02, 3.130e-02, 4.400e-02, 3.620e-02, 1.560e-02,\n",
       "       8.700e-03, 1.630e-02, 1.390e-02, 2.460e-02, 3.170e-02, 4.970e-02,\n",
       "       6.970e-02, 1.025e-01, 1.213e-01, 1.480e-01, 1.423e-01, 1.259e-01,\n",
       "       1.219e-01, 1.258e-01, 1.239e-01, 1.334e-01, 1.131e-01, 1.306e-01,\n",
       "       1.537e-01, 1.662e-01, 1.915e-01, 2.584e-01, 2.887e-01, 3.271e-01,\n",
       "       3.973e-01, 4.544e-01, 5.066e-01, 5.727e-01, 6.154e-01, 6.714e-01,\n",
       "       7.394e-01, 7.644e-01, 7.829e-01, 8.166e-01, 8.500e-01, 8.558e-01,\n",
       "       8.777e-01, 8.487e-01, 8.626e-01, 8.630e-01, 8.360e-01, 8.405e-01,\n",
       "       8.252e-01, 8.028e-01, 7.867e-01, 7.917e-01, 7.572e-01, 7.405e-01,\n",
       "       7.316e-01, 7.357e-01, 7.360e-01, 7.438e-01, 7.685e-01, 7.696e-01,\n",
       "       7.760e-01, 7.670e-01, 7.663e-01, 7.783e-01, 7.785e-01, 7.959e-01,\n",
       "       8.117e-01, 8.247e-01, 8.480e-01, 8.571e-01, 8.767e-01, 8.739e-01,\n",
       "       8.823e-01, 9.069e-01, 8.979e-01, 8.979e-01, 9.089e-01, 8.980e-01,\n",
       "       9.057e-01, 8.982e-01, 8.960e-01, 8.901e-01, 9.013e-01, 8.820e-01,\n",
       "       8.818e-01, 8.497e-01, 8.188e-01, 7.990e-01, 7.821e-01, 7.657e-01,\n",
       "       7.653e-01, 7.547e-01, 7.501e-01, 7.285e-01, 7.334e-01, 7.322e-01,\n",
       "       6.848e-01, 6.713e-01, 6.490e-01, 6.237e-01, 5.713e-01, 5.388e-01,\n",
       "       5.179e-01, 5.116e-01, 5.270e-01, 5.017e-01, 5.146e-01, 5.252e-01,\n",
       "       4.931e-01, 4.927e-01, 4.970e-01, 5.091e-01, 5.081e-01, 5.098e-01,\n",
       "       4.476e-01, 4.432e-01, 4.276e-01, 4.366e-01, 4.224e-01, 3.688e-01,\n",
       "       3.188e-01, 2.680e-01, 2.320e-01, 2.127e-01, 2.007e-01, 1.965e-01,\n",
       "       1.788e-01, 1.738e-01, 1.582e-01, 1.359e-01, 1.670e-01, 1.866e-01,\n",
       "       1.805e-01, 2.226e-01, 2.237e-01, 2.267e-01, 2.245e-01, 2.221e-01,\n",
       "       2.388e-01, 2.403e-01, 2.251e-01, 2.186e-01, 2.130e-01, 2.084e-01,\n",
       "       1.935e-01, 1.754e-01, 1.578e-01, 1.539e-01, 1.562e-01, 1.653e-01,\n",
       "       1.924e-01, 2.383e-01, 3.021e-01, 3.351e-01, 3.969e-01, 4.083e-01,\n",
       "       3.942e-01, 3.991e-01, 4.030e-01, 4.284e-01, 4.467e-01, 5.013e-01,\n",
       "       5.101e-01, 5.598e-01, 5.651e-01, 6.460e-01, 6.969e-01, 7.576e-01,\n",
       "       7.724e-01, 8.236e-01, 8.613e-01, 8.750e-01, 9.000e-01, 9.245e-01,\n",
       "       9.546e-01, 9.607e-01, 9.531e-01, 9.296e-01, 9.335e-01, 9.258e-01,\n",
       "       9.168e-01, 9.100e-01, 9.058e-01, 9.067e-01, 9.141e-01, 9.205e-01,\n",
       "       9.344e-01, 9.446e-01, 9.314e-01, 9.163e-01, 9.307e-01, 9.226e-01,\n",
       "       9.272e-01, 9.306e-01, 9.253e-01, 9.220e-01, 9.394e-01, 9.454e-01,\n",
       "       9.338e-01, 9.192e-01, 9.117e-01, 9.168e-01, 9.110e-01, 9.101e-01,\n",
       "       9.191e-01, 9.219e-01, 9.306e-01, 9.290e-01, 9.291e-01, 9.221e-01,\n",
       "       9.222e-01, 9.202e-01, 9.275e-01, 9.139e-01, 8.932e-01, 8.935e-01,\n",
       "       8.978e-01, 9.004e-01, 8.989e-01, 9.169e-01, 9.148e-01, 8.990e-01,\n",
       "       9.029e-01, 9.078e-01, 8.943e-01, 8.852e-01, 8.392e-01, 8.084e-01,\n",
       "       8.044e-01, 8.121e-01, 8.234e-01, 8.654e-01, 8.781e-01, 8.590e-01,\n",
       "       8.492e-01, 7.845e-01, 7.680e-01, 7.688e-01, 7.791e-01, 7.928e-01,\n",
       "       8.344e-01, 8.607e-01, 8.613e-01, 8.995e-01, 9.089e-01, 9.085e-01,\n",
       "       8.972e-01, 9.137e-01, 8.725e-01, 8.607e-01, 8.471e-01, 8.376e-01,\n",
       "       8.334e-01, 8.410e-01, 8.565e-01, 9.055e-01, 9.215e-01, 9.203e-01,\n",
       "       9.178e-01, 9.095e-01, 8.946e-01, 8.714e-01, 8.995e-01, 9.038e-01,\n",
       "       8.616e-01, 8.400e-01, 8.320e-01, 8.300e-01, 8.303e-01, 8.311e-01,\n",
       "       8.330e-01, 8.362e-01, 8.410e-01, 8.471e-01, 8.460e-01, 8.803e-01,\n",
       "       8.717e-01, 8.612e-01, 8.597e-01, 8.601e-01, 8.643e-01, 8.989e-01,\n",
       "       8.978e-01, 9.113e-01, 9.072e-01, 9.106e-01, 9.149e-01, 9.133e-01,\n",
       "       9.037e-01, 9.127e-01, 9.117e-01, 9.128e-01, 9.136e-01, 9.211e-01,\n",
       "       9.085e-01, 8.841e-01, 8.650e-01, 8.332e-01, 8.329e-01, 8.052e-01,\n",
       "       7.676e-01, 7.275e-01, 6.870e-01, 6.836e-01, 7.047e-01, 6.761e-01,\n",
       "       7.079e-01, 7.357e-01, 7.652e-01, 7.690e-01, 7.907e-01, 8.006e-01,\n",
       "       8.299e-01, 8.490e-01, 8.521e-01, 8.614e-01, 8.657e-01, 8.754e-01,\n",
       "       8.706e-01, 8.691e-01, 8.797e-01, 8.750e-01, 8.556e-01, 8.360e-01,\n",
       "       8.161e-01, 7.811e-01, 7.470e-01, 7.280e-01, 6.915e-01, 6.599e-01,\n",
       "       6.236e-01, 6.212e-01, 6.193e-01, 6.094e-01, 6.435e-01, 6.902e-01,\n",
       "       7.178e-01, 7.108e-01, 7.671e-01, 8.121e-01, 8.599e-01, 9.025e-01,\n",
       "       9.200e-01, 9.387e-01, 9.570e-01, 9.442e-01, 9.562e-01, 9.629e-01,\n",
       "       9.559e-01, 9.448e-01, 9.365e-01, 9.379e-01, 9.141e-01, 9.045e-01,\n",
       "       8.915e-01, 8.701e-01, 8.546e-01, 8.215e-01, 7.751e-01, 7.553e-01,\n",
       "       7.235e-01, 6.644e-01, 5.939e-01, 5.112e-01, 4.958e-01, 4.862e-01,\n",
       "       4.750e-01, 4.734e-01, 5.220e-01, 5.767e-01, 6.385e-01, 6.864e-01,\n",
       "       7.165e-01, 7.812e-01, 7.845e-01, 8.381e-01, 8.997e-01, 9.304e-01,\n",
       "       9.409e-01, 9.559e-01, 9.494e-01, 9.632e-01, 9.470e-01, 9.549e-01,\n",
       "       9.440e-01, 9.366e-01, 9.346e-01, 9.359e-01, 9.196e-01, 9.319e-01,\n",
       "       9.205e-01, 9.116e-01, 9.026e-01, 8.760e-01, 8.656e-01, 8.447e-01,\n",
       "       7.600e-01], dtype=float32)"
      ]
     },
     "execution_count": 9,
     "metadata": {},
     "output_type": "execute_result"
    }
   ],
   "source": [
    "p.add_domain()"
   ]
  },
  {
   "cell_type": "code",
   "execution_count": 4,
   "id": "1d5d4081",
   "metadata": {},
   "outputs": [],
   "source": [
    "P.add_protein('A'*100,'test','test')\n",
    "pro"
   ]
  },
  {
   "cell_type": "code",
   "execution_count": 8,
   "id": "32ac24a8",
   "metadata": {},
   "outputs": [
    {
     "ename": "ProteinException",
     "evalue": "Domain [test_domain_1_20] already found in proteins test",
     "output_type": "error",
     "traceback": [
      "\u001b[0;31m---------------------------------------------------------------------------\u001b[0m",
      "\u001b[0;31mProteinException\u001b[0m                          Traceback (most recent call last)",
      "Input \u001b[0;32mIn [8]\u001b[0m, in \u001b[0;36m<cell line: 1>\u001b[0;34m()\u001b[0m\n\u001b[0;32m----> 1\u001b[0m \u001b[43mP\u001b[49m\u001b[38;5;241;43m.\u001b[39;49m\u001b[43mprotein\u001b[49m\u001b[43m(\u001b[49m\u001b[38;5;124;43m'\u001b[39;49m\u001b[38;5;124;43mtest\u001b[39;49m\u001b[38;5;124;43m'\u001b[39;49m\u001b[43m)\u001b[49m\u001b[38;5;241;43m.\u001b[39;49m\u001b[43madd_domain\u001b[49m\u001b[43m(\u001b[49m\u001b[38;5;241;43m1\u001b[39;49m\u001b[43m,\u001b[49m\u001b[38;5;241;43m20\u001b[39;49m\u001b[43m,\u001b[49m\u001b[43m \u001b[49m\u001b[38;5;124;43m'\u001b[39;49m\u001b[38;5;124;43mtest_domain\u001b[39;49m\u001b[38;5;124;43m'\u001b[39;49m\u001b[43m)\u001b[49m\n\u001b[1;32m      2\u001b[0m P\u001b[38;5;241m.\u001b[39mprotein(\u001b[38;5;124m'\u001b[39m\u001b[38;5;124mtest\u001b[39m\u001b[38;5;124m'\u001b[39m)\u001b[38;5;241m.\u001b[39madd_domain(\u001b[38;5;241m5\u001b[39m,\u001b[38;5;241m15\u001b[39m, \u001b[38;5;124m'\u001b[39m\u001b[38;5;124mtest_domain\u001b[39m\u001b[38;5;124m'\u001b[39m)\n",
      "File \u001b[0;32m~/Dropbox/WASHU/Holehouse/tools/shephard/shephard/shephard/protein.py:1582\u001b[0m, in \u001b[0;36mProtein.add_domain\u001b[0;34m(self, start, end, domain_type, attributes, safe, autoname)\u001b[0m\n\u001b[1;32m   1580\u001b[0m         full_name \u001b[38;5;241m=\u001b[39m newname\n\u001b[1;32m   1581\u001b[0m     \u001b[38;5;28;01melif\u001b[39;00m safe:\n\u001b[0;32m-> 1582\u001b[0m         \u001b[38;5;28;01mraise\u001b[39;00m exceptions\u001b[38;5;241m.\u001b[39mProteinException(\u001b[38;5;124m'\u001b[39m\u001b[38;5;124mDomain [\u001b[39m\u001b[38;5;132;01m%s\u001b[39;00m\u001b[38;5;124m] already found in proteins \u001b[39m\u001b[38;5;132;01m%s\u001b[39;00m\u001b[38;5;124m'\u001b[39m \u001b[38;5;241m%\u001b[39m (full_name, \u001b[38;5;28mself\u001b[39m\u001b[38;5;241m.\u001b[39mname))\n\u001b[1;32m   1584\u001b[0m \u001b[38;5;28mself\u001b[39m\u001b[38;5;241m.\u001b[39m_domains[full_name] \u001b[38;5;241m=\u001b[39m Domain(start, end, \u001b[38;5;28mself\u001b[39m, domain_type, full_name, attributes\u001b[38;5;241m=\u001b[39mattributes)\n",
      "\u001b[0;31mProteinException\u001b[0m: Domain [test_domain_1_20] already found in proteins test"
     ]
    }
   ],
   "source": [
    "P.protein('test').add_domain(1,20, 'test_domain')\n"
   ]
  },
  {
   "cell_type": "code",
   "execution_count": 9,
   "id": "a2291844",
   "metadata": {},
   "outputs": [],
   "source": [
    "P.protein('test').add_domain(5,15, 'test_domain')"
   ]
  },
  {
   "cell_type": "code",
   "execution_count": 10,
   "id": "fd6277da",
   "metadata": {},
   "outputs": [],
   "source": [
    "P.protein('test').add_domain(15,25, 'test_domain')"
   ]
  },
  {
   "cell_type": "code",
   "execution_count": 17,
   "id": "459dd03f",
   "metadata": {},
   "outputs": [],
   "source": [
    "assert domain_tools.domain_overlap(P.protein('test').domains[0], P.protein('test').domains[1]) is True\n",
    "assert domain_tools.domain_overlap(P.protein('test').domains[0], P.protein('test').domains[2]) is True\n",
    "assert domain_tools.domain_overlap(P.protein('test').domains[1], P.protein('test').domains[2]) is True"
   ]
  },
  {
   "cell_type": "code",
   "execution_count": 19,
   "id": "4c524bb4",
   "metadata": {},
   "outputs": [],
   "source": [
    "p=P.protein('test')"
   ]
  },
  {
   "cell_type": "code",
   "execution_count": 20,
   "id": "d9362745",
   "metadata": {},
   "outputs": [
    {
     "data": {
      "text/plain": [
       "[]"
      ]
     },
     "execution_count": 20,
     "metadata": {},
     "output_type": "execute_result"
    }
   ],
   "source": [
    "p.get_domains_by_type('test')"
   ]
  },
  {
   "cell_type": "code",
   "execution_count": null,
   "id": "2b229e96",
   "metadata": {},
   "outputs": [],
   "source": []
  }
 ],
 "metadata": {
  "kernelspec": {
   "display_name": "Python 3 (ipykernel)",
   "language": "python",
   "name": "python3"
  },
  "language_info": {
   "codemirror_mode": {
    "name": "ipython",
    "version": 3
   },
   "file_extension": ".py",
   "mimetype": "text/x-python",
   "name": "python",
   "nbconvert_exporter": "python",
   "pygments_lexer": "ipython3",
   "version": "3.8.12"
  }
 },
 "nbformat": 4,
 "nbformat_minor": 5
}
