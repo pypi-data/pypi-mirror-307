{
 "cells": [
  {
   "attachments": {},
   "cell_type": "markdown",
   "metadata": {},
   "source": [
    "# Infer ***golgi*** - part 6️⃣\n",
    "\n",
    "--------------\n",
    "## OVERVIEW\n",
    "In notesbooks 4-9, we will go how each organelle is segmented. These segmentation workflows are completely independent of each other and can be run in any order. Additionally, the entire image will be processed in this notebook, irrespective of the single cells identified in notebooks 1-3. The cell mask will be applied to the organelle segmentation outputs before quantification (as outlined in [10_regionprops](./10_regionprops.ipynb)). \n",
    "\n",
    "This notebook goes through the workflow steps to segment the ***golgi*** -- one of the six organelles of interest.\n",
    "\n",
    "## OBJECTIVE: ✅ Infer sub-cellular component  ***golgi***  \n",
    "Segment the ***golgi*** from a single channel (membrane marker). This workflow was optimized for images of fluorescently tagged sialyltransferase1 (SiT1), a membrane protein. The Golgi has both the classical cisternae structure as well as small golgi derived vesciles, so we are utilizing two segmentation methods to idenfity the entire Golgi structure."
   ]
  },
  {
   "attachments": {},
   "cell_type": "markdown",
   "metadata": {},
   "source": [
    "\n",
    "## IMPORTS"
   ]
  },
  {
   "cell_type": "code",
   "execution_count": 1,
   "metadata": {},
   "outputs": [],
   "source": [
    "# top level imports\n",
    "from pathlib import Path\n",
    "import os, sys\n",
    "from collections import defaultdict\n",
    "from typing import Optional\n",
    "\n",
    "import numpy as np\n",
    "\n",
    "from aicssegmentation.core.seg_dot import dot_2d_slice_by_slice_wrapper, dot_3d_wrapper\n",
    "from aicssegmentation.core.utils import topology_preserving_thinning\n",
    "from skimage.measure import label\n",
    "\n",
    "import napari\n",
    "\n",
    "### import local python functions in ../infer_subc\n",
    "sys.path.append(os.path.abspath((os.path.join(os.getcwd(), '..'))))\n",
    "\n",
    "\n",
    "from infer_subc.core.file_io import (read_czi_image,\n",
    "                                                                    read_ome_image,\n",
    "                                                                    export_inferred_organelle,\n",
    "                                                                    import_inferred_organelle,\n",
    "                                                                    list_image_files)\n",
    "\n",
    "from infer_subc.core.img import *\n",
    "from infer_subc.organelles import fixed_infer_cellmask_fromcomposite, fixed_infer_nuclei_fromlabel\n",
    "# NOTE:  these \"constants\" are only accurate for the testing MCZ dataset\n",
    "from infer_subc.constants import (TEST_IMG_N,\n",
    "                                                                    NUC_CH ,\n",
    "                                                                    LYSO_CH ,\n",
    "                                                                    MITO_CH ,\n",
    "                                                                    GOLGI_CH ,\n",
    "                                                                    PEROX_CH ,\n",
    "                                                                    ER_CH ,\n",
    "                                                                    LD_CH ,\n",
    "                                                                    RESIDUAL_CH )  \n",
    "\n",
    "%load_ext autoreload\n",
    "%autoreload 2\n"
   ]
  },
  {
   "attachments": {},
   "cell_type": "markdown",
   "metadata": {},
   "source": [
    "## Get and load Image for processing"
   ]
  },
  {
   "cell_type": "code",
   "execution_count": 2,
   "metadata": {},
   "outputs": [],
   "source": [
    "test_img_n = TEST_IMG_N\n",
    "\n",
    "data_root_path = Path(os.path.expanduser(\"~\")) /  \"Documents/Python Scripts/Infer-subc-2D\"\n",
    "\n",
    "in_data_path = data_root_path / \"raw\"\n",
    "im_type = \".czi\"\n",
    "\n",
    "img_file_list = list_image_files(in_data_path,im_type)\n",
    "test_img_name = img_file_list[test_img_n]\n",
    "\n",
    "out_data_path = data_root_path / \"out\"\n",
    "if not Path.exists(out_data_path):\n",
    "    Path.mkdir(out_data_path)\n",
    "    print(f\"making {out_data_path}\")"
   ]
  },
  {
   "cell_type": "code",
   "execution_count": 3,
   "metadata": {},
   "outputs": [
    {
     "name": "stderr",
     "output_type": "stream",
     "text": [
      "c:\\Users\\Shannon\\anaconda3\\envs\\infer-subc\\lib\\site-packages\\ome_types\\_convenience.py:112: FutureWarning: The default XML parser will be changing from 'xmlschema' to 'lxml' in version 0.4.0.  To silence this warning, please provide the `parser` argument, specifying either 'lxml' (to opt into the new behavior), or'xmlschema' (to retain the old behavior).\n",
      "  d = to_dict(os.fspath(xml), parser=parser, validate=validate)\n"
     ]
    }
   ],
   "source": [
    "img_data,meta_dict = read_czi_image(test_img_name)\n",
    "\n",
    "channel_names = meta_dict['name']\n",
    "img = meta_dict['metadata']['aicsimage']\n",
    "scale = meta_dict['scale']\n",
    "channel_axis = meta_dict['channel_axis']"
   ]
  },
  {
   "attachments": {},
   "cell_type": "markdown",
   "metadata": {},
   "source": [
    "---------------------\n",
    "\n",
    "## infer ***golgi complex***\n",
    "\n",
    "## summary of steps \n",
    "\n",
    "➡️ INPUT\n",
    "- select single channel containing the lysosome marker (channel number = user input)\n",
    "\n",
    "PRE-PROCESSING\n",
    "- rescale image intensities: \n",
    "    - min=0, max=1\n",
    "- smooth image:\n",
    "    - median filter (media size = user input)\n",
    "    - gaussian filter (sigma = user input)\n",
    "\n",
    "CORE PROCESSING\n",
    "- apply MO thresholding method with topology preserved thinning function from the Allen Cell [aicssegmentation](https://github.com/AllenCell/aics-segmentation) package (threshold options; thinning amount = user input)\n",
    "- apply \"dot\" thresholding method (for small round objects) from the Allen Cell [aicssegmentation](https://github.com/AllenCell/aics-segmentation) package (size scale and threshold cutoff = user input)\n",
    "- combine the two segmentations with logical *OR*\n",
    "\n",
    "POST-PROCESSING\n",
    "- fill holes (hole size = user input)\n",
    "- remove small objects (object size = user input)\n",
    "\n",
    "OUTPUT  ➡️\n",
    "- label unique golgi objects based on connectivity\n",
    "- save labeled ***golgi*** (golgi, GL) as unsigned integer 16-bit tif files\n",
    "\n",
    "\n",
    "> Generally following the Allen Cell Segmenter procedure for segmentation of Golgi from the [sialyltransferase 1 (ST6GAL1)](https://www.allencell.org/cell-observations/category/golgi-apparatus) marker. Sourced from: this [script](https://github.com/AllenCell/aics-segmentation/blob/main/aicssegmentation/structure_wrapper/seg_st6gal1.py)."
   ]
  },
  {
   "attachments": {},
   "cell_type": "markdown",
   "metadata": {},
   "source": [
    "## EXTRACT prototype"
   ]
  },
  {
   "cell_type": "code",
   "execution_count": 4,
   "metadata": {},
   "outputs": [],
   "source": [
    "###################\n",
    "# INPUT\n",
    "###################\n",
    "raw_golgi = select_channel_from_raw(img_data, GOLGI_CH)"
   ]
  },
  {
   "attachments": {},
   "cell_type": "markdown",
   "metadata": {},
   "source": [
    "## PRE-PROCESSING prototype\n"
   ]
  },
  {
   "cell_type": "code",
   "execution_count": 5,
   "metadata": {},
   "outputs": [],
   "source": [
    "###################\n",
    "# PRE_PROCESSING\n",
    "###################\n",
    "median_sz = 4\n",
    "gauss_sig = 1.34\n",
    "\n",
    "struct_img =  scale_and_smooth(raw_golgi,\n",
    "                               median_size = median_sz, \n",
    "                               gauss_sigma = gauss_sig)"
   ]
  },
  {
   "attachments": {},
   "cell_type": "markdown",
   "metadata": {},
   "source": [
    "## CORE PROCESSING prototype"
   ]
  },
  {
   "cell_type": "code",
   "execution_count": 6,
   "metadata": {},
   "outputs": [],
   "source": [
    "###################\n",
    "# CORE_PROCESSING\n",
    "###################\n",
    "################################\n",
    "# segment the majority of the golgi with this global and local thresholding method\n",
    "thresh_method = 'tri'\n",
    "cell_wise_min_area = 1200\n",
    "thresh_adj = 1\n",
    "\n",
    "bw = masked_object_thresh(struct_img, \n",
    "                          global_method=thresh_method, \n",
    "                          cutoff_size=cell_wise_min_area, \n",
    "                          local_adjust=thresh_adj)\n",
    "\n",
    "# thin segmentation with maintain a minimal required thickness\n",
    "thin_dist = 1\n",
    "thin_dist_preserve = 1.6\n",
    "\n",
    "bw_thin = topology_preserving_thinning(bw, thin_dist_preserve, thin_dist)\n",
    "\n",
    "# segment small round structures with this (golgi vesicles)\n",
    "dot_method = \"3D\"\n",
    "\n",
    "bw_extra = dot_filter_3(struct_img, 1.6, 0.02, 0, 0, 0, 0, dot_method)\n",
    "\n",
    "# combine the two segmentations together\n",
    "bw_combine = np.logical_or(bw_extra, bw_thin)"
   ]
  },
  {
   "attachments": {},
   "cell_type": "markdown",
   "metadata": {},
   "source": [
    "## POST-PROCESSING prototype"
   ]
  },
  {
   "cell_type": "code",
   "execution_count": 7,
   "metadata": {},
   "outputs": [],
   "source": [
    "###################\n",
    "# POST_PROCESSING\n",
    "###################\n",
    "hole_min_width = 0\n",
    "hole_max_width = 1\n",
    "\n",
    "small_object_width = 3\n",
    "\n",
    "fill_filter_method = \"3D\"\n",
    "\n",
    "cleaned_img2 = fill_and_filter_linear_size(bw_combine, \n",
    "                                           hole_min=hole_min_width, \n",
    "                                           hole_max=hole_max_width, \n",
    "                                           min_size=small_object_width,\n",
    "                                           method=fill_filter_method)"
   ]
  },
  {
   "attachments": {},
   "cell_type": "markdown",
   "metadata": {},
   "source": [
    "## LABELING prototype"
   ]
  },
  {
   "cell_type": "code",
   "execution_count": 8,
   "metadata": {},
   "outputs": [],
   "source": [
    "###################\n",
    "# LABELING\n",
    "###################\n",
    "golgi_labels = label_uint16(cleaned_img2)"
   ]
  },
  {
   "cell_type": "code",
   "execution_count": 9,
   "metadata": {},
   "outputs": [
    {
     "data": {
      "text/plain": [
       "dtype('uint16')"
      ]
     },
     "execution_count": 9,
     "metadata": {},
     "output_type": "execute_result"
    }
   ],
   "source": [
    "golgi_labels.dtype"
   ]
  },
  {
   "attachments": {},
   "cell_type": "markdown",
   "metadata": {},
   "source": [
    "## Visualize with `napari`\n",
    "Visualize the first-pass segmentation and labeling with `napari`."
   ]
  },
  {
   "cell_type": "code",
   "execution_count": 10,
   "metadata": {},
   "outputs": [
    {
     "name": "stderr",
     "output_type": "stream",
     "text": [
      "WARNING: QWindowsWindow::setGeometry: Unable to set geometry 1090x686+1628+1047 (frame: 1108x733+1619+1009) on QWidgetWindow/\"_QtMainWindowClassWindow\" on \"\\\\.\\DISPLAY1\". Resulting geometry: 1365x859+1629+1054 (frame: 1383x906+1620+1016) margins: 9, 38, 9, 9 minimum size: 612x589 MINMAXINFO maxSize=0,0 maxpos=0,0 mintrack=630,636 maxtrack=0,0)\n",
      "31-May-23 12:36:02 - vispy    - WARNING  - QWindowsWindow::setGeometry: Unable to set geometry 1090x686+1628+1047 (frame: 1108x733+1619+1009) on QWidgetWindow/\"_QtMainWindowClassWindow\" on \"\\\\.\\DISPLAY1\". Resulting geometry: 1365x859+1629+1054 (frame: 1383x906+1620+1016) margins: 9, 38, 9, 9 minimum size: 612x589 MINMAXINFO maxSize=0,0 maxpos=0,0 mintrack=630,636 maxtrack=0,0)\n"
     ]
    }
   ],
   "source": [
    "viewer = napari.Viewer()"
   ]
  },
  {
   "cell_type": "code",
   "execution_count": 11,
   "metadata": {},
   "outputs": [
    {
     "data": {
      "text/plain": [
       "<Labels layer 'golgi_labels' at 0x2cf66283f40>"
      ]
     },
     "execution_count": 11,
     "metadata": {},
     "output_type": "execute_result"
    }
   ],
   "source": [
    "viewer.add_image(\n",
    "    struct_img)\n",
    "\n",
    "viewer.add_image(\n",
    "    cleaned_img2,\n",
    "    opacity=0.3,)\n",
    "\n",
    "viewer.add_labels(\n",
    "    golgi_labels,\n",
    "    opacity=0.3)"
   ]
  },
  {
   "attachments": {},
   "cell_type": "markdown",
   "metadata": {},
   "source": [
    "## SAVE inferred golgi to .tif file"
   ]
  },
  {
   "cell_type": "code",
   "execution_count": 12,
   "metadata": {},
   "outputs": [
    {
     "name": "stdout",
     "output_type": "stream",
     "text": [
      "saved file: a24hrs-Ctrl_14_Unmixing-golgi\n"
     ]
    }
   ],
   "source": [
    "out_file_n = export_inferred_organelle(golgi_labels, \"golgi\", meta_dict, out_data_path)"
   ]
  },
  {
   "attachments": {},
   "cell_type": "markdown",
   "metadata": {},
   "source": [
    "----------\n",
    "## DEFINE `_infer_golgi` function\n",
    "\n",
    "Based on the _prototyping_ above define the function to infer the golgi.  \n",
    "\n",
    "> NOTE: these functions mainly serve for downstream prototyping in the notebooks. Each step above has an independent function that is implemented in the plugin for easy of use."
   ]
  },
  {
   "cell_type": "code",
   "execution_count": 13,
   "metadata": {},
   "outputs": [],
   "source": [
    "##########################\n",
    "#  infer_golgi\n",
    "##########################\n",
    "def _infer_golgi(\n",
    "            in_img: np.ndarray,\n",
    "            golgi_ch: int,\n",
    "            median_sz: int,\n",
    "            gauss_sig: float,\n",
    "            mo_method: str,\n",
    "            mo_adjust: float,\n",
    "            mo_cutoff_size: int,\n",
    "            min_thickness: int,\n",
    "            thin_dist: int,\n",
    "            dot_scale_1: float,\n",
    "            dot_cut_1: float,\n",
    "            dot_scale_2: float,\n",
    "            dot_cut_2: float,\n",
    "            dot_scale_3: float,\n",
    "            dot_cut_3: float,\n",
    "            dot_method: str,\n",
    "            min_hole_w: int,\n",
    "            max_hole_w: int,\n",
    "            small_obj_w: int,\n",
    "            fill_filter_method: str\n",
    "        ) -> np.ndarray:\n",
    "\n",
    "    \"\"\"\n",
    "    Procedure to infer golgi from linearly unmixed input.\n",
    "\n",
    "   Parameters\n",
    "    ------------\n",
    "    in_img: \n",
    "        a 3d image containing all the channels\n",
    "    median_sz: \n",
    "        width of median filter for signal\n",
    "    mo_method: \n",
    "         which method to use for calculating global threshold. Options include:\n",
    "         \"triangle\" (or \"tri\"), \"median\" (or \"med\"), and \"ave_tri_med\" (or \"ave\").\n",
    "         \"ave\" refers the average of \"triangle\" threshold and \"mean\" threshold.\n",
    "    mo_adjust: \n",
    "        Masked Object threshold `local_adjust`\n",
    "    mo_cutoff_size: \n",
    "        Masked Object threshold `size_min`\n",
    "    min_thinkness: \n",
    "        Half of the minimum width you want to keep from being thinned.\n",
    "        For example, when the object width is smaller than 4, you don't\n",
    "        want to make this part even thinner (may break the thin object\n",
    "        and alter the topology), you can set this value as 2.\n",
    "    thin_dist: \n",
    "        the amount to thin (has to be an positive integer). The number of\n",
    "         pixels to be removed from outter boundary towards center.\n",
    "    dot_scale: \n",
    "        scales (log_sigma) for dot filter (1,2, and 3)\n",
    "    dot_cut: \n",
    "        threshold for dot filter thresholds (1,2,and 3)\n",
    "    small_obj_w: \n",
    "        minimu object size cutoff for nuclei post-processing\n",
    "    \n",
    "    Returns\n",
    "    -------------\n",
    "    golgi_object\n",
    "        mask defined extent of golgi object\n",
    "    \"\"\"\n",
    "\n",
    "    ###################\n",
    "    # EXTRACT\n",
    "    ###################    \n",
    "    golgi = select_channel_from_raw(in_img, golgi_ch)\n",
    "\n",
    "    ###################\n",
    "    # PRE_PROCESSING\n",
    "    ###################    \n",
    "    golgi =  scale_and_smooth(golgi,\n",
    "                              median_size = median_sz, \n",
    "                              gauss_sigma = gauss_sig)\n",
    "    ###################\n",
    "    # CORE_PROCESSING\n",
    "    ###################\n",
    "    bw = masked_object_thresh(golgi, global_method=mo_method, cutoff_size=mo_cutoff_size, local_adjust=mo_adjust)\n",
    "\n",
    "    bw_thin = topology_preserving_thinning(bw, min_thickness, thin_dist)\n",
    "\n",
    "    bw_extra = dot_filter_3(golgi, dot_scale_1, dot_cut_1, dot_scale_2, dot_cut_2, dot_scale_3, dot_cut_3, dot_method)\n",
    "\n",
    "    bw = np.logical_or(bw_extra, bw_thin)\n",
    "    ###################\n",
    "    # POST_PROCESSING\n",
    "    ###################\n",
    "    struct_obj = fill_and_filter_linear_size(bw, \n",
    "                                             hole_min=min_hole_w, \n",
    "                                             hole_max=max_hole_w, \n",
    "                                             min_size=small_obj_w,\n",
    "                                             method=fill_filter_method)\n",
    "\n",
    "    ###################\n",
    "    # LABELING\n",
    "    ###################\n",
    "    struct_obj1 = label_uint16(struct_obj)\n",
    "\n",
    "    return struct_obj1\n"
   ]
  },
  {
   "attachments": {},
   "cell_type": "markdown",
   "metadata": {},
   "source": [
    "## DEFINE `_fixed_infer_golgi` function\n"
   ]
  },
  {
   "cell_type": "code",
   "execution_count": 14,
   "metadata": {},
   "outputs": [],
   "source": [
    "##########################\n",
    "#  fixed_infer_golgi\n",
    "##########################\n",
    "def _fixed_infer_golgi(in_img: np.ndarray ) -> np.ndarray:\n",
    "    \"\"\"\n",
    "    Procedure to infer golgi from linearly unmixed input.\n",
    "\n",
    "    Parameters\n",
    "    ------------\n",
    "    in_img: \n",
    "        a 3d image containing all the channels\n",
    "    Returns\n",
    "    -------------\n",
    "   golgi_object\n",
    "        mask defined extent of golgi object\n",
    "    \"\"\"\n",
    "\n",
    "    golgi_ch = 3\n",
    "    median_sz = 4\n",
    "    gauss_sig = 1.34\n",
    "    mo_method = 'tri'\n",
    "    mo_adjust = 1\n",
    "    mo_cutoff_size = 1200 \n",
    "    min_thickness = 1.6\n",
    "    thin_dist = 1\n",
    "    dot_scale_1 = 1.6\n",
    "    dot_cut_1 = 0.02\n",
    "    dot_scale_2 = 0\n",
    "    dot_cut_2 = 0\n",
    "    dot_scale_3 = 0\n",
    "    dot_cut_3 = 0\n",
    "    dot_method = '3D'\n",
    "    min_hole_w = 0\n",
    "    max_hole_w = 0\n",
    "    small_obj_w = 3\n",
    "    fill_filter_method = \"3D\"\n",
    "\n",
    "    return _infer_golgi(\n",
    "        in_img,\n",
    "        golgi_ch,\n",
    "        median_sz,\n",
    "        gauss_sig,\n",
    "        mo_method,\n",
    "        mo_adjust,\n",
    "        mo_cutoff_size,\n",
    "        min_thickness,\n",
    "        thin_dist,\n",
    "        dot_scale_1,\n",
    "        dot_cut_1,\n",
    "        dot_scale_2,\n",
    "        dot_cut_2,\n",
    "        dot_scale_3,\n",
    "        dot_cut_3,\n",
    "        dot_method,\n",
    "        min_hole_w,\n",
    "        max_hole_w,\n",
    "        small_obj_w,\n",
    "        fill_filter_method)"
   ]
  },
  {
   "attachments": {},
   "cell_type": "markdown",
   "metadata": {},
   "source": [
    "# TEST  `infer_golgi` function defined above"
   ]
  },
  {
   "cell_type": "code",
   "execution_count": 15,
   "metadata": {},
   "outputs": [
    {
     "data": {
      "text/plain": [
       "dtype('uint16')"
      ]
     },
     "execution_count": 15,
     "metadata": {},
     "output_type": "execute_result"
    }
   ],
   "source": [
    "_golgi_object =  _fixed_infer_golgi(img_data) \n",
    "\n",
    "_golgi_object.dtype"
   ]
  },
  {
   "cell_type": "code",
   "execution_count": 16,
   "metadata": {},
   "outputs": [
    {
     "data": {
      "text/plain": [
       "True"
      ]
     },
     "execution_count": 16,
     "metadata": {},
     "output_type": "execute_result"
    }
   ],
   "source": [
    "np.all(golgi_labels == _golgi_object)"
   ]
  },
  {
   "attachments": {},
   "cell_type": "markdown",
   "metadata": {},
   "source": [
    "------------------\n",
    "\n",
    "# TEST `infer_golgi` exported functions\n",
    "\n",
    "The prototype _infer_golgi was copied to the [.organelles.golgi](../infer_subc/organelles/golgi.py) sub-module."
   ]
  },
  {
   "cell_type": "code",
   "execution_count": 17,
   "metadata": {},
   "outputs": [],
   "source": [
    "from infer_subc.organelles import infer_golgi, fixed_infer_golgi\n",
    "\n",
    "golgi_object =  fixed_infer_golgi(img_data) "
   ]
  },
  {
   "cell_type": "code",
   "execution_count": 18,
   "metadata": {},
   "outputs": [
    {
     "data": {
      "text/plain": [
       "True"
      ]
     },
     "execution_count": 18,
     "metadata": {},
     "output_type": "execute_result"
    }
   ],
   "source": [
    "np.all(_golgi_object == golgi_object)"
   ]
  },
  {
   "attachments": {},
   "cell_type": "markdown",
   "metadata": {},
   "source": [
    "## Visualize  2\n"
   ]
  },
  {
   "cell_type": "code",
   "execution_count": 19,
   "metadata": {},
   "outputs": [
    {
     "data": {
      "text/plain": [
       "<Labels layer 'golgi_object' at 0x2cf7d09b4f0>"
      ]
     },
     "execution_count": 19,
     "metadata": {},
     "output_type": "execute_result"
    }
   ],
   "source": [
    "viewer.add_image(\n",
    "    _golgi_object,\n",
    "    opacity=0.3)\n",
    "\n",
    "viewer.add_labels(\n",
    "    golgi_object,\n",
    "    opacity=0.3)"
   ]
  },
  {
   "cell_type": "code",
   "execution_count": 20,
   "metadata": {},
   "outputs": [
    {
     "data": {
      "image/png": "[encoded data removed]",
      "text/html": [
       "<img src=\"data:image/png;base64,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\"></img>"
      ],
      "text/plain": [
       "<napari.utils.notebook_display.NotebookScreenshot at 0x2cf7e8e8d30>"
      ]
     },
     "execution_count": 20,
     "metadata": {},
     "output_type": "execute_result"
    }
   ],
   "source": [
    "from napari.utils.notebook_display import nbscreenshot\n",
    "\n",
    "nbscreenshot(viewer, canvas_only=True)"
   ]
  },
  {
   "cell_type": "code",
   "execution_count": 21,
   "metadata": {},
   "outputs": [],
   "source": [
    "viewer.close()"
   ]
  },
  {
   "attachments": {},
   "cell_type": "markdown",
   "metadata": {},
   "source": [
    "-------------\n",
    "## SUMMARY\n",
    "\n",
    "The above details how the golgi body object is inferred.  \n",
    "\n",
    "### NEXT: INFER PEROXISOME\n",
    "\n",
    "proceed to [07_infer_perox.ipynb](./07_infer_perox.ipynb)\n"
   ]
  }
 ],
 "metadata": {
  "kernelspec": {
   "display_name": "Python 3.9.13 ('napariNEW')",
   "language": "python",
   "name": "python3"
  },
  "language_info": {
   "codemirror_mode": {
    "name": "ipython",
    "version": 3
   },
   "file_extension": ".py",
   "mimetype": "text/x-python",
   "name": "python",
   "nbconvert_exporter": "python",
   "pygments_lexer": "ipython3",
   "version": "3.10.11"
  },
  "orig_nbformat": 4,
  "vscode": {
   "interpreter": {
    "hash": "d6148ef1fb015fb20f0b6da2ea61c87c6b848bdf3dabb03087e5d5cd0c4607e9"
   }
  }
 },
 "nbformat": 4,
 "nbformat_minor": 2
}
