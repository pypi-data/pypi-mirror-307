{
 "cells": [
  {
   "attachments": {},
   "cell_type": "markdown",
   "metadata": {},
   "source": [
    "# Infer ***cellmask*** from the cytoplasm mask - 3️⃣\n",
    "### Alternative workflow: ***\"a\"*** (an alternative workflow for images with NO **nuclei** or **cell membrane** makers)\n",
    "--------------\n",
    "\n",
    "## OVERVIEW\n",
    "We will start by segmenting the different cell regions - the nucleus, cell, and cytoplasm - since they will be necessary for determining which organelle are in which cell. This is integral to our single cell analysis approach.\n",
    "\n",
    "This notebook goes through the workflow steps to segment the ***cellmask*** from the cytoplasm mask generated in [01a_infer_cytoplasm_from-composite.ipynb](./01a_infer_cytoplasm_from-composite.ipynb).\n",
    "\n",
    "\n",
    "## OBJECTIVE: \n",
    "### ✅ Infer sub-cellular component #3: ***cellmask***\n",
    "Segment the ***cellmask*** from a composite image of multiple organelle markers combined. The ***nucleus*** mask was also derived from the cytoplasm mask in [02a_infer_nucleus_from-cytoplasm.ipynb](./02a_infer_nucleus_from-cytoplasm.ipynb). "
   ]
  },
  {
   "attachments": {},
   "cell_type": "markdown",
   "metadata": {},
   "source": [
    "\n",
    "\n",
    "### IMPORTS"
   ]
  },
  {
   "cell_type": "code",
   "execution_count": 1,
   "metadata": {},
   "outputs": [],
   "source": [
    "# top level imports\n",
    "from pathlib import Path\n",
    "import os, sys\n",
    "from collections import defaultdict\n",
    "from typing import Union, Tuple, List\n",
    "\n",
    "import numpy as np\n",
    "\n",
    "from scipy import ndimage as ndi\n",
    "from aicssegmentation.core.pre_processing_utils import ( intensity_normalization, \n",
    "                                                         image_smoothing_gaussian_slice_by_slice )\n",
    "from aicssegmentation.core.MO_threshold import MO\n",
    "from aicssegmentation.core.utils import hole_filling\n",
    "\n",
    "from skimage import filters\n",
    "from skimage.segmentation import watershed, clear_border\n",
    "from skimage.morphology import remove_small_holes, binary_dilation, binary_erosion \n",
    "from skimage.measure import label\n",
    "\n",
    "# # package for io \n",
    "from aicsimageio import AICSImage\n",
    "\n",
    "import napari\n",
    "\n",
    "### import local python functions in ../infer_subc\n",
    "sys.path.append(os.path.abspath((os.path.join(os.getcwd(), '..'))))\n",
    "\n",
    "\n",
    "from infer_subc.core.file_io import (read_czi_image,\n",
    "                                     read_ome_image,\n",
    "                                     import_inferred_organelle,\n",
    "                                     export_inferred_organelle,\n",
    "                                     list_image_files)\n",
    "\n",
    "                                             \n",
    "from infer_subc.core.img import *\n",
    "from infer_subc.organelles import (get_nuclei, \n",
    "                                   get_cytoplasm,\n",
    "                                   non_linear_cellmask_transform,\n",
    "                                   choose_max_label_cellmask_union_nucleus)\n",
    "\n",
    "\n",
    "%load_ext autoreload\n",
    "%autoreload 2"
   ]
  },
  {
   "attachments": {},
   "cell_type": "markdown",
   "metadata": {},
   "source": [
    "## Get and load Image for processing"
   ]
  },
  {
   "cell_type": "code",
   "execution_count": 2,
   "metadata": {},
   "outputs": [],
   "source": [
    "test_img_n = 0\n",
    "\n",
    "data_root_path = Path(os.path.expanduser(\"~\")) / \"Documents/Python Scripts/Infer-subc-2D\"\n",
    "\n",
    "in_data_path = data_root_path / \"neuron_raw_OME\"\n",
    "im_type = \".tiff\"\n",
    "\n",
    "img_file_list = list_image_files(in_data_path,im_type)\n",
    "test_img_name = img_file_list[test_img_n]\n",
    "\n",
    "out_data_path = data_root_path / \"neuron_raw_OME_out-06012023\"\n",
    "if not Path.exists(out_data_path):\n",
    "    Path.mkdir(out_data_path)\n",
    "    print(f\"making {out_data_path}\")"
   ]
  },
  {
   "cell_type": "code",
   "execution_count": 3,
   "metadata": {},
   "outputs": [
    {
     "name": "stderr",
     "output_type": "stream",
     "text": [
      "c:\\Users\\Shannon\\anaconda3\\envs\\infer-subc\\lib\\site-packages\\ome_types\\_convenience.py:112: FutureWarning: The default XML parser will be changing from 'xmlschema' to 'lxml' in version 0.4.0.  To silence this warning, please provide the `parser` argument, specifying either 'lxml' (to opt into the new behavior), or'xmlschema' (to retain the old behavior).\n",
      "  d = to_dict(os.fspath(xml), parser=parser, validate=validate)\n"
     ]
    }
   ],
   "source": [
    "img_data,meta_dict = read_czi_image(test_img_name)\n",
    "\n",
    "channel_names = meta_dict['name']\n",
    "img = meta_dict['metadata']['aicsimage']\n",
    "scale = meta_dict['scale']\n",
    "channel_axis = meta_dict['channel_axis']"
   ]
  },
  {
   "attachments": {},
   "cell_type": "markdown",
   "metadata": {},
   "source": [
    "---------\n",
    "## infer ***cellmask*** from cytoplasm mask\n",
    "\n",
    "### summary of steps\n",
    "\n",
    "➡️ INPUT\n",
    "- segmented cytoplasm object (from [01a_infer_cytoplasm_from-composite.ipynb](./01a_infer_cytoplasm_from-composite.ipynb))\n",
    "- segmented nucleus object (from [02a_infer_nucleus_from-cytoplasm.ipynb](./02a_infer_nucleus_from-cytoplasm.ipynb))\n",
    "\n",
    "PRE-PROCESSING\n",
    "\n",
    "CORE-PROCESSING\n",
    "- logical **OR** of the nucleus and cytoplasm\n",
    "\n",
    "POST-PROCESSING\n",
    "- fill small holes (hole size = user input)\n",
    "\n",
    "OUTPUT ➡️ \n",
    "- save labeled ***cellmask*** (cell, CM) as unsigned integer 16-bit tif files"
   ]
  },
  {
   "attachments": {},
   "cell_type": "markdown",
   "metadata": {},
   "source": [
    "## EXTRACT prototype"
   ]
  },
  {
   "cell_type": "code",
   "execution_count": 4,
   "metadata": {},
   "outputs": [
    {
     "name": "stdout",
     "output_type": "stream",
     "text": [
      "loaded  inferred 3D `cyto`  from C:\\Users\\Shannon\\Documents\\Python Scripts\\Infer-subc-2D\\neuron_raw_OME_out-06012023 \n",
      "loaded  inferred 3D `nuc`  from C:\\Users\\Shannon\\Documents\\Python Scripts\\Infer-subc-2D\\neuron_raw_OME_out-06012023 \n"
     ]
    }
   ],
   "source": [
    "###################\n",
    "# INPUT\n",
    "###################\n",
    "cytoplasm_mask = import_inferred_organelle(\"cyto\",meta_dict, out_data_path)\n",
    "nucleus_mask = import_inferred_organelle(\"nuc\",meta_dict, out_data_path)"
   ]
  },
  {
   "attachments": {},
   "cell_type": "markdown",
   "metadata": {},
   "source": [
    "## PRE-PROCESSING prototype\n",
    "\n",
    "No preprocessing steps are required."
   ]
  },
  {
   "attachments": {},
   "cell_type": "markdown",
   "metadata": {},
   "source": [
    "## CORE PROCESSING prototype"
   ]
  },
  {
   "cell_type": "code",
   "execution_count": 5,
   "metadata": {},
   "outputs": [],
   "source": [
    "###################\n",
    "# CORE_PROCESSING\n",
    "###################\n",
    "cell = np.logical_or(nucleus_mask, cytoplasm_mask)"
   ]
  },
  {
   "attachments": {},
   "cell_type": "markdown",
   "metadata": {},
   "source": [
    "## POST PROCESSING prototype"
   ]
  },
  {
   "cell_type": "code",
   "execution_count": 6,
   "metadata": {},
   "outputs": [],
   "source": [
    "###################\n",
    "# POST_PROCESSING\n",
    "###################\n",
    "min_hole_width = 0\n",
    "max_hole_width = 30\n",
    "small_obj_width = 0\n",
    "fill_method = \"3D\"\n",
    "\n",
    "cleaned_img = fill_and_filter_linear_size(cell, \n",
    "                                          hole_min=min_hole_width, \n",
    "                                          hole_max=max_hole_width, \n",
    "                                          min_size=small_obj_width, \n",
    "                                          method=fill_method)"
   ]
  },
  {
   "attachments": {},
   "cell_type": "markdown",
   "metadata": {},
   "source": [
    "## LABELING prototype"
   ]
  },
  {
   "cell_type": "code",
   "execution_count": 7,
   "metadata": {},
   "outputs": [],
   "source": [
    "###################\n",
    "# LABELING\n",
    "###################\n",
    "# create instance segmentation based on connectivity\n",
    "cell_mask = label_bool_as_uint16(cleaned_img)"
   ]
  },
  {
   "cell_type": "code",
   "execution_count": 8,
   "metadata": {},
   "outputs": [
    {
     "data": {
      "text/plain": [
       "dtype('uint16')"
      ]
     },
     "execution_count": 8,
     "metadata": {},
     "output_type": "execute_result"
    }
   ],
   "source": [
    "cell_mask.dtype"
   ]
  },
  {
   "attachments": {},
   "cell_type": "markdown",
   "metadata": {},
   "source": [
    "## Visualize with `napari` 1\n",
    "Visualize the first-pass segmentation and labeling with `napari`."
   ]
  },
  {
   "cell_type": "code",
   "execution_count": 9,
   "metadata": {},
   "outputs": [],
   "source": [
    "viewer = napari.Viewer()"
   ]
  },
  {
   "cell_type": "code",
   "execution_count": 10,
   "metadata": {},
   "outputs": [
    {
     "data": {
      "text/plain": [
       "<Image layer 'cell_mask' at 0x1fd48393580>"
      ]
     },
     "execution_count": 10,
     "metadata": {},
     "output_type": "execute_result"
    }
   ],
   "source": [
    "viewer.add_image(\n",
    "    cytoplasm_mask,\n",
    "    opacity=0.3)\n",
    "\n",
    "viewer.add_image(\n",
    "    nucleus_mask,\n",
    "    opacity=0.3,\n",
    "    colormap='blue')\n",
    "\n",
    "viewer.add_image(\n",
    "    cell_mask,\n",
    "    opacity=0.3,\n",
    "    colormap='bop orange')"
   ]
  },
  {
   "attachments": {},
   "cell_type": "markdown",
   "metadata": {},
   "source": [
    "## SAVE inferred cellmask to .tif file\n"
   ]
  },
  {
   "cell_type": "code",
   "execution_count": 11,
   "metadata": {},
   "outputs": [
    {
     "name": "stdout",
     "output_type": "stream",
     "text": [
      "saved file: 20221027_C2-107_well_1_cell_1_untreated_Linear_unmixing_decon.ome-cell\n"
     ]
    }
   ],
   "source": [
    "out_file_n = export_inferred_organelle(cell_mask, \"cell\", meta_dict, out_data_path)"
   ]
  },
  {
   "attachments": {},
   "cell_type": "markdown",
   "metadata": {},
   "source": [
    "----------\n",
    "## DEFINE `infer_cellmask_fromcytoplasm` function\n",
    "\n",
    "Based on the _prototyping_ above define the function to infer nuclei. \n",
    "\n",
    "> NOTE: these functions mainly serve for downstream prototyping in the notebooks. Each step above has an independent function that is implemented in the plugin for easy of use."
   ]
  },
  {
   "cell_type": "code",
   "execution_count": 12,
   "metadata": {},
   "outputs": [],
   "source": [
    "##########################\n",
    "#  _infer_nuclei\n",
    "##########################\n",
    "def _infer_cellmask_fromcytoplasm(cytoplasm_mask: np.ndarray,\n",
    "                                  nucleus_mask: np.ndarray,\n",
    "                                  min_hole_width: int,\n",
    "                                  max_hole_width: int,\n",
    "                                  small_obj_width: int,\n",
    "                                  fill_method: str\n",
    "                                  ) -> np.ndarray:\n",
    "    \"\"\"\n",
    "    Procedure to infer 3D nuclei segmentation from multichannel z-stack input.\n",
    "\n",
    "    Parameters\n",
    "    ------------\n",
    "    cytoplasm_mask: np.ndarray\n",
    "        3D image containing the mask of the cytoplasm\n",
    "    nucleus_mask: np.ndarray\n",
    "        3D image containing the mask of the nucleus\n",
    "    min_hole_width: int\n",
    "        minimum size of holes to fill in final cell mask\n",
    "    max_hole_width: int,\n",
    "        maximum size of holes to fill in final cell mask\n",
    "    small_obj_w: int\n",
    "        minimum object size cutoff to remove from final cell mask; likely not required since small objects were removed from cytoplasm mask\n",
    "    fill_method: str\n",
    "        method for fill and filter; either \"3D\" or \"slice_by_slice\"\n",
    "\n",
    "    Returns\n",
    "    -------------\n",
    "    cell_mask\n",
    "        mask defined extent of the entire cell\n",
    "    \n",
    "    \"\"\"\n",
    "\n",
    "    ###################\n",
    "    # CORE_PROCESSING\n",
    "    ###################\n",
    "    cell = np.logical_or(nucleus_mask, cytoplasm_mask)\n",
    "\n",
    "    ###################\n",
    "    # POST_PROCESSING\n",
    "    ###################\n",
    "    cleaned_img = fill_and_filter_linear_size(cell, \n",
    "                                              hole_min=min_hole_width, \n",
    "                                              hole_max=max_hole_width, \n",
    "                                              min_size=small_obj_width, \n",
    "                                              method=fill_method)\n",
    "\n",
    "    ###################\n",
    "    # LABELING\n",
    "    ###################\n",
    "    cell_mask = label_bool_as_uint16(cleaned_img)\n",
    "\n",
    "    return cell_mask\n"
   ]
  },
  {
   "attachments": {},
   "cell_type": "markdown",
   "metadata": {},
   "source": [
    "## DEFINE `_fixed_infer_cellmask_fromcytoplasm` function\n",
    "\n",
    "Based on the _prototyping_ above define the function to infer cellmask. with a *fixed* set of parameters for each step in the procedure.  That is they are all \"hard coded\""
   ]
  },
  {
   "cell_type": "code",
   "execution_count": 13,
   "metadata": {},
   "outputs": [],
   "source": [
    "##########################\n",
    "#  fixed_infer_nuclei_fromcytoplasm\n",
    "##########################\n",
    "def _fixed_infer_cellmask_fromcytoplasm(cytoplasm_mask: np.ndarray,\n",
    "                                        nucleus_mask:np.ndarray) -> np.ndarray:\n",
    "    \"\"\"\n",
    "    Procedure to infer cellmask from the cytoplasm mask\n",
    "\n",
    "    Parameters\n",
    "    ------------\n",
    "    in_img: np.ndarray\n",
    "        a 3d image containing cytoplasm segmentation\n",
    " \n",
    "    Returns\n",
    "    -------------\n",
    "    nuclei_object\n",
    "        inferred nuclei\n",
    "    \n",
    "    \"\"\"\n",
    "    min_hole_w = 0\n",
    "    max_hole_w = 30\n",
    "    small_obj_w = 0\n",
    "    fill_filter_method = \"3D\"\n",
    "\n",
    "    return _infer_cellmask_fromcytoplasm(cytoplasm_mask,\n",
    "                                         nucleus_mask,\n",
    "                                         min_hole_w,\n",
    "                                         max_hole_w,\n",
    "                                         small_obj_w,\n",
    "                                         fill_filter_method)\n"
   ]
  },
  {
   "attachments": {},
   "cell_type": "markdown",
   "metadata": {},
   "source": [
    "## TEST `_infer_cellmask_fromcytoplasm`  function defined above"
   ]
  },
  {
   "cell_type": "code",
   "execution_count": 14,
   "metadata": {},
   "outputs": [
    {
     "data": {
      "text/plain": [
       "dtype('uint16')"
      ]
     },
     "execution_count": 14,
     "metadata": {},
     "output_type": "execute_result"
    }
   ],
   "source": [
    "_CM_object =  _fixed_infer_cellmask_fromcytoplasm(cytoplasm_mask, nucleus_mask) \n",
    "\n",
    "_CM_object.dtype"
   ]
  },
  {
   "cell_type": "code",
   "execution_count": 15,
   "metadata": {},
   "outputs": [
    {
     "data": {
      "text/plain": [
       "True"
      ]
     },
     "execution_count": 15,
     "metadata": {},
     "output_type": "execute_result"
    }
   ],
   "source": [
    "np.all(cell_mask == _CM_object)"
   ]
  },
  {
   "attachments": {},
   "cell_type": "markdown",
   "metadata": {},
   "source": [
    "---------------------\n",
    "# TEST `infer_cellmask_fromcytoplasm` exported functions\n",
    "\n",
    "The prototype `_infer_cellmask_fromcytoplasm` was copied to the [`.organelles.cellmask`](../infer_subc/organelles/cellmask.py) sub-module."
   ]
  },
  {
   "cell_type": "code",
   "execution_count": 16,
   "metadata": {},
   "outputs": [
    {
     "data": {
      "text/plain": [
       "dtype('uint16')"
      ]
     },
     "execution_count": 16,
     "metadata": {},
     "output_type": "execute_result"
    }
   ],
   "source": [
    "from infer_subc.organelles.cellmask import fixed_infer_cellmask_fromcytoplasm\n",
    "cell_object =  fixed_infer_cellmask_fromcytoplasm(cytoplasm_mask, nucleus_mask) \n",
    "\n",
    "cell_object.dtype"
   ]
  },
  {
   "cell_type": "code",
   "execution_count": 17,
   "metadata": {},
   "outputs": [
    {
     "data": {
      "text/plain": [
       "True"
      ]
     },
     "execution_count": 17,
     "metadata": {},
     "output_type": "execute_result"
    }
   ],
   "source": [
    "np.all(_CM_object == cell_object)"
   ]
  },
  {
   "attachments": {},
   "cell_type": "markdown",
   "metadata": {},
   "source": [
    "## Visualize  2\n"
   ]
  },
  {
   "cell_type": "code",
   "execution_count": 18,
   "metadata": {},
   "outputs": [
    {
     "data": {
      "text/plain": [
       "<Image layer 'cell_object' at 0x1fd6f87f850>"
      ]
     },
     "execution_count": 18,
     "metadata": {},
     "output_type": "execute_result"
    }
   ],
   "source": [
    "viewer.add_image(\n",
    "    _CM_object,\n",
    "    opacity=0.3)\n",
    "\n",
    "viewer.add_image(\n",
    "    cell_object,\n",
    "    opacity=0.3)"
   ]
  },
  {
   "cell_type": "code",
   "execution_count": 19,
   "metadata": {},
   "outputs": [
    {
     "data": {
      "image/png": "[encoded data removed]",
      "text/html": [
       "<img src=\"data:image/png;base64,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\"></img>"
      ],
      "text/plain": [
       "<napari.utils.notebook_display.NotebookScreenshot at 0x1fd6f9514b0>"
      ]
     },
     "execution_count": 19,
     "metadata": {},
     "output_type": "execute_result"
    }
   ],
   "source": [
    "from napari.utils.notebook_display import nbscreenshot\n",
    "\n",
    "nbscreenshot(viewer, canvas_only=True)"
   ]
  },
  {
   "cell_type": "code",
   "execution_count": 20,
   "metadata": {},
   "outputs": [],
   "source": [
    "viewer.close()"
   ]
  },
  {
   "attachments": {},
   "cell_type": "markdown",
   "metadata": {},
   "source": [
    "-------------\n",
    "## SUMMARY\n",
    "\n",
    "The above explains the general procedure for segmenting the cell mask from the cytoplasm mask.\n",
    "\n",
    "### NEXT: INFER LYSOSOMES\n",
    "\n",
    "proceed to [05_infer_lysosomes.ipynb](./05_infer_lysosome.ipynb)\n"
   ]
  }
 ],
 "metadata": {
  "kernelspec": {
   "display_name": "infer-subc",
   "language": "python",
   "name": "python3"
  },
  "language_info": {
   "codemirror_mode": {
    "name": "ipython",
    "version": 3
   },
   "file_extension": ".py",
   "mimetype": "text/x-python",
   "name": "python",
   "nbconvert_exporter": "python",
   "pygments_lexer": "ipython3",
   "version": "3.10.11"
  },
  "vscode": {
   "interpreter": {
    "hash": "182b63330db9794b59aa776c624821fb477d854325ad145fa5385f0d56c0c6f3"
   }
  }
 },
 "nbformat": 4,
 "nbformat_minor": 2
}
