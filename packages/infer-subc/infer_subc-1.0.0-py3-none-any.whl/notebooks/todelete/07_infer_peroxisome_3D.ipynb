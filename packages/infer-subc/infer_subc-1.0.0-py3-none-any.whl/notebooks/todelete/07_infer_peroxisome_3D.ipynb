{
 "cells": [
  {
   "attachments": {},
   "cell_type": "markdown",
   "metadata": {},
   "source": [
    "# Infer ***peroxisome*** - part 7️⃣\n",
    "\n",
    "--------------\n",
    "OBJECTIVE:  ✅ Infer sub-cellular component ***peroxisome*** in order to understand interactome \n",
    "\n",
    "\n",
    "\n",
    "Dependencies:\n",
    "The ***peroxisome***  inference rely on the **cytoplasm** mask. \n"
   ]
  },
  {
   "attachments": {},
   "cell_type": "markdown",
   "metadata": {},
   "source": [
    "## preamble\n",
    "\n",
    "1. imports\n",
    "2. setup\n",
    "3. infer nuclei mask\n",
    "4. infer cellmask mask\n",
    "5. infer cytoplasm mask\n",
    "6. infer peroxisomes\n",
    "    * pre-processing\n",
    "    * core processing\n",
    "    * post processing"
   ]
  },
  {
   "cell_type": "markdown",
   "metadata": {},
   "source": [
    "\n",
    "## IMPORTS"
   ]
  },
  {
   "cell_type": "code",
   "execution_count": 2,
   "metadata": {},
   "outputs": [],
   "source": [
    "# top level imports\n",
    "from pathlib import Path\n",
    "import os, sys\n",
    "from collections import defaultdict\n",
    "from typing import Optional\n",
    "\n",
    "import numpy as np\n",
    "\n",
    "from scipy import ndimage as ndi\n",
    "from aicssegmentation.core.seg_dot import dot_2d_slice_by_slice_wrapper, dot_3d_wrapper\n",
    "\n",
    "from aicssegmentation.core.pre_processing_utils import ( intensity_normalization, \n",
    "                                                         image_smoothing_gaussian_slice_by_slice )\n",
    "from aicssegmentation.core.utils import size_filter, hole_filling\n",
    "from aicssegmentation.core.MO_threshold import MO\n",
    "\n",
    "from skimage.segmentation import watershed\n",
    "from skimage.feature import peak_local_max\n",
    "from skimage.morphology import remove_small_objects,  ball , dilation  # function for post-processing (size filter)\n",
    "from skimage.measure import label\n",
    "\n",
    "# # package for io \n",
    "from aicsimageio import AICSImage\n",
    "\n",
    "import napari\n",
    "\n",
    "### import local python functions in ../infer_subc\n",
    "sys.path.append(os.path.abspath((os.path.join(os.getcwd(), '..'))))\n",
    "\n",
    "from infer_subc.core.file_io import (read_czi_image, \n",
    "                                                                    list_image_files)\n",
    "from infer_subc.core.img import *\n",
    "from infer_subc.constants import (TEST_IMG_N,\n",
    "                                                                    NUC_CH ,\n",
    "                                                                    LYSO_CH ,\n",
    "                                                                    MITO_CH ,\n",
    "                                                                    GOLGI_CH,\n",
    "                                                                    PEROX_CH ,\n",
    "                                                                    ER_CH ,\n",
    "                                                                    LD_CH ,\n",
    "                                                                    RESIDUAL_CH )        \n",
    "                                                                    \n",
    "from infer_subc.organelles import fixed_infer_cellmask_fromaggr, fixed_infer_nuclei, infer_cytoplasm, find_optimal_Z\n",
    "\n",
    "\n",
    "%load_ext autoreload\n",
    "%autoreload 2\n",
    "\n",
    "# additional imports for nuc/cellmask/cytoplasm\n",
    "from collections import defaultdict\n",
    "from scipy import ndimage as ndi\n",
    "from aicssegmentation.core.MO_threshold import MO\n",
    "from skimage import filters\n",
    "from skimage.segmentation import watershed\n",
    "from skimage.morphology import (binary_erosion,\n",
    "                                remove_small_holes)\n",
    "from skimage.measure import label"
   ]
  },
  {
   "attachments": {},
   "cell_type": "markdown",
   "metadata": {},
   "source": [
    "## SETUP\n",
    "CUSTOMIZE WITH: \n",
    "1. updated path to data\n",
    "2. updated folder name for \"raw\" data\n",
    "\n",
    "> NOTE: we are operating on a single \"test\" image in this notebook.  The batch-processing of all the images will be happen at the end of the notebook after we have developed/confirmed the setmentation procedures and parameter settings."
   ]
  },
  {
   "cell_type": "code",
   "execution_count": 3,
   "metadata": {},
   "outputs": [
    {
     "name": "stderr",
     "output_type": "stream",
     "text": [
      "c:\\Users\\Shannon\\Anaconda3\\envs\\infer-subc\\lib\\site-packages\\ome_types\\_convenience.py:105: FutureWarning: The default XML parser will be changing from 'xmlschema' to 'lxml' in version 0.4.0.  To silence this warning, please provide the `parser` argument, specifying either 'lxml' (to opt into the new behavior), or'xmlschema' (to retain the old behavior).\n",
      "  d = to_dict(os.fspath(xml), parser=parser, validate=validate)\n"
     ]
    }
   ],
   "source": [
    "# this will be the example image for testing the pipeline below\n",
    "test_img_n = TEST_IMG_N\n",
    "\n",
    "# build the datapath\n",
    "# all the imaging data goes here.\n",
    "data_root_path = Path(os.path.expanduser(\"~\")) / \"Documents/Python Scripts/infer-subc\"\n",
    "\n",
    "# linearly unmixed \".czi\" files are here\n",
    "data_path = data_root_path / \"raw\"\n",
    "im_type = \".czi\"\n",
    "\n",
    "# get the list of all files\n",
    "img_file_list = list_image_files(data_path,im_type)\n",
    "test_img_name = img_file_list[test_img_n]\n",
    "\n",
    "img_data,meta_dict = read_czi_image(test_img_name)\n",
    "\n",
    "# get some top-level info about the RAW data\n",
    "channel_names = meta_dict['name']\n",
    "img = meta_dict['metadata']['aicsimage']\n",
    "scale = meta_dict['scale']\n",
    "channel_axis = meta_dict['channel_axis']"
   ]
  },
  {
   "cell_type": "markdown",
   "metadata": {},
   "source": [
    "## INFER NUCLEI MASK\n",
    "\n",
    "Using function defined in 01_infer_nuclei_3D.ipynb\n"
   ]
  },
  {
   "cell_type": "code",
   "execution_count": 4,
   "metadata": {},
   "outputs": [],
   "source": [
    "def _infer_nuclei_3D( in_img: np.ndarray,\n",
    "                       median_sz: int, \n",
    "                       gauss_sig: float,\n",
    "                       thresh_factor: float,\n",
    "                       thresh_min: float,\n",
    "                       thresh_max: float,\n",
    "                       max_hole_w: int,\n",
    "                       small_obj_w: int,\n",
    "                       sz_filter_method: str\n",
    "                     ) -> np.ndarray:\n",
    "    \"\"\"\n",
    "    Procedure to infer 3D nuclei segmentation from multichannel z-stack input.\n",
    "\n",
    "    Parameters\n",
    "    ------------\n",
    "    in_img: np.ndarray\n",
    "        a 3d image containing all the channels\n",
    "    soma_mask: Optional[np.ndarray] = None\n",
    "        mask\n",
    "    median_sz: int\n",
    "        width of median filter for signal\n",
    "    gauss_sig: float\n",
    "        sigma for gaussian smoothing of  signal\n",
    "    thresh_factor: float\n",
    "        adjustment factor for log Li threholding\n",
    "    thresh_min: float\n",
    "        abs min threhold for log Li threholding\n",
    "    thresh_max: float\n",
    "        abs max threhold for log Li threholding\n",
    "    max_hole_w: int\n",
    "        hole filling cutoff for nuclei post-processing\n",
    "    small_obj_w: int\n",
    "        minimum object size cutoff for nuclei post-processing\n",
    "    sz_filter_method: str\n",
    "        method for size filtering; either \"3D\" or \"slice_by_slice\"\n",
    "\n",
    "    Returns\n",
    "    -------------\n",
    "    nuclei_object\n",
    "        mask defined extent of NU\n",
    "    \n",
    "    \"\"\"\n",
    "    ###################\n",
    "    # INPUT\n",
    "    ################### \n",
    "    nuc_ch = NUC_CH\n",
    "    nuclei = select_channel_from_raw(in_img, nuc_ch)\n",
    "\n",
    "\n",
    "    ###################\n",
    "    # PRE_PROCESSING\n",
    "    ###################                \n",
    "    nuclei = min_max_intensity_normalization(nuclei)\n",
    "    nuclei = median_filter_slice_by_slice(nuclei,\n",
    "                                          size=median_sz)\n",
    "    nuclei = image_smoothing_gaussian_slice_by_slice(nuclei,\n",
    "                                                     sigma=gauss_sig )\n",
    "\n",
    "\n",
    "    ###################\n",
    "    # CORE_PROCESSING\n",
    "    ###################\n",
    "    nuclei_object = apply_log_li_threshold(nuclei, \n",
    "                                           thresh_factor=thresh_factor, \n",
    "                                           thresh_min=thresh_min, \n",
    "                                           thresh_max=thresh_max)\n",
    "\n",
    "\n",
    "    ###################\n",
    "    # POST_PROCESSING\n",
    "    ###################\n",
    "    nuclei_object = hole_filling(nuclei_object, \n",
    "                                 hole_min=0, \n",
    "                                 hole_max=max_hole_w**2, \n",
    "                                 fill_2d=True)\n",
    "\n",
    "    nuclei_object = size_filter(nuclei_object, \n",
    "                                min_size = small_obj_w**3, \n",
    "                                method = sz_filter_method,\n",
    "                                connectivity=1)\n",
    "\n",
    "\n",
    "    return nuclei_object\n",
    "\n",
    "\n",
    "def _fixed_infer_nuclei_3D(in_img: np.ndarray) -> np.ndarray:\n",
    "    \"\"\"\n",
    "    Procedure to infer cellmask from linearly unmixed input, with a *fixed* set of parameters for each step in the procedure.  i.e. \"hard coded\"\n",
    "\n",
    "    Parameters\n",
    "    ------------\n",
    "    in_img: np.ndarray\n",
    "        a 3d image containing all the channels\n",
    "    soma_mask: np.ndarray\n",
    "        mask\n",
    " \n",
    "    Returns\n",
    "    -------------\n",
    "    nuclei_object\n",
    "        mask defined extent of NU\n",
    "    \n",
    "    \"\"\"\n",
    "\n",
    "    nuc_ch = NUC_CH\n",
    "    median_sz = 4   \n",
    "    gauss_sig = 1.34\n",
    "    threshold_factor = 0.9\n",
    "    thresh_min = 0.1\n",
    "    thresh_max = 1.0\n",
    "    max_hole_w = 5\n",
    "    small_obj_w = 15\n",
    "    sz_filter_method = \"3D\"\n",
    "\n",
    "    return _infer_nuclei_3D( in_img,\n",
    "                             median_sz,\n",
    "                             gauss_sig,\n",
    "                             threshold_factor,\n",
    "                             thresh_min,\n",
    "                             thresh_max,\n",
    "                             max_hole_w,\n",
    "                             small_obj_w,\n",
    "                             sz_filter_method )\n",
    "\n",
    "\n",
    "_NU_object =  _fixed_infer_nuclei_3D(img_data) \n",
    "NU_labels = label(_NU_object)"
   ]
  },
  {
   "cell_type": "markdown",
   "metadata": {},
   "source": [
    "## GET CELLMASK\n",
    "\n",
    "Using function defined in 02_infer_cellmask_fromaggr_3D.ipynb"
   ]
  },
  {
   "cell_type": "code",
   "execution_count": 5,
   "metadata": {},
   "outputs": [],
   "source": [
    "def _raw_soma_MCZ(img_in):\n",
    "    \"\"\" define cellmask image\n",
    "    \"\"\"\n",
    "    SOMA_W = (6.,1.,2.)\n",
    "    SOMA_CH = (LYSO_CH,ER_CH,GOLGI_CH)\n",
    "    img_out = np.zeros_like(img_in[0]).astype(np.double)\n",
    "    for w,ch in zip(SOMA_W,SOMA_CH):\n",
    "        img_out += w*img_in[ch]\n",
    "    return img_out\n",
    "\n",
    "\n",
    "def _non_linear_soma_transform_MCZ(in_img):\n",
    "    \"\"\" non-linear distortion to fill out cellmask\n",
    "    log + edge of smoothed composite\n",
    "    \"\"\"\n",
    "    # non-Linear processing\n",
    "    log_img, d = log_transform(in_img.copy()) \n",
    "    return intensity_normalization(log_img,scaling_param=[0])\n",
    "\n",
    "\n",
    "def _masked_object_thresh(\n",
    "    structure_img_smooth: np.ndarray, th_method: str, cutoff_size: int, th_adjust: float\n",
    ") -> np.ndarray:\n",
    "    \"\"\"\n",
    "    wrapper for applying Masked Object Thresholding with just two parameters via `MO` from `aicssegmentation`\n",
    "    Parameters\n",
    "    ------------\n",
    "    structure_img_smooth: np.ndarray\n",
    "        a 3d image\n",
    "    th_method: \n",
    "         which method to use for calculating global threshold. Options include:\n",
    "         \"triangle\" (or \"tri\"), \"median\" (or \"med\"), and \"ave_tri_med\" (or \"ave\").\n",
    "         \"ave\" refers the average of \"triangle\" threshold and \"mean\" threshold.\n",
    "    cutoff_size: \n",
    "        Masked Object threshold `size_min`\n",
    "    th_adjust: \n",
    "        Masked Object threshold `local_adjust`\n",
    "\n",
    "    Returns\n",
    "    -------------\n",
    "        np.ndimage \n",
    "\n",
    "    \"\"\"\n",
    "\n",
    "    struct_obj = MO(\n",
    "        structure_img_smooth,\n",
    "        global_thresh_method=th_method,\n",
    "        object_minArea=cutoff_size,\n",
    "        extra_criteria=True,\n",
    "        local_adjust=th_adjust,\n",
    "        return_object=False,\n",
    "        dilate=True,\n",
    "    )\n",
    "    return struct_obj\n",
    "\n",
    "\n",
    "def _masked_inverted_watershed(img_in, markers, mask):\n",
    "    \"\"\"wrapper for watershed on inverted image and masked\n",
    "\n",
    "    \"\"\"\n",
    "    labels_out = watershed(\n",
    "                1. - img_in,\n",
    "                markers=markers,\n",
    "                connectivity=3,\n",
    "                mask=mask,\n",
    "                )\n",
    "    return labels_out\n",
    "\n",
    "\n",
    "def _choose_max_label(raw_signal: np.ndarray, labels_in: np.ndarray):\n",
    "    \"\"\" keep only the label with the maximum raw signal\n",
    "\n",
    "    \"\"\"\n",
    "\n",
    "    all_labels = np.unique(labels_in)[1:]\n",
    "\n",
    "    total_signal = [raw_signal[labels_in == label].sum() for label in all_labels]\n",
    "    # combine NU and \"labels\" to make a SOMA\n",
    "    keep_label = all_labels[np.argmax(total_signal)]\n",
    "\n",
    "    labels_max = np.zeros_like(labels_in)\n",
    "    labels_max[labels_in==keep_label] = 1\n",
    "    return labels_max"
   ]
  },
  {
   "cell_type": "code",
   "execution_count": 6,
   "metadata": {},
   "outputs": [
    {
     "name": "stdout",
     "output_type": "stream",
     "text": [
      "intensity normalization: min-max normalization with NO absoluteintensity upper bound\n"
     ]
    }
   ],
   "source": [
    "def _infer_cellmask_fromaggr_3D(in_img: np.ndarray,\n",
    "    nuclei_labels: np.ndarray,\n",
    "    median_sz_soma: int,\n",
    "    gauss_sig_soma: float,\n",
    "    gauss_truc_rang: float,\n",
    "    mo_method: str,\n",
    "    mo_adjust: float,\n",
    "    mo_cutoff_size: int,\n",
    "    max_hole_w_soma: int,\n",
    "    small_obj_w_soma: int\n",
    ") -> np.ndarray:\n",
    "    \"\"\"\n",
    "    Procedure to infer cellmask from linearly unmixed input.\n",
    "\n",
    "    Parameters\n",
    "    ------------\n",
    "    in_img: \n",
    "        a 3d image containing all the channels\n",
    "    nuclei_labels:\n",
    "        a 3d mask of nuclei\n",
    "    median_sz_soma: \n",
    "        width of median filter for _soma_ signal\n",
    "    gauss_sig_soma: \n",
    "        sigma for gaussian smoothing of _soma_ signal\n",
    "    gauss_truc_rang:\n",
    "        cutoff value for gaussian\n",
    "    mo_method: \n",
    "         which method to use for calculating global threshold. Options include:\n",
    "         \"triangle\" (or \"tri\"), \"median\" (or \"med\"), and \"ave_tri_med\" (or \"ave\").\n",
    "         \"ave\" refers the average of \"triangle\" threshold and \"mean\" threshold.\n",
    "    mo_adjust: \n",
    "        Masked Object threshold `local_adjust`\n",
    "    mo_cutoff_size: \n",
    "        Masked Object threshold `size_min`\n",
    "    max_hole_w_soma: \n",
    "        hole filling cutoff for cellmask signal post-processing\n",
    "    small_obj_w_soma: \n",
    "        minimu object size cutoff for cellmask signal post-processing\n",
    "\n",
    "    Returns\n",
    "    -------------\n",
    "    soma_mask:\n",
    "        a logical/labels object defining boundaries of cellmask\n",
    "\n",
    "    \"\"\"\n",
    "\n",
    "    ###################\n",
    "    # EXTRACT\n",
    "    ###################\n",
    "    struct_img = _raw_soma_MCZ(in_img)\n",
    "\n",
    "\n",
    "    ###################\n",
    "    # PRE_PROCESSING\n",
    "    ###################                         \n",
    "    ################# part 1- cellmask\n",
    "    struct_img = min_max_intensity_normalization(struct_img)\n",
    "\n",
    "    # make a copy for post-post processing\n",
    "    scaled_signal = struct_img.copy()\n",
    "\n",
    "    # Linear-ish processing\n",
    "    struct_img = median_filter_slice_by_slice(struct_img, \n",
    "                                              size=median_sz_soma)\n",
    "\n",
    "    struct_img = ndi.gaussian_filter(struct_img,\n",
    "                                     sigma=gauss_sig_soma,\n",
    "                                     mode=\"nearest\",\n",
    "                                     truncate=gauss_truc_rang)\n",
    "\n",
    "    struct_img_non_lin = _non_linear_soma_transform_MCZ(struct_img)\n",
    "   \n",
    "\n",
    "    ###################\n",
    "    # CORE_PROCESSING\n",
    "    ###################    \n",
    "    struct_obj = _masked_object_thresh(struct_img_non_lin, \n",
    "                                       th_method=mo_method, \n",
    "                                       cutoff_size=mo_cutoff_size, \n",
    "                                       th_adjust=mo_adjust)               \n",
    "\n",
    "\n",
    "    ###################\n",
    "    # POST_PROCESSING\n",
    "    ###################\n",
    "    struct_obj = hole_filling(struct_obj, \n",
    "                              hole_min =0 , \n",
    "                              hole_max=max_hole_w_soma**2, \n",
    "                              fill_2d = True) \n",
    "\n",
    "    struct_obj = size_filter_2D(struct_obj, \n",
    "                                min_size= small_obj_w_soma**3, \n",
    "                                connectivity=1)\n",
    "\n",
    "    labels_out = _masked_inverted_watershed(struct_obj, nuclei_labels, struct_obj)\n",
    "\n",
    "\n",
    "    ###################\n",
    "    # POST- POST_PROCESSING\n",
    "    ###################\n",
    "    # keep the \"SOMA\" label which contains the highest total signal\n",
    "    soma_out = _choose_max_label(struct_img, labels_out)\n",
    "\n",
    "    return soma_out\n",
    "\n",
    "\n",
    "def _fixed_infer_cellmask_fromaggr_3D(in_img: np.ndarray, nuclei_labels: np.ndarray) -> np.ndarray:\n",
    "    \"\"\"\n",
    "    Procedure to infer cellmask from linearly unmixed input, with a *fixed* set of parameters for each step in the procedure.  i.e. \"hard coded\"\n",
    "\n",
    "    Parameters\n",
    "    ------------\n",
    "    in_img: \n",
    "        a 3d image containing all the channels\n",
    "    nuclei_object:\n",
    "        a 3d mask of nuclei\n",
    "\n",
    "    Returns\n",
    "    -------------\n",
    "    soma_mask:\n",
    "        a logical/labels object defining boundaries of cellmask\n",
    "    \"\"\"\n",
    "    \n",
    "    ###################\n",
    "    # PARAMETERS\n",
    "    ###################   \n",
    "    median_sz_soma = 15\n",
    "    gauss_sig_soma = 1.34\n",
    "    gauss_truc_rang = 3.0\n",
    "    mo_method = \"ave\"\n",
    "    mo_adjust = 0.15\n",
    "    mo_cutoff_size = 50\n",
    "    max_hole_w_soma = 100\n",
    "    small_obj_w_soma = 45\n",
    "\n",
    "    soma_out = _infer_cellmask_fromaggr_3D(in_img,\n",
    "                              nuclei_labels,\n",
    "                              median_sz_soma,\n",
    "                              gauss_sig_soma,\n",
    "                              gauss_truc_rang,\n",
    "                              mo_method,\n",
    "                              mo_adjust,\n",
    "                              mo_cutoff_size,\n",
    "                              max_hole_w_soma,\n",
    "                              small_obj_w_soma) \n",
    "\n",
    "    return soma_out\n",
    "\n",
    "\n",
    "SO_label =  _fixed_infer_cellmask_fromaggr_3D(img_data, NU_labels) "
   ]
  },
  {
   "cell_type": "markdown",
   "metadata": {},
   "source": [
    "## GET CYTOSOL MASK\n"
   ]
  },
  {
   "cell_type": "code",
   "execution_count": 7,
   "metadata": {},
   "outputs": [],
   "source": [
    "#selecting single nuclei that matches the single cytoplasm selected above\n",
    "NU_object = np.logical_and(SO_label,NU_labels)"
   ]
  },
  {
   "cell_type": "code",
   "execution_count": 8,
   "metadata": {},
   "outputs": [],
   "source": [
    "def _infer_cytoplasm(soma_mask, nuclei_object, erode_nuclei = True):\n",
    "    \"\"\"\n",
    "    Procedure to infer cytoplasm from linearly unmixed input.\n",
    "\n",
    "    Parameters\n",
    "    ------------\n",
    "    nuclei_object: \n",
    "        a 3d image containing the nuclei signal\n",
    "\n",
    "    soma_mask: \n",
    "        a 3d image containing the cellmask signal\n",
    "\n",
    "    erode_nuclei: \n",
    "        should we erode?\n",
    "\n",
    "    Returns\n",
    "    -------------\n",
    "    cytoplasm_mask \n",
    "        boolean np.ndarray\n",
    "      \n",
    "    \"\"\"\n",
    "\n",
    "    if erode_nuclei:\n",
    "        cytoplasm_mask = np.logical_and(soma_mask, ~binary_erosion(nuclei_object))\n",
    "        # cytoplasm_mask = np.logical_xor(soma_mask, binary_erosion(nuclei_object))\n",
    "    else:\n",
    "        cytoplasm_mask = np.logical_and(soma_mask, ~nuclei_object)\n",
    "        # cytoplasm_mask = np.logical_xor(soma_mask, nuclei_object)\n",
    "\n",
    "\n",
    "    return cytoplasm_mask\n",
    "\n",
    "\n",
    "cytoplasm_mask = _infer_cytoplasm(SO_label, NU_object) "
   ]
  },
  {
   "attachments": {},
   "cell_type": "markdown",
   "metadata": {},
   "source": [
    "---------------------\n",
    "\n",
    "## infer ***golgi complex***\n",
    "\n",
    "## summary of steps \n",
    "\n",
    "INPUT\n",
    "- ch 4\n",
    "- cytoplasm mask\n",
    "\n",
    "PRE-PROCESSING\n",
    "-  MM scale\n",
    "-  G2 gaussian filter 2D \n",
    "   -  sigma = 1.\n",
    "\n",
    "CORE-PROCESSING\n",
    "- S2 - dot filter\n",
    "- W - watershed to disambiguate overlapping dots\n",
    "\n",
    "POST-PROCESSING\n",
    "  - S  - remove dots less than 2x2 pixels (area = 4)\n",
    "\n",
    "OUTPUT\n",
    "- object ***peroxisome*** \n",
    "\n",
    "\n",
    "\n",
    "Generally following the Allen Cell Segmenter procedure, but doing more aggressive contrast scaling than their prescribed contrast scaling.\n",
    "\n",
    "> PMP34 os  good start for Peroxisomes  as per from [Allen Cell](https://www.allencell.org/cell-observations/category/peroxisome)\n",
    "\n",
    "> [playground_dots.ipynb](https://github.com/AllenInstitute/aics-segmentation/blob/master/lookup_table_demo/playground_dots.ipynb)\n",
    "\n",
    "\n",
    "\n",
    "\n",
    ">#### ASIDE:  3D Spot filter (S3)\n",
    ">* Parameter syntax: `[[scale_1, cutoff_1], [scale_2, cutoff_2], ....]` \n",
    ">    * `scale_x` is set based on the estimated radius of your target dots. For example, if visually the diameter of the dots is usually 3~4 pixels, then you may want to set `scale_x` as `1` or something near `1` (like `1.25`). Multiple scales can be used, if you have dots of very different sizes.  \n",
    ">    * `cutoff_x` is a threshold applied on the actual filter reponse to get the binary result. Smaller `cutoff_x` may yielf more dots and fatter segmentation, while larger `cutoff_x` could be less permisive and yield less dots and slimmer segmentation. \n",
    ">* Parameter for PMP34:  `s3_param = [[1,0.03]]`\n"
   ]
  },
  {
   "attachments": {},
   "cell_type": "markdown",
   "metadata": {},
   "source": [
    "## INPUT prototype"
   ]
  },
  {
   "cell_type": "code",
   "execution_count": 9,
   "metadata": {},
   "outputs": [],
   "source": [
    "###################\n",
    "# INPUT\n",
    "###################\n",
    "raw_perox = select_channel_from_raw(img_data, PEROX_CH)"
   ]
  },
  {
   "cell_type": "code",
   "execution_count": 10,
   "metadata": {},
   "outputs": [
    {
     "name": "stderr",
     "output_type": "stream",
     "text": [
      "WARNING: QWindowsWindow::setGeometry: Unable to set geometry 1090x687+0+36 (frame: 1108x734-9-2) on QWidgetWindow/\"_QtMainWindowClassWindow\" on \"\\\\.\\DISPLAY1\". Resulting geometry: 1020x921-2+29 (frame: 1038x968-11-9) margins: 9, 38, 9, 9 minimum size: 612x594 MINMAXINFO maxSize=0,0 maxpos=0,0 mintrack=630,641 maxtrack=0,0)\n",
      "23-Feb-23 10:33:07 - vispy    - WARNING  - QWindowsWindow::setGeometry: Unable to set geometry 1090x687+0+36 (frame: 1108x734-9-2) on QWidgetWindow/\"_QtMainWindowClassWindow\" on \"\\\\.\\DISPLAY1\". Resulting geometry: 1020x921-2+29 (frame: 1038x968-11-9) margins: 9, 38, 9, 9 minimum size: 612x594 MINMAXINFO maxSize=0,0 maxpos=0,0 mintrack=630,641 maxtrack=0,0)\n"
     ]
    }
   ],
   "source": [
    "viewer = napari.Viewer()"
   ]
  },
  {
   "cell_type": "code",
   "execution_count": 11,
   "metadata": {},
   "outputs": [
    {
     "data": {
      "text/plain": [
       "<Image layer 'raw_perox' at 0x26dd67b73d0>"
      ]
     },
     "execution_count": 11,
     "metadata": {},
     "output_type": "execute_result"
    }
   ],
   "source": [
    "viewer.add_image(\n",
    "    raw_perox,\n",
    "    scale=scale\n",
    ")"
   ]
  },
  {
   "attachments": {},
   "cell_type": "markdown",
   "metadata": {},
   "source": [
    "## PRE-PROCESSING prototype"
   ]
  },
  {
   "cell_type": "code",
   "execution_count": 12,
   "metadata": {},
   "outputs": [],
   "source": [
    "###################\n",
    "# PRE_PROCESSING\n",
    "###################\n",
    "perox_norm = min_max_intensity_normalization(raw_perox)\n",
    "\n",
    "gaussian_smoothing_sigma = 3.0\n",
    "\n",
    "perox_gaus = image_smoothing_gaussian_slice_by_slice(perox_norm,\n",
    "                                                    sigma=gaussian_smoothing_sigma)"
   ]
  },
  {
   "cell_type": "code",
   "execution_count": 13,
   "metadata": {},
   "outputs": [
    {
     "data": {
      "text/plain": [
       "<Image layer 'perox_gaus' at 0x26dcd86a2e0>"
      ]
     },
     "execution_count": 13,
     "metadata": {},
     "output_type": "execute_result"
    }
   ],
   "source": [
    "viewer.add_image(\n",
    "    perox_gaus,\n",
    "    scale=scale\n",
    ")"
   ]
  },
  {
   "attachments": {},
   "cell_type": "markdown",
   "metadata": {},
   "source": [
    "## CORE PROCESSING prototype"
   ]
  },
  {
   "cell_type": "code",
   "execution_count": 14,
   "metadata": {},
   "outputs": [],
   "source": [
    "###################\n",
    "# CORE_PROCESSING\n",
    "###################\n",
    "\n",
    "################################\n",
    "## PARAMETERS for this step ##\n",
    "dot_3d_sigma = 1\n",
    "dot_3d_cutoff = 0.01\n",
    "s3_param = [[dot_3d_sigma,dot_3d_cutoff]]\n",
    "################################\n",
    "bw = dot_3d_wrapper(perox_gaus, s3_param)"
   ]
  },
  {
   "cell_type": "code",
   "execution_count": 15,
   "metadata": {},
   "outputs": [
    {
     "data": {
      "text/plain": [
       "<Image layer 'bw' at 0x26dcdb63850>"
      ]
     },
     "execution_count": 15,
     "metadata": {},
     "output_type": "execute_result"
    }
   ],
   "source": [
    "viewer.add_image(\n",
    "    bw,\n",
    "    scale=scale\n",
    ")"
   ]
  },
  {
   "attachments": {},
   "cell_type": "markdown",
   "metadata": {},
   "source": [
    "## POST-PROCESSING prototype\n",
    "\n",
    "> NOTE:  AllenCell Segmenter suggests using a masked watershed to disambiguate overlapping peroxisome, but it is depricated here as our contrast/separation is pretty good."
   ]
  },
  {
   "cell_type": "code",
   "execution_count": 16,
   "metadata": {},
   "outputs": [],
   "source": [
    "\n",
    "###################\n",
    "# POST_PROCESSING\n",
    "###################\n",
    "# watershed\n",
    "#minArea = 4\n",
    "# mask_ = remove_small_objects(bw>0, min_size=minArea, connectivity=1, in_place=False) \n",
    "# seed_ = dilation(peak_local_max(struct_img,labels=label(mask_), min_distance=2, indices=False), selem=ball(1))\n",
    "# watershed_map = -1*ndi.distance_transform_edt(bw)\n",
    "# struct_obj = watershed(watershed_map, label(seed_), mask=mask_, watershed_line=True)\n",
    "\n",
    "\n",
    "perox_masked = apply_mask(bw, cytoplasm_mask)\n",
    "\n",
    "################################\n",
    "## PARAMETERS for this step ##\n",
    "small_object_width = 2 \n",
    "################################\n",
    "\n",
    "#struct_obj = remove_small_objects(bw>0, min_size=minArea, connectivity=1, in_place=False)\n",
    "perox_mask = size_filter(perox_masked, \n",
    "                        min_size= small_object_width**3, \n",
    "                        connectivity=1)"
   ]
  },
  {
   "cell_type": "code",
   "execution_count": 17,
   "metadata": {},
   "outputs": [
    {
     "data": {
      "text/plain": [
       "<Image layer 'perox_mask' at 0x26dcdc42c40>"
      ]
     },
     "execution_count": 17,
     "metadata": {},
     "output_type": "execute_result"
    }
   ],
   "source": [
    "viewer.add_image(\n",
    "    perox_masked,\n",
    "    scale=scale\n",
    ")\n",
    "viewer.add_image(\n",
    "    perox_mask,\n",
    "    scale=scale\n",
    ")"
   ]
  },
  {
   "attachments": {},
   "cell_type": "markdown",
   "metadata": {},
   "source": [
    "## DEFINE `infer_perox` function\n",
    "\n",
    "Based on the _prototyping_ above define the function to infer the peroxisome.  \n"
   ]
  },
  {
   "cell_type": "code",
   "execution_count": 18,
   "metadata": {},
   "outputs": [],
   "source": [
    "##########################\n",
    "#  infer_perox\n",
    "##########################\n",
    "def _infer_perox( in_img: np.ndarray,\n",
    "                                cytoplasm_mask: np.ndarray,\n",
    "                                gauss_sig: float,\n",
    "                                dot_scale: float,\n",
    "                                dot_cut: float,\n",
    "                                small_obj_w: int,\n",
    "                            ) -> np.ndarray:\n",
    "    \"\"\"\n",
    "    Procedure to infer peroxisome from linearly unmixed input.\n",
    "\n",
    "   Parameters\n",
    "    ------------\n",
    "    in_img: \n",
    "        a 3d image containing all the channels\n",
    "    cytoplasm_mask:\n",
    "        mask\n",
    "    gauss_sig: \n",
    "        sigma for gaussian smoothing of  signal\n",
    "    dot_scale: \n",
    "        scales (log_sigma) for dot filter (1,2, and 3)\n",
    "    dot_cut: \n",
    "        threshold for dot filter thresholds (1,2,and 3)\n",
    "    small_obj_w: \n",
    "        minimu object size cutoff for nuclei post-processing\n",
    " \n",
    "    Returns\n",
    "    -------------\n",
    "    peroxi_object\n",
    "        mask defined extent of peroxisome object\n",
    "    \"\"\"\n",
    "    peroxi_ch = PEROX_CH\n",
    "    ###################\n",
    "    # EXTRACT\n",
    "    ###################    \n",
    "    peroxi = select_channel_from_raw(in_img, peroxi_ch)\n",
    "\n",
    "    ###################\n",
    "    # PRE_PROCESSING\n",
    "    ###################    \n",
    "    peroxi = min_max_intensity_normalization(peroxi)\n",
    "\n",
    "    peroxi = image_smoothing_gaussian_slice_by_slice(peroxi, sigma=gauss_sig)\n",
    "\n",
    "   ###################\n",
    "    # CORE_PROCESSING\n",
    "    ###################\n",
    "    s3_param = [[dot_scale,dot_cut]]\n",
    "    bw = dot_3d_wrapper(peroxi, s3_param)\n",
    "    ###################\n",
    "    # POST_PROCESSING\n",
    "    ###################\n",
    "    # do_watershed = False\n",
    "    # if do_watershed: # BUG: this makes bw into labels... but we are returning a binary object...\n",
    "    #     minArea = 4\n",
    "    #     mask_ = remove_small_objects(bw>0, min_size=minArea, connectivity=1, in_place=False) \n",
    "    #     seed_ = dilation(peak_local_max(struct_img,labels=label(mask_), min_distance=2, indices=False), selem=ball(1))\n",
    "    #     watershed_map = -1*ndi.distance_transform_edt(bw)\n",
    "    #     bw = watershed(watershed_map, label(seed_), mask=mask_, watershed_line=True)\n",
    "    struct_obj = apply_mask(bw, cytoplasm_mask)\n",
    "    struct_obj = size_filter(struct_obj, \n",
    "                            min_size= small_obj_w**3, \n",
    "                            connectivity=1)\n",
    "\n",
    "\n",
    "    return struct_obj"
   ]
  },
  {
   "attachments": {},
   "cell_type": "markdown",
   "metadata": {},
   "source": [
    "## DEFINE `_fixed_infer_perox` function\n"
   ]
  },
  {
   "cell_type": "code",
   "execution_count": 19,
   "metadata": {},
   "outputs": [],
   "source": [
    "\n",
    "##########################\n",
    "#  fixed_infer_perox\n",
    "##########################\n",
    "def _fixed_infer_perox(in_img: np.ndarray, cytoplasm_mask: Optional[np.ndarray] = None) -> np.ndarray:\n",
    "    \"\"\"\n",
    "    Procedure to infer peroxisome from linearly unmixed input with fixed parameters.\n",
    "\n",
    "   Parameters\n",
    "    ------------\n",
    "    in_img: np.ndarray\n",
    "        a 3d image containing all the channels\n",
    "    cytoplasm_mask: \n",
    "        mask - default=None\n",
    "\n",
    "    Returns\n",
    "    -------------\n",
    "    peroxi_object\n",
    "        mask defined extent of peroxisome object\n",
    "    \"\"\"\n",
    "    gauss_sig = 3\n",
    "    dot_scale = 1.0\n",
    "    dot_cut = 0.01\n",
    "    small_obj_w = 2\n",
    "\n",
    "    return _infer_perox(in_img,\n",
    "                                    cytoplasm_mask,\n",
    "                                    gauss_sig,\n",
    "                                    dot_scale,\n",
    "                                    dot_cut,\n",
    "                                    small_obj_w,\n",
    "                                )\n"
   ]
  },
  {
   "cell_type": "markdown",
   "metadata": {},
   "source": [
    "# TEST  `_infer_perox` function"
   ]
  },
  {
   "cell_type": "code",
   "execution_count": 20,
   "metadata": {},
   "outputs": [],
   "source": [
    "_perox_mask =  _fixed_infer_perox(img_data, cytoplasm_mask) \n",
    "\n",
    "_perox_objects = label(_perox_mask)"
   ]
  },
  {
   "cell_type": "code",
   "execution_count": 21,
   "metadata": {},
   "outputs": [
    {
     "data": {
      "text/plain": [
       "<Labels layer '_perox_objects' at 0x26dd70c5940>"
      ]
     },
     "execution_count": 21,
     "metadata": {},
     "output_type": "execute_result"
    }
   ],
   "source": [
    "viewer.add_image(\n",
    "    _perox_mask,\n",
    "    scale=scale\n",
    ")\n",
    "viewer.add_labels(\n",
    "    _perox_objects,\n",
    "    scale=scale\n",
    ")"
   ]
  },
  {
   "attachments": {},
   "cell_type": "markdown",
   "metadata": {},
   "source": [
    "STOPPED 2D-TO3D TRANSITION HERE"
   ]
  },
  {
   "cell_type": "code",
   "execution_count": 17,
   "metadata": {},
   "outputs": [],
   "source": [
    "from infer_subc.organelles import infer_perox, fixed_infer_perox \n",
    "\n",
    "peroxi_object =  fixed_infer_perox(img_2D, cytoplasm_mask) \n"
   ]
  },
  {
   "attachments": {},
   "cell_type": "markdown",
   "metadata": {},
   "source": [
    "## Visualize  2\n"
   ]
  },
  {
   "cell_type": "code",
   "execution_count": 18,
   "metadata": {},
   "outputs": [
    {
     "data": {
      "text/plain": [
       "<Labels layer 'Labels' at 0x17c5bec40>"
      ]
     },
     "execution_count": 18,
     "metadata": {},
     "output_type": "execute_result"
    }
   ],
   "source": [
    "\n",
    "viewer.add_image(\n",
    "    peroxi_object,\n",
    "    scale=scale\n",
    ")\n",
    "\n",
    "viewer.add_image(\n",
    "    _peroxi_object,\n",
    "    scale=scale\n",
    ")\n",
    "\n",
    "viewer.add_labels(\n",
    "    label(peroxi_object),\n",
    "    scale=scale\n",
    ")"
   ]
  },
  {
   "cell_type": "code",
   "execution_count": 19,
   "metadata": {},
   "outputs": [
    {
     "data": {
      "image/png": "[encoded data removed]",
      "text/html": [
       "<img src=\"data:image/png;base64,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\"></img>"
      ],
      "text/plain": [
       "<napari.utils.notebook_display.NotebookScreenshot at 0x17c77bd90>"
      ]
     },
     "execution_count": 19,
     "metadata": {},
     "output_type": "execute_result"
    }
   ],
   "source": [
    "from napari.utils.notebook_display import nbscreenshot\n",
    "\n",
    "# viewer.dims.ndisplay = 3\n",
    "# viewer.camera.angles = (-30, 25, 120)\n",
    "nbscreenshot(viewer, canvas_only=True)"
   ]
  },
  {
   "cell_type": "code",
   "execution_count": 20,
   "metadata": {},
   "outputs": [],
   "source": [
    "viewer.close()"
   ]
  },
  {
   "attachments": {},
   "cell_type": "markdown",
   "metadata": {},
   "source": [
    "-----------------\n",
    "Write the `infer_perox` spec to the widget json "
   ]
  },
  {
   "cell_type": "code",
   "execution_count": 21,
   "metadata": {},
   "outputs": [
    {
     "name": "stdout",
     "output_type": "stream",
     "text": [
      "function fixed_infer_perox is already in all_functions.json\n"
     ]
    },
    {
     "data": {
      "text/plain": [
       "0"
      ]
     },
     "execution_count": 21,
     "metadata": {},
     "output_type": "execute_result"
    }
   ],
   "source": [
    "from infer_subc.organelles_config.helper import add_function_spec_to_widget_json\n",
    "\n",
    "_fixed_infer_perox =  {\n",
    "        \"name\": \"infer peroxisome (fixed parameters)\",\n",
    "        \"python::module\": \"infer_subc.organelles\",\n",
    "        \"python::function\": \"fixed_infer_perox\",\n",
    "        \"parameters\": None\n",
    "        }\n",
    "\n",
    "add_function_spec_to_widget_json(\"fixed_infer_perox\",_fixed_infer_perox)"
   ]
  },
  {
   "cell_type": "code",
   "execution_count": 22,
   "metadata": {},
   "outputs": [
    {
     "name": "stdout",
     "output_type": "stream",
     "text": [
      "function infer_perox is already in all_functions.json\n",
      "overwriting  infer_perox\n"
     ]
    },
    {
     "data": {
      "text/plain": [
       "1"
      ]
     },
     "execution_count": 22,
     "metadata": {},
     "output_type": "execute_result"
    }
   ],
   "source": [
    "\n",
    "_infer_perox =  {\n",
    "        \"name\": \"infer peroxisome\",\n",
    "        \"python::module\": \"infer_subc.organelles\",\n",
    "        \"python::function\": \"infer_perox\",\n",
    "        \"parameters\": {\n",
    "                \"gauss_sig\": {\n",
    "                        \"data_type\": \"float\",\n",
    "                        \"increment\": 0.25,\n",
    "                        \"max\": 15.0,\n",
    "                        \"min\": 1.25,\n",
    "                        \"widget_type\": \"slider\"\n",
    "                },\n",
    "                \"dot_scale\": {\n",
    "                        \"data_type\": \"float\",\n",
    "                        \"increment\": 0.05,\n",
    "                        \"max\": 10,\n",
    "                        \"min\": 0,\n",
    "                        \"widget_type\": \"slider\"\n",
    "                },\n",
    "                \"dot_cut\": {\n",
    "                        \"data_type\": \"float\",\n",
    "                        \"increment\": 0.005,\n",
    "                        \"max\": 0.5,\n",
    "                        \"min\": 0,\n",
    "                        \"widget_type\": \"slider\"\n",
    "                },\n",
    "                \"small_obj_w\": {\n",
    "                        \"data_type\": \"int\",\n",
    "                        \"increment\": 1,\n",
    "                        \"max\": 50,\n",
    "                        \"min\": 1,\n",
    "                        \"widget_type\": \"slider\"\n",
    "                }\n",
    "        }\n",
    "}\n",
    "\n",
    "add_function_spec_to_widget_json(\"infer_perox\", _infer_perox, overwrite=True )\n",
    "\n"
   ]
  },
  {
   "attachments": {},
   "cell_type": "markdown",
   "metadata": {},
   "source": [
    "-------------------------------\n",
    "## Write workflow .json\n",
    "Now that we've added our function specs we can compose workflows."
   ]
  },
  {
   "cell_type": "code",
   "execution_count": 23,
   "metadata": {},
   "outputs": [],
   "source": [
    "def make_infer_perox_step_by_step_from_raw_dict():\n",
    "    \"\"\"\n",
    "    Procedure to infer mitochondria from linearly unmixed input from raw\n",
    "\n",
    "    \"\"\"\n",
    "    step_name = []\n",
    "    function_name = []\n",
    "    category =[]\n",
    "    parameter_values = []\n",
    "    parent = []\n",
    "   \n",
    "    ###################\n",
    "    # EXTRACT\n",
    "    ###################   \n",
    "    step_name = []\n",
    "    function_name = []\n",
    "    category =[]\n",
    "    parameter_values = []\n",
    "    parent = []\n",
    "   \n",
    "    ###################\n",
    "    # EXTRACT\n",
    "    ###################   \n",
    "\n",
    "    step_name.append(\"1\")\n",
    "    function_name.append(\"fixed_get_optimal_Z_img\")\n",
    "    category.append(\"extraction\")\n",
    "    parameter_values.append(None)\n",
    "    parent.append(0)\n",
    "\n",
    "    step_name.append(\"2\")\n",
    "    function_name.append(\"fixed_infer_cellmask_fromaggr\")\n",
    "    category.append(\"extraction\")\n",
    "    parameter_values.append( None )\n",
    "    parent.append(1)\n",
    "\n",
    "    step_name.append(\"3\")\n",
    "    function_name.append(\"fixed_infer_nuclei\")\n",
    "    category.append(\"extraction\")\n",
    "    parameter_values.append( None )\n",
    "    parent.append([1,2])\n",
    "\n",
    "    step_name.append(\"4\")\n",
    "    function_name.append(\"infer_cytoplasm\")\n",
    "    category.append(\"extraction\")\n",
    "    parameter_values.append(dict(erode_nuclei = True ))\n",
    "    parent.append([2,3])\n",
    "\n",
    "    step_name.append(\"5\")\n",
    "    function_name.append(\"select_channel_from_raw\")\n",
    "    category.append(\"extraction\")\n",
    "    parameter_values.append( dict(chan = PEROX_CH) )\n",
    "    parent.append(1)\n",
    "    \n",
    "    step_name.append(\"6\")\n",
    "    function_name.append(\"min_max_intensity_normalization\")\n",
    "    category.append(\"preprocessing\")\n",
    "    parameter_values.append(None)\n",
    "    parent.append(5)\n",
    "\n",
    "    step_name.append(\"7\")\n",
    "    function_name.append(\"image_smoothing_gaussian_slice_by_slice\")\n",
    "    category.append(\"preprocessing\")\n",
    "    parameter_values.append(dict( sigma = 3.0 ))\n",
    "    parent.append(6)\n",
    "\n",
    "    step_name.append(\"8\")\n",
    "    function_name.append(\"spot_filter_slice_by_slice\") \n",
    "    category.append(\"core\")\n",
    "    parameter_values.append( dict( log_sigma=1, cutoff=0.01) )\n",
    "    parent.append(7)\n",
    "\n",
    "    step_name.append(\"9\")\n",
    "    function_name.append(\"apply_mask\")\n",
    "    category.append(\"postprocessing\")\n",
    "    parameter_values.append(None)\n",
    "    parent.append([8,4])\n",
    "\n",
    "    step_name.append(\"10\")\n",
    "    function_name.append(\"size_filter_2D\")\n",
    "    category.append(\"postprocessing\")\n",
    "    parameter_values.append(dict( min_size = 2**2  ))\n",
    "    parent.append(9)\n",
    "\n",
    "    out_dict = dict()\n",
    "    for i,stepn in enumerate(step_name):\n",
    "        entry = dict(category=category[i],\n",
    "                            function=function_name[i],\n",
    "                            parameter_values=parameter_values[i],\n",
    "                            parent=parent[i]\n",
    "        )\n",
    "        if entry['parameter_values'] is None:\n",
    "            _ = entry.pop('parameter_values')\n",
    "        out_dict[stepn] = entry\n",
    "    \n",
    "    return out_dict\n",
    "\n"
   ]
  },
  {
   "cell_type": "code",
   "execution_count": 24,
   "metadata": {},
   "outputs": [
    {
     "data": {
      "text/plain": [
       "PosixPath('/Users/ahenrie/Projects/Imaging/infer-subc/infer_subc/organelles_config/conf_1.7.perox_stepbystep_from_raw.json')"
      ]
     },
     "execution_count": 24,
     "metadata": {},
     "output_type": "execute_result"
    }
   ],
   "source": [
    "from infer_subc.organelles_config.helper import write_workflow_json\n",
    "\n",
    "infer_perox_stepbystep_from_raw_dict = make_infer_perox_step_by_step_from_raw_dict()\n",
    "\n",
    "write_workflow_json(\"conf_1.7.perox_stepbystep_from_raw\", infer_perox_stepbystep_from_raw_dict)"
   ]
  },
  {
   "attachments": {},
   "cell_type": "markdown",
   "metadata": {},
   "source": [
    "-------------\n",
    "## SUMMARY\n",
    "\n",
    "The above details how the peroxisome object is inferred.  \n",
    "\n",
    "### NEXT: INFER ENDOPLASMIC RETICULUM\n",
    "\n",
    "proceed to [08_infer_ER.ipynb](./08_infer_ER.ipynb)\n"
   ]
  },
  {
   "cell_type": "code",
   "execution_count": null,
   "metadata": {},
   "outputs": [],
   "source": []
  }
 ],
 "metadata": {
  "kernelspec": {
   "display_name": "infer-subc",
   "language": "python",
   "name": "python3"
  },
  "language_info": {
   "codemirror_mode": {
    "name": "ipython",
    "version": 3
   },
   "file_extension": ".py",
   "mimetype": "text/x-python",
   "name": "python",
   "nbconvert_exporter": "python",
   "pygments_lexer": "ipython3",
   "version": "3.9.15"
  },
  "orig_nbformat": 4,
  "vscode": {
   "interpreter": {
    "hash": "182b63330db9794b59aa776c624821fb477d854325ad145fa5385f0d56c0c6f3"
   }
  }
 },
 "nbformat": 4,
 "nbformat_minor": 2
}
