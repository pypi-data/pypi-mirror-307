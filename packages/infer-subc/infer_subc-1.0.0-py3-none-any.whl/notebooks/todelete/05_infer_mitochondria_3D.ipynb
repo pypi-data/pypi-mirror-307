{
 "cells": [
  {
   "attachments": {},
   "cell_type": "markdown",
   "metadata": {},
   "source": [
    "# Infer ***mitochondria*** - part 5️⃣\n",
    "\n",
    "--------------\n",
    "OBJECTIVE: ✅ Infer sub-cellular component  ***mitochondria***  in order to understand interactome \n",
    "\n",
    "Infer the mitochondria segmentation in order to measure their extent, shape, position, and size.\n",
    "\n",
    "Dependencies:\n",
    "The ***mitochondria***  inference rely on the ***cytoplasm*** mask"
   ]
  },
  {
   "attachments": {},
   "cell_type": "markdown",
   "metadata": {},
   "source": [
    "## preamble\n",
    "\n",
    "1. imports\n",
    "2. setup\n",
    "3. infer nuclei mask\n",
    "4. infer cellmask mask\n",
    "5. infer cytoplasm mask\n",
    "6. infer mitochondria\n",
    "    * pre-processing\n",
    "    * core processing\n",
    "    * post processing"
   ]
  },
  {
   "attachments": {},
   "cell_type": "markdown",
   "metadata": {},
   "source": [
    "\n",
    "## IMPORTS"
   ]
  },
  {
   "cell_type": "code",
   "execution_count": 1,
   "metadata": {},
   "outputs": [],
   "source": [
    "# top level imports\n",
    "from pathlib import Path\n",
    "import os, sys\n",
    "from collections import defaultdict\n",
    "\n",
    "from typing import Optional\n",
    "\n",
    "import numpy as np\n",
    "\n",
    "from aicssegmentation.core.pre_processing_utils import ( intensity_normalization, \n",
    "                                                         image_smoothing_gaussian_slice_by_slice )\n",
    "from aicssegmentation.core.utils import (size_filter, hole_filling)\n",
    "from aicssegmentation.core.MO_threshold import MO\n",
    "from aicssegmentation.core.vessel import vesselness3D\n",
    "\n",
    "from skimage.measure import label\n",
    "\n",
    "# # package for io \n",
    "from aicsimageio import AICSImage\n",
    "\n",
    "import napari\n",
    "\n",
    "### import local python functions in ../infer_subc\n",
    "sys.path.append(os.path.abspath((os.path.join(os.getcwd(), '..'))))\n",
    "\n",
    "from infer_subc.core.file_io import (read_czi_image, \n",
    "                                                                    list_image_files)\n",
    "from infer_subc.core.img import *\n",
    "from infer_subc.constants import (TEST_IMG_N,\n",
    "                                                                    NUC_CH ,\n",
    "                                                                    LYSO_CH ,\n",
    "                                                                    MITO_CH ,\n",
    "                                                                    GOLGI_CH ,\n",
    "                                                                    PEROX_CH ,\n",
    "                                                                    ER_CH ,\n",
    "                                                                    LD_CH ,\n",
    "                                                                    RESIDUAL_CH )        \n",
    "from infer_subc.organelles import fixed_infer_cellmask_fromaggr, fixed_infer_nuclei, infer_cytoplasm, find_optimal_Z\n",
    "\n",
    "%load_ext autoreload\n",
    "%autoreload 2\n",
    "\n",
    "# additional imports for nuc/cellmask/cytoplasm\n",
    "from collections import defaultdict\n",
    "from scipy import ndimage as ndi\n",
    "from aicssegmentation.core.MO_threshold import MO\n",
    "from skimage import filters\n",
    "from skimage.segmentation import watershed\n",
    "from skimage.morphology import (binary_erosion,\n",
    "                                remove_small_holes)\n",
    "from skimage.measure import label"
   ]
  },
  {
   "attachments": {},
   "cell_type": "markdown",
   "metadata": {},
   "source": [
    "## SETUP\n",
    "CUSTOMIZE WITH: \n",
    "1. updated path to data\n",
    "2. updated folder name for \"raw\" data\n",
    "\n",
    "> NOTE: we are operating on a single \"test\" image in this notebook.  The batch-processing of all the images will be happen at the end of the notebook after we have developed/confirmed the setmentation procedures and parameter settings."
   ]
  },
  {
   "cell_type": "code",
   "execution_count": 2,
   "metadata": {},
   "outputs": [],
   "source": [
    "# this will be the example image for testing the pipeline below\n",
    "test_img_n = TEST_IMG_N\n",
    "\n",
    "# build the datapath\n",
    "# all the imaging data goes here.\n",
    "data_root_path = Path(os.path.expanduser(\"~\")) / \"Documents/Python Scripts/infer-subc\"\n",
    "\n",
    "# linearly unmixed \".czi\" files are here\n",
    "data_path = data_root_path / \"raw\"\n",
    "im_type = \".czi\"\n",
    "\n",
    "# get the list of all files\n",
    "img_file_list = list_image_files(data_path,im_type)\n",
    "test_img_name = img_file_list[test_img_n]"
   ]
  },
  {
   "cell_type": "code",
   "execution_count": 3,
   "metadata": {},
   "outputs": [
    {
     "name": "stderr",
     "output_type": "stream",
     "text": [
      "c:\\Users\\Shannon\\Anaconda3\\envs\\infer-subc\\lib\\site-packages\\ome_types\\_convenience.py:105: FutureWarning: The default XML parser will be changing from 'xmlschema' to 'lxml' in version 0.4.0.  To silence this warning, please provide the `parser` argument, specifying either 'lxml' (to opt into the new behavior), or'xmlschema' (to retain the old behavior).\n",
      "  d = to_dict(os.fspath(xml), parser=parser, validate=validate)\n"
     ]
    }
   ],
   "source": [
    "img_data,meta_dict = read_czi_image(test_img_name)\n",
    "\n",
    "# get some top-level info about the RAW data\n",
    "channel_names = meta_dict['name']\n",
    "img = meta_dict['metadata']['aicsimage']\n",
    "scale = meta_dict['scale']\n",
    "channel_axis = meta_dict['channel_axis']"
   ]
  },
  {
   "attachments": {},
   "cell_type": "markdown",
   "metadata": {},
   "source": [
    "## INFER NUCLEI MASK\n",
    "\n",
    "Using function defined in 01_infer_nuclei_3D.ipynb\n"
   ]
  },
  {
   "cell_type": "code",
   "execution_count": 4,
   "metadata": {},
   "outputs": [],
   "source": [
    "def _infer_nuclei_3D( in_img: np.ndarray,\n",
    "                       median_sz: int, \n",
    "                       gauss_sig: float,\n",
    "                       thresh_factor: float,\n",
    "                       thresh_min: float,\n",
    "                       thresh_max: float,\n",
    "                       max_hole_w: int,\n",
    "                       small_obj_w: int,\n",
    "                       sz_filter_method: str\n",
    "                     ) -> np.ndarray:\n",
    "    \"\"\"\n",
    "    Procedure to infer 3D nuclei segmentation from multichannel z-stack input.\n",
    "\n",
    "    Parameters\n",
    "    ------------\n",
    "    in_img: np.ndarray\n",
    "        a 3d image containing all the channels\n",
    "    soma_mask: Optional[np.ndarray] = None\n",
    "        mask\n",
    "    median_sz: int\n",
    "        width of median filter for signal\n",
    "    gauss_sig: float\n",
    "        sigma for gaussian smoothing of  signal\n",
    "    thresh_factor: float\n",
    "        adjustment factor for log Li threholding\n",
    "    thresh_min: float\n",
    "        abs min threhold for log Li threholding\n",
    "    thresh_max: float\n",
    "        abs max threhold for log Li threholding\n",
    "    max_hole_w: int\n",
    "        hole filling cutoff for nuclei post-processing\n",
    "    small_obj_w: int\n",
    "        minimum object size cutoff for nuclei post-processing\n",
    "    sz_filter_method: str\n",
    "        method for size filtering; either \"3D\" or \"slice_by_slice\"\n",
    "\n",
    "    Returns\n",
    "    -------------\n",
    "    nuclei_object\n",
    "        mask defined extent of NU\n",
    "    \n",
    "    \"\"\"\n",
    "    ###################\n",
    "    # INPUT\n",
    "    ################### \n",
    "    nuc_ch = NUC_CH\n",
    "    nuclei = select_channel_from_raw(in_img, nuc_ch)\n",
    "\n",
    "\n",
    "    ###################\n",
    "    # PRE_PROCESSING\n",
    "    ###################                \n",
    "    nuclei = min_max_intensity_normalization(nuclei)\n",
    "    nuclei = median_filter_slice_by_slice(nuclei,\n",
    "                                          size=median_sz)\n",
    "    nuclei = image_smoothing_gaussian_slice_by_slice(nuclei,\n",
    "                                                     sigma=gauss_sig )\n",
    "\n",
    "\n",
    "    ###################\n",
    "    # CORE_PROCESSING\n",
    "    ###################\n",
    "    nuclei_object = apply_log_li_threshold(nuclei, \n",
    "                                           thresh_factor=thresh_factor, \n",
    "                                           thresh_min=thresh_min, \n",
    "                                           thresh_max=thresh_max)\n",
    "\n",
    "\n",
    "    ###################\n",
    "    # POST_PROCESSING\n",
    "    ###################\n",
    "    nuclei_object = hole_filling(nuclei_object, \n",
    "                                 hole_min=0, \n",
    "                                 hole_max=max_hole_w**2, \n",
    "                                 fill_2d=True)\n",
    "\n",
    "    nuclei_object = size_filter(nuclei_object, \n",
    "                                min_size = small_obj_w**3, \n",
    "                                method = sz_filter_method,\n",
    "                                connectivity=1)\n",
    "\n",
    "\n",
    "    return nuclei_object\n",
    "\n",
    "\n",
    "def _fixed_infer_nuclei_3D(in_img: np.ndarray) -> np.ndarray:\n",
    "    \"\"\"\n",
    "    Procedure to infer cellmask from linearly unmixed input, with a *fixed* set of parameters for each step in the procedure.  i.e. \"hard coded\"\n",
    "\n",
    "    Parameters\n",
    "    ------------\n",
    "    in_img: np.ndarray\n",
    "        a 3d image containing all the channels\n",
    "    soma_mask: np.ndarray\n",
    "        mask\n",
    " \n",
    "    Returns\n",
    "    -------------\n",
    "    nuclei_object\n",
    "        mask defined extent of NU\n",
    "    \n",
    "    \"\"\"\n",
    "\n",
    "    nuc_ch = NUC_CH\n",
    "    median_sz = 4   \n",
    "    gauss_sig = 1.34\n",
    "    threshold_factor = 0.9\n",
    "    thresh_min = 0.1\n",
    "    thresh_max = 1.0\n",
    "    max_hole_w = 5\n",
    "    small_obj_w = 15\n",
    "    sz_filter_method = \"3D\"\n",
    "\n",
    "    return _infer_nuclei_3D( in_img,\n",
    "                             median_sz,\n",
    "                             gauss_sig,\n",
    "                             threshold_factor,\n",
    "                             thresh_min,\n",
    "                             thresh_max,\n",
    "                             max_hole_w,\n",
    "                             small_obj_w,\n",
    "                             sz_filter_method )\n",
    "\n",
    "\n",
    "_NU_object =  _fixed_infer_nuclei_3D(img_data) \n",
    "NU_labels = label(_NU_object)"
   ]
  },
  {
   "attachments": {},
   "cell_type": "markdown",
   "metadata": {},
   "source": [
    "## GET CELLMASK\n",
    "\n",
    "Using function defined in 02_infer_cellmask_fromaggr_3D.ipynb"
   ]
  },
  {
   "cell_type": "code",
   "execution_count": 5,
   "metadata": {},
   "outputs": [],
   "source": [
    "def _raw_soma_MCZ(img_in):\n",
    "    \"\"\" define cellmask image\n",
    "    \"\"\"\n",
    "    SOMA_W = (6.,1.,2.)\n",
    "    SOMA_CH = (LYSO_CH,ER_CH,GOLGI_CH)\n",
    "    img_out = np.zeros_like(img_in[0]).astype(np.double)\n",
    "    for w,ch in zip(SOMA_W,SOMA_CH):\n",
    "        img_out += w*img_in[ch]\n",
    "    return img_out\n",
    "\n",
    "\n",
    "def _non_linear_soma_transform_MCZ(in_img):\n",
    "    \"\"\" non-linear distortion to fill out cellmask\n",
    "    log + edge of smoothed composite\n",
    "    \"\"\"\n",
    "    # non-Linear processing\n",
    "    log_img, d = log_transform(in_img.copy()) \n",
    "    return intensity_normalization(log_img,scaling_param=[0])\n",
    "\n",
    "\n",
    "def _masked_object_thresh(\n",
    "    structure_img_smooth: np.ndarray, th_method: str, cutoff_size: int, th_adjust: float\n",
    ") -> np.ndarray:\n",
    "    \"\"\"\n",
    "    wrapper for applying Masked Object Thresholding with just two parameters via `MO` from `aicssegmentation`\n",
    "    Parameters\n",
    "    ------------\n",
    "    structure_img_smooth: np.ndarray\n",
    "        a 3d image\n",
    "    th_method: \n",
    "         which method to use for calculating global threshold. Options include:\n",
    "         \"triangle\" (or \"tri\"), \"median\" (or \"med\"), and \"ave_tri_med\" (or \"ave\").\n",
    "         \"ave\" refers the average of \"triangle\" threshold and \"mean\" threshold.\n",
    "    cutoff_size: \n",
    "        Masked Object threshold `size_min`\n",
    "    th_adjust: \n",
    "        Masked Object threshold `local_adjust`\n",
    "\n",
    "    Returns\n",
    "    -------------\n",
    "        np.ndimage \n",
    "\n",
    "    \"\"\"\n",
    "\n",
    "    struct_obj = MO(\n",
    "        structure_img_smooth,\n",
    "        global_thresh_method=th_method,\n",
    "        object_minArea=cutoff_size,\n",
    "        extra_criteria=True,\n",
    "        local_adjust=th_adjust,\n",
    "        return_object=False,\n",
    "        dilate=True,\n",
    "    )\n",
    "    return struct_obj\n",
    "\n",
    "\n",
    "def _masked_inverted_watershed(img_in, markers, mask):\n",
    "    \"\"\"wrapper for watershed on inverted image and masked\n",
    "\n",
    "    \"\"\"\n",
    "    labels_out = watershed(\n",
    "                1. - img_in,\n",
    "                markers=markers,\n",
    "                connectivity=3,\n",
    "                mask=mask,\n",
    "                )\n",
    "    return labels_out\n",
    "\n",
    "\n",
    "def _choose_max_label(raw_signal: np.ndarray, labels_in: np.ndarray):\n",
    "    \"\"\" keep only the label with the maximum raw signal\n",
    "\n",
    "    \"\"\"\n",
    "\n",
    "    all_labels = np.unique(labels_in)[1:]\n",
    "\n",
    "    total_signal = [raw_signal[labels_in == label].sum() for label in all_labels]\n",
    "    # combine NU and \"labels\" to make a SOMA\n",
    "    keep_label = all_labels[np.argmax(total_signal)]\n",
    "\n",
    "    labels_max = np.zeros_like(labels_in)\n",
    "    labels_max[labels_in==keep_label] = 1\n",
    "    return labels_max"
   ]
  },
  {
   "cell_type": "code",
   "execution_count": 6,
   "metadata": {},
   "outputs": [
    {
     "name": "stdout",
     "output_type": "stream",
     "text": [
      "intensity normalization: min-max normalization with NO absoluteintensity upper bound\n"
     ]
    }
   ],
   "source": [
    "def _infer_cellmask_fromaggr_3D(in_img: np.ndarray,\n",
    "    nuclei_labels: np.ndarray,\n",
    "    median_sz_soma: int,\n",
    "    gauss_sig_soma: float,\n",
    "    gauss_truc_rang: float,\n",
    "    mo_method: str,\n",
    "    mo_adjust: float,\n",
    "    mo_cutoff_size: int,\n",
    "    max_hole_w_soma: int,\n",
    "    small_obj_w_soma: int\n",
    ") -> np.ndarray:\n",
    "    \"\"\"\n",
    "    Procedure to infer cellmask from linearly unmixed input.\n",
    "\n",
    "    Parameters\n",
    "    ------------\n",
    "    in_img: \n",
    "        a 3d image containing all the channels\n",
    "    nuclei_labels:\n",
    "        a 3d mask of nuclei\n",
    "    median_sz_soma: \n",
    "        width of median filter for _soma_ signal\n",
    "    gauss_sig_soma: \n",
    "        sigma for gaussian smoothing of _soma_ signal\n",
    "    gauss_truc_rang:\n",
    "        cutoff value for gaussian\n",
    "    mo_method: \n",
    "         which method to use for calculating global threshold. Options include:\n",
    "         \"triangle\" (or \"tri\"), \"median\" (or \"med\"), and \"ave_tri_med\" (or \"ave\").\n",
    "         \"ave\" refers the average of \"triangle\" threshold and \"mean\" threshold.\n",
    "    mo_adjust: \n",
    "        Masked Object threshold `local_adjust`\n",
    "    mo_cutoff_size: \n",
    "        Masked Object threshold `size_min`\n",
    "    max_hole_w_soma: \n",
    "        hole filling cutoff for cellmask signal post-processing\n",
    "    small_obj_w_soma: \n",
    "        minimu object size cutoff for cellmask signal post-processing\n",
    "\n",
    "    Returns\n",
    "    -------------\n",
    "    soma_mask:\n",
    "        a logical/labels object defining boundaries of cellmask\n",
    "\n",
    "    \"\"\"\n",
    "\n",
    "    ###################\n",
    "    # EXTRACT\n",
    "    ###################\n",
    "    struct_img = _raw_soma_MCZ(in_img)\n",
    "\n",
    "\n",
    "    ###################\n",
    "    # PRE_PROCESSING\n",
    "    ###################                         \n",
    "    ################# part 1- cellmask\n",
    "    struct_img = min_max_intensity_normalization(struct_img)\n",
    "\n",
    "    # make a copy for post-post processing\n",
    "    scaled_signal = struct_img.copy()\n",
    "\n",
    "    # Linear-ish processing\n",
    "    struct_img = median_filter_slice_by_slice(struct_img, \n",
    "                                              size=median_sz_soma)\n",
    "\n",
    "    struct_img = ndi.gaussian_filter(struct_img,\n",
    "                                     sigma=gauss_sig_soma,\n",
    "                                     mode=\"nearest\",\n",
    "                                     truncate=gauss_truc_rang)\n",
    "\n",
    "    struct_img_non_lin = _non_linear_soma_transform_MCZ(struct_img)\n",
    "   \n",
    "\n",
    "    ###################\n",
    "    # CORE_PROCESSING\n",
    "    ###################    \n",
    "    struct_obj = _masked_object_thresh(struct_img_non_lin, \n",
    "                                       th_method=mo_method, \n",
    "                                       cutoff_size=mo_cutoff_size, \n",
    "                                       th_adjust=mo_adjust)               \n",
    "\n",
    "\n",
    "    ###################\n",
    "    # POST_PROCESSING\n",
    "    ###################\n",
    "    struct_obj = hole_filling(struct_obj, \n",
    "                              hole_min =0 , \n",
    "                              hole_max=max_hole_w_soma**2, \n",
    "                              fill_2d = True) \n",
    "\n",
    "    struct_obj = size_filter_linear_size(struct_obj, \n",
    "                                min_size= small_obj_w_soma**3, \n",
    "                                connectivity=1)\n",
    "\n",
    "    labels_out = _masked_inverted_watershed(struct_obj, nuclei_labels, struct_obj)\n",
    "\n",
    "\n",
    "    ###################\n",
    "    # POST- POST_PROCESSING\n",
    "    ###################\n",
    "    # keep the \"SOMA\" label which contains the highest total signal\n",
    "    soma_out = _choose_max_label(struct_img, labels_out)\n",
    "\n",
    "    return soma_out\n",
    "\n",
    "\n",
    "def _fixed_infer_cellmask_fromaggr_3D(in_img: np.ndarray, nuclei_labels: np.ndarray) -> np.ndarray:\n",
    "    \"\"\"\n",
    "    Procedure to infer cellmask from linearly unmixed input, with a *fixed* set of parameters for each step in the procedure.  i.e. \"hard coded\"\n",
    "\n",
    "    Parameters\n",
    "    ------------\n",
    "    in_img: \n",
    "        a 3d image containing all the channels\n",
    "    nuclei_object:\n",
    "        a 3d mask of nuclei\n",
    "\n",
    "    Returns\n",
    "    -------------\n",
    "    soma_mask:\n",
    "        a logical/labels object defining boundaries of cellmask\n",
    "    \"\"\"\n",
    "    \n",
    "    ###################\n",
    "    # PARAMETERS\n",
    "    ###################   \n",
    "    median_sz_soma = 15\n",
    "    gauss_sig_soma = 1.34\n",
    "    gauss_truc_rang = 3.0\n",
    "    mo_method = \"ave\"\n",
    "    mo_adjust = 0.15\n",
    "    mo_cutoff_size = 50\n",
    "    max_hole_w_soma = 100\n",
    "    small_obj_w_soma = 45\n",
    "\n",
    "    soma_out = _infer_cellmask_fromaggr_3D(in_img,\n",
    "                              nuclei_labels,\n",
    "                              median_sz_soma,\n",
    "                              gauss_sig_soma,\n",
    "                              gauss_truc_rang,\n",
    "                              mo_method,\n",
    "                              mo_adjust,\n",
    "                              mo_cutoff_size,\n",
    "                              max_hole_w_soma,\n",
    "                              small_obj_w_soma) \n",
    "\n",
    "    return soma_out\n",
    "\n",
    "\n",
    "SO_label =  _fixed_infer_cellmask_fromaggr_3D(img_data, NU_labels) "
   ]
  },
  {
   "attachments": {},
   "cell_type": "markdown",
   "metadata": {},
   "source": [
    "## GET CYTOSOL MASK\n"
   ]
  },
  {
   "cell_type": "code",
   "execution_count": 7,
   "metadata": {},
   "outputs": [],
   "source": [
    "#selecting single nuclei that matches the single cytoplasm selected above\n",
    "NU_object = np.logical_and(SO_label,NU_labels)"
   ]
  },
  {
   "cell_type": "code",
   "execution_count": 8,
   "metadata": {},
   "outputs": [],
   "source": [
    "def _infer_cytoplasm(soma_mask, nuclei_object, erode_nuclei = True):\n",
    "    \"\"\"\n",
    "    Procedure to infer cytoplasm from linearly unmixed input.\n",
    "\n",
    "    Parameters\n",
    "    ------------\n",
    "    nuclei_object: \n",
    "        a 3d image containing the nuclei signal\n",
    "\n",
    "    soma_mask: \n",
    "        a 3d image containing the cellmask signal\n",
    "\n",
    "    erode_nuclei: \n",
    "        should we erode?\n",
    "\n",
    "    Returns\n",
    "    -------------\n",
    "    cytoplasm_mask \n",
    "        boolean np.ndarray\n",
    "      \n",
    "    \"\"\"\n",
    "\n",
    "    if erode_nuclei:\n",
    "        cytoplasm_mask = np.logical_and(soma_mask, ~binary_erosion(nuclei_object))\n",
    "        # cytoplasm_mask = np.logical_xor(soma_mask, binary_erosion(nuclei_object))\n",
    "    else:\n",
    "        cytoplasm_mask = np.logical_and(soma_mask, ~nuclei_object)\n",
    "        # cytoplasm_mask = np.logical_xor(soma_mask, nuclei_object)\n",
    "\n",
    "\n",
    "    return cytoplasm_mask\n",
    "\n",
    "\n",
    "cytoplasm_mask = _infer_cytoplasm(SO_label, NU_object) "
   ]
  },
  {
   "attachments": {},
   "cell_type": "markdown",
   "metadata": {},
   "source": [
    "---------------------\n",
    "\n",
    "## infer ***mitochondria***\n",
    "\n",
    "## summary of steps (Workflow #1 & #2)\n",
    "\n",
    "INPUT\n",
    "- channel  2\n",
    "- cytoplasm mask\n",
    "\n",
    "PRE-PROCESSING\n",
    "-  smoothe / remove noise\n",
    "\n",
    "CORE-PROCESSING\n",
    "-  'vesselness' enhancement\n",
    "-  threshold objects\n",
    "\n",
    "- POST-PROCESSING\n",
    "  - apply mask\n",
    "  - filter objects\n",
    "\n",
    "OUTPUT\n",
    "- inferred  ***mitochondria*** object\n",
    "\n",
    "\n",
    "Generally following the Allen Cell Segmenter procedure, but doing more aggressive contrast scaling than their prescribed contrast scaling.\n",
    "\n",
    "> Using Allen Cell Segmenter Tom20as a potential Mitochondria segmenter to start with  start from [Allen Cell](https://www.allencell.org/cell-observations/category/mitochondria).   using [seg_tomm20.py](\"../../../../aics-segmentation/aicssegmentation/structure_wrapper/seg_tomm20.py\")\n"
   ]
  },
  {
   "attachments": {},
   "cell_type": "markdown",
   "metadata": {},
   "source": [
    "## INPUT prototype"
   ]
  },
  {
   "cell_type": "code",
   "execution_count": 9,
   "metadata": {},
   "outputs": [],
   "source": [
    "\n",
    "###################\n",
    "# INPUT\n",
    "###################\n",
    "raw_mito = select_channel_from_raw(img_data, MITO_CH)"
   ]
  },
  {
   "cell_type": "code",
   "execution_count": 10,
   "metadata": {},
   "outputs": [],
   "source": [
    "viewer = napari.Viewer()"
   ]
  },
  {
   "cell_type": "code",
   "execution_count": 11,
   "metadata": {},
   "outputs": [
    {
     "data": {
      "text/plain": [
       "<Image layer 'raw_mito' at 0x21e38b39580>"
      ]
     },
     "execution_count": 11,
     "metadata": {},
     "output_type": "execute_result"
    }
   ],
   "source": [
    "viewer.add_image(\n",
    "    raw_mito,\n",
    "    scale=scale\n",
    ")"
   ]
  },
  {
   "attachments": {},
   "cell_type": "markdown",
   "metadata": {},
   "source": [
    "## PRE-PROCESSING prototype\n"
   ]
  },
  {
   "cell_type": "code",
   "execution_count": 12,
   "metadata": {},
   "outputs": [],
   "source": [
    "###################\n",
    "# PRE_PROCESSING\n",
    "###################\n",
    "\n",
    "# intensity_norm_param = [0, 9] # from Allen Cell Segmenter LAMP1  workflow\n",
    "# struct_img = intensity_normalization( raw_mito ,  scaling_param=intensity_norm_param)\n",
    "\n",
    "mito_norm = min_max_intensity_normalization(raw_mito)\n"
   ]
  },
  {
   "cell_type": "code",
   "execution_count": 13,
   "metadata": {},
   "outputs": [],
   "source": [
    "\n",
    "med_filter_size = 3  \n",
    "mito_med = median_filter_slice_by_slice(mito_norm,   \n",
    "                                          size=med_filter_size)\n",
    "\n",
    "gaussian_smoothing_sigma = 1.34\n",
    "mito_gaus = image_smoothing_gaussian_slice_by_slice(mito_med,\n",
    "                                                               sigma=gaussian_smoothing_sigma)\n",
    "\n",
    "# log_img, d = log_transform( structure_img_smooth ) \n",
    "# struct_img = intensity_normalization(  log_img  ,  scaling_param=[0] )  \n",
    "\n",
    "struct_img = mito_gaus"
   ]
  },
  {
   "cell_type": "code",
   "execution_count": 14,
   "metadata": {},
   "outputs": [
    {
     "data": {
      "text/plain": [
       "<Image layer 'mito_gaus' at 0x21e4040f9d0>"
      ]
     },
     "execution_count": 14,
     "metadata": {},
     "output_type": "execute_result"
    }
   ],
   "source": [
    "viewer.add_image(\n",
    "    mito_med,\n",
    "    scale=scale\n",
    ")\n",
    "viewer.add_image(\n",
    "    mito_gaus,\n",
    "    scale=scale\n",
    ")"
   ]
  },
  {
   "attachments": {},
   "cell_type": "markdown",
   "metadata": {},
   "source": [
    "## CORE PROCESSING prototype"
   ]
  },
  {
   "cell_type": "code",
   "execution_count": 25,
   "metadata": {},
   "outputs": [],
   "source": [
    "###################\n",
    "# CORE_PROCESSING\n",
    "###################\n",
    "vesselness_sigma = [1] \n",
    "vesselness_cutoff = 0.01\n",
    "bw = vesselness3D(struct_img, \n",
    "                  sigmas=vesselness_sigma, \n",
    "                  cutoff=vesselness_cutoff, \n",
    "                  tau=1)"
   ]
  },
  {
   "cell_type": "code",
   "execution_count": 26,
   "metadata": {},
   "outputs": [
    {
     "data": {
      "text/plain": [
       "<Image layer 'bw' at 0x21e3c966d30>"
      ]
     },
     "execution_count": 26,
     "metadata": {},
     "output_type": "execute_result"
    }
   ],
   "source": [
    "viewer.add_image(\n",
    "    bw,\n",
    "    scale=scale\n",
    ")"
   ]
  },
  {
   "attachments": {},
   "cell_type": "markdown",
   "metadata": {},
   "source": [
    "## POST-PROCESSING prototype"
   ]
  },
  {
   "cell_type": "code",
   "execution_count": 37,
   "metadata": {},
   "outputs": [],
   "source": [
    "\n",
    "# # 3D\n",
    "###################\n",
    "# POST_PROCESSING\n",
    "###################\n",
    "\n",
    "################################\n",
    "\n",
    "mito_masked = apply_mask(bw,cytoplasm_mask)\n",
    "\n",
    "small_object_width = 3\n",
    "mito_object = size_filter_linear_size(mito_object, \n",
    "                                                min_size= small_object_width**2, \n",
    "                                                connectivity=1)\n"
   ]
  },
  {
   "cell_type": "markdown",
   "metadata": {},
   "source": [
    "#### Visualize with `napari`\n",
    "Visualize the first-pass segmentation and labeling with `napari`."
   ]
  },
  {
   "cell_type": "code",
   "execution_count": 38,
   "metadata": {},
   "outputs": [
    {
     "data": {
      "text/plain": [
       "<Labels layer 'mito_objects' at 0x21e404e01c0>"
      ]
     },
     "execution_count": 38,
     "metadata": {},
     "output_type": "execute_result"
    }
   ],
   "source": [
    "viewer.add_image(\n",
    "    mito_masked,\n",
    "    scale=scale\n",
    ")\n",
    "\n",
    "viewer.add_image(\n",
    "    mito_mask,\n",
    "    scale=scale\n",
    ")\n",
    "\n",
    "viewer.add_labels(\n",
    "    mito_objects,\n",
    "    scale=scale\n",
    ")"
   ]
  },
  {
   "attachments": {},
   "cell_type": "markdown",
   "metadata": {},
   "source": [
    "## DEFINE `infer_mito` function\n",
    "\n",
    "Based on the _prototyping_ above define the function to infer the mitochondria.  \n"
   ]
  },
  {
   "cell_type": "code",
   "execution_count": 46,
   "metadata": {},
   "outputs": [],
   "source": [
    "##########################\n",
    "#  infer_mito\n",
    "##########################\n",
    "def _infer_mito(\n",
    "                                in_img: np.ndarray,\n",
    "                                cytoplasm_mask: np.ndarray,\n",
    "                                median_sz: int,\n",
    "                                gauss_sig: float,\n",
    "                                vesselness_scale : float,\n",
    "                                vesselness_cut : float,\n",
    "                                small_obj_w: int,\n",
    "                            ) -> np.ndarray:\n",
    "    \"\"\"\n",
    "    Procedure to infer mitochondria from linearly unmixed input.\n",
    "\n",
    "    Parameters\n",
    "    ------------\n",
    "    in_img:\n",
    "        a 3d image containing all the channels\n",
    "    soma_mask: \n",
    "        mask default-None\n",
    "    median_sz: \n",
    "        width of median filter for signal\n",
    "    gauss_sig: \n",
    "        sigma for gaussian smoothing of  signal\n",
    "    vesselness_scale: \n",
    "        scale (log_sigma) for vesselness filter\n",
    "    vesselness_cut: \n",
    "        threshold for vesselness fitered threshold\n",
    "    small_obj_w: \n",
    "        minimu object size cutoff for nuclei post-processing\n",
    "\n",
    "    Returns\n",
    "    -------------\n",
    "    mito_object\n",
    "        mask defined extent of mitochondria object\n",
    "    \n",
    "    \"\"\"\n",
    "    mito_ch = MITO_CH\n",
    "   \n",
    "    ###################\n",
    "    # PRE_PROCESSING\n",
    "    ###################                         \n",
    "    mito = select_channel_from_raw(in_img, MITO_CH)\n",
    "\n",
    "    mito = min_max_intensity_normalization(mito)\n",
    "\n",
    "    mito = median_filter_slice_by_slice(mito, size=median_sz)\n",
    "\n",
    "    struct_img = image_smoothing_gaussian_slice_by_slice( mito, sigma=gauss_sig )\n",
    "\n",
    "    ###################   \n",
    "    # CORE_PROCESSING\n",
    "    ###################\n",
    "    struct_img = vesselness3D(struct_img, sigmas=[vesselness_scale], cutoff=vesselness_cut, tau=1)\n",
    "\n",
    "    ###################\n",
    "    # POST_PROCESSING\n",
    "    ###################\n",
    "    struct_obj = apply_mask(struct_img, cytoplasm_mask)\n",
    "\n",
    "    struct_obj = size_filter_linear_size(struct_obj, min_size=small_obj_w**2, connectivity=1)\n",
    "\n",
    "    return struct_obj\n",
    "\n"
   ]
  },
  {
   "attachments": {},
   "cell_type": "markdown",
   "metadata": {},
   "source": [
    "## DEFINE `_fixed_infer_mito` function\n"
   ]
  },
  {
   "cell_type": "code",
   "execution_count": 47,
   "metadata": {},
   "outputs": [],
   "source": [
    "\n",
    "\n",
    "##########################\n",
    "#  fixed_infer_mito\n",
    "##########################\n",
    "def _fixed_infer_mito(in_img: np.ndarray, \n",
    "                                                cytoplasm_mask: Optional[np.ndarray] = None\n",
    "                                            ) -> np.ndarray:\n",
    "    \"\"\"\n",
    "    Procedure to infer mitochondria from linearly unmixed input,\n",
    "    \n",
    "    Parameters\n",
    "    ------------\n",
    "    in_img: \n",
    "        a 3d image containing all the channels\n",
    "    cytoplasm_mask: \n",
    "        mask\n",
    "\n",
    "    Returns\n",
    "    -------------\n",
    "    mito_object\n",
    "        mask defined extent of mitochondria\n",
    "    \"\"\"\n",
    "    median_sz = 3\n",
    "    gauss_sig = 1.34\n",
    "    vesselness_scale = 1\n",
    "    vesselness_cut = 0.01\n",
    "    small_obj_w = 1\n",
    "\n",
    "    return _infer_mito(  \n",
    "                                in_img,\n",
    "                                cytoplasm_mask,\n",
    "                                median_sz,\n",
    "                                gauss_sig,\n",
    "                                vesselness_scale,                                \n",
    "                                vesselness_cut,\n",
    "                                small_obj_w\n",
    "                                )\n",
    "\n"
   ]
  },
  {
   "attachments": {},
   "cell_type": "markdown",
   "metadata": {},
   "source": [
    "------------------\n",
    "\n",
    "# TEST `infer_mito` function"
   ]
  },
  {
   "cell_type": "code",
   "execution_count": 48,
   "metadata": {},
   "outputs": [],
   "source": [
    "\n",
    "_mito_object =  _fixed_infer_mito(img_data, cytoplasm_mask) "
   ]
  },
  {
   "cell_type": "code",
   "execution_count": 49,
   "metadata": {},
   "outputs": [
    {
     "data": {
      "text/plain": [
       "<Image layer '_mito_object' at 0x21e40078370>"
      ]
     },
     "execution_count": 49,
     "metadata": {},
     "output_type": "execute_result"
    }
   ],
   "source": [
    "viewer.add_image(\n",
    "    _mito_object,\n",
    "    scale=scale\n",
    ")"
   ]
  },
  {
   "attachments": {},
   "cell_type": "markdown",
   "metadata": {},
   "source": [
    "2D-TO-3D STOPPED HERE"
   ]
  },
  {
   "cell_type": "code",
   "execution_count": null,
   "metadata": {},
   "outputs": [],
   "source": [
    "from infer_subc.organelles import fixed_infer_mito\n",
    "\n",
    "mito_object =  fixed_infer_mito(img_2D, cytoplasm_mask) "
   ]
  },
  {
   "attachments": {},
   "cell_type": "markdown",
   "metadata": {},
   "source": [
    "## Visualize  2\n"
   ]
  },
  {
   "cell_type": "code",
   "execution_count": null,
   "metadata": {},
   "outputs": [
    {
     "data": {
      "text/plain": [
       "<Image layer 'mito_object [3]' at 0x17c759400>"
      ]
     },
     "execution_count": 67,
     "metadata": {},
     "output_type": "execute_result"
    }
   ],
   "source": [
    "\n",
    "viewer.add_image(\n",
    "    mito_object,\n",
    "    scale=scale\n",
    ")\n"
   ]
  },
  {
   "cell_type": "code",
   "execution_count": null,
   "metadata": {},
   "outputs": [
    {
     "data": {
      "text/plain": [
       "<Image layer '_mito_object [2]' at 0x17d257280>"
      ]
     },
     "execution_count": 68,
     "metadata": {},
     "output_type": "execute_result"
    }
   ],
   "source": [
    "\n",
    "viewer.add_image(\n",
    "    _mito_object,\n",
    "    scale=scale\n",
    ")\n"
   ]
  },
  {
   "cell_type": "code",
   "execution_count": null,
   "metadata": {},
   "outputs": [
    {
     "data": {
      "text/plain": [
       "<Labels layer 'Labels' at 0x17d257ca0>"
      ]
     },
     "execution_count": 69,
     "metadata": {},
     "output_type": "execute_result"
    }
   ],
   "source": [
    "\n",
    "viewer.add_labels(\n",
    "    label(mito_object),\n",
    "    scale=scale\n",
    ")"
   ]
  },
  {
   "cell_type": "code",
   "execution_count": null,
   "metadata": {},
   "outputs": [
    {
     "data": {
      "image/png": "[encoded data removed]",
      "text/html": [
       "<img src=\"data:image/png;base64,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\"></img>"
      ],
      "text/plain": [
       "<napari.utils.notebook_display.NotebookScreenshot at 0x181224970>"
      ]
     },
     "execution_count": 70,
     "metadata": {},
     "output_type": "execute_result"
    }
   ],
   "source": [
    "from napari.utils.notebook_display import nbscreenshot\n",
    "\n",
    "# viewer.dims.ndisplay = 3\n",
    "# viewer.camera.angles = (-30, 25, 120)\n",
    "nbscreenshot(viewer, canvas_only=True)"
   ]
  },
  {
   "cell_type": "code",
   "execution_count": 16,
   "metadata": {},
   "outputs": [],
   "source": [
    "viewer.close()"
   ]
  },
  {
   "attachments": {},
   "cell_type": "markdown",
   "metadata": {},
   "source": [
    "-----------------\n",
    "Write the `infer_lyso` spec to the widget json "
   ]
  },
  {
   "cell_type": "code",
   "execution_count": null,
   "metadata": {},
   "outputs": [
    {
     "name": "stdout",
     "output_type": "stream",
     "text": [
      "function fixed_infer_mito is already in all_functions.json\n",
      "overwriting  fixed_infer_mito\n"
     ]
    },
    {
     "data": {
      "text/plain": [
       "1"
      ]
     },
     "execution_count": 1,
     "metadata": {},
     "output_type": "execute_result"
    }
   ],
   "source": [
    "from infer_subc.organelles_config.helper import add_function_spec_to_widget_json\n",
    "\n",
    "_fixed_infer_mito =  {\n",
    "        \"name\": \"infer mitochondria  (fixed parameters)\",\n",
    "        \"python::module\": \"infer_subc.organelles\",\n",
    "        \"python::function\": \"fixed_infer_mito\",\n",
    "        \"parameters\": None\n",
    "        }\n",
    "\n",
    "add_function_spec_to_widget_json(\"fixed_infer_mito\",_fixed_infer_mito, overwrite=True)"
   ]
  },
  {
   "cell_type": "code",
   "execution_count": null,
   "metadata": {},
   "outputs": [
    {
     "name": "stdout",
     "output_type": "stream",
     "text": [
      "function infer_mito is already in all_functions.json\n",
      "overwriting  infer_mito\n"
     ]
    },
    {
     "data": {
      "text/plain": [
       "1"
      ]
     },
     "execution_count": 78,
     "metadata": {},
     "output_type": "execute_result"
    }
   ],
   "source": [
    "\n",
    "_infer_mito =  {\n",
    "        \"name\": \"infer mitochondria\",\n",
    "        \"python::module\": \"infer_subc.organelles\",\n",
    "        \"python::function\": \"infer_mito\",\n",
    "        \"parameters\": {\n",
    "                \"median_sz\": {\n",
    "                        \"widget_type\": \"slider\",\n",
    "                        \"data_type\": \"int\",\n",
    "                        \"min\": 3,\n",
    "                        \"max\": 15,\n",
    "                        \"increment\": 1\n",
    "                },\n",
    "                \"gauss_sig\": {\n",
    "                        \"data_type\": \"float\",\n",
    "                        \"increment\": 0.25,\n",
    "                        \"max\": 15.0,\n",
    "                        \"min\": 1.25,\n",
    "                        \"widget_type\": \"slider\"\n",
    "                },\n",
    "                \"vesselness_scale\": {\n",
    "                        \"data_type\": \"float\",\n",
    "                        \"increment\": 0.05,\n",
    "                        \"max\": 10,\n",
    "                        \"min\": 0,\n",
    "                        \"widget_type\": \"slider\"\n",
    "                },\n",
    "                \"vesselness_cut\": {\n",
    "                        \"data_type\": \"float\",\n",
    "                        \"increment\": 0.001,\n",
    "                        \"max\": 0.5,\n",
    "                        \"min\": 0,\n",
    "                        \"widget_type\": \"slider\"\n",
    "                },\n",
    "                \"small_obj_w\": {\n",
    "                        \"data_type\": \"int\",\n",
    "                        \"increment\": 1,\n",
    "                        \"max\": 50,\n",
    "                        \"min\": 1,\n",
    "                        \"widget_type\": \"slider\"\n",
    "                }\n",
    "        }\n",
    "}\n",
    "\n",
    "add_function_spec_to_widget_json(\"infer_mito\", _infer_mito, overwrite=True )\n",
    "\n"
   ]
  },
  {
   "attachments": {},
   "cell_type": "markdown",
   "metadata": {},
   "source": [
    "##  helper function definitions\n",
    "\n",
    "Wrappers for vessleness filters"
   ]
  },
  {
   "cell_type": "code",
   "execution_count": null,
   "metadata": {},
   "outputs": [
    {
     "name": "stdout",
     "output_type": "stream",
     "text": [
      "function vesselness_slice_by_slice is already in all_functions.json\n",
      "overwriting  vesselness_slice_by_slice\n"
     ]
    },
    {
     "data": {
      "text/plain": [
       "1"
      ]
     },
     "execution_count": 79,
     "metadata": {},
     "output_type": "execute_result"
    }
   ],
   "source": [
    "\n",
    "_vesselness_slice_by_slice =  {\n",
    "        \"name\": \"vesselness filter (e.g. mitochondria)\",\n",
    "        \"python::module\": \"infer_subc.core.img\",\n",
    "        \"python::function\": \"vesselness_slice_by_slice\",\n",
    "        \"parameters\": {\n",
    "            \"sigma\": [\n",
    "                {\n",
    "                    \"widget_type\": \"slider\",\n",
    "                    \"data_type\": \"float\",\n",
    "                    \"min\": 0.5,\n",
    "                    \"max\": 5,\n",
    "                    \"increment\": 0.5\n",
    "                }\n",
    "            ],\n",
    "            \"cutoff\": {\n",
    "                \"widget_type\": \"slider\",\n",
    "                \"data_type\": \"float\",\n",
    "                \"min\": 0.005,\n",
    "                \"max\": 0.5,\n",
    "                \"increment\": 0.005\n",
    "            }\n",
    "        }\n",
    "    }\n",
    "\n",
    "add_function_spec_to_widget_json(\"vesselness_slice_by_slice\", _vesselness_slice_by_slice, overwrite=True)\n"
   ]
  },
  {
   "attachments": {},
   "cell_type": "markdown",
   "metadata": {},
   "source": [
    "-------------------------------\n",
    "## Write workflow .json\n",
    "Now that we've added our function specs we can compose workflows."
   ]
  },
  {
   "cell_type": "code",
   "execution_count": null,
   "metadata": {},
   "outputs": [],
   "source": [
    "from infer_subc.constants import MITO_CH \n",
    "\n",
    "def make_infer_mito_step_by_step_from_raw_dict():\n",
    "    \"\"\"\n",
    "    Procedure to infer mitochondria from linearly unmixed input from raw\n",
    "\n",
    "    \"\"\"\n",
    "    step_name = []\n",
    "    function_name = []\n",
    "    category =[]\n",
    "    parameter_values = []\n",
    "    parent = []\n",
    "   \n",
    "    ###################\n",
    "    # EXTRACT\n",
    "    ###################   \n",
    "    step_name = []\n",
    "    function_name = []\n",
    "    category =[]\n",
    "    parameter_values = []\n",
    "    parent = []\n",
    "   \n",
    "    ###################\n",
    "    # EXTRACT\n",
    "    ###################   \n",
    "\n",
    "    step_name.append(\"1\")\n",
    "    function_name.append(\"fixed_get_optimal_Z_img\")\n",
    "    category.append(\"extraction\")\n",
    "    parameter_values.append(None)\n",
    "    parent.append(0)\n",
    "\n",
    "    step_name.append(\"2\")\n",
    "    function_name.append(\"fixed_infer_cellmask_fromaggr\")\n",
    "    category.append(\"extraction\")\n",
    "    parameter_values.append( None )\n",
    "    parent.append(1)\n",
    "\n",
    "    step_name.append(\"3\")\n",
    "    function_name.append(\"fixed_infer_nuclei\")\n",
    "    category.append(\"extraction\")\n",
    "    parameter_values.append( None )\n",
    "    parent.append([1,2])\n",
    "\n",
    "    step_name.append(\"4\")\n",
    "    function_name.append(\"infer_cytoplasm\")\n",
    "    category.append(\"extraction\")\n",
    "    parameter_values.append(dict(erode_nuclei = True ))\n",
    "    parent.append([2,3])\n",
    "\n",
    "    step_name.append(\"5\")\n",
    "    function_name.append(\"select_channel_from_raw\")\n",
    "    category.append(\"extraction\")\n",
    "    parameter_values.append( dict(chan = MITO_CH) )\n",
    "    parent.append(1)\n",
    "\n",
    "    \n",
    "    step_name.append(\"6\")\n",
    "    function_name.append(\"min_max_intensity_normalization\")\n",
    "    category.append(\"preprocessing\")\n",
    "    parameter_values.append(None)\n",
    "    parent.append(5)\n",
    "\n",
    "    step_name.append(\"7\")\n",
    "    function_name.append(\"median_filter_slice_by_slice\")\n",
    "    category.append(\"preprocessing\")\n",
    "    parameter_values.append(dict(size = 3 ))\n",
    "    parent.append(6)\n",
    "\n",
    "    step_name.append(\"8\")\n",
    "    function_name.append(\"image_smoothing_gaussian_slice_by_slice\")\n",
    "    category.append(\"preprocessing\")\n",
    "    parameter_values.append(dict( sigma = 1.34 ))\n",
    "    parent.append(7)\n",
    "\n",
    "\n",
    "    step_name.append(\"9\")\n",
    "    function_name.append(\"vesselness_slice_by_slice\") \n",
    "    category.append(\"core\")\n",
    "    parameter_values.append( dict( sigma=1.5, cutoff=0.05) )\n",
    "    parent.append(8)\n",
    "\n",
    "\n",
    "    step_name.append(\"10\")\n",
    "    function_name.append(\"apply_mask\")\n",
    "    category.append(\"postprocessing\")\n",
    "    parameter_values.append(None)\n",
    "    parent.append([9,4])\n",
    "\n",
    "    step_name.append(\"11\")\n",
    "    function_name.append(\"size_filter_linear_size\")\n",
    "    category.append(\"postprocessing\")\n",
    "    parameter_values.append(dict( min_size = 3**2  ))\n",
    "    parent.append(10)\n",
    "\n",
    "    out_dict = dict()\n",
    "    for i,stepn in enumerate(step_name):\n",
    "        entry = dict(category=category[i],\n",
    "                            function=function_name[i],\n",
    "                            parameter_values=parameter_values[i],\n",
    "                            parent=parent[i]\n",
    "        )\n",
    "        if entry['parameter_values'] is None:\n",
    "            _ = entry.pop('parameter_values')\n",
    "        out_dict[stepn] = entry\n",
    "    \n",
    "    return out_dict\n",
    "\n"
   ]
  },
  {
   "cell_type": "code",
   "execution_count": null,
   "metadata": {},
   "outputs": [
    {
     "data": {
      "text/plain": [
       "PosixPath('/Users/ahenrie/Projects/Imaging/infer-subc/infer_subc/organelles_config/conf_1.5.mito_stepbystep_from_raw.json')"
      ]
     },
     "execution_count": 82,
     "metadata": {},
     "output_type": "execute_result"
    }
   ],
   "source": [
    "from infer_subc.organelles_config.helper import write_workflow_json\n",
    "\n",
    "infer_mito_stepbystep_from_raw_dict = make_infer_mito_step_by_step_from_raw_dict()\n",
    "\n",
    "write_workflow_json(\"conf_1.5.mito_stepbystep_from_raw\", infer_mito_stepbystep_from_raw_dict)"
   ]
  },
  {
   "attachments": {},
   "cell_type": "markdown",
   "metadata": {},
   "source": [
    "-------------\n",
    "## SUMMARY\n",
    "\n",
    "The above details how the mitochondria object is inferred.  \n",
    "\n",
    "### NEXT: INFER GOLGI\n",
    "\n",
    "proceed to [06_infer_golgi.ipynb](./06_infer_golgi.ipynb)\n"
   ]
  },
  {
   "cell_type": "markdown",
   "metadata": {},
   "source": [
    "---------------------\n",
    "\n",
    " 🚧 WIP 🚧 (🚨🚨🚨🚨 )\n",
    "\n",
    "# PUTATIVE ALTERNATE WORKFLOW #2 (WIP)\n",
    "as per 6/22 CellProfiler pipeline from MCZ\n",
    " > ADAPTIVE... not sure exactly how to impliment this...\n",
    "\n",
    "  >ReduceNoise performs non-local means noise reduction. Instead of only using a neighborhood of pixels around a central pixel for denoising, such as in GaussianFilter, multiple neighborhoods are pooled together. The neighborhood pool is determined by scanning the image for regions similar to the area around the central pixel using a correlation metric and a cutoff value.\n",
    "   \n",
    "## summary of steps (Workflow #1 & #2)\n",
    "\n",
    "INPUT\n",
    "- ch 3\n",
    "- CY mask\n",
    "\n",
    "PRE-PROCESSING\n",
    "-  non-local noise reduction\n",
    "  - size:4, distance:2, cut-off:0.1\n",
    "\n",
    "CORE-PROCESSING\n",
    "  - adaptive Otsu\n",
    "    - diameter: (2,200)\n",
    "  - two classes\n",
    "    - threshold smoothing scale: 0\n",
    "    - threshold correction factor: .1\n",
    "    - threshold bounds: (0.14 1)\n",
    "    - adaptive window: 20 pixels\n",
    "\n",
    "POST-PROCESSING\n",
    "  - N/A\n",
    "\n",
    "\n",
    "\n"
   ]
  },
  {
   "cell_type": "markdown",
   "metadata": {},
   "source": [
    "### INPUT"
   ]
  },
  {
   "cell_type": "code",
   "execution_count": null,
   "metadata": {},
   "outputs": [],
   "source": [
    "\n",
    "###################\n",
    "# INPUT\n",
    "###################\n",
    "raw_mito    = img_2D[2].copy()\n",
    "\n",
    "# mask object\n",
    "masked_mito = apply_mask(raw_mito,CY_object)\n"
   ]
  },
  {
   "cell_type": "markdown",
   "metadata": {},
   "source": [
    "### PRE-PROCESSING"
   ]
  },
  {
   "cell_type": "code",
   "execution_count": null,
   "metadata": {},
   "outputs": [],
   "source": [
    "###################\n",
    "# PRE_PROCESSING\n",
    "###################\n",
    "\n",
    "intensity_norm_param = [0] # \n",
    "\n",
    "# Linear-ish smoothing\n",
    "raw_mito = intensity_normalization( masked_mito ,  scaling_param=intensity_norm_param)\n",
    "\n",
    "med_filter_size =3  \n",
    "\n",
    "gaussian_smoothing_sigma = 1.3\n",
    "gaussian_smoothing_truncate_range = 3.0\n",
    "\n",
    "struct_img = median_filter(raw_mito,    size=med_filter_size  )\n",
    "\n",
    "structure_img_smooth = image_smoothing_gaussian_slice_by_slice(   struct_img,\n",
    "                                                                                                                        sigma=gaussian_smoothing_sigma,\n",
    "                                                                                                                        truncate_range=gaussian_smoothing_truncate_range,\n",
    "                                                                                                                    )\n",
    "\n",
    "\n",
    "# log_img, d = log_transform( structure_img_smooth ) \n",
    "# struct_img = intensity_normalization(  log_img  ,  scaling_param=[0] )  \n",
    "\n",
    "struct_img = structure_img_smooth"
   ]
  },
  {
   "cell_type": "markdown",
   "metadata": {},
   "source": [
    "### CORE PROCESSING"
   ]
  },
  {
   "cell_type": "code",
   "execution_count": null,
   "metadata": {},
   "outputs": [],
   "source": [
    "###################\n",
    "# CORE_PROCESSING\n",
    "###################\n",
    "# enhance spreckles - 40\n",
    "big_struct_rad = 40\n",
    "big_img = enhance_speckles(struct_img.copy(),big_struct_rad, True)\n",
    "\n",
    "#adaptive_otsu(big_struct) # three class - middle foreground\n",
    "# adaptive window- 20\n",
    "#size: 10,100\n",
    "# threshold smooth 1.34\n",
    "# threshold correction 1\n",
    "# threshold (0.1497,1)\n",
    "#fill holes\n",
    "# \"adatpive\" thresholds are NOT currently working... will use      \n",
    "# \"Masked Object Thresholding\" - 3D\n",
    "low_level_min_size = 10\n",
    "bw_big, _bw_low_level = MO(big_img, \n",
    "                                                global_thresh_method='ave', \n",
    "                                                object_minArea=low_level_min_size, \n",
    "                                                extra_criteria=True,\n",
    "                                                local_adjust= 0.5, \n",
    "                                                return_object=True,\n",
    "                                                dilate=True)"
   ]
  },
  {
   "cell_type": "code",
   "execution_count": null,
   "metadata": {},
   "outputs": [],
   "source": [
    "\n",
    "# enhance speckles\n",
    "#   adaptive_sauvola(sm_struct) \n",
    "# adaptive window- 10\n",
    "#size: 2,10\n",
    "# threshold smooth 1.34\n",
    "# threshold correction 1\n",
    "# threshold (0.05,1)\n",
    "#fill holes\n",
    "\n",
    "# enhance spreckles - 10\n",
    "sm_struct_rad = 20\n",
    "sm_img = enhance_speckles(struct_img.copy(),sm_struct_rad, True)\n",
    "\n",
    "# \"adatpive\" thresholds are NOT currently working... will use      \n",
    "# \"Masked Object Thresholding\" - 3D\n",
    "low_level_min_size = 2\n",
    "bw_sm, _bw_low_level = MO(sm_img, \n",
    "                                                global_thresh_method='ave', \n",
    "                                                object_minArea=low_level_min_size, \n",
    "                                                extra_criteria=True,\n",
    "                                                local_adjust= 0.5, \n",
    "                                                return_object=True,\n",
    "                                                dilate=True)\n",
    " # or this?                                               \n",
    "#    struct_obj = struct_img > filters.threshold_otsu(struct_img)\n",
    "#     threshold_value_log = threshold_otsu_log(struct_img)\n",
    "#     thresh_factor = 0.9 #from cellProfiler\n",
    "#     thresh_min = .1\n",
    "#     thresh_max = 1.\n",
    "#     threshold = min( max(threshold_value_log*thresh_factor, thresh_min), thresh_max)\n",
    "#     struct_obj = struct_img > threshold\n",
    "\n"
   ]
  },
  {
   "cell_type": "markdown",
   "metadata": {},
   "source": [
    "### POST-PROCESSING"
   ]
  },
  {
   "cell_type": "code",
   "execution_count": null,
   "metadata": {},
   "outputs": [],
   "source": [
    "###################\n",
    "# POST_PROCESSING\n",
    "###################\n",
    "\n",
    "\n",
    "# 3D\n",
    "# cleaned_img = remove_small_objects(removed_holes>0, \n",
    "#                                                             min_size=minArea, \n",
    "#                                                             connectivity=1, \n",
    "#                                                             in_place=False)\n",
    "small_object_width = 10\n",
    "cleaned_img_big = size_filter(bw_big, # wrapper to remove_small_objects which can do slice by slice\n",
    "                                                         min_size= small_object_width**2,\n",
    "                                                         method = \"slice_by_slice\",\n",
    "                                                         connectivity=1)\n",
    "\n",
    "\n",
    "#                                                             in_place=False)\n",
    "small_object_width = 2\n",
    "cleaned_img_sm = size_filter(bw_sm, # wrapper to remove_small_objects which can do slice by slice\n",
    "                                                         min_size= small_object_width**2,\n",
    "                                                         method = \"slice_by_slice\",\n",
    "                                                         connectivity=1)\n",
    "\n",
    "\n",
    "\n",
    "cleaned_img = np.logical_or(cleaned_img_big, cleaned_img_sm)\n",
    "\n"
   ]
  }
 ],
 "metadata": {
  "kernelspec": {
   "display_name": "infer-subc",
   "language": "python",
   "name": "python3"
  },
  "language_info": {
   "codemirror_mode": {
    "name": "ipython",
    "version": 3
   },
   "file_extension": ".py",
   "mimetype": "text/x-python",
   "name": "python",
   "nbconvert_exporter": "python",
   "pygments_lexer": "ipython3",
   "version": "3.9.15"
  },
  "orig_nbformat": 4,
  "vscode": {
   "interpreter": {
    "hash": "182b63330db9794b59aa776c624821fb477d854325ad145fa5385f0d56c0c6f3"
   }
  }
 },
 "nbformat": 4,
 "nbformat_minor": 2
}
