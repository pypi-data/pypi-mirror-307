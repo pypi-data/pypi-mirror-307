{
 "cells": [
  {
   "attachments": {},
   "cell_type": "markdown",
   "metadata": {},
   "source": [
    "# Infer ***lipid droplets*** - part 9️⃣\n",
    "\n",
    "--------------\n",
    "OBJECTIVE: ✅ Infer sub-cellular component ***lipid droplets***  in order to understand interactome \n",
    "\n",
    "\n",
    "\n",
    "Dependencies:\n",
    "The  ***lipid droplets***  inference rely on the **cytoplasm** mask. \n"
   ]
  },
  {
   "attachments": {},
   "cell_type": "markdown",
   "metadata": {},
   "source": [
    "## preamble\n",
    "\n",
    "1. imports\n",
    "2. setup\n",
    "3. infer nuclei mask\n",
    "4. infer cellmask mask\n",
    "5. infer cytoplasm mask\n",
    "6. infer lipid droplets\n",
    "    * pre-processing\n",
    "    * core processing\n",
    "    * post processing"
   ]
  },
  {
   "cell_type": "markdown",
   "metadata": {},
   "source": [
    "\n",
    "## IMPORTS"
   ]
  },
  {
   "cell_type": "code",
   "execution_count": 6,
   "metadata": {},
   "outputs": [
    {
     "name": "stdout",
     "output_type": "stream",
     "text": [
      "The autoreload extension is already loaded. To reload it, use:\n",
      "  %reload_ext autoreload\n"
     ]
    }
   ],
   "source": [
    "# top level imports\n",
    "from pathlib import Path\n",
    "import os, sys\n",
    "from typing import Optional\n",
    "import numpy as np\n",
    "from typing import Optional\n",
    "\n",
    "\n",
    "from aicssegmentation.core.pre_processing_utils import image_smoothing_gaussian_slice_by_slice, intensity_normalization\n",
    "from aicssegmentation.core.utils import hole_filling\n",
    "from skimage.measure import label\n",
    "\n",
    "# # package for io \n",
    "from aicsimageio import AICSImage\n",
    "\n",
    "import napari\n",
    "\n",
    "\n",
    "### import local python functions in ../infer_subc\n",
    "sys.path.append(os.path.abspath((os.path.join(os.getcwd(), '..'))))\n",
    "from infer_subc.core.file_io import (read_czi_image, \n",
    "                                                                    list_image_files)\n",
    "from infer_subc.core.img import *\n",
    "from infer_subc.constants import (TEST_IMG_N,\n",
    "                                                                    NUC_CH ,\n",
    "                                                                    LYSO_CH ,\n",
    "                                                                    MITO_CH ,\n",
    "                                                                    GOLGI_CH ,\n",
    "                                                                    PEROX_CH ,\n",
    "                                                                    ER_CH ,\n",
    "                                                                    LD_CH ,\n",
    "                                                                    RESIDUAL_CH )        \n",
    "\n",
    "from infer_subc.organelles import fixed_infer_cellmask_fromaggr, fixed_infer_nuclei, infer_cytoplasm, find_optimal_Z\n",
    "\n",
    "\n",
    "%load_ext autoreload\n",
    "%autoreload 2\n",
    "\n",
    "# additional imports for nuc/cellmask/cytoplasm\n",
    "from collections import defaultdict\n",
    "from scipy import ndimage as ndi\n",
    "from aicssegmentation.core.MO_threshold import MO\n",
    "from skimage import filters\n",
    "from skimage.segmentation import watershed\n",
    "from skimage.morphology import (binary_erosion,\n",
    "                                remove_small_holes)\n",
    "from skimage.measure import label"
   ]
  },
  {
   "attachments": {},
   "cell_type": "markdown",
   "metadata": {},
   "source": [
    "## SETUP\n",
    "CUSTOMIZE WITH: \n",
    "1. updated path to data\n",
    "2. updated folder name for \"raw\" data\n",
    "\n",
    "> NOTE: we are operating on a single \"test\" image in this notebook.  The batch-processing of all the images will be happen at the end of the notebook after we have developed/confirmed the setmentation procedures and parameter settings."
   ]
  },
  {
   "cell_type": "code",
   "execution_count": 2,
   "metadata": {},
   "outputs": [
    {
     "name": "stderr",
     "output_type": "stream",
     "text": [
      "c:\\Users\\Shannon\\Anaconda3\\envs\\infer-subc\\lib\\site-packages\\ome_types\\_convenience.py:105: FutureWarning: The default XML parser will be changing from 'xmlschema' to 'lxml' in version 0.4.0.  To silence this warning, please provide the `parser` argument, specifying either 'lxml' (to opt into the new behavior), or'xmlschema' (to retain the old behavior).\n",
      "  d = to_dict(os.fspath(xml), parser=parser, validate=validate)\n"
     ]
    }
   ],
   "source": [
    "# this will be the example image for testing the pipeline below\n",
    "test_img_n = TEST_IMG_N\n",
    "\n",
    "# build the datapath\n",
    "# all the imaging data goes here.\n",
    "data_root_path = Path(os.path.expanduser(\"~\")) / \"Documents/Python Scripts/infer-subc\"\n",
    "\n",
    "# linearly unmixed \".czi\" files are here\n",
    "data_path = data_root_path / \"raw\"\n",
    "im_type = \".czi\"\n",
    "\n",
    "# get the list of all files\n",
    "img_file_list = list_image_files(data_path,im_type)\n",
    "test_img_name = img_file_list[test_img_n]\n",
    "\n",
    "img_data,meta_dict = read_czi_image(test_img_name)\n",
    "\n",
    "# get some top-level info about the RAW data\n",
    "channel_names = meta_dict['name']\n",
    "img = meta_dict['metadata']['aicsimage']\n",
    "scale = meta_dict['scale']\n",
    "channel_axis = meta_dict['channel_axis']"
   ]
  },
  {
   "cell_type": "markdown",
   "metadata": {},
   "source": [
    "## INFER NUCLEI MASK\n",
    "\n",
    "Using function defined in 01_infer_nuclei_3D.ipynb\n"
   ]
  },
  {
   "cell_type": "code",
   "execution_count": 3,
   "metadata": {},
   "outputs": [],
   "source": [
    "def _infer_nuclei_3D( in_img: np.ndarray,\n",
    "                       median_sz: int, \n",
    "                       gauss_sig: float,\n",
    "                       thresh_factor: float,\n",
    "                       thresh_min: float,\n",
    "                       thresh_max: float,\n",
    "                       max_hole_w: int,\n",
    "                       small_obj_w: int,\n",
    "                       sz_filter_method: str\n",
    "                     ) -> np.ndarray:\n",
    "    \"\"\"\n",
    "    Procedure to infer 3D nuclei segmentation from multichannel z-stack input.\n",
    "\n",
    "    Parameters\n",
    "    ------------\n",
    "    in_img: np.ndarray\n",
    "        a 3d image containing all the channels\n",
    "    soma_mask: Optional[np.ndarray] = None\n",
    "        mask\n",
    "    median_sz: int\n",
    "        width of median filter for signal\n",
    "    gauss_sig: float\n",
    "        sigma for gaussian smoothing of  signal\n",
    "    thresh_factor: float\n",
    "        adjustment factor for log Li threholding\n",
    "    thresh_min: float\n",
    "        abs min threhold for log Li threholding\n",
    "    thresh_max: float\n",
    "        abs max threhold for log Li threholding\n",
    "    max_hole_w: int\n",
    "        hole filling cutoff for nuclei post-processing\n",
    "    small_obj_w: int\n",
    "        minimum object size cutoff for nuclei post-processing\n",
    "    sz_filter_method: str\n",
    "        method for size filtering; either \"3D\" or \"slice_by_slice\"\n",
    "\n",
    "    Returns\n",
    "    -------------\n",
    "    nuclei_object\n",
    "        mask defined extent of NU\n",
    "    \n",
    "    \"\"\"\n",
    "    ###################\n",
    "    # INPUT\n",
    "    ################### \n",
    "    nuc_ch = NUC_CH\n",
    "    nuclei = select_channel_from_raw(in_img, nuc_ch)\n",
    "\n",
    "\n",
    "    ###################\n",
    "    # PRE_PROCESSING\n",
    "    ###################                \n",
    "    nuclei = min_max_intensity_normalization(nuclei)\n",
    "    nuclei = median_filter_slice_by_slice(nuclei,\n",
    "                                          size=median_sz)\n",
    "    nuclei = image_smoothing_gaussian_slice_by_slice(nuclei,\n",
    "                                                     sigma=gauss_sig )\n",
    "\n",
    "\n",
    "    ###################\n",
    "    # CORE_PROCESSING\n",
    "    ###################\n",
    "    nuclei_object = apply_log_li_threshold(nuclei, \n",
    "                                           thresh_factor=thresh_factor, \n",
    "                                           thresh_min=thresh_min, \n",
    "                                           thresh_max=thresh_max)\n",
    "\n",
    "\n",
    "    ###################\n",
    "    # POST_PROCESSING\n",
    "    ###################\n",
    "    nuclei_object = hole_filling(nuclei_object, \n",
    "                                 hole_min=0, \n",
    "                                 hole_max=max_hole_w**2, \n",
    "                                 fill_2d=True)\n",
    "\n",
    "    nuclei_object = size_filter(nuclei_object, \n",
    "                                min_size = small_obj_w**3, \n",
    "                                method = sz_filter_method,\n",
    "                                connectivity=1)\n",
    "\n",
    "\n",
    "    return nuclei_object\n",
    "\n",
    "\n",
    "def _fixed_infer_nuclei_3D(in_img: np.ndarray) -> np.ndarray:\n",
    "    \"\"\"\n",
    "    Procedure to infer cellmask from linearly unmixed input, with a *fixed* set of parameters for each step in the procedure.  i.e. \"hard coded\"\n",
    "\n",
    "    Parameters\n",
    "    ------------\n",
    "    in_img: np.ndarray\n",
    "        a 3d image containing all the channels\n",
    "    soma_mask: np.ndarray\n",
    "        mask\n",
    " \n",
    "    Returns\n",
    "    -------------\n",
    "    nuclei_object\n",
    "        mask defined extent of NU\n",
    "    \n",
    "    \"\"\"\n",
    "\n",
    "    nuc_ch = NUC_CH\n",
    "    median_sz = 4   \n",
    "    gauss_sig = 1.34\n",
    "    threshold_factor = 0.9\n",
    "    thresh_min = 0.1\n",
    "    thresh_max = 1.0\n",
    "    max_hole_w = 5\n",
    "    small_obj_w = 15\n",
    "    sz_filter_method = \"3D\"\n",
    "\n",
    "    return _infer_nuclei_3D( in_img,\n",
    "                             median_sz,\n",
    "                             gauss_sig,\n",
    "                             threshold_factor,\n",
    "                             thresh_min,\n",
    "                             thresh_max,\n",
    "                             max_hole_w,\n",
    "                             small_obj_w,\n",
    "                             sz_filter_method )\n",
    "\n",
    "\n",
    "_NU_object =  _fixed_infer_nuclei_3D(img_data) \n",
    "NU_labels = label(_NU_object)"
   ]
  },
  {
   "cell_type": "markdown",
   "metadata": {},
   "source": [
    "## GET CELLMASK\n",
    "\n",
    "Using function defined in 02_infer_cellmask_fromaggr_3D.ipynb"
   ]
  },
  {
   "cell_type": "code",
   "execution_count": 4,
   "metadata": {},
   "outputs": [],
   "source": [
    "def _raw_soma_MCZ(img_in):\n",
    "    \"\"\" define cellmask image\n",
    "    \"\"\"\n",
    "    SOMA_W = (6.,1.,2.)\n",
    "    SOMA_CH = (LYSO_CH,ER_CH,GOLGI_CH)\n",
    "    img_out = np.zeros_like(img_in[0]).astype(np.double)\n",
    "    for w,ch in zip(SOMA_W,SOMA_CH):\n",
    "        img_out += w*img_in[ch]\n",
    "    return img_out\n",
    "\n",
    "\n",
    "def _non_linear_soma_transform_MCZ(in_img):\n",
    "    \"\"\" non-linear distortion to fill out cellmask\n",
    "    log + edge of smoothed composite\n",
    "    \"\"\"\n",
    "    # non-Linear processing\n",
    "    log_img, d = log_transform(in_img.copy()) \n",
    "    return intensity_normalization(log_img,scaling_param=[0])\n",
    "\n",
    "\n",
    "def _masked_object_thresh(\n",
    "    structure_img_smooth: np.ndarray, th_method: str, cutoff_size: int, th_adjust: float\n",
    ") -> np.ndarray:\n",
    "    \"\"\"\n",
    "    wrapper for applying Masked Object Thresholding with just two parameters via `MO` from `aicssegmentation`\n",
    "    Parameters\n",
    "    ------------\n",
    "    structure_img_smooth: np.ndarray\n",
    "        a 3d image\n",
    "    th_method: \n",
    "         which method to use for calculating global threshold. Options include:\n",
    "         \"triangle\" (or \"tri\"), \"median\" (or \"med\"), and \"ave_tri_med\" (or \"ave\").\n",
    "         \"ave\" refers the average of \"triangle\" threshold and \"mean\" threshold.\n",
    "    cutoff_size: \n",
    "        Masked Object threshold `size_min`\n",
    "    th_adjust: \n",
    "        Masked Object threshold `local_adjust`\n",
    "\n",
    "    Returns\n",
    "    -------------\n",
    "        np.ndimage \n",
    "\n",
    "    \"\"\"\n",
    "\n",
    "    struct_obj = MO(\n",
    "        structure_img_smooth,\n",
    "        global_thresh_method=th_method,\n",
    "        object_minArea=cutoff_size,\n",
    "        extra_criteria=True,\n",
    "        local_adjust=th_adjust,\n",
    "        return_object=False,\n",
    "        dilate=True,\n",
    "    )\n",
    "    return struct_obj\n",
    "\n",
    "\n",
    "def _masked_inverted_watershed(img_in, markers, mask):\n",
    "    \"\"\"wrapper for watershed on inverted image and masked\n",
    "\n",
    "    \"\"\"\n",
    "    labels_out = watershed(\n",
    "                1. - img_in,\n",
    "                markers=markers,\n",
    "                connectivity=3,\n",
    "                mask=mask,\n",
    "                )\n",
    "    return labels_out\n",
    "\n",
    "\n",
    "def _choose_max_label(raw_signal: np.ndarray, labels_in: np.ndarray):\n",
    "    \"\"\" keep only the label with the maximum raw signal\n",
    "\n",
    "    \"\"\"\n",
    "\n",
    "    all_labels = np.unique(labels_in)[1:]\n",
    "\n",
    "    total_signal = [raw_signal[labels_in == label].sum() for label in all_labels]\n",
    "    # combine NU and \"labels\" to make a SOMA\n",
    "    keep_label = all_labels[np.argmax(total_signal)]\n",
    "\n",
    "    labels_max = np.zeros_like(labels_in)\n",
    "    labels_max[labels_in==keep_label] = 1\n",
    "    return labels_max"
   ]
  },
  {
   "cell_type": "code",
   "execution_count": 7,
   "metadata": {},
   "outputs": [
    {
     "name": "stdout",
     "output_type": "stream",
     "text": [
      "intensity normalization: min-max normalization with NO absoluteintensity upper bound\n"
     ]
    }
   ],
   "source": [
    "def _infer_cellmask_fromaggr_3D(in_img: np.ndarray,\n",
    "    nuclei_labels: np.ndarray,\n",
    "    median_sz_soma: int,\n",
    "    gauss_sig_soma: float,\n",
    "    gauss_truc_rang: float,\n",
    "    mo_method: str,\n",
    "    mo_adjust: float,\n",
    "    mo_cutoff_size: int,\n",
    "    max_hole_w_soma: int,\n",
    "    small_obj_w_soma: int\n",
    ") -> np.ndarray:\n",
    "    \"\"\"\n",
    "    Procedure to infer cellmask from linearly unmixed input.\n",
    "\n",
    "    Parameters\n",
    "    ------------\n",
    "    in_img: \n",
    "        a 3d image containing all the channels\n",
    "    nuclei_labels:\n",
    "        a 3d mask of nuclei\n",
    "    median_sz_soma: \n",
    "        width of median filter for _soma_ signal\n",
    "    gauss_sig_soma: \n",
    "        sigma for gaussian smoothing of _soma_ signal\n",
    "    gauss_truc_rang:\n",
    "        cutoff value for gaussian\n",
    "    mo_method: \n",
    "         which method to use for calculating global threshold. Options include:\n",
    "         \"triangle\" (or \"tri\"), \"median\" (or \"med\"), and \"ave_tri_med\" (or \"ave\").\n",
    "         \"ave\" refers the average of \"triangle\" threshold and \"mean\" threshold.\n",
    "    mo_adjust: \n",
    "        Masked Object threshold `local_adjust`\n",
    "    mo_cutoff_size: \n",
    "        Masked Object threshold `size_min`\n",
    "    max_hole_w_soma: \n",
    "        hole filling cutoff for cellmask signal post-processing\n",
    "    small_obj_w_soma: \n",
    "        minimu object size cutoff for cellmask signal post-processing\n",
    "\n",
    "    Returns\n",
    "    -------------\n",
    "    soma_mask:\n",
    "        a logical/labels object defining boundaries of cellmask\n",
    "\n",
    "    \"\"\"\n",
    "\n",
    "    ###################\n",
    "    # EXTRACT\n",
    "    ###################\n",
    "    struct_img = _raw_soma_MCZ(in_img)\n",
    "\n",
    "\n",
    "    ###################\n",
    "    # PRE_PROCESSING\n",
    "    ###################                         \n",
    "    ################# part 1- cellmask\n",
    "    struct_img = min_max_intensity_normalization(struct_img)\n",
    "\n",
    "    # make a copy for post-post processing\n",
    "    scaled_signal = struct_img.copy()\n",
    "\n",
    "    # Linear-ish processing\n",
    "    struct_img = median_filter_slice_by_slice(struct_img, \n",
    "                                              size=median_sz_soma)\n",
    "\n",
    "    struct_img = ndi.gaussian_filter(struct_img,\n",
    "                                     sigma=gauss_sig_soma,\n",
    "                                     mode=\"nearest\",\n",
    "                                     truncate=gauss_truc_rang)\n",
    "\n",
    "    struct_img_non_lin = _non_linear_soma_transform_MCZ(struct_img)\n",
    "   \n",
    "\n",
    "    ###################\n",
    "    # CORE_PROCESSING\n",
    "    ###################    \n",
    "    struct_obj = _masked_object_thresh(struct_img_non_lin, \n",
    "                                       th_method=mo_method, \n",
    "                                       cutoff_size=mo_cutoff_size, \n",
    "                                       th_adjust=mo_adjust)               \n",
    "\n",
    "\n",
    "    ###################\n",
    "    # POST_PROCESSING\n",
    "    ###################\n",
    "    struct_obj = hole_filling(struct_obj, \n",
    "                              hole_min =0 , \n",
    "                              hole_max=max_hole_w_soma**2, \n",
    "                              fill_2d = True) \n",
    "\n",
    "    struct_obj = size_filter_2D(struct_obj, \n",
    "                                min_size= small_obj_w_soma**3, \n",
    "                                connectivity=1)\n",
    "\n",
    "    labels_out = _masked_inverted_watershed(struct_obj, nuclei_labels, struct_obj)\n",
    "\n",
    "\n",
    "    ###################\n",
    "    # POST- POST_PROCESSING\n",
    "    ###################\n",
    "    # keep the \"SOMA\" label which contains the highest total signal\n",
    "    soma_out = _choose_max_label(struct_img, labels_out)\n",
    "\n",
    "    return soma_out\n",
    "\n",
    "\n",
    "def _fixed_infer_cellmask_fromaggr_3D(in_img: np.ndarray, nuclei_labels: np.ndarray) -> np.ndarray:\n",
    "    \"\"\"\n",
    "    Procedure to infer cellmask from linearly unmixed input, with a *fixed* set of parameters for each step in the procedure.  i.e. \"hard coded\"\n",
    "\n",
    "    Parameters\n",
    "    ------------\n",
    "    in_img: \n",
    "        a 3d image containing all the channels\n",
    "    nuclei_object:\n",
    "        a 3d mask of nuclei\n",
    "\n",
    "    Returns\n",
    "    -------------\n",
    "    soma_mask:\n",
    "        a logical/labels object defining boundaries of cellmask\n",
    "    \"\"\"\n",
    "    \n",
    "    ###################\n",
    "    # PARAMETERS\n",
    "    ###################   \n",
    "    median_sz_soma = 15\n",
    "    gauss_sig_soma = 1.34\n",
    "    gauss_truc_rang = 3.0\n",
    "    mo_method = \"ave\"\n",
    "    mo_adjust = 0.15\n",
    "    mo_cutoff_size = 50\n",
    "    max_hole_w_soma = 100\n",
    "    small_obj_w_soma = 45\n",
    "\n",
    "    soma_out = _infer_cellmask_fromaggr_3D(in_img,\n",
    "                              nuclei_labels,\n",
    "                              median_sz_soma,\n",
    "                              gauss_sig_soma,\n",
    "                              gauss_truc_rang,\n",
    "                              mo_method,\n",
    "                              mo_adjust,\n",
    "                              mo_cutoff_size,\n",
    "                              max_hole_w_soma,\n",
    "                              small_obj_w_soma) \n",
    "\n",
    "    return soma_out\n",
    "\n",
    "\n",
    "SO_label =  _fixed_infer_cellmask_fromaggr_3D(img_data, NU_labels) "
   ]
  },
  {
   "cell_type": "markdown",
   "metadata": {},
   "source": [
    "## GET CYTOSOL MASK\n"
   ]
  },
  {
   "cell_type": "code",
   "execution_count": 8,
   "metadata": {},
   "outputs": [],
   "source": [
    "#selecting single nuclei that matches the single cytoplasm selected above\n",
    "NU_object = np.logical_and(SO_label,NU_labels)"
   ]
  },
  {
   "cell_type": "code",
   "execution_count": 9,
   "metadata": {},
   "outputs": [],
   "source": [
    "def _infer_cytoplasm(soma_mask, nuclei_object, erode_nuclei = True):\n",
    "    \"\"\"\n",
    "    Procedure to infer cytoplasm from linearly unmixed input.\n",
    "\n",
    "    Parameters\n",
    "    ------------\n",
    "    nuclei_object: \n",
    "        a 3d image containing the nuclei signal\n",
    "\n",
    "    soma_mask: \n",
    "        a 3d image containing the cellmask signal\n",
    "\n",
    "    erode_nuclei: \n",
    "        should we erode?\n",
    "\n",
    "    Returns\n",
    "    -------------\n",
    "    cytoplasm_mask \n",
    "        boolean np.ndarray\n",
    "      \n",
    "    \"\"\"\n",
    "\n",
    "    if erode_nuclei:\n",
    "        cytoplasm_mask = np.logical_and(soma_mask, ~binary_erosion(nuclei_object))\n",
    "        # cytoplasm_mask = np.logical_xor(soma_mask, binary_erosion(nuclei_object))\n",
    "    else:\n",
    "        cytoplasm_mask = np.logical_and(soma_mask, ~nuclei_object)\n",
    "        # cytoplasm_mask = np.logical_xor(soma_mask, nuclei_object)\n",
    "\n",
    "\n",
    "    return cytoplasm_mask\n",
    "\n",
    "\n",
    "cytoplasm_mask = _infer_cytoplasm(SO_label, NU_object) "
   ]
  },
  {
   "attachments": {},
   "cell_type": "markdown",
   "metadata": {},
   "source": [
    "---------------------\n",
    "\n",
    "## infer ***lipid droplet*** \n",
    "\n",
    "## summary of steps \n",
    "\n",
    "INPUT\n",
    "- ch 7\n",
    "- cytoplasm mask\n",
    "\n",
    "\n",
    "PRE-PROCESSING\n",
    "- rescale \n",
    "-  median, window 2\n",
    "-  \n",
    "CORE-PROCESSING\n",
    "   - \"robust background\" 2 STD\n",
    "\n",
    "POST-PROCESSING\n",
    "  - n/a\n",
    "\n",
    "OUTPUT\n",
    "- object ***lipid droplet***\n",
    "\n",
    "\n",
    "\n",
    "\n",
    "NOTE:  consider using [Fibrillarin](https://www.allencell.org/cell-observations/category/fibrillarin) (nucleous marker) workflow from AllenCell.  playground_spotty.ipynb  or maybe [centrin](https://www.allencell.org/cell-observations/category/centrin)\n",
    "\n",
    "\n",
    "Not a good thing to follow from  the Allen Cell Segmenter procedure, but doing more aggressive contrast scaling than their prescribed contrast scaling.\n"
   ]
  },
  {
   "attachments": {},
   "cell_type": "markdown",
   "metadata": {},
   "source": [
    "## INPUT prototype"
   ]
  },
  {
   "cell_type": "code",
   "execution_count": 10,
   "metadata": {},
   "outputs": [],
   "source": [
    "###################\n",
    "# INPUT\n",
    "###################\n",
    "raw_LD = select_channel_from_raw(img_data, LD_CH)\n"
   ]
  },
  {
   "cell_type": "code",
   "execution_count": 13,
   "metadata": {},
   "outputs": [
    {
     "name": "stderr",
     "output_type": "stream",
     "text": [
      "WARNING: QWindowsWindow::setGeometry: Unable to set geometry 1090x687-10+36 (frame: 1108x734-19-2) on QWidgetWindow/\"_QtMainWindowClassWindow\" on \"\\\\.\\DISPLAY1\". Resulting geometry: 1020x921-12+29 (frame: 1038x968-21-9) margins: 9, 38, 9, 9 minimum size: 612x594 MINMAXINFO maxSize=0,0 maxpos=0,0 mintrack=630,641 maxtrack=0,0)\n",
      "23-Feb-23 12:44:45 - vispy    - WARNING  - QWindowsWindow::setGeometry: Unable to set geometry 1090x687-10+36 (frame: 1108x734-19-2) on QWidgetWindow/\"_QtMainWindowClassWindow\" on \"\\\\.\\DISPLAY1\". Resulting geometry: 1020x921-12+29 (frame: 1038x968-21-9) margins: 9, 38, 9, 9 minimum size: 612x594 MINMAXINFO maxSize=0,0 maxpos=0,0 mintrack=630,641 maxtrack=0,0)\n"
     ]
    }
   ],
   "source": [
    "viewer = napari.Viewer()"
   ]
  },
  {
   "cell_type": "code",
   "execution_count": 14,
   "metadata": {},
   "outputs": [
    {
     "data": {
      "text/plain": [
       "<Image layer 'raw_LD' at 0x1d1e5ab0d90>"
      ]
     },
     "execution_count": 14,
     "metadata": {},
     "output_type": "execute_result"
    }
   ],
   "source": [
    "viewer.add_image(\n",
    "    raw_LD,\n",
    "    scale=scale\n",
    ")"
   ]
  },
  {
   "attachments": {},
   "cell_type": "markdown",
   "metadata": {},
   "source": [
    "## PRE-PROCESSING prototype"
   ]
  },
  {
   "cell_type": "code",
   "execution_count": 11,
   "metadata": {},
   "outputs": [],
   "source": [
    "###################\n",
    "# PRE_PROCESSING\n",
    "###################\n",
    "LD_norm = min_max_intensity_normalization(raw_LD)\n",
    "\n",
    "med_filter_size = 2   \n",
    "LD_med = median_filter_slice_by_slice(LD_norm,\n",
    "                                          size=med_filter_size  )\n",
    "\n",
    "gaussian_smoothing_sigma = 1.34\n",
    "LD_gaus = image_smoothing_gaussian_slice_by_slice(LD_med,\n",
    "                                                    sigma=gaussian_smoothing_sigma)"
   ]
  },
  {
   "cell_type": "code",
   "execution_count": 15,
   "metadata": {},
   "outputs": [
    {
     "data": {
      "text/plain": [
       "<Image layer 'LD_gaus' at 0x1d1d5b726a0>"
      ]
     },
     "execution_count": 15,
     "metadata": {},
     "output_type": "execute_result"
    }
   ],
   "source": [
    "viewer.add_image(\n",
    "    LD_med,\n",
    "    scale=scale\n",
    ")\n",
    "viewer.add_image(\n",
    "    LD_gaus,\n",
    "    scale=scale\n",
    ")"
   ]
  },
  {
   "attachments": {},
   "cell_type": "markdown",
   "metadata": {},
   "source": [
    "## CORE PROCESSING prototype"
   ]
  },
  {
   "cell_type": "code",
   "execution_count": 17,
   "metadata": {},
   "outputs": [],
   "source": [
    "\n",
    "###################\n",
    "# CORE_PROCESSING\n",
    "###################\n",
    "threshold_factor = 0.99 #from cellProfiler\n",
    "thresh_min = .1\n",
    "thresh_max = 1.\n",
    "otsu_thresholded = apply_threshold(LD_gaus, \n",
    "                                    method= \"otsu\", \n",
    "                                    thresh_factor=threshold_factor, \n",
    "                                    thresh_min=thresh_min, \n",
    "                                    thresh_max=thresh_max)"
   ]
  },
  {
   "cell_type": "code",
   "execution_count": 18,
   "metadata": {},
   "outputs": [
    {
     "data": {
      "text/plain": [
       "<Image layer 'otsu_thresholded [1]' at 0x1d1e6ffd1c0>"
      ]
     },
     "execution_count": 18,
     "metadata": {},
     "output_type": "execute_result"
    }
   ],
   "source": [
    "viewer.add_image(\n",
    "    otsu_thresholded,\n",
    "    scale=scale\n",
    ")"
   ]
  },
  {
   "attachments": {},
   "cell_type": "markdown",
   "metadata": {},
   "source": [
    "## POST-PROCESSING prototype"
   ]
  },
  {
   "cell_type": "code",
   "execution_count": 20,
   "metadata": {},
   "outputs": [],
   "source": [
    "\n",
    "###################\n",
    "# POST_PROCESSING\n",
    "###################\n",
    "# # wrapper to remoce_small_objects\n",
    "hole_min = 0\n",
    "hole_max = 2.5\n",
    "bw = hole_filling(otsu_thresholded, hole_min=hole_min**2, hole_max=hole_max**2, fill_2d=True)\n",
    "\n",
    "LD_masked = apply_mask(bw, cytoplasm_mask)\n",
    "\n",
    "small_object_width = 4\n",
    "\n",
    "LD_mask = size_filter(LD_masked, # wrapper to remove_small_objects which can do slice by slice\n",
    "                         min_size= small_object_width ** 3, \n",
    "                         connectivity=1)\n",
    "\n",
    "\n",
    "LD_objects = label(LD_mask)\n"
   ]
  },
  {
   "cell_type": "code",
   "execution_count": 21,
   "metadata": {},
   "outputs": [
    {
     "data": {
      "text/plain": [
       "<Labels layer 'LD_objects' at 0x1d1f1366c70>"
      ]
     },
     "execution_count": 21,
     "metadata": {},
     "output_type": "execute_result"
    }
   ],
   "source": [
    "viewer.add_image(\n",
    "    bw,\n",
    "    scale=scale\n",
    ")\n",
    "viewer.add_image(\n",
    "    LD_masked,\n",
    "    scale=scale\n",
    ")\n",
    "viewer.add_image(\n",
    "    LD_mask,\n",
    "    scale=scale\n",
    ")\n",
    "viewer.add_labels(\n",
    "    LD_objects,\n",
    "    scale=scale\n",
    ")"
   ]
  },
  {
   "attachments": {},
   "cell_type": "markdown",
   "metadata": {},
   "source": [
    "## DEFINE `infer_LD_body` function\n",
    "\n",
    "Based on the _prototyping_ above define the function to infer the lipid boty.  \n"
   ]
  },
  {
   "cell_type": "code",
   "execution_count": 24,
   "metadata": {},
   "outputs": [],
   "source": [
    "##########################\n",
    "#  infer_ER\n",
    "##########################\n",
    "def _infer_LD_droplet_3D(\n",
    "                            in_img: np.ndarray,\n",
    "                            cytoplasm_mask: np.ndarray,\n",
    "                            median_sz: int,\n",
    "                            gauss_sig: float,\n",
    "                            method: str,\n",
    "                            thresh_factor: float,\n",
    "                            thresh_min: float,\n",
    "                            thresh_max: float,\n",
    "                            max_hole_w: int,\n",
    "                            small_obj_w: int,\n",
    "                        ) -> np.ndarray:\n",
    "    \"\"\"\n",
    "    Procedure to infer peroxisome from linearly unmixed input.\n",
    "\n",
    "    Parameters\n",
    "    ------------\n",
    "    in_img: \n",
    "        a 3d image containing all the channels\n",
    "    cytoplasm_mask: \n",
    "        mask of cytoplasm\n",
    "    median_sz: \n",
    "        width of median filter for signal\n",
    "    gauss_sig: \n",
    "        sigma for gaussian smoothing of  signal\n",
    "    method: \n",
    "        method for applying threshold.  \"otsu\"  or \"li\", \"triangle\", \"median\", \"ave\", \"sauvola\",\"multi_otsu\",\"muiltiotsu\"\n",
    "    thresh_factor:\n",
    "        scaling value for threshold\n",
    "    thresh_min:\n",
    "        absolute minumum for threshold\n",
    "    thresh_max:\n",
    "        absolute maximum for threshold\n",
    "    max_hole_w: \n",
    "        hole filling cutoff for lipid post-processing\n",
    "    small_obj_w: \n",
    "        minimu object size cutoff for lipid post-processing\n",
    "    Returns\n",
    "    -------------\n",
    "    peroxi_object\n",
    "        mask defined extent of peroxisome object\n",
    "    \"\"\"\n",
    "    LD_ch = LD_CH\n",
    "    ###################\n",
    "    # EXTRACT\n",
    "    ###################    \n",
    "    lipid = select_channel_from_raw(in_img, LD_ch)\n",
    "    ###################\n",
    "    # PRE_PROCESSING\n",
    "    ###################                         \n",
    "    lipid = min_max_intensity_normalization(lipid)\n",
    "\n",
    "    lipid = median_filter_slice_by_slice(lipid, size=median_sz)\n",
    "\n",
    "    lipid = image_smoothing_gaussian_slice_by_slice(lipid, sigma=gauss_sig)\n",
    "\n",
    "    ###################\n",
    "    # CORE_PROCESSING\n",
    "    ###################\n",
    "    bw = apply_threshold(lipid, \n",
    "                        method= method, \n",
    "                        thresh_factor=thresh_factor, \n",
    "                        thresh_min=thresh_min, \n",
    "                        thresh_max=thresh_max)\n",
    "\n",
    "\n",
    "    ###################\n",
    "    # POST_PROCESSING\n",
    "    ###################\n",
    "    min_hole_w = 0\n",
    "    struct_obj = hole_filling(bw, hole_min=min_hole_w**2, hole_max=max_hole_w**2, fill_2d=True)\n",
    "\n",
    "    struct_obj = apply_mask(struct_obj, cytoplasm_mask)\n",
    "\n",
    "    struct_obj = size_filter(struct_obj, # wrapper to remove_small_objects which can do slice by slice\n",
    "                            min_size= small_obj_w ** 3, \n",
    "                            connectivity=1)\n",
    "\n",
    "    return struct_obj\n",
    "\n"
   ]
  },
  {
   "cell_type": "code",
   "execution_count": 25,
   "metadata": {},
   "outputs": [],
   "source": [
    "\n",
    "\n",
    "##########################\n",
    "#  fixed_infer_LD_body\n",
    "##########################\n",
    "def _fixed_infer_LD_droplet_3D(in_img: np.ndarray, cytoplasm_mask: Optional[np.ndarray] = None) -> np.ndarray:\n",
    "    \"\"\"\n",
    "    Procedure to infer cellmask from linearly unmixed input, with a *fixed* set of parameters for each step in the procedure.  i.e. \"hard coded\"\n",
    "\n",
    "    Parameters\n",
    "    ------------\n",
    "    in_img: \n",
    "        a 3d image containing all the channels\n",
    "    cytoplasm_mask: \n",
    "        mask - default=None\n",
    "\n",
    "    Returns\n",
    "    -------------\n",
    "    LD_body_object\n",
    "        mask defined extent of liipid body\n",
    "\n",
    "    \"\"\"\n",
    "\n",
    "    median_sz = 2   \n",
    "    gauss_sig = 1.34\n",
    "    method = \"otsu\"\n",
    "    threshold_factor = 0.99 #from cellProfiler\n",
    "    thresh_min = .1\n",
    "    thresh_max = 1.\n",
    "    max_hole_w = 2.5\n",
    "    small_obj_w = 4\n",
    "\n",
    "    return _infer_LD_body(\n",
    "        in_img, cytoplasm_mask, median_sz, gauss_sig, method, threshold_factor, thresh_min, thresh_max, max_hole_w, small_obj_w\n",
    "    )\n"
   ]
  },
  {
   "cell_type": "markdown",
   "metadata": {},
   "source": [
    "# TEST  `infer_LD_body` function"
   ]
  },
  {
   "cell_type": "code",
   "execution_count": 26,
   "metadata": {},
   "outputs": [],
   "source": [
    "\n",
    "_LD_mask =  _fixed_infer_LD_droplet_3D(img_data, cytoplasm_mask) \n",
    "\n",
    "_LD_objects = label(_LD_mask)"
   ]
  },
  {
   "cell_type": "code",
   "execution_count": 28,
   "metadata": {},
   "outputs": [
    {
     "data": {
      "text/plain": [
       "<Labels layer '_LD_objects' at 0x1d1fad78d30>"
      ]
     },
     "execution_count": 28,
     "metadata": {},
     "output_type": "execute_result"
    }
   ],
   "source": [
    "viewer.add_image(\n",
    "    _LD_mask,\n",
    "    scale=scale\n",
    ")\n",
    "viewer.add_labels(\n",
    "    _LD_objects,\n",
    "    scale=scale\n",
    ")"
   ]
  },
  {
   "attachments": {},
   "cell_type": "markdown",
   "metadata": {},
   "source": [
    "STOPPED 2D-TO-3D TRANSITION HERE"
   ]
  },
  {
   "cell_type": "code",
   "execution_count": 17,
   "metadata": {},
   "outputs": [
    {
     "ename": "ImportError",
     "evalue": "cannot import name 'fixed_infer_LD_body' from 'infer_subc.organelles' (/Users/ahenrie/Projects/Imaging/infer-subc/infer_subc/organelles/__init__.py)",
     "output_type": "error",
     "traceback": [
      "\u001b[0;31m---------------------------------------------------------------------------\u001b[0m",
      "\u001b[0;31mImportError\u001b[0m                               Traceback (most recent call last)",
      "\u001b[1;32m/Users/ahenrie/Projects/Imaging/infer-subc/notebooks/09_infer_LD_body.ipynb Cell 32\u001b[0m in \u001b[0;36m<cell line: 1>\u001b[0;34m()\u001b[0m\n\u001b[0;32m----> <a href='vscode-notebook-cell:/Users/ahenrie/Projects/Imaging/infer-subc/notebooks/09_infer_LD_body.ipynb#X42sZmlsZQ%3D%3D?line=0'>1</a>\u001b[0m \u001b[39mfrom\u001b[39;00m \u001b[39minfer_subc\u001b[39;00m\u001b[39m.\u001b[39;00m\u001b[39morganelles\u001b[39;00m \u001b[39mimport\u001b[39;00m fixed_infer_LD_body\n\u001b[1;32m      <a href='vscode-notebook-cell:/Users/ahenrie/Projects/Imaging/infer-subc/notebooks/09_infer_LD_body.ipynb#X42sZmlsZQ%3D%3D?line=2'>3</a>\u001b[0m LD_obj \u001b[39m=\u001b[39m  fixed_infer_LD_body(img_2D, cytoplasm_mask)\n",
      "\u001b[0;31mImportError\u001b[0m: cannot import name 'fixed_infer_LD_body' from 'infer_subc.organelles' (/Users/ahenrie/Projects/Imaging/infer-subc/infer_subc/organelles/__init__.py)"
     ]
    }
   ],
   "source": [
    "from infer_subc.organelles import fixed_infer_LD_body\n",
    "\n",
    "LD_obj =  fixed_infer_LD_body(img_2D, cytoplasm_mask) "
   ]
  },
  {
   "attachments": {},
   "cell_type": "markdown",
   "metadata": {},
   "source": [
    "## Visualize  2\n"
   ]
  },
  {
   "cell_type": "code",
   "execution_count": null,
   "metadata": {},
   "outputs": [
    {
     "data": {
      "text/plain": [
       "<Labels layer 'Labels' at 0x1889d4ee0>"
      ]
     },
     "execution_count": 29,
     "metadata": {},
     "output_type": "execute_result"
    }
   ],
   "source": [
    "\n",
    "viewer.add_image(\n",
    "    _LD_obj,\n",
    "    scale=scale\n",
    ")\n",
    "\n",
    "viewer.add_image(\n",
    "    LD_obj,\n",
    "    scale=scale\n",
    ")\n",
    "viewer.add_labels(\n",
    "    label(LD_obj),\n",
    "    scale=scale\n",
    ")"
   ]
  },
  {
   "cell_type": "code",
   "execution_count": null,
   "metadata": {},
   "outputs": [
    {
     "data": {
      "image/png": "[encoded data removed]",
      "text/html": [
       "<img src=\"data:image/png;base64,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\"></img>"
      ],
      "text/plain": [
       "<napari.utils.notebook_display.NotebookScreenshot at 0x186dd6e20>"
      ]
     },
     "execution_count": 30,
     "metadata": {},
     "output_type": "execute_result"
    }
   ],
   "source": [
    "from napari.utils.notebook_display import nbscreenshot\n",
    "\n",
    "# viewer.dims.ndisplay = 3\n",
    "# viewer.camera.angles = (-30, 25, 120)\n",
    "nbscreenshot(viewer, canvas_only=True)"
   ]
  },
  {
   "cell_type": "code",
   "execution_count": null,
   "metadata": {},
   "outputs": [],
   "source": [
    "viewer.close()"
   ]
  },
  {
   "attachments": {},
   "cell_type": "markdown",
   "metadata": {},
   "source": [
    "-----------------\n",
    "Write the `infer_ER` spec to the widget json "
   ]
  },
  {
   "cell_type": "code",
   "execution_count": null,
   "metadata": {},
   "outputs": [
    {
     "name": "stdout",
     "output_type": "stream",
     "text": [
      "function fixed_infer_LD is already in all_functions.json\n"
     ]
    },
    {
     "data": {
      "text/plain": [
       "0"
      ]
     },
     "execution_count": 31,
     "metadata": {},
     "output_type": "execute_result"
    }
   ],
   "source": [
    "from infer_subc.organelles_config.helper import add_function_spec_to_widget_json\n",
    "\n",
    "_fixed_infer_LD=  {\n",
    "        \"name\": \"infer lipid bodies (fixed parameters)\",\n",
    "        \"python::module\": \"infer_subc.organelles\",\n",
    "        \"python::function\": \"fixed_infer_LD\",\n",
    "        \"parameters\": None\n",
    "        }\n",
    "\n",
    "add_function_spec_to_widget_json(\"fixed_infer_LD\",_fixed_infer_LD)"
   ]
  },
  {
   "cell_type": "code",
   "execution_count": null,
   "metadata": {},
   "outputs": [
    {
     "name": "stdout",
     "output_type": "stream",
     "text": [
      "function infer_LD is already in all_functions.json\n",
      "overwriting  infer_LD\n"
     ]
    },
    {
     "data": {
      "text/plain": [
       "1"
      ]
     },
     "execution_count": 32,
     "metadata": {},
     "output_type": "execute_result"
    }
   ],
   "source": [
    "\n",
    "_infer_LD =  {\n",
    "        \"name\": \"infer lipid\",\n",
    "        \"python::module\": \"infer_subc.organelles\",\n",
    "        \"python::function\": \"infer_LD\",\n",
    "        \"parameters\": {\n",
    "                \"median_sz\": {\n",
    "                        \"widget_type\": \"slider\",\n",
    "                        \"data_type\": \"int\",\n",
    "                        \"min\": 3,\n",
    "                        \"max\": 15,\n",
    "                        \"increment\": 1\n",
    "                },\n",
    "                \"gauss_sig\": {\n",
    "                        \"data_type\": \"float\",\n",
    "                        \"increment\": 0.25,\n",
    "                        \"max\": 15.0,\n",
    "                        \"min\": 1.25,\n",
    "                        \"widget_type\": \"slider\"\n",
    "                },\n",
    "                \"method\": {\n",
    "                        \"data_type\": \"str\",\n",
    "                        \"widget_type\": \"drop-down\",\n",
    "                        \"options\": [\n",
    "                                \"otsu\",\n",
    "                                \"li\",\n",
    "                                \"triangle\",\n",
    "                                \"median\",\n",
    "                                \"ave_tri_med\"\n",
    "                        ]\n",
    "                },\n",
    "                \"thresh_factor\": {\n",
    "                        \"data_type\": \"float\",\n",
    "                        \"increment\": 0.05,\n",
    "                        \"max\": 1.2,\n",
    "                        \"min\": 0.6,\n",
    "                        \"widget_type\": \"slider\"\n",
    "                },\n",
    "                \"thresh_min\": {\n",
    "                        \"data_type\": \"float\",\n",
    "                        \"increment\": 0.05,\n",
    "                        \"max\": .9,\n",
    "                        \"min\": 0.0,\n",
    "                        \"widget_type\": \"slider\"\n",
    "                },\n",
    "                \"thresh_max\": {\n",
    "                        \"data_type\": \"float\",\n",
    "                        \"increment\": 0.05,\n",
    "                        \"max\": 1.0,\n",
    "                        \"min\": 0.1,\n",
    "                        \"widget_type\": \"slider\"\n",
    "                },\n",
    "                \"max_hole_w\": {\n",
    "                        \"data_type\": \"int\",\n",
    "                        \"increment\": 1,\n",
    "                        \"max\": 40,\n",
    "                        \"min\": 4,\n",
    "                        \"widget_type\": \"slider\"\n",
    "                },           \n",
    "                \"small_obj_w\": {\n",
    "                        \"data_type\": \"int\",\n",
    "                        \"increment\": 1,\n",
    "                        \"max\": 50,\n",
    "                        \"min\": 1,\n",
    "                        \"widget_type\": \"slider\"\n",
    "                }\n",
    "        }\n",
    "}\n",
    "\n",
    "add_function_spec_to_widget_json(\"infer_LD\", _infer_LD, overwrite=True )\n",
    "\n"
   ]
  },
  {
   "attachments": {},
   "cell_type": "markdown",
   "metadata": {},
   "source": [
    "##  helper function definitions\n",
    "\n",
    "Wrappers for vessleness filters"
   ]
  },
  {
   "cell_type": "code",
   "execution_count": null,
   "metadata": {},
   "outputs": [
    {
     "name": "stdout",
     "output_type": "stream",
     "text": [
      "function apply_threshold is already in all_functions.json\n",
      "overwriting  apply_threshold\n"
     ]
    },
    {
     "data": {
      "text/plain": [
       "1"
      ]
     },
     "execution_count": 36,
     "metadata": {},
     "output_type": "execute_result"
    }
   ],
   "source": [
    "from infer_subc.organelles_config.helper import add_function_spec_to_widget_json\n",
    "\n",
    "_apply_threshold =  {\n",
    "        \"name\": \"Apply Threshold\",\n",
    "        \"python::module\": \"infer_subc.core.img\",\n",
    "        \"python::function\": \"apply_threshold\",\n",
    "        \"parameters\": {\n",
    "                \"method\": {\n",
    "                        \"data_type\": \"str\",\n",
    "                        \"widget_type\": \"drop-down\",\n",
    "                        \"options\": [\n",
    "                                \"otsu\",\n",
    "                                \"li\",\n",
    "                                \"triangle\",\n",
    "                                \"median\",\n",
    "                                \"ave_tri_med\"\n",
    "                        ]\n",
    "                },\n",
    "                \"thresh_factor\": {\n",
    "                        \"data_type\": \"float\",\n",
    "                        \"increment\": 0.05,\n",
    "                        \"max\": 1.2,\n",
    "                        \"min\": 0.6,\n",
    "                        \"widget_type\": \"slider\"\n",
    "                },\n",
    "                \"thresh_min\": {\n",
    "                        \"data_type\": \"float\",\n",
    "                        \"increment\": 0.05,\n",
    "                        \"max\": .9,\n",
    "                        \"min\": 0.0,\n",
    "                        \"widget_type\": \"slider\"\n",
    "                },\n",
    "                \"thresh_max\": {\n",
    "                        \"data_type\": \"float\",\n",
    "                        \"increment\": 0.05,\n",
    "                        \"max\": 1.0,\n",
    "                        \"min\": 0.1,\n",
    "                        \"widget_type\": \"slider\"\n",
    "                },\n",
    "        }\n",
    "}\n",
    "\n",
    "add_function_spec_to_widget_json(\"apply_threshold\",_apply_threshold,overwrite=True)"
   ]
  },
  {
   "attachments": {},
   "cell_type": "markdown",
   "metadata": {},
   "source": [
    "-------------------------------\n",
    "## Write workflow .json\n",
    "Now that we've added our function specs we can compose workflows."
   ]
  },
  {
   "cell_type": "code",
   "execution_count": null,
   "metadata": {},
   "outputs": [],
   "source": [
    "from infer_subc.constants import LD_CH\n",
    "\n",
    "def make_infer_LD_step_by_step_from_raw_dict():\n",
    "    \"\"\"\n",
    "    Procedure to infer lipid from linearly unmixed input.\n",
    "\n",
    "    Parameters\n",
    "    ------------\n",
    "    in_img: np.ndarray\n",
    "        a 3d image containing all the channels\n",
    "\n",
    "    soma_mask: np.ndarray\n",
    "        mask\n",
    "\n",
    "    Returns\n",
    "    -------------\n",
    "    LD_object\n",
    "        mask defined extent of NU\n",
    "\n",
    "    \"\"\"\n",
    "    step_name = []\n",
    "    function_name = []\n",
    "    category =[]\n",
    "    parameter_values = []\n",
    "    parent = []\n",
    "   \n",
    "    step_name.append(\"1\")\n",
    "    function_name.append(\"fixed_get_optimal_Z_img\")\n",
    "    category.append(\"extraction\")\n",
    "    parameter_values.append(None)\n",
    "    parent.append(0)\n",
    "\n",
    "    step_name.append(\"2\")\n",
    "    function_name.append(\"fixed_infer_cellmask_fromaggr\")\n",
    "    category.append(\"extraction\")\n",
    "    parameter_values.append( None )\n",
    "    parent.append(1)\n",
    "\n",
    "    step_name.append(\"3\")\n",
    "    function_name.append(\"fixed_infer_nuclei\")\n",
    "    category.append(\"extraction\")\n",
    "    parameter_values.append( None )\n",
    "    parent.append([1,2])\n",
    "\n",
    "    step_name.append(\"4\")\n",
    "    function_name.append(\"infer_cytoplasm\")\n",
    "    category.append(\"extraction\")\n",
    "    parameter_values.append(dict(erode_nuclei = True ))\n",
    "    parent.append([2,3])\n",
    "\n",
    "    step_name.append(\"5\")\n",
    "    function_name.append(\"select_channel_from_raw\")\n",
    "    category.append(\"extraction\")\n",
    "    parameter_values.append( dict(chan = LD_CH) )\n",
    "    parent.append(1)\n",
    "    \n",
    "    step_name.append(\"6\")\n",
    "    function_name.append(\"min_max_intensity_normalization\")\n",
    "    category.append(\"preprocessing\")\n",
    "    parameter_values.append(None)\n",
    "    parent.append(5)\n",
    "\n",
    "    step_name.append(\"7\")\n",
    "    function_name.append(\"median_filter_slice_by_slice\")\n",
    "    category.append(\"preprocessing\")\n",
    "    parameter_values.append(dict(size = 4 ))\n",
    "    parent.append(6)\n",
    "\n",
    "    step_name.append(\"8\")\n",
    "    function_name.append(\"image_smoothing_gaussian_slice_by_slice\")\n",
    "    category.append(\"preprocessing\")\n",
    "    parameter_values.append(dict( sigma = 1.34 ))\n",
    "    parent.append(7)\n",
    "\n",
    "    step_name.append(\"9\")\n",
    "    function_name.append(\"apply_threshold\")\n",
    "    category.append(\"core\")\n",
    "    parameter_values.append(dict(method = \"otsu\",\n",
    "                                                            thresh_factor = 0.99, \n",
    "                                                            thresh_min = .5,\n",
    "                                                            thresh_max = 1.))\n",
    "    parent.append(8)\n",
    "\n",
    "    step_name.append(\"10\")\n",
    "    function_name.append(\"hole_filling\")\n",
    "    category.append(\"postprocessing\")\n",
    "    parameter_values.append(dict( hole_min=0, hole_max=2.5**2, fill_2d=True))\n",
    "    parent.append(9)\n",
    "\n",
    "    step_name.append(\"11\")\n",
    "    function_name.append(\"apply_mask\")\n",
    "    category.append(\"postprocessing\")\n",
    "    parameter_values.append(None)\n",
    "    parent.append([10,4])\n",
    "\n",
    "    step_name.append(\"12\")\n",
    "    function_name.append(\"size_filter_2D\")\n",
    "    category.append(\"postprocessing\")\n",
    "    parameter_values.append(dict( min_size = 4**2  ))\n",
    "    parent.append(6)\n",
    "\n",
    "    out_dict = dict()\n",
    "    for i,stepn in enumerate(step_name):\n",
    "        entry = dict(category=category[i],\n",
    "                            function=function_name[i],\n",
    "                            parameter_values=parameter_values[i],\n",
    "                            parent=parent[i]\n",
    "        )\n",
    "        if entry['parameter_values'] is None:\n",
    "            _ = entry.pop('parameter_values')\n",
    "        out_dict[stepn] = entry\n",
    "        \n",
    "    return out_dict"
   ]
  },
  {
   "cell_type": "code",
   "execution_count": null,
   "metadata": {},
   "outputs": [
    {
     "data": {
      "text/plain": [
       "PosixPath('/Users/ahenrie/Projects/Imaging/infer-subc/infer_subc/organelles_config/conf_1.9.LD_stepbystep_from_raw.json')"
      ]
     },
     "execution_count": 35,
     "metadata": {},
     "output_type": "execute_result"
    }
   ],
   "source": [
    "from infer_subc.organelles_config.helper import write_workflow_json\n",
    "\n",
    "infer_LD_stepbystep_from_raw_dict = make_infer_LD_step_by_step_from_raw_dict()\n",
    "\n",
    "write_workflow_json(\"conf_1.9.LD_stepbystep_from_raw\", infer_LD_stepbystep_from_raw_dict)"
   ]
  },
  {
   "attachments": {},
   "cell_type": "markdown",
   "metadata": {},
   "source": [
    "-------------\n",
    "## SUMMARY\n",
    "\n",
    "The above details how the endoplasmic lipid droplet is inferred.  \n",
    "\n",
    "###  THATS IT!\n"
   ]
  }
 ],
 "metadata": {
  "kernelspec": {
   "display_name": "infer-subc",
   "language": "python",
   "name": "python3"
  },
  "language_info": {
   "codemirror_mode": {
    "name": "ipython",
    "version": 3
   },
   "file_extension": ".py",
   "mimetype": "text/x-python",
   "name": "python",
   "nbconvert_exporter": "python",
   "pygments_lexer": "ipython3",
   "version": "3.9.15"
  },
  "orig_nbformat": 4,
  "vscode": {
   "interpreter": {
    "hash": "182b63330db9794b59aa776c624821fb477d854325ad145fa5385f0d56c0c6f3"
   }
  }
 },
 "nbformat": 4,
 "nbformat_minor": 2
}
