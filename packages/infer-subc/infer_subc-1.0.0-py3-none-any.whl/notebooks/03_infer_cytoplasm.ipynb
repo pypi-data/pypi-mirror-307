{
 "cells": [
  {
   "attachments": {},
   "cell_type": "markdown",
   "metadata": {},
   "source": [
    "# Infer ***cytoplasm*** -  3️⃣\n",
    "\n",
    "--------------\n",
    "\n",
    "## OVERVIEW\n",
    "We will start by segmenting the different cell regions - the nucleus, cell, and cytoplasm - since they will be necessary for determining which organelle are in which cell. This is integral to our single cell analysis approach.\n",
    "\n",
    "This notebook goes through the workflow steps to segment the ***cytoplasm*** -- the cellmask minus the nucleus area.\n",
    "\n",
    "## OBJECTIVE:  \n",
    "### ✅ Infer sub-cellular component #3: ***cytoplasm***\n",
    "Segment the ***cytoplasm*** from the cellmask and nuclei outputs. We will first select the single nucleus that is within our cellmask. Then, a logical and will be applied to produce the cytoplasmic area."
   ]
  },
  {
   "attachments": {},
   "cell_type": "markdown",
   "metadata": {},
   "source": [
    "\n",
    "## IMPORTS"
   ]
  },
  {
   "cell_type": "code",
   "execution_count": 1,
   "metadata": {},
   "outputs": [],
   "source": [
    "# top level imports\n",
    "from pathlib import Path\n",
    "import os, sys\n",
    "\n",
    "import numpy as np\n",
    "\n",
    "from skimage.morphology import binary_erosion\n",
    "\n",
    "import napari\n",
    "\n",
    "### import local python functions in ../infer_subc\n",
    "sys.path.append(os.path.abspath((os.path.join(os.getcwd(), '..'))))\n",
    "\n",
    "from infer_subc.core.file_io import (read_czi_image,\n",
    "                                     read_ome_image,\n",
    "                                     export_inferred_organelle,\n",
    "                                     import_inferred_organelle,\n",
    "                                     list_image_files)\n",
    "from infer_subc.core.img import *\n",
    "from infer_subc.organelles import infer_cellmask_fromcomposite, fixed_infer_cellmask_fromcomposite, infer_nuclei_fromlabel, get_cellmask, get_nuclei\n",
    "# NOTE:  these \"constants\" are only accurate for the testing MCZ dataset\n",
    "from infer_subc.constants import (TEST_IMG_N,\n",
    "                                  NUC_CH ,\n",
    "                                  LYSO_CH ,\n",
    "                                  MITO_CH ,\n",
    "                                  GOLGI_CH ,\n",
    "                                  PEROX_CH ,\n",
    "                                  ER_CH ,\n",
    "                                  LD_CH ,\n",
    "                                  RESIDUAL_CH)\n",
    "\n",
    "\n",
    "%load_ext autoreload\n",
    "%autoreload 2\n"
   ]
  },
  {
   "attachments": {},
   "cell_type": "markdown",
   "metadata": {},
   "source": [
    "## Get and load Image for processing"
   ]
  },
  {
   "cell_type": "code",
   "execution_count": 2,
   "metadata": {},
   "outputs": [],
   "source": [
    "test_img_n = TEST_IMG_N\n",
    "\n",
    "data_root_path = Path(os.path.expanduser(\"~\")) / \"Documents/Python Scripts/Infer-subc-2D\"\n",
    "\n",
    "in_data_path = data_root_path / \"raw\"\n",
    "im_type = \".czi\"\n",
    "\n",
    "img_file_list = list_image_files(in_data_path,im_type)\n",
    "test_img_name = img_file_list[test_img_n]\n",
    "\n",
    "out_data_path = data_root_path / \"out\"\n",
    "if not Path.exists(out_data_path):\n",
    "    Path.mkdir(out_data_path)\n",
    "    print(f\"making {out_data_path}\")"
   ]
  },
  {
   "cell_type": "code",
   "execution_count": 3,
   "metadata": {},
   "outputs": [
    {
     "name": "stderr",
     "output_type": "stream",
     "text": [
      "c:\\Users\\Shannon\\anaconda3\\envs\\infer-subc\\lib\\site-packages\\ome_types\\_convenience.py:112: FutureWarning: The default XML parser will be changing from 'xmlschema' to 'lxml' in version 0.4.0.  To silence this warning, please provide the `parser` argument, specifying either 'lxml' (to opt into the new behavior), or'xmlschema' (to retain the old behavior).\n",
      "  d = to_dict(os.fspath(xml), parser=parser, validate=validate)\n"
     ]
    }
   ],
   "source": [
    "img_data,meta_dict = read_czi_image(test_img_name)\n",
    "\n",
    "channel_names = meta_dict['name']\n",
    "img = meta_dict['metadata']['aicsimage']\n",
    "scale = meta_dict['scale']\n",
    "channel_axis = meta_dict['channel_axis']"
   ]
  },
  {
   "attachments": {},
   "cell_type": "markdown",
   "metadata": {},
   "source": [
    "----------\n",
    "##  infer ***cytoplasm***\n",
    "\n",
    "### summary of steps\n",
    "\n",
    "➡️ INPUT (extract)\n",
    "- segmented ***nuclei*** objects (from [01_infer_nuclei](./02_infer_cellmask_from-composite.ipynb))\n",
    "- segmented ***cellmask*** object (from [02_infer_cellmask_from-composite](./02_infer_cellmask_from-composite.ipynb))\n",
    "\n",
    "PRE-PROCESSING\n",
    "  - N/A\n",
    "\n",
    "CORE PROCESSING\n",
    "  - mask nuclei with ***cellmask*** to select single ***nucleus***\n",
    "  - erode ***nucleus*** (shrink; *optional*)\n",
    "  - XOR(***nucleus***, ***cellmask***)\n",
    "\n",
    "POST-PROCESSING\n",
    "  - N/A\n",
    "\n",
    "OUTPUT ➡️ \n",
    "  - save single ***nucleus*** (nuc, N1) at unsigned integer 8-bit tif files\n",
    "  - save ***cytoplasm*** (cyto, CY) at unsigned integer 8-bit tif files"
   ]
  },
  {
   "attachments": {},
   "cell_type": "markdown",
   "metadata": {},
   "source": [
    "## GET nuclei segmentation output"
   ]
  },
  {
   "cell_type": "code",
   "execution_count": 4,
   "metadata": {},
   "outputs": [
    {
     "name": "stdout",
     "output_type": "stream",
     "text": [
      "loaded  inferred 3D `nuclei`  from C:\\Users\\Shannon\\Documents\\Python Scripts\\Infer-subc-2D\\out \n"
     ]
    }
   ],
   "source": [
    "nuclei =  get_nuclei(img_data,meta_dict, out_data_path)"
   ]
  },
  {
   "cell_type": "code",
   "execution_count": 5,
   "metadata": {},
   "outputs": [
    {
     "data": {
      "text/plain": [
       "dtype('uint16')"
      ]
     },
     "execution_count": 5,
     "metadata": {},
     "output_type": "execute_result"
    }
   ],
   "source": [
    "nuclei.dtype"
   ]
  },
  {
   "attachments": {},
   "cell_type": "markdown",
   "metadata": {},
   "source": [
    "## GET cellmask segmentation output"
   ]
  },
  {
   "cell_type": "code",
   "execution_count": 6,
   "metadata": {},
   "outputs": [
    {
     "name": "stdout",
     "output_type": "stream",
     "text": [
      "loaded  inferred 3D `cell`  from C:\\Users\\Shannon\\Documents\\Python Scripts\\Infer-subc-2D\\out \n"
     ]
    }
   ],
   "source": [
    "cellmask = get_cellmask(img_data, nuclei, meta_dict, out_data_path)"
   ]
  },
  {
   "cell_type": "code",
   "execution_count": 7,
   "metadata": {},
   "outputs": [
    {
     "data": {
      "text/plain": [
       "dtype('uint16')"
      ]
     },
     "execution_count": 7,
     "metadata": {},
     "output_type": "execute_result"
    }
   ],
   "source": [
    "cellmask.dtype"
   ]
  },
  {
   "attachments": {},
   "cell_type": "markdown",
   "metadata": {},
   "source": [
    "## EXTRACTION prototype\n",
    "\n",
    "No extraction steps needed for this workflow."
   ]
  },
  {
   "attachments": {},
   "cell_type": "markdown",
   "metadata": {},
   "source": [
    "## PRE-PROCESSING prototype\n",
    "\n",
    "No pre-processing steps needed for this workflow."
   ]
  },
  {
   "attachments": {},
   "cell_type": "markdown",
   "metadata": {},
   "source": [
    "## CORE PROCESSING prototype"
   ]
  },
  {
   "cell_type": "code",
   "execution_count": 8,
   "metadata": {},
   "outputs": [],
   "source": [
    "###################\n",
    "# CORE_PROCESSING\n",
    "###################\n",
    "# mask the nuclei segmentation with the cellmask to select the single nucleus\n",
    "nucleus_obj =  apply_mask(nuclei, cellmask) \n",
    "\n",
    "# erode nucleus if desired (this likely depends on the type of label used)\n",
    "nucleus_eroded = binary_erosion(nucleus_obj)\n",
    "\n",
    "# select the cytoplasmic area (two ways shown here)\n",
    "cyto_object = np.logical_and(cellmask,~nucleus_eroded)\n",
    "cyto_object_xor = np.logical_xor(cellmask,nucleus_eroded)\n",
    "\n",
    "nucleus_out = label_bool_as_uint16(nucleus_obj)\n",
    "cytoplasm_out = label_bool_as_uint16(cyto_object_xor))"
   ]
  },
  {
   "cell_type": "code",
   "execution_count": 9,
   "metadata": {},
   "outputs": [
    {
     "data": {
      "text/plain": [
       "(dtype('bool'), dtype('bool'))"
      ]
     },
     "execution_count": 9,
     "metadata": {},
     "output_type": "execute_result"
    }
   ],
   "source": [
    "nucleus_out.dtype, cytoplasm_out.dtype"
   ]
  },
  {
   "attachments": {},
   "cell_type": "markdown",
   "metadata": {},
   "source": [
    "## POST-PROCESSING prototype\n",
    "\n",
    "No post-processing steps needed for this workflow."
   ]
  },
  {
   "attachments": {},
   "cell_type": "markdown",
   "metadata": {},
   "source": [
    "## LABELING prototype\n",
    "\n",
    "No labeling steps needed for this workflow."
   ]
  },
  {
   "attachments": {},
   "cell_type": "markdown",
   "metadata": {},
   "source": [
    "## Visualize with `napari` "
   ]
  },
  {
   "cell_type": "code",
   "execution_count": 10,
   "metadata": {},
   "outputs": [
    {
     "name": "stderr",
     "output_type": "stream",
     "text": [
      "WARNING: QWindowsWindow::setGeometry: Unable to set geometry 1090x686+4-6 (frame: 1108x733-5-44) on QWidgetWindow/\"_QtMainWindowClassWindow\" on \"\\\\.\\DISPLAY1\". Resulting geometry: 1365x859+5+1 (frame: 1383x906-4-37) margins: 9, 38, 9, 9 minimum size: 612x589 MINMAXINFO maxSize=0,0 maxpos=0,0 mintrack=630,636 maxtrack=0,0)\n",
      "30-May-23 12:34:27 - vispy    - WARNING  - QWindowsWindow::setGeometry: Unable to set geometry 1090x686+4-6 (frame: 1108x733-5-44) on QWidgetWindow/\"_QtMainWindowClassWindow\" on \"\\\\.\\DISPLAY1\". Resulting geometry: 1365x859+5+1 (frame: 1383x906-4-37) margins: 9, 38, 9, 9 minimum size: 612x589 MINMAXINFO maxSize=0,0 maxpos=0,0 mintrack=630,636 maxtrack=0,0)\n"
     ]
    }
   ],
   "source": [
    "viewer = napari.view_image(cellmask, opacity=0.3)"
   ]
  },
  {
   "cell_type": "code",
   "execution_count": 11,
   "metadata": {},
   "outputs": [
    {
     "data": {
      "text/plain": [
       "<Image layer 'cyto_object_xor' at 0x12feada0e50>"
      ]
     },
     "execution_count": 11,
     "metadata": {},
     "output_type": "execute_result"
    }
   ],
   "source": [
    "viewer.add_image(\n",
    "    nucleus_eroded,\n",
    "    opacity=0.3)    \n",
    "\n",
    "viewer.add_image(\n",
    "    nucleus_obj,\n",
    "    opacity=0.3) \n",
    "\n",
    "viewer.add_image(\n",
    "    cyto_object_xor,\n",
    "    opacity=0.3) "
   ]
  },
  {
   "attachments": {},
   "cell_type": "markdown",
   "metadata": {},
   "source": [
    "## SAVE inferred nucleus and cytoplasm to .tif file"
   ]
  },
  {
   "cell_type": "code",
   "execution_count": 12,
   "metadata": {},
   "outputs": [
    {
     "name": "stdout",
     "output_type": "stream",
     "text": [
      "saved file: a24hrs-Ctrl_14_Unmixing-nuc\n",
      "saved file: a24hrs-Ctrl_14_Unmixing-cyto\n"
     ]
    }
   ],
   "source": [
    "out_file_n = export_inferred_organelle(nucleus_out, \"nuc\", meta_dict, out_data_path)\n",
    "out_file_c = export_inferred_organelle(cytoplasm_out, \"cyto\", meta_dict, out_data_path)"
   ]
  },
  {
   "attachments": {},
   "cell_type": "markdown",
   "metadata": {},
   "source": [
    "----------\n",
    "## DEFINE `_infer_cytoplasm` function\n",
    "\n",
    "Based on the _prototyping_ above define the function to infer cytoplasm.  \n",
    "\n",
    "> NOTE: these functions mainly serve for downstream prototyping in the notebooks. Each step above has an independent function that is implemented in the plugin for easy of use."
   ]
  },
  {
   "cell_type": "code",
   "execution_count": 13,
   "metadata": {},
   "outputs": [],
   "source": [
    "def _infer_cytoplasm(nuclei_object, cellmask,  erode_nuclei = True):\n",
    "    \"\"\"\n",
    "    Procedure to infer cytoplasm from linearly unmixed input.\n",
    "\n",
    "    Parameters\n",
    "    ------------\n",
    "    nuclei_object: \n",
    "        a 3d image containing the nuclei signal\n",
    "    cellmask: \n",
    "        a 3d image containing the cellmask signal\n",
    "    erode_nuclei: \n",
    "        should we erode? Default False\n",
    "\n",
    "    Returns\n",
    "    -------------\n",
    "    cytoplasm_mask \n",
    "        boolean np.ndarray\n",
    "      \n",
    "    \"\"\"\n",
    "    nucleus_obj =  apply_mask(nuclei_object, cellmask) \n",
    "\n",
    "    if erode_nuclei:\n",
    "        # cytoplasm_mask = np.logical_and(cellmask, ~binary_erosion(nuclei_object))\n",
    "        cytoplasm_mask = np.logical_xor(cellmask, binary_erosion(nucleus_obj))\n",
    "    else:\n",
    "        # cytoplasm_mask = np.logical_and(cellmask, ~nuclei_object)\n",
    "        cytoplasm_mask = np.logical_xor(cellmask, nucleus_obj)\n",
    "\n",
    "    return label_bool_as_uint16(cytoplasm_mask)"
   ]
  },
  {
   "attachments": {},
   "cell_type": "markdown",
   "metadata": {},
   "source": [
    "## TEST `_infer_cytoplasm` function defined above"
   ]
  },
  {
   "cell_type": "code",
   "execution_count": 14,
   "metadata": {},
   "outputs": [
    {
     "data": {
      "text/plain": [
       "dtype('bool')"
      ]
     },
     "execution_count": 14,
     "metadata": {},
     "output_type": "execute_result"
    }
   ],
   "source": [
    "_CY_object = _infer_cytoplasm(nuclei, cellmask, erode_nuclei=True)\n",
    "\n",
    "_CY_object.dtype"
   ]
  },
  {
   "cell_type": "code",
   "execution_count": 15,
   "metadata": {},
   "outputs": [
    {
     "data": {
      "text/plain": [
       "True"
      ]
     },
     "execution_count": 15,
     "metadata": {},
     "output_type": "execute_result"
    }
   ],
   "source": [
    "np.all(cytoplasm_out == _CY_object)"
   ]
  },
  {
   "attachments": {},
   "cell_type": "markdown",
   "metadata": {},
   "source": [
    "--------------------------\n",
    "\n",
    "## TEST `infer_cytoplasm` exported functions\n",
    "\n",
    "\n",
    "The prototype `_infer_cytoplasm` was copied to the [`.organelles.cytoplasm`](../infer_subc/organelles/cytoplasm.py) sub-module."
   ]
  },
  {
   "cell_type": "code",
   "execution_count": 16,
   "metadata": {},
   "outputs": [
    {
     "data": {
      "text/plain": [
       "dtype('bool')"
      ]
     },
     "execution_count": 16,
     "metadata": {},
     "output_type": "execute_result"
    }
   ],
   "source": [
    "from infer_subc.organelles.cytoplasm import infer_cytoplasm\n",
    "cytoplasm_mask =  infer_cytoplasm(nuclei, cellmask, erode_nuclei=True) \n",
    "\n",
    "cytoplasm_mask.dtype"
   ]
  },
  {
   "cell_type": "code",
   "execution_count": 17,
   "metadata": {},
   "outputs": [
    {
     "data": {
      "text/plain": [
       "True"
      ]
     },
     "execution_count": 17,
     "metadata": {},
     "output_type": "execute_result"
    }
   ],
   "source": [
    "np.all(_CY_object == cytoplasm_mask)"
   ]
  },
  {
   "attachments": {},
   "cell_type": "markdown",
   "metadata": {},
   "source": [
    "## Visualize  2\n"
   ]
  },
  {
   "cell_type": "code",
   "execution_count": 18,
   "metadata": {},
   "outputs": [
    {
     "data": {
      "text/plain": [
       "<Labels layer 'cytoplasm_mask [1]' at 0x12fed0537f0>"
      ]
     },
     "execution_count": 18,
     "metadata": {},
     "output_type": "execute_result"
    }
   ],
   "source": [
    "viewer.add_image(\n",
    "    cytoplasm_mask)\n",
    "\n",
    "viewer.add_labels(\n",
    "    cytoplasm_mask)"
   ]
  },
  {
   "cell_type": "code",
   "execution_count": 19,
   "metadata": {},
   "outputs": [
    {
     "data": {
      "image/png": "[encoded data removed]",
      "text/html": [
       "<img src=\"data:image/png;base64,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\"></img>"
      ],
      "text/plain": [
       "<napari.utils.notebook_display.NotebookScreenshot at 0x12fed205090>"
      ]
     },
     "execution_count": 19,
     "metadata": {},
     "output_type": "execute_result"
    }
   ],
   "source": [
    "from napari.utils.notebook_display import nbscreenshot\n",
    "\n",
    "nbscreenshot(viewer, canvas_only=True)"
   ]
  },
  {
   "cell_type": "code",
   "execution_count": 20,
   "metadata": {},
   "outputs": [],
   "source": [
    "viewer.close()"
   ]
  },
  {
   "attachments": {},
   "cell_type": "markdown",
   "metadata": {},
   "source": [
    "-------------\n",
    "## SUMMARY\n",
    "\n",
    "The above details how the cytoplasm mask is inferred. \n",
    "\n",
    "### NEXT: INFER LYSOSOME\n",
    "\n",
    "proceed to [04_infer_lysosome.ipynb](./04_infer_lysosome.ipynb)\n"
   ]
  }
 ],
 "metadata": {
  "kernelspec": {
   "display_name": "Python 3.9.13 ('napariNEW')",
   "language": "python",
   "name": "python3"
  },
  "language_info": {
   "codemirror_mode": {
    "name": "ipython",
    "version": 3
   },
   "file_extension": ".py",
   "mimetype": "text/x-python",
   "name": "python",
   "nbconvert_exporter": "python",
   "pygments_lexer": "ipython3",
   "version": "3.10.11"
  },
  "orig_nbformat": 4,
  "vscode": {
   "interpreter": {
    "hash": "d6148ef1fb015fb20f0b6da2ea61c87c6b848bdf3dabb03087e5d5cd0c4607e9"
   }
  }
 },
 "nbformat": 4,
 "nbformat_minor": 2
}
