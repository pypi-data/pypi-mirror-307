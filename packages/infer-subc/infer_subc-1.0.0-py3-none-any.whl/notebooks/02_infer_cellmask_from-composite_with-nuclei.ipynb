{
 "cells": [
  {
   "attachments": {},
   "cell_type": "markdown",
   "metadata": {},
   "source": [
    "# Infer ***cellmask*** from a composite image -  2️⃣ \n",
    "\n",
    "--------------\n",
    "\n",
    "## OVERVIEW\n",
    "In this notebook, we will continue segmenting the different cell regions - the nucleus, cell, and cytoplasm - since they will be necessary for determining which organelle are in which cell. This is integral to our single cell analysis approach.\n",
    "\n",
    "This notebook goes through the workflow steps to segment the ***cell*** from a composite image made from a combination of fluorescent organelle marker.\n",
    "\n",
    "> WARNING: 🚨🚨🚨🚨\n",
    ">> Because we do NOT have a direct cell membrane or cell-fill signal, this segmentation is difficult and potentially problematic. The cell mask will be used to determine the area of each single in our single cell analysis.\n",
    "\n",
    "\n",
    "\n",
    "## OBJECTIVE: \n",
    "### ✅ Infer sub-cellular component #2: ***cellmask***\n",
    "Segment the cell area -- the ***cellmask*** -- from a composite image of multiple organelle markers combined. This method is used in the case where there is no cell fill/membrane marker.\n",
    "\n",
    "In this example, there are multiple cells per field of view, but some of the cells do not contain all of the fluorescent markers (due to the transfection protocol used). Therefore, we will use a single cell selection process to identify the cell with the highest total fluorescence after all markers are combined. This assumption could lead to the selection of the \"wrong\" cell, but in pratice it has worked reasonably well. *In the future, more sophisticated quality control methods could be implemented to select cells with all of the labels.*\n",
    "\n",
    "The cellmask will be necessary for determining the area of individual cells in our single cell analysis approach.\n",
    "\n",
    "> ***Biological relevance:*** \n",
    "> The combination of organelle markers used to create the composite image for the cellmask segmentation depends on the organelle labeles used and the cell type. In this example, the current selection includes the lysosomes, ER, and Golgi (e.g., Ch = 1, 3, 5) which have some intracellular background fluorescence - likely from off target marker localization. The lipid droplet channel (e.g., `ch = 6`) could also be included to produce a more unbiased selection of the entire cellmask as it binds to all cellular membranes to a small extent. However, the drawback of this is that it is present in every cell which makes downstream cell selection of a single cell more challenging. \n",
    ">\n",
    "> *It is important to consider specifics of your system as the cell type and labeling method may differ from the example above.*"
   ]
  },
  {
   "attachments": {},
   "cell_type": "markdown",
   "metadata": {},
   "source": [
    "\n",
    "\n",
    "## IMPORTS"
   ]
  },
  {
   "cell_type": "code",
   "execution_count": 1,
   "metadata": {},
   "outputs": [],
   "source": [
    "# top level imports\n",
    "from pathlib import Path\n",
    "import os, sys\n",
    "from collections import defaultdict\n",
    "from typing import Union, Tuple, List\n",
    "\n",
    "import numpy as np\n",
    "\n",
    "from scipy import ndimage as ndi\n",
    "from aicssegmentation.core.pre_processing_utils import ( intensity_normalization, \n",
    "                                                         image_smoothing_gaussian_slice_by_slice )\n",
    "from aicssegmentation.core.MO_threshold import MO\n",
    "from aicssegmentation.core.utils import hole_filling\n",
    "\n",
    "from skimage import filters\n",
    "from skimage.segmentation import watershed, clear_border\n",
    "from skimage.morphology import remove_small_holes   # function for post-processing (size filter)\n",
    "from skimage.measure import label\n",
    "\n",
    "# # package for io \n",
    "from aicsimageio import AICSImage\n",
    "\n",
    "import napari\n",
    "\n",
    "### import local python functions in ../infer_subc\n",
    "sys.path.append(os.path.abspath((os.path.join(os.getcwd(), '..'))))\n",
    "\n",
    "\n",
    "from infer_subc.core.file_io import (read_czi_image,\n",
    "                                     read_ome_image,\n",
    "                                     import_inferred_organelle,\n",
    "                                     export_inferred_organelle,\n",
    "                                     list_image_files)\n",
    "\n",
    "                                             \n",
    "from infer_subc.core.img import *\n",
    "from infer_subc.organelles import (get_nuclei, \n",
    "                                   non_linear_cellmask_transform,\n",
    "                                   choose_max_label_cellmask_union_nucleus)\n",
    "from infer_subc.constants import (TEST_IMG_N,\n",
    "                                  NUC_CH ,\n",
    "                                  LYSO_CH ,\n",
    "                                  MITO_CH ,\n",
    "                                  GOLGI_CH ,\n",
    "                                  PEROX_CH ,\n",
    "                                  ER_CH ,\n",
    "                                  LD_CH ,\n",
    "                                  RESIDUAL_CH) \n",
    "\n",
    "\n",
    "%load_ext autoreload\n",
    "%autoreload 2\n"
   ]
  },
  {
   "attachments": {},
   "cell_type": "markdown",
   "metadata": {},
   "source": [
    "## Get and load Image for processing"
   ]
  },
  {
   "cell_type": "code",
   "execution_count": 2,
   "metadata": {},
   "outputs": [],
   "source": [
    "test_img_n = TEST_IMG_N\n",
    "\n",
    "data_root_path = Path(os.path.expanduser(\"~\")) / \"Documents/Python Scripts/Infer-subc-2D\"\n",
    "\n",
    "in_data_path = data_root_path / \"raw\"\n",
    "im_type = \".czi\"\n",
    "\n",
    "img_file_list = list_image_files(in_data_path,im_type)\n",
    "test_img_name = img_file_list[test_img_n]\n",
    "\n",
    "out_data_path = data_root_path / \"out\"\n",
    "if not Path.exists(out_data_path):\n",
    "    Path.mkdir(out_data_path)\n",
    "    print(f\"making {out_data_path}\")"
   ]
  },
  {
   "cell_type": "code",
   "execution_count": 3,
   "metadata": {},
   "outputs": [
    {
     "name": "stderr",
     "output_type": "stream",
     "text": [
      "c:\\Users\\Shannon\\anaconda3\\envs\\infer-subc\\lib\\site-packages\\ome_types\\_convenience.py:112: FutureWarning: The default XML parser will be changing from 'xmlschema' to 'lxml' in version 0.4.0.  To silence this warning, please provide the `parser` argument, specifying either 'lxml' (to opt into the new behavior), or'xmlschema' (to retain the old behavior).\n",
      "  d = to_dict(os.fspath(xml), parser=parser, validate=validate)\n"
     ]
    }
   ],
   "source": [
    "img_data,meta_dict = read_czi_image(test_img_name)\n",
    "\n",
    "channel_names = meta_dict['name']\n",
    "img = meta_dict['metadata']['aicsimage']\n",
    "scale = meta_dict['scale']\n",
    "channel_axis = meta_dict['channel_axis']"
   ]
  },
  {
   "attachments": {},
   "cell_type": "markdown",
   "metadata": {},
   "source": [
    "----------\n",
    "##  infer ***cellmask***\n",
    "\n",
    "### summary of steps\n",
    "\n",
    "➡️ INPUT (extract)\n",
    "- segmented nuclei object (from [01_infer_nuclei](./02_infer_cellmask_from-composite.ipynb))\n",
    "- create composite image from multiple organelle channels\n",
    "\n",
    "PRE-PROCESSING\n",
    "- rescale image intensities: \n",
    "    - min=0, max=1\n",
    "- smooth image:\n",
    "    - median filter (media size = user input)\n",
    "    - gaussian filter (sigma = user input)\n",
    "- log transform image\n",
    "- apply scharr edge detection filter \n",
    "- combine log imge + scharr edge filtered intensity\n",
    "\n",
    "CORE PROCESSING\n",
    "- apply MO thresholding method from the Allen Cell [aicssegmentation](https://github.com/AllenCell/aics-segmentation) package (threshold options = user input)\n",
    "\n",
    "POST-PROCESSING\n",
    "  - fill holes (hole size = user input)\n",
    "  - remove small objects (object size = user input)\n",
    "\n",
    "OUTPUT ➡️ \n",
    "  - label unique cell objects based on watershed seeded from the nuclei objects\n",
    "  - select the single cell with the highest combined fluorescence \n",
    "  - save single ***cellmask*** (cell, CM) at unsigned integer 8-bit tif files\n",
    "\n",
    "\n",
    "> ***Note:*** this pipeline will eventually include a selection step to identify the cellmask that are properly labeled with all fluorescent markers. This could be one single cell per image, or more if applicable data is available.\n"
   ]
  },
  {
   "attachments": {},
   "cell_type": "markdown",
   "metadata": {},
   "source": [
    "## GET nuclei segmentation output"
   ]
  },
  {
   "cell_type": "code",
   "execution_count": 4,
   "metadata": {},
   "outputs": [
    {
     "name": "stdout",
     "output_type": "stream",
     "text": [
      "loaded  inferred 3D `nuclei`  from C:\\Users\\Shannon\\Documents\\Python Scripts\\Infer-subc-2D\\out \n"
     ]
    }
   ],
   "source": [
    "# Import nuclei segmentation from output folder, or \n",
    "# run nuclei segmentation with hard coded segmentation settings (not ideal for most scenarios)\n",
    "nuclei_labels = get_nuclei(img_data, meta_dict, out_data_path)"
   ]
  },
  {
   "cell_type": "code",
   "execution_count": 5,
   "metadata": {},
   "outputs": [
    {
     "data": {
      "text/plain": [
       "dtype('uint16')"
      ]
     },
     "execution_count": 5,
     "metadata": {},
     "output_type": "execute_result"
    }
   ],
   "source": [
    "# check the the image was correctly saved as uint16\n",
    "nuclei_labels.dtype"
   ]
  },
  {
   "attachments": {},
   "cell_type": "markdown",
   "metadata": {},
   "source": [
    "## EXTRACTION prototype"
   ]
  },
  {
   "cell_type": "code",
   "execution_count": 6,
   "metadata": {},
   "outputs": [],
   "source": [
    "###################\n",
    "# INPUT\n",
    "###################\n",
    "# add channels together with different weights\n",
    "struct_img_raw = (3. * img_data[GOLGI_CH].copy().astype(np.double) +\n",
    "                  3. * img_data[PEROX_CH].copy().astype(np.double) + \n",
    "                  2. * img_data[ER_CH].copy().astype(np.double))"
   ]
  },
  {
   "cell_type": "code",
   "execution_count": 7,
   "metadata": {},
   "outputs": [
    {
     "data": {
      "text/plain": [
       "(array([3969., 3392., 1520., 2878., 1434., 3268., 1647., 3816., 2308.,\n",
       "        3933.]),\n",
       " array([3969., 3392., 1520., 2878., 1434., 3268., 1647., 3816., 2308.,\n",
       "        3933.]),\n",
       " array([3969., 3392., 1520., 2878., 1434., 3268., 1647., 3816., 2308.,\n",
       "        3933.]))"
      ]
     },
     "execution_count": 7,
     "metadata": {},
     "output_type": "execute_result"
    }
   ],
   "source": [
    "# Creating a function to create composite image:\n",
    "weights =  [0,0,0,3,3,2]\n",
    "struct_img_raw2 = weighted_aggregate(img_data, *weights)\n",
    "\n",
    "# use splat so we can also break out the arguments for our napari widget later\n",
    "struct_img_raw3 = weighted_aggregate(img_data, 0,0,0,3,3,2)\n",
    "\n",
    "\n",
    "# Comfirming the results are the same:\n",
    "struct_img_raw[0,0:10,0], struct_img_raw2[0,0:10,0], struct_img_raw3[0,0:10,0]"
   ]
  },
  {
   "attachments": {},
   "cell_type": "markdown",
   "metadata": {},
   "source": [
    "## PRE-PROCESSING prototype\n"
   ]
  },
  {
   "cell_type": "code",
   "execution_count": 8,
   "metadata": {},
   "outputs": [],
   "source": [
    "###################\n",
    "# PRE_PROCESSING\n",
    "###################\n",
    "med_filter_size = 10\n",
    "gaussian_smoothing_sigma = 1.34\n",
    "\n",
    "structure_img_smooth = scale_and_smooth(struct_img_raw2,\n",
    "                                        median_size = med_filter_size, \n",
    "                                        gauss_sigma = gaussian_smoothing_sigma)"
   ]
  },
  {
   "cell_type": "code",
   "execution_count": 9,
   "metadata": {},
   "outputs": [],
   "source": [
    "# log scale the image, apply the scharr edge detection filter to logged image, add the two images together\n",
    "composite_cellmask = non_linear_cellmask_transform(structure_img_smooth)"
   ]
  },
  {
   "attachments": {},
   "cell_type": "markdown",
   "metadata": {},
   "source": [
    "## CORE PROCESSING prototype"
   ]
  },
  {
   "cell_type": "code",
   "execution_count": 10,
   "metadata": {},
   "outputs": [],
   "source": [
    "###################\n",
    "# CORE_PROCESSING\n",
    "###################\n",
    "# threshold the composite image after log/edge detection using the MO filter function from aicssegmentation - this applies a global threshold, then a local threshold to produce a semantic segmentation\n",
    "thresh_method = 'med'\n",
    "cutoff_size =  150\n",
    "thresh_adj = 0.3\n",
    "\n",
    "bw = masked_object_thresh(composite_cellmask, \n",
    "                          global_method=thresh_method, \n",
    "                          cutoff_size=cutoff_size, \n",
    "                          local_adjust=thresh_adj)"
   ]
  },
  {
   "attachments": {},
   "cell_type": "markdown",
   "metadata": {},
   "source": [
    "## POST-PROCESSING prototype"
   ]
  },
  {
   "cell_type": "code",
   "execution_count": 11,
   "metadata": {},
   "outputs": [],
   "source": [
    "###################\n",
    "# POST_PROCESSING\n",
    "###################\n",
    "hole_min_width = 0\n",
    "hole_max_width = 50\n",
    "\n",
    "small_object_width = 45\n",
    "\n",
    "# removed_holes = hole_filling_linear_size(li_thresholded, \n",
    "#                                          hole_min=hole_min_width, \n",
    "#                                          hole_max=hole_max_width)\n",
    "# \n",
    "# cleaned_img = size_filter_linear_size(removed_holes,\n",
    "#                                       min_size=small_object_width)\n",
    "\n",
    "cleaned_img2 = fill_and_filter_linear_size(bw, \n",
    "                                           hole_min=hole_min_width, \n",
    "                                           hole_max=hole_max_width, \n",
    "                                           min_size= small_object_width)"
   ]
  },
  {
   "attachments": {},
   "cell_type": "markdown",
   "metadata": {},
   "source": [
    "## POST POST-PROCESSING prototype"
   ]
  },
  {
   "cell_type": "code",
   "execution_count": 12,
   "metadata": {},
   "outputs": [],
   "source": [
    "###################\n",
    "# POST- POST_PROCESSING\n",
    "###################\n",
    "# apply a watershed to the inverted image using the nuclei as a seed for each cell\n",
    "watershed_method = '3D'\n",
    "cellmask_labels = masked_inverted_watershed(structure_img_smooth, \n",
    "                                            nuclei_labels, \n",
    "                                            cleaned_img2,\n",
    "                                            method=watershed_method)\n",
    "\n",
    "# find the cell with the highest total fluorescence after combining all channels together\n",
    "keep_label = get_max_label(composite_cellmask, \n",
    "                           cellmask_labels)\n",
    "\n",
    "\n",
    "# combine the above and find the nucleus associated to the highest fluorescence cell\n",
    "cellmask_out = choose_max_label_cellmask_union_nucleus(structure_img_smooth,\n",
    "                                                       cleaned_img2, \n",
    "                                                       nuclei_labels,\n",
    "                                                       watershed_method=watershed_method)\n",
    "\n",
    "cellmask = label_bool_as_uint16(cellmask_out)"
   ]
  },
  {
   "cell_type": "code",
   "execution_count": 13,
   "metadata": {},
   "outputs": [
    {
     "data": {
      "text/plain": [
       "dtype('bool')"
      ]
     },
     "execution_count": 13,
     "metadata": {},
     "output_type": "execute_result"
    }
   ],
   "source": [
    "cellmask.dtype"
   ]
  },
  {
   "attachments": {},
   "cell_type": "markdown",
   "metadata": {},
   "source": [
    "## LABELING prototype\n",
    "\n",
    "No labeling steps needed for this workflow."
   ]
  },
  {
   "attachments": {},
   "cell_type": "markdown",
   "metadata": {},
   "source": [
    "## Visualize with `napari` 1\n",
    "Visualize the first-pass segmentation and labeling with `napari`."
   ]
  },
  {
   "cell_type": "code",
   "execution_count": 14,
   "metadata": {},
   "outputs": [
    {
     "name": "stderr",
     "output_type": "stream",
     "text": [
      "WARNING: QWindowsWindow::setGeometry: Unable to set geometry 1090x686+3+1 (frame: 1108x733-6-37) on QWidgetWindow/\"_QtMainWindowClassWindow\" on \"\\\\.\\DISPLAY1\". Resulting geometry: 1365x859+4+8 (frame: 1383x906-5-30) margins: 9, 38, 9, 9 minimum size: 612x589 MINMAXINFO maxSize=0,0 maxpos=0,0 mintrack=630,636 maxtrack=0,0)\n",
      "30-May-23 12:31:29 - vispy    - WARNING  - QWindowsWindow::setGeometry: Unable to set geometry 1090x686+3+1 (frame: 1108x733-6-37) on QWidgetWindow/\"_QtMainWindowClassWindow\" on \"\\\\.\\DISPLAY1\". Resulting geometry: 1365x859+4+8 (frame: 1383x906-5-30) margins: 9, 38, 9, 9 minimum size: 612x589 MINMAXINFO maxSize=0,0 maxpos=0,0 mintrack=630,636 maxtrack=0,0)\n"
     ]
    }
   ],
   "source": [
    "viewer = napari.view_image(cleaned_img2, \n",
    "                           scale=scale)"
   ]
  },
  {
   "cell_type": "code",
   "execution_count": 15,
   "metadata": {},
   "outputs": [
    {
     "data": {
      "text/plain": [
       "<Labels layer 'cellmask' at 0x16c8bd47070>"
      ]
     },
     "execution_count": 15,
     "metadata": {},
     "output_type": "execute_result"
    }
   ],
   "source": [
    "viewer.add_labels(\n",
    "    cellmask, \n",
    "    scale=scale)"
   ]
  },
  {
   "attachments": {},
   "cell_type": "markdown",
   "metadata": {},
   "source": [
    "## SAVE inferred nuclei to .tif file\n",
    "\n",
    "Based on the _prototyping_ above define the function to infer nuclei.  \n"
   ]
  },
  {
   "cell_type": "code",
   "execution_count": 16,
   "metadata": {},
   "outputs": [
    {
     "name": "stdout",
     "output_type": "stream",
     "text": [
      "saved file: a24hrs-Ctrl_14_Unmixing-cell\n"
     ]
    }
   ],
   "source": [
    "out_file_n = export_inferred_organelle(cellmask, \"cell\", meta_dict, out_data_path)"
   ]
  },
  {
   "attachments": {},
   "cell_type": "markdown",
   "metadata": {},
   "source": [
    "----------\n",
    "## DEFINE `infer_cellmask_fromcomposite` function\n",
    "\n",
    "Based on the _prototyping_ above define the function to infer nuclei. \n",
    "\n",
    "> NOTE: these functions mainly serve for downstream prototyping in the notebooks. Each step above has an independent function that is implemented in the plugin for easy of use."
   ]
  },
  {
   "cell_type": "code",
   "execution_count": 17,
   "metadata": {},
   "outputs": [],
   "source": [
    "##########################\n",
    "# 1. infer_cellmask_fromaggr\n",
    "##########################\n",
    "def _infer_cellmask_fromcomposite(in_img: np.ndarray,\n",
    "                                  weights: list[int],\n",
    "                                  nuclei_labels: np.ndarray,\n",
    "                                  median_sz: int,\n",
    "                                  gauss_sig: float,\n",
    "                                  mo_method: str,\n",
    "                                  mo_adjust: float,\n",
    "                                  mo_cutoff_size: int,\n",
    "                                  min_hole_w: int,\n",
    "                                  max_hole_w: int,\n",
    "                                  small_obj_w: int,\n",
    "                                  watershed_method: str\n",
    "                                  ) -> np.ndarray:\n",
    "    \"\"\"\n",
    "    Procedure to infer cellmask from linear unmixed input.\n",
    "\n",
    "    Parameters\n",
    "    ------------\n",
    "    in_img: \n",
    "        a 3d image containing all the channels\n",
    "    weights:\n",
    "        a list of int that corresond to the weights for each channel in the composite; use 0 if a channel should not be included in the composite image\n",
    "    nuclei_labels: \n",
    "        a 3d image containing the inferred nuclei labels\n",
    "    median_sz: \n",
    "        width of median filter for _cellmask_ signal\n",
    "    gauss_sig: \n",
    "        sigma for gaussian smoothing of _cellmask_ signal\n",
    "    mo_method: \n",
    "         which method to use for calculating global threshold. Options include:\n",
    "         \"triangle\" (or \"tri\"), \"median\" (or \"med\"), and \"ave_tri_med\" (or \"ave\").\n",
    "         \"ave\" refers the average of \"triangle\" threshold and \"mean\" threshold.\n",
    "    mo_adjust: \n",
    "        Masked Object threshold `local_adjust`\n",
    "    mo_cutoff_size: \n",
    "        Masked Object threshold `size_min`\n",
    "    max_hole_w: \n",
    "        hole filling cutoff for cellmask signal post-processing\n",
    "    small_obj_w: \n",
    "        minimu object size cutoff for cellmask signal post-processing\n",
    "    watershed_method:\n",
    "        determines if the watershed should be run 'sice-by-slice' or in '3D' \n",
    "\n",
    "    Returns\n",
    "    -------------\n",
    "    cellmask_mask:\n",
    "        a logical/labels object defining boundaries of cellmask\n",
    "\n",
    "    \"\"\"\n",
    "    ###################\n",
    "    # EXTRACT\n",
    "    ###################\n",
    "    struct_img = weighted_aggregate(in_img, *weights)\n",
    "\n",
    "    ###################\n",
    "    # PRE_PROCESSING\n",
    "    ###################                         \n",
    "    struct_img = scale_and_smooth(struct_img,\n",
    "                                   median_size = median_sz, \n",
    "                                   gauss_sigma = gauss_sig)\n",
    "    \n",
    "\n",
    "    struct_img_non_lin = non_linear_cellmask_transform(struct_img)\n",
    "\n",
    "    ###################\n",
    "    # CORE_PROCESSING\n",
    "    ###################\n",
    "    struct_obj = masked_object_thresh(struct_img_non_lin, \n",
    "                                      global_method=mo_method, \n",
    "                                      cutoff_size=mo_cutoff_size, \n",
    "                                      local_adjust=mo_adjust)               \n",
    "\n",
    "    ###################\n",
    "    # POST_PROCESSING\n",
    "    ###################\n",
    "    struct_obj = fill_and_filter_linear_size(struct_obj, \n",
    "                                             hole_min=min_hole_w, \n",
    "                                             hole_max=max_hole_w, \n",
    "                                             min_size= small_obj_w)\n",
    "\n",
    "    ###################\n",
    "    # POST- POST_PROCESSING\n",
    "    ###################\n",
    "    cellmask_out = choose_max_label_cellmask_union_nucleus(struct_img, \n",
    "                                                           struct_obj, \n",
    "                                                           nuclei_labels, \n",
    "                                                           watershed_method=watershed_method) \n",
    "\n",
    "    return label_bool_as_uint16(cellmask_out)"
   ]
  },
  {
   "attachments": {},
   "cell_type": "markdown",
   "metadata": {},
   "source": [
    "## DEFINE `_fixed_infer_cellmask_fromcomposite` function\n",
    "\n",
    "Based on the _prototyping_ above define the function to infer cellmask. with a *fixed* set of parameters for each step in the procedure.  That is they are all \"hard coded\""
   ]
  },
  {
   "cell_type": "code",
   "execution_count": 18,
   "metadata": {},
   "outputs": [],
   "source": [
    "##########################\n",
    "# 1. fixed_infer_cellmask_fromaggr\n",
    "##########################\n",
    "def _fixed_infer_cellmask_fromcomposite(in_img: np.ndarray, nuclei_labels: np.ndarray) -> np.ndarray:\n",
    "    \"\"\"\n",
    "    Procedure to infer cellmask from linearly unmixed input, with a *fixed* set of parameters for each step in the procedure.  i.e. \"hard coded\"\n",
    "\n",
    "    Parameters\n",
    "    ------------\n",
    "    in_img: \n",
    "        a 3d image containing all the channels\n",
    "    nuclei_labels: \n",
    "        a 3d image containing the inferred nuclei\n",
    "\n",
    "    Returns\n",
    "    -------------\n",
    "    cellmask_mask:\n",
    "        a logical/labels object defining boundaries of cellmask\n",
    "    \"\"\"\n",
    "    \n",
    "\n",
    "    ###################\n",
    "    # PARAMETERS\n",
    "    ###################   \n",
    "    weights = [0,0,0,3,3,2]\n",
    "    median_sz = 10\n",
    "    gauss_sig = 1.34\n",
    "    mo_method = \"med\"\n",
    "    mo_adjust = 0.3\n",
    "    mo_cutoff_size = 150\n",
    "    hole_min_width = 0\n",
    "    hole_max_width = 50\n",
    "    small_obj_w = 45\n",
    "    watershed_method = '3D'\n",
    "\n",
    "    cellmask_out = _infer_cellmask_fromcomposite(in_img,\n",
    "                                                weights,\n",
    "                                                nuclei_labels,\n",
    "                                                median_sz,\n",
    "                                                gauss_sig,\n",
    "                                                mo_method,\n",
    "                                                mo_adjust,\n",
    "                                                mo_cutoff_size,\n",
    "                                                hole_min_width,\n",
    "                                                hole_max_width,\n",
    "                                                small_obj_w,\n",
    "                                                watershed_method) \n",
    "\n",
    "    return cellmask_out"
   ]
  },
  {
   "attachments": {},
   "cell_type": "markdown",
   "metadata": {},
   "source": [
    "## TEST `_infer_cellmask_fromcomposite`  function defined above"
   ]
  },
  {
   "cell_type": "code",
   "execution_count": 19,
   "metadata": {},
   "outputs": [
    {
     "data": {
      "text/plain": [
       "dtype('bool')"
      ]
     },
     "execution_count": 19,
     "metadata": {},
     "output_type": "execute_result"
    }
   ],
   "source": [
    "_CM_object =  _fixed_infer_cellmask_fromcomposite(img_data, nuclei_labels) \n",
    "\n",
    "_CM_object.dtype"
   ]
  },
  {
   "cell_type": "code",
   "execution_count": 20,
   "metadata": {},
   "outputs": [
    {
     "data": {
      "text/plain": [
       "True"
      ]
     },
     "execution_count": 20,
     "metadata": {},
     "output_type": "execute_result"
    }
   ],
   "source": [
    "np.all(cellmask == _CM_object)"
   ]
  },
  {
   "attachments": {},
   "cell_type": "markdown",
   "metadata": {},
   "source": [
    "--------------------------\n",
    "\n",
    "# TEST `infer_cellmask_fromcomposite` exported functions\n"
   ]
  },
  {
   "cell_type": "code",
   "execution_count": 21,
   "metadata": {},
   "outputs": [],
   "source": [
    "from infer_subc.organelles import fixed_infer_cellmask_fromcomposite\n",
    "\n",
    "cellmask_mask =  fixed_infer_cellmask_fromcomposite(img_data, nuclei_labels) "
   ]
  },
  {
   "cell_type": "code",
   "execution_count": 22,
   "metadata": {},
   "outputs": [
    {
     "data": {
      "text/plain": [
       "True"
      ]
     },
     "execution_count": 22,
     "metadata": {},
     "output_type": "execute_result"
    }
   ],
   "source": [
    "np.all(cellmask_out == cellmask_mask)"
   ]
  },
  {
   "attachments": {},
   "cell_type": "markdown",
   "metadata": {},
   "source": [
    "## Visualize  2\n"
   ]
  },
  {
   "cell_type": "code",
   "execution_count": 23,
   "metadata": {},
   "outputs": [
    {
     "data": {
      "text/plain": [
       "<Labels layer 'cellmask_mask' at 0x16c8dd0ff40>"
      ]
     },
     "execution_count": 23,
     "metadata": {},
     "output_type": "execute_result"
    }
   ],
   "source": [
    "viewer.add_labels(\n",
    "    cellmask_mask,\n",
    "    scale=scale)"
   ]
  },
  {
   "cell_type": "code",
   "execution_count": 24,
   "metadata": {},
   "outputs": [
    {
     "data": {
      "image/png": "[encoded data removed]",
      "text/html": [
       "<img src=\"data:image/png;base64,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\"></img>"
      ],
      "text/plain": [
       "<napari.utils.notebook_display.NotebookScreenshot at 0x16c8c123340>"
      ]
     },
     "execution_count": 24,
     "metadata": {},
     "output_type": "execute_result"
    }
   ],
   "source": [
    "from napari.utils.notebook_display import nbscreenshot\n",
    "\n",
    "nbscreenshot(viewer, canvas_only=True)"
   ]
  },
  {
   "cell_type": "code",
   "execution_count": 25,
   "metadata": {},
   "outputs": [],
   "source": [
    "viewer.close()"
   ]
  },
  {
   "attachments": {},
   "cell_type": "markdown",
   "metadata": {},
   "source": [
    "-------------\n",
    "## SUMMARY\n",
    "\n",
    "The above details how the nuclei object is inferred.  \n",
    "\n",
    "### NEXT: INFER CYTOPLASM\n",
    "\n",
    "proceed to [03_infer_cytoplasm.ipynb](./03_infer_cytoplasm.ipynb)\n"
   ]
  }
 ],
 "metadata": {
  "kernelspec": {
   "display_name": "Python 3.9.13 ('napariNEW')",
   "language": "python",
   "name": "python3"
  },
  "language_info": {
   "codemirror_mode": {
    "name": "ipython",
    "version": 3
   },
   "file_extension": ".py",
   "mimetype": "text/x-python",
   "name": "python",
   "nbconvert_exporter": "python",
   "pygments_lexer": "ipython3",
   "version": "3.10.11"
  },
  "orig_nbformat": 4,
  "vscode": {
   "interpreter": {
    "hash": "d6148ef1fb015fb20f0b6da2ea61c87c6b848bdf3dabb03087e5d5cd0c4607e9"
   }
  }
 },
 "nbformat": 4,
 "nbformat_minor": 2
}
