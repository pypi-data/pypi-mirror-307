{
 "cells": [
  {
   "attachments": {},
   "cell_type": "markdown",
   "metadata": {},
   "source": [
    "# Infer ***nucleus*** from the cytoplasm mask - 2️⃣ \n",
    "### Alternative workflow: ***\"a\"*** (an alternative workflow for images with NO **nuclei** or **cell membrane** makers)\n",
    "--------------\n",
    "\n",
    "## OVERVIEW\n",
    "We will start by segmenting the different cell regions - the nucleus, cell, and cytoplasm - since they will be necessary for determining which organelle are in which cell. This is integral to our single cell analysis approach.\n",
    "\n",
    "This notebook goes through the workflow steps to segment the ***nucleus*** from the cytoplasm mask generated in [01a_infer_cytoplasm_from-composite.ipynb](./01a_infer_cytoplasm_from-composite.ipynb).\n",
    "\n",
    "\n",
    "## OBJECTIVE: \n",
    "### ✅ Infer sub-cellular component #2: ***nucleus***\n",
    "Segment the ***nucleus*** from a the cytoplasm mask. The ***cellmask*** masks will be derived from this mask."
   ]
  },
  {
   "attachments": {},
   "cell_type": "markdown",
   "metadata": {},
   "source": [
    "\n",
    "\n",
    "### IMPORTS"
   ]
  },
  {
   "cell_type": "code",
   "execution_count": 1,
   "metadata": {},
   "outputs": [],
   "source": [
    "# top level imports\n",
    "from pathlib import Path\n",
    "import os, sys\n",
    "from collections import defaultdict\n",
    "from typing import Union, Tuple, List\n",
    "\n",
    "import numpy as np\n",
    "\n",
    "from scipy import ndimage as ndi\n",
    "from aicssegmentation.core.pre_processing_utils import ( intensity_normalization, \n",
    "                                                         image_smoothing_gaussian_slice_by_slice )\n",
    "from aicssegmentation.core.MO_threshold import MO\n",
    "from aicssegmentation.core.utils import hole_filling\n",
    "\n",
    "from skimage import filters\n",
    "from skimage.segmentation import watershed, clear_border\n",
    "from skimage.morphology import remove_small_holes, binary_dilation, binary_erosion \n",
    "from skimage.measure import label\n",
    "\n",
    "# # package for io \n",
    "from aicsimageio import AICSImage\n",
    "\n",
    "import napari\n",
    "\n",
    "### import local python functions in ../infer_subc\n",
    "sys.path.append(os.path.abspath((os.path.join(os.getcwd(), '..'))))\n",
    "\n",
    "\n",
    "from infer_subc.core.file_io import (read_czi_image,\n",
    "                                     read_ome_image,\n",
    "                                     import_inferred_organelle,\n",
    "                                     export_inferred_organelle,\n",
    "                                     list_image_files)\n",
    "\n",
    "                                             \n",
    "from infer_subc.core.img import *\n",
    "from infer_subc.organelles import (get_nuclei, \n",
    "                                   get_cytoplasm,\n",
    "                                   non_linear_cellmask_transform,\n",
    "                                   choose_max_label_cellmask_union_nucleus)\n",
    "\n",
    "\n",
    "%load_ext autoreload\n",
    "%autoreload 2"
   ]
  },
  {
   "attachments": {},
   "cell_type": "markdown",
   "metadata": {},
   "source": [
    "## Get and load Image for processing"
   ]
  },
  {
   "cell_type": "code",
   "execution_count": 2,
   "metadata": {},
   "outputs": [],
   "source": [
    "test_img_n = 0\n",
    "\n",
    "data_root_path = Path(os.path.expanduser(\"~\")) / \"Documents/Python Scripts/Infer-subc-2D\"\n",
    "\n",
    "in_data_path = data_root_path / \"neuron_raw_OME\"\n",
    "im_type = \".tiff\"\n",
    "\n",
    "img_file_list = list_image_files(in_data_path,im_type)\n",
    "test_img_name = img_file_list[test_img_n]\n",
    "\n",
    "out_data_path = data_root_path / \"neuron_raw_OME_out-06012023\"\n",
    "if not Path.exists(out_data_path):\n",
    "    Path.mkdir(out_data_path)\n",
    "    print(f\"making {out_data_path}\")"
   ]
  },
  {
   "cell_type": "code",
   "execution_count": 3,
   "metadata": {},
   "outputs": [
    {
     "name": "stderr",
     "output_type": "stream",
     "text": [
      "c:\\Users\\Shannon\\anaconda3\\envs\\infer-subc\\lib\\site-packages\\ome_types\\_convenience.py:112: FutureWarning: The default XML parser will be changing from 'xmlschema' to 'lxml' in version 0.4.0.  To silence this warning, please provide the `parser` argument, specifying either 'lxml' (to opt into the new behavior), or'xmlschema' (to retain the old behavior).\n",
      "  d = to_dict(os.fspath(xml), parser=parser, validate=validate)\n"
     ]
    }
   ],
   "source": [
    "img_data,meta_dict = read_czi_image(test_img_name)\n",
    "\n",
    "channel_names = meta_dict['name']\n",
    "img = meta_dict['metadata']['aicsimage']\n",
    "scale = meta_dict['scale']\n",
    "channel_axis = meta_dict['channel_axis']"
   ]
  },
  {
   "attachments": {},
   "cell_type": "markdown",
   "metadata": {},
   "source": [
    "---------\n",
    "## infer ***nucleus*** from composite image\n",
    "\n",
    "### summary of steps\n",
    "\n",
    "➡️ INPUT\n",
    "- segmented cytoplasm object (from [01a_infer_cytoplasm_from-composite.ipynb](./01a_infer_cytoplasm_from-composite.ipynb))\n",
    "\n",
    "PRE-PROCESSING\n",
    "- binary dilation\n",
    "- fill nucleus (hole size = user input)\n",
    "- binary erosion\n",
    "\n",
    "CORE-PROCESSING\n",
    "- logical **XOR** of the cytoplasm and the filled in cytoplasm resulting in the nucleus and any artifacts from dilation/erosion\n",
    "\n",
    "\n",
    "POST-PROCESSING\n",
    "  - remove small objects (object size = user input)\n",
    "\n",
    "OUTPUT ➡️ \n",
    "- save labeled ***nuclei*** (nucleus, NU) as unsigned integer 16-bit tif files"
   ]
  },
  {
   "attachments": {},
   "cell_type": "markdown",
   "metadata": {},
   "source": [
    "## EXTRACT prototype"
   ]
  },
  {
   "cell_type": "code",
   "execution_count": 4,
   "metadata": {},
   "outputs": [
    {
     "name": "stdout",
     "output_type": "stream",
     "text": [
      "loaded  inferred 3D `cyto`  from C:\\Users\\Shannon\\Documents\\Python Scripts\\Infer-subc-2D\\neuron_raw_OME_out-06012023 \n"
     ]
    }
   ],
   "source": [
    "###################\n",
    "# INPUT\n",
    "###################\n",
    "cytoplasm_mask = import_inferred_organelle(\"cyto\",meta_dict, out_data_path)"
   ]
  },
  {
   "attachments": {},
   "cell_type": "markdown",
   "metadata": {},
   "source": [
    "## PRE-PROCESSING prototype\n"
   ]
  },
  {
   "cell_type": "code",
   "execution_count": 5,
   "metadata": {},
   "outputs": [],
   "source": [
    "###################\n",
    "# PRE_PROCESSING\n",
    "###################           \n",
    "cytoplasm_dilated = binary_dilation(cytoplasm_mask)\n",
    "\n",
    "hole_min_width = 0\n",
    "hole_max_width = 500\n",
    "small_obj_width = 0\n",
    "fill_filter_method = \"3D\"\n",
    "cytoplasm_filled = fill_and_filter_linear_size(cytoplasm_dilated, hole_min=hole_min_width, hole_max=hole_max_width, min_size=small_obj_width, method=fill_filter_method)\n",
    "\n",
    "cytoplasm_eroded = binary_erosion(cytoplasm_filled)"
   ]
  },
  {
   "attachments": {},
   "cell_type": "markdown",
   "metadata": {},
   "source": [
    "## CORE PROCESSING prototype"
   ]
  },
  {
   "cell_type": "code",
   "execution_count": 6,
   "metadata": {},
   "outputs": [],
   "source": [
    "###################\n",
    "# CORE_PROCESSING\n",
    "###################\n",
    "nuclei_xor = np.logical_xor(cytoplasm_mask, cytoplasm_eroded)"
   ]
  },
  {
   "attachments": {},
   "cell_type": "markdown",
   "metadata": {},
   "source": [
    "## POST PROCESSING prototype"
   ]
  },
  {
   "cell_type": "code",
   "execution_count": 7,
   "metadata": {},
   "outputs": [],
   "source": [
    "###################\n",
    "# POST_PROCESSING\n",
    "###################\n",
    "nuc_small_object_width = 20\n",
    "\n",
    "nuc_cleaned_img = fill_and_filter_linear_size(nuclei_xor, hole_min=0, hole_max=0, min_size=nuc_small_object_width, method=\"3D\")"
   ]
  },
  {
   "attachments": {},
   "cell_type": "markdown",
   "metadata": {},
   "source": [
    "## LABELING prototype"
   ]
  },
  {
   "cell_type": "code",
   "execution_count": 8,
   "metadata": {},
   "outputs": [],
   "source": [
    "###################\n",
    "# LABELING\n",
    "###################\n",
    "# create instance segmentation based on connectivity\n",
    "nuclei_labels = label_bool_as_uint16(nuc_cleaned_img)"
   ]
  },
  {
   "cell_type": "code",
   "execution_count": 9,
   "metadata": {},
   "outputs": [
    {
     "data": {
      "text/plain": [
       "dtype('uint16')"
      ]
     },
     "execution_count": 9,
     "metadata": {},
     "output_type": "execute_result"
    }
   ],
   "source": [
    "nuclei_labels.dtype"
   ]
  },
  {
   "attachments": {},
   "cell_type": "markdown",
   "metadata": {},
   "source": [
    "## Visualize with `napari` 1\n",
    "Visualize the first-pass segmentation and labeling with `napari`."
   ]
  },
  {
   "cell_type": "code",
   "execution_count": 10,
   "metadata": {},
   "outputs": [
    {
     "name": "stderr",
     "output_type": "stream",
     "text": [
      "WARNING: QWindowsWindow::setGeometry: Unable to set geometry 1090x686+1221+334 (frame: 1108x733+1212+296) on QWidgetWindow/\"_QtMainWindowClassWindow\" on \"\\\\.\\DISPLAY1\". Resulting geometry: 1365x859+1222+341 (frame: 1383x906+1213+303) margins: 9, 38, 9, 9 minimum size: 612x589 MINMAXINFO maxSize=0,0 maxpos=0,0 mintrack=630,636 maxtrack=0,0)\n",
      "05-Jun-23 17:12:53 - vispy    - WARNING  - QWindowsWindow::setGeometry: Unable to set geometry 1090x686+1221+334 (frame: 1108x733+1212+296) on QWidgetWindow/\"_QtMainWindowClassWindow\" on \"\\\\.\\DISPLAY1\". Resulting geometry: 1365x859+1222+341 (frame: 1383x906+1213+303) margins: 9, 38, 9, 9 minimum size: 612x589 MINMAXINFO maxSize=0,0 maxpos=0,0 mintrack=630,636 maxtrack=0,0)\n"
     ]
    }
   ],
   "source": [
    "viewer = napari.Viewer()"
   ]
  },
  {
   "cell_type": "code",
   "execution_count": 11,
   "metadata": {},
   "outputs": [
    {
     "data": {
      "text/plain": [
       "<Labels layer 'nuclei_labels' at 0x2d41bbe1e10>"
      ]
     },
     "execution_count": 11,
     "metadata": {},
     "output_type": "execute_result"
    }
   ],
   "source": [
    "viewer.add_image(\n",
    "    cytoplasm_mask)\n",
    "\n",
    "viewer.add_labels(\n",
    "    nuclei_labels)"
   ]
  },
  {
   "attachments": {},
   "cell_type": "markdown",
   "metadata": {},
   "source": [
    "## SAVE inferred nuclei to .tif file\n"
   ]
  },
  {
   "cell_type": "code",
   "execution_count": 12,
   "metadata": {},
   "outputs": [
    {
     "name": "stdout",
     "output_type": "stream",
     "text": [
      "saved file: 20221027_C2-107_well_1_cell_1_untreated_Linear_unmixing_decon.ome-nuc\n"
     ]
    }
   ],
   "source": [
    "out_file_n = export_inferred_organelle(nuclei_labels, \"nuc\", meta_dict, out_data_path)"
   ]
  },
  {
   "attachments": {},
   "cell_type": "markdown",
   "metadata": {},
   "source": [
    "----------\n",
    "## DEFINE `infer_nuclei_fromcytoplasm` function\n",
    "\n",
    "Based on the _prototyping_ above define the function to infer nuclei. \n",
    "\n",
    "> NOTE: these functions mainly serve for downstream prototyping in the notebooks. Each step above has an independent function that is implemented in the plugin for easy of use."
   ]
  },
  {
   "cell_type": "code",
   "execution_count": 13,
   "metadata": {},
   "outputs": [],
   "source": [
    "##########################\n",
    "#  _infer_nuclei_fromcytoplasm\n",
    "##########################\n",
    "def _infer_nuclei_fromcytoplasm(cytoplasm_mask: np.ndarray, \n",
    "                                nuc_min_hole_w: int,\n",
    "                                nuc_max_hole_w: int,\n",
    "                                nuc_fill_method: str,\n",
    "                                small_obj_w: int,\n",
    "                                fill_filter_method: str\n",
    "                                ) -> np.ndarray:\n",
    "    \"\"\"\n",
    "    Procedure to infer nuclei from linear unmixed input.\n",
    "\n",
    "    Parameters\n",
    "    ------------\n",
    "    cytoplasm_mask: np.ndarray\n",
    "        a 3d image of the cytoplasm segmentation\n",
    "    max_hole_w: int\n",
    "        hole filling cutoff to fill the nuclei\n",
    "    small_obj_w: int\n",
    "        object size cutoff to remove artifacts from dilation/erosion steps\n",
    "    fill_filter_method: str\n",
    "        to filter artifacts in \"3D\" or \"slice-by-slice\"\n",
    "\n",
    "    Returns\n",
    "    -------------\n",
    "    nuclei_object\n",
    "        mask defined extent of NU\n",
    "    \n",
    "    \"\"\"\n",
    "\n",
    "    ###################\n",
    "    # PRE_PROCESSING\n",
    "    ###################                \n",
    "    cytoplasm_dilated = binary_dilation(cytoplasm_mask)\n",
    "\n",
    "    cytoplasm_filled = fill_and_filter_linear_size(cytoplasm_dilated, \n",
    "                                                   hole_min=nuc_min_hole_w, \n",
    "                                                   hole_max=nuc_max_hole_w, \n",
    "                                                   min_size=0, \n",
    "                                                   method=nuc_fill_method)\n",
    "\n",
    "    cytoplasm_eroded = binary_erosion(cytoplasm_filled)\n",
    "\n",
    "    ###################\n",
    "    # CORE_PROCESSING\n",
    "    ###################\n",
    "    nuclei_xor = np.logical_xor(cytoplasm_mask, cytoplasm_eroded)\n",
    "\n",
    "    ###################\n",
    "    # POST_PROCESSING\n",
    "    ###################\n",
    "    nuclei_object = fill_and_filter_linear_size(nuclei_xor, \n",
    "                                                hole_min=0, \n",
    "                                                hole_max=0, \n",
    "                                                min_size=small_obj_w,\n",
    "                                                method=fill_filter_method)\n",
    "\n",
    "    nuclei_labels = label_uint16(nuclei_object)\n",
    "\n",
    "    return nuclei_labels"
   ]
  },
  {
   "attachments": {},
   "cell_type": "markdown",
   "metadata": {},
   "source": [
    "## DEFINE `_fixed_infer_nuclei_fromcytoplasm` function\n",
    "\n",
    "Based on the _prototyping_ above define the function to infer cellmask. with a *fixed* set of parameters for each step in the procedure.  That is they are all \"hard coded\""
   ]
  },
  {
   "cell_type": "code",
   "execution_count": 14,
   "metadata": {},
   "outputs": [],
   "source": [
    "##########################\n",
    "#  fixed_infer_nuclei_fromcytoplasm\n",
    "##########################\n",
    "def _fixed_infer_nuclei_fromcytoplasm(cytoplasm_mask: np.ndarray) -> np.ndarray:\n",
    "    \"\"\"\n",
    "    Procedure to infer cellmask from linearly unmixed input, with a *fixed* set of parameters for each step in the procedure.  i.e. \"hard coded\"\n",
    "\n",
    "    Parameters\n",
    "    ------------\n",
    "    in_img: np.ndarray\n",
    "        a 3d image containing cytoplasm segmentation\n",
    " \n",
    "    Returns\n",
    "    -------------\n",
    "    nuclei_object\n",
    "        inferred nuclei\n",
    "    \n",
    "    \"\"\"\n",
    "    nuc_min_hole_w = 0\n",
    "    nuc_max_hole_w = 500\n",
    "    nuc_fill_method = \"3D\"\n",
    "    small_obj_w = 20\n",
    "    fill_filter_method = \"3D\"\n",
    "\n",
    "    return _infer_nuclei_fromcytoplasm(cytoplasm_mask,\n",
    "                                    nuc_min_hole_w,\n",
    "                                    nuc_max_hole_w,\n",
    "                                    nuc_fill_method,\n",
    "                                    small_obj_w,\n",
    "                                    fill_filter_method)\n"
   ]
  },
  {
   "attachments": {},
   "cell_type": "markdown",
   "metadata": {},
   "source": [
    "## TEST `_infer_nuclei_fromcytoplasm`  function defined above"
   ]
  },
  {
   "cell_type": "code",
   "execution_count": 15,
   "metadata": {},
   "outputs": [
    {
     "data": {
      "text/plain": [
       "dtype('uint16')"
      ]
     },
     "execution_count": 15,
     "metadata": {},
     "output_type": "execute_result"
    }
   ],
   "source": [
    "_NU_object =  _fixed_infer_nuclei_fromcytoplasm(cytoplasm_mask) \n",
    "\n",
    "_NU_object.dtype"
   ]
  },
  {
   "cell_type": "code",
   "execution_count": 16,
   "metadata": {},
   "outputs": [
    {
     "data": {
      "text/plain": [
       "True"
      ]
     },
     "execution_count": 16,
     "metadata": {},
     "output_type": "execute_result"
    }
   ],
   "source": [
    "np.all(nuclei_labels == _NU_object)"
   ]
  },
  {
   "attachments": {},
   "cell_type": "markdown",
   "metadata": {},
   "source": [
    "---------------------\n",
    "# TEST `infer_nuclei_fromcytoplasm` exported functions\n",
    "\n",
    "The prototype `_infer_nuclei_fromcytoplasm` was copied to the [`.organelles.nuclei`](../infer_subc/organelles/nuclei.py) sub-module."
   ]
  },
  {
   "cell_type": "code",
   "execution_count": 17,
   "metadata": {},
   "outputs": [
    {
     "data": {
      "text/plain": [
       "dtype('uint16')"
      ]
     },
     "execution_count": 17,
     "metadata": {},
     "output_type": "execute_result"
    }
   ],
   "source": [
    "from infer_subc.organelles.nuclei import infer_nuclei_fromcytoplasm, fixed_infer_nuclei_fromcytoplasm\n",
    "nuclei_object =  fixed_infer_nuclei_fromcytoplasm(cytoplasm_mask) \n",
    "\n",
    "nuclei_object.dtype"
   ]
  },
  {
   "cell_type": "code",
   "execution_count": 18,
   "metadata": {},
   "outputs": [
    {
     "data": {
      "text/plain": [
       "True"
      ]
     },
     "execution_count": 18,
     "metadata": {},
     "output_type": "execute_result"
    }
   ],
   "source": [
    "np.all(_NU_object == nuclei_object)"
   ]
  },
  {
   "attachments": {},
   "cell_type": "markdown",
   "metadata": {},
   "source": [
    "## Visualize  2\n"
   ]
  },
  {
   "cell_type": "code",
   "execution_count": 19,
   "metadata": {},
   "outputs": [
    {
     "data": {
      "text/plain": [
       "<Image layer 'Image' at 0x2d477b11ea0>"
      ]
     },
     "execution_count": 19,
     "metadata": {},
     "output_type": "execute_result"
    }
   ],
   "source": [
    "viewer.add_image(\n",
    "    nuclei_object,\n",
    "    opacity=0.3)\n",
    "\n",
    "viewer.add_image(\n",
    "    label(nuclei_object),\n",
    "    opacity=0.3)"
   ]
  },
  {
   "cell_type": "code",
   "execution_count": 20,
   "metadata": {},
   "outputs": [
    {
     "data": {
      "image/png": "[encoded data removed]",
      "text/html": [
       "<img src=\"data:image/png;base64,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\"></img>"
      ],
      "text/plain": [
       "<napari.utils.notebook_display.NotebookScreenshot at 0x2d584efdc60>"
      ]
     },
     "execution_count": 20,
     "metadata": {},
     "output_type": "execute_result"
    }
   ],
   "source": [
    "from napari.utils.notebook_display import nbscreenshot\n",
    "\n",
    "nbscreenshot(viewer, canvas_only=True)"
   ]
  },
  {
   "cell_type": "code",
   "execution_count": 21,
   "metadata": {},
   "outputs": [],
   "source": [
    "viewer.close()"
   ]
  },
  {
   "attachments": {},
   "cell_type": "markdown",
   "metadata": {},
   "source": [
    "-------------\n",
    "## SUMMARY\n",
    "\n",
    "The above explains the general procedure for segmenting the nucleus from a cytoplasm mask.\n",
    "\n",
    "### NEXT: INFER CELLMASK from cytoplasm mask\n",
    "\n",
    "proceed to [03a_infer_cellmask_from-cytoplasm.ipynb](./03a_infer_cellmask_from-cytoplasm.ipynb)\n"
   ]
  }
 ],
 "metadata": {
  "kernelspec": {
   "display_name": "infer-subc",
   "language": "python",
   "name": "python3"
  },
  "language_info": {
   "codemirror_mode": {
    "name": "ipython",
    "version": 3
   },
   "file_extension": ".py",
   "mimetype": "text/x-python",
   "name": "python",
   "nbconvert_exporter": "python",
   "pygments_lexer": "ipython3",
   "version": "3.10.11"
  },
  "vscode": {
   "interpreter": {
    "hash": "182b63330db9794b59aa776c624821fb477d854325ad145fa5385f0d56c0c6f3"
   }
  }
 },
 "nbformat": 4,
 "nbformat_minor": 2
}
