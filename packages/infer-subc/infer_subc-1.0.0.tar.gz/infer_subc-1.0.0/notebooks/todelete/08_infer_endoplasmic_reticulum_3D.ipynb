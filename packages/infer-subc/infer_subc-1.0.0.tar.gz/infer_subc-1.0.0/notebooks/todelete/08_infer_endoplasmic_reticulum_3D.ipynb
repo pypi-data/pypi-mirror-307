{
 "cells": [
  {
   "attachments": {},
   "cell_type": "markdown",
   "metadata": {},
   "source": [
    "# Infer ***ER*** - part 8️⃣\n",
    "\n",
    "--------------\n",
    "\n",
    "OBJECTIVE:  ✅ Infer sub-cellular component ***ER*** (***ER***) in order to understand interactome \n",
    "\n",
    "\n",
    "\n",
    "Dependencies:\n",
    "The ***ER***  inference rely on the **cytoplasm** mask. "
   ]
  },
  {
   "attachments": {},
   "cell_type": "markdown",
   "metadata": {},
   "source": [
    "## preamble\n",
    "\n",
    "1. imports\n",
    "2. setup\n",
    "3. infer nuclei mask\n",
    "4. infer cellmask mask\n",
    "5. infer cytoplasm mask\n",
    "6. infer ER\n",
    "    * pre-processing\n",
    "    * core processing\n",
    "    * post processing"
   ]
  },
  {
   "cell_type": "markdown",
   "metadata": {},
   "source": [
    "\n",
    "## IMPORTS"
   ]
  },
  {
   "cell_type": "code",
   "execution_count": 43,
   "metadata": {},
   "outputs": [
    {
     "name": "stdout",
     "output_type": "stream",
     "text": [
      "The autoreload extension is already loaded. To reload it, use:\n",
      "  %reload_ext autoreload\n"
     ]
    }
   ],
   "source": [
    "# top level imports\n",
    "from pathlib import Path\n",
    "import os, sys\n",
    "from collections import defaultdict\n",
    "\n",
    "import numpy as np\n",
    "from typing import Optional\n",
    "\n",
    "import aicssegmentation\n",
    "from aicssegmentation.core.pre_processing_utils import ( intensity_normalization, \n",
    "                                                         image_smoothing_gaussian_3d,  \n",
    "                                                         edge_preserving_smoothing_3d,\n",
    "                                                         image_smoothing_gaussian_slice_by_slice )\n",
    "from aicssegmentation.core.utils import topology_preserving_thinning, size_filter, hole_filling\n",
    "from aicssegmentation.core.MO_threshold import MO\n",
    "from aicssegmentation.core.vessel import filament_2d_wrapper, filament_3d_wrapper\n",
    "                                                 \n",
    "from skimage.measure import label\n",
    "\n",
    "# # package for io \n",
    "from aicsimageio import AICSImage\n",
    "\n",
    "import napari\n",
    "\n",
    "### import local python functions in ../infer_subc\n",
    "sys.path.append(os.path.abspath((os.path.join(os.getcwd(), '..'))))\n",
    "from infer_subc.core.file_io import (read_czi_image, \n",
    "                                                                    list_image_files)\n",
    "from infer_subc.core.img import *\n",
    "from infer_subc.constants import (TEST_IMG_N,\n",
    "                                                                    NUC_CH ,\n",
    "                                                                    LYSO_CH ,\n",
    "                                                                    MITO_CH ,\n",
    "                                                                    GOLGI_CH ,\n",
    "                                                                    PEROX_CH ,\n",
    "                                                                    ER_CH ,\n",
    "                                                                    LD_CH ,\n",
    "                                                                    RESIDUAL_CH )        \n",
    "\n",
    "from infer_subc.organelles import fixed_infer_cellmask_fromaggr, fixed_infer_nuclei, infer_cytoplasm, find_optimal_Z\n",
    "\n",
    "\n",
    "%load_ext autoreload\n",
    "%autoreload 2\n",
    "\n",
    "\n",
    "# additional imports for nuc/cellmask/cytoplasm\n",
    "from collections import defaultdict\n",
    "from scipy import ndimage as ndi\n",
    "from aicssegmentation.core.MO_threshold import MO\n",
    "from skimage import filters\n",
    "from skimage.segmentation import watershed\n",
    "from skimage.morphology import (binary_erosion,\n",
    "                                remove_small_holes)\n",
    "from skimage.measure import label"
   ]
  },
  {
   "attachments": {},
   "cell_type": "markdown",
   "metadata": {},
   "source": [
    "## SETUP\n",
    "CUSTOMIZE WITH: \n",
    "1. updated path to data\n",
    "2. updated folder name for \"raw\" data\n",
    "\n",
    "> NOTE: we are operating on a single \"test\" image in this notebook.  The batch-processing of all the images will be happen at the end of the notebook after we have developed/confirmed the setmentation procedures and parameter settings."
   ]
  },
  {
   "cell_type": "code",
   "execution_count": 3,
   "metadata": {},
   "outputs": [
    {
     "name": "stderr",
     "output_type": "stream",
     "text": [
      "c:\\Users\\Shannon\\Anaconda3\\envs\\infer-subc\\lib\\site-packages\\ome_types\\_convenience.py:105: FutureWarning: The default XML parser will be changing from 'xmlschema' to 'lxml' in version 0.4.0.  To silence this warning, please provide the `parser` argument, specifying either 'lxml' (to opt into the new behavior), or'xmlschema' (to retain the old behavior).\n",
      "  d = to_dict(os.fspath(xml), parser=parser, validate=validate)\n"
     ]
    }
   ],
   "source": [
    "# this will be the example image for testing the pipeline below\n",
    "test_img_n = TEST_IMG_N\n",
    "\n",
    "# build the datapath\n",
    "# all the imaging data goes here.\n",
    "data_root_path = Path(os.path.expanduser(\"~\")) / \"Documents/Python Scripts/infer-subc\"\n",
    "\n",
    "# linearly unmixed \".czi\" files are here\n",
    "data_path = data_root_path / \"raw\"\n",
    "im_type = \".czi\"\n",
    "\n",
    "# get the list of all files\n",
    "img_file_list = list_image_files(data_path,im_type)\n",
    "test_img_name = img_file_list[test_img_n]\n",
    "\n",
    "img_data,meta_dict = read_czi_image(test_img_name)\n",
    "\n",
    "# get some top-level info about the RAW data\n",
    "channel_names = meta_dict['name']\n",
    "img = meta_dict['metadata']['aicsimage']\n",
    "scale = meta_dict['scale']\n",
    "channel_axis = meta_dict['channel_axis']"
   ]
  },
  {
   "cell_type": "markdown",
   "metadata": {},
   "source": [
    "## INFER NUCLEI MASK\n",
    "\n",
    "Using function defined in 01_infer_nuclei_3D.ipynb\n"
   ]
  },
  {
   "cell_type": "code",
   "execution_count": 6,
   "metadata": {},
   "outputs": [],
   "source": [
    "def _infer_nuclei_3D( in_img: np.ndarray,\n",
    "                       median_sz: int, \n",
    "                       gauss_sig: float,\n",
    "                       thresh_factor: float,\n",
    "                       thresh_min: float,\n",
    "                       thresh_max: float,\n",
    "                       max_hole_w: int,\n",
    "                       small_obj_w: int,\n",
    "                       sz_filter_method: str\n",
    "                     ) -> np.ndarray:\n",
    "    \"\"\"\n",
    "    Procedure to infer 3D nuclei segmentation from multichannel z-stack input.\n",
    "\n",
    "    Parameters\n",
    "    ------------\n",
    "    in_img: np.ndarray\n",
    "        a 3d image containing all the channels\n",
    "    soma_mask: Optional[np.ndarray] = None\n",
    "        mask\n",
    "    median_sz: int\n",
    "        width of median filter for signal\n",
    "    gauss_sig: float\n",
    "        sigma for gaussian smoothing of  signal\n",
    "    thresh_factor: float\n",
    "        adjustment factor for log Li threholding\n",
    "    thresh_min: float\n",
    "        abs min threhold for log Li threholding\n",
    "    thresh_max: float\n",
    "        abs max threhold for log Li threholding\n",
    "    max_hole_w: int\n",
    "        hole filling cutoff for nuclei post-processing\n",
    "    small_obj_w: int\n",
    "        minimum object size cutoff for nuclei post-processing\n",
    "    sz_filter_method: str\n",
    "        method for size filtering; either \"3D\" or \"slice_by_slice\"\n",
    "\n",
    "    Returns\n",
    "    -------------\n",
    "    nuclei_object\n",
    "        mask defined extent of NU\n",
    "    \n",
    "    \"\"\"\n",
    "    ###################\n",
    "    # INPUT\n",
    "    ################### \n",
    "    nuc_ch = NUC_CH\n",
    "    nuclei = select_channel_from_raw(in_img, nuc_ch)\n",
    "\n",
    "\n",
    "    ###################\n",
    "    # PRE_PROCESSING\n",
    "    ###################                \n",
    "    nuclei = min_max_intensity_normalization(nuclei)\n",
    "    nuclei = median_filter_slice_by_slice(nuclei,\n",
    "                                          size=median_sz)\n",
    "    nuclei = image_smoothing_gaussian_slice_by_slice(nuclei,\n",
    "                                                     sigma=gauss_sig )\n",
    "\n",
    "\n",
    "    ###################\n",
    "    # CORE_PROCESSING\n",
    "    ###################\n",
    "    nuclei_object = apply_log_li_threshold(nuclei, \n",
    "                                           thresh_factor=thresh_factor, \n",
    "                                           thresh_min=thresh_min, \n",
    "                                           thresh_max=thresh_max)\n",
    "\n",
    "\n",
    "    ###################\n",
    "    # POST_PROCESSING\n",
    "    ###################\n",
    "    nuclei_object = hole_filling(nuclei_object, \n",
    "                                 hole_min=0, \n",
    "                                 hole_max=max_hole_w**2, \n",
    "                                 fill_2d=True)\n",
    "\n",
    "    nuclei_object = size_filter(nuclei_object, \n",
    "                                min_size = small_obj_w**3, \n",
    "                                method = sz_filter_method,\n",
    "                                connectivity=1)\n",
    "\n",
    "\n",
    "    return nuclei_object\n",
    "\n",
    "\n",
    "def _fixed_infer_nuclei_3D(in_img: np.ndarray) -> np.ndarray:\n",
    "    \"\"\"\n",
    "    Procedure to infer cellmask from linearly unmixed input, with a *fixed* set of parameters for each step in the procedure.  i.e. \"hard coded\"\n",
    "\n",
    "    Parameters\n",
    "    ------------\n",
    "    in_img: np.ndarray\n",
    "        a 3d image containing all the channels\n",
    "    soma_mask: np.ndarray\n",
    "        mask\n",
    " \n",
    "    Returns\n",
    "    -------------\n",
    "    nuclei_object\n",
    "        mask defined extent of NU\n",
    "    \n",
    "    \"\"\"\n",
    "\n",
    "    nuc_ch = NUC_CH\n",
    "    median_sz = 4   \n",
    "    gauss_sig = 1.34\n",
    "    threshold_factor = 0.9\n",
    "    thresh_min = 0.1\n",
    "    thresh_max = 1.0\n",
    "    max_hole_w = 5\n",
    "    small_obj_w = 15\n",
    "    sz_filter_method = \"3D\"\n",
    "\n",
    "    return _infer_nuclei_3D( in_img,\n",
    "                             median_sz,\n",
    "                             gauss_sig,\n",
    "                             threshold_factor,\n",
    "                             thresh_min,\n",
    "                             thresh_max,\n",
    "                             max_hole_w,\n",
    "                             small_obj_w,\n",
    "                             sz_filter_method )\n",
    "\n",
    "\n",
    "_NU_object =  _fixed_infer_nuclei_3D(img_data) \n",
    "NU_labels = label(_NU_object)"
   ]
  },
  {
   "cell_type": "markdown",
   "metadata": {},
   "source": [
    "## GET CELLMASK\n",
    "\n",
    "Using function defined in 02_infer_cellmask_fromaggr_3D.ipynb"
   ]
  },
  {
   "cell_type": "code",
   "execution_count": 7,
   "metadata": {},
   "outputs": [],
   "source": [
    "def _raw_soma_MCZ(img_in):\n",
    "    \"\"\" define cellmask image\n",
    "    \"\"\"\n",
    "    SOMA_W = (6.,1.,2.)\n",
    "    SOMA_CH = (LYSO_CH,ER_CH,GOLGI_CH)\n",
    "    img_out = np.zeros_like(img_in[0]).astype(np.double)\n",
    "    for w,ch in zip(SOMA_W,SOMA_CH):\n",
    "        img_out += w*img_in[ch]\n",
    "    return img_out\n",
    "\n",
    "\n",
    "def _non_linear_soma_transform_MCZ(in_img):\n",
    "    \"\"\" non-linear distortion to fill out cellmask\n",
    "    log + edge of smoothed composite\n",
    "    \"\"\"\n",
    "    # non-Linear processing\n",
    "    log_img, d = log_transform(in_img.copy()) \n",
    "    return intensity_normalization(log_img,scaling_param=[0])\n",
    "\n",
    "\n",
    "def _masked_object_thresh(\n",
    "    structure_img_smooth: np.ndarray, th_method: str, cutoff_size: int, th_adjust: float\n",
    ") -> np.ndarray:\n",
    "    \"\"\"\n",
    "    wrapper for applying Masked Object Thresholding with just two parameters via `MO` from `aicssegmentation`\n",
    "    Parameters\n",
    "    ------------\n",
    "    structure_img_smooth: np.ndarray\n",
    "        a 3d image\n",
    "    th_method: \n",
    "         which method to use for calculating global threshold. Options include:\n",
    "         \"triangle\" (or \"tri\"), \"median\" (or \"med\"), and \"ave_tri_med\" (or \"ave\").\n",
    "         \"ave\" refers the average of \"triangle\" threshold and \"mean\" threshold.\n",
    "    cutoff_size: \n",
    "        Masked Object threshold `size_min`\n",
    "    th_adjust: \n",
    "        Masked Object threshold `local_adjust`\n",
    "\n",
    "    Returns\n",
    "    -------------\n",
    "        np.ndimage \n",
    "\n",
    "    \"\"\"\n",
    "\n",
    "    struct_obj = MO(\n",
    "        structure_img_smooth,\n",
    "        global_thresh_method=th_method,\n",
    "        object_minArea=cutoff_size,\n",
    "        extra_criteria=True,\n",
    "        local_adjust=th_adjust,\n",
    "        return_object=False,\n",
    "        dilate=True,\n",
    "    )\n",
    "    return struct_obj\n",
    "\n",
    "\n",
    "def _masked_inverted_watershed(img_in, markers, mask):\n",
    "    \"\"\"wrapper for watershed on inverted image and masked\n",
    "\n",
    "    \"\"\"\n",
    "    labels_out = watershed(\n",
    "                1. - img_in,\n",
    "                markers=markers,\n",
    "                connectivity=3,\n",
    "                mask=mask,\n",
    "                )\n",
    "    return labels_out\n",
    "\n",
    "\n",
    "def _choose_max_label(raw_signal: np.ndarray, labels_in: np.ndarray):\n",
    "    \"\"\" keep only the label with the maximum raw signal\n",
    "\n",
    "    \"\"\"\n",
    "\n",
    "    all_labels = np.unique(labels_in)[1:]\n",
    "\n",
    "    total_signal = [raw_signal[labels_in == label].sum() for label in all_labels]\n",
    "    # combine NU and \"labels\" to make a SOMA\n",
    "    keep_label = all_labels[np.argmax(total_signal)]\n",
    "\n",
    "    labels_max = np.zeros_like(labels_in)\n",
    "    labels_max[labels_in==keep_label] = 1\n",
    "    return labels_max"
   ]
  },
  {
   "cell_type": "code",
   "execution_count": 8,
   "metadata": {},
   "outputs": [
    {
     "name": "stdout",
     "output_type": "stream",
     "text": [
      "intensity normalization: min-max normalization with NO absoluteintensity upper bound\n"
     ]
    }
   ],
   "source": [
    "def _infer_cellmask_fromaggr_3D(in_img: np.ndarray,\n",
    "    nuclei_labels: np.ndarray,\n",
    "    median_sz_soma: int,\n",
    "    gauss_sig_soma: float,\n",
    "    gauss_truc_rang: float,\n",
    "    mo_method: str,\n",
    "    mo_adjust: float,\n",
    "    mo_cutoff_size: int,\n",
    "    max_hole_w_soma: int,\n",
    "    small_obj_w_soma: int\n",
    ") -> np.ndarray:\n",
    "    \"\"\"\n",
    "    Procedure to infer cellmask from linearly unmixed input.\n",
    "\n",
    "    Parameters\n",
    "    ------------\n",
    "    in_img: \n",
    "        a 3d image containing all the channels\n",
    "    nuclei_labels:\n",
    "        a 3d mask of nuclei\n",
    "    median_sz_soma: \n",
    "        width of median filter for _soma_ signal\n",
    "    gauss_sig_soma: \n",
    "        sigma for gaussian smoothing of _soma_ signal\n",
    "    gauss_truc_rang:\n",
    "        cutoff value for gaussian\n",
    "    mo_method: \n",
    "         which method to use for calculating global threshold. Options include:\n",
    "         \"triangle\" (or \"tri\"), \"median\" (or \"med\"), and \"ave_tri_med\" (or \"ave\").\n",
    "         \"ave\" refers the average of \"triangle\" threshold and \"mean\" threshold.\n",
    "    mo_adjust: \n",
    "        Masked Object threshold `local_adjust`\n",
    "    mo_cutoff_size: \n",
    "        Masked Object threshold `size_min`\n",
    "    max_hole_w_soma: \n",
    "        hole filling cutoff for cellmask signal post-processing\n",
    "    small_obj_w_soma: \n",
    "        minimu object size cutoff for cellmask signal post-processing\n",
    "\n",
    "    Returns\n",
    "    -------------\n",
    "    soma_mask:\n",
    "        a logical/labels object defining boundaries of cellmask\n",
    "\n",
    "    \"\"\"\n",
    "\n",
    "    ###################\n",
    "    # EXTRACT\n",
    "    ###################\n",
    "    struct_img = _raw_soma_MCZ(in_img)\n",
    "\n",
    "\n",
    "    ###################\n",
    "    # PRE_PROCESSING\n",
    "    ###################                         \n",
    "    ################# part 1- cellmask\n",
    "    struct_img = min_max_intensity_normalization(struct_img)\n",
    "\n",
    "    # make a copy for post-post processing\n",
    "    scaled_signal = struct_img.copy()\n",
    "\n",
    "    # Linear-ish processing\n",
    "    struct_img = median_filter_slice_by_slice(struct_img, \n",
    "                                              size=median_sz_soma)\n",
    "\n",
    "    struct_img = ndi.gaussian_filter(struct_img,\n",
    "                                     sigma=gauss_sig_soma,\n",
    "                                     mode=\"nearest\",\n",
    "                                     truncate=gauss_truc_rang)\n",
    "\n",
    "    struct_img_non_lin = _non_linear_soma_transform_MCZ(struct_img)\n",
    "   \n",
    "\n",
    "    ###################\n",
    "    # CORE_PROCESSING\n",
    "    ###################    \n",
    "    struct_obj = _masked_object_thresh(struct_img_non_lin, \n",
    "                                       th_method=mo_method, \n",
    "                                       cutoff_size=mo_cutoff_size, \n",
    "                                       th_adjust=mo_adjust)               \n",
    "\n",
    "\n",
    "    ###################\n",
    "    # POST_PROCESSING\n",
    "    ###################\n",
    "    struct_obj = hole_filling(struct_obj, \n",
    "                              hole_min =0 , \n",
    "                              hole_max=max_hole_w_soma**2, \n",
    "                              fill_2d = True) \n",
    "\n",
    "    struct_obj = size_filter_2D(struct_obj, \n",
    "                                min_size= small_obj_w_soma**3, \n",
    "                                connectivity=1)\n",
    "\n",
    "    labels_out = _masked_inverted_watershed(struct_obj, nuclei_labels, struct_obj)\n",
    "\n",
    "\n",
    "    ###################\n",
    "    # POST- POST_PROCESSING\n",
    "    ###################\n",
    "    # keep the \"SOMA\" label which contains the highest total signal\n",
    "    soma_out = _choose_max_label(struct_img, labels_out)\n",
    "\n",
    "    return soma_out\n",
    "\n",
    "\n",
    "def _fixed_infer_cellmask_fromaggr_3D(in_img: np.ndarray, nuclei_labels: np.ndarray) -> np.ndarray:\n",
    "    \"\"\"\n",
    "    Procedure to infer cellmask from linearly unmixed input, with a *fixed* set of parameters for each step in the procedure.  i.e. \"hard coded\"\n",
    "\n",
    "    Parameters\n",
    "    ------------\n",
    "    in_img: \n",
    "        a 3d image containing all the channels\n",
    "    nuclei_object:\n",
    "        a 3d mask of nuclei\n",
    "\n",
    "    Returns\n",
    "    -------------\n",
    "    soma_mask:\n",
    "        a logical/labels object defining boundaries of cellmask\n",
    "    \"\"\"\n",
    "    \n",
    "    ###################\n",
    "    # PARAMETERS\n",
    "    ###################   \n",
    "    median_sz_soma = 15\n",
    "    gauss_sig_soma = 1.34\n",
    "    gauss_truc_rang = 3.0\n",
    "    mo_method = \"ave\"\n",
    "    mo_adjust = 0.15\n",
    "    mo_cutoff_size = 50\n",
    "    max_hole_w_soma = 100\n",
    "    small_obj_w_soma = 45\n",
    "\n",
    "    soma_out = _infer_cellmask_fromaggr_3D(in_img,\n",
    "                              nuclei_labels,\n",
    "                              median_sz_soma,\n",
    "                              gauss_sig_soma,\n",
    "                              gauss_truc_rang,\n",
    "                              mo_method,\n",
    "                              mo_adjust,\n",
    "                              mo_cutoff_size,\n",
    "                              max_hole_w_soma,\n",
    "                              small_obj_w_soma) \n",
    "\n",
    "    return soma_out\n",
    "\n",
    "\n",
    "SO_label =  _fixed_infer_cellmask_fromaggr_3D(img_data, NU_labels) "
   ]
  },
  {
   "cell_type": "markdown",
   "metadata": {},
   "source": [
    "## GET CYTOSOL MASK\n"
   ]
  },
  {
   "cell_type": "code",
   "execution_count": 9,
   "metadata": {},
   "outputs": [],
   "source": [
    "#selecting single nuclei that matches the single cytoplasm selected above\n",
    "NU_object = np.logical_and(SO_label,NU_labels)"
   ]
  },
  {
   "cell_type": "code",
   "execution_count": 10,
   "metadata": {},
   "outputs": [],
   "source": [
    "def _infer_cytoplasm(soma_mask, nuclei_object, erode_nuclei = True):\n",
    "    \"\"\"\n",
    "    Procedure to infer cytoplasm from linearly unmixed input.\n",
    "\n",
    "    Parameters\n",
    "    ------------\n",
    "    nuclei_object: \n",
    "        a 3d image containing the nuclei signal\n",
    "\n",
    "    soma_mask: \n",
    "        a 3d image containing the cellmask signal\n",
    "\n",
    "    erode_nuclei: \n",
    "        should we erode?\n",
    "\n",
    "    Returns\n",
    "    -------------\n",
    "    cytoplasm_mask \n",
    "        boolean np.ndarray\n",
    "      \n",
    "    \"\"\"\n",
    "\n",
    "    if erode_nuclei:\n",
    "        cytoplasm_mask = np.logical_and(soma_mask, ~binary_erosion(nuclei_object))\n",
    "        # cytoplasm_mask = np.logical_xor(soma_mask, binary_erosion(nuclei_object))\n",
    "    else:\n",
    "        cytoplasm_mask = np.logical_and(soma_mask, ~nuclei_object)\n",
    "        # cytoplasm_mask = np.logical_xor(soma_mask, nuclei_object)\n",
    "\n",
    "\n",
    "    return cytoplasm_mask\n",
    "\n",
    "\n",
    "cytoplasm_mask = _infer_cytoplasm(SO_label, NU_object) "
   ]
  },
  {
   "attachments": {},
   "cell_type": "markdown",
   "metadata": {},
   "source": [
    "---------------------\n",
    "\n",
    "## infer ***ER***\n",
    "\n",
    "## summary of steps \n",
    "\n",
    "INPUT\n",
    "- ch 6\n",
    "- cytoplasm mask\n",
    "\n",
    "PRE-PROCESSING\n",
    "- edge preserving scaling\n",
    "\n",
    "CORE-PROCESSING\n",
    "- vesselness slice-by-slice\n",
    "\n",
    "POST-PROCESSING\n",
    "  - S  - remove objects less than 2x2 pixels (area = 4)\n",
    "\n",
    "OUTPUT\n",
    "- object **ER** \n",
    "\n",
    "\n",
    "Generally following the Allen Cell Segmenter procedure, but doing more aggressive contrast scaling than their prescribed contrast scaling.\n",
    "\n",
    ">sec61beta  is  good start for ER  as per from [Allen Cell](https://www.allencell.org/cell-observations/category/endoplasmic-reticulum).    \n",
    "\n",
    "using [seg_sec61b.py](https://github.com/AllenInstitute/aics-segmentation/blob/master/aics-segmentation/aicssegmentation/structure_wrapper/seg_sec61b.py)\n",
    "[seg_sec61b_dual.py](https://github.com/AllenInstitute/aics-segmentation/blob/master/aicssegmentation/structure_wrapper/seg_sec61b_dual.py)\n",
    "\n",
    "[playground_Sec61b.ipynb](https://github.com/AllenInstitute/aics-segmentation/blob/master/lookup_table_demo/playground_Sec61b.ipynb)\n",
    "\n"
   ]
  },
  {
   "attachments": {},
   "cell_type": "markdown",
   "metadata": {},
   "source": [
    "## INPUT prototype"
   ]
  },
  {
   "cell_type": "code",
   "execution_count": 11,
   "metadata": {},
   "outputs": [],
   "source": [
    "###################\n",
    "# INPUT\n",
    "###################\n",
    "raw_er = select_channel_from_raw(img_data, ER_CH)\n"
   ]
  },
  {
   "cell_type": "code",
   "execution_count": 12,
   "metadata": {},
   "outputs": [
    {
     "name": "stderr",
     "output_type": "stream",
     "text": [
      "WARNING: QWindowsWindow::setGeometry: Unable to set geometry 1090x687+0+36 (frame: 1108x734-9-2) on QWidgetWindow/\"_QtMainWindowClassWindow\" on \"\\\\.\\DISPLAY1\". Resulting geometry: 1020x921-2+29 (frame: 1038x968-11-9) margins: 9, 38, 9, 9 minimum size: 612x594 MINMAXINFO maxSize=0,0 maxpos=0,0 mintrack=630,641 maxtrack=0,0)\n",
      "23-Feb-23 10:53:43 - vispy    - WARNING  - QWindowsWindow::setGeometry: Unable to set geometry 1090x687+0+36 (frame: 1108x734-9-2) on QWidgetWindow/\"_QtMainWindowClassWindow\" on \"\\\\.\\DISPLAY1\". Resulting geometry: 1020x921-2+29 (frame: 1038x968-11-9) margins: 9, 38, 9, 9 minimum size: 612x594 MINMAXINFO maxSize=0,0 maxpos=0,0 mintrack=630,641 maxtrack=0,0)\n"
     ]
    }
   ],
   "source": [
    "viewer = napari.Viewer()"
   ]
  },
  {
   "cell_type": "code",
   "execution_count": 13,
   "metadata": {},
   "outputs": [
    {
     "data": {
      "text/plain": [
       "<Image layer 'raw_er' at 0x1fea8b0f760>"
      ]
     },
     "execution_count": 13,
     "metadata": {},
     "output_type": "execute_result"
    }
   ],
   "source": [
    "viewer.add_image(\n",
    "    raw_er,\n",
    "    scale=scale\n",
    ")"
   ]
  },
  {
   "attachments": {},
   "cell_type": "markdown",
   "metadata": {},
   "source": [
    "## PRE-PROCESSING prototype"
   ]
  },
  {
   "cell_type": "code",
   "execution_count": 41,
   "metadata": {},
   "outputs": [],
   "source": [
    "###################\n",
    "# PRE_PROCESSING\n",
    "###################\n",
    "er_norm = min_max_intensity_normalization(raw_er)\n",
    "\n",
    "median_sz = 3\n",
    "gaus_sigma = 0.7\n",
    "\n",
    "er_med = median_filter_slice_by_slice(er_norm, size=median_sz)\n",
    "\n",
    "er_gaus = image_smoothing_gaussian_3d(er_med, sigma=gaus_sigma)\n",
    "\n",
    "# er_smooth = edge_preserving_smoothing_3d(er_norm)"
   ]
  },
  {
   "cell_type": "code",
   "execution_count": 42,
   "metadata": {},
   "outputs": [
    {
     "data": {
      "text/plain": [
       "<Image layer 'er_gaus' at 0x1feb94a6cd0>"
      ]
     },
     "execution_count": 42,
     "metadata": {},
     "output_type": "execute_result"
    }
   ],
   "source": [
    "viewer.add_image(\n",
    "    er_med,\n",
    "    scale=scale\n",
    ")\n",
    "viewer.add_image(\n",
    "    er_gaus,\n",
    "    scale=scale\n",
    ")"
   ]
  },
  {
   "attachments": {},
   "cell_type": "markdown",
   "metadata": {},
   "source": [
    "## CORE PROCESSING prototype"
   ]
  },
  {
   "cell_type": "code",
   "execution_count": 71,
   "metadata": {},
   "outputs": [],
   "source": [
    "###################\n",
    "# CORE_PROCESSING\n",
    "###################\n",
    "\n",
    "################################\n",
    "## PARAMETERS for this step ##\n",
    "# [radius of filament diameter, intensity(higher value = high intensity)]\n",
    "f3_param = [[4, 0.25], [1, 0.01], [3, 0.001], [5, 0.1]]\n",
    "################################\n",
    "bw = filament_3d_wrapper(er_gaus, f3_param)"
   ]
  },
  {
   "cell_type": "code",
   "execution_count": 73,
   "metadata": {},
   "outputs": [
    {
     "data": {
      "text/plain": [
       "<Image layer 'bw' at 0x1fe902fd340>"
      ]
     },
     "execution_count": 73,
     "metadata": {},
     "output_type": "execute_result"
    }
   ],
   "source": [
    "viewer.add_image(\n",
    "    bw,\n",
    "    scale=scale\n",
    ")"
   ]
  },
  {
   "attachments": {},
   "cell_type": "markdown",
   "metadata": {},
   "source": [
    "## POST-PROCESSING prototype"
   ]
  },
  {
   "cell_type": "code",
   "execution_count": 76,
   "metadata": {},
   "outputs": [],
   "source": [
    "\n",
    "###################\n",
    "# POST_PROCESSING\n",
    "###################\n",
    "################################\n",
    "## PARAMETERS for this step ##\n",
    "small_object_width = 4\n",
    "################################\n",
    "er_masked = apply_mask(bw, cytoplasm_mask)\n",
    "\n",
    "er_mask = size_filter(er_masked, \n",
    "                        min_size= small_object_width**3, \n",
    "                        connectivity=1)\n",
    "# ################################\n",
    "# ## PARAMETERS for this step ## from seg_sec61b.py\n",
    "# min_area = 15\n",
    "# ################################\n",
    "# bw = remove_small_objects(bw > 0, min_size=min_area, connectivity=1, in_place=False)\n",
    "# # prune slice by slice\n",
    "# for zz in range(bw.shape[0]):\n",
    "#     bw[zz, :, :] = remove_small_objects(bw[zz, :, :], min_size=3, connectivity=1, in_place=False)\n",
    "\n",
    "# ER_object = remove_small_objects(bw > 0, min_size=min_area, connectivity=1, in_place=False)\n",
    "\n",
    "er_objects = label(er_mask)"
   ]
  },
  {
   "cell_type": "code",
   "execution_count": 77,
   "metadata": {},
   "outputs": [
    {
     "data": {
      "text/plain": [
       "<Labels layer 'er_objects' at 0x1fec12755b0>"
      ]
     },
     "execution_count": 77,
     "metadata": {},
     "output_type": "execute_result"
    }
   ],
   "source": [
    "viewer.add_image(\n",
    "    er_masked,\n",
    "    scale=scale\n",
    ")\n",
    "viewer.add_image(\n",
    "    er_mask,\n",
    "    scale=scale\n",
    ")\n",
    "viewer.add_labels(\n",
    "    er_objects,\n",
    "    scale=scale\n",
    ")"
   ]
  },
  {
   "attachments": {},
   "cell_type": "markdown",
   "metadata": {},
   "source": [
    "## DEFINE `infer_ER` function\n",
    "\n",
    "Based on the _prototyping_ above define the function to infer the er.  \n"
   ]
  },
  {
   "cell_type": "code",
   "execution_count": 88,
   "metadata": {},
   "outputs": [],
   "source": [
    "##########################\n",
    "#  infer_ER\n",
    "##########################\n",
    "def _infer_ER_3D(in_img: np.ndarray,\n",
    "                                cytoplasm_mask: np.ndarray,\n",
    "                                median_sz: int,\n",
    "                                gaus_sigma: float,\n",
    "                                f3_param: list,\n",
    "                                small_obj_w: int) -> np.ndarray:\n",
    "    \"\"\"\n",
    "    Procedure to infer peroxisome from linearly unmixed input.\n",
    "\n",
    "    Parameters\n",
    "    ------------\n",
    "    in_img: \n",
    "        a 3d image containing all the channels\n",
    "    cytoplasm_mask:\n",
    "        mask of cytoplasm\n",
    "    f3_param:\n",
    "        a list of [filament_scale, filament_cutoff] values for each size/intensity of the filament objects to be segmented\n",
    "        Ex) [[1,0.5], [4,0.2],...]\n",
    "        filament_scale = scale (log_sigma) for filament filter\n",
    "        filament_cutoff = threshold for filament filtered threshold\n",
    "    small_obj_w: \n",
    "        minimu object size cutoff for nuclei post-processing\n",
    "    Returns\n",
    "    -------------\n",
    "    peroxi_object\n",
    "        mask defined extent of peroxisome object\n",
    "    \"\"\"\n",
    "    er_ch = ER_CH\n",
    "    ###################\n",
    "    # EXTRACT\n",
    "    ###################    \n",
    "    er = select_channel_from_raw(in_img, er_ch)\n",
    "\n",
    "    ###################\n",
    "    # PRE_PROCESSING\n",
    "    ###################    \n",
    "    er = min_max_intensity_normalization(er)\n",
    "\n",
    "    # edge-preserving smoothing (Option 2, used for Sec61B)\n",
    "    # er = edge_preserving_smoothing_3d(er)\n",
    "\n",
    "    er = median_filter_slice_by_slice(er, size=median_sz)\n",
    "\n",
    "    er = image_smoothing_gaussian_3d(er, sigma=gaus_sigma)\n",
    "\n",
    "   ###################\n",
    "    # CORE_PROCESSING\n",
    "    ###################\n",
    "    # f2_param = [[filament_scale, filament_cut]]\n",
    "    # # f2_param = [[1, 0.15]]  # [scale_1, cutoff_1]\n",
    "    # struct_obj = filament_2d_wrapper(er, f2_param)\n",
    "\n",
    "    struct_obj = filament_3d_wrapper(er, f3_param)\n",
    "\n",
    "    ###################\n",
    "    # POST_PROCESSING\n",
    "    ################### \n",
    "    struct_obj = apply_mask(struct_obj, cytoplasm_mask)\n",
    "\n",
    "    struct_obj = size_filter(struct_obj, \n",
    "                            min_size= small_obj_w**3, \n",
    "                            connectivity=1)\n",
    "\n",
    "\n",
    "    return struct_obj"
   ]
  },
  {
   "attachments": {},
   "cell_type": "markdown",
   "metadata": {},
   "source": [
    "# TEST  `_fixed_infer_ER` function"
   ]
  },
  {
   "cell_type": "code",
   "execution_count": 91,
   "metadata": {},
   "outputs": [],
   "source": [
    "##########################\n",
    "#  fixed_infer_ER\n",
    "##########################\n",
    "def _fixed_infer_ER_3D(in_img: np.ndarray, \n",
    "                                                cytoplasm_mask: Optional[np.ndarray] = None\n",
    "                                            ) -> np.ndarray:\n",
    "    \"\"\"\n",
    "    Procedure to infer endoplasmic rediculum from linearly unmixed input with *fixed parameters*\n",
    "\n",
    "    Parameters\n",
    "    ------------\n",
    "    in_img: \n",
    "        a 3d image containing all the channels\n",
    "    cytoplasm_mask: \n",
    "\n",
    "        mask - default=None\n",
    "\n",
    "    Returns\n",
    "    -------------\n",
    "    peroxi_object\n",
    "        mask defined extent of peroxisome object\n",
    "    \"\"\"\n",
    "\n",
    "    median_sz = 3\n",
    "    gaus_sigma = 0.7\n",
    "    f3_param = [[4, 0.25], [1, 0.01], [3, 0.001], [5, 0.1]]\n",
    "    small_obj_w = 4\n",
    "    return _infer_ER_3D(in_img,\n",
    "                                            cytoplasm_mask,\n",
    "                                            median_sz,\n",
    "                                            gaus_sigma,\n",
    "                                            f3_param,\n",
    "                                            small_obj_w)                                           \n",
    "    \n",
    "    "
   ]
  },
  {
   "cell_type": "markdown",
   "metadata": {},
   "source": [
    "# TEST  `_infer_ER` function"
   ]
  },
  {
   "cell_type": "code",
   "execution_count": 93,
   "metadata": {},
   "outputs": [],
   "source": [
    "\n",
    "_er_mask =  _fixed_infer_ER_3D(img_data, cytoplasm_mask) \n",
    "\n",
    "_er_objects = label(_er_mask)\n"
   ]
  },
  {
   "cell_type": "code",
   "execution_count": 94,
   "metadata": {},
   "outputs": [
    {
     "data": {
      "text/plain": [
       "<Labels layer '_er_objects' at 0x1fec34b58e0>"
      ]
     },
     "execution_count": 94,
     "metadata": {},
     "output_type": "execute_result"
    }
   ],
   "source": [
    "viewer.add_image(\n",
    "    _er_mask,\n",
    "    scale=scale\n",
    ")\n",
    "viewer.add_labels(\n",
    "    _er_objects,\n",
    "    scale=scale\n",
    ")"
   ]
  },
  {
   "attachments": {},
   "cell_type": "markdown",
   "metadata": {},
   "source": [
    "STOPPED 2D-TO-3D TRANSITION HERE"
   ]
  },
  {
   "cell_type": "code",
   "execution_count": 18,
   "metadata": {},
   "outputs": [],
   "source": [
    "from infer_subc.organelles import fixed_infer_ER\n",
    "\n",
    "er_object =  fixed_infer_ER(img_2D, cytoplasm_mask) \n"
   ]
  },
  {
   "attachments": {},
   "cell_type": "markdown",
   "metadata": {},
   "source": [
    "## Visualize  2\n"
   ]
  },
  {
   "cell_type": "code",
   "execution_count": 19,
   "metadata": {},
   "outputs": [
    {
     "data": {
      "text/plain": [
       "<Image layer '_er_object' at 0x1822fdfd0>"
      ]
     },
     "execution_count": 19,
     "metadata": {},
     "output_type": "execute_result"
    }
   ],
   "source": [
    "\n",
    "viewer.add_image(\n",
    "    er_object,\n",
    "    scale=scale\n",
    ")\n",
    "viewer.add_labels(\n",
    "    label(er_object),\n",
    "    scale=scale\n",
    ")\n",
    "\n",
    "\n",
    "viewer.add_image(\n",
    "    _er_object,\n",
    "    scale=scale\n",
    ")"
   ]
  },
  {
   "cell_type": "code",
   "execution_count": 20,
   "metadata": {},
   "outputs": [
    {
     "data": {
      "image/png": "[encoded data removed]",
      "text/html": [
       "<img src=\"data:image/png;base64,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\"></img>"
      ],
      "text/plain": [
       "<napari.utils.notebook_display.NotebookScreenshot at 0x181e62c40>"
      ]
     },
     "execution_count": 20,
     "metadata": {},
     "output_type": "execute_result"
    }
   ],
   "source": [
    "from napari.utils.notebook_display import nbscreenshot\n",
    "\n",
    "# viewer.dims.ndisplay = 3\n",
    "# viewer.camera.angles = (-30, 25, 120)\n",
    "nbscreenshot(viewer, canvas_only=True)"
   ]
  },
  {
   "cell_type": "code",
   "execution_count": 21,
   "metadata": {},
   "outputs": [],
   "source": [
    "viewer.close()"
   ]
  },
  {
   "attachments": {},
   "cell_type": "markdown",
   "metadata": {},
   "source": [
    "-----------------\n",
    "Write the `infer_ER` spec to the widget json "
   ]
  },
  {
   "cell_type": "code",
   "execution_count": 22,
   "metadata": {},
   "outputs": [
    {
     "name": "stdout",
     "output_type": "stream",
     "text": [
      "function fixed_infer_er is already in all_functions.json\n",
      "overwriting  fixed_infer_er\n"
     ]
    },
    {
     "data": {
      "text/plain": [
       "1"
      ]
     },
     "execution_count": 22,
     "metadata": {},
     "output_type": "execute_result"
    }
   ],
   "source": [
    "from infer_subc.organelles_config.helper import add_function_spec_to_widget_json\n",
    "\n",
    "_fixed_infer_er =  {\n",
    "        \"name\": \"infer ER  (fixed parameters)\",\n",
    "        \"python::module\": \"infer_subc.organelles\",\n",
    "        \"python::function\": \"fixed_infer_ER\",\n",
    "        \"parameters\": None\n",
    "        }\n",
    "\n",
    "add_function_spec_to_widget_json(\"fixed_infer_er\",_fixed_infer_er, overwrite=True)"
   ]
  },
  {
   "cell_type": "code",
   "execution_count": 23,
   "metadata": {},
   "outputs": [
    {
     "name": "stdout",
     "output_type": "stream",
     "text": [
      "function infer_er is already in all_functions.json\n",
      "overwriting  infer_er\n"
     ]
    },
    {
     "data": {
      "text/plain": [
       "1"
      ]
     },
     "execution_count": 23,
     "metadata": {},
     "output_type": "execute_result"
    }
   ],
   "source": [
    "\n",
    "_infer_er =  {\n",
    "        \"name\": \"Infer Endoplasmic Reticulum\",\n",
    "        \"python::module\": \"infer_subc.organelles\",\n",
    "        \"python::function\": \"infer_ER\",\n",
    "        \"parameters\": {\n",
    "                \"filament_scale\": {\n",
    "                        \"data_type\": \"float\",\n",
    "                        \"increment\": 0.05,\n",
    "                        \"max\": 10,\n",
    "                        \"min\": 0,\n",
    "                        \"widget_type\": \"slider\"\n",
    "                },\n",
    "                \"filament_cut\": {\n",
    "                        \"data_type\": \"float\",\n",
    "                        \"increment\": 0.001,\n",
    "                        \"max\": 0.5,\n",
    "                        \"min\": 0,\n",
    "                        \"widget_type\": \"slider\"\n",
    "                },\n",
    "                \"small_obj_w\": {\n",
    "                        \"data_type\": \"int\",\n",
    "                        \"increment\": 1,\n",
    "                        \"max\": 50,\n",
    "                        \"min\": 1,\n",
    "                        \"widget_type\": \"slider\"\n",
    "                }\n",
    "        }\n",
    "}\n",
    "\n",
    "add_function_spec_to_widget_json(\"infer_er\", _infer_er, overwrite=True )\n",
    "\n"
   ]
  },
  {
   "attachments": {},
   "cell_type": "markdown",
   "metadata": {},
   "source": [
    "##  helper function definitions\n",
    "\n",
    "Wrappers for vessleness filters"
   ]
  },
  {
   "cell_type": "code",
   "execution_count": 24,
   "metadata": {},
   "outputs": [
    {
     "name": "stdout",
     "output_type": "stream",
     "text": [
      "function filament_filter is already in all_functions.json\n",
      "overwriting  filament_filter\n"
     ]
    },
    {
     "data": {
      "text/plain": [
       "1"
      ]
     },
     "execution_count": 24,
     "metadata": {},
     "output_type": "execute_result"
    }
   ],
   "source": [
    "\n",
    "_filament_filter =  {\n",
    "        \"name\": \"filament filter thresholding\",\n",
    "        \"python::module\": \"infer_subc.core.img\",\n",
    "        \"python::function\": \"filament_filter\",\n",
    "        \"parameters\": {\n",
    "                \"filament_scale\": {\n",
    "                        \"data_type\": \"float\",\n",
    "                        \"increment\": 0.05,\n",
    "                        \"max\": 10,\n",
    "                        \"min\": 0,\n",
    "                        \"widget_type\": \"slider\"\n",
    "                },\n",
    "                \"filament_cut\": {\n",
    "                        \"data_type\": \"float\",\n",
    "                        \"increment\": 0.001,\n",
    "                        \"max\": 0.5,\n",
    "                        \"min\": 0,\n",
    "                        \"widget_type\": \"slider\"\n",
    "                },\n",
    "        }\n",
    "}\n",
    "\n",
    "add_function_spec_to_widget_json(\"filament_filter\", _filament_filter, overwrite=True )\n",
    "\n"
   ]
  },
  {
   "attachments": {},
   "cell_type": "markdown",
   "metadata": {},
   "source": [
    "-------------------------------\n",
    "## Write workflow .json\n",
    "Now that we've added our function specs we can compose workflows."
   ]
  },
  {
   "cell_type": "code",
   "execution_count": 25,
   "metadata": {},
   "outputs": [],
   "source": [
    "from infer_subc.constants import ER_CH\n",
    "def make_infer_er_step_by_step_from_raw_dict():\n",
    "    \"\"\"\n",
    "    Procedure to infer mitochondria from linearly unmixed input from raw\n",
    "\n",
    "    \"\"\"\n",
    "    step_name = []\n",
    "    function_name = []\n",
    "    category =[]\n",
    "    parameter_values = []\n",
    "    parent = []\n",
    "   \n",
    "    ###################\n",
    "    # EXTRACT\n",
    "    ###################   \n",
    "    step_name = []\n",
    "    function_name = []\n",
    "    category =[]\n",
    "    parameter_values = []\n",
    "    parent = []\n",
    "   \n",
    "    ###################\n",
    "    # EXTRACT\n",
    "    ###################   \n",
    "\n",
    "    step_name.append(\"1\")\n",
    "    function_name.append(\"fixed_get_optimal_Z_img\")\n",
    "    category.append(\"extraction\")\n",
    "    parameter_values.append(None)\n",
    "    parent.append(0)\n",
    "\n",
    "    step_name.append(\"2\")\n",
    "    function_name.append(\"fixed_infer_cellmask_fromaggr\")\n",
    "    category.append(\"extraction\")\n",
    "    parameter_values.append( None )\n",
    "    parent.append(1)\n",
    "\n",
    "    step_name.append(\"3\")\n",
    "    function_name.append(\"fixed_infer_nuclei\")\n",
    "    category.append(\"extraction\")\n",
    "    parameter_values.append( None )\n",
    "    parent.append([1,2])\n",
    "\n",
    "    step_name.append(\"4\")\n",
    "    function_name.append(\"infer_cytoplasm\")\n",
    "    category.append(\"extraction\")\n",
    "    parameter_values.append(dict(erode_nuclei = True ))\n",
    "    parent.append([2,3])\n",
    "\n",
    "    step_name.append(\"5\")\n",
    "    function_name.append(\"select_channel_from_raw\")\n",
    "    category.append(\"extraction\")\n",
    "    parameter_values.append( dict(chan = ER_CH) )\n",
    "    parent.append(1)\n",
    "    \n",
    "    step_name.append(\"6\")\n",
    "    function_name.append(\"min_max_intensity_normalization\")\n",
    "    category.append(\"preprocessing\")\n",
    "    parameter_values.append(None)\n",
    "    parent.append(5)\n",
    "\n",
    "    step_name.append(\"7\")\n",
    "    function_name.append(\"edge_preserving_smoothing\")\n",
    "    category.append(\"preprocessing\")\n",
    "    parameter_values.append(None)\n",
    "    parent.append(6)\n",
    "\n",
    "    step_name.append(\"8\")\n",
    "    function_name.append(\"filament_filter\") \n",
    "    category.append(\"core\")\n",
    "    parameter_values.append( dict( filament_scale=1., filament_cut=.15) )\n",
    "    parent.append(7)\n",
    "\n",
    "    step_name.append(\"9\")\n",
    "    function_name.append(\"apply_mask\")\n",
    "    category.append(\"postprocessing\")\n",
    "    parameter_values.append(None)\n",
    "    parent.append([8,4])\n",
    "\n",
    "    step_name.append(\"10\")\n",
    "    function_name.append(\"size_filter_2D\")\n",
    "    category.append(\"postprocessing\")\n",
    "    parameter_values.append(dict( min_size = 2**2  ))\n",
    "    parent.append(9)\n",
    "\n",
    "    out_dict = dict()\n",
    "    for i,stepn in enumerate(step_name):\n",
    "        entry = dict(category=category[i],\n",
    "                            function=function_name[i],\n",
    "                            parameter_values=parameter_values[i],\n",
    "                            parent=parent[i]\n",
    "        )\n",
    "        if entry['parameter_values'] is None:\n",
    "            _ = entry.pop('parameter_values')\n",
    "        out_dict[stepn] = entry\n",
    "    \n",
    "    return out_dict\n",
    "\n"
   ]
  },
  {
   "cell_type": "code",
   "execution_count": 26,
   "metadata": {},
   "outputs": [
    {
     "data": {
      "text/plain": [
       "PosixPath('/Users/ahenrie/Projects/Imaging/infer-subc/infer_subc/organelles_config/conf_1.8.er_stepbystep_from_raw.json')"
      ]
     },
     "execution_count": 26,
     "metadata": {},
     "output_type": "execute_result"
    }
   ],
   "source": [
    "from infer_subc.organelles_config.helper import write_workflow_json\n",
    "\n",
    "infer_er_stepbystep_from_raw_dict = make_infer_er_step_by_step_from_raw_dict()\n",
    "\n",
    "write_workflow_json(\"conf_1.8.er_stepbystep_from_raw\", infer_er_stepbystep_from_raw_dict)"
   ]
  },
  {
   "cell_type": "code",
   "execution_count": 27,
   "metadata": {},
   "outputs": [],
   "source": [
    "viewer.close()"
   ]
  },
  {
   "attachments": {},
   "cell_type": "markdown",
   "metadata": {},
   "source": [
    "-------------\n",
    "## SUMMARY\n",
    "\n",
    "The above details how the ER object is inferred.  \n",
    "\n",
    "### NEXT: INFER LIPID BODY\n",
    "\n",
    "proceed to [09_infer_LD_body.ipynb](./09_infer_LD_body.ipynb)\n"
   ]
  }
 ],
 "metadata": {
  "kernelspec": {
   "display_name": "infer-subc",
   "language": "python",
   "name": "python3"
  },
  "language_info": {
   "codemirror_mode": {
    "name": "ipython",
    "version": 3
   },
   "file_extension": ".py",
   "mimetype": "text/x-python",
   "name": "python",
   "nbconvert_exporter": "python",
   "pygments_lexer": "ipython3",
   "version": "3.9.15"
  },
  "orig_nbformat": 4,
  "vscode": {
   "interpreter": {
    "hash": "182b63330db9794b59aa776c624821fb477d854325ad145fa5385f0d56c0c6f3"
   }
  }
 },
 "nbformat": 4,
 "nbformat_minor": 2
}
