{
 "cells": [
  {
   "attachments": {},
   "cell_type": "markdown",
   "metadata": {},
   "source": [
    "# Infer ***cytoplasm*** -  3️⃣\n",
    "> WARNING: (🚨🚨🚨🚨 Steps 4-9 depend on establishing a good solution here.)\n",
    "\n",
    "--------------\n",
    "\n",
    "## OBJECTIVE:  \n",
    "### ✅ Infer sub-cellular component #3: ***cytoplasm***  in order to understand interactome \n",
    "\n",
    "Infer the shape of the cytoplasm -- the cellmask minus the nucleus -- in order to measure its shape, position, and size. \n",
    "\n",
    "Dependencies:\n",
    "The ***cytoplasm*** inference rely on the ***nuclei*** AND ***cellmask*** inference.\n"
   ]
  },
  {
   "attachments": {},
   "cell_type": "markdown",
   "metadata": {},
   "source": [
    "## preamble\n",
    "\n",
    "1. imports\n",
    "2. setup\n",
    "3. infer nuclei mask\n",
    "4. infer cellmask mask\n",
    "5. infer cytoplasm mask\n",
    "    * input\n",
    "    * pre-processing\n",
    "    * core processing\n",
    "    * output"
   ]
  },
  {
   "attachments": {},
   "cell_type": "markdown",
   "metadata": {},
   "source": [
    "\n",
    "## IMPORTS"
   ]
  },
  {
   "cell_type": "code",
   "execution_count": 5,
   "metadata": {},
   "outputs": [
    {
     "name": "stdout",
     "output_type": "stream",
     "text": [
      "The autoreload extension is already loaded. To reload it, use:\n",
      "  %reload_ext autoreload\n"
     ]
    }
   ],
   "source": [
    "# top level imports\n",
    "from pathlib import Path\n",
    "import os, sys\n",
    "from collections import defaultdict\n",
    "\n",
    "import numpy as np\n",
    "\n",
    "from scipy import ndimage as ndi\n",
    "from aicssegmentation.core.pre_processing_utils import ( intensity_normalization, \n",
    "                                                         image_smoothing_gaussian_slice_by_slice )\n",
    "from aicssegmentation.core.MO_threshold import MO\n",
    "from aicssegmentation.core.utils import hole_filling\n",
    "\n",
    "from skimage import filters\n",
    "from skimage.segmentation import watershed\n",
    "from skimage.morphology import (binary_erosion,\n",
    "                                remove_small_holes)\n",
    "from skimage.measure import label\n",
    "\n",
    "# # package for io \n",
    "from aicsimageio import AICSImage\n",
    "\n",
    "import napari\n",
    "\n",
    "### import local python functions in ../infer_subc\n",
    "sys.path.append(os.path.abspath((os.path.join(os.getcwd(), '..'))))\n",
    "\n",
    "from infer_subc.core.file_io import (read_czi_image,\n",
    "                                                                    list_image_files)\n",
    "from infer_subc.core.img import *\n",
    "\n",
    "from infer_subc.constants import (TEST_IMG_N,\n",
    "                                                                    NUC_CH ,\n",
    "                                                                    LYSO_CH ,\n",
    "                                                                    MITO_CH ,\n",
    "                                                                    GOLGI_CH ,\n",
    "                                                                    PEROX_CH ,\n",
    "                                                                    ER_CH ,\n",
    "                                                                    LD_CH ,\n",
    "                                                                    RESIDUAL_CH )          \n",
    "\n",
    "from infer_subc.organelles import infer_cellmask_fromaggr, fixed_infer_cellmask_fromaggr, fixed_infer_nuclei, find_optimal_Z, fixed_get_optimal_Z_image\n",
    "\n",
    "%load_ext autoreload\n",
    "%autoreload 2"
   ]
  },
  {
   "attachments": {},
   "cell_type": "markdown",
   "metadata": {},
   "source": [
    "## SETUP\n",
    "CUSTOMIZE WITH: \n",
    "1. updated path to data\n",
    "2. updated folder name for \"raw\" data\n",
    "\n",
    "> NOTE: we are operating on a single \"test\" image in this notebook.  The batch-processing of all the images will be happen at the end of the notebook after we have developed/confirmed the setmentation procedures and parameter settings."
   ]
  },
  {
   "cell_type": "code",
   "execution_count": 6,
   "metadata": {},
   "outputs": [],
   "source": [
    "# this will be the example image for testing the pipeline below\n",
    "test_img_n = TEST_IMG_N\n",
    "\n",
    "# build the datapath\n",
    "# all the imaging data goes here.\n",
    "data_root_path = Path(os.path.expanduser(\"~\")) / \"Documents/Python Scripts/infer-subc\"\n",
    "\n",
    "# linearly unmixed \".czi\" files are here\n",
    "data_path = data_root_path / \"raw\"\n",
    "im_type = \".czi\"\n",
    "\n",
    "# get the list of all files\n",
    "img_file_list = list_image_files(data_path,im_type)\n",
    "test_img_name = img_file_list[test_img_n]\n"
   ]
  },
  {
   "cell_type": "code",
   "execution_count": 7,
   "metadata": {},
   "outputs": [
    {
     "name": "stderr",
     "output_type": "stream",
     "text": [
      "c:\\Users\\Shannon\\Anaconda3\\envs\\infer-subc\\lib\\site-packages\\ome_types\\_convenience.py:105: FutureWarning: The default XML parser will be changing from 'xmlschema' to 'lxml' in version 0.4.0.  To silence this warning, please provide the `parser` argument, specifying either 'lxml' (to opt into the new behavior), or'xmlschema' (to retain the old behavior).\n",
      "  d = to_dict(os.fspath(xml), parser=parser, validate=validate)\n"
     ]
    }
   ],
   "source": [
    "# isolate image as an ndarray and metadata as a dictionary\n",
    "img_data,meta_dict = read_czi_image(test_img_name)\n",
    "\n",
    "# get some top-level info about the RAW data\n",
    "channel_names = meta_dict['name']\n",
    "img = meta_dict['metadata']['aicsimage']\n",
    "scale = meta_dict['scale']\n",
    "channel_axis = meta_dict['channel_axis']"
   ]
  },
  {
   "attachments": {},
   "cell_type": "markdown",
   "metadata": {},
   "source": [
    "## INFER NUCLEI MASK\n",
    "\n",
    "Using function defined in 01_infer_nuclei_3D.ipynb"
   ]
  },
  {
   "cell_type": "code",
   "execution_count": 8,
   "metadata": {},
   "outputs": [],
   "source": [
    "def _infer_nuclei_3D( in_img: np.ndarray,\n",
    "                       median_sz: int, \n",
    "                       gauss_sig: float,\n",
    "                       thresh_factor: float,\n",
    "                       thresh_min: float,\n",
    "                       thresh_max: float,\n",
    "                       max_hole_w: int,\n",
    "                       small_obj_w: int,\n",
    "                       sz_filter_method: str\n",
    "                     ) -> np.ndarray:\n",
    "    \"\"\"\n",
    "    Procedure to infer 3D nuclei segmentation from multichannel z-stack input.\n",
    "\n",
    "    Parameters\n",
    "    ------------\n",
    "    in_img: np.ndarray\n",
    "        a 3d image containing all the channels\n",
    "    soma_mask: Optional[np.ndarray] = None\n",
    "        mask\n",
    "    median_sz: int\n",
    "        width of median filter for signal\n",
    "    gauss_sig: float\n",
    "        sigma for gaussian smoothing of  signal\n",
    "    thresh_factor: float\n",
    "        adjustment factor for log Li threholding\n",
    "    thresh_min: float\n",
    "        abs min threhold for log Li threholding\n",
    "    thresh_max: float\n",
    "        abs max threhold for log Li threholding\n",
    "    max_hole_w: int\n",
    "        hole filling cutoff for nuclei post-processing\n",
    "    small_obj_w: int\n",
    "        minimum object size cutoff for nuclei post-processing\n",
    "    sz_filter_method: str\n",
    "        method for size filtering; either \"3D\" or \"slice_by_slice\"\n",
    "\n",
    "    Returns\n",
    "    -------------\n",
    "    nuclei_object\n",
    "        mask defined extent of NU\n",
    "    \n",
    "    \"\"\"\n",
    "    ###################\n",
    "    # INPUT\n",
    "    ################### \n",
    "    nuc_ch = NUC_CH\n",
    "    nuclei = select_channel_from_raw(in_img, nuc_ch)\n",
    "\n",
    "\n",
    "    ###################\n",
    "    # PRE_PROCESSING\n",
    "    ###################                \n",
    "    nuclei = min_max_intensity_normalization(nuclei)\n",
    "    nuclei = median_filter_slice_by_slice(nuclei,\n",
    "                                          size=median_sz)\n",
    "    nuclei = image_smoothing_gaussian_slice_by_slice(nuclei,\n",
    "                                                     sigma=gauss_sig )\n",
    "\n",
    "\n",
    "    ###################\n",
    "    # CORE_PROCESSING\n",
    "    ###################\n",
    "    nuclei_object = apply_log_li_threshold(nuclei, \n",
    "                                           thresh_factor=thresh_factor, \n",
    "                                           thresh_min=thresh_min, \n",
    "                                           thresh_max=thresh_max)\n",
    "\n",
    "\n",
    "    ###################\n",
    "    # POST_PROCESSING\n",
    "    ###################\n",
    "    nuclei_object = hole_filling(nuclei_object, \n",
    "                                 hole_min=0, \n",
    "                                 hole_max=max_hole_w**2, \n",
    "                                 fill_2d=True)\n",
    "\n",
    "    nuclei_object = size_filter(nuclei_object, \n",
    "                                min_size = small_obj_w**3, \n",
    "                                method = sz_filter_method,\n",
    "                                connectivity=1)\n",
    "\n",
    "\n",
    "    return nuclei_object\n",
    "\n",
    "\n",
    "def _fixed_infer_nuclei_3D(in_img: np.ndarray) -> np.ndarray:\n",
    "    \"\"\"\n",
    "    Procedure to infer cellmask from linearly unmixed input, with a *fixed* set of parameters for each step in the procedure.  i.e. \"hard coded\"\n",
    "\n",
    "    Parameters\n",
    "    ------------\n",
    "    in_img: np.ndarray\n",
    "        a 3d image containing all the channels\n",
    "    soma_mask: np.ndarray\n",
    "        mask\n",
    " \n",
    "    Returns\n",
    "    -------------\n",
    "    nuclei_object\n",
    "        mask defined extent of NU\n",
    "    \n",
    "    \"\"\"\n",
    "\n",
    "    nuc_ch = NUC_CH\n",
    "    median_sz = 4   \n",
    "    gauss_sig = 1.34\n",
    "    threshold_factor = 0.9\n",
    "    thresh_min = 0.1\n",
    "    thresh_max = 1.0\n",
    "    max_hole_w = 5\n",
    "    small_obj_w = 15\n",
    "    sz_filter_method = \"3D\"\n",
    "\n",
    "    return _infer_nuclei_3D( in_img,\n",
    "                             median_sz,\n",
    "                             gauss_sig,\n",
    "                             threshold_factor,\n",
    "                             thresh_min,\n",
    "                             thresh_max,\n",
    "                             max_hole_w,\n",
    "                             small_obj_w,\n",
    "                             sz_filter_method )\n",
    "\n",
    "\n",
    "_NU_object =  _fixed_infer_nuclei_3D(img_data) \n",
    "NU_labels = label(_NU_object)"
   ]
  },
  {
   "attachments": {},
   "cell_type": "markdown",
   "metadata": {},
   "source": [
    "## INFER CELLMASK\n",
    "\n",
    "Using function defined in 02_infer_cellmask_fromaggr_3D.ipynb"
   ]
  },
  {
   "cell_type": "code",
   "execution_count": 9,
   "metadata": {},
   "outputs": [],
   "source": [
    "def _raw_soma_MCZ(img_in):\n",
    "    \"\"\" define cellmask image\n",
    "    \"\"\"\n",
    "    SOMA_W = (6.,1.,2.)\n",
    "    SOMA_CH = (LYSO_CH,ER_CH,GOLGI_CH)\n",
    "    img_out = np.zeros_like(img_in[0]).astype(np.double)\n",
    "    for w,ch in zip(SOMA_W,SOMA_CH):\n",
    "        img_out += w*img_in[ch]\n",
    "    return img_out\n",
    "\n",
    "\n",
    "def _non_linear_soma_transform_MCZ(in_img):\n",
    "    \"\"\" non-linear distortion to fill out cellmask\n",
    "    log + edge of smoothed composite\n",
    "    \"\"\"\n",
    "    # non-Linear processing\n",
    "    log_img, d = log_transform(in_img.copy()) \n",
    "    return intensity_normalization(log_img,scaling_param=[0])\n",
    "\n",
    "\n",
    "def _masked_object_thresh(\n",
    "    structure_img_smooth: np.ndarray, th_method: str, cutoff_size: int, th_adjust: float\n",
    ") -> np.ndarray:\n",
    "    \"\"\"\n",
    "    wrapper for applying Masked Object Thresholding with just two parameters via `MO` from `aicssegmentation`\n",
    "    Parameters\n",
    "    ------------\n",
    "    structure_img_smooth: np.ndarray\n",
    "        a 3d image\n",
    "    th_method: \n",
    "         which method to use for calculating global threshold. Options include:\n",
    "         \"triangle\" (or \"tri\"), \"median\" (or \"med\"), and \"ave_tri_med\" (or \"ave\").\n",
    "         \"ave\" refers the average of \"triangle\" threshold and \"mean\" threshold.\n",
    "    cutoff_size: \n",
    "        Masked Object threshold `size_min`\n",
    "    th_adjust: \n",
    "        Masked Object threshold `local_adjust`\n",
    "\n",
    "    Returns\n",
    "    -------------\n",
    "        np.ndimage \n",
    "\n",
    "    \"\"\"\n",
    "\n",
    "    struct_obj = MO(\n",
    "        structure_img_smooth,\n",
    "        global_thresh_method=th_method,\n",
    "        object_minArea=cutoff_size,\n",
    "        extra_criteria=True,\n",
    "        local_adjust=th_adjust,\n",
    "        return_object=False,\n",
    "        dilate=True,\n",
    "    )\n",
    "    return struct_obj\n",
    "\n",
    "\n",
    "def _masked_inverted_watershed(img_in, markers, mask):\n",
    "    \"\"\"wrapper for watershed on inverted image and masked\n",
    "\n",
    "    \"\"\"\n",
    "    labels_out = watershed(\n",
    "                1. - img_in,\n",
    "                markers=markers,\n",
    "                connectivity=3,\n",
    "                mask=mask,\n",
    "                )\n",
    "    return labels_out\n",
    "\n",
    "\n",
    "def _choose_max_label(raw_signal: np.ndarray, labels_in: np.ndarray):\n",
    "    \"\"\" keep only the label with the maximum raw signal\n",
    "\n",
    "    \"\"\"\n",
    "\n",
    "    all_labels = np.unique(labels_in)[1:]\n",
    "\n",
    "    total_signal = [raw_signal[labels_in == label].sum() for label in all_labels]\n",
    "    # combine NU and \"labels\" to make a SOMA\n",
    "    keep_label = all_labels[np.argmax(total_signal)]\n",
    "\n",
    "    labels_max = np.zeros_like(labels_in)\n",
    "    labels_max[labels_in==keep_label] = 1\n",
    "    return labels_max"
   ]
  },
  {
   "cell_type": "code",
   "execution_count": 10,
   "metadata": {},
   "outputs": [
    {
     "name": "stdout",
     "output_type": "stream",
     "text": [
      "intensity normalization: min-max normalization with NO absoluteintensity upper bound\n"
     ]
    }
   ],
   "source": [
    "def _infer_cellmask_fromaggr_3D(in_img: np.ndarray,\n",
    "    nuclei_labels: np.ndarray,\n",
    "    median_sz_soma: int,\n",
    "    gauss_sig_soma: float,\n",
    "    gauss_truc_rang: float,\n",
    "    mo_method: str,\n",
    "    mo_adjust: float,\n",
    "    mo_cutoff_size: int,\n",
    "    max_hole_w_soma: int,\n",
    "    small_obj_w_soma: int\n",
    ") -> np.ndarray:\n",
    "    \"\"\"\n",
    "    Procedure to infer cellmask from linearly unmixed input.\n",
    "\n",
    "    Parameters\n",
    "    ------------\n",
    "    in_img: \n",
    "        a 3d image containing all the channels\n",
    "    nuclei_labels:\n",
    "        a 3d mask of nuclei\n",
    "    median_sz_soma: \n",
    "        width of median filter for _soma_ signal\n",
    "    gauss_sig_soma: \n",
    "        sigma for gaussian smoothing of _soma_ signal\n",
    "    gauss_truc_rang:\n",
    "        cutoff value for gaussian\n",
    "    mo_method: \n",
    "         which method to use for calculating global threshold. Options include:\n",
    "         \"triangle\" (or \"tri\"), \"median\" (or \"med\"), and \"ave_tri_med\" (or \"ave\").\n",
    "         \"ave\" refers the average of \"triangle\" threshold and \"mean\" threshold.\n",
    "    mo_adjust: \n",
    "        Masked Object threshold `local_adjust`\n",
    "    mo_cutoff_size: \n",
    "        Masked Object threshold `size_min`\n",
    "    max_hole_w_soma: \n",
    "        hole filling cutoff for cellmask signal post-processing\n",
    "    small_obj_w_soma: \n",
    "        minimu object size cutoff for cellmask signal post-processing\n",
    "\n",
    "    Returns\n",
    "    -------------\n",
    "    soma_mask:\n",
    "        a logical/labels object defining boundaries of cellmask\n",
    "\n",
    "    \"\"\"\n",
    "\n",
    "    ###################\n",
    "    # EXTRACT\n",
    "    ###################\n",
    "    struct_img = _raw_soma_MCZ(in_img)\n",
    "\n",
    "\n",
    "    ###################\n",
    "    # PRE_PROCESSING\n",
    "    ###################                         \n",
    "    ################# part 1- cellmask\n",
    "    struct_img = min_max_intensity_normalization(struct_img)\n",
    "\n",
    "    # make a copy for post-post processing\n",
    "    scaled_signal = struct_img.copy()\n",
    "\n",
    "    # Linear-ish processing\n",
    "    struct_img = median_filter_slice_by_slice(struct_img, \n",
    "                                              size=median_sz_soma)\n",
    "\n",
    "    struct_img = ndi.gaussian_filter(struct_img,\n",
    "                                     sigma=gauss_sig_soma,\n",
    "                                     mode=\"nearest\",\n",
    "                                     truncate=gauss_truc_rang)\n",
    "\n",
    "    struct_img_non_lin = _non_linear_soma_transform_MCZ(struct_img)\n",
    "   \n",
    "\n",
    "    ###################\n",
    "    # CORE_PROCESSING\n",
    "    ###################    \n",
    "    struct_obj = _masked_object_thresh(struct_img_non_lin, \n",
    "                                       th_method=mo_method, \n",
    "                                       cutoff_size=mo_cutoff_size, \n",
    "                                       th_adjust=mo_adjust)               \n",
    "\n",
    "\n",
    "    ###################\n",
    "    # POST_PROCESSING\n",
    "    ###################\n",
    "    struct_obj = hole_filling(struct_obj, \n",
    "                              hole_min =0 , \n",
    "                              hole_max=max_hole_w_soma**2, \n",
    "                              fill_2d = True) \n",
    "\n",
    "    struct_obj = size_filter_linear_size(struct_obj, \n",
    "                                min_size= small_obj_w_soma**3, \n",
    "                                connectivity=1)\n",
    "\n",
    "    labels_out = _masked_inverted_watershed(struct_obj, nuclei_labels, struct_obj)\n",
    "\n",
    "\n",
    "    ###################\n",
    "    # POST- POST_PROCESSING\n",
    "    ###################\n",
    "    # keep the \"SOMA\" label which contains the highest total signal\n",
    "    soma_out = _choose_max_label(struct_img, labels_out)\n",
    "\n",
    "    return soma_out\n",
    "\n",
    "\n",
    "def _fixed_infer_cellmask_fromaggr_3D(in_img: np.ndarray, nuclei_labels: np.ndarray) -> np.ndarray:\n",
    "    \"\"\"\n",
    "    Procedure to infer cellmask from linearly unmixed input, with a *fixed* set of parameters for each step in the procedure.  i.e. \"hard coded\"\n",
    "\n",
    "    Parameters\n",
    "    ------------\n",
    "    in_img: \n",
    "        a 3d image containing all the channels\n",
    "    nuclei_object:\n",
    "        a 3d mask of nuclei\n",
    "\n",
    "    Returns\n",
    "    -------------\n",
    "    soma_mask:\n",
    "        a logical/labels object defining boundaries of cellmask\n",
    "    \"\"\"\n",
    "    \n",
    "    ###################\n",
    "    # PARAMETERS\n",
    "    ###################   \n",
    "    median_sz_soma = 15\n",
    "    gauss_sig_soma = 1.34\n",
    "    gauss_truc_rang = 3.0\n",
    "    mo_method = \"ave\"\n",
    "    mo_adjust = 0.15\n",
    "    mo_cutoff_size = 50\n",
    "    max_hole_w_soma = 100\n",
    "    small_obj_w_soma = 45\n",
    "\n",
    "    soma_out = _infer_cellmask_fromaggr_3D(in_img,\n",
    "                              nuclei_labels,\n",
    "                              median_sz_soma,\n",
    "                              gauss_sig_soma,\n",
    "                              gauss_truc_rang,\n",
    "                              mo_method,\n",
    "                              mo_adjust,\n",
    "                              mo_cutoff_size,\n",
    "                              max_hole_w_soma,\n",
    "                              small_obj_w_soma) \n",
    "\n",
    "    return soma_out\n",
    "\n",
    "\n",
    "SO_label =  _fixed_infer_cellmask_fromaggr_3D(img_data, NU_labels) "
   ]
  },
  {
   "cell_type": "code",
   "execution_count": 24,
   "metadata": {},
   "outputs": [],
   "source": [
    "#selecting signle nuclei that matches the cytoplasm selected above\n",
    "NU_object = np.logical_and(SO_label,NU_labels)"
   ]
  },
  {
   "cell_type": "code",
   "execution_count": 12,
   "metadata": {},
   "outputs": [],
   "source": [
    "viewer = napari.Viewer()"
   ]
  },
  {
   "cell_type": "code",
   "execution_count": 26,
   "metadata": {},
   "outputs": [
    {
     "data": {
      "text/plain": [
       "<Labels layer 'NU_object' at 0x290c5d5ec10>"
      ]
     },
     "execution_count": 26,
     "metadata": {},
     "output_type": "execute_result"
    }
   ],
   "source": [
    "viewer.add_labels(\n",
    "    NU_labels,\n",
    "    scale=scale\n",
    ")\n",
    "viewer.add_labels(\n",
    "    SO_label,\n",
    "    scale=scale\n",
    ")\n",
    "viewer.add_labels(\n",
    "    NU_object,\n",
    "    scale=scale\n",
    ")"
   ]
  },
  {
   "attachments": {},
   "cell_type": "markdown",
   "metadata": {},
   "source": [
    "##  infer ***cytoplasm***\n",
    "\n",
    "## summary of steps\n",
    "\n",
    "➡️ INPUT\n",
    "- labeled ***nuclei*** (objective #1)\n",
    "- labeled ***cellmask*** (objective #2)\n",
    "\n",
    "PRE-PROCESSING\n",
    "- erode ***nuclei*** (shrink)\n",
    "\n",
    "CORE PROCESSING\n",
    "  - XOR(***nuclei***, ***cellmask***)\n",
    "\n",
    "- POST-PROCESSING\n",
    "  - N/A\n",
    "\n",
    "OUTPUT ➡️ \n",
    "- mask of ***cytoplasm***\n",
    "- ***cytoplasm*** object (intensity)\n"
   ]
  },
  {
   "cell_type": "markdown",
   "metadata": {},
   "source": [
    "## PRE-PROCESSING"
   ]
  },
  {
   "cell_type": "code",
   "execution_count": 35,
   "metadata": {},
   "outputs": [],
   "source": [
    "###################\n",
    "# PRE_PROCESSING\n",
    "###################\n",
    "\n",
    "nuclei_eroded = binary_erosion(NU_object)"
   ]
  },
  {
   "cell_type": "code",
   "execution_count": 28,
   "metadata": {},
   "outputs": [
    {
     "data": {
      "text/plain": [
       "<Image layer 'nuclei_eroded' at 0x290c6540550>"
      ]
     },
     "execution_count": 28,
     "metadata": {},
     "output_type": "execute_result"
    }
   ],
   "source": [
    "viewer.add_image(\n",
    "    nuclei_eroded,\n",
    "    scale=scale\n",
    ")"
   ]
  },
  {
   "cell_type": "markdown",
   "metadata": {},
   "source": [
    "## CORE PROCESSING"
   ]
  },
  {
   "cell_type": "code",
   "execution_count": 41,
   "metadata": {},
   "outputs": [],
   "source": [
    "###################\n",
    "# CORE_PROCESSING\n",
    "###################\n",
    "\n",
    "# this function only maintains the are that is shared by the SO_label and the inverse of the nuclei_eroded\n",
    "cyto_object = np.logical_and(SO_label, ~nuclei_eroded)\n",
    "\n",
    "# this function maintains any where there is a SO_label or a nuclei_eroded label, but not where they both exist\n",
    "# if this one is used and there isn't a single nuclei, it will also maintain all the nuclei outside of the one cellmask\n",
    "cyto_object_xor = np.logical_xor(SO_label, nuclei_eroded)"
   ]
  },
  {
   "cell_type": "code",
   "execution_count": 40,
   "metadata": {},
   "outputs": [
    {
     "data": {
      "text/plain": [
       "<Image layer 'cyto_object_xor' at 0x290c6432f10>"
      ]
     },
     "execution_count": 40,
     "metadata": {},
     "output_type": "execute_result"
    }
   ],
   "source": [
    "viewer.add_image(\n",
    "    cyto_object,\n",
    "    scale=scale\n",
    ")\n",
    "viewer.add_image(\n",
    "    cyto_object_xor,\n",
    "    scale=scale\n",
    ")"
   ]
  },
  {
   "attachments": {},
   "cell_type": "markdown",
   "metadata": {},
   "source": [
    "## DEFINE `_infer_cytoplasm` function\n",
    "\n",
    "Based on the _prototyping_ above define the function to infer cytoplasm.  \n"
   ]
  },
  {
   "cell_type": "code",
   "execution_count": 31,
   "metadata": {},
   "outputs": [],
   "source": [
    "# copy this to base.py for easy import\n",
    "\n",
    "def _infer_cytoplasm(soma_mask, nuclei_object, erode_nuclei = True):\n",
    "    \"\"\"\n",
    "    Procedure to infer cytoplasm from linearly unmixed input.\n",
    "\n",
    "    Parameters\n",
    "    ------------\n",
    "    nuclei_object: \n",
    "        a 3d image containing the nuclei signal\n",
    "\n",
    "    soma_mask: \n",
    "        a 3d image containing the cellmask signal\n",
    "\n",
    "    erode_nuclei: \n",
    "        should we erode?\n",
    "\n",
    "    Returns\n",
    "    -------------\n",
    "    cytoplasm_mask \n",
    "        boolean np.ndarray\n",
    "      \n",
    "    \"\"\"\n",
    "\n",
    "\n",
    "    if erode_nuclei:\n",
    "        cytoplasm_mask = np.logical_and(soma_mask, ~binary_erosion(nuclei_object))\n",
    "        # cytoplasm_mask = np.logical_xor(soma_mask, binary_erosion(nuclei_object))\n",
    "    else:\n",
    "        cytoplasm_mask = np.logical_and(soma_mask, ~nuclei_object)\n",
    "        # cytoplasm_mask = np.logical_xor(soma_mask, nuclei_object)\n",
    "\n",
    "\n",
    "    return cytoplasm_mask\n",
    "\n"
   ]
  },
  {
   "cell_type": "code",
   "execution_count": 43,
   "metadata": {},
   "outputs": [
    {
     "data": {
      "text/plain": [
       "<Image layer '_cytoplasm_mask' at 0x290c5f87280>"
      ]
     },
     "execution_count": 43,
     "metadata": {},
     "output_type": "execute_result"
    }
   ],
   "source": [
    "_cytoplasm_mask =  _infer_cytoplasm(SO_label, NU_object) \n",
    "\n",
    "viewer.add_image(\n",
    "    _cytoplasm_mask,\n",
    "    scale=scale\n",
    ")"
   ]
  },
  {
   "attachments": {},
   "cell_type": "markdown",
   "metadata": {},
   "source": [
    "--------------------------\n",
    "\n",
    "## TEST `infer_cytoplasm` exported functions\n",
    "\n",
    "\n",
    "<code style=\"background:yellow;color:black\">***WIP*** 2D-->3D transition stops here</code>"
   ]
  },
  {
   "cell_type": "code",
   "execution_count": 28,
   "metadata": {},
   "outputs": [],
   "source": [
    "from infer_subc.organelles.cytoplasm import infer_cytoplasm\n",
    "\n",
    "cytoplasm_mask =  infer_cytoplasm(soma_mask, nuclei_object) \n"
   ]
  },
  {
   "attachments": {},
   "cell_type": "markdown",
   "metadata": {},
   "source": [
    "## Visualize  2\n"
   ]
  },
  {
   "cell_type": "code",
   "execution_count": 29,
   "metadata": {},
   "outputs": [
    {
     "ename": "SyntaxError",
     "evalue": "unmatched ')' (3851754511.py, line 12)",
     "output_type": "error",
     "traceback": [
      "\u001b[0;36m  Input \u001b[0;32mIn [29]\u001b[0;36m\u001b[0m\n\u001b[0;31m    )\u001b[0m\n\u001b[0m    ^\u001b[0m\n\u001b[0;31mSyntaxError\u001b[0m\u001b[0;31m:\u001b[0m unmatched ')'\n"
     ]
    }
   ],
   "source": [
    "\n",
    "\n",
    "viewer.scale_bar.visible = True\n",
    "viewer.add_image(\n",
    "    cytoplasm_mask,\n",
    "    scale=scale \n",
    ")\n",
    "\n",
    "viewer.add_labels(\n",
    "    _cytoplasm_mask,\n",
    "    scale=scale \n",
    ")\n"
   ]
  },
  {
   "cell_type": "code",
   "execution_count": 30,
   "metadata": {},
   "outputs": [
    {
     "data": {
      "image/png": "[encoded data removed]",
      "text/html": [
       "<img src=\"data:image/png;base64,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\"></img>"
      ],
      "text/plain": [
       "<napari.utils.notebook_display.NotebookScreenshot at 0x16ca09f70>"
      ]
     },
     "execution_count": 30,
     "metadata": {},
     "output_type": "execute_result"
    }
   ],
   "source": [
    "from napari.utils.notebook_display import nbscreenshot\n",
    "\n",
    "# viewer.dims.ndisplay = 3\n",
    "# viewer.camera.angles = (-30, 25, 120)\n",
    "nbscreenshot(viewer, canvas_only=True)\n",
    "\n"
   ]
  },
  {
   "cell_type": "code",
   "execution_count": 31,
   "metadata": {},
   "outputs": [],
   "source": [
    "viewer.close()"
   ]
  },
  {
   "attachments": {},
   "cell_type": "markdown",
   "metadata": {},
   "source": [
    "-----------------\n",
    "Write the `infer_cytoplasm` spec to the widget json "
   ]
  },
  {
   "cell_type": "code",
   "execution_count": 15,
   "metadata": {},
   "outputs": [
    {
     "name": "stdout",
     "output_type": "stream",
     "text": [
      "function infer_cytoplasm is already in all_functions.json\n",
      "overwriting  infer_cytoplasm\n"
     ]
    },
    {
     "data": {
      "text/plain": [
       "1"
      ]
     },
     "execution_count": 15,
     "metadata": {},
     "output_type": "execute_result"
    }
   ],
   "source": [
    "from infer_subc.organelles_config.helper import add_function_spec_to_widget_json\n",
    "\n",
    "_infer_cytoplasm=  {\n",
    "        \"name\": \"infer infer_cytoplasm\",\n",
    "        \"python::module\": \"infer_subc.organelles\",\n",
    "        \"python::function\": \"infer_cytoplasm\",\n",
    "        \"parameters\": {\n",
    "                \"erode_nuclei\" : {\n",
    "                        \"widget_type\": \"drop-down\",\n",
    "                        \"data_type\": \"bool\",\n",
    "                        \"options\": [\n",
    "                        True,\n",
    "                        False\n",
    "                        ]\n",
    "            }\n",
    "        }\n",
    "}\n",
    "\n",
    "add_function_spec_to_widget_json(\"infer_cytoplasm\",_infer_cytoplasm, overwrite=True)"
   ]
  },
  {
   "cell_type": "markdown",
   "metadata": {},
   "source": [
    "--------------------------\n",
    "## Write workflow .json\n",
    "Now that we've added our function specs we can compose workflows."
   ]
  },
  {
   "cell_type": "code",
   "execution_count": 16,
   "metadata": {},
   "outputs": [],
   "source": [
    "def make_infer_cytoplasm_dict():\n",
    "    \"\"\"\n",
    "    Procedure to infer infer from linearly unmixed input. (logical cellmask AND NOT nucleus)\n",
    "\n",
    "    Parameters\n",
    "    ------------\n",
    "    nuclei_object: np.ndarray\n",
    "        a 3d image containing the nuclei object\n",
    "\n",
    "    soma_mask: np.ndarray\n",
    "        a 3d image containing the cellmask object (mask)\n",
    "\n",
    "    erode_nuclei: bool\n",
    "        should we erode?\n",
    "\n",
    "    Returns\n",
    "    -------------\n",
    "    cytoplasm_mask: np.ndarray (bool)\n",
    "\n",
    "    \"\"\"\n",
    "    step_name = []\n",
    "    function_name = []\n",
    "    category =[]\n",
    "    parameter_values = []\n",
    "    parent = []\n",
    "   \n",
    "    ###################\n",
    "    # EXTRACT\n",
    "    ###################   \n",
    "\n",
    "    step_name.append(\"1\")\n",
    "    function_name.append(\"fixed_get_optimal_Z_img\")\n",
    "    category.append(\"extraction\")\n",
    "    parameter_values.append(None)\n",
    "    parent.append(0)\n",
    "\n",
    "\n",
    "    step_name.append(\"2\")\n",
    "    function_name.append(\"fixed_infer_cellmask_fromaggr\")\n",
    "    category.append(\"extraction\")\n",
    "    parameter_values.append( None )\n",
    "    parent.append(1)\n",
    "\n",
    "    step_name.append(\"3\")\n",
    "    function_name.append(\"fixed_infer_nuclei\")\n",
    "    category.append(\"extraction\")\n",
    "    parameter_values.append( None )\n",
    "    parent.append([1,2])\n",
    "\n",
    "    step_name.append(\"4\")\n",
    "    function_name.append(\"infer_cytoplasm\")\n",
    "    category.append(\"postprocessing\")\n",
    "    parameter_values.append(dict(erode_nuclei = True ))\n",
    "    parent.append([2,3])\n",
    "\n",
    "    out_dict = dict()\n",
    "    for i,stepn in enumerate(step_name):\n",
    "        entry = dict(category=category[i],\n",
    "                            function=function_name[i],\n",
    "                            parameter_values=parameter_values[i],\n",
    "                            parent=parent[i]\n",
    "        )\n",
    "        if entry['parameter_values'] is None:\n",
    "            _ = entry.pop('parameter_values')\n",
    "        out_dict[stepn] = entry\n",
    "        \n",
    "    return out_dict"
   ]
  },
  {
   "cell_type": "code",
   "execution_count": 17,
   "metadata": {},
   "outputs": [
    {
     "data": {
      "text/plain": [
       "PosixPath('/Users/ahenrie/Projects/Imaging/infer-subc/infer_subc/organelles_config/conf_1.3.cytoplasm_from_raw.json')"
      ]
     },
     "execution_count": 17,
     "metadata": {},
     "output_type": "execute_result"
    }
   ],
   "source": [
    "from infer_subc.organelles_config.helper import write_workflow_json\n",
    "\n",
    "infer_cytoplasm_dict = make_infer_cytoplasm_dict()\n",
    "\n",
    "write_workflow_json(\"conf_1.3.cytoplasm_from_raw\", infer_cytoplasm_dict)"
   ]
  },
  {
   "attachments": {},
   "cell_type": "markdown",
   "metadata": {},
   "source": [
    "-------------\n",
    "## SUMMARY\n",
    "\n",
    "The above details how the cytoplasm mask is inferred. \n",
    "\n",
    "### NEXT: INFER LYSOSOME\n",
    "\n",
    "proceed to [04_infer_lyso.ipynb](./04_infer_lyso.ipynb)\n"
   ]
  }
 ],
 "metadata": {
  "kernelspec": {
   "display_name": "infer-subc",
   "language": "python",
   "name": "python3"
  },
  "language_info": {
   "codemirror_mode": {
    "name": "ipython",
    "version": 3
   },
   "file_extension": ".py",
   "mimetype": "text/x-python",
   "name": "python",
   "nbconvert_exporter": "python",
   "pygments_lexer": "ipython3",
   "version": "3.9.15 (main, Nov 24 2022, 14:39:17) [MSC v.1916 64 bit (AMD64)]"
  },
  "orig_nbformat": 4,
  "vscode": {
   "interpreter": {
    "hash": "182b63330db9794b59aa776c624821fb477d854325ad145fa5385f0d56c0c6f3"
   }
  }
 },
 "nbformat": 4,
 "nbformat_minor": 2
}
