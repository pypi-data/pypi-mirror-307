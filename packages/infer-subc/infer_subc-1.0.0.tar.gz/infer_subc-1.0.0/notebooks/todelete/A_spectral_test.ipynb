{
 "cells": [
  {
   "cell_type": "markdown",
   "metadata": {},
   "source": [
    "# SCohenLab 2D Image Processing notebook (Simplified MCZ)\n",
    "\n",
    "--------------\n",
    "# PIPELINE OVERVIEW\n",
    "## 1. GOAL SETTING\n",
    "\n",
    "### GOAL:  Infer sub-cellular components in order to understand interactome \n",
    "\n",
    "To measure shape, position, size, and interaction of eight organelles/cellular components (Nuclei (NU), Lysosomes (LS),Mitochondria (MT), Golgi (GL), Peroxisomes (PO), Endoplasmic Reticulum (ER), Lipid Droplet (LD), and SOMA) during differentiation of iPSCs, in order to understand the Interactome / Spatiotemporal coordination.\n",
    "\n",
    "### summary of _OBJECTIVES_\n",
    "- Infer subcellular objects:\n",
    "  -  #### #1. [infer NUCLEI ](#image-processing-objective-1-infer-nucleii) -\n",
    "  -  #### #2. [Infer SOMA](#image-processing-objective-2-infer-cellmask) -\n",
    "  -  #### #3. [Infer CYTOSOL](#image-processing-objective-3-infer-cytoplasm)- \n",
    "  -  #### #4. [Infer LYSOSOMES](#image-processing-objective-4-infer-lysosome)  -\n",
    "  -  #### #5. [Infer MITOCHONDRIA](#image-processing-objective-5-infer-mitochondria) - \n",
    "  -  #### #6. [Infer GOLGI complex](#image-processing-objective-6-infer-golgi-complex) - \n",
    "  -  #### #7. [Infer PEROXISOMES](#image-processing-objective-7-infer-peroxisome) - \n",
    "  -  #### #8. [Infer ENDOPLASMIC RETICULUM ](#image-processing-objective-8-infer-endoplasmic-reticulum)-\n",
    "  -  #### #9. [Infer LB](#image-processing-objective-9-infer-lipid-bodies-droplet)-\n",
    "\n"
   ]
  },
  {
   "cell_type": "markdown",
   "metadata": {},
   "source": [
    "\n",
    "\n",
    "## 2. DATA CREATION\n",
    "> METHODS\n",
    "> iPSC lines prepared and visualized on Zeiss Microscopes. 32 channel multispectral images collected.  Linear Unmixing in  ZEN Blue software with target emission spectra yields 8 channel image outputs.  Channels correspond to: Nuclei (NU), Lysosomes (LS),Mitochondria (MT), Golgi (GL), Peroxisomes (PO), Endoplasmic Reticulum (ER), Lipid Droplet (LD), and a “residual” signal.\n",
    "\n",
    "> Meta-DATA\n",
    ">   - Microcope settings\n",
    ">  - OME scheme\n",
    "> - Experimenter observations\n",
    "> - Sample, bio-replicate, image numbers, condition values, etc\n",
    ">  - Dates\n",
    ">  - File structure, naming conventions\n",
    ">  - etc.\n",
    "\n",
    "\n"
   ]
  },
  {
   "cell_type": "markdown",
   "metadata": {},
   "source": [
    "\n",
    "## 3. IMAGE PROCESSING\n",
    "### INFERENCE OF SUB-CELLULAR OBJECTS\n",
    "The imported images have already been pre-processed to transform the 32 channel spectral measuremnts into \"linearly unmixed\" images which estimate independently labeled sub-cellular components.  Thes 7 channels (plus a residual \"non-linear\" signal) will be used to infer the shapes and extents of these sub-cellular components.   \n",
    "We will perform computational image analysis on the pictures (in 2D an 3D) to _segment_ the components of interest for measurement.  In other prcoedures we can used these labels as \"ground truth\" labels to train machine learning models to automatically perform the inference of these objects.\n",
    "Pseudo-independent processing of the imported multi-channel image to acheive each of the 9 objecives stated above.  i.e. infering: NUCLEI, SOMA, CYTOSOL, LYSOSOME, MITOCHONDRIA, GOLGI COMPLEX, PEROZISOMES, ENDOPLASMIC RETICULUM, and LIPID BODIES\n",
    "\n",
    "### General flow for infering objects via segmentation\n",
    "- Pre-processing\n",
    "- Core-processing (thresholding)\n",
    "- Post-processing \n",
    "\n",
    "### QC\n"
   ]
  },
  {
   "cell_type": "markdown",
   "metadata": {},
   "source": [
    "\n",
    "\n",
    "## 4. QUANTIFICATION\n",
    "\n",
    "SUBCELLULAR COMPONENT METRICS\n",
    "-  extent \n",
    "-  size\n",
    "-  shape\n",
    "-  position\n",
    "\n",
    "\n",
    "\n",
    "### NOTE: PIPELINE TOOL AND DESIGN CHOICES?\n",
    "We want to leverage the Allen Cell & Structure Setmenter.  It has been wrapped as a [napari-plugin](https://www.napari-hub.org/plugins/napari-allencell-segmenter) but fore the workflow we are proving out here we will want to call the `aicssegmentation` [package](https://github.com/AllenCell/aics-segmentation) directly.\n",
    "\n",
    "#### ​The Allen Cell & Structure Segmenter \n",
    "​The Allen Cell & Structure Segmenter is a Python-based open source toolkit developed at the Allen Institute for Cell Science for 3D segmentation of intracellular structures in fluorescence microscope images. This toolkit brings together classic image segmentation and iterative deep learning workflows first to generate initial high-quality 3D intracellular structure segmentations and then to easily curate these results to generate the ground truths for building robust and accurate deep learning models. The toolkit takes advantage of the high replicate 3D live cell image data collected at the Allen Institute for Cell Science of over 30 endogenous fluorescently tagged human induced pluripotent stem cell (hiPSC) lines. Each cell line represents a different intracellular structure with one or more distinct localization patterns within undifferentiated hiPS cells and hiPSC-derived cardiomyocytes.\n",
    "\n",
    "More details about Segmenter can be found at https://allencell.org/segmenter\n",
    "In order to leverage the A\n",
    "# IMPORTS\n",
    "\n",
    "import  all nescessary packages\n",
    "\n",
    "we are using `napari` for visualization, and `scipy` `ndimage` and `skimage` for analyzing the image files.  The underlying data format are `numpy` `ndarrays` and tools from  Allen Institute for Cell Science.\n"
   ]
  },
  {
   "cell_type": "code",
   "execution_count": 1,
   "metadata": {},
   "outputs": [],
   "source": [
    "\n",
    "# this needs to be organzied to explain the imports\n",
    "from pathlib import Path\n",
    "import os, sys\n",
    "from collections import defaultdict\n",
    "\n",
    "import numpy as np\n",
    "import scipy\n",
    "from scipy import ndimage as ndi\n",
    "\n",
    "import napari\n",
    "\n",
    "# function for core algorithm\n",
    "import aicssegmentation\n",
    "from aicssegmentation.core.seg_dot import dot_3d_wrapper, dot_slice_by_slice, dot_2d_slice_by_slice_wrapper, dot_3d\n",
    "from aicssegmentation.core.pre_processing_utils import ( intensity_normalization, \n",
    "                                                         image_smoothing_gaussian_3d,  \n",
    "                                                         image_smoothing_gaussian_slice_by_slice )\n",
    "from aicssegmentation.core.utils import topology_preserving_thinning, hole_filling\n",
    "from aicssegmentation.core.MO_threshold import MO\n",
    "from aicssegmentation.core.vessel import filament_2d_wrapper, vesselnessSliceBySlice\n",
    "from aicssegmentation.core.output_utils import   save_segmentation,  generate_segmentation_contour\n",
    "                                                 \n",
    "from skimage import filters, img_as_float\n",
    "from skimage import morphology\n",
    "\n",
    "from skimage.segmentation import watershed\n",
    "from skimage.feature import peak_local_max\n",
    "from skimage.morphology import remove_small_objects, binary_closing, ball, disk, dilation, white_tophat, black_tophat   # function for post-processing (size filter)\n",
    "from skimage.measure import label\n",
    "\n",
    "# # package for io \n",
    "# from aicsimageio import AICSImage\n",
    "\n",
    "from napari.utils.notebook_display import nbscreenshot\n",
    "\n",
    "\n",
    "%load_ext autoreload\n",
    "%autoreload 2\n",
    "\n",
    "if sys.platform == \"win32\":\n",
    "    sys.path.append(os.path.abspath((os.path.join(os.getcwd(), '..'))))\n",
    "    from infer_subc.base import *\n",
    "else:\n",
    "    from infer_subc.base import *\n",
    "\n",
    "\n",
    "viewer = None"
   ]
  },
  {
   "cell_type": "markdown",
   "metadata": {},
   "source": [
    "\n",
    "# Get and load Image for processing\n",
    "For testing purposes... TODO: build a nice wrapper for this.\n"
   ]
  },
  {
   "cell_type": "markdown",
   "metadata": {},
   "source": [
    "\n",
    "Read the data into memeory from the `.czi` files.  (Note: there is also the 2D slice .tif file read for later comparision).  WE will also collect metatdata.\n"
   ]
  },
  {
   "cell_type": "code",
   "execution_count": 2,
   "metadata": {},
   "outputs": [
    {
     "name": "stdout",
     "output_type": "stream",
     "text": [
      "/Users/ahenrie/Projects/Imaging/mcz_subcell/data/raw/mixed/ZSTACK_KOLF2.1J-WT-hNGN2_BR1_6.czi\n"
     ]
    }
   ],
   "source": [
    "# assumptions:   .czi \"unmixed\" collections.\n",
    "#czi_img_folder = f\"{os.getenv('HOME')}/Projects/Imaging/mcz_subcell/data\"\n",
    "\n",
    "data_path = Path( f\"{os.getenv('HOME')}/Projects/Imaging/mcz_subcell/data\")\n",
    "czi_img_folder = data_path/\"raw/mixed\"\n",
    "\n",
    "\n",
    "list_img_files = lambda img_folder,f_type: [os.path.join(img_folder,f_name) for f_name in os.listdir(img_folder) if f_name.endswith(f_type)]\n",
    "\n",
    "img_file_list = list_img_files(czi_img_folder,'.czi')\n",
    "print(img_file_list[1])\n",
    "#Read the data into memeory from the `.czi` files.  (Note: there is also the 2D slice .tif file read for later comparision).  WE will also collect metatdata.\n"
   ]
  },
  {
   "cell_type": "code",
   "execution_count": 3,
   "metadata": {},
   "outputs": [
    {
     "name": "stdout",
     "output_type": "stream",
     "text": [
      "xarray_data\n",
      "type(retval)=<class 'xarray.core.dataarray.DataArray'>\n"
     ]
    },
    {
     "name": "stderr",
     "output_type": "stream",
     "text": [
      "/opt/anaconda3/envs/napariNEW/lib/python3.9/site-packages/ome_types/_convenience.py:105: FutureWarning: The default XML parser will be changing from 'xmlschema' to 'lxml' in version 0.4.0.  To silence this warning, please provide the `parser` argument, specifying either 'lxml' (to opt into the new behavior), or'xmlschema' (to retain the old behavior).\n",
      "  d = to_dict(os.fspath(xml), parser=parser, validate=validate)\n"
     ]
    },
    {
     "name": "stdout",
     "output_type": "stream",
     "text": [
      "data_out type:  <class 'xarray.core.dataarray.DataArray'>\n"
     ]
    }
   ],
   "source": [
    "\n",
    "test_img_name = img_file_list[0]\n",
    "\n",
    "img_data, meta_dict = read_input_image(test_img_name)\n",
    "\n",
    "raw_meta_data, ome_types = get_raw_meta_data(meta_dict)\n",
    "\n",
    "# get some top-level info about the RAW data\n",
    "channel_names = meta_dict['name']\n",
    "img = meta_dict['metadata']['aicsimage']\n",
    "scale = meta_dict['scale']\n",
    "channel_axis = meta_dict['channel_axis']\n",
    "\n"
   ]
  },
  {
   "cell_type": "code",
   "execution_count": 4,
   "metadata": {},
   "outputs": [
    {
     "name": "stdout",
     "output_type": "stream",
     "text": [
      "xarray_data\n",
      "type(retval)=<class 'xarray.core.dataarray.DataArray'>\n",
      "data_out type:  <class 'xarray.core.dataarray.DataArray'>\n",
      "xarray_data\n",
      "type(retval)=<class 'xarray.core.dataarray.DataArray'>\n",
      "data_out type:  <class 'xarray.core.dataarray.DataArray'>\n",
      "xarray_data\n",
      "type(retval)=<class 'xarray.core.dataarray.DataArray'>\n",
      "data_out type:  <class 'xarray.core.dataarray.DataArray'>\n",
      "xarray_data\n",
      "type(retval)=<class 'xarray.core.dataarray.DataArray'>\n",
      "data_out type:  <class 'xarray.core.dataarray.DataArray'>\n",
      "xarray_data\n",
      "type(retval)=<class 'xarray.core.dataarray.DataArray'>\n",
      "data_out type:  <class 'xarray.core.dataarray.DataArray'>\n",
      "xarray_data\n",
      "type(retval)=<class 'xarray.core.dataarray.DataArray'>\n",
      "data_out type:  <class 'xarray.core.dataarray.DataArray'>\n",
      "xarray_data\n",
      "type(retval)=<class 'xarray.core.dataarray.DataArray'>\n",
      "data_out type:  <class 'xarray.core.dataarray.DataArray'>\n"
     ]
    }
   ],
   "source": [
    "standards_folder = data_path/\"Spectra_January2022\"\n",
    "\n",
    "\n",
    "std_file_list = list_img_files(standards_folder,'.czi')\n",
    "\n",
    "#  ['/Users/ahenrie/Projects/Imaging/mcz_subcell/data/Spectra_January2022/ER_1.czi',\n",
    "#   '/Users/ahenrie/Projects/Imaging/mcz_subcell/data/Spectra_January2022/BODIPY_1.czi',\n",
    "#   '/Users/ahenrie/Projects/Imaging/mcz_subcell/data/Spectra_January2022/Mito.czi',\n",
    "#   '/Users/ahenrie/Projects/Imaging/mcz_subcell/data/Spectra_January2022/Lyso.czi',\n",
    "#   '/Users/ahenrie/Projects/Imaging/mcz_subcell/data/Spectra_January2022/Golgi.czi',\n",
    "#   '/Users/ahenrie/Projects/Imaging/mcz_subcell/data/Spectra_January2022/Nuclei_2.czi',\n",
    "#   '/Users/ahenrie/Projects/Imaging/mcz_subcell/data/Spectra_January2022/Peroxisomes_2i.czi'])\n",
    "ER_emission, ER_meta_dict = read_input_image(std_file_list[0])\n",
    "BP_emission, BP_meta_dict = read_input_image(std_file_list[1])\n",
    "MT_emission, MT_meta_dict = read_input_image(std_file_list[2])\n",
    "LY_emission, LY_meta_dict = read_input_image(std_file_list[3])\n",
    "GL_emission, GL_meta_dict = read_input_image(std_file_list[4])\n",
    "NU_emission, NU_meta_dict = read_input_image(std_file_list[5])\n",
    "PO_emission, PO_meta_dict = read_input_image(std_file_list[6])\n",
    "\n"
   ]
  },
  {
   "cell_type": "code",
   "execution_count": 23,
   "metadata": {},
   "outputs": [
    {
     "data": {
      "text/plain": [
       "(['0 :: None :: 415',\n",
       "  '0 :: None :: 424',\n",
       "  '0 :: None :: 433',\n",
       "  '0 :: None :: 441',\n",
       "  '0 :: None :: 450',\n",
       "  '0 :: None :: 459',\n",
       "  '0 :: None :: 468',\n",
       "  '0 :: None :: 477',\n",
       "  '0 :: None :: 486',\n",
       "  '0 :: None :: 495',\n",
       "  '0 :: None :: 504',\n",
       "  '0 :: None :: 513',\n",
       "  '0 :: None :: 521',\n",
       "  '0 :: None :: 530',\n",
       "  '0 :: None :: 539',\n",
       "  '0 :: None :: 548',\n",
       "  '0 :: None :: 557',\n",
       "  '0 :: None :: 566',\n",
       "  '0 :: None :: 575',\n",
       "  '0 :: None :: 584',\n",
       "  '0 :: None :: 593',\n",
       "  '0 :: None :: 601',\n",
       "  '0 :: None :: 610',\n",
       "  '0 :: None :: 619',\n",
       "  '0 :: None :: 628',\n",
       "  '0 :: None :: 637',\n",
       "  '0 :: None :: 646',\n",
       "  '0 :: None :: 655',\n",
       "  '0 :: None :: 664',\n",
       "  '0 :: None :: 673',\n",
       "  '0 :: None :: 681',\n",
       "  '0 :: None :: 690'],\n",
       " (0.0, 0.07987165184837318, 0.07987165184837318),\n",
       " ['/Users/ahenrie/Projects/Imaging/mcz_subcell/data/Spectra_January2022/ER_1.czi',\n",
       "  '/Users/ahenrie/Projects/Imaging/mcz_subcell/data/Spectra_January2022/BODIPY_1.czi',\n",
       "  '/Users/ahenrie/Projects/Imaging/mcz_subcell/data/Spectra_January2022/Mito.czi',\n",
       "  '/Users/ahenrie/Projects/Imaging/mcz_subcell/data/Spectra_January2022/Lyso.czi',\n",
       "  '/Users/ahenrie/Projects/Imaging/mcz_subcell/data/Spectra_January2022/Golgi.czi',\n",
       "  '/Users/ahenrie/Projects/Imaging/mcz_subcell/data/Spectra_January2022/Nuclei_2.czi',\n",
       "  '/Users/ahenrie/Projects/Imaging/mcz_subcell/data/Spectra_January2022/Peroxisomes_2i.czi'])"
      ]
     },
     "execution_count": 23,
     "metadata": {},
     "output_type": "execute_result"
    }
   ],
   "source": [
    "ER_meta_dict['name'],ER_meta_dict['scale'], std_file_list\n"
   ]
  },
  {
   "cell_type": "code",
   "execution_count": null,
   "metadata": {},
   "outputs": [],
   "source": []
  },
  {
   "cell_type": "markdown",
   "metadata": {},
   "source": [
    "Visualize the raw data file with [napari](https://napari.org)"
   ]
  },
  {
   "cell_type": "code",
   "execution_count": 5,
   "metadata": {},
   "outputs": [
    {
     "data": {
      "text/plain": [
       "(32, 768, 768)"
      ]
     },
     "execution_count": 5,
     "metadata": {},
     "output_type": "execute_result"
    }
   ],
   "source": [
    "ER_emission.shape"
   ]
  },
  {
   "cell_type": "code",
   "execution_count": 6,
   "metadata": {},
   "outputs": [],
   "source": [
    "# this does NOT seem to be in register with the segmentation !?!?!?\n",
    "\n",
    "# TODO:  figure out why this \"rotates\" the axis.. .probably has to do with the implicit squeezing when extracting channels\n",
    "viewer = napari.view_image(\n",
    "    img_data,\n",
    "    channel_axis=0,\n",
    "    name=channel_names,\n",
    "    scale=scale\n",
    ")\n",
    "viewer.scale_bar.visible = True\n"
   ]
  },
  {
   "cell_type": "code",
   "execution_count": 7,
   "metadata": {},
   "outputs": [
    {
     "data": {
      "text/plain": [
       "<Image layer 'PO_emission' at 0x173b75dc0>"
      ]
     },
     "execution_count": 7,
     "metadata": {},
     "output_type": "execute_result"
    }
   ],
   "source": [
    "# TODO:  figure out why this \"rotates\" the axis.. .probably has to do with the implicit squeezing when extracting channels\n",
    "viewer2 = napari.view_image(\n",
    "    ER_emission,\n",
    "    scale=scale\n",
    ")\n",
    "viewer.scale_bar.visible = True\n",
    "\n",
    "viewer2.add_image(\n",
    "    BP_emission,\n",
    "    scale=scale\n",
    ")\n",
    "viewer2.add_image(\n",
    "    MT_emission,\n",
    "    scale=scale\n",
    ")\n",
    "\n",
    "viewer2.add_image(\n",
    "    LY_emission,\n",
    "    scale=scale\n",
    ")\n",
    "viewer2.add_image(\n",
    "    GL_emission,\n",
    "    scale=scale\n",
    ")\n",
    "viewer2.add_image(\n",
    "    NU_emission,\n",
    "    scale=scale\n",
    ")\n",
    "viewer2.add_image(\n",
    "    PO_emission,\n",
    "    scale=scale\n",
    ")\n"
   ]
  },
  {
   "cell_type": "markdown",
   "metadata": {},
   "source": [
    "Builde the segmentations in order\n",
    "\n",
    "\n"
   ]
  },
  {
   "cell_type": "markdown",
   "metadata": {},
   "source": [
    "\n",
    "Pack into an OME.tiff with the same "
   ]
  },
  {
   "cell_type": "markdown",
   "metadata": {},
   "source": [
    "# TODO : tuesday Aug 30\n",
    "\n",
    "- find methods... what are these and how do they contribute to linear unmixing?\n",
    "- There is a \"nuclear\" signal leaking into a clear band for ALL the labels.\n",
    "\n"
   ]
  }
 ],
 "metadata": {
  "kernelspec": {
   "display_name": "Python 3.9.13 ('napariNEW')",
   "language": "python",
   "name": "python3"
  },
  "language_info": {
   "codemirror_mode": {
    "name": "ipython",
    "version": 3
   },
   "file_extension": ".py",
   "mimetype": "text/x-python",
   "name": "python",
   "nbconvert_exporter": "python",
   "pygments_lexer": "ipython3",
   "version": "3.9.13"
  },
  "orig_nbformat": 4,
  "vscode": {
   "interpreter": {
    "hash": "d6148ef1fb015fb20f0b6da2ea61c87c6b848bdf3dabb03087e5d5cd0c4607e9"
   }
  }
 },
 "nbformat": 4,
 "nbformat_minor": 2
}
