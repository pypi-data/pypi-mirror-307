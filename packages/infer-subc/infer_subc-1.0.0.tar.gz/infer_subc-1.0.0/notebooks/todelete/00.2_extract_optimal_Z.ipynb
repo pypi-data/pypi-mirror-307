{
 "cells": [
  {
   "attachments": {},
   "cell_type": "markdown",
   "metadata": {},
   "source": [
    "# Choose single Z-slice\n"
   ]
  },
  {
   "attachments": {},
   "cell_type": "markdown",
   "metadata": {},
   "source": [
    "## preamble\n",
    "\n",
    "1. imports\n",
    "2. setup\n",
    "\n",
    "> the contents of the preamble are reduncant with [00.1_pipeline_setup.ipynb](./00.1_pipeline_setup.ipynb)"
   ]
  },
  {
   "cell_type": "code",
   "execution_count": 9,
   "metadata": {},
   "outputs": [
    {
     "name": "stdout",
     "output_type": "stream",
     "text": [
      "The autoreload extension is already loaded. To reload it, use:\n",
      "  %reload_ext autoreload\n"
     ]
    }
   ],
   "source": [
    "# top level imports\n",
    "from pathlib import Path\n",
    "import os, sys\n",
    "import json\n",
    "\n",
    "import numpy as np\n",
    "\n",
    "from typing import Union, List, Tuple, Any\n",
    "# TODO:  prune the imports.. this is the big set for almost all organelles\n",
    "# # function for core algorithm\n",
    "from scipy import ndimage as ndi\n",
    "from aicssegmentation.core.pre_processing_utils import ( intensity_normalization, \n",
    "                                                         image_smoothing_gaussian_slice_by_slice )\n",
    "\n",
    "# # package for io \n",
    "from aicsimageio import AICSImage\n",
    "\n",
    "import napari\n",
    "\n",
    "from skimage.segmentation import clear_border\n",
    "from skimage.measure import label\n",
    "\n",
    "### import local python functions in ../infer_subc\n",
    "sys.path.append(os.path.abspath((os.path.join(os.getcwd(), '..'))))\n",
    "\n",
    "from infer_subc.core.file_io import (read_czi_image,\n",
    "                                                                    list_image_files)\n",
    "from infer_subc.core.img import *\n",
    "from infer_subc.organelles import fixed_get_optimal_Z_image, get_optimal_Z_image\n",
    "\n",
    "# NOTE:  these \"constants\" are only accurate for the testing MCZ dataset\n",
    "from infer_subc.constants import (\n",
    "    TEST_IMG_N,\n",
    "    NUC_CH ,\n",
    "    LYSO_CH ,\n",
    "    MITO_CH ,\n",
    "    GOLGI_CH ,\n",
    "    PEROX_CH ,\n",
    "    ER_CH ,\n",
    "    LD_CH ,\n",
    "    RESIDUAL_CH , \n",
    "    ALL_CHANNELS)\n",
    "\n",
    "%load_ext autoreload\n",
    "%autoreload 2\n",
    "\n",
    "test_img_n = TEST_IMG_N"
   ]
  },
  {
   "cell_type": "code",
   "execution_count": 4,
   "metadata": {},
   "outputs": [
    {
     "data": {
      "text/plain": [
       "'/Users/ahenrie/Projects/Imaging/data/raw/ZSTACK_PBTOhNGN2hiPSCs_BR3_N04_Unmixed.czi'"
      ]
     },
     "execution_count": 4,
     "metadata": {},
     "output_type": "execute_result"
    }
   ],
   "source": [
    "# build the datapath\n",
    "# all the imaging data goes here.\n",
    "data_root_path = Path(os.path.expanduser(\"~\")) / \"Projects/Imaging/data\"\n",
    "\n",
    "# linearly unmixed \".czi\" files are here\n",
    "data_path = data_root_path / \"raw\"\n",
    "im_type = \".czi\"\n",
    "\n",
    "# depricate this\n",
    "# list_img_files = lambda img_folder,f_type: [os.path.join(img_folder,f_name) for f_name in os.listdir(img_folder) if f_name.endswith(f_type)]\n",
    "img_file_list = list_image_files(data_path,im_type)\n",
    "\n",
    "test_img_name = img_file_list[test_img_n]\n",
    "test_img_name"
   ]
  },
  {
   "cell_type": "code",
   "execution_count": 5,
   "metadata": {},
   "outputs": [
    {
     "name": "stderr",
     "output_type": "stream",
     "text": [
      "/opt/anaconda3/envs/napariNEW/lib/python3.9/site-packages/ome_types/_convenience.py:106: FutureWarning: The default XML parser will be changing from 'xmlschema' to 'lxml' in version 0.4.0.  To silence this warning, please provide the `parser` argument, specifying either 'lxml' (to opt into the new behavior), or'xmlschema' (to retain the old behavior).\n",
      "  d = to_dict(os.fspath(xml), parser=parser, validate=validate)\n"
     ]
    }
   ],
   "source": [
    "img_data,meta_dict = read_czi_image(test_img_name)\n",
    "\n",
    "# get some top-level info about the RAW data\n",
    "channel_names = meta_dict['name']\n",
    "img = meta_dict['metadata']['aicsimage']\n",
    "scale = meta_dict['scale']\n",
    "channel_axis = meta_dict['channel_axis']\n"
   ]
  },
  {
   "attachments": {},
   "cell_type": "markdown",
   "metadata": {},
   "source": [
    "## CHOOZE Z-SLICE\n",
    "\n",
    "We need to chooze which Z-slice to analyze for subsequent organelle segmentation.  _A priori_ we expect that the other organelles are ***NOT*** _inside_ of the nucleus, and we want to chooze a Z with minimal overlap between the nucleus and other organelles.  For now we will also assume that a majority of the signals are attributable to a single well marked cell.\n",
    "\n",
    "\n",
    "In the future we might develop an optimization procedure to resample along an arbitrary plane such that the total florescence signal is maximized and the overlap on nuclei with other organelles.   We may also want to limit ourselves to a single neuron / cellmask.\n",
    "\n",
    "Maria Clara's description of how she choose Z-slices:  \"I do choose the slice which it contains all the organelle (Nuclei and Golgi are the most difficult one since show high polarity) and that it would contain the highest density of them (you can see trough the slices that some organelle show high density in specific planes)\"\n"
   ]
  },
  {
   "cell_type": "code",
   "execution_count": 6,
   "metadata": {},
   "outputs": [],
   "source": [
    "# get nuclei and normalize...\n",
    "# median filter in 2D / convert to float 0-1.   get rid of the \"residual\"\n",
    "\n",
    "nuclei = select_channel_from_raw(img_data, 0)\n",
    "\n",
    "nuclei = min_max_intensity_normalization(nuclei)\n",
    "\n",
    "med_filter_size = 4   \n",
    "# structure_img_median_3D = ndi.median_filter(struct_img,    size=med_filter_size  )\n",
    "nuclei = median_filter_slice_by_slice(  nuclei,\n",
    "                                                                size=med_filter_size  )\n",
    "\n",
    "gaussian_smoothing_sigma = 1.34\n",
    "nuclei = image_smoothing_gaussian_slice_by_slice(   nuclei, sigma=gaussian_smoothing_sigma )\n",
    "threshold_value_log = threshold_li_log(nuclei)\n",
    "\n",
    "thresh_factor = 0.9 #from cellProfiler\n",
    "thresh_min = .1\n",
    "thresh_max = 1.\n",
    "threshold = min( max(threshold_value_log*thresh_factor, thresh_min), thresh_max)\n",
    "\n",
    "struct_obj = nuclei > threshold\n",
    "\n"
   ]
  },
  {
   "cell_type": "code",
   "execution_count": null,
   "metadata": {},
   "outputs": [],
   "source": [
    "\n",
    "###################\n",
    "# mask everything and find most intense flourescence NOT in the nuclei\n",
    "ch_to_agg = ( LYSO_CH ,\n",
    "                        MITO_CH ,\n",
    "                        GOLGI_CH ,\n",
    "                        PEROX_CH ,\n",
    "                        ER_CH ,\n",
    "                        LD_CH )\n",
    "\n",
    "total_florescence = img_data[ch_to_agg,].astype( np.double ).sum(axis=0)\n",
    "print(total_florescence.shape)\n",
    "total_ = total_florescence\n",
    "total_[struct_obj] =0 \n",
    "optimal_Z = total_.sum(axis=(1,2)).argmax()\n"
   ]
  },
  {
   "attachments": {},
   "cell_type": "markdown",
   "metadata": {},
   "source": [
    "Now make some functions to handle the procedure.  Note that we have \"name mangled\" the functions below by prepending the underscore '_' in order to test the local (mangled) version side-by-side with the library version which has been copied to the `infer_subc` library."
   ]
  },
  {
   "cell_type": "code",
   "execution_count": 43,
   "metadata": {},
   "outputs": [],
   "source": [
    "\n",
    "# this is redundant with  weighted_aggregate defined in cellmask.py / nbs\n",
    "def _aggregate_signal_channels(img_in:np.ndarray, chs:Union[List, Tuple], ws:Union[List, Tuple, Any]= None) -> np.ndarray:\n",
    "    \"\"\" \n",
    "    return a weighted sum of the image across channels\n",
    "\n",
    "    img_in:  \n",
    "        np.ndarray  [ch,z,x,y]\n",
    "    chs: \n",
    "        list/tuple of channels to aggregate\n",
    "    ws: \n",
    "        list/tuple/ of weights for aggregation\n",
    "    \"\"\"\n",
    "\n",
    "    n_chan = len(chs)\n",
    "    if n_chan <= 1:\n",
    "        return img_in[chs]\n",
    "\n",
    "    if ws is None:\n",
    "        ws = n_chan*[1.]\n",
    "    img_out = np.zeros_like(img_in[0]).astype(np.double)\n",
    "    for w,ch in zip(ws,chs):\n",
    "        img_out += w*img_in[ch]\n",
    "    return img_out\n",
    "    #return img_in[ch_to_agg,].astype( np.double ).sum(axis=0)\n",
    "\n",
    "\n",
    "def _choose_agg_signal_zmax(img_in,chs,ws=None,mask=None):\n",
    "    \"\"\" \n",
    "    return z the maximum signal for the aggregate signal\n",
    "\n",
    "    img_in:  np.ndarray  [ch,z,x,y]\n",
    "    chs: list of channels to aggregate\n",
    "    ws: list of weights for aggregation\n",
    "    mask: mask for img_in\n",
    "\n",
    "    returns z with maximum signal\n",
    "    \"\"\"\n",
    "    total_florescence_ = aggregate_signal_channels(img_data, chs)\n",
    "    if mask is not None:\n",
    "        total_florescence_[mask] = 0.\n",
    "    return total_florescence_.sum(axis=(1,2)).argmax()\n",
    "\n",
    "\n",
    "optimal_Z = _choose_agg_signal_zmax(img_data,ch_to_agg)\n",
    "\n"
   ]
  },
  {
   "cell_type": "code",
   "execution_count": 44,
   "metadata": {},
   "outputs": [],
   "source": [
    "\n",
    "\n",
    "def _select_channel_from_raw(img_in:np.ndarray, ch:Union[int, Tuple[int]]) -> np.ndarray:\n",
    "    \"\"\"\" \n",
    "    Parameters\n",
    "    ------------\n",
    "    img_in:\n",
    "\n",
    "    ch :\n",
    "        channel to extract.\n",
    "\n",
    "    Returns\n",
    "    -------------\n",
    "        ndarray\n",
    "    \"\"\"\n",
    "    return img_in[ch]\n",
    "\n",
    "\n",
    "def _select_z_from_raw(img_in: np.ndarray, z_slice: Union[int, Tuple[int]]) -> np.ndarray:\n",
    "    \"\"\"\n",
    "    Procedure to infer _best_ Zslice from linearly unmixed input with fixed parameters\n",
    "    \"\"\"\n",
    "    if isinstance(z_slice, int):\n",
    "        z_slice = [z_slice]\n",
    "    else:\n",
    "        z_slice = list(z_slice)\n",
    "\n",
    "    return img_in[:, z_slice, :, :]"
   ]
  },
  {
   "cell_type": "code",
   "execution_count": 45,
   "metadata": {},
   "outputs": [],
   "source": [
    "    \n",
    "def _apply_log_li_threshold(img_in, thresh_factor=1.0, thresh_min=None, thresh_max=None):\n",
    "    \"\"\"return a binary mask after applying a log_li threshold\n",
    "    \n",
    "    Parameters\n",
    "    ------------\n",
    "    img_in: \n",
    "        input image\n",
    "    thresh_factor:  \n",
    "        scaling value for threshold\n",
    "    thresh_min:   \n",
    "        None (default) or min\n",
    "    thresh_max:  \n",
    "        None (default) or max\n",
    "\n",
    "    Returns\n",
    "    -------------\n",
    "        img_in > threshold boolean ndarray\n",
    "    \"\"\"\n",
    "    #struct_obj = struct_img > filters.threshold_li(struct_img)\n",
    "    threshold_value_log = threshold_li_log(img_in)\n",
    "    threshold = threshold_value_log*thresh_factor\n",
    "\n",
    "    if thresh_min is not None:\n",
    "        threshold = max(threshold, thresh_min)\n",
    "    if thresh_max is not None:\n",
    "        threshold = min(threshold, thresh_max)\n",
    "    return img_in > threshold\n",
    "\n"
   ]
  },
  {
   "cell_type": "code",
   "execution_count": 46,
   "metadata": {},
   "outputs": [],
   "source": [
    "\n",
    "def _find_optimal_Z(raw_img:np.ndarray, nuc_ch:int, ch_to_agg:Tuple[int]) -> int:\n",
    "    \"\"\"\n",
    "    Procedure to infer _best_ Zslice  from linearly unmixed input.\n",
    "\n",
    "    Parameters\n",
    "    ------------\n",
    "    raw_img: np.ndarray\n",
    "        a ch,z,x,y - image containing florescent signal\n",
    "\n",
    "    nuclei_ch: int\n",
    "        holds the needed parameters\n",
    "\n",
    "    nuclei_ch: int\n",
    "        holds the needed parameters\n",
    "\n",
    "    Returns\n",
    "    -------------\n",
    "    opt_z:\n",
    "        the \"0ptimal\" z-slice which has the most signal intensity for downstream 2D segmentation    \n",
    "    \"\"\"\n",
    "\n",
    "    # median filter in 2D / convert to float 0-1.   get rid of the \"residual\"\n",
    "    struct_img = _select_channel_from_raw(raw_img, nuc_ch)\n",
    "\n",
    "    struct_img = min_max_intensity_normalization(struct_img)\n",
    "    med_filter_size = 4   \n",
    "    # structure_img_median_3D = ndi.median_filter(struct_img,    size=med_filter_size  )\n",
    "    nuclei = median_filter_slice_by_slice( struct_img,\n",
    "                                                                    size=med_filter_size  )\n",
    "\n",
    "    gaussian_smoothing_sigma = 1.34\n",
    "    nuclei = image_smoothing_gaussian_slice_by_slice(  nuclei,\n",
    "                                                                                                sigma=gaussian_smoothing_sigma\n",
    "                                                                                                )\n",
    "    thresh_factor = 0.9 #from cellProfiler\n",
    "    thresh_min = .1\n",
    "    thresh_max = 1.\n",
    "    struct_obj = _apply_log_li_threshold(nuclei, thresh_factor=thresh_factor, thresh_min=thresh_min, thresh_max=thresh_max)\n",
    "    optimal_Z = _choose_agg_signal_zmax(raw_img,ch_to_agg, mask=struct_obj)\n",
    "\n",
    "    return optimal_Z\n"
   ]
  },
  {
   "cell_type": "code",
   "execution_count": 47,
   "metadata": {},
   "outputs": [],
   "source": [
    "def _fixed_find_optimal_Z(img_data):\n",
    "    \"\"\"\n",
    "    Procedure to infer _best_ Zslice  from linearly unmixed input with fixed parameters\n",
    "    \"\"\"\n",
    "    nuc_ch = NUC_CH\n",
    "    ch_to_agg = ( LYSO_CH ,\n",
    "                            MITO_CH ,\n",
    "                            GOLGI_CH ,\n",
    "                            PEROX_CH ,\n",
    "                            ER_CH ,\n",
    "                            LD_CH )\n",
    "    return _find_optimal_Z(img_data, nuc_ch, ch_to_agg) "
   ]
  },
  {
   "cell_type": "code",
   "execution_count": 48,
   "metadata": {},
   "outputs": [],
   "source": [
    "\n",
    "def _get_optimal_Z_image(img_data: np.ndarray, nuc_ch: int, ch_to_agg: Tuple[int]) -> np.ndarray:\n",
    "    \"\"\"\n",
    "    Procedure to infer _best_ Zslice from linearly unmixed input\n",
    "\n",
    "    Parameters\n",
    "    ------------\n",
    "    in_img: np.ndarray\n",
    "        a 3d image containing all the channels\n",
    "\n",
    "    nuc_ch: int\n",
    "        channel with nuclei signal\n",
    "\n",
    "    ch_to_agg: Tuple[int]\n",
    "        tuple of channels to aggregate for selecting Z\n",
    "\n",
    "    Returns\n",
    "    -------------\n",
    "    np.ndarray\n",
    "        image array with single selected Z-slice   (Channels, 1, X, Y)\n",
    "\n",
    "    \"\"\"\n",
    "    optimal_Z = _find_optimal_Z(img_data, nuc_ch, ch_to_agg)\n",
    "    return _select_z_from_raw(img_data, optimal_Z)\n",
    "\n",
    "\n",
    "def _fixed_get_optimal_Z_image(img_data: np.ndarray) -> np.ndarray:\n",
    "    \"\"\"\n",
    "    Procedure to infer _best_ Zslice from linearly unmixed input with fixed parameters\n",
    "    \"\"\"\n",
    "    optimal_Z = _fixed_find_optimal_Z(img_data)\n",
    "    return _select_z_from_raw(img_data, optimal_Z)"
   ]
  },
  {
   "cell_type": "code",
   "execution_count": 49,
   "metadata": {},
   "outputs": [],
   "source": [
    "optimal_Z = _fixed_find_optimal_Z(img_data) \n"
   ]
  },
  {
   "cell_type": "code",
   "execution_count": 50,
   "metadata": {},
   "outputs": [
    {
     "name": "stdout",
     "output_type": "stream",
     "text": [
      "choosing _optimal_ z-slice::: 8\n",
      "choosing _optimal_ z-slice::: 8\n"
     ]
    }
   ],
   "source": [
    "# test the module functions\n",
    "from infer_subc.organelles import fixed_find_optimal_Z, fixed_get_optimal_Z_image\n",
    "\n",
    "optimal_Z = fixed_find_optimal_Z(img_data) \n",
    "single_Z_img = fixed_get_optimal_Z_image(img_data) \n"
   ]
  },
  {
   "attachments": {},
   "cell_type": "markdown",
   "metadata": {},
   "source": [
    "## helper function to add function entries\n",
    "### interface to `organelle-segmenter-plugin` repo \n",
    "These helpers encode the workflow particulars for creating widgets and defining/executing workflows.    This function will be added to `infer_subc.organelles_config.helper.py` \n",
    "\n",
    "The gist of things is we need to add all functions to \"all_functions.json\" so workflows can access them.  i.e. via the `organelle-segmenter-plugin`"
   ]
  },
  {
   "cell_type": "code",
   "execution_count": 51,
   "metadata": {},
   "outputs": [],
   "source": [
    "from infer_subc.utils.directories import Directories\n",
    "\n",
    "def _add_function_spec_to_widget_json( function_name, function_dict, json_file_name = \"all_functions.json\", overwrite=False):\n",
    "    \"\"\" helper function to compose / update list of functions for Workflows\n",
    "    \"\"\"\n",
    "    # read all_functions.json into dict\n",
    "    path = Directories.get_structure_config_dir() / json_file_name\n",
    "    try:\n",
    "        with open(path) as file:\n",
    "            obj = json.load(file)\n",
    "    except: #Exception as ex:\n",
    "        print(f\"file {path} not found\")\n",
    "        return \n",
    "        \n",
    "    # add function entry\n",
    "    if function_name in obj.keys():\n",
    "        print(f\"function {function_name} is already in {json_file_name}\")\n",
    "        if not overwrite:\n",
    "            return(0)\n",
    "    \n",
    "    obj[function_name] = function_dict    # write updated all_functions.json\n",
    "        \n",
    "    # re-write file\n",
    "    with open(path, \"w\") as file:\n",
    "        json.dump(obj, file, indent=4, sort_keys=False)\n",
    "        \n",
    "    return(1)\n"
   ]
  },
  {
   "cell_type": "code",
   "execution_count": 52,
   "metadata": {},
   "outputs": [
    {
     "data": {
      "text/plain": [
       "{'name': 'find the optimal Z slice (fixed parameters)',\n",
       " 'python::module': 'infer_subc.organelles',\n",
       " 'python::function': 'fixed_find_optimal_Z',\n",
       " 'parameters': None}"
      ]
     },
     "execution_count": 52,
     "metadata": {},
     "output_type": "execute_result"
    }
   ],
   "source": [
    "fixed_find_optimal_Z_dict =  {\n",
    "        \"name\": \"find the optimal Z slice (fixed parameters)\",\n",
    "        \"python::module\": \"infer_subc.organelles\",\n",
    "        \"python::function\": \"fixed_find_optimal_Z\",\n",
    "        \"parameters\": None\n",
    "        }\n",
    "\n",
    "fixed_find_optimal_Z_dict"
   ]
  },
  {
   "cell_type": "code",
   "execution_count": 53,
   "metadata": {},
   "outputs": [
    {
     "data": {
      "text/plain": [
       "{'name': 'extract optimal Z slice (fixed parameters)',\n",
       " 'python::module': 'infer_subc.organelles',\n",
       " 'python::function': 'fixed_get_optimal_Z_image',\n",
       " 'parameters': None}"
      ]
     },
     "execution_count": 53,
     "metadata": {},
     "output_type": "execute_result"
    }
   ],
   "source": [
    "fixed_get_optimal_Z_img_dict =  {\n",
    "        \"name\": \"extract optimal Z slice (fixed parameters)\",\n",
    "        \"python::module\": \"infer_subc.organelles\",\n",
    "        \"python::function\": \"fixed_get_optimal_Z_image\",\n",
    "        \"parameters\": None\n",
    "        }\n",
    "\n",
    "fixed_get_optimal_Z_img_dict"
   ]
  },
  {
   "cell_type": "code",
   "execution_count": 54,
   "metadata": {},
   "outputs": [
    {
     "name": "stdout",
     "output_type": "stream",
     "text": [
      "function fixed_find_optimal_Z is already in all_functions.json\n",
      "overwriting  fixed_find_optimal_Z\n",
      "function fixed_get_optimal_Z_img is already in all_functions.json\n",
      "overwriting  fixed_get_optimal_Z_img\n"
     ]
    },
    {
     "data": {
      "text/plain": [
       "1"
      ]
     },
     "execution_count": 54,
     "metadata": {},
     "output_type": "execute_result"
    }
   ],
   "source": [
    "from infer_subc.organelles_config.helper import add_function_spec_to_widget_json\n",
    "\n",
    "add_function_spec_to_widget_json(\"fixed_find_optimal_Z\",fixed_find_optimal_Z_dict, overwrite=True)\n",
    "add_function_spec_to_widget_json(\"fixed_get_optimal_Z_img\",fixed_get_optimal_Z_img_dict, overwrite=True)"
   ]
  },
  {
   "cell_type": "code",
   "execution_count": 55,
   "metadata": {},
   "outputs": [
    {
     "name": "stdout",
     "output_type": "stream",
     "text": [
      "function select_channel_from_raw is already in all_functions.json\n"
     ]
    },
    {
     "data": {
      "text/plain": [
       "0"
      ]
     },
     "execution_count": 55,
     "metadata": {},
     "output_type": "execute_result"
    }
   ],
   "source": [
    "from infer_subc.constants import ALL_CHANNELS\n",
    "_select_channel_from_raw_dict =  {\n",
    "        \"name\": \"select a channel \",\n",
    "        \"python::module\": \"infer_subc.core.img\",\n",
    "        \"python::function\": \"select_channel_from_raw\",\n",
    "        \"parameters\": {\n",
    "            \"chan\": {\n",
    "                \"data_type\": \"int\",\n",
    "                \"options\": ALL_CHANNELS,\n",
    "                \"widget_type\": \"drop-down\"\n",
    "            }\n",
    "        }\n",
    "}\n",
    "\n",
    "add_function_spec_to_widget_json(\"select_channel_from_raw\",_select_channel_from_raw_dict )"
   ]
  },
  {
   "cell_type": "code",
   "execution_count": 56,
   "metadata": {},
   "outputs": [],
   "source": [
    "ch_to_agg = (1,2,3,4,5,6)\n",
    "nuc_ch = 0"
   ]
  },
  {
   "cell_type": "code",
   "execution_count": 57,
   "metadata": {},
   "outputs": [],
   "source": [
    "optimal_Z = _find_optimal_Z(img_data, nuc_ch, ch_to_agg) \n"
   ]
  },
  {
   "attachments": {},
   "cell_type": "markdown",
   "metadata": {},
   "source": [
    "-------------\n",
    "## SUMMARY\n",
    "\n",
    "The above demonstrates choosing an \"optimal\" Z-slice from our 3D multichannel input. \n",
    "\n",
    "### NEXT: INFER SOMA\n",
    "\n",
    "proceed to [01_infer_cellmask_fromaggr.ipynb](./01_infer_cellmask_fromaggr.ipynb)\n"
   ]
  },
  {
   "cell_type": "code",
   "execution_count": null,
   "metadata": {},
   "outputs": [],
   "source": []
  }
 ],
 "metadata": {
  "kernelspec": {
   "display_name": "Python 3 (ipykernel)",
   "language": "python",
   "name": "python3"
  },
  "language_info": {
   "codemirror_mode": {
    "name": "ipython",
    "version": 3
   },
   "file_extension": ".py",
   "mimetype": "text/x-python",
   "name": "python",
   "nbconvert_exporter": "python",
   "pygments_lexer": "ipython3",
   "version": "3.9.16"
  },
  "vscode": {
   "interpreter": {
    "hash": "d6148ef1fb015fb20f0b6da2ea61c87c6b848bdf3dabb03087e5d5cd0c4607e9"
   }
  }
 },
 "nbformat": 4,
 "nbformat_minor": 2
}
