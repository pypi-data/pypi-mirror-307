{
 "cells": [
  {
   "cell_type": "code",
   "execution_count": null,
   "metadata": {},
   "outputs": [],
   "source": []
  },
  {
   "cell_type": "markdown",
   "metadata": {},
   "source": [
    "# GRAVEYARD"
   ]
  },
  {
   "cell_type": "markdown",
   "metadata": {},
   "source": [
    "z_to_xy_ratio = bioim_image.meta[\"scale\"][0]/bioim_image.meta[\"scale\"][1]\n",
    "\n",
    "gaussian_smoothing_sigma = (1.34,  1.34*z_to_xy_ratio, 1.34*z_to_xy_ratio)\n",
    "gaussian_smoothing_truncate_range=4.0\n",
    "\n",
    "gaussian_smoothing_sigma"
   ]
  },
  {
   "cell_type": "code",
   "execution_count": null,
   "metadata": {},
   "outputs": [],
   "source": [
    "\n",
    "\n",
    "\n",
    "total_florescence = img_data[1:-1].astype( np.double ).sum(axis=0)\n",
    "print(total_florescence.shape)\n",
    "max_proj = ndi.maximum_filter(total_florescence,size = (3,1,1))\n"
   ]
  },
  {
   "cell_type": "code",
   "execution_count": null,
   "metadata": {},
   "outputs": [],
   "source": []
  },
  {
   "cell_type": "code",
   "execution_count": null,
   "metadata": {},
   "outputs": [],
   "source": []
  },
  {
   "cell_type": "code",
   "execution_count": null,
   "metadata": {},
   "outputs": [],
   "source": [
    "from infer_subc.workflow import InferSubC2dWorkflowEngine"
   ]
  },
  {
   "cell_type": "code",
   "execution_count": null,
   "metadata": {},
   "outputs": [],
   "source": [
    "from aicssegmentation.workflow import (\n",
    "                                                SegmenterFunction, \n",
    "                                                FunctionParameter, \n",
    "                                                WidgetType, \n",
    "                                                WorkflowStep, \n",
    "                                                WorkflowStepCategory,\n",
    "                                                Workflow,\n",
    "                                                BatchWorkflow, \n",
    "                                                WorkflowDefinition,\n",
    "                                                PrebuiltWorkflowDefinition,\n",
    "                                                WorkflowEngine\n",
    "                                                )\n",
    "from aicssegmentation.workflow.workflow_config import WorkflowConfig\n",
    "#from .segmenter_function import SegmenterFunction, FunctionParameter, WidgetType  # noqa F401\n",
    "#from .workflow_step import WorkflowStep, WorkflowStepCategory  # noqa F401\n",
    "#from .workflow import Workflow  # noqa F401\n",
    "#from .batch_workflow import BatchWorkflow  # noqa F401\n",
    "#from .workflow_definition import WorkflowDefinition, PrebuiltWorkflowDefinition  # noqa F401\n",
    "#from .workflow_engine import  WorkflowEngine  # noqa F401\n",
    "\n",
    "import infer_subc"
   ]
  },
  {
   "cell_type": "markdown",
   "metadata": {},
   "source": [
    "Try to sub-class WorkflowConfig, Directories, etc. to get configurations from infer_subc.organelles\n",
    "\n",
    "\n",
    "PreBuiltWorkflowDefinition also reference Directories, but we don't want to use it anyway..."
   ]
  },
  {
   "cell_type": "code",
   "execution_count": null,
   "metadata": {},
   "outputs": [],
   "source": [
    "import json\n",
    "\n",
    "class InferSubC2dDirectories:\n",
    "    \"\"\"\n",
    "    Provides safe paths to common infer-subc module directories\n",
    "    \"\"\"\n",
    "\n",
    "    _module_base_dir = Path(infer_subc.__file__).parent\n",
    "\n",
    "    @classmethod\n",
    "    def get_assets_dir(cls) -> Path:\n",
    "        \"\"\"\n",
    "        Path to the assets directory\n",
    "        \"\"\"\n",
    "        return cls._module_base_dir / \"assets\"\n",
    "\n",
    "    @classmethod\n",
    "    def get_structure_config_dir(cls) -> Path:\n",
    "        \"\"\"\n",
    "        Path to the structure json config directory\n",
    "        \"\"\"\n",
    "        return cls._module_base_dir / \"organelles_config\"\n",
    "\n",
    "\n",
    "\n",
    "class InferSubC2dWorkflowConfig(WorkflowConfig):\n",
    "    \"\"\"\n",
    "    infer-subc Provides access to structure workflow configuration\n",
    "    \"\"\"\n",
    "\n",
    "    def __init__(self):\n",
    "        self._all_functions = None\n",
    "        self._available_workflow_names = None\n",
    "\n",
    "    def get_available_workflows(self) -> List[str]:\n",
    "        \"\"\"\n",
    "        Get the list of all workflows available through configuration\n",
    "        \"\"\"\n",
    "        if self._available_workflow_names is None:\n",
    "            json_list = sorted(InferSubC2dDirectories.get_structure_config_dir().glob(\"conf_*.json\"))\n",
    "            self._available_workflow_names = [p.stem[5:] for p in json_list]\n",
    "\n",
    "        return self._available_workflow_names\n",
    "\n",
    "    def get_all_functions(self) -> List[SegmenterFunction]:\n",
    "        \"\"\"\n",
    "        Get the list of all available Functions from configuration\n",
    "        \"\"\"\n",
    "        if self._all_functions is None:\n",
    "            path = InferSubC2dDirectories.get_structure_config_dir() / \"all_functions.json\"\n",
    "\n",
    "            try:\n",
    "                with open(path) as file:\n",
    "                    obj = json.load(file)\n",
    "                    self._all_functions = self._all_functions_decoder(obj)\n",
    "            except Exception as ex:\n",
    "                raise ConfigurationException(f\"Error reading json configuration from {path}\") from ex\n",
    "\n",
    "        return self._all_functions\n",
    "\n",
    "    def get_workflow_definition(self, workflow_name: str) -> PrebuiltWorkflowDefinition:\n",
    "        \"\"\"\n",
    "        Get a WorkflowDefinition for the given workflow from the corresponding\n",
    "        prebuilt json structure config\n",
    "        \"\"\"\n",
    "        if workflow_name is None or len(workflow_name.strip()) == 0:\n",
    "            raise ValueError(\"workflow_name cannot be empty\")\n",
    "\n",
    "        if workflow_name not in self.get_available_workflows():\n",
    "            raise ValueError(f\"No workflow configuration available for {workflow_name}\")\n",
    "\n",
    "        path = InferSubC2dDirectories.get_structure_config_dir() / f\"conf_{workflow_name}.json\"\n",
    "\n",
    "        return self.get_workflow_definition_from_config_file(path, workflow_name, prebuilt=True)\n",
    "\n",
    "\n",
    "class InferSubC2dWorkflowEngine(WorkflowEngine):\n",
    "    \"\"\"\n",
    "    infer-subc workflow engine\n",
    "    Use this class to access and execute aicssegmentation structure workflows\n",
    "    \"\"\"\n",
    "\n",
    "    def __init__(self, workflow_config: WorkflowConfig = None):\n",
    "        self._workflow_config = workflow_config or InferSubC2dWorkflowConfig()\n",
    "        self._workflow_definitions = self._load_workflow_definitions()\n"
   ]
  }
 ],
 "metadata": {
  "kernelspec": {
   "display_name": "Python 3.9.13 ('napariNEW')",
   "language": "python",
   "name": "python3"
  },
  "language_info": {
   "name": "python",
   "version": "3.9.13 | packaged by conda-forge | (main, May 27 2022, 17:00:52) \n[Clang 13.0.1 ]"
  },
  "orig_nbformat": 4,
  "vscode": {
   "interpreter": {
    "hash": "d6148ef1fb015fb20f0b6da2ea61c87c6b848bdf3dabb03087e5d5cd0c4607e9"
   }
  }
 },
 "nbformat": 4,
 "nbformat_minor": 2
}
