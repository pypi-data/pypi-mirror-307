{
 "cells": [
  {
   "attachments": {},
   "cell_type": "markdown",
   "metadata": {},
   "source": [
    "# Infer ***lysosome*** -  4️⃣\n",
    "\n",
    "--------------\n",
    "\n",
    "## OBJECTIVE: \n",
    "### ✅ Infer sub-cellular component ***lyso***  in order to understand interactome \n",
    "\n",
    "Infer the shape of the lysosomes in order to measure their extent, shape, position, and size.\n",
    "\n",
    "Dependencies:\n",
    "The ***lysosome***  inference rely on the ***cytoplasm*** mask.\n"
   ]
  },
  {
   "attachments": {},
   "cell_type": "markdown",
   "metadata": {},
   "source": [
    "## preamble\n",
    "\n",
    "1. imports\n",
    "2. setup\n",
    "3. infer nuclei mask\n",
    "4. infer cellmask mask\n",
    "5. infer cytoplasm mask\n",
    "6. infer lysosomes\n",
    "    * pre-processing\n",
    "    * core processing\n",
    "    * post processing"
   ]
  },
  {
   "cell_type": "markdown",
   "metadata": {},
   "source": [
    "\n",
    "## IMPORTS"
   ]
  },
  {
   "cell_type": "code",
   "execution_count": 2,
   "metadata": {},
   "outputs": [],
   "source": [
    "# top level imports\n",
    "from pathlib import Path\n",
    "import os, sys\n",
    "from typing import Optional\n",
    "\n",
    "import numpy as np\n",
    "\n",
    "from aicssegmentation.core.seg_dot import (dot_2d_slice_by_slice_wrapper,\n",
    "                                           dot_3d_wrapper)\n",
    "from aicssegmentation.core.pre_processing_utils import (intensity_normalization, image_smoothing_gaussian_slice_by_slice)\n",
    "from aicssegmentation.core.utils import hole_filling\n",
    "from aicssegmentation.core.vessel import (filament_2d_wrapper,\n",
    "                                          filament_3d_wrapper)\n",
    "from skimage.measure import label\n",
    "\n",
    "# # package for io \n",
    "from aicsimageio import AICSImage\n",
    "\n",
    "import napari\n",
    "\n",
    "### import local python functions in ../infer_subc\n",
    "sys.path.append(os.path.abspath((os.path.join(os.getcwd(), '..'))))\n",
    "\n",
    "from infer_subc.core.file_io import (read_czi_image,\n",
    "                                                                    list_image_files)\n",
    "from infer_subc.core.img import *\n",
    "\n",
    "from infer_subc.constants import (TEST_IMG_N,\n",
    "                                                                    NUC_CH ,\n",
    "                                                                    LYSO_CH ,\n",
    "                                                                    MITO_CH ,\n",
    "                                                                    GOLGI_CH ,\n",
    "                                                                    PEROX_CH ,\n",
    "                                                                    ER_CH ,\n",
    "                                                                    LD_CH ,\n",
    "                                                                    RESIDUAL_CH )          \n",
    "\n",
    "from infer_subc.organelles import fixed_infer_cellmask_fromaggr, fixed_infer_nuclei, infer_cytoplasm, find_optimal_Z\n",
    "\n",
    "%load_ext autoreload\n",
    "%autoreload 2\n",
    "\n",
    "# additional imports for nuc/cellmask/cytoplasm\n",
    "from collections import defaultdict\n",
    "from scipy import ndimage as ndi\n",
    "from aicssegmentation.core.MO_threshold import MO\n",
    "from skimage import filters\n",
    "from skimage.segmentation import watershed\n",
    "from skimage.morphology import (binary_erosion,\n",
    "                                remove_small_holes)\n",
    "from skimage.measure import label"
   ]
  },
  {
   "attachments": {},
   "cell_type": "markdown",
   "metadata": {},
   "source": [
    "## SETUP\n",
    "CUSTOMIZE WITH: \n",
    "1. updated path to data\n",
    "2. updated folder name for \"raw\" data\n",
    "\n",
    "> NOTE: we are operating on a single \"test\" image in this notebook.  The batch-processing of all the images will be happen at the end of the notebook after we have developed/confirmed the setmentation procedures and parameter settings."
   ]
  },
  {
   "cell_type": "code",
   "execution_count": 3,
   "metadata": {},
   "outputs": [],
   "source": [
    "# this will be the example image for testing the pipeline below\n",
    "test_img_n = TEST_IMG_N\n",
    "\n",
    "# build the datapath\n",
    "# all the imaging data goes here.\n",
    "data_root_path = Path(os.path.expanduser(\"~\")) / \"Documents/Python Scripts/infer-subc\"\n",
    "\n",
    "# linearly unmixed \".czi\" files are here\n",
    "data_path = data_root_path / \"raw\"\n",
    "im_type = \".czi\"\n",
    "\n",
    "# get the list of all files\n",
    "img_file_list = list_image_files(data_path,im_type)\n",
    "test_img_name = img_file_list[test_img_n]\n"
   ]
  },
  {
   "cell_type": "code",
   "execution_count": 4,
   "metadata": {},
   "outputs": [
    {
     "name": "stderr",
     "output_type": "stream",
     "text": [
      "c:\\Users\\Shannon\\Anaconda3\\envs\\infer-subc\\lib\\site-packages\\ome_types\\_convenience.py:105: FutureWarning: The default XML parser will be changing from 'xmlschema' to 'lxml' in version 0.4.0.  To silence this warning, please provide the `parser` argument, specifying either 'lxml' (to opt into the new behavior), or'xmlschema' (to retain the old behavior).\n",
      "  d = to_dict(os.fspath(xml), parser=parser, validate=validate)\n"
     ]
    }
   ],
   "source": [
    "img_data,meta_dict = read_czi_image(test_img_name)\n",
    "\n",
    "# get some top-level info about the RAW data\n",
    "channel_names = meta_dict['name']\n",
    "img = meta_dict['metadata']['aicsimage']\n",
    "scale = meta_dict['scale']\n",
    "channel_axis = meta_dict['channel_axis']"
   ]
  },
  {
   "attachments": {},
   "cell_type": "markdown",
   "metadata": {},
   "source": [
    "## INFER NUCLEI MASK\n",
    "\n",
    "Using function defined in 01_infer_nuclei_3D.ipynb"
   ]
  },
  {
   "cell_type": "code",
   "execution_count": 5,
   "metadata": {},
   "outputs": [],
   "source": [
    "def _infer_nuclei_3D( in_img: np.ndarray,\n",
    "                       median_sz: int, \n",
    "                       gauss_sig: float,\n",
    "                       thresh_factor: float,\n",
    "                       thresh_min: float,\n",
    "                       thresh_max: float,\n",
    "                       max_hole_w: int,\n",
    "                       small_obj_w: int,\n",
    "                       sz_filter_method: str\n",
    "                     ) -> np.ndarray:\n",
    "    \"\"\"\n",
    "    Procedure to infer 3D nuclei segmentation from multichannel z-stack input.\n",
    "\n",
    "    Parameters\n",
    "    ------------\n",
    "    in_img: np.ndarray\n",
    "        a 3d image containing all the channels\n",
    "    soma_mask: Optional[np.ndarray] = None\n",
    "        mask\n",
    "    median_sz: int\n",
    "        width of median filter for signal\n",
    "    gauss_sig: float\n",
    "        sigma for gaussian smoothing of  signal\n",
    "    thresh_factor: float\n",
    "        adjustment factor for log Li threholding\n",
    "    thresh_min: float\n",
    "        abs min threhold for log Li threholding\n",
    "    thresh_max: float\n",
    "        abs max threhold for log Li threholding\n",
    "    max_hole_w: int\n",
    "        hole filling cutoff for nuclei post-processing\n",
    "    small_obj_w: int\n",
    "        minimum object size cutoff for nuclei post-processing\n",
    "    sz_filter_method: str\n",
    "        method for size filtering; either \"3D\" or \"slice_by_slice\"\n",
    "\n",
    "    Returns\n",
    "    -------------\n",
    "    nuclei_object\n",
    "        mask defined extent of NU\n",
    "    \n",
    "    \"\"\"\n",
    "    ###################\n",
    "    # INPUT\n",
    "    ################### \n",
    "    nuc_ch = NUC_CH\n",
    "    nuclei = select_channel_from_raw(in_img, nuc_ch)\n",
    "\n",
    "\n",
    "    ###################\n",
    "    # PRE_PROCESSING\n",
    "    ###################                \n",
    "    nuclei = min_max_intensity_normalization(nuclei)\n",
    "    nuclei = median_filter_slice_by_slice(nuclei,\n",
    "                                          size=median_sz)\n",
    "    nuclei = image_smoothing_gaussian_slice_by_slice(nuclei,\n",
    "                                                     sigma=gauss_sig )\n",
    "\n",
    "\n",
    "    ###################\n",
    "    # CORE_PROCESSING\n",
    "    ###################\n",
    "    nuclei_object = apply_log_li_threshold(nuclei, \n",
    "                                           thresh_factor=thresh_factor, \n",
    "                                           thresh_min=thresh_min, \n",
    "                                           thresh_max=thresh_max)\n",
    "\n",
    "\n",
    "    ###################\n",
    "    # POST_PROCESSING\n",
    "    ###################\n",
    "    nuclei_object = hole_filling(nuclei_object, \n",
    "                                 hole_min=0, \n",
    "                                 hole_max=max_hole_w**2, \n",
    "                                 fill_2d=True)\n",
    "\n",
    "    nuclei_object = size_filter(nuclei_object, \n",
    "                                min_size = small_obj_w**3, \n",
    "                                method = sz_filter_method,\n",
    "                                connectivity=1)\n",
    "\n",
    "\n",
    "    return nuclei_object\n",
    "\n",
    "\n",
    "def _fixed_infer_nuclei_3D(in_img: np.ndarray) -> np.ndarray:\n",
    "    \"\"\"\n",
    "    Procedure to infer cellmask from linearly unmixed input, with a *fixed* set of parameters for each step in the procedure.  i.e. \"hard coded\"\n",
    "\n",
    "    Parameters\n",
    "    ------------\n",
    "    in_img: np.ndarray\n",
    "        a 3d image containing all the channels\n",
    "    soma_mask: np.ndarray\n",
    "        mask\n",
    " \n",
    "    Returns\n",
    "    -------------\n",
    "    nuclei_object\n",
    "        mask defined extent of NU\n",
    "    \n",
    "    \"\"\"\n",
    "\n",
    "    nuc_ch = NUC_CH\n",
    "    median_sz = 4   \n",
    "    gauss_sig = 1.34\n",
    "    threshold_factor = 0.9\n",
    "    thresh_min = 0.1\n",
    "    thresh_max = 1.0\n",
    "    max_hole_w = 5\n",
    "    small_obj_w = 15\n",
    "    sz_filter_method = \"3D\"\n",
    "\n",
    "    return _infer_nuclei_3D( in_img,\n",
    "                             median_sz,\n",
    "                             gauss_sig,\n",
    "                             threshold_factor,\n",
    "                             thresh_min,\n",
    "                             thresh_max,\n",
    "                             max_hole_w,\n",
    "                             small_obj_w,\n",
    "                             sz_filter_method )\n",
    "\n",
    "\n",
    "_NU_object =  _fixed_infer_nuclei_3D(img_data) \n",
    "NU_labels = label(_NU_object)"
   ]
  },
  {
   "attachments": {},
   "cell_type": "markdown",
   "metadata": {},
   "source": [
    "## GET CELLMASK\n",
    "\n",
    "Using function defined in 02_infer_cellmask_fromaggr_3D.ipynb"
   ]
  },
  {
   "cell_type": "code",
   "execution_count": 6,
   "metadata": {},
   "outputs": [],
   "source": [
    "def _raw_soma_MCZ(img_in):\n",
    "    \"\"\" define cellmask image\n",
    "    \"\"\"\n",
    "    SOMA_W = (6.,1.,2.)\n",
    "    SOMA_CH = (LYSO_CH,ER_CH,GOLGI_CH)\n",
    "    img_out = np.zeros_like(img_in[0]).astype(np.double)\n",
    "    for w,ch in zip(SOMA_W,SOMA_CH):\n",
    "        img_out += w*img_in[ch]\n",
    "    return img_out\n",
    "\n",
    "\n",
    "def _non_linear_soma_transform_MCZ(in_img):\n",
    "    \"\"\" non-linear distortion to fill out cellmask\n",
    "    log + edge of smoothed composite\n",
    "    \"\"\"\n",
    "    # non-Linear processing\n",
    "    log_img, d = log_transform(in_img.copy()) \n",
    "    return intensity_normalization(log_img,scaling_param=[0])\n",
    "\n",
    "\n",
    "def _masked_object_thresh(\n",
    "    structure_img_smooth: np.ndarray, th_method: str, cutoff_size: int, th_adjust: float\n",
    ") -> np.ndarray:\n",
    "    \"\"\"\n",
    "    wrapper for applying Masked Object Thresholding with just two parameters via `MO` from `aicssegmentation`\n",
    "    Parameters\n",
    "    ------------\n",
    "    structure_img_smooth: np.ndarray\n",
    "        a 3d image\n",
    "    th_method: \n",
    "         which method to use for calculating global threshold. Options include:\n",
    "         \"triangle\" (or \"tri\"), \"median\" (or \"med\"), and \"ave_tri_med\" (or \"ave\").\n",
    "         \"ave\" refers the average of \"triangle\" threshold and \"mean\" threshold.\n",
    "    cutoff_size: \n",
    "        Masked Object threshold `size_min`\n",
    "    th_adjust: \n",
    "        Masked Object threshold `local_adjust`\n",
    "\n",
    "    Returns\n",
    "    -------------\n",
    "        np.ndimage \n",
    "\n",
    "    \"\"\"\n",
    "\n",
    "    struct_obj = MO(\n",
    "        structure_img_smooth,\n",
    "        global_thresh_method=th_method,\n",
    "        object_minArea=cutoff_size,\n",
    "        extra_criteria=True,\n",
    "        local_adjust=th_adjust,\n",
    "        return_object=False,\n",
    "        dilate=True,\n",
    "    )\n",
    "    return struct_obj\n",
    "\n",
    "\n",
    "def _masked_inverted_watershed(img_in, markers, mask):\n",
    "    \"\"\"wrapper for watershed on inverted image and masked\n",
    "\n",
    "    \"\"\"\n",
    "    labels_out = watershed(\n",
    "                1. - img_in,\n",
    "                markers=markers,\n",
    "                connectivity=3,\n",
    "                mask=mask,\n",
    "                )\n",
    "    return labels_out\n",
    "\n",
    "\n",
    "def _choose_max_label(raw_signal: np.ndarray, labels_in: np.ndarray):\n",
    "    \"\"\" keep only the label with the maximum raw signal\n",
    "\n",
    "    \"\"\"\n",
    "\n",
    "    all_labels = np.unique(labels_in)[1:]\n",
    "\n",
    "    total_signal = [raw_signal[labels_in == label].sum() for label in all_labels]\n",
    "    # combine NU and \"labels\" to make a SOMA\n",
    "    keep_label = all_labels[np.argmax(total_signal)]\n",
    "\n",
    "    labels_max = np.zeros_like(labels_in)\n",
    "    labels_max[labels_in==keep_label] = 1\n",
    "    return labels_max"
   ]
  },
  {
   "cell_type": "code",
   "execution_count": 7,
   "metadata": {},
   "outputs": [
    {
     "name": "stdout",
     "output_type": "stream",
     "text": [
      "intensity normalization: min-max normalization with NO absoluteintensity upper bound\n"
     ]
    }
   ],
   "source": [
    "def _infer_cellmask_fromaggr_3D(in_img: np.ndarray,\n",
    "    nuclei_labels: np.ndarray,\n",
    "    median_sz_soma: int,\n",
    "    gauss_sig_soma: float,\n",
    "    gauss_truc_rang: float,\n",
    "    mo_method: str,\n",
    "    mo_adjust: float,\n",
    "    mo_cutoff_size: int,\n",
    "    max_hole_w_soma: int,\n",
    "    small_obj_w_soma: int\n",
    ") -> np.ndarray:\n",
    "    \"\"\"\n",
    "    Procedure to infer cellmask from linearly unmixed input.\n",
    "\n",
    "    Parameters\n",
    "    ------------\n",
    "    in_img: \n",
    "        a 3d image containing all the channels\n",
    "    nuclei_labels:\n",
    "        a 3d mask of nuclei\n",
    "    median_sz_soma: \n",
    "        width of median filter for _soma_ signal\n",
    "    gauss_sig_soma: \n",
    "        sigma for gaussian smoothing of _soma_ signal\n",
    "    gauss_truc_rang:\n",
    "        cutoff value for gaussian\n",
    "    mo_method: \n",
    "         which method to use for calculating global threshold. Options include:\n",
    "         \"triangle\" (or \"tri\"), \"median\" (or \"med\"), and \"ave_tri_med\" (or \"ave\").\n",
    "         \"ave\" refers the average of \"triangle\" threshold and \"mean\" threshold.\n",
    "    mo_adjust: \n",
    "        Masked Object threshold `local_adjust`\n",
    "    mo_cutoff_size: \n",
    "        Masked Object threshold `size_min`\n",
    "    max_hole_w_soma: \n",
    "        hole filling cutoff for cellmask signal post-processing\n",
    "    small_obj_w_soma: \n",
    "        minimu object size cutoff for cellmask signal post-processing\n",
    "\n",
    "    Returns\n",
    "    -------------\n",
    "    soma_mask:\n",
    "        a logical/labels object defining boundaries of cellmask\n",
    "\n",
    "    \"\"\"\n",
    "\n",
    "    ###################\n",
    "    # EXTRACT\n",
    "    ###################\n",
    "    struct_img = _raw_soma_MCZ(in_img)\n",
    "\n",
    "\n",
    "    ###################\n",
    "    # PRE_PROCESSING\n",
    "    ###################                         \n",
    "    ################# part 1- cellmask\n",
    "    struct_img = min_max_intensity_normalization(struct_img)\n",
    "\n",
    "    # make a copy for post-post processing\n",
    "    scaled_signal = struct_img.copy()\n",
    "\n",
    "    # Linear-ish processing\n",
    "    struct_img = median_filter_slice_by_slice(struct_img, \n",
    "                                              size=median_sz_soma)\n",
    "\n",
    "    struct_img = ndi.gaussian_filter(struct_img,\n",
    "                                     sigma=gauss_sig_soma,\n",
    "                                     mode=\"nearest\",\n",
    "                                     truncate=gauss_truc_rang)\n",
    "\n",
    "    struct_img_non_lin = _non_linear_soma_transform_MCZ(struct_img)\n",
    "   \n",
    "\n",
    "    ###################\n",
    "    # CORE_PROCESSING\n",
    "    ###################    \n",
    "    struct_obj = _masked_object_thresh(struct_img_non_lin, \n",
    "                                       th_method=mo_method, \n",
    "                                       cutoff_size=mo_cutoff_size, \n",
    "                                       th_adjust=mo_adjust)               \n",
    "\n",
    "\n",
    "    ###################\n",
    "    # POST_PROCESSING\n",
    "    ###################\n",
    "    struct_obj = hole_filling(struct_obj, \n",
    "                              hole_min =0 , \n",
    "                              hole_max=max_hole_w_soma**2, \n",
    "                              fill_2d = True) \n",
    "\n",
    "    struct_obj = size_filter_linear_size(struct_obj, \n",
    "                                min_size= small_obj_w_soma**3, \n",
    "                                connectivity=1)\n",
    "\n",
    "    labels_out = _masked_inverted_watershed(struct_obj, nuclei_labels, struct_obj)\n",
    "\n",
    "\n",
    "    ###################\n",
    "    # POST- POST_PROCESSING\n",
    "    ###################\n",
    "    # keep the \"SOMA\" label which contains the highest total signal\n",
    "    soma_out = _choose_max_label(struct_img, labels_out)\n",
    "\n",
    "    return soma_out\n",
    "\n",
    "\n",
    "def _fixed_infer_cellmask_fromaggr_3D(in_img: np.ndarray, nuclei_labels: np.ndarray) -> np.ndarray:\n",
    "    \"\"\"\n",
    "    Procedure to infer cellmask from linearly unmixed input, with a *fixed* set of parameters for each step in the procedure.  i.e. \"hard coded\"\n",
    "\n",
    "    Parameters\n",
    "    ------------\n",
    "    in_img: \n",
    "        a 3d image containing all the channels\n",
    "    nuclei_object:\n",
    "        a 3d mask of nuclei\n",
    "\n",
    "    Returns\n",
    "    -------------\n",
    "    soma_mask:\n",
    "        a logical/labels object defining boundaries of cellmask\n",
    "    \"\"\"\n",
    "    \n",
    "    ###################\n",
    "    # PARAMETERS\n",
    "    ###################   \n",
    "    median_sz_soma = 15\n",
    "    gauss_sig_soma = 1.34\n",
    "    gauss_truc_rang = 3.0\n",
    "    mo_method = \"ave\"\n",
    "    mo_adjust = 0.15\n",
    "    mo_cutoff_size = 50\n",
    "    max_hole_w_soma = 100\n",
    "    small_obj_w_soma = 45\n",
    "\n",
    "    soma_out = _infer_cellmask_fromaggr_3D(in_img,\n",
    "                              nuclei_labels,\n",
    "                              median_sz_soma,\n",
    "                              gauss_sig_soma,\n",
    "                              gauss_truc_rang,\n",
    "                              mo_method,\n",
    "                              mo_adjust,\n",
    "                              mo_cutoff_size,\n",
    "                              max_hole_w_soma,\n",
    "                              small_obj_w_soma) \n",
    "\n",
    "    return soma_out\n",
    "\n",
    "\n",
    "SO_label =  _fixed_infer_cellmask_fromaggr_3D(img_data, NU_labels) "
   ]
  },
  {
   "attachments": {},
   "cell_type": "markdown",
   "metadata": {},
   "source": [
    "## GET CYTOSOL MASK\n"
   ]
  },
  {
   "cell_type": "code",
   "execution_count": 8,
   "metadata": {},
   "outputs": [],
   "source": [
    "#selecting single nuclei that matches the single cytoplasm selected above\n",
    "NU_object = np.logical_and(SO_label,NU_labels)"
   ]
  },
  {
   "cell_type": "code",
   "execution_count": 9,
   "metadata": {},
   "outputs": [],
   "source": [
    "def _infer_cytoplasm(soma_mask, nuclei_object, erode_nuclei = True):\n",
    "    \"\"\"\n",
    "    Procedure to infer cytoplasm from linearly unmixed input.\n",
    "\n",
    "    Parameters\n",
    "    ------------\n",
    "    nuclei_object: \n",
    "        a 3d image containing the nuclei signal\n",
    "\n",
    "    soma_mask: \n",
    "        a 3d image containing the cellmask signal\n",
    "\n",
    "    erode_nuclei: \n",
    "        should we erode?\n",
    "\n",
    "    Returns\n",
    "    -------------\n",
    "    cytoplasm_mask \n",
    "        boolean np.ndarray\n",
    "      \n",
    "    \"\"\"\n",
    "\n",
    "    if erode_nuclei:\n",
    "        cytoplasm_mask = np.logical_and(soma_mask, ~binary_erosion(nuclei_object))\n",
    "        # cytoplasm_mask = np.logical_xor(soma_mask, binary_erosion(nuclei_object))\n",
    "    else:\n",
    "        cytoplasm_mask = np.logical_and(soma_mask, ~nuclei_object)\n",
    "        # cytoplasm_mask = np.logical_xor(soma_mask, nuclei_object)\n",
    "\n",
    "\n",
    "    return cytoplasm_mask\n",
    "\n",
    "\n",
    "cytoplasm_mask = _infer_cytoplasm(SO_label, NU_object) "
   ]
  },
  {
   "cell_type": "code",
   "execution_count": 10,
   "metadata": {},
   "outputs": [],
   "source": [
    "viewer = napari.Viewer()"
   ]
  },
  {
   "cell_type": "code",
   "execution_count": 13,
   "metadata": {},
   "outputs": [
    {
     "data": {
      "text/plain": [
       "<Image layer 'cytoplasm_mask' at 0x27a3ddfa910>"
      ]
     },
     "execution_count": 13,
     "metadata": {},
     "output_type": "execute_result"
    }
   ],
   "source": [
    "viewer.add_labels(\n",
    "    NU_labels,\n",
    "    scale=scale\n",
    ")\n",
    "viewer.add_labels(\n",
    "    NU_object,\n",
    "    scale=scale\n",
    ")\n",
    "viewer.add_labels(\n",
    "    SO_label,\n",
    "    scale=scale\n",
    ")\n",
    "viewer.add_image(\n",
    "    cytoplasm_mask,\n",
    "    scale=scale\n",
    ")"
   ]
  },
  {
   "attachments": {},
   "cell_type": "markdown",
   "metadata": {},
   "source": [
    "---------------------\n",
    "\n",
    "## infer ***lysosome***\n",
    "\n",
    "## summary of steps (Workflow #1 & #2)\n",
    "\n",
    "INPUT\n",
    "- channel  2\n",
    "- cytoplasm mask\n",
    "\n",
    "PRE-PROCESSING\n",
    "-  smooth / remove noise\n",
    "\n",
    "CORE-PROCESSING\n",
    "- enhance two classes of \"spots\"\n",
    "-  segment objects\n",
    "\n",
    "POST-PROCESSING\n",
    "  - filter objects\n",
    "\n",
    "OUTPUT\n",
    "- object ***lysosome*** \n",
    "\n",
    "\n",
    "Generally following the Allen Cell Segmenter procedure, but doing more aggressive contrast scaling than their prescribed contrast scaling.\n",
    "\n",
    "> Using Allen Cell Segmenter LAMP1 [workflow](https://www.allencell.org/cell-observations/category/lamp1).  Examples sourced from: [Notebook](/Users/ahenrie/Projects/Imaging/mcz_subcell/napari/aics-segmentation/lookup_table_demo/playground_lamp1.ipynb) and [script](/Users/ahenrie/Projects/Imaging/mcz_subcell/napari/aics-segmentation/aicssegmentation/structure_wrapper/seg_lamp1.py)\n",
    "\n"
   ]
  },
  {
   "attachments": {},
   "cell_type": "markdown",
   "metadata": {},
   "source": [
    "## INPUT prototype"
   ]
  },
  {
   "cell_type": "code",
   "execution_count": 11,
   "metadata": {},
   "outputs": [],
   "source": [
    "\n",
    "###################\n",
    "# INPUT\n",
    "###################\n",
    "raw_lyso = select_channel_from_raw(img_data, LYSO_CH)\n"
   ]
  },
  {
   "cell_type": "code",
   "execution_count": 12,
   "metadata": {},
   "outputs": [
    {
     "data": {
      "text/plain": [
       "<Image layer 'raw_lyso' at 0x27433ca9ca0>"
      ]
     },
     "execution_count": 12,
     "metadata": {},
     "output_type": "execute_result"
    }
   ],
   "source": [
    "viewer.add_image(\n",
    "    raw_lyso,\n",
    "    scale=scale\n",
    ")"
   ]
  },
  {
   "attachments": {},
   "cell_type": "markdown",
   "metadata": {},
   "source": [
    "## PRE-PROCESSING prototype\n"
   ]
  },
  {
   "cell_type": "code",
   "execution_count": 13,
   "metadata": {},
   "outputs": [],
   "source": [
    "###################\n",
    "# PRE_PROCESSING\n",
    "###################\n",
    "\n",
    "# Linear-ish smoothing\n",
    "lyso = min_max_intensity_normalization(raw_lyso)\n",
    "\n",
    "med_filter_size = 3   \n",
    "lyso_med = median_filter_slice_by_slice(lyso, \n",
    "                                            size=med_filter_size)\n",
    "\n",
    "gaussian_smoothing_sigma = 1.34\n",
    "gaussian_smoothing_truncate_range = 3.0\n",
    "lyso_gaus = image_smoothing_gaussian_slice_by_slice(lyso_med,\n",
    "                                                        sigma=gaussian_smoothing_sigma,\n",
    "                                                        truncate_range = gaussian_smoothing_truncate_range )\n",
    "\n",
    "struct_img = lyso_gaus"
   ]
  },
  {
   "cell_type": "code",
   "execution_count": 14,
   "metadata": {},
   "outputs": [
    {
     "data": {
      "text/plain": [
       "<Image layer 'lyso_gaus' at 0x2742bd75940>"
      ]
     },
     "execution_count": 14,
     "metadata": {},
     "output_type": "execute_result"
    }
   ],
   "source": [
    "viewer.add_image(\n",
    "    lyso,\n",
    "    scale=scale\n",
    ")\n",
    "viewer.add_image(\n",
    "    lyso_med,\n",
    "    scale=scale\n",
    ")\n",
    "viewer.add_image(\n",
    "    lyso_gaus,\n",
    "    scale=scale\n",
    ")"
   ]
  },
  {
   "attachments": {},
   "cell_type": "markdown",
   "metadata": {},
   "source": [
    "## CORE PROCESSING prototype"
   ]
  },
  {
   "cell_type": "code",
   "execution_count": 58,
   "metadata": {},
   "outputs": [],
   "source": [
    "###################\n",
    "# CORE_PROCESSING\n",
    "###################\n",
    "# dot and filiment enhancement - 3D\n",
    "\n",
    "################################\n",
    "## PARAMETERS for this step ##\n",
    "s3_param = [[5,0.1], [2.5,.07], [0.5,0.05]]\n",
    "################################\n",
    "bw_spot_3D = dot_3d_wrapper(struct_img, s3_param)\n",
    "\n",
    "\n",
    "################################\n",
    "## PARAMETERS for this step ##\n",
    "f3_param = [[2, 0.03]]\n",
    "################################\n",
    "bw_filament_3D = filament_3d_wrapper(struct_img, f3_param)\n",
    "\n",
    "bw = np.logical_or(bw_spot_3D, bw_filament_3D)"
   ]
  },
  {
   "cell_type": "code",
   "execution_count": 60,
   "metadata": {},
   "outputs": [
    {
     "data": {
      "text/plain": [
       "<Image layer 'bw' at 0x2742c7c0670>"
      ]
     },
     "execution_count": 60,
     "metadata": {},
     "output_type": "execute_result"
    }
   ],
   "source": [
    "viewer.add_image(\n",
    "    bw_spot_3D,\n",
    "    scale=scale,\n",
    "    opacity=0.2\n",
    ")\n",
    "viewer.add_image(\n",
    "    bw_filament_3D,\n",
    "    scale=scale,\n",
    "    opacity=0.2\n",
    ")\n",
    "viewer.add_image(\n",
    "    bw,\n",
    "    scale=scale\n",
    ")"
   ]
  },
  {
   "cell_type": "markdown",
   "metadata": {},
   "source": [
    "### POST-PROCESSING\n",
    "\n",
    "> NOTE: we are using the 3D aicssegmentation functions which wrap `scipy.ndimage` functions with a single Z rather than the `scipy.ndimage` functions directly"
   ]
  },
  {
   "cell_type": "code",
   "execution_count": 78,
   "metadata": {},
   "outputs": [],
   "source": [
    "###################\n",
    "# POST_PROCESSING\n",
    "###################\n",
    "\n",
    "################################\n",
    "fill_2d = True\n",
    "fill_max_size = 25\n",
    "hole_min = 0\n",
    "removed_holes = hole_filling(bw, hole_min ** 2, fill_max_size ** 2, fill_2d)\n",
    "\n",
    "masked_img = apply_mask(removed_holes, cytoplasm_mask)\n",
    "\n",
    "width = 3  \n",
    "cleaned_img = size_filter(masked_img, \n",
    "                          min_size= width**3,\n",
    "                          method=\"3D\",\n",
    "                          connectivity=1)"
   ]
  },
  {
   "cell_type": "code",
   "execution_count": 77,
   "metadata": {},
   "outputs": [
    {
     "data": {
      "text/plain": [
       "<Image layer 'masked_img [2]' at 0x27454192f70>"
      ]
     },
     "execution_count": 77,
     "metadata": {},
     "output_type": "execute_result"
    }
   ],
   "source": [
    "viewer.add_image(\n",
    "    removed_holes,\n",
    "    scale=scale\n",
    ")\n",
    "viewer.add_image(\n",
    "    cleaned_img,\n",
    "    scale=scale\n",
    ")\n",
    "viewer.add_image(\n",
    "    masked_img,\n",
    "    scale=scale\n",
    ")"
   ]
  },
  {
   "attachments": {},
   "cell_type": "markdown",
   "metadata": {},
   "source": [
    ">> <code style=\"background:yellow;color:black\">This segmentation is too permisive with the current settings in iPSCs</code>"
   ]
  },
  {
   "attachments": {},
   "cell_type": "markdown",
   "metadata": {},
   "source": [
    "## DEFINE `_infer_lyso` function\n",
    "\n",
    "Based on the _prototyping_ above define the function to infer the lysosomes.  \n",
    "\n"
   ]
  },
  {
   "cell_type": "code",
   "execution_count": 84,
   "metadata": {},
   "outputs": [],
   "source": [
    "##########################\n",
    "#  infer_LYSOSOMES\n",
    "##########################\n",
    "def _infer_lyso_3D(in_img: np.ndarray,\n",
    "                    cytoplasm_mask: np.ndarray,\n",
    "                    median_sz: int,\n",
    "                    gauss_sig: float,\n",
    "                    dot_scale_1: float,\n",
    "                    dot_cut_1: float,\n",
    "                    dot_scale_2: float,\n",
    "                    dot_cut_2: float,\n",
    "                    dot_scale_3: float,\n",
    "                    dot_cut_3: float,\n",
    "                    filament_scale : float,\n",
    "                    filament_cut : float,\n",
    "                    min_hole_w: int,\n",
    "                    max_hole_w: int,\n",
    "                    small_obj_w: int,\n",
    "                        ) -> np.ndarray:\n",
    "    \"\"\"\n",
    "    Procedure to infer lyso from linearly unmixed input,\n",
    "    \n",
    "    Parameters\n",
    "    ------------\n",
    "    in_img: \n",
    "        a 3d image containing all the channels\n",
    "    cytoplasm_mask: \n",
    "        mask\n",
    "    median_sz: \n",
    "        width of median filter for signal\n",
    "    gauss_sig: \n",
    "        sigma for gaussian smoothing of  signal\n",
    "    dot_scale: \n",
    "        scales (log_sigma) for dot filter (1,2, and 3)\n",
    "    dot_cut: \n",
    "        threshold for dot filter thresholds (1,2,and 3)\n",
    "    filament_scale: \n",
    "        scale (log_sigma) for filament filter\n",
    "    filament_cut: \n",
    "        threshold for filament fitered threshold\n",
    "    min_hole_w: \n",
    "        hole filling min for nuclei post-processing\n",
    "    max_hole_w: \n",
    "        hole filling cutoff for nuclei post-processing\n",
    "    small_obj_w: \n",
    "        minimu object size cutoff for nuclei post-processing\n",
    "\n",
    "    Returns\n",
    "    -------------\n",
    "    lyso_object\n",
    "        mask defined extent of lyso object\n",
    "\n",
    "    \"\"\"\n",
    "    lyso_ch = LYSO_CH\n",
    "    ###################\n",
    "    # INPUT\n",
    "    ###################    \n",
    "    lyso = select_channel_from_raw(in_img, lyso_ch)\n",
    "\n",
    "     ###################\n",
    "    # PRE_PROCESSING\n",
    "    ###################    \n",
    "    lyso = min_max_intensity_normalization(lyso)\n",
    "\n",
    "    lyso = median_filter_slice_by_slice(lyso, size=median_sz)\n",
    "\n",
    "    lyso = image_smoothing_gaussian_slice_by_slice(lyso, sigma=gauss_sig)\n",
    "\n",
    "   ###################\n",
    "    # CORE_PROCESSING\n",
    "    ###################\n",
    "    s3_param = [    \n",
    "                [dot_scale_1, dot_cut_1],\n",
    "                [dot_scale_2, dot_cut_2],\n",
    "                [dot_scale_3, dot_cut_3]\n",
    "                ]\n",
    "    bw_spot = dot_3d_wrapper(lyso, s3_param)\n",
    "\n",
    "    f3_param = [[filament_scale, filament_cut]]\n",
    "    bw_filament = filament_3d_wrapper(lyso, f3_param)\n",
    "\n",
    "    bw = np.logical_or(bw_spot, bw_filament)\n",
    "\n",
    "    ###################\n",
    "    # POST_PROCESSING\n",
    "    ###################\n",
    "\n",
    "    struct_obj = hole_filling(bw, hole_min = min_hole_w ** 2, hole_max=max_hole_w ** 2, fill_2d = True) \n",
    "\n",
    "    struct_obj = apply_mask(struct_obj, cytoplasm_mask)\n",
    "\n",
    "    struct_obj = size_filter(struct_obj, \n",
    "                            min_size= small_obj_w**3, \n",
    "                            method= \"3D\",\n",
    "                            connectivity=1)\n",
    "                \n",
    "    return struct_obj"
   ]
  },
  {
   "cell_type": "code",
   "execution_count": 81,
   "metadata": {},
   "outputs": [],
   "source": [
    "\n",
    "\n",
    "##########################\n",
    "#  fixed_infer_nuclei\n",
    "##########################\n",
    "def _fixed_infer_lyso_3D(in_img: np.ndarray, \n",
    "                                                cytoplasm_mask: Optional[np.ndarray] = None\n",
    "                                            ) -> np.ndarray:\n",
    "    \"\"\"\n",
    "    Procedure to infer lyso from linearly unmixed input with *fixed parameters*\n",
    "    Parameters\n",
    "    ------------\n",
    "    in_img: np.ndarray\n",
    "        a 3d image containing all the channels\n",
    "    cytoplasm_mask: Optional[np.ndarray] = None\n",
    "        mask\n",
    "\n",
    "    Returns\n",
    "    -------------\n",
    "    lyso_object\n",
    "        mask defined extent of NU\n",
    "    \"\"\"\n",
    "    median_sz = 3\n",
    "    gauss_sig = 1.34\n",
    "    dot_scale_1 = 5\n",
    "    dot_cut_1 = 0.1\n",
    "    dot_scale_2 = 2.5\n",
    "    dot_cut_2 = 0.07\n",
    "    dot_scale_3 = 0.5\n",
    "    dot_cut_3 = 0.05\n",
    "    filament_scale = 2\n",
    "    filament_cut = 0.03\n",
    "    min_hole_w = 0\n",
    "    max_hole_w = 25\n",
    "    small_obj_w = 3\n",
    "\n",
    "    return _infer_lyso_3D(  in_img,\n",
    "                                cytoplasm_mask,\n",
    "                                median_sz,\n",
    "                                gauss_sig,\n",
    "                                dot_cut_1,\n",
    "                                dot_scale_1,\n",
    "                                dot_cut_2,\n",
    "                                dot_scale_2,\n",
    "                                dot_cut_3,\n",
    "                                dot_scale_3,\n",
    "                                filament_scale,\n",
    "                                filament_cut ,\n",
    "                                min_hole_w,\n",
    "                                max_hole_w,\n",
    "                                small_obj_w)\n"
   ]
  },
  {
   "cell_type": "markdown",
   "metadata": {},
   "source": [
    "------------------\n",
    "\n",
    "# TEST `_infer_lyso` function"
   ]
  },
  {
   "cell_type": "code",
   "execution_count": 85,
   "metadata": {},
   "outputs": [
    {
     "data": {
      "text/plain": [
       "<Image layer '_lyso_object [1]' at 0x2745308e760>"
      ]
     },
     "execution_count": 85,
     "metadata": {},
     "output_type": "execute_result"
    }
   ],
   "source": [
    "\n",
    "_lyso_object =  _fixed_infer_lyso_3D(img_data, cytoplasm_mask) \n",
    "\n",
    "viewer.add_image(\n",
    "    _lyso_object,\n",
    "    scale=scale\n",
    ")"
   ]
  },
  {
   "attachments": {},
   "cell_type": "markdown",
   "metadata": {},
   "source": [
    "<code style=\"background:yellow;color:black\">***WIP*** 2D-->3D transition stops here</code>"
   ]
  },
  {
   "cell_type": "code",
   "execution_count": 19,
   "metadata": {},
   "outputs": [],
   "source": [
    "from infer_subc.organelles.lysosome import fixed_infer_lyso\n",
    "\n",
    "lyso_object =  fixed_infer_lyso(img_2D, cytoplasm_mask) \n",
    "\n"
   ]
  },
  {
   "cell_type": "code",
   "execution_count": 20,
   "metadata": {},
   "outputs": [
    {
     "data": {
      "text/plain": [
       "<Image layer 'lyso_object' at 0x171650f70>"
      ]
     },
     "execution_count": 20,
     "metadata": {},
     "output_type": "execute_result"
    }
   ],
   "source": [
    "\n",
    "viewer.add_image(\n",
    "    _lyso_object,\n",
    "    scale=scale\n",
    ")\n",
    "viewer.add_labels(\n",
    "    label(lyso_object),\n",
    "    scale=scale\n",
    ")\n",
    "viewer.add_image(\n",
    "    lyso_object,\n",
    "    scale=scale\n",
    ")"
   ]
  },
  {
   "cell_type": "code",
   "execution_count": 21,
   "metadata": {},
   "outputs": [
    {
     "data": {
      "image/png": "[encoded data removed]",
      "text/html": [
       "<img src=\"data:image/png;base64,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\"></img>"
      ],
      "text/plain": [
       "<napari.utils.notebook_display.NotebookScreenshot at 0x17717fe80>"
      ]
     },
     "execution_count": 21,
     "metadata": {},
     "output_type": "execute_result"
    }
   ],
   "source": [
    "from napari.utils.notebook_display import nbscreenshot\n",
    "\n",
    "# viewer.dims.ndisplay = 3\n",
    "# viewer.camera.angles = (-30, 25, 120)\n",
    "nbscreenshot(viewer, canvas_only=True)"
   ]
  },
  {
   "cell_type": "code",
   "execution_count": null,
   "metadata": {},
   "outputs": [],
   "source": []
  },
  {
   "cell_type": "markdown",
   "metadata": {},
   "source": [
    "-----------------\n",
    "## make function json to add to `all_functions.json`\n",
    "### infer_lyso "
   ]
  },
  {
   "cell_type": "code",
   "execution_count": 31,
   "metadata": {},
   "outputs": [
    {
     "name": "stdout",
     "output_type": "stream",
     "text": [
      "function fixed_infer_lyso is already in all_functions.json\n"
     ]
    },
    {
     "data": {
      "text/plain": [
       "0"
      ]
     },
     "execution_count": 31,
     "metadata": {},
     "output_type": "execute_result"
    }
   ],
   "source": [
    "from infer_subc.organelles_config.helper import add_function_spec_to_widget_json\n",
    "\n",
    "_fixed_infer_lyso =  {\n",
    "        \"name\": \"infer lyso  (fixed parameters)\",\n",
    "        \"python::module\": \"infer_subc.organelles\",\n",
    "        \"python::function\": \"fixed_infer_lyso\",\n",
    "        \"parameters\": None\n",
    "        }\n",
    "\n",
    "add_function_spec_to_widget_json(\"fixed_infer_lyso\",_fixed_infer_lyso)"
   ]
  },
  {
   "cell_type": "code",
   "execution_count": 32,
   "metadata": {},
   "outputs": [
    {
     "name": "stdout",
     "output_type": "stream",
     "text": [
      "function infer_lyso is already in all_functions.json\n",
      "overwriting  infer_lyso\n"
     ]
    },
    {
     "data": {
      "text/plain": [
       "1"
      ]
     },
     "execution_count": 32,
     "metadata": {},
     "output_type": "execute_result"
    }
   ],
   "source": [
    "\n",
    "_infer_lyso =  {\n",
    "        \"name\": \"infer lyso\",\n",
    "        \"python::module\": \"infer_subc.organelles\",\n",
    "        \"python::function\": \"infer_lyso\",\n",
    "        \"parameters\": {\n",
    "                \"median_sz\": {\n",
    "                        \"widget_type\": \"slider\",\n",
    "                        \"data_type\": \"int\",\n",
    "                        \"min\": 3,\n",
    "                        \"max\": 15,\n",
    "                        \"increment\": 1\n",
    "                },\n",
    "                \"gauss_sig\": {\n",
    "                        \"data_type\": \"float\",\n",
    "                        \"increment\": 0.25,\n",
    "                        \"max\": 15.0,\n",
    "                        \"min\": 1.25,\n",
    "                        \"widget_type\": \"slider\"\n",
    "                },\n",
    "                \"dot_scale_1\": {\n",
    "                        \"data_type\": \"float\",\n",
    "                        \"increment\": 0.05,\n",
    "                        \"max\": 10,\n",
    "                        \"min\": 0,\n",
    "                        \"widget_type\": \"slider\"\n",
    "                },\n",
    "                \"dot_cut_1\": {\n",
    "                        \"data_type\": \"float\",\n",
    "                        \"increment\": 0.001,\n",
    "                        \"max\": 0.5,\n",
    "                        \"min\": 0,\n",
    "                        \"widget_type\": \"slider\"\n",
    "                },\n",
    "                \"dot_scale_2\": {\n",
    "                        \"data_type\": \"float\",\n",
    "                        \"increment\": 0.05,\n",
    "                        \"max\": 10,\n",
    "                        \"min\": 0,\n",
    "                        \"widget_type\": \"slider\"\n",
    "                },\n",
    "                \"dot_cut_2\": {\n",
    "                        \"data_type\": \"float\",\n",
    "                        \"increment\": 0.001,\n",
    "                        \"max\": 0.5,\n",
    "                        \"min\": 0,\n",
    "                        \"widget_type\": \"slider\"\n",
    "                },\n",
    "                \"dot_scale_3\": {\n",
    "                        \"data_type\": \"float\",\n",
    "                        \"increment\": 0.05,\n",
    "                        \"max\": 10,\n",
    "                        \"min\": 0,\n",
    "                        \"widget_type\": \"slider\"\n",
    "                },\n",
    "                \"dot_cut_3\": {\n",
    "                        \"data_type\": \"float\",\n",
    "                        \"increment\": 0.001,\n",
    "                        \"max\": 0.5,\n",
    "                        \"min\": 0,\n",
    "                        \"widget_type\": \"slider\"\n",
    "                },\n",
    "                \"filament_scale\": {\n",
    "                        \"data_type\": \"float\",\n",
    "                        \"increment\": 0.05,\n",
    "                        \"max\": 10,\n",
    "                        \"min\": 0,\n",
    "                        \"widget_type\": \"slider\"\n",
    "                },\n",
    "                \"filament_cut\": {\n",
    "                        \"data_type\": \"float\",\n",
    "                        \"increment\": 0.001,\n",
    "                        \"max\": 0.5,\n",
    "                        \"min\": 0,\n",
    "                        \"widget_type\": \"slider\"\n",
    "                },\n",
    "                \"min_hole_w\": {\n",
    "                        \"data_type\": \"int\",\n",
    "                        \"increment\": 1,\n",
    "                        \"max\": 30,\n",
    "                        \"min\": 0,\n",
    "                        \"widget_type\": \"slider\"\n",
    "                },    \n",
    "                \"max_hole_w\": {\n",
    "                        \"data_type\": \"int\",\n",
    "                        \"increment\": 1,\n",
    "                        \"max\": 40,\n",
    "                        \"min\": 4,\n",
    "                        \"widget_type\": \"slider\"\n",
    "                },           \n",
    "                \"small_obj_w\": {\n",
    "                        \"data_type\": \"int\",\n",
    "                        \"increment\": 1,\n",
    "                        \"max\": 50,\n",
    "                        \"min\": 1,\n",
    "                        \"widget_type\": \"slider\"\n",
    "                }\n",
    "        }\n",
    "}\n",
    "\n",
    "add_function_spec_to_widget_json(\"infer_lyso\", _infer_lyso, overwrite=True )\n",
    "\n"
   ]
  },
  {
   "cell_type": "markdown",
   "metadata": {},
   "source": [
    "## a couple helper function\n",
    "\n",
    "Wrappers for spot and filiment filters"
   ]
  },
  {
   "cell_type": "code",
   "execution_count": 33,
   "metadata": {},
   "outputs": [],
   "source": [
    "\n",
    "def _lyso_spot_filter(in_img: np.ndarray) -> np.ndarray:\n",
    "    \"\"\" spot filter helper function for lyso \"\"\"\n",
    "    dot_scale_1 = 5\n",
    "    dot_cut_1 = 0.09\n",
    "    dot_scale_2 = 2.5\n",
    "    dot_cut_2 = 0.07\n",
    "    dot_scale_3 = 1\n",
    "    dot_cut_3 = 0.01\n",
    "    s2_param = [[dot_scale_1, dot_cut_1], [dot_scale_2, dot_cut_2], [dot_scale_3, dot_cut_3]]\n",
    "    return dot_2d_slice_by_slice_wrapper(in_img, s2_param)\n",
    "\n",
    "# def _lyso_filiment_filter(in_img: np.ndarray) -> np.ndarray:\n",
    "#     \"\"\" spot filter helper function for lyso  (DEPRICATED)\"\"\"\n",
    "#     f2_param = [[filament_scale, filament_cut]]\n",
    "#     # f2_param = [[1, 0.15]]  # [scale_1, cutoff_1]\n",
    "#     return filament_2d_wrapper(in_img, f2_param)\n",
    "\n"
   ]
  },
  {
   "cell_type": "code",
   "execution_count": 34,
   "metadata": {},
   "outputs": [
    {
     "name": "stdout",
     "output_type": "stream",
     "text": [
      "function lyso_spot_filter is already in all_functions.json\n",
      "overwriting  lyso_spot_filter\n"
     ]
    },
    {
     "data": {
      "text/plain": [
       "1"
      ]
     },
     "execution_count": 34,
     "metadata": {},
     "output_type": "execute_result"
    }
   ],
   "source": [
    "_lyso_spot_filter =  {\n",
    "        \"name\": \"lyso spot filter\",\n",
    "        \"python::module\": \"infer_subc.organelles\",\n",
    "        \"python::function\": \"lyso_spot_filter\",\n",
    "        \"parameters\": None\n",
    "        }\n",
    "\n",
    "add_function_spec_to_widget_json(\"lyso_spot_filter\",_lyso_spot_filter, overwrite=True)"
   ]
  },
  {
   "cell_type": "code",
   "execution_count": 35,
   "metadata": {},
   "outputs": [
    {
     "name": "stdout",
     "output_type": "stream",
     "text": [
      "function lyso_filiment_filter is already in all_functions.json\n"
     ]
    },
    {
     "data": {
      "text/plain": [
       "0"
      ]
     },
     "execution_count": 35,
     "metadata": {},
     "output_type": "execute_result"
    }
   ],
   "source": [
    "_lyso_filiment_filter =  {\n",
    "        \"name\": \"lyso filiment filter\",\n",
    "        \"python::module\": \"infer_subc.organelles\",\n",
    "        \"python::function\": \"lyso_filiment_filter\",\n",
    "        \"parameters\": None\n",
    "        }\n",
    "\n",
    "add_function_spec_to_widget_json(\"lyso_filiment_filter\",_lyso_filiment_filter)"
   ]
  },
  {
   "cell_type": "code",
   "execution_count": 36,
   "metadata": {},
   "outputs": [
    {
     "name": "stdout",
     "output_type": "stream",
     "text": [
      "function logical_or is already in all_functions.json\n"
     ]
    },
    {
     "data": {
      "text/plain": [
       "0"
      ]
     },
     "execution_count": 36,
     "metadata": {},
     "output_type": "execute_result"
    }
   ],
   "source": [
    "_logical_or =  {\n",
    "        \"name\": \"logical or\",\n",
    "        \"python::module\": \"numpy\",\n",
    "        \"python::function\": \"logical_or\",\n",
    "        \"parameters\": None\n",
    "        }\n",
    "\n",
    "add_function_spec_to_widget_json(\"logical_or\",_logical_or)"
   ]
  },
  {
   "cell_type": "code",
   "execution_count": 37,
   "metadata": {},
   "outputs": [
    {
     "name": "stdout",
     "output_type": "stream",
     "text": [
      "function fixed_infer_nuclei is already in all_functions.json\n"
     ]
    },
    {
     "data": {
      "text/plain": [
       "0"
      ]
     },
     "execution_count": 37,
     "metadata": {},
     "output_type": "execute_result"
    }
   ],
   "source": [
    "from infer_subc.organelles_config.helper import add_function_spec_to_widget_json\n",
    "\n",
    "_fixed_infer_nuclei =  {\n",
    "        \"name\": \"infer nuclei  (fixed parameters)\",\n",
    "        \"python::module\": \"infer_subc.organelles\",\n",
    "        \"python::function\": \"fixed_infer_nuclei\",\n",
    "        \"parameters\": None\n",
    "        }\n",
    "\n",
    "add_function_spec_to_widget_json(\"fixed_infer_nuclei\",_fixed_infer_nuclei)"
   ]
  },
  {
   "cell_type": "code",
   "execution_count": 38,
   "metadata": {},
   "outputs": [
    {
     "name": "stdout",
     "output_type": "stream",
     "text": [
      "function label is already in all_functions.json\n"
     ]
    },
    {
     "data": {
      "text/plain": [
       "0"
      ]
     },
     "execution_count": 38,
     "metadata": {},
     "output_type": "execute_result"
    }
   ],
   "source": [
    "\n",
    "\n",
    "    # NU_labels = label(nuclei_object)\n",
    "\n",
    "_label =  {\n",
    "        \"name\": \"label objects\",\n",
    "        \"python::module\": \"skimage.measure\",\n",
    "        \"python::function\": \"label\",\n",
    "        \"parameters\": None\n",
    "        }\n",
    "# json.dumps({\"label\":_label})\n",
    "add_function_spec_to_widget_json(\"label\",_label)        \n"
   ]
  },
  {
   "cell_type": "markdown",
   "metadata": {},
   "source": [
    "## Write workflow .json\n",
    "Now that we've added our function specs we can compose workflows."
   ]
  },
  {
   "cell_type": "code",
   "execution_count": 39,
   "metadata": {},
   "outputs": [],
   "source": [
    "from infer_subc.constants import LYSO_CH\n",
    "def make_infer_lyso_step_by_step_from_raw_dict():\n",
    "    \"\"\"\n",
    "    Procedure to infer lyso from linearly unmixed input from raw\n",
    "\n",
    "    \"\"\"\n",
    "    step_name = []\n",
    "    function_name = []\n",
    "    category =[]\n",
    "    parameter_values = []\n",
    "    parent = []\n",
    "   \n",
    "    ###################\n",
    "    # EXTRACT\n",
    "    ###################   \n",
    "    step_name = []\n",
    "    function_name = []\n",
    "    category =[]\n",
    "    parameter_values = []\n",
    "    parent = []\n",
    "   \n",
    "    ###################\n",
    "    # EXTRACT\n",
    "    ###################   \n",
    "\n",
    "    step_name.append(\"1\")\n",
    "    function_name.append(\"fixed_get_optimal_Z_img\")\n",
    "    category.append(\"extraction\")\n",
    "    parameter_values.append(None)\n",
    "    parent.append(0)\n",
    "\n",
    "    step_name.append(\"2\")\n",
    "    function_name.append(\"fixed_infer_cellmask_fromaggr\")\n",
    "    category.append(\"extraction\")\n",
    "    parameter_values.append( None )\n",
    "    parent.append(1)\n",
    "\n",
    "    step_name.append(\"3\")\n",
    "    function_name.append(\"fixed_infer_nuclei\")\n",
    "    category.append(\"extraction\")\n",
    "    parameter_values.append( None )\n",
    "    parent.append([1,2])\n",
    "\n",
    "    step_name.append(\"4\")\n",
    "    function_name.append(\"infer_cytoplasm\")\n",
    "    category.append(\"extraction\")\n",
    "    parameter_values.append(dict(erode_nuclei = True ))\n",
    "    parent.append([2,3])\n",
    "\n",
    "    step_name.append(\"5\")\n",
    "    function_name.append(\"select_channel_from_raw\")\n",
    "    category.append(\"extraction\")\n",
    "    parameter_values.append( dict(chan = LYSO_CH) )\n",
    "    parent.append(1)\n",
    "    \n",
    "    step_name.append(\"6\")\n",
    "    function_name.append(\"min_max_intensity_normalization\")\n",
    "    category.append(\"preprocessing\")\n",
    "    parameter_values.append(None)\n",
    "    parent.append(5)\n",
    "\n",
    "    step_name.append(\"7\")\n",
    "    function_name.append(\"median_filter_slice_by_slice\")\n",
    "    category.append(\"preprocessing\")\n",
    "    parameter_values.append(dict(size = 4 ))\n",
    "    parent.append(6)\n",
    "\n",
    "    step_name.append(\"8\")\n",
    "    function_name.append(\"image_smoothing_gaussian_slice_by_slice\")\n",
    "    category.append(\"preprocessing\")\n",
    "    parameter_values.append(dict( sigma = 1.34 ))\n",
    "    parent.append(7)\n",
    "\n",
    "\n",
    "    step_name.append(\"9\")\n",
    "    function_name.append(\"lyso_spot_filter\")\n",
    "    category.append(\"core\")\n",
    "    parameter_values.append( None )\n",
    "    parent.append(8)\n",
    "\n",
    "    # step_name.append(\"10\")\n",
    "    # function_name.append(\"lyso_filiment_filter\")\n",
    "    # category.append(\"core\")\n",
    "    # parameter_values.append( None )\n",
    "    # parent.append(8)\n",
    "    step_name.append(\"10\")\n",
    "    function_name.append(\"filament_filter\") \n",
    "    category.append(\"core\")\n",
    "    parameter_values.append( dict( filament_scale=1., filament_cut=.15) )\n",
    "    parent.append(8)\n",
    "\n",
    "    step_name.append(\"11\")\n",
    "    function_name.append(\"logical_or\")\n",
    "    category.append(\"core\")\n",
    "    parameter_values.append( None )\n",
    "    parent.append([9,10])\n",
    "\n",
    "    step_name.append(\"12\")\n",
    "    function_name.append(\"hole_filling\")\n",
    "    category.append(\"postprocessing\")\n",
    "    parameter_values.append(dict( hole_min=0, hole_max=25**2, fill_2d=True))\n",
    "    parent.append(11)\n",
    "\n",
    "    step_name.append(\"13\")\n",
    "    function_name.append(\"apply_mask\")\n",
    "    category.append(\"postprocessing\")\n",
    "    parameter_values.append(None)\n",
    "    parent.append([12,4])\n",
    "\n",
    "    step_name.append(\"14\")\n",
    "    function_name.append(\"size_filter_linear_size\")\n",
    "    category.append(\"postprocessing\")\n",
    "    parameter_values.append(dict( min_size = 3**2  ))\n",
    "    parent.append(13)\n",
    "\n",
    "    out_dict = dict()\n",
    "    for i,stepn in enumerate(step_name):\n",
    "        entry = dict(category=category[i],\n",
    "                            function=function_name[i],\n",
    "                            parameter_values=parameter_values[i],\n",
    "                            parent=parent[i]\n",
    "        )\n",
    "        if entry['parameter_values'] is None:\n",
    "            _ = entry.pop('parameter_values')\n",
    "        out_dict[stepn] = entry\n",
    "    \n",
    "    return out_dict"
   ]
  },
  {
   "cell_type": "code",
   "execution_count": 40,
   "metadata": {},
   "outputs": [
    {
     "data": {
      "text/plain": [
       "PosixPath('/Users/ahenrie/Projects/Imaging/infer-subc/infer_subc/organelles_config/conf_1.4.lyso_stepbystep_from_raw.json')"
      ]
     },
     "execution_count": 40,
     "metadata": {},
     "output_type": "execute_result"
    }
   ],
   "source": [
    "from infer_subc.organelles_config.helper import write_workflow_json\n",
    "\n",
    "infer_lyso_stepbystep_from_raw_dict = make_infer_lyso_step_by_step_from_raw_dict()\n",
    "\n",
    "write_workflow_json(\"conf_1.4.lyso_stepbystep_from_raw\", infer_lyso_stepbystep_from_raw_dict)"
   ]
  },
  {
   "cell_type": "code",
   "execution_count": 41,
   "metadata": {},
   "outputs": [
    {
     "ename": "",
     "evalue": "",
     "output_type": "error",
     "traceback": [
      "\u001b[1;31mThe Kernel crashed while executing code in the the current cell or a previous cell. Please review the code in the cell(s) to identify a possible cause of the failure. Click <a href='https://aka.ms/vscodeJupyterKernelCrash'>here</a> for more info. View Jupyter <a href='command:jupyter.viewOutput'>log</a> for further details."
     ]
    }
   ],
   "source": [
    "viewer.close()"
   ]
  },
  {
   "cell_type": "code",
   "execution_count": null,
   "metadata": {},
   "outputs": [],
   "source": []
  }
 ],
 "metadata": {
  "kernelspec": {
   "display_name": "infer-subc",
   "language": "python",
   "name": "python3"
  },
  "language_info": {
   "codemirror_mode": {
    "name": "ipython",
    "version": 3
   },
   "file_extension": ".py",
   "mimetype": "text/x-python",
   "name": "python",
   "nbconvert_exporter": "python",
   "pygments_lexer": "ipython3",
   "version": "3.9.15 (main, Nov 24 2022, 14:39:17) [MSC v.1916 64 bit (AMD64)]"
  },
  "orig_nbformat": 4,
  "vscode": {
   "interpreter": {
    "hash": "182b63330db9794b59aa776c624821fb477d854325ad145fa5385f0d56c0c6f3"
   }
  }
 },
 "nbformat": 4,
 "nbformat_minor": 2
}
