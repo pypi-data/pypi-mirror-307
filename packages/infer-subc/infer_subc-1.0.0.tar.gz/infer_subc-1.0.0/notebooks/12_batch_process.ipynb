{
 "cells": [
  {
   "attachments": {},
   "cell_type": "markdown",
   "metadata": {},
   "source": [
    "# SCohenLab 3D BATCH Image Processing notebook (Simplified MCZ)\n",
    "\n"
   ]
  },
  {
   "attachments": {},
   "cell_type": "markdown",
   "metadata": {},
   "source": [
    "\n",
    "\n",
    "## IMPORTS"
   ]
  },
  {
   "cell_type": "code",
   "execution_count": null,
   "metadata": {},
   "outputs": [],
   "source": [
    "# top level imports\n",
    "from pathlib import Path\n",
    "import os, sys\n",
    "from collections import defaultdict\n",
    "from typing import Optional, Union\n",
    "\n",
    "import numpy as np\n",
    "import pandas as pd\n",
    "from skimage.measure import regionprops_table, regionprops\n",
    "\n",
    "from aicssegmentation.core.pre_processing_utils import  image_smoothing_gaussian_slice_by_slice \n",
    "from skimage.measure import label\n",
    "\n",
    "import napari\n",
    "\n",
    "### import local python functions in ../infer_subc\n",
    "sys.path.append(os.path.abspath((os.path.join(os.getcwd(), '..'))))\n",
    "\n",
    "from infer_subc.core.file_io import (read_czi_image,\n",
    "                                    export_inferred_organelle,\n",
    "                                    list_image_files)\n",
    "\n",
    "from infer_subc.core.img import *\n",
    "from infer_subc.organelles import * \n",
    "\n",
    "%load_ext autoreload\n",
    "%autoreload 2\n",
    "\n"
   ]
  },
  {
   "cell_type": "code",
   "execution_count": null,
   "metadata": {},
   "outputs": [],
   "source": [
    "# NOTE:  these \"constants\" are only accurate for the testing MCZ dataset\n",
    "from infer_subc.constants import (TEST_IMG_N,\n",
    "                                    NUC_CH ,\n",
    "                                    LYSO_CH ,\n",
    "                                    MITO_CH ,\n",
    "                                    GOLGI_CH ,\n",
    "                                    PEROX_CH ,\n",
    "                                    ER_CH ,\n",
    "                                    LD_CH ,\n",
    "                                    RESIDUAL_CH )              "
   ]
  },
  {
   "attachments": {},
   "cell_type": "markdown",
   "metadata": {},
   "source": [
    "\n",
    "## SETUP"
   ]
  },
  {
   "cell_type": "code",
   "execution_count": null,
   "metadata": {},
   "outputs": [],
   "source": [
    "# this will be the example image for testing the pipeline below\n",
    "test_img_n = TEST_IMG_N\n",
    "\n",
    "# build the datapath\n",
    "# all the imaging data goes here.\n",
    "data_root_path = Path(os.path.expanduser(\"~\")) / \"Projects/Imaging/data\"\n",
    "\n",
    "# linearly unmixed \".czi\" files are here\n",
    "in_data_path = data_root_path / \"raw\"\n",
    "im_type = \".czi\"\n",
    "\n",
    "# get the list of all files\n",
    "img_file_list = list_image_files(in_data_path,im_type)\n",
    "test_img_name = img_file_list[test_img_n]\n",
    "\n",
    "# save output \".tiff\" files here\n",
    "out_data_path = data_root_path / \"out\"\n",
    "\n",
    "if not Path.exists(out_data_path):\n",
    "    Path.mkdir(out_data_path)\n",
    "    print(f\"making {out_data_path}\")"
   ]
  },
  {
   "cell_type": "code",
   "execution_count": null,
   "metadata": {},
   "outputs": [],
   "source": [
    "img_data,meta_dict = read_czi_image(test_img_name)\n",
    "\n",
    "# get some top-level info about the RAW data\n",
    "channel_names = meta_dict['name']\n",
    "img = meta_dict['metadata']['aicsimage']\n",
    "scale = meta_dict['scale']\n",
    "channel_axis = meta_dict['channel_axis']\n"
   ]
  },
  {
   "cell_type": "code",
   "execution_count": null,
   "metadata": {},
   "outputs": [],
   "source": [
    "scale[0]/scale[1], scale"
   ]
  },
  {
   "cell_type": "markdown",
   "metadata": {},
   "source": [
    "Now get the single \"optimal\" slice of all our organelle channels...."
   ]
  },
  {
   "cell_type": "markdown",
   "metadata": {},
   "source": [
    "## get the inferred cellmask, nuclei and cytoplasm objects\n",
    "\n",
    "(takes < 1 sec)"
   ]
  },
  {
   "cell_type": "markdown",
   "metadata": {},
   "source": [
    "Builde the segmentations in order\n",
    "\n",
    "\n"
   ]
  },
  {
   "cell_type": "code",
   "execution_count": null,
   "metadata": {},
   "outputs": [],
   "source": [
    "###################\n",
    "# SOMA, NUCLEI, CYTOPLASM, NUCLEUS\n",
    "###################\n",
    "nuclei_obj =  infer_nuclei_fromlabel(img_data,meta_dict, out_data_path)\n",
    "soma_obj  = get_soma(img_data, nuclei,meta_dict, out_data_path)\n",
    "cytoplasm_mask = get_cytoplasm(nuclei_obj , soma_obj , meta_dict, out_data_path)\n",
    "# get overall summary stats for cellmask\n"
   ]
  },
  {
   "cell_type": "code",
   "execution_count": null,
   "metadata": {},
   "outputs": [],
   "source": [
    "# names of organelles we have\n",
    "organelle_names = [\"lyso\", \"mitochondria\",\"golgi\",\"peroxisome\",\"er\",\"lipid\"]\n",
    "\n",
    "get_methods  = [get_lyso,\n",
    "            get_mito,\n",
    "            get_golgi,\n",
    "            get_perox,\n",
    "            get_ER,\n",
    "            get_LD]\n",
    "\n",
    "# load all the organelle segmentations\n",
    "organelles = [meth(img_data,meta_dict, out_data_path) for meth in get_methods]\n",
    "\n",
    "# get the intensities\n",
    "organelle_channels = [LYSO_CH,MITO_CH,GOLGI_CH,PEROX_CH,ER_CH,LD_CH]\n",
    "\n",
    "intensities = [img_data[ch] for ch in organelle_channels]\n"
   ]
  },
  {
   "cell_type": "code",
   "execution_count": null,
   "metadata": {},
   "outputs": [],
   "source": [
    "organelle = 1\n",
    "mask = cytoplasm_mask\n",
    "segmentation = np.stack([\n",
    "                            nuclei_object,\n",
    "                            lyso_object,\n",
    "                            mito_object,\n",
    "                            golgi_object,\n",
    "                            peroxi_object,\n",
    "                            er_object,\n",
    "                            LD_object ])\n",
    "\n",
    "florescence = img_2D[:-1] # throw out residual\n",
    "\n",
    "\n",
    "florescence.shape, segmentation.shape, mask.shape\n"
   ]
  },
  {
   "attachments": {},
   "cell_type": "markdown",
   "metadata": {},
   "source": [
    "## Visualize with `napari` 1\n",
    "Visualize the first-pass segmentation and labeling with `napari`."
   ]
  },
  {
   "cell_type": "code",
   "execution_count": null,
   "metadata": {},
   "outputs": [],
   "source": [
    "viewer = napari.Viewer()"
   ]
  },
  {
   "cell_type": "code",
   "execution_count": null,
   "metadata": {},
   "outputs": [],
   "source": [
    "viewer.add_image(\n",
    "    nuclei_object,\n",
    "    scale=scale,\n",
    "    colormap='blue', \n",
    "    blending='additive'\n",
    ")\n",
    "viewer.add_image(\n",
    "    lyso_object,\n",
    "    scale=scale,\n",
    "    colormap='cyan', \n",
    "    blending='additive'\n",
    ")\n",
    "\n",
    "viewer.add_image(\n",
    "    mito_object,\n",
    "    scale=scale,\n",
    "    colormap='green', \n",
    "    blending='additive'\n",
    ")\n",
    "\n",
    "viewer.add_image(\n",
    "    golgi_object,\n",
    "    scale=scale,\n",
    "    colormap='yellow', \n",
    "    blending='additive'\n",
    ")\n",
    "\n",
    "\n",
    "viewer.add_image(\n",
    "    peroxi_object,\n",
    "    scale=scale,\n",
    "    colormap='bop orange', \n",
    "    blending='additive'\n",
    ")\n",
    "\n",
    "\n",
    "viewer.add_image(\n",
    "    er_object,\n",
    "    scale=scale,\n",
    "    blending='additive')\n",
    "\n",
    "viewer.add_image(\n",
    "    LD_object,\n",
    "    scale=scale,\n",
    "    blending='additive')\n",
    "\n"
   ]
  },
  {
   "cell_type": "code",
   "execution_count": null,
   "metadata": {},
   "outputs": [],
   "source": [
    "viewer.scale_bar.visible = True\n",
    "from napari.utils.notebook_display import nbscreenshot\n",
    "\n",
    "# viewer.dims.ndisplay = 3\n",
    "# viewer.camera.angles = (-30, 25, 120)\n",
    "nbscreenshot(viewer, canvas_only=True)"
   ]
  },
  {
   "cell_type": "code",
   "execution_count": null,
   "metadata": {},
   "outputs": [],
   "source": [
    "viewer.close()"
   ]
  },
  {
   "cell_type": "markdown",
   "metadata": {},
   "source": [
    "\n",
    "There may be a bug where the input images to the \"infer_*\" functions are modified in place and we might need to access them.  _MASKING_ seems to be the problem.  Also need to be clear about _when_ to apply the mask."
   ]
  },
  {
   "cell_type": "code",
   "execution_count": null,
   "metadata": {},
   "outputs": [],
   "source": [
    "viewer = napari.Viewer()\n"
   ]
  },
  {
   "cell_type": "code",
   "execution_count": null,
   "metadata": {},
   "outputs": [],
   "source": [
    "cmaps = ['blue','cyan','green','yellow','bop orange','magenta','gray','gray','gray']\n",
    "\n",
    "for i,organelle in enumerate(inferred_organelles):\n",
    "    viewer.add_image(\n",
    "        organelle,\n",
    "        scale=scale,\n",
    "        blending='additive',\n",
    "        name = layer_names[i],\n",
    "        colormap=cmaps[i]\n",
    "    )\n"
   ]
  },
  {
   "cell_type": "code",
   "execution_count": null,
   "metadata": {},
   "outputs": [],
   "source": [
    "viewer.scale_bar.visible = True\n",
    "\n",
    "nbscreenshot(viewer, canvas_only=True)"
   ]
  },
  {
   "cell_type": "code",
   "execution_count": null,
   "metadata": {},
   "outputs": [],
   "source": [
    "meta_dict"
   ]
  },
  {
   "cell_type": "code",
   "execution_count": null,
   "metadata": {},
   "outputs": [],
   "source": [
    "# build the datapath\n",
    "# all the imaging data goes here.\n",
    "data_root_path = Path(os.path.expanduser(\"~\")) / \"Projects/Imaging/data\"\n",
    "\n"
   ]
  },
  {
   "cell_type": "markdown",
   "metadata": {},
   "source": [
    "now build a function to loop over them all and export\n",
    "\n",
    "\n"
   ]
  },
  {
   "cell_type": "code",
   "execution_count": null,
   "metadata": {},
   "outputs": [],
   "source": [
    "\n",
    "def batch_process_all_czi(data_root_path):\n",
    "\n",
    "    # linearly unmixed \".czi\" files are here\n",
    "    data_path = data_root_path / \"raw\"\n",
    "    im_type = \".czi\"\n",
    "    # get the list of all files\n",
    "    img_file_list = list_image_files(data_path,im_type)\n",
    "    files_generated = []\n",
    "    for czi_file in img_file_list:\n",
    "        out_fn = process_czi_image(czi_file)\n",
    "        files_generated.append(out_fn)\n",
    "\n",
    "    print(f\"generated {len(files_generated)} \")\n",
    "    return files_generated\n",
    "\n",
    "def process_czi_image(czi_file_name):\n",
    "    \"\"\"wrapper for processing\"\"\"\n",
    "\n",
    "    img_data,meta_dict = read_czi_image(czi_file_name)\n",
    "    # # get some top-level info about the RAW data\n",
    "    # channel_names = meta_dict['name']\n",
    "    # img = meta_dict['metadata']['aicsimage']\n",
    "    # scale = meta_dict['scale']\n",
    "    # channel_axis = meta_dict['channel_axis']\n",
    "\n",
    "    inferred_organelles, layer_names,optimal_Z = _infer_organelles(img_data)\n",
    "    meta_dict['z_slice'] = optimal_Z\n",
    "    out_file_n = _export_infer_organelles(inferred_organelles, layer_names, meta_dict, data_root_path)\n",
    "\n",
    "    ## TODO:  collect stats... \n",
    "\n",
    "    return out_file_n\n",
    "\n",
    "# chan_name = 'nuclei'\n",
    "# out_path = data_root_path / \"inferred_objects\" \n",
    "# object_name = 'NU_object'\n",
    "\n",
    "# NU_bioim = read_input_image( out_path/ f\"{object_name}.ome.tiff\"  )\n",
    "# NU_object = NU_bioim.image\n",
    "# NU_labels = label(NU_object)\n",
    "\n",
    "# # calculate a filter dimension for median filtering which considers the difference in scale of Z\n",
    "# z_factor = scale[0]//scale[1]\n",
    "# med_filter_size = 4 #2D \n",
    "# med_filter_size_3D = (1,med_filter_size,med_filter_size)  # set the scale for a typical median filter"
   ]
  },
  {
   "cell_type": "code",
   "execution_count": null,
   "metadata": {},
   "outputs": [],
   "source": [
    "output_tiffs = batch_process_all_czi(data_root_path)\n"
   ]
  },
  {
   "cell_type": "markdown",
   "metadata": {},
   "source": [
    "35 files processed in 6 minutes 47 seconds!!"
   ]
  },
  {
   "cell_type": "code",
   "execution_count": null,
   "metadata": {},
   "outputs": [],
   "source": [
    "\n",
    "tiff_img_data,tiff_meta_dict = read_czi_image(output_tiffs[-1])\n"
   ]
  },
  {
   "cell_type": "code",
   "execution_count": null,
   "metadata": {},
   "outputs": [],
   "source": [
    "tiff_img_data.shape\n",
    "\n",
    "img = tiff_meta_dict['metadata']['aicsimage']\n",
    "img.dims"
   ]
  },
  {
   "cell_type": "code",
   "execution_count": null,
   "metadata": {},
   "outputs": [],
   "source": [
    "from aicsimageio.writers import OmeTiffWriter\n",
    "data_in = img_out\n",
    "channel_names = [layer_names]\n",
    "image_names = [img_name]\n",
    "print(image_names)\n",
    "# chan_names = meta_in['metadata']['aicsimage'].channel_names\n",
    "dimension_order = [\"CZYX\"]\n",
    "\n",
    "num_images = len(  [data_in.shape])\n",
    "if data_in.dtype == \"bool\":\n",
    "    data_in = data_in.astype(np.uint8)\n",
    "    data_in[data_in > 0] = 255\n",
    "\n",
    "physical_pixel_sizes = [meta_dict[\"metadata\"][\"aicsimage\"].physical_pixel_sizes]\n",
    "out_ome = OmeTiffWriter.build_ome(\n",
    "        [data_in.shape],\n",
    "        [data_in.dtype],\n",
    "        channel_names=channel_names,  # type: ignore\n",
    "        image_name=image_names,\n",
    "        physical_pixel_sizes=physical_pixel_sizes,\n",
    "        dimension_order=dimension_order,\n",
    "    )"
   ]
  },
  {
   "cell_type": "code",
   "execution_count": null,
   "metadata": {},
   "outputs": [],
   "source": []
  }
 ],
 "metadata": {
  "kernelspec": {
   "display_name": "Python 3.9.13 ('napariNEW')",
   "language": "python",
   "name": "python3"
  },
  "language_info": {
   "codemirror_mode": {
    "name": "ipython",
    "version": 3
   },
   "file_extension": ".py",
   "mimetype": "text/x-python",
   "name": "python",
   "nbconvert_exporter": "python",
   "pygments_lexer": "ipython3",
   "version": "3.9.16"
  },
  "orig_nbformat": 4,
  "vscode": {
   "interpreter": {
    "hash": "d6148ef1fb015fb20f0b6da2ea61c87c6b848bdf3dabb03087e5d5cd0c4607e9"
   }
  }
 },
 "nbformat": 4,
 "nbformat_minor": 2
}
