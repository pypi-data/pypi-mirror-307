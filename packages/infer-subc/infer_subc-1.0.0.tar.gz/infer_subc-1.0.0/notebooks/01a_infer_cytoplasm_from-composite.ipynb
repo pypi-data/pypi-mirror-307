{
 "cells": [
  {
   "attachments": {},
   "cell_type": "markdown",
   "metadata": {},
   "source": [
    "# Infer ***cytoplasm*** from a composite image - 1️⃣ \n",
    "### Alternative workflow: ***\"a\"*** (an alternative workflow for images with NO **nuclei** or **cell membrane** makers)\n",
    "--------------\n",
    "\n",
    "## OVERVIEW\n",
    "We will start by segmenting the different cell regions - the nucleus, cell, and cytoplasm - since they will be necessary for determining which organelle are in which cell. This is integral to our single cell analysis approach.\n",
    "\n",
    "This notebook goes through the workflow steps to segment the ***cytoplasm*** from a composite image.\n",
    "\n",
    "\n",
    "## OBJECTIVE: \n",
    "### ✅ Infer sub-cellular component #1: ***cytoplasm***\n",
    "Segment the ***cytoplasm*** from a composite image of multiple organelle markers combined. The ***cell*** and ***nuclei*** masks will be derived from this mask.\n",
    "\n",
    "> ***Biological relevance:***\n",
    "> The combination of organelle markers used to create the composite image for the cytoplasm segmentation is based on the assumption that the organelle labels used will \"fill up\" the entire cytoplasm (not including the nucleus). This is NOT the most accurate method to determine the cell area, but is required in the case where membrane and nuclei markers can not or are not included. This largely depends on the organelle labeles used and the cell type. \n",
    ">\n",
    "> *It is important to consider specifics of your system as the cell type and labeling method may differ from the example above.*"
   ]
  },
  {
   "attachments": {},
   "cell_type": "markdown",
   "metadata": {},
   "source": [
    "\n",
    "\n",
    "### IMPORTS"
   ]
  },
  {
   "cell_type": "code",
   "execution_count": 1,
   "metadata": {},
   "outputs": [],
   "source": [
    "# top level imports\n",
    "from pathlib import Path\n",
    "import os, sys\n",
    "from collections import defaultdict\n",
    "from typing import Union, Tuple, List\n",
    "\n",
    "import numpy as np\n",
    "\n",
    "from scipy import ndimage as ndi\n",
    "from aicssegmentation.core.pre_processing_utils import ( intensity_normalization, \n",
    "                                                         image_smoothing_gaussian_slice_by_slice )\n",
    "from aicssegmentation.core.MO_threshold import MO\n",
    "from aicssegmentation.core.utils import hole_filling\n",
    "\n",
    "from skimage import filters\n",
    "from skimage.segmentation import watershed, clear_border\n",
    "from skimage.morphology import remove_small_holes   # function for post-processing (size filter)\n",
    "from skimage.measure import label\n",
    "\n",
    "# # package for io \n",
    "from aicsimageio import AICSImage\n",
    "\n",
    "import napari\n",
    "\n",
    "### import local python functions in ../infer_subc\n",
    "sys.path.append(os.path.abspath((os.path.join(os.getcwd(), '..'))))\n",
    "\n",
    "\n",
    "from infer_subc.core.file_io import (read_czi_image,\n",
    "                                     read_ome_image,\n",
    "                                     import_inferred_organelle,\n",
    "                                     export_inferred_organelle,\n",
    "                                     list_image_files)\n",
    "\n",
    "                                             \n",
    "from infer_subc.core.img import *\n",
    "from infer_subc.organelles import (get_nuclei, \n",
    "                                   non_linear_cellmask_transform,\n",
    "                                   choose_max_label_cellmask_union_nucleus)\n",
    "\n",
    "\n",
    "%load_ext autoreload\n",
    "%autoreload 2\n"
   ]
  },
  {
   "attachments": {},
   "cell_type": "markdown",
   "metadata": {},
   "source": [
    "## Get and load Image for processing"
   ]
  },
  {
   "cell_type": "code",
   "execution_count": 3,
   "metadata": {},
   "outputs": [],
   "source": [
    "test_img_n = 0\n",
    "\n",
    "data_root_path = Path(os.path.expanduser(\"~\")) / \"Documents/Python_Scripts/Infer-subc\"\n",
    "\n",
    "in_data_path = data_root_path / \"neuron_raw_OME\"\n",
    "im_type = \".tiff\"\n",
    "\n",
    "img_file_list = list_image_files(in_data_path,im_type)\n",
    "test_img_name = img_file_list[test_img_n]\n",
    "\n",
    "out_data_path = data_root_path / \"neuron_raw_OME_out-06012023\"\n",
    "if not Path.exists(out_data_path):\n",
    "    Path.mkdir(out_data_path)\n",
    "    print(f\"making {out_data_path}\")"
   ]
  },
  {
   "cell_type": "code",
   "execution_count": 4,
   "metadata": {},
   "outputs": [],
   "source": [
    "img_data,meta_dict = read_czi_image(test_img_name)\n",
    "\n",
    "channel_names = meta_dict['name']\n",
    "img = meta_dict['metadata']['aicsimage']\n",
    "scale = meta_dict['scale']\n",
    "channel_axis = meta_dict['channel_axis']"
   ]
  },
  {
   "attachments": {},
   "cell_type": "markdown",
   "metadata": {},
   "source": [
    "---------\n",
    "## infer ***cytoplasm*** from composite image\n",
    "\n",
    "### summary of steps\n",
    "\n",
    "➡️ INPUT\n",
    "- create composite image from multiple organelle channels\n",
    "\n",
    "PRE-PROCESSING\n",
    "- rescale image intensities: \n",
    "    - min=0, max=1\n",
    "- smooth image:\n",
    "    - median filter (media size = user input)\n",
    "    - gaussian filter (sigma = user input)\n",
    "- log transform image\n",
    "- apply scharr edge detection filter \n",
    "- combine log imge + scharr edge filtered intensity\n",
    "\n",
    "CORE PROCESSING\n",
    "- apply MO thresholding method from the Allen Cell [aicssegmentation](https://github.com/AllenCell/aics-segmentation) package (threshold options = user input)\n",
    "\n",
    "POST-PROCESSING\n",
    "- fill holes (hole size = user input)\n",
    "- remove small objects (object size = user input)\n",
    "\n",
    "OUTPUT ➡️ \n",
    "- save single ***cellmask*** (cell, CM) at unsigned integer 8-bit tif files\n"
   ]
  },
  {
   "attachments": {},
   "cell_type": "markdown",
   "metadata": {},
   "source": [
    "## EXTRACTION prototype"
   ]
  },
  {
   "cell_type": "code",
   "execution_count": 5,
   "metadata": {},
   "outputs": [],
   "source": [
    "###################\n",
    "# INPUT\n",
    "###################\n",
    "# Creating a composite image\n",
    "weights =  [0, 4, 1, 1, 2, 2]\n",
    "struct_img_raw = weighted_aggregate(img_data, *weights)"
   ]
  },
  {
   "attachments": {},
   "cell_type": "markdown",
   "metadata": {},
   "source": [
    "## PRE-PROCESSING prototype\n",
    "\n",
    "> **NOTE**: No smoothing was done here because these test images were already pre-processed."
   ]
  },
  {
   "cell_type": "code",
   "execution_count": 6,
   "metadata": {},
   "outputs": [],
   "source": [
    "###################\n",
    "# PRE_PROCESSING\n",
    "###################\n",
    "med_filter_size = 0\n",
    "gaussian_smoothing_sigma = 0\n",
    "\n",
    "structure_img_smooth = scale_and_smooth(struct_img_raw,\n",
    "                                        median_size = med_filter_size, \n",
    "                                        gauss_sigma = gaussian_smoothing_sigma)"
   ]
  },
  {
   "cell_type": "code",
   "execution_count": 7,
   "metadata": {},
   "outputs": [],
   "source": [
    "# log scale the image, apply the scharr edge detection filter to logged image, add the two images together\n",
    "composite_cellmask = non_linear_cellmask_transform(structure_img_smooth)"
   ]
  },
  {
   "attachments": {},
   "cell_type": "markdown",
   "metadata": {},
   "source": [
    "## CORE PROCESSING prototype"
   ]
  },
  {
   "cell_type": "code",
   "execution_count": 8,
   "metadata": {},
   "outputs": [],
   "source": [
    "###################\n",
    "# CORE_PROCESSING\n",
    "###################\n",
    "# threshold the composite image after log/edge detection using the MO filter function from aicssegmentation - this applies a global threshold, then a local threshold to produce a semantic segmentation\n",
    "thresh_method = 'ave'\n",
    "cutoff_size =  50\n",
    "thresh_adj = 0.2\n",
    "\n",
    "bw = masked_object_thresh(composite_cellmask, \n",
    "                          global_method=thresh_method, \n",
    "                          cutoff_size=cutoff_size, \n",
    "                          local_adjust=thresh_adj)"
   ]
  },
  {
   "attachments": {},
   "cell_type": "markdown",
   "metadata": {},
   "source": [
    "## POST-PROCESSING prototype"
   ]
  },
  {
   "cell_type": "code",
   "execution_count": 9,
   "metadata": {},
   "outputs": [],
   "source": [
    "###################\n",
    "# POST_PROCESSING\n",
    "###################\n",
    "hole_min_width = 0\n",
    "hole_max_width = 30\n",
    "\n",
    "small_object_width = 10\n",
    "\n",
    "fill_filter_method = \"3D\"\n",
    "\n",
    "cleaned_img2 = fill_and_filter_linear_size(bw, \n",
    "                                           hole_min=hole_min_width, \n",
    "                                           hole_max=hole_max_width, \n",
    "                                           min_size= small_object_width,\n",
    "                                           method=fill_filter_method)"
   ]
  },
  {
   "attachments": {},
   "cell_type": "markdown",
   "metadata": {},
   "source": [
    "## POST POST-PROCESSING prototype"
   ]
  },
  {
   "cell_type": "code",
   "execution_count": 10,
   "metadata": {},
   "outputs": [],
   "source": [
    "cytoplasm_mask = label_bool_as_uint16(cleaned_img2)"
   ]
  },
  {
   "attachments": {},
   "cell_type": "markdown",
   "metadata": {},
   "source": [
    "## Visualize with `napari` 1\n",
    "Visualize the first-pass segmentation and labeling with `napari`."
   ]
  },
  {
   "cell_type": "code",
   "execution_count": 13,
   "metadata": {},
   "outputs": [
    {
     "name": "stderr",
     "output_type": "stream",
     "text": [
      "WARNING: QWindowsWindow::setGeometry: Unable to set geometry 2172x1322-1152-1608 (frame: 2194x1378-1163-1653) on QWidgetWindow/\"_QtMainWindowClassWindow\" on \"\\\\.\\DISPLAY2\". Resulting geometry: 2606x1587-1150-1601 (frame: 2628x1643-1161-1646) margins: 11, 45, 11, 11 minimum size: 385x498 MINMAXINFO maxSize=0,0 maxpos=0,0 mintrack=792,1052 maxtrack=0,0)\n",
      "18-Jan-24 11:30:45 - vispy    - WARNING  - QWindowsWindow::setGeometry: Unable to set geometry 2172x1322-1152-1608 (frame: 2194x1378-1163-1653) on QWidgetWindow/\"_QtMainWindowClassWindow\" on \"\\\\.\\DISPLAY2\". Resulting geometry: 2606x1587-1150-1601 (frame: 2628x1643-1161-1646) margins: 11, 45, 11, 11 minimum size: 385x498 MINMAXINFO maxSize=0,0 maxpos=0,0 mintrack=792,1052 maxtrack=0,0)\n"
     ]
    },
    {
     "name": "stdout",
     "output_type": "stream",
     "text": [
      "masks_A.json, \n",
      "selecting 0: 20230817_C2-123_unconditioned_well 2_cell 1_50 uM NaAsO_Linear unmixing_0_cmle.ome:masks_A\n",
      "btn_run_clicked - 0: {'rescale': True, 'weight_ch0': 1, 'weight_ch1': 4, 'weight_ch2': 1, 'weight_ch3': 1, 'weight_ch4': 0, 'weight_ch5': 2, 'weight_ch6': 0, 'weight_ch7': 0, 'weight_ch8': 0, 'weight_ch9': 0}\n",
      "selecting 1: Create composite image\n",
      "btn_run_clicked - 1: {'gauss_sigma': 0.0, 'median_size': 0}\n",
      "selecting 2: Rescale and smooth image\n",
      "btn_run_clicked - 2: None\n",
      "selecting 3: Log transform + Scharr edge detection\n",
      "btn_run_clicked - 3: {'cutoff_size': 50, 'global_method': 'ave_tri_med', 'local_adjust': 0.05}\n",
      "selecting 3: Log transform + Scharr edge detection\n",
      "btn_run_clicked - 3: {'cutoff_size': 50, 'global_method': 'ave_tri_med', 'local_adjust': 0.1}\n",
      "btn_run_clicked - 3: {'cutoff_size': 50, 'global_method': 'ave_tri_med', 'local_adjust': 0.1}\n",
      "btn_run_clicked - 3: {'cutoff_size': 500, 'global_method': 'ave_tri_med', 'local_adjust': 0.1}\n",
      "selecting 0: -20230817_C2-123_unconditioned_well 2_cell 1_50 uM NaAsO_Linear unmixing_0_cmle.ome:masks_A\n",
      "btn_run_clicked - 0: {'rescale': True, 'weight_ch0': 1, 'weight_ch1': 4, 'weight_ch2': 1, 'weight_ch3': 1, 'weight_ch4': 0, 'weight_ch5': 2, 'weight_ch6': 0, 'weight_ch7': 0, 'weight_ch8': 0, 'weight_ch9': 0}\n",
      "selecting 1: Create composite image\n",
      "btn_run_clicked - 1: {'gauss_sigma': 0.0, 'median_size': 0}\n",
      "selecting 2: Rescale and smooth image\n",
      "btn_run_clicked - 2: None\n"
     ]
    }
   ],
   "source": [
    "viewer = napari.view_image(img_data)"
   ]
  },
  {
   "cell_type": "code",
   "execution_count": 12,
   "metadata": {},
   "outputs": [
    {
     "data": {
      "text/plain": [
       "<Labels layer 'cytoplasm_mask' at 0x21f31fca290>"
      ]
     },
     "execution_count": 12,
     "metadata": {},
     "output_type": "execute_result"
    },
    {
     "name": "stderr",
     "output_type": "stream",
     "text": [
      "c:\\Users\\Shannon\\anaconda3\\envs\\infer-subc\\lib\\site-packages\\napari\\utils\\_proxies.py:188: FutureWarning: This event will be removed in 0.5.0. Please use viewer.layers.events instead\n",
      "  return self.create(self.__wrapped__(*args, **kwargs))\n"
     ]
    },
    {
     "name": "stdout",
     "output_type": "stream",
     "text": [
      "masks_A.json, \n",
      "selecting 0: img_data:masks_A\n",
      "btn_run_clicked - 0: {'rescale': True, 'weight_ch0': 1, 'weight_ch1': 4, 'weight_ch2': 1, 'weight_ch3': 1, 'weight_ch4': 0, 'weight_ch5': 2, 'weight_ch6': 0, 'weight_ch7': 0, 'weight_ch8': 0, 'weight_ch9': 0}\n",
      "selecting 1: Create composite image\n",
      "btn_run_clicked - 1: {'gauss_sigma': 0.0, 'median_size': 0}\n",
      "selecting 2: Rescale and smooth image\n",
      "btn_run_clicked - 2: None\n",
      "selecting 3: Log transform + Scharr edge detection\n",
      "btn_run_clicked - 3: {'cutoff_size': 50, 'global_method': 'ave_tri_med', 'local_adjust': 0.05}\n",
      "btn_run_clicked - 3: {'cutoff_size': 50, 'global_method': 'ave_tri_med', 'local_adjust': 0.05}\n",
      "btn_run_clicked - 3: {'cutoff_size': 50, 'global_method': 'ave_tri_med', 'local_adjust': 0.05}\n"
     ]
    }
   ],
   "source": [
    "viewer.add_image(\n",
    "    composite_cellmask)\n",
    "\n",
    "viewer.add_labels(\n",
    "    cytoplasm_mask,\n",
    "    opacity=0.3)"
   ]
  },
  {
   "attachments": {},
   "cell_type": "markdown",
   "metadata": {},
   "source": [
    "## SAVE inferred nuclei to .tif file\n",
    "\n",
    "Based on the _prototyping_ above define the function to infer nuclei.  \n"
   ]
  },
  {
   "cell_type": "code",
   "execution_count": 12,
   "metadata": {},
   "outputs": [
    {
     "name": "stdout",
     "output_type": "stream",
     "text": [
      "saved file: 20221027_C2-107_well_1_cell_1_untreated_Linear_unmixing_decon.ome-cyto\n"
     ]
    }
   ],
   "source": [
    "out_file_n = export_inferred_organelle(cytoplasm_mask, \"cyto\", meta_dict, out_data_path)"
   ]
  },
  {
   "attachments": {},
   "cell_type": "markdown",
   "metadata": {},
   "source": [
    "----------\n",
    "## DEFINE `infer_cytoplasm_fromcomposite` function\n",
    "\n",
    "Based on the _prototyping_ above define the function to infer nuclei. \n",
    "\n",
    "> NOTE: these functions mainly serve for downstream prototyping in the notebooks. Each step above has an independent function that is implemented in the plugin for easy of use."
   ]
  },
  {
   "cell_type": "code",
   "execution_count": 13,
   "metadata": {},
   "outputs": [],
   "source": [
    "##########################\n",
    "# infer_cytoplasm_fromcomposite\n",
    "# alternative workflow \"a\"\n",
    "##########################\n",
    "def _infer_cytoplasm_fromcomposite(in_img: np.ndarray,\n",
    "                                  weights: list[int],\n",
    "                                  median_sz: int,\n",
    "                                  gauss_sig: float,\n",
    "                                  mo_method: str,\n",
    "                                  mo_adjust: float,\n",
    "                                  mo_cutoff_size: int,\n",
    "                                  min_hole_w: int,\n",
    "                                  max_hole_w: int,\n",
    "                                  small_obj_w: int,\n",
    "                                  fill_filter_method: str\n",
    "                                  ) -> np.ndarray:\n",
    "    \"\"\"\n",
    "    Procedure to infer cellmask from linear unmixed input.\n",
    "\n",
    "    Parameters\n",
    "    ------------\n",
    "    in_img: \n",
    "        a 3d image containing all the channels\n",
    "    weights:\n",
    "        a list of int that corresond to the weights for each channel in the composite; use 0 if a channel should not be included in the composite image\n",
    "    nuclei_labels: \n",
    "        a 3d image containing the inferred nuclei labels\n",
    "    median_sz: \n",
    "        width of median filter for _cellmask_ signal\n",
    "    gauss_sig: \n",
    "        sigma for gaussian smoothing of _cellmask_ signal\n",
    "    mo_method: \n",
    "         which method to use for calculating global threshold. Options include:\n",
    "         \"triangle\" (or \"tri\"), \"median\" (or \"med\"), and \"ave_tri_med\" (or \"ave\").\n",
    "         \"ave\" refers the average of \"triangle\" threshold and \"mean\" threshold.\n",
    "    mo_adjust: \n",
    "        Masked Object threshold `local_adjust`\n",
    "    mo_cutoff_size: \n",
    "        Masked Object threshold `size_min`\n",
    "    max_hole_w: \n",
    "        hole filling cutoff for cellmask signal post-processing\n",
    "    small_obj_w: \n",
    "        minimu object size cutoff for cellmask signal post-processing\n",
    "    watershed_method:\n",
    "        determines if the watershed should be run 'sice-by-slice' or in '3D' \n",
    "\n",
    "    Returns\n",
    "    -------------\n",
    "    cellmask_mask:\n",
    "        a logical/labels object defining boundaries of cellmask\n",
    "\n",
    "    \"\"\"\n",
    "    ###################\n",
    "    # EXTRACT\n",
    "    ###################\n",
    "    struct_img = weighted_aggregate(in_img, *weights)\n",
    "\n",
    "    ###################\n",
    "    # PRE_PROCESSING\n",
    "    ###################                         \n",
    "    struct_img = scale_and_smooth(struct_img,\n",
    "                                   median_size = median_sz, \n",
    "                                   gauss_sigma = gauss_sig)\n",
    "    \n",
    "\n",
    "    struct_img_non_lin = non_linear_cellmask_transform(struct_img)\n",
    "\n",
    "    ###################\n",
    "    # CORE_PROCESSING\n",
    "    ###################\n",
    "    struct_obj = masked_object_thresh(struct_img_non_lin, \n",
    "                                      global_method=mo_method, \n",
    "                                      cutoff_size=mo_cutoff_size, \n",
    "                                      local_adjust=mo_adjust)               \n",
    "\n",
    "    ###################\n",
    "    # POST_PROCESSING\n",
    "    ###################\n",
    "    struct_obj = fill_and_filter_linear_size(struct_obj, \n",
    "                                             hole_min=min_hole_w, \n",
    "                                             hole_max=max_hole_w, \n",
    "                                             min_size= small_obj_w,\n",
    "                                             method=fill_filter_method)\n",
    "\n",
    "    ###################\n",
    "    # POST- POST_PROCESSING\n",
    "    ###################\n",
    "    cellmask_out = label_bool_as_uint16(struct_obj)\n",
    "\n",
    "    return cellmask_out"
   ]
  },
  {
   "attachments": {},
   "cell_type": "markdown",
   "metadata": {},
   "source": [
    "## DEFINE `_fixed_infer_cytoplasm_fromcomposite` function\n",
    "\n",
    "Based on the _prototyping_ above define the function to infer cellmask. with a *fixed* set of parameters for each step in the procedure.  That is they are all \"hard coded\""
   ]
  },
  {
   "cell_type": "code",
   "execution_count": 14,
   "metadata": {},
   "outputs": [],
   "source": [
    "##########################\n",
    "# fixed_infer_cytoplasm_fromcomposite\n",
    "# alternative workflow \"a\"\n",
    "##########################\n",
    "def _fixed_infer_cytoplasm_fromcomposite(in_img: np.ndarray) -> np.ndarray:\n",
    "    \"\"\"\n",
    "    Procedure to infer cellmask from linearly unmixed input, with a *fixed* set of parameters for each step in the procedure.  i.e. \"hard coded\"\n",
    "\n",
    "    Parameters\n",
    "    ------------\n",
    "    in_img: \n",
    "        a 3d image containing all the channels\n",
    "    nuclei_labels: \"\n",
    "        a 3d image containing the inferred nuclei\n",
    "\n",
    "    Returns\n",
    "    -------------\n",
    "    cellmask_mask:\n",
    "        a logical/labels object defining boundaries of cellmask\n",
    "    \"\"\"\n",
    "    \n",
    "\n",
    "    ###################\n",
    "    # PARAMETERS\n",
    "    ###################   \n",
    "    weights = [0, 4, 1, 1, 2, 2]\n",
    "    median_sz = 0\n",
    "    gauss_sig = 0\n",
    "    mo_method = \"ave\"\n",
    "    mo_adjust = 0.2\n",
    "    mo_cutoff_size = 50\n",
    "    hole_min_width = 0\n",
    "    hole_max_width = 30\n",
    "    small_obj_w = 10\n",
    "    fill_filter_method = '3D'\n",
    "\n",
    "    cellmask_out = _infer_cytoplasm_fromcomposite(in_img,\n",
    "                                                weights,\n",
    "                                                median_sz,\n",
    "                                                gauss_sig,\n",
    "                                                mo_method,\n",
    "                                                mo_adjust,\n",
    "                                                mo_cutoff_size,\n",
    "                                                hole_min_width,\n",
    "                                                hole_max_width,\n",
    "                                                small_obj_w,\n",
    "                                                fill_filter_method) \n",
    "\n",
    "    return cellmask_out"
   ]
  },
  {
   "attachments": {},
   "cell_type": "markdown",
   "metadata": {},
   "source": [
    "## TEST `_infer_cellmask_fromcomposite`  function defined above"
   ]
  },
  {
   "cell_type": "code",
   "execution_count": 15,
   "metadata": {},
   "outputs": [
    {
     "data": {
      "text/plain": [
       "dtype('uint16')"
      ]
     },
     "execution_count": 15,
     "metadata": {},
     "output_type": "execute_result"
    }
   ],
   "source": [
    "_CY_object =  _fixed_infer_cytoplasm_fromcomposite(img_data) \n",
    "\n",
    "_CY_object.dtype"
   ]
  },
  {
   "cell_type": "code",
   "execution_count": 16,
   "metadata": {},
   "outputs": [
    {
     "data": {
      "text/plain": [
       "True"
      ]
     },
     "execution_count": 16,
     "metadata": {},
     "output_type": "execute_result"
    }
   ],
   "source": [
    "np.all(cytoplasm_mask == _CY_object)"
   ]
  },
  {
   "attachments": {},
   "cell_type": "markdown",
   "metadata": {},
   "source": [
    "--------------------------\n",
    "\n",
    "# TEST `infer_cytoplasm_fromcomposite` exported functions\n"
   ]
  },
  {
   "cell_type": "code",
   "execution_count": 17,
   "metadata": {},
   "outputs": [],
   "source": [
    "from infer_subc.organelles.cytoplasm import fixed_infer_cytoplasm_fromcomposite\n",
    "\n",
    "CY_object =  fixed_infer_cytoplasm_fromcomposite(img_data) "
   ]
  },
  {
   "cell_type": "code",
   "execution_count": 18,
   "metadata": {},
   "outputs": [
    {
     "data": {
      "text/plain": [
       "True"
      ]
     },
     "execution_count": 18,
     "metadata": {},
     "output_type": "execute_result"
    }
   ],
   "source": [
    "np.all(_CY_object == CY_object)"
   ]
  },
  {
   "attachments": {},
   "cell_type": "markdown",
   "metadata": {},
   "source": [
    "## Visualize  2\n"
   ]
  },
  {
   "cell_type": "code",
   "execution_count": 19,
   "metadata": {},
   "outputs": [
    {
     "data": {
      "text/plain": [
       "<Labels layer 'CY_object' at 0x19053d7fd60>"
      ]
     },
     "execution_count": 19,
     "metadata": {},
     "output_type": "execute_result"
    }
   ],
   "source": [
    "viewer.add_labels(\n",
    "    _CY_object,\n",
    "    opacity=0.3)\n",
    "\n",
    "viewer.add_labels(\n",
    "    CY_object,\n",
    "    opacity=0.3)"
   ]
  },
  {
   "cell_type": "code",
   "execution_count": 20,
   "metadata": {},
   "outputs": [
    {
     "data": {
      "image/png": "[encoded data removed]",
      "text/html": [
       "<img src=\"data:image/png;base64,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\"></img>"
      ],
      "text/plain": [
       "<napari.utils.notebook_display.NotebookScreenshot at 0x19042070910>"
      ]
     },
     "execution_count": 20,
     "metadata": {},
     "output_type": "execute_result"
    }
   ],
   "source": [
    "from napari.utils.notebook_display import nbscreenshot\n",
    "\n",
    "nbscreenshot(viewer, canvas_only=True)"
   ]
  },
  {
   "cell_type": "code",
   "execution_count": 21,
   "metadata": {},
   "outputs": [],
   "source": [
    "viewer.close()"
   ]
  },
  {
   "attachments": {},
   "cell_type": "markdown",
   "metadata": {},
   "source": [
    "-------------\n",
    "## SUMMARY\n",
    "\n",
    "The above details how the cytoplasm object is inferred from a composite image of only cytoplasm organelle markers.  \n",
    "\n",
    "### NEXT: INFER cellmask (from cytoplasm)\n",
    "\n",
    "Proceed to [02a_infer_cellmask_from-cytoplasm.ipynb](./02a_infer_cellmask_from-cytoplasm.ipynb)\n"
   ]
  }
 ],
 "metadata": {
  "kernelspec": {
   "display_name": "infer-subc",
   "language": "python",
   "name": "python3"
  },
  "language_info": {
   "codemirror_mode": {
    "name": "ipython",
    "version": 3
   },
   "file_extension": ".py",
   "mimetype": "text/x-python",
   "name": "python",
   "nbconvert_exporter": "python",
   "pygments_lexer": "ipython3",
   "version": "3.10.11"
  },
  "vscode": {
   "interpreter": {
    "hash": "182b63330db9794b59aa776c624821fb477d854325ad145fa5385f0d56c0c6f3"
   }
  }
 },
 "nbformat": 4,
 "nbformat_minor": 2
}
