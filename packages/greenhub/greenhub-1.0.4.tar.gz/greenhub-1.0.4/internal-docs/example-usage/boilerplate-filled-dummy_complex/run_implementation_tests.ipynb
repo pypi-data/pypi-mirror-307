{
 "cells": [
  {
   "metadata": {
    "ExecuteTime": {
     "end_time": "2024-08-02T09:24:08.347198Z",
     "start_time": "2024-08-02T09:24:08.345014Z"
    }
   },
   "cell_type": "code",
   "source": [
    "import greenhub as gh\n",
    "import pandas as pd\n",
    "import pickle"
   ],
   "id": "1136143bf3ccdf4a",
   "execution_count": 21,
   "outputs": []
  },
  {
   "metadata": {},
   "cell_type": "markdown",
   "source": "# 1. Fetch Data and Create Feature Vector",
   "id": "e3fa63c84c96fdbc"
  },
  {
   "metadata": {},
   "cell_type": "markdown",
   "source": "## Setup",
   "id": "2cb6cc42ef67dad9"
  },
  {
   "metadata": {
    "ExecuteTime": {
     "end_time": "2024-08-02T09:24:08.372024Z",
     "start_time": "2024-08-02T09:24:08.370023Z"
    }
   },
   "cell_type": "code",
   "source": [
    "# Our model will predict for the state SANTA FE in AR \n",
    "COUNTRY = 'AR'\n",
    "STATE = 'SANTA FE'\n",
    "SPATIAL_RESOLUTION = 'state'\n",
    "START_YEAR = 2010"
   ],
   "id": "55a56713c061ca7c",
   "execution_count": 22,
   "outputs": []
  },
  {
   "metadata": {
    "ExecuteTime": {
     "end_time": "2024-08-02T09:24:08.747569Z",
     "start_time": "2024-08-02T09:24:08.373301Z"
    }
   },
   "cell_type": "code",
   "source": [
    "# Initialize greenhub sdk\n",
    "gh.initialize(\"-\")"
   ],
   "id": "878c8f1fbf003658",
   "execution_count": 23,
   "outputs": []
  },
  {
   "metadata": {},
   "cell_type": "markdown",
   "source": "## VI Data",
   "id": "2131062b9bc4f6fd"
  },
  {
   "metadata": {
    "ExecuteTime": {
     "end_time": "2024-08-02T09:24:31.370229Z",
     "start_time": "2024-08-02T09:24:08.748586Z"
    }
   },
   "cell_type": "code",
   "source": [
    "# Fetch VI data\n",
    "vi_df = gh.get_vi_data(country=COUNTRY, start_year=START_YEAR, spatial_resolution=SPATIAL_RESOLUTION)\n",
    "\n",
    "# Row selection, renaming etc.\n",
    "vi_df = vi_df[['EVI', 'NDVI', 'State', 'Year', 'Month']]\n",
    "vi_df['Year'] = pd.to_numeric(vi_df['Year'])\n",
    "vi_df[vi_df['State'] == STATE]"
   ],
   "id": "461bb99c4d828e28",
   "execution_count": 24,
   "outputs": []
  },
  {
   "metadata": {},
   "cell_type": "markdown",
   "source": "## Soil Data",
   "id": "1ba2571473f85c0c"
  },
  {
   "metadata": {
    "ExecuteTime": {
     "end_time": "2024-08-02T09:24:33.338982Z",
     "start_time": "2024-08-02T09:24:31.373328Z"
    }
   },
   "cell_type": "code",
   "source": [
    "# Fetch soil data\n",
    "soil_df = gh.get_soil_data(country=COUNTRY, spatial_resolution=SPATIAL_RESOLUTION, layer='D1')\n",
    "\n",
    "# Row selection, renaming etc.\n",
    "selected_cols = [col for col in soil_df.columns if (col.endswith('_avg') and not col.startswith('TP-')) or col in ['Layer', 'NAME_1']]\n",
    "soil_df = soil_df[selected_cols]\n",
    "soil_df.columns = soil_df.columns.str.replace('_avg', '')\n",
    "soil_df.rename({'NAME_1': 'State'}, axis=1, inplace=True)\n",
    "soil_df['State'] = soil_df['State'].apply(lambda x: x.upper())\n",
    "soil_df"
   ],
   "id": "ef2f9138e83b7ad9",
   "execution_count": 25,
   "outputs": []
  },
  {
   "metadata": {},
   "cell_type": "markdown",
   "source": "## Climate Data",
   "id": "9e89fd3253cd0633"
  },
  {
   "metadata": {
    "ExecuteTime": {
     "end_time": "2024-08-02T09:27:29.151605Z",
     "start_time": "2024-08-02T09:24:33.339911Z"
    }
   },
   "cell_type": "code",
   "source": [
    "# Fetch climate data\n",
    "climate_df = gh.get_climate_data(country='AR', start_year=2010, end_year=2023, spatial_resolution='state')\n",
    "\n",
    "# Row selection, renaming etc.\n",
    "climate_df = climate_df.drop(columns=['CountryCode'])\n",
    "climate_df['Year'] = pd.to_numeric(climate_df['Year'])\n",
    "climate_df"
   ],
   "id": "78dbb9ab7a487d76",
   "execution_count": 26,
   "outputs": []
  },
  {
   "metadata": {},
   "cell_type": "markdown",
   "source": "## Merge all features",
   "id": "efeceab600f88dbb"
  },
  {
   "metadata": {
    "ExecuteTime": {
     "end_time": "2024-08-02T09:27:29.178292Z",
     "start_time": "2024-08-02T09:27:29.152674Z"
    }
   },
   "cell_type": "code",
   "source": [
    "# Merge\n",
    "merged_df = pd.merge(vi_df, soil_df, on='State', how='left')\n",
    "merged_df = pd.merge(merged_df, climate_df, on=['Year', 'Month', 'State'], how='left')\n",
    "merged_df = merged_df.dropna()\n",
    "\n",
    "# Create a pivot table\n",
    "pivot_df = merged_df.pivot_table(index=['Year', 'State'], columns='Month', aggfunc='first')\n",
    "\n",
    "# Flatten the MultiIndex columns\n",
    "pivot_df.columns = ['{}_Month{}'.format(col[0], int(col[1])) for col in pivot_df.columns]\n",
    "\n",
    "# Reset index to turn MultiIndex into columns\n",
    "pivot_df.reset_index(inplace=True)\n",
    "\n",
    "# Fix 12x columns for static values\n",
    "squash_cols = ['Drain', 'CFRAG', 'SDTO', 'STPC', 'CLPC', 'BULK', 'TAWC','CECS', 'BSAT', 'ESP',\n",
    "               'CECc', 'PHAQ', 'TCEQ', 'GYPS', 'ELCO', 'ORGC', 'TOTN', 'CNrt', 'ECEC', 'ALSA', 'Value']\n",
    "pivot_df = pivot_df.rename({f'{squash}_Month1': f'{squash}' for squash in squash_cols}, axis=1)\n",
    "pivot_df = pivot_df.drop(columns=[col for col in pivot_df.columns if any(col.startswith(f'{squash}_Month') for squash in squash_cols)])\n",
    "\n",
    "pivot_df"
   ],
   "id": "99a378843b928f22",
   "execution_count": 27,
   "outputs": []
  },
  {
   "metadata": {},
   "cell_type": "markdown",
   "source": "## Limit the feature matrix to Santa Fe",
   "id": "307984345279050a"
  },
  {
   "metadata": {
    "ExecuteTime": {
     "end_time": "2024-08-02T09:27:29.188049Z",
     "start_time": "2024-08-02T09:27:29.180653Z"
    }
   },
   "cell_type": "code",
   "source": [
    "single_state_df = pivot_df[pivot_df['State'] == 'SANTA FE']\n",
    "single_state_df.head()"
   ],
   "id": "6bc61c7d2eff77de",
   "execution_count": 28,
   "outputs": []
  },
  {
   "metadata": {},
   "cell_type": "markdown",
   "source": "## Final Feature Vector",
   "id": "300be790a4746b06"
  },
  {
   "metadata": {
    "ExecuteTime": {
     "end_time": "2024-08-02T09:27:29.195464Z",
     "start_time": "2024-08-02T09:27:29.188887Z"
    }
   },
   "cell_type": "code",
   "source": [
    "feature_vector = single_state_df.drop(columns=['Year', 'State'])\n",
    "feature_vector = feature_vector.dropna()\n",
    "feature_vector"
   ],
   "id": "f7282fe344a0a55",
   "execution_count": 29,
   "outputs": []
  },
  {
   "metadata": {},
   "cell_type": "markdown",
   "source": "# 2 Load LR Model",
   "id": "40a5b105d2d2e07"
  },
  {
   "metadata": {
    "ExecuteTime": {
     "end_time": "2024-08-02T09:27:29.198538Z",
     "start_time": "2024-08-02T09:27:29.196106Z"
    }
   },
   "cell_type": "code",
   "source": [
    "# Load the pickle file of the LR model\n",
    "with open('linear_regression.pkl', 'rb') as f:\n",
    "    lr_model = pickle.load(f)"
   ],
   "id": "2095658c32fa5f9d",
   "execution_count": 30,
   "outputs": []
  },
  {
   "metadata": {},
   "cell_type": "markdown",
   "source": "# 3 Run LR Model",
   "id": "103d018ebb63477c"
  },
  {
   "metadata": {
    "ExecuteTime": {
     "end_time": "2024-08-02T09:27:29.203158Z",
     "start_time": "2024-08-02T09:27:29.200502Z"
    }
   },
   "cell_type": "code",
   "source": [
    "# Pass the feature vector to the model and make predictions\n",
    "prediction = lr_model.predict(feature_vector)\n",
    "print(prediction)"
   ],
   "id": "e9615a3aed78de2d",
   "execution_count": 31,
   "outputs": []
  },
  {
   "metadata": {
    "ExecuteTime": {
     "end_time": "2024-08-02T09:27:29.204969Z",
     "start_time": "2024-08-02T09:27:29.203822Z"
    }
   },
   "cell_type": "code",
   "source": "",
   "id": "997fd52021524c3c",
   "execution_count": 31,
   "outputs": []
  }
 ],
 "metadata": {
  "kernelspec": {
   "display_name": "Python 3",
   "language": "python",
   "name": "python3"
  },
  "language_info": {
   "codemirror_mode": {
    "name": "ipython",
    "version": 2
   },
   "file_extension": ".py",
   "mimetype": "text/x-python",
   "name": "python",
   "nbconvert_exporter": "python",
   "pygments_lexer": "ipython2",
   "version": "2.7.6"
  }
 },
 "nbformat": 4,
 "nbformat_minor": 5
}
