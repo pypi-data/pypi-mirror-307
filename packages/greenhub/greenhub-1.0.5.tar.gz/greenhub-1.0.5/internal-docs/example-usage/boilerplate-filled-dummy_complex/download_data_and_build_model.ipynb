{
 "cells": [
  {
   "metadata": {},
   "cell_type": "markdown",
   "source": [
    "# Example Model for Wheat Yield in AR, Santa Fe using Greenhub SDK\n",
    "## Features: VI, Soil, Climate"
   ],
   "id": "8b7fd852c5edee0d"
  },
  {
   "metadata": {
    "ExecuteTime": {
     "end_time": "2024-11-11T15:05:18.135601Z",
     "start_time": "2024-11-11T15:05:14.365438Z"
    }
   },
   "cell_type": "code",
   "source": [
    "import greenhub as gh\n",
    "import pandas as pd\n",
    "import pickle\n",
    "import os\n",
    "\n",
    "from matplotlib import pyplot as plt\n",
    "from sklearn.linear_model import LinearRegression\n",
    "from sklearn.metrics import mean_squared_error, r2_score, mean_absolute_error\n",
    "from sklearn.model_selection import train_test_split\n",
    "from tqdm import tqdm"
   ],
   "id": "1136143bf3ccdf4a",
   "execution_count": 1,
   "outputs": []
  },
  {
   "metadata": {},
   "cell_type": "markdown",
   "source": [
    "# 1. Fetch Data"
   ],
   "id": "e3fa63c84c96fdbc"
  },
  {
   "metadata": {
    "ExecuteTime": {
     "end_time": "2024-11-11T15:07:34.267495Z",
     "start_time": "2024-11-11T15:07:29.022347Z"
    }
   },
   "cell_type": "code",
   "source": [
    "# Initialize greenhub sdk\n",
    "gh.initialize(\"6X9oFeB88pTLdeTcg997uCodlNFP9l1D\")"
   ],
   "id": "878c8f1fbf003658",
   "execution_count": 2,
   "outputs": [
    {
     "name": "stdout",
     "output_type": "stream",
     "text": [
      "Using api key auth\n"
     ]
    }
   ]
  },
  {
   "metadata": {},
   "cell_type": "markdown",
   "source": [
    "## 1.1 Load Historical Yield Data (Training Targets)"
   ],
   "id": "396a3e651093c503"
  },
  {
   "metadata": {
    "ExecuteTime": {
     "end_time": "2024-08-02T09:07:16.716792Z",
     "start_time": "2024-08-02T09:07:16.688427Z"
    }
   },
   "cell_type": "code",
   "source": [
    "# Wheat Yield Data\n",
    "yield_data = gh."
   ],
   "id": "1c379f9439787eca",
   "execution_count": 6,
   "outputs": []
  },
  {
   "metadata": {},
   "cell_type": "markdown",
   "source": [
    "## 1.2 Load Feature Data"
   ],
   "id": "f3495e0fdc3f71b4"
  },
  {
   "metadata": {},
   "cell_type": "markdown",
   "source": [
    "### VI Data"
   ],
   "id": "2131062b9bc4f6fd"
  },
  {
   "metadata": {
    "ExecuteTime": {
     "end_time": "2024-06-25T14:19:49.017272Z",
     "start_time": "2024-06-25T14:19:47.864297Z"
    }
   },
   "cell_type": "code",
   "source": [
    "# Fetch VI data\n",
    "vi_df = gh.get_vi_data(country='AR', start_year=2010, end_year=2023, spatial_resolution='state')\n",
    "vi_df"
   ],
   "id": "461bb99c4d828e28",
   "execution_count": 58,
   "outputs": []
  },
  {
   "metadata": {
    "ExecuteTime": {
     "end_time": "2024-06-25T14:19:49.046552Z",
     "start_time": "2024-06-25T14:19:49.019540Z"
    }
   },
   "cell_type": "code",
   "source": [
    "# Row selection, renaming etc.\n",
    "vi_df = vi_df[['EVI', 'NDVI', 'State', 'Year', 'Month']]\n",
    "vi_df['Year'] = pd.to_numeric(vi_df['Year'])\n",
    "vi_df[vi_df['State'] == 'SANTA FE']"
   ],
   "id": "3b6baf81f26e4a31",
   "execution_count": 59,
   "outputs": []
  },
  {
   "metadata": {},
   "cell_type": "markdown",
   "source": [
    "### Soil Data"
   ],
   "id": "1ba2571473f85c0c"
  },
  {
   "metadata": {},
   "cell_type": "code",
   "execution_count": null,
   "source": [
    "req = {\n",
    "    'VI': ['EVI', 'NDVI'],\n",
    "    'Soil': ['D1_mean'],\n",
    "}\n",
    "\n",
    "gh.get_feature_vec(req, spatial_resolution='state', country='AR', start_year=2010, end_year=2023)"
   ],
   "id": "8d8d45c26925097e",
   "outputs": []
  },
  {
   "metadata": {
    "ExecuteTime": {
     "end_time": "2024-06-25T14:19:49.222830Z",
     "start_time": "2024-06-25T14:19:49.049342Z"
    }
   },
   "cell_type": "code",
   "source": [
    "# Fetch soil data\n",
    "soil_df = gh.get_soil_data(country='AR', spatial_resolution='state', layer='D1')\n",
    "soil_df"
   ],
   "id": "ef2f9138e83b7ad9",
   "execution_count": 60,
   "outputs": []
  },
  {
   "metadata": {
    "ExecuteTime": {
     "end_time": "2024-06-25T14:19:49.301524Z",
     "start_time": "2024-06-25T14:19:49.226094Z"
    }
   },
   "cell_type": "code",
   "source": [
    "# Row selection, renaming etc.\n",
    "selected_cols = [col for col in soil_df.columns if (col.endswith('_avg') and not col.startswith('TP-')) or col in ['Layer', 'NAME_1']]\n",
    "soil_df = soil_df[selected_cols]\n",
    "soil_df.columns = soil_df.columns.str.replace('_avg', '')\n",
    "soil_df.rename({'NAME_1': 'State'}, axis=1, inplace=True)\n",
    "soil_df['State'] = soil_df['State'].apply(lambda x: x.upper())\n",
    "soil_df"
   ],
   "id": "d7575bd7e3c6b75c",
   "execution_count": 61,
   "outputs": []
  },
  {
   "metadata": {},
   "cell_type": "markdown",
   "source": [
    "soil_data['State'] = soil_data['State'].apply(lambda x: x.upper())### Climate Data (Temp, Prec, Solar)"
   ],
   "id": "f1088f4584da3386"
  },
  {
   "metadata": {
    "ExecuteTime": {
     "end_time": "2024-06-25T14:19:50.066072Z",
     "start_time": "2024-06-25T14:19:49.304292Z"
    }
   },
   "cell_type": "code",
   "source": [
    "# Fetch climate data\n",
    "climate_df = gh.get_climate_data(country='AR', start_year=2010, end_year=2023, spatial_resolution='state')\n",
    "climate_df"
   ],
   "id": "78dbb9ab7a487d76",
   "execution_count": 62,
   "outputs": []
  },
  {
   "metadata": {
    "ExecuteTime": {
     "end_time": "2024-06-25T14:19:50.119051Z",
     "start_time": "2024-06-25T14:19:50.071462Z"
    }
   },
   "cell_type": "code",
   "source": [
    "# Row selection, renaming etc.\n",
    "climate_df = climate_df.drop(columns=['Unnamed: 0', 'Country'])\n",
    "climate_df['Year'] = pd.to_numeric(climate_df['Year'])\n",
    "climate_df"
   ],
   "id": "4b33f2cceb14b75b",
   "execution_count": 63,
   "outputs": []
  },
  {
   "metadata": {},
   "cell_type": "markdown",
   "source": [
    "### Merge all features"
   ],
   "id": "efeceab600f88dbb"
  },
  {
   "metadata": {
    "ExecuteTime": {
     "end_time": "2024-06-25T14:19:52.714385Z",
     "start_time": "2024-06-25T14:19:52.644022Z"
    }
   },
   "cell_type": "code",
   "source": [
    "# Merge\n",
    "merged_df = pd.merge(wheat_df, vi_df, on=['Year', 'State'], how='left')\n",
    "merged_df = pd.merge(merged_df, soil_df, on='State', how='left')\n",
    "merged_df = pd.merge(merged_df, climate_df, on=['Year', 'Month', 'State'], how='left')\n",
    "merged_df = merged_df.dropna()\n",
    "merged_df"
   ],
   "id": "99a378843b928f22",
   "execution_count": 64,
   "outputs": []
  },
  {
   "metadata": {
    "ExecuteTime": {
     "end_time": "2024-06-25T14:19:56.936545Z",
     "start_time": "2024-06-25T14:19:56.844925Z"
    }
   },
   "cell_type": "code",
   "source": [
    "# Create a pivot table\n",
    "pivot_df = merged_df.pivot_table(index=['Year', 'State'], columns='Month', aggfunc='first')\n",
    "\n",
    "# Flatten the MultiIndex columns\n",
    "pivot_df.columns = ['{}_Month{}'.format(col[0], int(col[1])) for col in pivot_df.columns]\n",
    "\n",
    "# Reset index to turn MultiIndex into columns\n",
    "pivot_df.reset_index(inplace=True)\n",
    "\n",
    "# Fix 12x columns for static values\n",
    "squash_cols = ['Drain', 'CFRAG', 'SDTO', 'STPC', 'CLPC', 'BULK', 'TAWC','CECS', 'BSAT', 'ESP',\n",
    "               'CECc', 'PHAQ', 'TCEQ', 'GYPS', 'ELCO', 'ORGC', 'TOTN', 'CNrt', 'ECEC', 'ALSA', 'Value']\n",
    "pivot_df = pivot_df.rename({f'{squash}_Month1': f'{squash}' for squash in squash_cols}, axis=1)\n",
    "pivot_df = pivot_df.drop(columns=[col for col in pivot_df.columns if any(col.startswith(f'{squash}_Month') for squash in squash_cols)])\n",
    "\n",
    "pivot_df"
   ],
   "id": "fb2d200dab1f408e",
   "execution_count": 65,
   "outputs": []
  },
  {
   "metadata": {},
   "cell_type": "markdown",
   "source": [
    "## Limit the feature matrix to Santa Fe"
   ],
   "id": "307984345279050a"
  },
  {
   "metadata": {
    "ExecuteTime": {
     "end_time": "2024-06-25T14:19:56.970797Z",
     "start_time": "2024-06-25T14:19:56.938577Z"
    }
   },
   "cell_type": "code",
   "source": [
    "single_state_df = pivot_df[pivot_df['State'] == 'SANTA FE']\n",
    "single_state_df.head()"
   ],
   "id": "6bc61c7d2eff77de",
   "execution_count": 66,
   "outputs": []
  },
  {
   "metadata": {
    "ExecuteTime": {
     "end_time": "2024-06-25T14:19:56.981165Z",
     "start_time": "2024-06-25T14:19:56.973529Z"
    }
   },
   "cell_type": "code",
   "source": [
    "print(single_state_df.shape)\n",
    "print(\"Dropping na...\")\n",
    "single_state_df = single_state_df.dropna()\n",
    "print(single_state_df.shape)"
   ],
   "id": "2d3b8d9fd14c6c4",
   "execution_count": 67,
   "outputs": []
  },
  {
   "metadata": {},
   "cell_type": "markdown",
   "source": [
    "# 2 Training"
   ],
   "id": "40a5b105d2d2e07"
  },
  {
   "metadata": {},
   "cell_type": "markdown",
   "source": [
    "## 2.1 Fit an LR model"
   ],
   "id": "71d8cf3443375358"
  },
  {
   "metadata": {
    "ExecuteTime": {
     "end_time": "2024-06-25T14:20:11.340633Z",
     "start_time": "2024-06-25T14:20:11.329475Z"
    }
   },
   "cell_type": "code",
   "source": [
    "# Prepare the data\n",
    "df = single_state_df\n",
    "\n",
    "# Splitting the data into features and target\n",
    "X = df.drop(columns=['Year', 'State', 'Value'])\n",
    "y = df['Value']\n",
    "years = df['Year']\n",
    "\n",
    "# Splitting the data into training and testing sets\n",
    "X_train, X_test, y_train, y_test, years_train, years_test = train_test_split(X, y, years, test_size=0.2, random_state=42)"
   ],
   "id": "a9e19dfd96f13d0d",
   "execution_count": 68,
   "outputs": []
  },
  {
   "metadata": {
    "ExecuteTime": {
     "end_time": "2024-06-25T14:20:14.353010Z",
     "start_time": "2024-06-25T14:20:14.333533Z"
    }
   },
   "cell_type": "code",
   "source": [
    "# Fit LR model\n",
    "lr_model = LinearRegression()\n",
    "lr_model.fit(X_train, y_train)"
   ],
   "id": "2095658c32fa5f9d",
   "execution_count": 69,
   "outputs": []
  },
  {
   "metadata": {
    "ExecuteTime": {
     "end_time": "2024-06-25T14:20:16.656378Z",
     "start_time": "2024-06-25T14:20:16.646994Z"
    }
   },
   "cell_type": "code",
   "source": [
    "# Save the model as pickle file\n",
    "with open('linear_regression.pkl', 'wb') as f:\n",
    "    pickle.dump(lr_model, f)"
   ],
   "id": "41a426dc0b59a00b",
   "execution_count": 70,
   "outputs": []
  },
  {
   "metadata": {
    "ExecuteTime": {
     "end_time": "2024-06-25T14:20:17.719506Z",
     "start_time": "2024-06-25T14:20:17.713018Z"
    }
   },
   "cell_type": "code",
   "source": [
    "# Load the pickle file (for testing purposes)\n",
    "with open('linear_regression.pkl', 'rb') as f:\n",
    "    lr_model = pickle.load(f)"
   ],
   "id": "f0ef147e5973367",
   "execution_count": 71,
   "outputs": []
  },
  {
   "metadata": {},
   "cell_type": "markdown",
   "source": [
    "## 2.4 Inspect the LR model"
   ],
   "id": "47744b738c3b5549"
  },
  {
   "metadata": {
    "ExecuteTime": {
     "end_time": "2024-06-25T14:20:21.221643Z",
     "start_time": "2024-06-25T14:20:20.837545Z"
    }
   },
   "cell_type": "code",
   "source": [
    "# Predicting with Linear Regression\n",
    "lr_predictions = lr_model.predict(X_test)\n",
    "lr_mse = mean_squared_error(y_test, lr_predictions)\n",
    "print(f'Linear Regression Test MSE: {lr_mse}')\n",
    "\n",
    "# Compare predictions\n",
    "print(f'Linear Regression Predictions: {lr_predictions[:5]}')\n",
    "\n",
    "# Calculate metrics for Linear Regression\n",
    "lr_mse = mean_squared_error(y_test, lr_predictions)\n",
    "lr_r2 = r2_score(y_test, lr_predictions)\n",
    "lr_mae = mean_absolute_error(y_test, lr_predictions)\n",
    "\n",
    "# Print the metrics\n",
    "print(f'Linear Regression - MSE: {lr_mse}, R²: {lr_r2}, MAE: {lr_mae}')\n",
    "\n",
    "# Plotting the predictions\n",
    "plt.figure(figsize=(14, 6))\n",
    "\n",
    "# Plot for Linear Regression\n",
    "plt.subplot(1, 2, 1)\n",
    "plt.scatter(y_test, lr_predictions, alpha=0.7, label='Predictions')\n",
    "plt.xlabel('True Values')\n",
    "plt.ylabel('Predicted Values')\n",
    "plt.title('Linear Regression Predictions')\n",
    "plt.legend()\n",
    "\n",
    "plt.tight_layout()\n",
    "plt.show()"
   ],
   "id": "ec6789a5709684cb",
   "execution_count": 72,
   "outputs": []
  }
 ],
 "metadata": {
  "kernelspec": {
   "display_name": "Python 3 (ipykernel)",
   "language": "python",
   "name": "python3"
  },
  "language_info": {
   "codemirror_mode": {
    "name": "ipython",
    "version": 2
   },
   "file_extension": ".py",
   "mimetype": "text/x-python",
   "name": "python",
   "nbconvert_exporter": "python",
   "pygments_lexer": "ipython2",
   "version": "2.7.6"
  }
 },
 "nbformat": 4,
 "nbformat_minor": 5
}
